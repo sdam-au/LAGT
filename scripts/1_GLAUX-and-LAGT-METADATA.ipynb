{
 "cells": [
  {
   "cell_type": "markdown",
   "metadata": {
    "colab_type": "text",
    "id": "EbixMMZchOgn"
   },
   "source": [
    "# Requirements"
   ]
  },
  {
   "cell_type": "code",
   "metadata": {
    "colab": {
     "base_uri": "https://localhost:8080/",
     "height": 272
    },
    "colab_type": "code",
    "executionInfo": {
     "elapsed": 9878,
     "status": "ok",
     "timestamp": 1588779837403,
     "user": {
      "displayName": "Vojtěch Kaše",
      "photoUrl": "https://lh3.googleusercontent.com/a-/AOh14Ggz3jS9e7I3GdIEbyBKFtqr9tPdNCwyLBEJwbK8cw=s64",
      "userId": "01399835024022498543"
     },
     "user_tz": -120
    },
    "id": "QWRXmeoNhLsD",
    "outputId": "ae5620d8-2479-4587-c6ed-cdf64706b2a3",
    "ExecuteTime": {
     "end_time": "2024-09-10T13:56:47.860429Z",
     "start_time": "2024-09-10T13:56:47.806803Z"
    }
   },
   "source": [
    "import pandas as pd\n",
    "import os\n",
    "import matplotlib.pyplot as plt\n",
    "from bs4 import BeautifulSoup\n",
    "import re\n",
    "import pickle\n",
    "from collections import defaultdict\n",
    "import requests"
   ],
   "outputs": [],
   "execution_count": 103
  },
  {
   "cell_type": "code",
   "metadata": {
    "ExecuteTime": {
     "end_time": "2024-09-10T15:01:44.538270Z",
     "start_time": "2024-09-10T15:01:40.445440Z"
    }
   },
   "source": [
    "# load LAGT v 3.0, as we will use it as a source for metadata\n",
    "LAGT = pd.read_parquet(\"../data/large_files/LAGT_v3-0.parquet\")"
   ],
   "outputs": [],
   "execution_count": 175
  },
  {
   "cell_type": "code",
   "metadata": {
    "ExecuteTime": {
     "end_time": "2024-09-10T15:01:44.600343Z",
     "start_time": "2024-09-10T15:01:44.564495Z"
    }
   },
   "source": [
    "LAGT.head(5)"
   ],
   "outputs": [
    {
     "data": {
      "text/plain": [
       "   author_id          doc_id                       filename      author  \\\n",
       "2    ogl0001  ogl0001.ogl001  ogl0001.ogl001.1st1K-grc1.xml     Pinytus   \n",
       "8    tlg0005  tlg0005.tlg003  tlg0005.tlg003.1st1K-grc1.xml  Theocritus   \n",
       "9    tlg0006  tlg0006.tlg020  tlg0006.tlg020.1st1K-grc1.xml   Euripides   \n",
       "10   tlg0007  tlg0007.tlg146  tlg0007.tlg146.1st1K-grc1.xml    Plutarch   \n",
       "11   tlg0007  tlg0007.tlg147  tlg0007.tlg147.1st1K-grc1.xml    Plutarch   \n",
       "\n",
       "                                title  \\\n",
       "2     De Epistola Pinyti ad Dionysium   \n",
       "8                              Syrinx   \n",
       "9                           Fragmenta   \n",
       "10  Παροιμίαι αἷς Ἀλεξανδρεῖς ἐχρῶντο   \n",
       "11           Ἐκλογὴ περὶ τῶν ἀδυνάτων   \n",
       "\n",
       "                                               string  wordcount source  \\\n",
       "2   FRAGMENTUM BEATI PINYTI, CNOSSI IN CRETA EPISC...        180   1Kgr   \n",
       "8   Οὐδενὸς εὐνάτειρα Μακροπτολέμοιο δὲ μάτηρ  μαί...         77   1Kgr   \n",
       "9   ποίαν σε φῶμεν γαῖαν ἐκλελοιπότα πόλει ξενοῦσθ...      17708   1Kgr   \n",
       "10  Οἴκοι τὰ Μιλήσια: ἐπὶ τῶν ὅποι μὴ προςήκει τὴν...       2685   1Kgr   \n",
       "11  Κατὰ πετρῶν σπείρεις. Πλίνθον πλύνεις. Δικτύῳ ...        143   1Kgr   \n",
       "\n",
       "                                 lemmatized_sentences lemmata_source  \\\n",
       "2   [[Πινυτός, ἀντιγράφω, θαυμάζω, ἀποδέχω, Διονύσ...          grecy   \n",
       "8   [[οὐδενός, εὐνητήρ], [μακροπτολέμοιο, μήτηρ, μ...          grecy   \n",
       "9   [[φημί, γῆ, ἐκλείπω, πόλις, ξενοῦσθαι], [πάτρα...          grecy   \n",
       "10  [[Μιλήσιος], [προςήκω, τρυφή, ἐπιδείκνυμι], [Ἀ...          grecy   \n",
       "11  [[πέτρα, σπείρω], [Πλίνθος, πλύνω, Δίκτυον, ἄν...          grecy   \n",
       "\n",
       "    tlg_date  not_before  not_after date_uncertain  \\\n",
       "2       None       101.0      200.0           None   \n",
       "8   4-3 B.C.      -400.0     -201.0          False   \n",
       "9     5 B.C.      -500.0     -401.0          False   \n",
       "10  A.D. 1-2         1.0      200.0          False   \n",
       "11  A.D. 1-2         1.0      200.0          False   \n",
       "\n",
       "                      tlg_epithet provenience  lemmatacount  \n",
       "2                              []   christian            34  \n",
       "8                      [Bucolici]       pagan            61  \n",
       "9                       [Tragici]       pagan         10277  \n",
       "10  [Biographi, Philosophici/-ae]       pagan          1488  \n",
       "11  [Biographi, Philosophici/-ae]       pagan           125  "
      ],
      "text/html": [
       "<div>\n",
       "<style scoped>\n",
       "    .dataframe tbody tr th:only-of-type {\n",
       "        vertical-align: middle;\n",
       "    }\n",
       "\n",
       "    .dataframe tbody tr th {\n",
       "        vertical-align: top;\n",
       "    }\n",
       "\n",
       "    .dataframe thead th {\n",
       "        text-align: right;\n",
       "    }\n",
       "</style>\n",
       "<table border=\"1\" class=\"dataframe\">\n",
       "  <thead>\n",
       "    <tr style=\"text-align: right;\">\n",
       "      <th></th>\n",
       "      <th>author_id</th>\n",
       "      <th>doc_id</th>\n",
       "      <th>filename</th>\n",
       "      <th>author</th>\n",
       "      <th>title</th>\n",
       "      <th>string</th>\n",
       "      <th>wordcount</th>\n",
       "      <th>source</th>\n",
       "      <th>lemmatized_sentences</th>\n",
       "      <th>lemmata_source</th>\n",
       "      <th>tlg_date</th>\n",
       "      <th>not_before</th>\n",
       "      <th>not_after</th>\n",
       "      <th>date_uncertain</th>\n",
       "      <th>tlg_epithet</th>\n",
       "      <th>provenience</th>\n",
       "      <th>lemmatacount</th>\n",
       "    </tr>\n",
       "  </thead>\n",
       "  <tbody>\n",
       "    <tr>\n",
       "      <th>2</th>\n",
       "      <td>ogl0001</td>\n",
       "      <td>ogl0001.ogl001</td>\n",
       "      <td>ogl0001.ogl001.1st1K-grc1.xml</td>\n",
       "      <td>Pinytus</td>\n",
       "      <td>De Epistola Pinyti ad Dionysium</td>\n",
       "      <td>FRAGMENTUM BEATI PINYTI, CNOSSI IN CRETA EPISC...</td>\n",
       "      <td>180</td>\n",
       "      <td>1Kgr</td>\n",
       "      <td>[[Πινυτός, ἀντιγράφω, θαυμάζω, ἀποδέχω, Διονύσ...</td>\n",
       "      <td>grecy</td>\n",
       "      <td>None</td>\n",
       "      <td>101.0</td>\n",
       "      <td>200.0</td>\n",
       "      <td>None</td>\n",
       "      <td>[]</td>\n",
       "      <td>christian</td>\n",
       "      <td>34</td>\n",
       "    </tr>\n",
       "    <tr>\n",
       "      <th>8</th>\n",
       "      <td>tlg0005</td>\n",
       "      <td>tlg0005.tlg003</td>\n",
       "      <td>tlg0005.tlg003.1st1K-grc1.xml</td>\n",
       "      <td>Theocritus</td>\n",
       "      <td>Syrinx</td>\n",
       "      <td>Οὐδενὸς εὐνάτειρα Μακροπτολέμοιο δὲ μάτηρ  μαί...</td>\n",
       "      <td>77</td>\n",
       "      <td>1Kgr</td>\n",
       "      <td>[[οὐδενός, εὐνητήρ], [μακροπτολέμοιο, μήτηρ, μ...</td>\n",
       "      <td>grecy</td>\n",
       "      <td>4-3 B.C.</td>\n",
       "      <td>-400.0</td>\n",
       "      <td>-201.0</td>\n",
       "      <td>False</td>\n",
       "      <td>[Bucolici]</td>\n",
       "      <td>pagan</td>\n",
       "      <td>61</td>\n",
       "    </tr>\n",
       "    <tr>\n",
       "      <th>9</th>\n",
       "      <td>tlg0006</td>\n",
       "      <td>tlg0006.tlg020</td>\n",
       "      <td>tlg0006.tlg020.1st1K-grc1.xml</td>\n",
       "      <td>Euripides</td>\n",
       "      <td>Fragmenta</td>\n",
       "      <td>ποίαν σε φῶμεν γαῖαν ἐκλελοιπότα πόλει ξενοῦσθ...</td>\n",
       "      <td>17708</td>\n",
       "      <td>1Kgr</td>\n",
       "      <td>[[φημί, γῆ, ἐκλείπω, πόλις, ξενοῦσθαι], [πάτρα...</td>\n",
       "      <td>grecy</td>\n",
       "      <td>5 B.C.</td>\n",
       "      <td>-500.0</td>\n",
       "      <td>-401.0</td>\n",
       "      <td>False</td>\n",
       "      <td>[Tragici]</td>\n",
       "      <td>pagan</td>\n",
       "      <td>10277</td>\n",
       "    </tr>\n",
       "    <tr>\n",
       "      <th>10</th>\n",
       "      <td>tlg0007</td>\n",
       "      <td>tlg0007.tlg146</td>\n",
       "      <td>tlg0007.tlg146.1st1K-grc1.xml</td>\n",
       "      <td>Plutarch</td>\n",
       "      <td>Παροιμίαι αἷς Ἀλεξανδρεῖς ἐχρῶντο</td>\n",
       "      <td>Οἴκοι τὰ Μιλήσια: ἐπὶ τῶν ὅποι μὴ προςήκει τὴν...</td>\n",
       "      <td>2685</td>\n",
       "      <td>1Kgr</td>\n",
       "      <td>[[Μιλήσιος], [προςήκω, τρυφή, ἐπιδείκνυμι], [Ἀ...</td>\n",
       "      <td>grecy</td>\n",
       "      <td>A.D. 1-2</td>\n",
       "      <td>1.0</td>\n",
       "      <td>200.0</td>\n",
       "      <td>False</td>\n",
       "      <td>[Biographi, Philosophici/-ae]</td>\n",
       "      <td>pagan</td>\n",
       "      <td>1488</td>\n",
       "    </tr>\n",
       "    <tr>\n",
       "      <th>11</th>\n",
       "      <td>tlg0007</td>\n",
       "      <td>tlg0007.tlg147</td>\n",
       "      <td>tlg0007.tlg147.1st1K-grc1.xml</td>\n",
       "      <td>Plutarch</td>\n",
       "      <td>Ἐκλογὴ περὶ τῶν ἀδυνάτων</td>\n",
       "      <td>Κατὰ πετρῶν σπείρεις. Πλίνθον πλύνεις. Δικτύῳ ...</td>\n",
       "      <td>143</td>\n",
       "      <td>1Kgr</td>\n",
       "      <td>[[πέτρα, σπείρω], [Πλίνθος, πλύνω, Δίκτυον, ἄν...</td>\n",
       "      <td>grecy</td>\n",
       "      <td>A.D. 1-2</td>\n",
       "      <td>1.0</td>\n",
       "      <td>200.0</td>\n",
       "      <td>False</td>\n",
       "      <td>[Biographi, Philosophici/-ae]</td>\n",
       "      <td>pagan</td>\n",
       "      <td>125</td>\n",
       "    </tr>\n",
       "  </tbody>\n",
       "</table>\n",
       "</div>"
      ]
     },
     "execution_count": 176,
     "metadata": {},
     "output_type": "execute_result"
    }
   ],
   "execution_count": 176
  },
  {
   "metadata": {
    "ExecuteTime": {
     "end_time": "2024-09-10T15:01:44.709926Z",
     "start_time": "2024-09-10T15:01:44.704749Z"
    }
   },
   "cell_type": "code",
   "source": [
    "# currently from Glaux:\n",
    "sum(LAGT[\"lemmata_source\"] == \"glaux\")"
   ],
   "outputs": [
    {
     "data": {
      "text/plain": [
       "835"
      ]
     },
     "execution_count": 177,
     "metadata": {},
     "output_type": "execute_result"
    }
   ],
   "execution_count": 177
  },
  {
   "metadata": {},
   "cell_type": "markdown",
   "source": "### Load newest local Glaux"
  },
  {
   "metadata": {
    "ExecuteTime": {
     "end_time": "2024-09-10T13:31:18.829137Z",
     "start_time": "2024-09-10T13:31:18.815275Z"
    }
   },
   "cell_type": "code",
   "source": [
    "source_dir = \"../../glaux/xml/\"\n",
    "glaux_filenames = os.listdir(source_dir)\n",
    "glaux_filenames[:10]"
   ],
   "outputs": [
    {
     "data": {
      "text/plain": [
       "['0057-094.xml',\n",
       " '0632-004.xml',\n",
       " '2042-010.xml',\n",
       " '0658-002.xml',\n",
       " '0010-009.xml',\n",
       " '1342-002.xml',\n",
       " '0057-057.xml',\n",
       " '0010-021.xml',\n",
       " '0057-043.xml',\n",
       " '0007-049.xml']"
      ]
     },
     "execution_count": 80,
     "metadata": {},
     "output_type": "execute_result"
    }
   ],
   "execution_count": 80
  },
  {
   "metadata": {
    "ExecuteTime": {
     "end_time": "2024-09-10T13:31:24.336592Z",
     "start_time": "2024-09-10T13:31:24.326565Z"
    }
   },
   "cell_type": "code",
   "source": [
    "glaux_tlgs = [re.sub(r'(\\d{4})-(\\d{3}).xml', r'tlg\\1.tlg\\2', fn) for fn in glaux_filenames]\n",
    "glaux_tlgs[:10]"
   ],
   "outputs": [
    {
     "data": {
      "text/plain": [
       "['tlg0057.tlg094',\n",
       " 'tlg0632.tlg004',\n",
       " 'tlg2042.tlg010',\n",
       " 'tlg0658.tlg002',\n",
       " 'tlg0010.tlg009',\n",
       " 'tlg1342.tlg002',\n",
       " 'tlg0057.tlg057',\n",
       " 'tlg0010.tlg021',\n",
       " 'tlg0057.tlg043',\n",
       " 'tlg0007.tlg049']"
      ]
     },
     "execution_count": 81,
     "metadata": {},
     "output_type": "execute_result"
    }
   ],
   "execution_count": 81
  },
  {
   "metadata": {
    "ExecuteTime": {
     "end_time": "2024-09-10T14:49:34.866786Z",
     "start_time": "2024-09-10T14:49:34.860075Z"
    }
   },
   "cell_type": "code",
   "source": "LAGT[\"doc_id\"].isin(glaux_tlgs).sum()",
   "outputs": [
    {
     "data": {
      "text/plain": [
       "1173"
      ]
     },
     "execution_count": 156,
     "metadata": {},
     "output_type": "execute_result"
    }
   ],
   "execution_count": 156
  },
  {
   "metadata": {
    "ExecuteTime": {
     "end_time": "2024-09-10T14:49:42.791731Z",
     "start_time": "2024-09-10T14:49:42.671594Z"
    }
   },
   "cell_type": "code",
   "source": [
    "not_lagt = [glaux_fn for glaux_fn in glaux_filenames if re.sub(r'(\\d{4})-(\\d{3}).xml', r'tlg\\1.tlg\\2', glaux_fn) not in list(LAGT[\"doc_id\"])]\n",
    "not_lagt[:10]"
   ],
   "outputs": [
    {
     "data": {
      "text/plain": [
       "['0632-004.xml',\n",
       " '0658-002.xml',\n",
       " '1342-002.xml',\n",
       " '0336-003.xml',\n",
       " '1772-001.xml',\n",
       " '1223-001.xml',\n",
       " '0007-082a.xml',\n",
       " '0632-002a.xml',\n",
       " '0005-005.xml',\n",
       " '0261-003.xml']"
      ]
     },
     "execution_count": 157,
     "metadata": {},
     "output_type": "execute_result"
    }
   ],
   "execution_count": 157
  },
  {
   "metadata": {
    "ExecuteTime": {
     "end_time": "2024-09-10T14:49:43.429140Z",
     "start_time": "2024-09-10T14:49:43.425828Z"
    }
   },
   "cell_type": "code",
   "source": "len(not_lagt)",
   "outputs": [
    {
     "data": {
      "text/plain": [
       "248"
      ]
     },
     "execution_count": 158,
     "metadata": {},
     "output_type": "execute_result"
    }
   ],
   "execution_count": 158
  },
  {
   "metadata": {
    "ExecuteTime": {
     "end_time": "2024-09-10T14:49:45.554043Z",
     "start_time": "2024-09-10T14:49:45.547224Z"
    }
   },
   "cell_type": "code",
   "source": [
    "with open(source_dir  + not_lagt[0], \"r\") as f:\n",
    "    soup = BeautifulSoup(f.read())"
   ],
   "outputs": [],
   "execution_count": 159
  },
  {
   "metadata": {
    "ExecuteTime": {
     "end_time": "2024-09-10T14:49:45.926148Z",
     "start_time": "2024-09-10T14:49:45.922522Z"
    }
   },
   "cell_type": "code",
   "source": "print(soup.prettify())",
   "outputs": [
    {
     "name": "stdout",
     "output_type": "stream",
     "text": [
      "<treebank version=\"2\" xml:lang=\"grc\">\n",
      " <sentence analysis=\"auto\" document_id=\"0632-004\" id=\"1\" struct_id=\"178136\">\n",
      "  <word div_page=\"114\" form=\"εἰ\" head=\"102947308\" id=\"102947284\" lemma=\"εἰ\" postag=\"c--------\" relation=\"AuxC\">\n",
      "  </word>\n",
      "  <word div_page=\"114\" form=\"μὲν\" head=\"102947308\" id=\"102947285\" lemma=\"μέν\" postag=\"g--------\" relation=\"AuxY\">\n",
      "  </word>\n",
      "  <word div_page=\"114\" form=\"εὑρίσκεις\" head=\"102947284\" id=\"102947286\" lemma=\"εὑρίσκω\" postag=\"v2spia---\" relation=\"ADV\">\n",
      "  </word>\n",
      "  <word div_page=\"114\" form=\"τοὺς\" head=\"102947288\" id=\"102947287\" lemma=\"ὁ\" postag=\"l-p---ma-\" relation=\"ATR\">\n",
      "  </word>\n",
      "  <word div_page=\"114\" form=\"ἀστέρας\" head=\"102947286\" id=\"102947288\" lemma=\"ἀστήρ\" postag=\"n-p---ma-\" relation=\"OBJ\">\n",
      "  </word>\n",
      "  <word div_page=\"114\" form=\"τοὺς\" head=\"102947290\" id=\"102947289\" lemma=\"ὁ\" postag=\"l-p---ma-\" relation=\"ATR\">\n",
      "  </word>\n",
      "  <word div_page=\"114\" form=\"ἔχοντας\" head=\"102947288\" id=\"102947290\" lemma=\"ἔχω\" postag=\"v-pppama-\" relation=\"ATR\">\n",
      "  </word>\n",
      "  <word div_page=\"114\" form=\"πλείονας\" head=\"102947292\" id=\"102947291\" lemma=\"πολύς\" postag=\"a-p---fac\" relation=\"ATR\">\n",
      "  </word>\n",
      "  <word div_page=\"114\" form=\"δυνάμεις\" head=\"102947290\" id=\"102947292\" lemma=\"δύναμις\" postag=\"n-p---fa-\" relation=\"OBJ\">\n",
      "  </word>\n",
      "  <word div_page=\"114\" form=\"εἰς\" head=\"102947290\" id=\"102947293\" lemma=\"εἰς\" postag=\"r--------\" relation=\"AuxP\">\n",
      "  </word>\n",
      "  <word div_page=\"114\" form=\"τὴν\" head=\"102947295\" id=\"102947294\" lemma=\"ὁ\" postag=\"l-s---fa-\" relation=\"ATR\">\n",
      "  </word>\n",
      "  <word div_page=\"114\" form=\"ἐρώτησιν\" head=\"102947299\" id=\"102947295\" lemma=\"ἐρώτησις\" postag=\"n-s---fa-\" relation=\"OBJ_CO\">\n",
      "  </word>\n",
      "  <word div_page=\"114\" form=\"καὶ\" head=\"102947299\" id=\"102947296\" lemma=\"καί\" postag=\"c--------\" relation=\"AuxY\">\n",
      "  </word>\n",
      "  <word div_page=\"114\" form=\"τὴν\" head=\"102947298\" id=\"102947297\" lemma=\"ὁ\" postag=\"l-s---fa-\" relation=\"ATR\">\n",
      "  </word>\n",
      "  <word div_page=\"114\" form=\"Σελήνην\" head=\"102947299\" id=\"102947298\" lemma=\"Σελήνη\" postag=\"n-s---fa-\" relation=\"OBJ_CO\">\n",
      "  </word>\n",
      "  <word div_page=\"114\" form=\"καὶ\" head=\"102947293\" id=\"102947299\" lemma=\"καί\" postag=\"c--------\" relation=\"COORD\">\n",
      "  </word>\n",
      "  <word div_page=\"114\" form=\"τὸν\" head=\"102947301\" id=\"102947300\" lemma=\"ὁ\" postag=\"l-s---ma-\" relation=\"ATR\">\n",
      "  </word>\n",
      "  <word div_page=\"114\" form=\"κύριον\" head=\"102947299\" id=\"102947301\" lemma=\"κύριος\" postag=\"n-s---ma-\" relation=\"OBJ_CO\">\n",
      "  </word>\n",
      "  <word div_page=\"114\" form=\"αὐτοῦ\" head=\"102947301\" id=\"102947302\" lemma=\"αὐτός\" postag=\"p-s---mg-\" relation=\"ATR\">\n",
      "  </word>\n",
      "  <word div_page=\"114\" form=\"πίπτοντα\" head=\"102947290\" id=\"102947303\" lemma=\"πίπτω\" postag=\"v-sppama-\" relation=\"CO\">\n",
      "  </word>\n",
      "  <word div_page=\"114\" form=\"ἀπὸ\" head=\"102947303\" id=\"102947304\" lemma=\"ἀπό\" postag=\"r--------\" relation=\"AuxP\">\n",
      "  </word>\n",
      "  <word div_page=\"114\" form=\"τῶν\" head=\"102947306\" id=\"102947305\" lemma=\"ὁ\" postag=\"l-p---ng-\" relation=\"ATR\">\n",
      "  </word>\n",
      "  <word div_page=\"114\" form=\"κέντρων\" head=\"102947304\" id=\"102947306\" lemma=\"κέντρον\" postag=\"n-p---ng-\" relation=\"OBJ\">\n",
      "  </word>\n",
      "  <word div_page=\"114\" form=\",\" head=\"0\" id=\"102947307\" lemma=\",\" postag=\"u--------\" relation=\"AuxX\">\n",
      "  </word>\n",
      "  <word div_page=\"114\" form=\"γίνωσκε\" head=\"0\" id=\"102947308\" lemma=\"γιγνώσκω\" postag=\"v2spma---\" relation=\"PRED\">\n",
      "  </word>\n",
      "  <word div_page=\"114\" form=\"ὅτι\" head=\"102947308\" id=\"102947309\" lemma=\"ὅτι\" postag=\"c--------\" relation=\"AuxC\">\n",
      "  </word>\n",
      "  <word div_page=\"114\" form=\"τὸ\" head=\"102947311\" id=\"102947310\" lemma=\"ὁ\" postag=\"l-s---nn-\" relation=\"ATR\">\n",
      "  </word>\n",
      "  <word div_page=\"114\" form=\"ζήτημα\" head=\"102947315\" id=\"102947311\" lemma=\"ζήτημα\" postag=\"n-s---nn-\" relation=\"SBJ\">\n",
      "  </word>\n",
      "  <word div_page=\"114\" form=\"ἐκεῖνο\" head=\"102947311\" id=\"102947312\" lemma=\"ἐκεῖνος\" postag=\"p-s---nn-\" relation=\"ATR\">\n",
      "  </word>\n",
      "  <word div_page=\"114\" form=\"διὰ\" head=\"102947315\" id=\"102947313\" lemma=\"διά\" postag=\"r--------\" relation=\"AuxP\">\n",
      "  </word>\n",
      "  <word div_page=\"114\" form=\"φυγήν\" head=\"102947316\" id=\"102947314\" lemma=\"φυγή\" postag=\"n-s---fa-\" relation=\"ADV_CO\">\n",
      "  </word>\n",
      "  <word div_page=\"114\" form=\"ἐστιν\" head=\"102947309\" id=\"102947315\" lemma=\"εἰμί\" postag=\"v3spia---\" relation=\"OBJ\">\n",
      "  </word>\n",
      "  <word div_page=\"114\" form=\"ἢ\" head=\"102947313\" id=\"102947316\" lemma=\"ἤ\" postag=\"c--------\" relation=\"COORD\">\n",
      "  </word>\n",
      "  <word div_page=\"114\" form=\"ἐξέλευσιν\" head=\"102947316\" id=\"102947317\" lemma=\"ἐξέλευσις\" postag=\"n-s---fa-\" relation=\"ADV_CO\">\n",
      "  </word>\n",
      "  <word div_page=\"114\" form=\"τῶν\" head=\"102947317\" id=\"102947318\" lemma=\"ὁ\" postag=\"l-p---ng-\" relation=\"ATR\">\n",
      "  </word>\n",
      "  <word div_page=\"114\" form=\"ἀπὸ\" head=\"102947317\" id=\"102947319\" lemma=\"ἀπό\" postag=\"r--------\" relation=\"AuxP\">\n",
      "  </word>\n",
      "  <word div_page=\"114\" form=\"κάστρων\" head=\"102947319\" id=\"102947320\" lemma=\"κάστρον\" postag=\"n-p---ng-\" relation=\"ATR\">\n",
      "  </word>\n",
      "  <word div_page=\"114\" form=\".\" head=\"0\" id=\"102947321\" lemma=\".\" postag=\"u--------\" relation=\"AuxK\">\n",
      "  </word>\n",
      " </sentence>\n",
      "</treebank>\n",
      "\n"
     ]
    }
   ],
   "execution_count": 160
  },
  {
   "metadata": {},
   "cell_type": "markdown",
   "source": "### Extract Glaux sentence level data"
  },
  {
   "metadata": {
    "ExecuteTime": {
     "end_time": "2024-09-10T11:47:36.536035Z",
     "start_time": "2024-09-10T11:47:36.532138Z"
    }
   },
   "cell_type": "code",
   "source": [
    "target_path = \"../data/large_files/sents_data/\"\n",
    "try:\n",
    "    os.mkdir(target_path)\n",
    "except:\n",
    "    pass"
   ],
   "outputs": [],
   "execution_count": 6
  },
  {
   "metadata": {
    "ExecuteTime": {
     "end_time": "2024-09-10T11:56:00.424039Z",
     "start_time": "2024-09-10T11:56:00.417629Z"
    }
   },
   "cell_type": "code",
   "source": [
    "def from_filename_to_sentence_data(fn):\n",
    "    with open(source_dir    + fn, \"r\") as f:\n",
    "        soup = BeautifulSoup(f.read())\n",
    "    sentences_data = []\n",
    "    for sent_n, sent in enumerate(soup.find_all(\"sentence\")):\n",
    "        sentence = \"\"\n",
    "        sent_data = []\n",
    "        start_index = 0\n",
    "        for n, w in enumerate(sent.find_all(\"word\")):\n",
    "            token = w[\"form\"]\n",
    "            try:\n",
    "                if (w[\"relation\"] in [\"AuxX\", \"AuxK\", \"PUNCT\"]) or (n==0):\n",
    "                    sentence += token\n",
    "                else:\n",
    "                    sentence += \" \" + token\n",
    "                    start_index += 1\n",
    "            except:\n",
    "                sentence += \" \" + token\n",
    "                start_index += 1\n",
    "            end_index = start_index + len(token)\n",
    "            word_index = (start_index, end_index)\n",
    "            start_index = end_index\n",
    "            try:\n",
    "                sent_data.append((token, w[\"lemma\"], w[\"postag\"][0], word_index))\n",
    "            except:\n",
    "                sent_data.append((token, token, None, word_index))\n",
    "        sentences_data.append((fn.partition(\".\")[0], sent_n, sentence, sent_data))\n",
    "    target_fn = re.sub(r'(\\d{4})-(\\d{3}).xml', r'tlg\\1.tlg\\2', fn) + \".pickle\"\n",
    "    with open(target_path + target_fn, \"wb\") as f:\n",
    "        pickle.dump(sentences_data, f)"
   ],
   "outputs": [],
   "execution_count": 13
  },
  {
   "metadata": {
    "ExecuteTime": {
     "end_time": "2024-09-10T12:05:56.662742Z",
     "start_time": "2024-09-10T11:56:01.277769Z"
    }
   },
   "cell_type": "code",
   "source": [
    "for fn in glaux_filenames:\n",
    "    from_filename_to_sentence_data(fn)"
   ],
   "outputs": [],
   "execution_count": 14
  },
  {
   "metadata": {
    "ExecuteTime": {
     "end_time": "2024-09-10T12:44:20.524411Z",
     "start_time": "2024-09-10T12:44:20.517648Z"
    }
   },
   "cell_type": "code",
   "source": [
    "# ok, this approach does not work for all the files....\n",
    "files_to_merge = [fn for fn in os.listdir(target_path) if \"xml\" in fn]\n",
    "files_to_merge[:10]"
   ],
   "outputs": [
    {
     "data": {
      "text/plain": [
       "['0632-002a.xml.pickle',\n",
       " '0541-042b.xml.pickle',\n",
       " '0627-024a.xml.pickle',\n",
       " '0007-051b.xml.pickle',\n",
       " '0007-082b.xml.pickle',\n",
       " '0632-002d.xml.pickle',\n",
       " '0632-002c.xml.pickle',\n",
       " '0093-010b.xml.pickle',\n",
       " '0096-002b.xml.pickle',\n",
       " '0007-052b.xml.pickle']"
      ]
     },
     "execution_count": 35,
     "metadata": {},
     "output_type": "execute_result"
    }
   ],
   "execution_count": 35
  },
  {
   "metadata": {
    "ExecuteTime": {
     "end_time": "2024-09-10T12:45:45.339447Z",
     "start_time": "2024-09-10T12:45:45.053399Z"
    }
   },
   "cell_type": "code",
   "source": [
    "# let's rename and merge these files now.\n",
    "file_groups = defaultdict(list)\n",
    "pattern = re.compile(r'(\\d{4})-(\\d{3})[a-z]')\n",
    "\n",
    "for fn in files_to_merge:\n",
    "    match = pattern.match(fn)\n",
    "    if match:\n",
    "        doc_id = f'tlg{match.group(1)}.tlg{match.group(2)}'\n",
    "        file_groups[doc_id].append(fn)\n",
    "\n",
    "# Step 3: Iterate over groups and merge files\n",
    "for doc_id, files in file_groups.items():\n",
    "    files.sort()\n",
    "    merged_list = []\n",
    "    for fn in files:\n",
    "        file_path = os.path.join(target_path, fn)\n",
    "        with open(file_path, \"rb\") as f:\n",
    "            data = pickle.load(f)\n",
    "            merged_list.extend(data)\n",
    "\n",
    "    # Step 4: Save the merged list\n",
    "    target_fn = os.path.join(target_path, doc_id + \".pickle\")\n",
    "    with open(target_fn, \"wb\") as f:\n",
    "        pickle.dump(merged_list, f)"
   ],
   "outputs": [],
   "execution_count": 39
  },
  {
   "metadata": {
    "ExecuteTime": {
     "end_time": "2024-09-10T12:46:46.577613Z",
     "start_time": "2024-09-10T12:46:46.567285Z"
    }
   },
   "cell_type": "code",
   "source": [
    "for fn in files_to_merge:\n",
    "    os.remove(os.path.join(target_path, fn))"
   ],
   "outputs": [],
   "execution_count": 40
  },
  {
   "metadata": {},
   "cell_type": "markdown",
   "source": "### Add current glaux data to LAGT"
  },
  {
   "metadata": {
    "ExecuteTime": {
     "end_time": "2024-09-10T13:03:09.688754Z",
     "start_time": "2024-09-10T13:03:09.678884Z"
    }
   },
   "cell_type": "code",
   "source": [
    "# open a test file to explore its structure\n",
    "file_path = target_path + \"tlg0632.tlg002.pickle\"\n",
    "with open(file_path, \"rb\") as f:\n",
    "    sentences_data = pickle.load(f)\n",
    "sentences_data[:5]"
   ],
   "outputs": [
    {
     "data": {
      "text/plain": [
       "[('0632-002a',\n",
       "  0,\n",
       "  'ὦ νέοι, ἀλλὰ σέβεσθε μεθ’ ἡσυχίας τάδε πάντα',\n",
       "  [('ὦ', 'ὦ', 'i', (0, 3)),\n",
       "   ('νέοι', 'νέος', 'a', (4, 9)),\n",
       "   (',', ',', 'u', (9, 10)),\n",
       "   ('ἀλλὰ', 'ἀλλά', 'c', (11, 17)),\n",
       "   ('σέβεσθε', 'σέβω', 'v', (18, 26)),\n",
       "   ('μεθ’', 'μετά', 'r', (27, 31)),\n",
       "   ('ἡσυχίας', 'ἡσυχία', 'n', (32, 41)),\n",
       "   ('τάδε', 'ὅδε', 'p', (42, 47)),\n",
       "   ('πάντα', 'πᾶς', 'p', (48, 54))]),\n",
       " ('0632-002b',\n",
       "  0,\n",
       "  'εἴ τις ἐρεῖ \" θεός εἰμι πάρεξ ἑνός \", οὗτος ὀφείλει κόσμον ἴσον τούτῳ στήσας εἰπεῖν \" ἐμὸς οὗτος \"· E',\n",
       "  [('εἴ', 'εἰ', 'c', (0, 4)),\n",
       "   ('τις', 'τις', 'p', (5, 8)),\n",
       "   ('ἐρεῖ', 'λέγω', 'v', (9, 15)),\n",
       "   ('\"', '\"', 'u', (16, 17)),\n",
       "   ('θεός', 'θεός', 'n', (18, 23)),\n",
       "   ('εἰμι', 'εἰμί', 'v', (24, 29)),\n",
       "   ('πάρεξ', 'παρέξ', 'r', (30, 36)),\n",
       "   ('ἑνός', 'εἷς', 'm', (37, 43)),\n",
       "   ('\"', '\"', 'u', (44, 45)),\n",
       "   (',', ',', 'u', (45, 46)),\n",
       "   ('οὗτος', 'οὗτος', 'p', (47, 54)),\n",
       "   ('ὀφείλει', 'ὀφείλω', 'v', (55, 64)),\n",
       "   ('κόσμον', 'κόσμος', 'n', (65, 72)),\n",
       "   ('ἴσον', 'ἴσος', 'a', (73, 79)),\n",
       "   ('τούτῳ', 'οὗτος', 'p', (80, 87)),\n",
       "   ('στήσας', 'ἵστημι', 'v', (88, 95)),\n",
       "   ('εἰπεῖν', 'λέγω', 'v', (96, 104)),\n",
       "   ('\"', '\"', 'u', (105, 106)),\n",
       "   ('ἐμὸς', 'ἐμός', 'a', (107, 113)),\n",
       "   ('οὗτος', 'οὗτος', 'p', (114, 121)),\n",
       "   ('\"', '\"', 'u', (122, 123)),\n",
       "   ('·', '·', 'u', (123, 124)),\n",
       "   ('E', 'E', 'z', (125, 126))]),\n",
       " ('0632-002b',\n",
       "  1,\n",
       "  'κα- κοὐχὶ μόνον στήσας εἰπεῖν \" ἐμός \", ἀλλὰ κατοικεῖν αὐτὸς ἐν ᾧ πεποίηκε· E',\n",
       "  [('κα-', 'καί', 'c', (0, 3)),\n",
       "   ('κοὐχὶ', 'οὐ', 'd', (4, 11)),\n",
       "   ('μόνον', 'μόνος', 'd', (12, 18)),\n",
       "   ('στήσας', 'ἵστημι', 'v', (19, 26)),\n",
       "   ('εἰπεῖν', 'λέγω', 'v', (27, 35)),\n",
       "   ('\"', '\"', 'u', (36, 37)),\n",
       "   ('ἐμός', 'ἐμός', 'a', (38, 44)),\n",
       "   ('\"', '\"', 'u', (45, 46)),\n",
       "   (',', ',', 'u', (46, 47)),\n",
       "   ('ἀλλὰ', 'ἀλλά', 'c', (48, 54)),\n",
       "   ('κατοικεῖν', 'κατοικέω', 'v', (55, 65)),\n",
       "   ('αὐτὸς', 'αὐτός', 'p', (66, 73)),\n",
       "   ('ἐν', 'ἐν', 'r', (74, 77)),\n",
       "   ('ᾧ', 'ὅς', 'p', (78, 82)),\n",
       "   ('πεποίηκε', 'ποιέω', 'v', (83, 92)),\n",
       "   ('·', '·', 'u', (92, 93)),\n",
       "   ('E', 'E', 'z', (94, 95))]),\n",
       " ('0632-002b',\n",
       "  2,\n",
       "  'πεποίηται δ’ ὑπὸ τούτου.',\n",
       "  [('πεποίηται', 'ποιέω', 'v', (0, 10)),\n",
       "   ('δ’', 'δέ', 'c', (11, 13)),\n",
       "   ('ὑπὸ', 'ὑπό', 'r', (14, 19)),\n",
       "   ('τούτου', 'οὗτος', 'p', (20, 27)),\n",
       "   ('.', '.', 'u', (27, 28))]),\n",
       " ('0632-002c',\n",
       "  0,\n",
       "  'Πυθαγόρας Ἀναξιμένει. E',\n",
       "  [('Πυθαγόρας', 'Πυθαγόρας', 'n', (0, 10)),\n",
       "   ('Ἀναξιμένει', 'Ἀναξιμένης', 'n', (11, 23)),\n",
       "   ('.', '.', 'u', (23, 24)),\n",
       "   ('E', 'E', 'z', (25, 26))])]"
      ]
     },
     "execution_count": 42,
     "metadata": {},
     "output_type": "execute_result"
    }
   ],
   "execution_count": 42
  },
  {
   "metadata": {
    "ExecuteTime": {
     "end_time": "2024-09-10T13:27:50.317412Z",
     "start_time": "2024-09-10T13:27:50.311360Z"
    }
   },
   "cell_type": "code",
   "source": "[sent[3] for sent in sentences_data][:3]",
   "outputs": [
    {
     "data": {
      "text/plain": [
       "[[('ὦ', 'ὦ', 'i', (0, 3)),\n",
       "  ('νέοι', 'νέος', 'a', (4, 9)),\n",
       "  (',', ',', 'u', (9, 10)),\n",
       "  ('ἀλλὰ', 'ἀλλά', 'c', (11, 17)),\n",
       "  ('σέβεσθε', 'σέβω', 'v', (18, 26)),\n",
       "  ('μεθ’', 'μετά', 'r', (27, 31)),\n",
       "  ('ἡσυχίας', 'ἡσυχία', 'n', (32, 41)),\n",
       "  ('τάδε', 'ὅδε', 'p', (42, 47)),\n",
       "  ('πάντα', 'πᾶς', 'p', (48, 54))],\n",
       " [('εἴ', 'εἰ', 'c', (0, 4)),\n",
       "  ('τις', 'τις', 'p', (5, 8)),\n",
       "  ('ἐρεῖ', 'λέγω', 'v', (9, 15)),\n",
       "  ('\"', '\"', 'u', (16, 17)),\n",
       "  ('θεός', 'θεός', 'n', (18, 23)),\n",
       "  ('εἰμι', 'εἰμί', 'v', (24, 29)),\n",
       "  ('πάρεξ', 'παρέξ', 'r', (30, 36)),\n",
       "  ('ἑνός', 'εἷς', 'm', (37, 43)),\n",
       "  ('\"', '\"', 'u', (44, 45)),\n",
       "  (',', ',', 'u', (45, 46)),\n",
       "  ('οὗτος', 'οὗτος', 'p', (47, 54)),\n",
       "  ('ὀφείλει', 'ὀφείλω', 'v', (55, 64)),\n",
       "  ('κόσμον', 'κόσμος', 'n', (65, 72)),\n",
       "  ('ἴσον', 'ἴσος', 'a', (73, 79)),\n",
       "  ('τούτῳ', 'οὗτος', 'p', (80, 87)),\n",
       "  ('στήσας', 'ἵστημι', 'v', (88, 95)),\n",
       "  ('εἰπεῖν', 'λέγω', 'v', (96, 104)),\n",
       "  ('\"', '\"', 'u', (105, 106)),\n",
       "  ('ἐμὸς', 'ἐμός', 'a', (107, 113)),\n",
       "  ('οὗτος', 'οὗτος', 'p', (114, 121)),\n",
       "  ('\"', '\"', 'u', (122, 123)),\n",
       "  ('·', '·', 'u', (123, 124)),\n",
       "  ('E', 'E', 'z', (125, 126))],\n",
       " [('κα-', 'καί', 'c', (0, 3)),\n",
       "  ('κοὐχὶ', 'οὐ', 'd', (4, 11)),\n",
       "  ('μόνον', 'μόνος', 'd', (12, 18)),\n",
       "  ('στήσας', 'ἵστημι', 'v', (19, 26)),\n",
       "  ('εἰπεῖν', 'λέγω', 'v', (27, 35)),\n",
       "  ('\"', '\"', 'u', (36, 37)),\n",
       "  ('ἐμός', 'ἐμός', 'a', (38, 44)),\n",
       "  ('\"', '\"', 'u', (45, 46)),\n",
       "  (',', ',', 'u', (46, 47)),\n",
       "  ('ἀλλὰ', 'ἀλλά', 'c', (48, 54)),\n",
       "  ('κατοικεῖν', 'κατοικέω', 'v', (55, 65)),\n",
       "  ('αὐτὸς', 'αὐτός', 'p', (66, 73)),\n",
       "  ('ἐν', 'ἐν', 'r', (74, 77)),\n",
       "  ('ᾧ', 'ὅς', 'p', (78, 82)),\n",
       "  ('πεποίηκε', 'ποιέω', 'v', (83, 92)),\n",
       "  ('·', '·', 'u', (92, 93)),\n",
       "  ('E', 'E', 'z', (94, 95))]]"
      ]
     },
     "execution_count": 73,
     "metadata": {},
     "output_type": "execute_result"
    }
   ],
   "execution_count": 73
  },
  {
   "metadata": {
    "ExecuteTime": {
     "end_time": "2024-09-10T13:28:30.495397Z",
     "start_time": "2024-09-10T13:28:30.489066Z"
    }
   },
   "cell_type": "code",
   "source": [
    "lemmatized_sentences = [[t[1] for t in sent[3] if t[2] in [\"n\", \"a\", \"v\"]] for sent in sentences_data]\n",
    "lemmatized_sentences"
   ],
   "outputs": [
    {
     "data": {
      "text/plain": [
       "[['νέος', 'σέβω', 'ἡσυχία'],\n",
       " ['λέγω',\n",
       "  'θεός',\n",
       "  'εἰμί',\n",
       "  'ὀφείλω',\n",
       "  'κόσμος',\n",
       "  'ἴσος',\n",
       "  'ἵστημι',\n",
       "  'λέγω',\n",
       "  'ἐμός'],\n",
       " ['ἵστημι', 'λέγω', 'ἐμός', 'κατοικέω', 'ποιέω'],\n",
       " ['ποιέω'],\n",
       " ['Πυθαγόρας', 'Ἀναξιμένης'],\n",
       " ['λωΐων',\n",
       "  'ἀγαθός',\n",
       "  'εἰμί',\n",
       "  'Πυθαγόρας',\n",
       "  'γενεά',\n",
       "  'κλέος',\n",
       "  'μετανίστημι',\n",
       "  'οἴχομαι',\n",
       "  'Μίλητος'],\n",
       " ['κατερύκω', 'εὔκλεια', 'κατερύκω', 'Ἀναξιμένης', 'ἔοικα'],\n",
       " ['ὀνήας',\n",
       "  'πόλις',\n",
       "  'ἐκλείβω',\n",
       "  'κόσμος',\n",
       "  'αἱρέω',\n",
       "  'ἐπικίνδυνος',\n",
       "  'Μῆδος'],\n",
       " ['καλός', 'αἰθερολογέω', 'μελεδωνός', 'εἰμί', 'πατρίς', 'καλός'],\n",
       " ['μῦθος', 'πόλεμος', 'διαφέρω', 'Ἰταλιώτης'],\n",
       " ['Πυθαγόρας', 'Ἱέρων'],\n",
       " ['ἀσφαλής', 'ἐμός', 'βίος', 'ἡσύχιος', 'σός', 'προσπελάζω'],\n",
       " ['μέτριος', 'ἀνήρ', 'λιποδεής', 'Σικελικός', 'τράπεζα', 'προσδέω'],\n",
       " ['ἔχω', 'Πυθαγόρας', 'ἱκανός', 'ἡμέρα', 'ἔρχομαι'],\n",
       " ['θεραπεία', 'δυνάστης', 'βαρύς', 'ἐπαχθής', 'ἐθίζω'],\n",
       " ['μέγας', 'ἀσφαλής', 'αὐτάρκεια'],\n",
       " ['ἔχω', 'φθονέω', 'ἐπιβουλεύω'],\n",
       " ['δοκέω', 'εἰμί', 'θεός', 'διαγωγή'],\n",
       " ['διάθεσις',\n",
       "  'ἀγαθός',\n",
       "  'γεννάω',\n",
       "  'ἀφροδίσιος',\n",
       "  'ἔδεσμα',\n",
       "  'ἔνδεια',\n",
       "  'ἄγω',\n",
       "  'ἀνήρ',\n",
       "  'ἀρετή'],\n",
       " ['ἡδονή',\n",
       "  'ποικίλος',\n",
       "  'ἀκρατής',\n",
       "  'δουλόω',\n",
       "  'ψυχή',\n",
       "  'ἀσθενής',\n",
       "  'ἄνθρωπος',\n",
       "  'πολύς',\n",
       "  'ἀπολαύω'],\n",
       " ['ἐπιδίδωμι', 'αἰωρέω', 'δύναμαι', 'σῴζω'],\n",
       " ['λόγος', 'ἐναντιόομαι', 'ἀσύμφορος'],\n",
       " ['καλέω', 'Πυθαγόρας', 'συμβιόω'],\n",
       " ['ἰατρός', 'αἱρέω', 'νοσέω', 'συγκάμνω'],\n",
       " ['θεός',\n",
       "  'ὑπονοέω',\n",
       "  'διακόσμησις',\n",
       "  'ὅλος',\n",
       "  'ὅλος',\n",
       "  'κύκλος',\n",
       "  'ἐπισκοπέω',\n",
       "  'γένεσις',\n",
       "  'εἰμί',\n",
       "  'κρᾶσις',\n",
       "  'εἰμί',\n",
       "  'ὅλος',\n",
       "  'αἰών',\n",
       "  'ἐργάτης',\n",
       "  'δύναμια',\n",
       "  'ἔργον',\n",
       "  'ἀρχή',\n",
       "  'οὐρανός',\n",
       "  'φωστήρ',\n",
       "  'πατήρ',\n",
       "  'νόος',\n",
       "  'ψύχωσις',\n",
       "  'ὅλος',\n",
       "  'κύκλος']]"
      ]
     },
     "execution_count": 75,
     "metadata": {},
     "output_type": "execute_result"
    }
   ],
   "execution_count": 75
  },
  {
   "metadata": {
    "ExecuteTime": {
     "end_time": "2024-09-10T14:29:09.858911Z",
     "start_time": "2024-09-10T14:29:09.853623Z"
    }
   },
   "cell_type": "code",
   "source": [
    "def get_row_data(row):\n",
    "    doc_id = row[\"doc_id\"]\n",
    "    try:\n",
    "        file_path = target_path + doc_id + \".pickle\"\n",
    "        with open(file_path, \"rb\") as f:\n",
    "            sentences_data = pickle.load(f)\n",
    "        sentences = [sent[2] for sent in sentences_data]\n",
    "        lemmatized_sentences = [[t[1] for t in sent[3] if t[2] in [\"n\", \"a\", \"v\"]] for sent in sentences_data]\n",
    "    except:\n",
    "        sentences = None\n",
    "        lemmatized_sentences = None\n",
    "    return sentences, lemmatized_sentences"
   ],
   "outputs": [],
   "execution_count": 136
  },
  {
   "metadata": {
    "ExecuteTime": {
     "end_time": "2024-09-10T15:02:27.721968Z",
     "start_time": "2024-09-10T15:02:04.085673Z"
    }
   },
   "cell_type": "code",
   "source": [
    "%%time\n",
    "result = LAGT.apply(lambda row: pd.Series(get_row_data(row)), axis=1)\n",
    "LAGT[\"sentences\"] = result[0]  # Extract sentences\n",
    "LAGT[\"lemmatized_sentences\"] = result[1] "
   ],
   "outputs": [
    {
     "name": "stdout",
     "output_type": "stream",
     "text": [
      "CPU times: user 12.5 s, sys: 6.36 s, total: 18.8 s\n",
      "Wall time: 23.6 s\n"
     ]
    }
   ],
   "execution_count": 178
  },
  {
   "metadata": {
    "ExecuteTime": {
     "end_time": "2024-09-10T15:02:30.180139Z",
     "start_time": "2024-09-10T15:02:30.173378Z"
    }
   },
   "cell_type": "code",
   "source": "LAGT[\"lemmatized_sentences\"].notnull().sum()",
   "outputs": [
    {
     "data": {
      "text/plain": [
       "1179"
      ]
     },
     "execution_count": 179,
     "metadata": {},
     "output_type": "execute_result"
    }
   ],
   "execution_count": 179
  },
  {
   "metadata": {},
   "cell_type": "markdown",
   "source": "### Adding additional files from glaux"
  },
  {
   "metadata": {
    "ExecuteTime": {
     "end_time": "2024-09-10T14:50:31.159221Z",
     "start_time": "2024-09-10T14:50:31.056557Z"
    }
   },
   "cell_type": "code",
   "source": [
    "not_lagt = [glaux_fn for glaux_fn in os.listdir(target_path) if glaux_fn.rpartition(\".\")[0] not in list(LAGT[\"doc_id\"])]\n",
    "not_lagt[:10]"
   ],
   "outputs": [
    {
     "data": {
      "text/plain": [
       "['tlg0388.tlg004.pickle',\n",
       " 'tlg1667.tlg004.pickle',\n",
       " 'tlg0497.tlg005.pickle',\n",
       " 'tlg1836.tlg001.pickle',\n",
       " 'tlg0622.tlg001.pickle',\n",
       " 'tlg0593.tlg001.pickle',\n",
       " 'tlg0198.tlg001.pickle',\n",
       " 'tlg0232.tlg002.pickle',\n",
       " 'tlg0239.tlg003.pickle',\n",
       " 'tlg0218.tlg002.pickle']"
      ]
     },
     "execution_count": 163,
     "metadata": {},
     "output_type": "execute_result"
    }
   ],
   "execution_count": 163
  },
  {
   "metadata": {
    "ExecuteTime": {
     "end_time": "2024-09-10T14:36:38.550996Z",
     "start_time": "2024-09-10T14:36:37.349615Z"
    }
   },
   "cell_type": "code",
   "source": [
    "doc_id = \"tlg0497.tlg005\"\n",
    "url = \"http://data.perseus.org/catalog/urn:cts:greekLit:{}\".format(doc_id)\n",
    "soup = BeautifulSoup(requests.get(url).text)#"
   ],
   "outputs": [],
   "execution_count": 138
  },
  {
   "metadata": {
    "ExecuteTime": {
     "end_time": "2024-09-10T14:36:38.563588Z",
     "start_time": "2024-09-10T14:36:38.560171Z"
    }
   },
   "cell_type": "code",
   "source": [
    "def get_dd_content(dt_text):\n",
    "    dt_tag = soup.find('dt', string=dt_text)\n",
    "    if dt_tag is not None:\n",
    "        dd_tag = dt_tag.find_next_sibling('dd')\n",
    "        if dd_tag is not None:\n",
    "            return dd_tag.get_text(strip=True)  # Extract text and strip whitespace\n",
    "    return None\n",
    "\n",
    "\n",
    "work_title = get_dd_content(\"Work title:\")\n",
    "author = get_dd_content(\"Author:\")"
   ],
   "outputs": [],
   "execution_count": 139
  },
  {
   "metadata": {
    "ExecuteTime": {
     "end_time": "2024-09-10T14:36:38.590277Z",
     "start_time": "2024-09-10T14:36:38.587828Z"
    }
   },
   "cell_type": "code",
   "source": "work_title\n",
   "outputs": [
    {
     "data": {
      "text/plain": [
       "'Epigramma'"
      ]
     },
     "execution_count": 140,
     "metadata": {},
     "output_type": "execute_result"
    }
   ],
   "execution_count": 140
  },
  {
   "metadata": {
    "ExecuteTime": {
     "end_time": "2024-09-10T14:59:04.739060Z",
     "start_time": "2024-09-10T14:55:05.274679Z"
    }
   },
   "cell_type": "code",
   "source": [
    "not_lagt_data = []\n",
    "for fn in not_lagt:\n",
    "    doc_id = fn.rpartition(\".\")[0]\n",
    "    author_id = doc_id.partition(\".\")[0]\n",
    "    author = \"\"\n",
    "    title = \"\"\n",
    "    try:\n",
    "        url = \"http://data.perseus.org/catalog/urn:cts:greekLit:{}\".format(doc_id)\n",
    "        soup = BeautifulSoup(requests.get(url).text)#\n",
    "        try:\n",
    "            author = get_dd_content(\"Author:\")\n",
    "            title = get_dd_content(\"Work title:\")\n",
    "        except:\n",
    "            url = \"http://data.perseus.org/catalog/urn:cts:greekLit:{}\".format(author_id)\n",
    "            soup = BeautifulSoup(requests.get(url).text)\n",
    "            try:\n",
    "                author = get_dd_content(\"Author:\")\n",
    "            except:\n",
    "                pass\n",
    "    except:\n",
    "        pass\n",
    "    file_path = target_path + doc_id + \".pickle\"\n",
    "    with open(file_path, \"rb\") as f:\n",
    "        sentences_data = pickle.load(f)\n",
    "    sentences = [sent[2] for sent in sentences_data]\n",
    "    lemmatized_sentences = [[t[1] for t in sent[3] if t[2] in [\"n\", \"a\", \"v\"]] for sent in sentences_data]\n",
    "    not_lagt_data.append({\n",
    "        \"author_id\" : author_id,\n",
    "        \"doc_id\" : doc_id,\n",
    "        \"author\" : author,\n",
    "        \"title\" : title,\n",
    "        \"sentences\" : sentences,\n",
    "        \"lemmatized_sentences\" : lemmatized_sentences,\n",
    "        \"source\" : \"glaux1\",\n",
    "        \"lemmata_source\" : \"glaux1\"}\n",
    "    )"
   ],
   "outputs": [],
   "execution_count": 167
  },
  {
   "metadata": {
    "ExecuteTime": {
     "end_time": "2024-09-10T14:59:04.928451Z",
     "start_time": "2024-09-10T14:59:04.743005Z"
    }
   },
   "cell_type": "code",
   "source": [
    "LAGT_glaux1 = pd.DataFrame(not_lagt_data)\n",
    "len(LAGT_glaux1)"
   ],
   "outputs": [
    {
     "data": {
      "text/plain": [
       "229"
      ]
     },
     "execution_count": 168,
     "metadata": {},
     "output_type": "execute_result"
    }
   ],
   "execution_count": 168
  },
  {
   "metadata": {
    "ExecuteTime": {
     "end_time": "2024-09-10T15:02:45.929578Z",
     "start_time": "2024-09-10T15:02:45.924141Z"
    }
   },
   "cell_type": "code",
   "source": "len(LAGT)",
   "outputs": [
    {
     "data": {
      "text/plain": [
       "1710"
      ]
     },
     "execution_count": 180,
     "metadata": {},
     "output_type": "execute_result"
    }
   ],
   "execution_count": 180
  },
  {
   "metadata": {
    "ExecuteTime": {
     "end_time": "2024-09-10T15:02:52.503808Z",
     "start_time": "2024-09-10T15:02:52.458123Z"
    }
   },
   "cell_type": "code",
   "source": "LAGT = pd.concat([LAGT, LAGT_glaux1], ignore_index=True)",
   "outputs": [],
   "execution_count": 181
  },
  {
   "metadata": {
    "ExecuteTime": {
     "end_time": "2024-09-10T15:02:55.335734Z",
     "start_time": "2024-09-10T15:02:55.246192Z"
    }
   },
   "cell_type": "code",
   "source": "LAGT.sample(10)",
   "outputs": [
    {
     "data": {
      "text/plain": [
       "     author_id          doc_id                         filename  \\\n",
       "1424   tlg0062  tlg0062.tlg027  tlg0062.tlg027.perseus-grc2.xml   \n",
       "730    tlg2042  tlg2042.tlg075    tlg2042.tlg075.1st1K-grc1.xml   \n",
       "706    tlg2042  tlg2042.tlg021      tlg2042.tlg021.opp-grc1.xml   \n",
       "265    tlg0097  tlg0097.tlg001    tlg0097.tlg001.1st1K-grc1.xml   \n",
       "1730   tlg0007  tlg0007.tlg084                              NaN   \n",
       "1212   tlg0014  tlg0014.tlg022  tlg0014.tlg022.perseus-grc2.xml   \n",
       "1492   tlg0085  tlg0085.tlg005  tlg0085.tlg005.perseus-grc2.xml   \n",
       "678    tlg2034  tlg2034.tlg027    tlg2034.tlg027.1st1K-grc1.xml   \n",
       "1772   tlg1772  tlg1772.tlg001                              NaN   \n",
       "579    tlg1484  tlg1484.tlg001    tlg1484.tlg001.1st1K-grc1.xml   \n",
       "\n",
       "                       author  \\\n",
       "1424                   Lucian   \n",
       "730                    Origen   \n",
       "706                  Origenes   \n",
       "265   Diogenianus of Heraclea   \n",
       "1730                 Plutarch   \n",
       "1212              Demosthenes   \n",
       "1492                Aeschylus   \n",
       "678                Porphyrius   \n",
       "1772                     None   \n",
       "579                 Anonymous   \n",
       "\n",
       "                                                  title  \\\n",
       "1424                                        Περὶ Θυσιῶν   \n",
       "730        Expositio in Proverbia (fragmenta e catenis)   \n",
       "706                        In Jeremiam (Homiliae 12-20)   \n",
       "265   Παροιμίαι δημώδεις ἐκ τῆς Διογενιανοῦ συναγωγῆ...   \n",
       "1730                             Aetia Romana et Graeca   \n",
       "1212                         κατὰ Ἀνδροτίωνος παρανόμων   \n",
       "1492                                          Ἀγαμέμνων   \n",
       "678                   Historia philosophiae (fragmenta)   \n",
       "1772                                               None   \n",
       "579                                 Martyrium Polycarpi   \n",
       "\n",
       "                                                 string  wordcount   source  \\\n",
       "1424   ἃ μὲν γὰρ ἐν ταῖς θυσίαις οἱ μάταιοι πράττουσ...     1862.0  perseus   \n",
       "730   (1) Παροιμία ἐστὶ λόγος ἀπόκρυφος διʼ ἑτέρου π...    18536.0     1Kgr   \n",
       "706   Ὃ προστάσσεται ὁ προφήτης λέγειν ὑπὸ θεοῦ, ὀφε...    48360.0     1Kgr   \n",
       "265   Διογενιανοῦ περὶ παροιμιῶν. Τὴν παροιμίαν ὀνομ...    11267.0     1Kgr   \n",
       "1730                                                NaN        NaN   glaux1   \n",
       "1212  ὅπερ Εὐκτήμων, ὦ ἄνδρες δικασταί, παθὼν ὑπʼ Ἀν...     5634.0  perseus   \n",
       "1492  Φύλαξ θεοὺς μὲν αἰτῶ τῶνδʼ ἀπαλλαγὴν πόνων φρο...     8254.0  perseus   \n",
       "678   Suidas v. Πορφύριος: ἔγραψε βιβλία πάμπλειστα,...     2293.0     1Kgr   \n",
       "1772                                                NaN        NaN   glaux1   \n",
       "579    Ἡ ἐκκλησία τοῦ θεοῦ ἡ παροικοῦσα Σμύρναν τῇ ἐ...     2914.0     1Kgr   \n",
       "\n",
       "                                   lemmatized_sentences lemmata_source  \\\n",
       "1424  [[θυσία, μάταιος, πράσσω, ἑορτή, πρόσοδο...          glaux   \n",
       "730   [[παροιμία, εἰμί, λόγος, ἀπόκρυφος, πρό...          grecy   \n",
       "706                                                None          grecy   \n",
       "265                                                None          grecy   \n",
       "1730  [[γαμέω, ἅπτω, πῦρ, ὕδωρ, κελεύω], [στο...         glaux1   \n",
       "1212  [[Εὐκτήμων, ἀνήρ, δικαστής, πάσχω, Ἀνδρ...          glaux   \n",
       "1492  [[θεός, αἰτέω, ἀπαλλαγή, πόνος, φρουρά,...           agdt   \n",
       "678                                                None          grecy   \n",
       "1772  [[γίγνομαι, αἰχμαλωτεύω, υἱός, Ἰσραήλ, ...         glaux1   \n",
       "579   [[ἐκκλησία, θεός, παροικέω, Σμύρνα, ἐκκλ...          grecy   \n",
       "\n",
       "       tlg_date  not_before  not_after date_uncertain         tlg_epithet  \\\n",
       "1424     A.D. 2       101.0      200.0          False         [Sophistae]   \n",
       "730    A.D. 2-3       101.0      300.0          False        [Theologici]   \n",
       "706    A.D. 2-3       101.0      300.0          False        [Theologici]   \n",
       "265      A.D. 2       101.0      200.0          False        [Grammatici]   \n",
       "1730        NaN         NaN        NaN            NaN                 NaN   \n",
       "1212     4 B.C.      -400.0     -301.0          False          [Oratores]   \n",
       "1492   6-5 B.C.      -600.0     -401.0          False           [Tragici]   \n",
       "678      A.D. 3       201.0      300.0          False  [Philosophici/-ae]   \n",
       "1772        NaN         NaN        NaN            NaN                 NaN   \n",
       "579   p. A.D. 2       201.0        NaN          False                  []   \n",
       "\n",
       "     provenience  lemmatacount  \\\n",
       "1424       pagan         899.0   \n",
       "730    christian        8515.0   \n",
       "706    christian       16135.0   \n",
       "265        pagan        6209.0   \n",
       "1730         NaN           NaN   \n",
       "1212       pagan        2958.0   \n",
       "1492       pagan        5243.0   \n",
       "678        pagan         929.0   \n",
       "1772         NaN           NaN   \n",
       "579    christian        1314.0   \n",
       "\n",
       "                                              sentences  \n",
       "1424  [ἃ μὲν γὰρ ἐν ταῖς θυσίαις οἱ μάταιοι...  \n",
       "730   [παροιμία ἐστὶ λόγος ἀπόκρυφος δι’ ἑτέ...  \n",
       "706                                                None  \n",
       "265                                                None  \n",
       "1730  [διὰ τί τὴν γαμουμένην ἅπτεσθαι πυρὸς κ...  \n",
       "1212  [ὅπερ Εὐκτήμων, ὦ ἄνδρες δικασταί, πα...  \n",
       "1492  [θεοὺς μὲν αἰτῶ τῶνδ’ ἀπαλλαγὴν πόνων ...  \n",
       "678                                                None  \n",
       "1772  [ἐγένετο, ἡνίκα ᾐχμαλωτεύθησαν οἱ υἱο...  \n",
       "579   [ἡ ἐκκλησία τοῦ θεοῦ ἡ παροικοῦσα Σμύρ...  "
      ],
      "text/html": [
       "<div>\n",
       "<style scoped>\n",
       "    .dataframe tbody tr th:only-of-type {\n",
       "        vertical-align: middle;\n",
       "    }\n",
       "\n",
       "    .dataframe tbody tr th {\n",
       "        vertical-align: top;\n",
       "    }\n",
       "\n",
       "    .dataframe thead th {\n",
       "        text-align: right;\n",
       "    }\n",
       "</style>\n",
       "<table border=\"1\" class=\"dataframe\">\n",
       "  <thead>\n",
       "    <tr style=\"text-align: right;\">\n",
       "      <th></th>\n",
       "      <th>author_id</th>\n",
       "      <th>doc_id</th>\n",
       "      <th>filename</th>\n",
       "      <th>author</th>\n",
       "      <th>title</th>\n",
       "      <th>string</th>\n",
       "      <th>wordcount</th>\n",
       "      <th>source</th>\n",
       "      <th>lemmatized_sentences</th>\n",
       "      <th>lemmata_source</th>\n",
       "      <th>tlg_date</th>\n",
       "      <th>not_before</th>\n",
       "      <th>not_after</th>\n",
       "      <th>date_uncertain</th>\n",
       "      <th>tlg_epithet</th>\n",
       "      <th>provenience</th>\n",
       "      <th>lemmatacount</th>\n",
       "      <th>sentences</th>\n",
       "    </tr>\n",
       "  </thead>\n",
       "  <tbody>\n",
       "    <tr>\n",
       "      <th>1424</th>\n",
       "      <td>tlg0062</td>\n",
       "      <td>tlg0062.tlg027</td>\n",
       "      <td>tlg0062.tlg027.perseus-grc2.xml</td>\n",
       "      <td>Lucian</td>\n",
       "      <td>Περὶ Θυσιῶν</td>\n",
       "      <td>ἃ μὲν γὰρ ἐν ταῖς θυσίαις οἱ μάταιοι πράττουσ...</td>\n",
       "      <td>1862.0</td>\n",
       "      <td>perseus</td>\n",
       "      <td>[[θυσία, μάταιος, πράσσω, ἑορτή, πρόσοδο...</td>\n",
       "      <td>glaux</td>\n",
       "      <td>A.D. 2</td>\n",
       "      <td>101.0</td>\n",
       "      <td>200.0</td>\n",
       "      <td>False</td>\n",
       "      <td>[Sophistae]</td>\n",
       "      <td>pagan</td>\n",
       "      <td>899.0</td>\n",
       "      <td>[ἃ μὲν γὰρ ἐν ταῖς θυσίαις οἱ μάταιοι...</td>\n",
       "    </tr>\n",
       "    <tr>\n",
       "      <th>730</th>\n",
       "      <td>tlg2042</td>\n",
       "      <td>tlg2042.tlg075</td>\n",
       "      <td>tlg2042.tlg075.1st1K-grc1.xml</td>\n",
       "      <td>Origen</td>\n",
       "      <td>Expositio in Proverbia (fragmenta e catenis)</td>\n",
       "      <td>(1) Παροιμία ἐστὶ λόγος ἀπόκρυφος διʼ ἑτέρου π...</td>\n",
       "      <td>18536.0</td>\n",
       "      <td>1Kgr</td>\n",
       "      <td>[[παροιμία, εἰμί, λόγος, ἀπόκρυφος, πρό...</td>\n",
       "      <td>grecy</td>\n",
       "      <td>A.D. 2-3</td>\n",
       "      <td>101.0</td>\n",
       "      <td>300.0</td>\n",
       "      <td>False</td>\n",
       "      <td>[Theologici]</td>\n",
       "      <td>christian</td>\n",
       "      <td>8515.0</td>\n",
       "      <td>[παροιμία ἐστὶ λόγος ἀπόκρυφος δι’ ἑτέ...</td>\n",
       "    </tr>\n",
       "    <tr>\n",
       "      <th>706</th>\n",
       "      <td>tlg2042</td>\n",
       "      <td>tlg2042.tlg021</td>\n",
       "      <td>tlg2042.tlg021.opp-grc1.xml</td>\n",
       "      <td>Origenes</td>\n",
       "      <td>In Jeremiam (Homiliae 12-20)</td>\n",
       "      <td>Ὃ προστάσσεται ὁ προφήτης λέγειν ὑπὸ θεοῦ, ὀφε...</td>\n",
       "      <td>48360.0</td>\n",
       "      <td>1Kgr</td>\n",
       "      <td>None</td>\n",
       "      <td>grecy</td>\n",
       "      <td>A.D. 2-3</td>\n",
       "      <td>101.0</td>\n",
       "      <td>300.0</td>\n",
       "      <td>False</td>\n",
       "      <td>[Theologici]</td>\n",
       "      <td>christian</td>\n",
       "      <td>16135.0</td>\n",
       "      <td>None</td>\n",
       "    </tr>\n",
       "    <tr>\n",
       "      <th>265</th>\n",
       "      <td>tlg0097</td>\n",
       "      <td>tlg0097.tlg001</td>\n",
       "      <td>tlg0097.tlg001.1st1K-grc1.xml</td>\n",
       "      <td>Diogenianus of Heraclea</td>\n",
       "      <td>Παροιμίαι δημώδεις ἐκ τῆς Διογενιανοῦ συναγωγῆ...</td>\n",
       "      <td>Διογενιανοῦ περὶ παροιμιῶν. Τὴν παροιμίαν ὀνομ...</td>\n",
       "      <td>11267.0</td>\n",
       "      <td>1Kgr</td>\n",
       "      <td>None</td>\n",
       "      <td>grecy</td>\n",
       "      <td>A.D. 2</td>\n",
       "      <td>101.0</td>\n",
       "      <td>200.0</td>\n",
       "      <td>False</td>\n",
       "      <td>[Grammatici]</td>\n",
       "      <td>pagan</td>\n",
       "      <td>6209.0</td>\n",
       "      <td>None</td>\n",
       "    </tr>\n",
       "    <tr>\n",
       "      <th>1730</th>\n",
       "      <td>tlg0007</td>\n",
       "      <td>tlg0007.tlg084</td>\n",
       "      <td>NaN</td>\n",
       "      <td>Plutarch</td>\n",
       "      <td>Aetia Romana et Graeca</td>\n",
       "      <td>NaN</td>\n",
       "      <td>NaN</td>\n",
       "      <td>glaux1</td>\n",
       "      <td>[[γαμέω, ἅπτω, πῦρ, ὕδωρ, κελεύω], [στο...</td>\n",
       "      <td>glaux1</td>\n",
       "      <td>NaN</td>\n",
       "      <td>NaN</td>\n",
       "      <td>NaN</td>\n",
       "      <td>NaN</td>\n",
       "      <td>NaN</td>\n",
       "      <td>NaN</td>\n",
       "      <td>NaN</td>\n",
       "      <td>[διὰ τί τὴν γαμουμένην ἅπτεσθαι πυρὸς κ...</td>\n",
       "    </tr>\n",
       "    <tr>\n",
       "      <th>1212</th>\n",
       "      <td>tlg0014</td>\n",
       "      <td>tlg0014.tlg022</td>\n",
       "      <td>tlg0014.tlg022.perseus-grc2.xml</td>\n",
       "      <td>Demosthenes</td>\n",
       "      <td>κατὰ Ἀνδροτίωνος παρανόμων</td>\n",
       "      <td>ὅπερ Εὐκτήμων, ὦ ἄνδρες δικασταί, παθὼν ὑπʼ Ἀν...</td>\n",
       "      <td>5634.0</td>\n",
       "      <td>perseus</td>\n",
       "      <td>[[Εὐκτήμων, ἀνήρ, δικαστής, πάσχω, Ἀνδρ...</td>\n",
       "      <td>glaux</td>\n",
       "      <td>4 B.C.</td>\n",
       "      <td>-400.0</td>\n",
       "      <td>-301.0</td>\n",
       "      <td>False</td>\n",
       "      <td>[Oratores]</td>\n",
       "      <td>pagan</td>\n",
       "      <td>2958.0</td>\n",
       "      <td>[ὅπερ Εὐκτήμων, ὦ ἄνδρες δικασταί, πα...</td>\n",
       "    </tr>\n",
       "    <tr>\n",
       "      <th>1492</th>\n",
       "      <td>tlg0085</td>\n",
       "      <td>tlg0085.tlg005</td>\n",
       "      <td>tlg0085.tlg005.perseus-grc2.xml</td>\n",
       "      <td>Aeschylus</td>\n",
       "      <td>Ἀγαμέμνων</td>\n",
       "      <td>Φύλαξ θεοὺς μὲν αἰτῶ τῶνδʼ ἀπαλλαγὴν πόνων φρο...</td>\n",
       "      <td>8254.0</td>\n",
       "      <td>perseus</td>\n",
       "      <td>[[θεός, αἰτέω, ἀπαλλαγή, πόνος, φρουρά,...</td>\n",
       "      <td>agdt</td>\n",
       "      <td>6-5 B.C.</td>\n",
       "      <td>-600.0</td>\n",
       "      <td>-401.0</td>\n",
       "      <td>False</td>\n",
       "      <td>[Tragici]</td>\n",
       "      <td>pagan</td>\n",
       "      <td>5243.0</td>\n",
       "      <td>[θεοὺς μὲν αἰτῶ τῶνδ’ ἀπαλλαγὴν πόνων ...</td>\n",
       "    </tr>\n",
       "    <tr>\n",
       "      <th>678</th>\n",
       "      <td>tlg2034</td>\n",
       "      <td>tlg2034.tlg027</td>\n",
       "      <td>tlg2034.tlg027.1st1K-grc1.xml</td>\n",
       "      <td>Porphyrius</td>\n",
       "      <td>Historia philosophiae (fragmenta)</td>\n",
       "      <td>Suidas v. Πορφύριος: ἔγραψε βιβλία πάμπλειστα,...</td>\n",
       "      <td>2293.0</td>\n",
       "      <td>1Kgr</td>\n",
       "      <td>None</td>\n",
       "      <td>grecy</td>\n",
       "      <td>A.D. 3</td>\n",
       "      <td>201.0</td>\n",
       "      <td>300.0</td>\n",
       "      <td>False</td>\n",
       "      <td>[Philosophici/-ae]</td>\n",
       "      <td>pagan</td>\n",
       "      <td>929.0</td>\n",
       "      <td>None</td>\n",
       "    </tr>\n",
       "    <tr>\n",
       "      <th>1772</th>\n",
       "      <td>tlg1772</td>\n",
       "      <td>tlg1772.tlg001</td>\n",
       "      <td>NaN</td>\n",
       "      <td>None</td>\n",
       "      <td>None</td>\n",
       "      <td>NaN</td>\n",
       "      <td>NaN</td>\n",
       "      <td>glaux1</td>\n",
       "      <td>[[γίγνομαι, αἰχμαλωτεύω, υἱός, Ἰσραήλ, ...</td>\n",
       "      <td>glaux1</td>\n",
       "      <td>NaN</td>\n",
       "      <td>NaN</td>\n",
       "      <td>NaN</td>\n",
       "      <td>NaN</td>\n",
       "      <td>NaN</td>\n",
       "      <td>NaN</td>\n",
       "      <td>NaN</td>\n",
       "      <td>[ἐγένετο, ἡνίκα ᾐχμαλωτεύθησαν οἱ υἱο...</td>\n",
       "    </tr>\n",
       "    <tr>\n",
       "      <th>579</th>\n",
       "      <td>tlg1484</td>\n",
       "      <td>tlg1484.tlg001</td>\n",
       "      <td>tlg1484.tlg001.1st1K-grc1.xml</td>\n",
       "      <td>Anonymous</td>\n",
       "      <td>Martyrium Polycarpi</td>\n",
       "      <td>Ἡ ἐκκλησία τοῦ θεοῦ ἡ παροικοῦσα Σμύρναν τῇ ἐ...</td>\n",
       "      <td>2914.0</td>\n",
       "      <td>1Kgr</td>\n",
       "      <td>[[ἐκκλησία, θεός, παροικέω, Σμύρνα, ἐκκλ...</td>\n",
       "      <td>grecy</td>\n",
       "      <td>p. A.D. 2</td>\n",
       "      <td>201.0</td>\n",
       "      <td>NaN</td>\n",
       "      <td>False</td>\n",
       "      <td>[]</td>\n",
       "      <td>christian</td>\n",
       "      <td>1314.0</td>\n",
       "      <td>[ἡ ἐκκλησία τοῦ θεοῦ ἡ παροικοῦσα Σμύρ...</td>\n",
       "    </tr>\n",
       "  </tbody>\n",
       "</table>\n",
       "</div>"
      ]
     },
     "execution_count": 182,
     "metadata": {},
     "output_type": "execute_result"
    }
   ],
   "execution_count": 182
  },
  {
   "metadata": {
    "ExecuteTime": {
     "end_time": "2024-09-10T15:07:16.772313Z",
     "start_time": "2024-09-10T15:07:09.508792Z"
    }
   },
   "cell_type": "code",
   "source": "LAGT.to_parquet(\"../data/large_files/LAGT_glauxed.parquet\", engine=\"pyarrow\")",
   "outputs": [],
   "execution_count": 184
  },
  {
   "metadata": {},
   "cell_type": "code",
   "outputs": [],
   "execution_count": null,
   "source": ""
  }
 ],
 "metadata": {
  "colab": {
   "authorship_tag": "ABX9TyM+taOvEihjuZ2k0d8Zjz/M",
   "collapsed_sections": [],
   "name": "2_METADATA&LEMMATIZATION&OVERVIEW.ipynb",
   "provenance": [],
   "toc_visible": true
  },
  "kernelspec": {
   "name": "theos_kernel",
   "language": "python",
   "display_name": "theos_kernel"
  },
  "language_info": {
   "codemirror_mode": {
    "name": "ipython",
    "version": 3
   },
   "file_extension": ".py",
   "mimetype": "text/x-python",
   "name": "python",
   "nbconvert_exporter": "python",
   "pygments_lexer": "ipython3",
   "version": "3.6.9"
  }
 },
 "nbformat": 4,
 "nbformat_minor": 4
}
