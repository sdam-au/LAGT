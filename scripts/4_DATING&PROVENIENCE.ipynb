{
 "cells": [
  {
   "cell_type": "markdown",
   "metadata": {
    "colab_type": "text",
    "id": "EbixMMZchOgn"
   },
   "source": [
    "# Requirements"
   ]
  },
  {
   "cell_type": "code",
   "execution_count": 1,
   "metadata": {
    "colab": {
     "base_uri": "https://localhost:8080/",
     "height": 272
    },
    "colab_type": "code",
    "executionInfo": {
     "elapsed": 9878,
     "status": "ok",
     "timestamp": 1588779837403,
     "user": {
      "displayName": "Vojtěch Kaše",
      "photoUrl": "https://lh3.googleusercontent.com/a-/AOh14Ggz3jS9e7I3GdIEbyBKFtqr9tPdNCwyLBEJwbK8cw=s64",
      "userId": "01399835024022498543"
     },
     "user_tz": -120
    },
    "id": "QWRXmeoNhLsD",
    "outputId": "ae5620d8-2479-4587-c6ed-cdf64706b2a3",
    "ExecuteTime": {
     "end_time": "2024-01-18T08:47:01.693458Z",
     "start_time": "2024-01-18T08:46:57.912673Z"
    }
   },
   "outputs": [],
   "source": [
    "import os\n",
    "import json\n",
    "import pandas as pd\n",
    "import numpy as np\n",
    "import json\n",
    "import requests\n",
    "\n",
    "import re\n",
    "from itertools import islice # to iterate through dicts\n",
    "\n",
    "import gspread\n",
    "from gspread_dataframe import get_as_dataframe, set_with_dataframe\n",
    "from google.oauth2 import service_account # based on google-auth library\n",
    "import sddk"
   ]
  },
  {
   "cell_type": "code",
   "outputs": [],
   "source": [
    "LAGT = pd.read_json(\"../data/large_files/LAGT_grecy_20240116.json\")"
   ],
   "metadata": {
    "collapsed": false,
    "ExecuteTime": {
     "end_time": "2024-01-18T08:47:12.796232Z",
     "start_time": "2024-01-18T08:47:04.135670Z"
    }
   },
   "execution_count": 2
  },
  {
   "cell_type": "code",
   "outputs": [
    {
     "data": {
      "text/plain": "   author_id            doc_id                         filename  \\\n0    ggm0001    ggm0001.ggm001    ggm0001.ggm001.1st1K-grc1.xml   \n2    ogl0001    ogl0001.ogl001    ogl0001.ogl001.1st1K-grc1.xml   \n3  stoa0033a  stoa0033a.tlg028  stoa0033a.tlg028.1st1K-grc1.xml   \n4  stoa0033a  stoa0033a.tlg043  stoa0033a.tlg043.1st1K-grc1.xml   \n5   stoa0121  stoa0121.stoa001    stoa0121.stoa001.opp-grc1.xml   \n\n             author                            title  \\\n0         Anonymous               Anametresis Pontou   \n2           Pinytus  De Epistola Pinyti ad Dionysium   \n3  pseudo-Aristotle                         De mundo   \n4  pseudo-Aristotle                       De spiritu   \n5         Eutropius     Breviarium historiae romanae   \n\n                                              string  wordcount source  \\\n0  1. Χρὴ γινώσκειν ὅτι πάσης τῆς γῆς ὁ περίμετρο...        382   1Kgr   \n2  FRAGMENTUM BEATI PINYTI, CNOSSI IN CRETA EPISC...        180   1Kgr   \n3  ΠΟΛΛΑΚΙΣ μὲν ἔμοιγε θεῖόν τι καὶ δαιμόνιον ὄντ...       6294   1Kgr   \n4  ΤΙΣ ἡ τοῦ ἐμφύτου πνεύματος διαμονή, καὶ τίς ἡ...       3459   1Kgr   \n5  Τῆς Ῥωμαϊκῆς βασιλείας ἐν προοιμίοις οὐδὲν ἐγέ...      23867   1Kgr   \n\n                                lemmatized_sentences lemmata_source  \n0  [[Χρής, γιγνώσκω, γῆ, περίμετρος], [στάδιος, μ...           None  \n2  [[Πινυτός, ἀντιγράφω, θαυμάζω, ἀποδέχω, Διονύσ...           None  \n3  [[θεῖος, δαιμόνιον, χρῆμα, Ἀλέξανδρος, φιλοσοφ...           None  \n4  [[ἔμφυτος, πνεῦμα, διαμονή, αὔξησις], [Ὁρῶμεν,...           None  \n5  [[Ῥωμαϊκός, βασιλεία, προοίμιον, οὐδείς, γίγνο...           None  ",
      "text/html": "<div>\n<style scoped>\n    .dataframe tbody tr th:only-of-type {\n        vertical-align: middle;\n    }\n\n    .dataframe tbody tr th {\n        vertical-align: top;\n    }\n\n    .dataframe thead th {\n        text-align: right;\n    }\n</style>\n<table border=\"1\" class=\"dataframe\">\n  <thead>\n    <tr style=\"text-align: right;\">\n      <th></th>\n      <th>author_id</th>\n      <th>doc_id</th>\n      <th>filename</th>\n      <th>author</th>\n      <th>title</th>\n      <th>string</th>\n      <th>wordcount</th>\n      <th>source</th>\n      <th>lemmatized_sentences</th>\n      <th>lemmata_source</th>\n    </tr>\n  </thead>\n  <tbody>\n    <tr>\n      <th>0</th>\n      <td>ggm0001</td>\n      <td>ggm0001.ggm001</td>\n      <td>ggm0001.ggm001.1st1K-grc1.xml</td>\n      <td>Anonymous</td>\n      <td>Anametresis Pontou</td>\n      <td>1. Χρὴ γινώσκειν ὅτι πάσης τῆς γῆς ὁ περίμετρο...</td>\n      <td>382</td>\n      <td>1Kgr</td>\n      <td>[[Χρής, γιγνώσκω, γῆ, περίμετρος], [στάδιος, μ...</td>\n      <td>None</td>\n    </tr>\n    <tr>\n      <th>2</th>\n      <td>ogl0001</td>\n      <td>ogl0001.ogl001</td>\n      <td>ogl0001.ogl001.1st1K-grc1.xml</td>\n      <td>Pinytus</td>\n      <td>De Epistola Pinyti ad Dionysium</td>\n      <td>FRAGMENTUM BEATI PINYTI, CNOSSI IN CRETA EPISC...</td>\n      <td>180</td>\n      <td>1Kgr</td>\n      <td>[[Πινυτός, ἀντιγράφω, θαυμάζω, ἀποδέχω, Διονύσ...</td>\n      <td>None</td>\n    </tr>\n    <tr>\n      <th>3</th>\n      <td>stoa0033a</td>\n      <td>stoa0033a.tlg028</td>\n      <td>stoa0033a.tlg028.1st1K-grc1.xml</td>\n      <td>pseudo-Aristotle</td>\n      <td>De mundo</td>\n      <td>ΠΟΛΛΑΚΙΣ μὲν ἔμοιγε θεῖόν τι καὶ δαιμόνιον ὄντ...</td>\n      <td>6294</td>\n      <td>1Kgr</td>\n      <td>[[θεῖος, δαιμόνιον, χρῆμα, Ἀλέξανδρος, φιλοσοφ...</td>\n      <td>None</td>\n    </tr>\n    <tr>\n      <th>4</th>\n      <td>stoa0033a</td>\n      <td>stoa0033a.tlg043</td>\n      <td>stoa0033a.tlg043.1st1K-grc1.xml</td>\n      <td>pseudo-Aristotle</td>\n      <td>De spiritu</td>\n      <td>ΤΙΣ ἡ τοῦ ἐμφύτου πνεύματος διαμονή, καὶ τίς ἡ...</td>\n      <td>3459</td>\n      <td>1Kgr</td>\n      <td>[[ἔμφυτος, πνεῦμα, διαμονή, αὔξησις], [Ὁρῶμεν,...</td>\n      <td>None</td>\n    </tr>\n    <tr>\n      <th>5</th>\n      <td>stoa0121</td>\n      <td>stoa0121.stoa001</td>\n      <td>stoa0121.stoa001.opp-grc1.xml</td>\n      <td>Eutropius</td>\n      <td>Breviarium historiae romanae</td>\n      <td>Τῆς Ῥωμαϊκῆς βασιλείας ἐν προοιμίοις οὐδὲν ἐγέ...</td>\n      <td>23867</td>\n      <td>1Kgr</td>\n      <td>[[Ῥωμαϊκός, βασιλεία, προοίμιον, οὐδείς, γίγνο...</td>\n      <td>None</td>\n    </tr>\n  </tbody>\n</table>\n</div>"
     },
     "execution_count": 3,
     "metadata": {},
     "output_type": "execute_result"
    }
   ],
   "source": [
    "LAGT.head(5)"
   ],
   "metadata": {
    "collapsed": false,
    "ExecuteTime": {
     "end_time": "2024-01-18T08:47:14.492514Z",
     "start_time": "2024-01-18T08:47:14.464096Z"
    }
   },
   "execution_count": 3
  },
  {
   "cell_type": "code",
   "execution_count": 4,
   "metadata": {
    "colab": {
     "base_uri": "https://localhost:8080/",
     "height": 85
    },
    "colab_type": "code",
    "executionInfo": {
     "elapsed": 11242,
     "status": "ok",
     "timestamp": 1588774498489,
     "user": {
      "displayName": "Vojtěch Kaše",
      "photoUrl": "https://lh3.googleusercontent.com/a-/AOh14Ggz3jS9e7I3GdIEbyBKFtqr9tPdNCwyLBEJwbK8cw=s64",
      "userId": "01399835024022498543"
     },
     "user_tz": -120
    },
    "id": "cmC88KhGh7n2",
    "outputId": "4356c03e-47e1-4a6b-dc69-cf21efc97e0f",
    "ExecuteTime": {
     "end_time": "2024-01-05T20:50:50.357269Z",
     "start_time": "2024-01-05T20:50:42.501258Z"
    }
   },
   "outputs": [
    {
     "name": "stdout",
     "output_type": "stream",
     "text": [
      "connection with shared folder established with you as its ordinary user\n",
      "endpoint variable has been configured to: https://sciencedata.dk/sharingout/648597%40au.dk/SDAM_root/\n"
     ]
    }
   ],
   "source": [
    "s = sddk.cloudSession(\"sciencedata.dk\", \"SDAM_root\", \"648597@au.dk\")"
   ]
  },
  {
   "cell_type": "code",
   "execution_count": 5,
   "metadata": {
    "colab": {},
    "colab_type": "code",
    "id": "_wKUMZ-yjvEn",
    "ExecuteTime": {
     "end_time": "2024-01-05T20:50:52.376003Z",
     "start_time": "2024-01-05T20:50:51.292151Z"
    }
   },
   "outputs": [],
   "source": [
    "file_data = json.load(open(\"../../ServiceAccountsKey.json\"))\n",
    "# (2) transform the content into crendentials object\n",
    "credentials = service_account.Credentials.from_service_account_info(file_data)\n",
    "# (3) specify your usage of the credentials\n",
    "scoped_credentials = credentials.with_scopes(\n",
    "  ['https://spreadsheets.google.com/feeds', 'https://www.googleapis.com/auth/drive'])\n",
    "# (4) use the constrained credentials for authentication of gspread package\n",
    "gc = gspread.Client(auth=scoped_credentials)\n",
    "\n",
    "AGT_overview = gc.open_by_url(\"https://docs.google.com/spreadsheets/d/1iVta_FuEDgUM_Lf_yByrdbbXNoVH_dnVZs6QRyYv1NM/edit?usp=sharing\")\n",
    "# AGT_metadata = gc.open_by_url(\"https://docs.google.com/spreadsheets/d/1hEUnL3E07F-EnE3wYnk1V91aXfPDrcnhFHKjD-04CM0/edit?usp=sharing\")"
   ]
  },
  {
   "cell_type": "markdown",
   "metadata": {
    "colab_type": "text",
    "id": "R-TsWb91nXeB"
   },
   "source": [
    "# Extract tlg metadata from cltk github"
   ]
  },
  {
   "cell_type": "code",
   "execution_count": 4,
   "metadata": {
    "colab": {
     "base_uri": "https://localhost:8080/",
     "height": 54
    },
    "colab_type": "code",
    "executionInfo": {
     "elapsed": 784,
     "status": "ok",
     "timestamp": 1581068117558,
     "user": {
      "displayName": "Vojtěch Kaše",
      "photoUrl": "https://lh3.googleusercontent.com/a-/AAuE7mAxTlnyE78QMWq7qNrhY8cMOVti0SJqAGwQEptYkQ=s64",
      "userId": "01399835024022498543"
     },
     "user_tz": -60
    },
    "id": "DfbPAi3TktHw",
    "outputId": "9b8c8105-6cde-4ff4-cc30-efaa2dc0a73b",
    "ExecuteTime": {
     "end_time": "2024-01-08T09:29:01.392969Z",
     "start_time": "2024-01-08T09:29:01.092726Z"
    }
   },
   "outputs": [],
   "source": [
    "tlg_authordate = requests.get(\"https://raw.githubusercontent.com/cltk/cltk/master/src/cltk/corpora/grc/tlg/author_date.json\").json()"
   ]
  },
  {
   "cell_type": "code",
   "execution_count": 5,
   "metadata": {
    "colab": {
     "base_uri": "https://localhost:8080/",
     "height": 34
    },
    "colab_type": "code",
    "executionInfo": {
     "elapsed": 1842,
     "status": "ok",
     "timestamp": 1580827293901,
     "user": {
      "displayName": "Vojtěch Kaše",
      "photoUrl": "https://lh3.googleusercontent.com/a-/AAuE7mAxTlnyE78QMWq7qNrhY8cMOVti0SJqAGwQEptYkQ=s64",
      "userId": "01399835024022498543"
     },
     "user_tz": -60
    },
    "id": "5azRGdwllEHL",
    "outputId": "7f090f24-4b3b-467f-a782-97684a9fc777",
    "ExecuteTime": {
     "end_time": "2024-01-08T09:29:02.598512Z",
     "start_time": "2024-01-08T09:29:02.589401Z"
    }
   },
   "outputs": [],
   "source": [
    "### write it out for future usage\n",
    "#s.write_file(\"SDAM_data/OGL/tlg_authordate.json\", tlg_authordate)"
   ]
  },
  {
   "cell_type": "code",
   "outputs": [],
   "source": [
    "def parse_date_str(date_str):\n",
    "  not_before, not_after = None, None\n",
    "  if (\"B.C.\" in date_str) & (\"A.D.\" in date_str):\n",
    "    match = re.match(\"([p|a]\\.\\s)?(\\d+)?\\s(B\\.C\\.)(\\?)?(-|/)([p|a]\\.\\s)?(A\\.D\\.\\s)(\\d+)(\\?)?\", date_str)\n",
    "    try:\n",
    "      not_before = int(match.groups()[1]) * -100\n",
    "      not_after = int(match.groups()[-2]) * 100\n",
    "      if (\"a. \" in date_str) & (\"p. \" in date_str):\n",
    "        not_before += 100\n",
    "        not_after -= 100\n",
    "    except:\n",
    "      pass\n",
    "  elif \"B.C.\" in date_str:\n",
    "    match = re.match(\"([p|a]\\.\\s)?(\\d+)(\\?)?(-|/)?(\\d+)?(\\?)?\\s(B\\.C\\.)(\\?)?$\", date_str)\n",
    "    try:\n",
    "      if match.groups()[0] == \"p. \":\n",
    "        if match.groups()[4] != None:\n",
    "          not_before = (int(match.groups()[4]) - 1)   * -100\n",
    "        else:\n",
    "          not_before = (int(match.groups()[1]) - 1)   * -100\n",
    "      elif match.groups()[0] == \"a. \":\n",
    "        not_after = (int(match.groups()[1])  * -100) - 1\n",
    "      else:\n",
    "        not_before = int(match.groups()[1]) * -100\n",
    "        if match.groups()[4] != None:\n",
    "          not_after = (int(match.groups()[4]) * -100) + 99\n",
    "        else:\n",
    "          not_after = (int(match.groups()[1]) * -100) + 99\n",
    "    except:\n",
    "      pass\n",
    "  else:\n",
    "    match = re.match(\"([p|a]\\.\\s)?(A\\.D\\.\\s)(\\d+)(\\?)?(-|/)?(\\d+)?(\\?)?$\", date_str)\n",
    "    try:\n",
    "      if match.groups()[0] == \"p. \":\n",
    "        if match.groups()[5] != None:\n",
    "          not_before = int(match.groups()[5])   * 100 +1\n",
    "        else:\n",
    "          not_before = int(match.groups()[2])   * 100 +1\n",
    "      elif match.groups()[0] == \"a. \":\n",
    "        not_after = (int(match.groups()[2]) - 1)  * 100\n",
    "      else:\n",
    "        not_before = (int(match.groups()[2]) * 100) - 99\n",
    "        if match.groups()[4] != None:\n",
    "          not_after = (int(match.groups()[5]) * 100) \n",
    "        else:\n",
    "          not_after = (int(match.groups()[2]) * 100)\n",
    "    except:\n",
    "      pass\n",
    "  if not_after == 0:\n",
    "    not_after = -1\n",
    "  if not_before == 0:\n",
    "      not_before = 1\n",
    "  date_dict = {\"not_before\" : not_before, \"not_after\" : not_after}\n",
    "  if \"?\" in date_str:\n",
    "    date_dict[\"date_uncertain\"] = True\n",
    "  else:\n",
    "    date_dict[\"date_uncertain\"] = False\n",
    "  return date_dict "
   ],
   "metadata": {
    "collapsed": false,
    "ExecuteTime": {
     "end_time": "2024-01-08T09:30:19.175628Z",
     "start_time": "2024-01-08T09:30:19.170517Z"
    }
   },
   "execution_count": 8
  },
  {
   "cell_type": "code",
   "outputs": [
    {
     "data": {
      "text/plain": "{'1 B.C.': {'not_before': -100, 'not_after': -1, 'date_uncertain': False},\n '1 B.C.-A.D. 1': {'not_before': -100,\n  'not_after': 100,\n  'date_uncertain': False},\n '1 B.C.-A.D. 1?': {'not_before': -100,\n  'not_after': 100,\n  'date_uncertain': True},\n '1 B.C./A.D. 1': {'not_before': -100,\n  'not_after': 100,\n  'date_uncertain': False},\n '1 B.C./A.D. 1?': {'not_before': -100,\n  'not_after': 100,\n  'date_uncertain': True},\n '1 B.C./A.D. 4?': {'not_before': -100,\n  'not_after': 400,\n  'date_uncertain': True},\n '1 B.C.?': {'not_before': -100, 'not_after': -1, 'date_uncertain': True},\n '2 B.C.': {'not_before': -200, 'not_after': -101, 'date_uncertain': False},\n '2 B.C.-A.D. 4': {'not_before': -200,\n  'not_after': 400,\n  'date_uncertain': False},\n '2 B.C./A.D. 2': {'not_before': -200,\n  'not_after': 200,\n  'date_uncertain': False},\n '2 B.C./A.D. 2?': {'not_before': -200,\n  'not_after': 200,\n  'date_uncertain': True},\n '2 B.C./A.D. 3': {'not_before': -200,\n  'not_after': 300,\n  'date_uncertain': False},\n '2 B.C.?': {'not_before': -200, 'not_after': -101, 'date_uncertain': True},\n '2-1 B.C.': {'not_before': -200, 'not_after': -1, 'date_uncertain': False},\n '2-1 B.C.?': {'not_before': -200, 'not_after': -1, 'date_uncertain': True},\n '2/1 B.C.': {'not_before': -200, 'not_after': -1, 'date_uncertain': False},\n '2/1 B.C.?': {'not_before': -200, 'not_after': -1, 'date_uncertain': True},\n '3 B.C.': {'not_before': -300, 'not_after': -201, 'date_uncertain': False},\n '3 B.C./A.D. 1': {'not_before': -300,\n  'not_after': 100,\n  'date_uncertain': False},\n '3 B.C./A.D. 2': {'not_before': -300,\n  'not_after': 200,\n  'date_uncertain': False},\n '3 B.C.?': {'not_before': -300, 'not_after': -201, 'date_uncertain': True},\n '3 B.C.?/A.D. 1': {'not_before': -300,\n  'not_after': 100,\n  'date_uncertain': True},\n '3-2 B.C.': {'not_before': -300, 'not_after': -101, 'date_uncertain': False},\n '3-2 B.C.?': {'not_before': -300, 'not_after': -101, 'date_uncertain': True},\n '3/1 B.C.': {'not_before': -300, 'not_after': -1, 'date_uncertain': False},\n '3/2 B.C.': {'not_before': -300, 'not_after': -101, 'date_uncertain': False},\n '3/2 B.C.?': {'not_before': -300, 'not_after': -101, 'date_uncertain': True},\n '4 B.C.': {'not_before': -400, 'not_after': -301, 'date_uncertain': False},\n '4 B.C./A.D. 1': {'not_before': -400,\n  'not_after': 100,\n  'date_uncertain': False},\n '4 B.C./A.D. 2': {'not_before': -400,\n  'not_after': 200,\n  'date_uncertain': False},\n '4 B.C.?': {'not_before': -400, 'not_after': -301, 'date_uncertain': True},\n '4-2 B.C.': {'not_before': -400, 'not_after': -101, 'date_uncertain': False},\n '4-3 B.C.': {'not_before': -400, 'not_after': -201, 'date_uncertain': False},\n '4-3 B.C.?': {'not_before': -400, 'not_after': -201, 'date_uncertain': True},\n '4/1 B.C.': {'not_before': -400, 'not_after': -1, 'date_uncertain': False},\n '4/1 B.C.?': {'not_before': -400, 'not_after': -1, 'date_uncertain': True},\n '4/2 B.C.': {'not_before': -400, 'not_after': -101, 'date_uncertain': False},\n '4/2 B.C.?': {'not_before': -400, 'not_after': -101, 'date_uncertain': True},\n '4/3 B.C.': {'not_before': -400, 'not_after': -201, 'date_uncertain': False},\n '4/3 B.C.?': {'not_before': -400, 'not_after': -201, 'date_uncertain': True},\n '4?/2 B.C.': {'not_before': -400, 'not_after': -101, 'date_uncertain': True},\n '5 B.C.': {'not_before': -500, 'not_after': -401, 'date_uncertain': False},\n '5 B.C.?': {'not_before': -500, 'not_after': -401, 'date_uncertain': True},\n '5-4 B.C.': {'not_before': -500, 'not_after': -301, 'date_uncertain': False},\n '5-4 B.C.?': {'not_before': -500, 'not_after': -301, 'date_uncertain': True},\n '5/3 B.C.': {'not_before': -500, 'not_after': -201, 'date_uncertain': False},\n '5/3 B.C.?': {'not_before': -500, 'not_after': -201, 'date_uncertain': True},\n '5/4 B.C.': {'not_before': -500, 'not_after': -301, 'date_uncertain': False},\n '5/4 B.C.?': {'not_before': -500, 'not_after': -301, 'date_uncertain': True},\n '6 B.C.': {'not_before': -600, 'not_after': -501, 'date_uncertain': False},\n '6 B.C.?': {'not_before': -600, 'not_after': -501, 'date_uncertain': True},\n '6-5 B.C.': {'not_before': -600, 'not_after': -401, 'date_uncertain': False},\n '6/5 B.C.': {'not_before': -600, 'not_after': -401, 'date_uncertain': False},\n '7 B.C.': {'not_before': -700, 'not_after': -601, 'date_uncertain': False},\n '7-6 B.C.': {'not_before': -700, 'not_after': -501, 'date_uncertain': False},\n '7/6 B.C.': {'not_before': -700, 'not_after': -501, 'date_uncertain': False},\n '7/6 B.C.?': {'not_before': -700, 'not_after': -501, 'date_uncertain': True},\n '8 B.C.': {'not_before': -800, 'not_after': -701, 'date_uncertain': False},\n '8-6 B.C.': {'not_before': -800, 'not_after': -501, 'date_uncertain': False},\n '8/6 B.C.': {'not_before': -800, 'not_after': -501, 'date_uncertain': False},\n '8/6 B.C.?': {'not_before': -800, 'not_after': -501, 'date_uncertain': True},\n '8/7 B.C.': {'not_before': -800, 'not_after': -601, 'date_uncertain': False},\n '8/7 B.C.?': {'not_before': -800, 'not_after': -601, 'date_uncertain': True},\n 'A.D. 1': {'not_before': 1, 'not_after': 100, 'date_uncertain': False},\n 'A.D. 1-2': {'not_before': 1, 'not_after': 200, 'date_uncertain': False},\n 'A.D. 1-2?': {'not_before': 1, 'not_after': 200, 'date_uncertain': True},\n 'A.D. 1-7': {'not_before': 1, 'not_after': 700, 'date_uncertain': False},\n 'A.D. 1/2': {'not_before': 1, 'not_after': 200, 'date_uncertain': False},\n 'A.D. 1/2?': {'not_before': 1, 'not_after': 200, 'date_uncertain': True},\n 'A.D. 1/3': {'not_before': 1, 'not_after': 300, 'date_uncertain': False},\n 'A.D. 10': {'not_before': 901, 'not_after': 1000, 'date_uncertain': False},\n 'A.D. 10/15': {'not_before': 901, 'not_after': 1500, 'date_uncertain': False},\n 'A.D. 11': {'not_before': 1001, 'not_after': 1100, 'date_uncertain': False},\n 'A.D. 11-12': {'not_before': 1001,\n  'not_after': 1200,\n  'date_uncertain': False},\n 'A.D. 12': {'not_before': 1101, 'not_after': 1200, 'date_uncertain': False},\n 'A.D. 12-13': {'not_before': 1101,\n  'not_after': 1300,\n  'date_uncertain': False},\n 'A.D. 12?': {'not_before': 1101, 'not_after': 1200, 'date_uncertain': True},\n 'A.D. 13': {'not_before': 1201, 'not_after': 1300, 'date_uncertain': False},\n 'A.D. 13-14': {'not_before': 1201,\n  'not_after': 1400,\n  'date_uncertain': False},\n 'A.D. 14': {'not_before': 1301, 'not_after': 1400, 'date_uncertain': False},\n 'A.D. 14-15': {'not_before': 1301,\n  'not_after': 1500,\n  'date_uncertain': False},\n 'A.D. 15': {'not_before': 1401, 'not_after': 1500, 'date_uncertain': False},\n 'A.D. 15-16': {'not_before': 1401,\n  'not_after': 1600,\n  'date_uncertain': False},\n 'A.D. 1?': {'not_before': 1, 'not_after': 100, 'date_uncertain': True},\n 'A.D. 1?/6': {'not_before': 1, 'not_after': 600, 'date_uncertain': True},\n 'A.D. 2': {'not_before': 101, 'not_after': 200, 'date_uncertain': False},\n 'A.D. 2-3': {'not_before': 101, 'not_after': 300, 'date_uncertain': False},\n 'A.D. 2-3?': {'not_before': 101, 'not_after': 300, 'date_uncertain': True},\n 'A.D. 2/3': {'not_before': 101, 'not_after': 300, 'date_uncertain': False},\n 'A.D. 2/3?': {'not_before': 101, 'not_after': 300, 'date_uncertain': True},\n 'A.D. 2/4': {'not_before': 101, 'not_after': 400, 'date_uncertain': False},\n 'A.D. 2/4?': {'not_before': 101, 'not_after': 400, 'date_uncertain': True},\n 'A.D. 2?': {'not_before': 101, 'not_after': 200, 'date_uncertain': True},\n 'A.D. 2?/4': {'not_before': 101, 'not_after': 400, 'date_uncertain': True},\n 'A.D. 3': {'not_before': 201, 'not_after': 300, 'date_uncertain': False},\n 'A.D. 3-4': {'not_before': 201, 'not_after': 400, 'date_uncertain': False},\n 'A.D. 3/10': {'not_before': 201, 'not_after': 1000, 'date_uncertain': False},\n 'A.D. 3/4': {'not_before': 201, 'not_after': 400, 'date_uncertain': False},\n 'A.D. 3/4?': {'not_before': 201, 'not_after': 400, 'date_uncertain': True},\n 'A.D. 3/5': {'not_before': 201, 'not_after': 500, 'date_uncertain': False},\n 'A.D. 3?': {'not_before': 201, 'not_after': 300, 'date_uncertain': True},\n 'A.D. 4': {'not_before': 301, 'not_after': 400, 'date_uncertain': False},\n 'A.D. 4-5': {'not_before': 301, 'not_after': 500, 'date_uncertain': False},\n 'A.D. 4-5?': {'not_before': 301, 'not_after': 500, 'date_uncertain': True},\n 'A.D. 4/5': {'not_before': 301, 'not_after': 500, 'date_uncertain': False},\n 'A.D. 4/5?': {'not_before': 301, 'not_after': 500, 'date_uncertain': True},\n 'A.D. 4/6': {'not_before': 301, 'not_after': 600, 'date_uncertain': False},\n 'A.D. 4/6?': {'not_before': 301, 'not_after': 600, 'date_uncertain': True},\n 'A.D. 4?': {'not_before': 301, 'not_after': 400, 'date_uncertain': True},\n 'A.D. 5': {'not_before': 401, 'not_after': 500, 'date_uncertain': False},\n 'A.D. 5-6': {'not_before': 401, 'not_after': 600, 'date_uncertain': False},\n 'A.D. 5-6?': {'not_before': 401, 'not_after': 600, 'date_uncertain': True},\n 'A.D. 5/10': {'not_before': 401, 'not_after': 1000, 'date_uncertain': False},\n 'A.D. 5/6': {'not_before': 401, 'not_after': 600, 'date_uncertain': False},\n 'A.D. 5/6?': {'not_before': 401, 'not_after': 600, 'date_uncertain': True},\n 'A.D. 5/7': {'not_before': 401, 'not_after': 700, 'date_uncertain': False},\n 'A.D. 5?': {'not_before': 401, 'not_after': 500, 'date_uncertain': True},\n 'A.D. 6': {'not_before': 501, 'not_after': 600, 'date_uncertain': False},\n 'A.D. 6-10': {'not_before': 501, 'not_after': 1000, 'date_uncertain': False},\n 'A.D. 6-7': {'not_before': 501, 'not_after': 700, 'date_uncertain': False},\n 'A.D. 6/13': {'not_before': 501, 'not_after': 1300, 'date_uncertain': False},\n 'A.D. 6/7': {'not_before': 501, 'not_after': 700, 'date_uncertain': False},\n 'A.D. 6?': {'not_before': 501, 'not_after': 600, 'date_uncertain': True},\n 'A.D. 7': {'not_before': 601, 'not_after': 700, 'date_uncertain': False},\n 'A.D. 7-8': {'not_before': 601, 'not_after': 800, 'date_uncertain': False},\n 'A.D. 7/8': {'not_before': 601, 'not_after': 800, 'date_uncertain': False},\n 'A.D. 7/9': {'not_before': 601, 'not_after': 900, 'date_uncertain': False},\n 'A.D. 7?': {'not_before': 601, 'not_after': 700, 'date_uncertain': True},\n 'A.D. 8': {'not_before': 701, 'not_after': 800, 'date_uncertain': False},\n 'A.D. 8-9': {'not_before': 701, 'not_after': 900, 'date_uncertain': False},\n 'A.D. 8-9?': {'not_before': 701, 'not_after': 900, 'date_uncertain': True},\n 'A.D. 8/10': {'not_before': 701, 'not_after': 1000, 'date_uncertain': False},\n 'A.D. 9': {'not_before': 801, 'not_after': 900, 'date_uncertain': False},\n 'A.D. 9-10': {'not_before': 801, 'not_after': 1000, 'date_uncertain': False},\n 'A.D. 9/10': {'not_before': 801, 'not_after': 1000, 'date_uncertain': False},\n 'A.D. 9?': {'not_before': 801, 'not_after': 900, 'date_uncertain': True},\n 'Incertum': {'not_before': None, 'not_after': None, 'date_uncertain': False},\n 'Varia': {'not_before': None, 'not_after': None, 'date_uncertain': False},\n 'a. 1 B.C.': {'not_before': None, 'not_after': -101, 'date_uncertain': False},\n 'a. 1 B.C.?': {'not_before': None, 'not_after': -101, 'date_uncertain': True},\n 'a. 2 B.C.': {'not_before': None, 'not_after': -201, 'date_uncertain': False},\n 'a. 2 B.C.?': {'not_before': None, 'not_after': -201, 'date_uncertain': True},\n 'a. 3 B.C.': {'not_before': None, 'not_after': -301, 'date_uncertain': False},\n 'a. 3 B.C.?': {'not_before': None, 'not_after': -301, 'date_uncertain': True},\n 'a. 4 B.C.': {'not_before': None, 'not_after': -401, 'date_uncertain': False},\n 'a. 4 B.C.?': {'not_before': None, 'not_after': -401, 'date_uncertain': True},\n 'a. 5 B.C.': {'not_before': None, 'not_after': -501, 'date_uncertain': False},\n 'a. 6 B.C.': {'not_before': None, 'not_after': -601, 'date_uncertain': False},\n 'a. A.D. 1': {'not_before': None, 'not_after': -1, 'date_uncertain': False},\n 'a. A.D. 1/2': {'not_before': None, 'not_after': -1, 'date_uncertain': False},\n 'a. A.D. 10': {'not_before': None, 'not_after': 900, 'date_uncertain': False},\n 'a. A.D. 11': {'not_before': None,\n  'not_after': 1000,\n  'date_uncertain': False},\n 'a. A.D. 12': {'not_before': None,\n  'not_after': 1100,\n  'date_uncertain': False},\n 'a. A.D. 14': {'not_before': None,\n  'not_after': 1300,\n  'date_uncertain': False},\n 'a. A.D. 14/15': {'not_before': None,\n  'not_after': 1300,\n  'date_uncertain': False},\n 'a. A.D. 15': {'not_before': None,\n  'not_after': 1400,\n  'date_uncertain': False},\n 'a. A.D. 1?': {'not_before': None, 'not_after': -1, 'date_uncertain': True},\n 'a. A.D. 2': {'not_before': None, 'not_after': 100, 'date_uncertain': False},\n 'a. A.D. 2/3': {'not_before': None,\n  'not_after': 100,\n  'date_uncertain': False},\n 'a. A.D. 3': {'not_before': None, 'not_after': 200, 'date_uncertain': False},\n 'a. A.D. 3?': {'not_before': None, 'not_after': 200, 'date_uncertain': True},\n 'a. A.D. 4': {'not_before': None, 'not_after': 300, 'date_uncertain': False},\n 'a. A.D. 5': {'not_before': None, 'not_after': 400, 'date_uncertain': False},\n 'a. A.D. 5?': {'not_before': None, 'not_after': 400, 'date_uncertain': True},\n 'a. A.D. 8': {'not_before': None, 'not_after': 700, 'date_uncertain': False},\n 'p. 1 B.C.': {'not_before': 1, 'not_after': None, 'date_uncertain': False},\n 'p. 1 B.C.?': {'not_before': 1, 'not_after': None, 'date_uncertain': True},\n 'p. 2 B.C.': {'not_before': -100, 'not_after': None, 'date_uncertain': False},\n 'p. 3 B.C.': {'not_before': -200, 'not_after': None, 'date_uncertain': False},\n 'p. 4 B.C.': {'not_before': -300, 'not_after': None, 'date_uncertain': False},\n 'p. 4 B.C./a. A.D. 2': {'not_before': -300,\n  'not_after': 100,\n  'date_uncertain': False},\n 'p. 4 B.C.?': {'not_before': -300, 'not_after': None, 'date_uncertain': True},\n 'p. 5 B.C.': {'not_before': -400, 'not_after': None, 'date_uncertain': False},\n 'p. 7 B.C.': {'not_before': -600, 'not_after': None, 'date_uncertain': False},\n 'p. A.D. 1': {'not_before': 101, 'not_after': None, 'date_uncertain': False},\n 'p. A.D. 10': {'not_before': 1001,\n  'not_after': None,\n  'date_uncertain': False},\n 'p. A.D. 2': {'not_before': 201, 'not_after': None, 'date_uncertain': False},\n 'p. A.D. 3': {'not_before': 301, 'not_after': None, 'date_uncertain': False},\n 'p. A.D. 4': {'not_before': 401, 'not_after': None, 'date_uncertain': False},\n 'p. A.D. 5': {'not_before': 501, 'not_after': None, 'date_uncertain': False},\n 'p. A.D. 6': {'not_before': 601, 'not_after': None, 'date_uncertain': False},\n 'p. A.D. 7': {'not_before': 701, 'not_after': None, 'date_uncertain': False},\n 'p. A.D. 9/10': {'not_before': 1001,\n  'not_after': None,\n  'date_uncertain': False}}"
     },
     "execution_count": 9,
     "metadata": {},
     "output_type": "execute_result"
    }
   ],
   "source": [
    "dates_dict = {}\n",
    "for date_str in tlg_authordate.keys():\n",
    "  dates_dict[date_str] = parse_date_str(date_str)\n",
    "dates_dict"
   ],
   "metadata": {
    "collapsed": false,
    "ExecuteTime": {
     "end_time": "2024-01-08T09:30:19.923065Z",
     "start_time": "2024-01-08T09:30:19.919236Z"
    }
   },
   "execution_count": 9
  },
  {
   "cell_type": "markdown",
   "source": [
    "### Load LAGT"
   ],
   "metadata": {
    "collapsed": false
   }
  },
  {
   "cell_type": "code",
   "outputs": [],
   "source": [
    "LAGT = s.read_file(\"SDAM_data/AGT/AGT_raw_20240104.json\", \"df\")"
   ],
   "metadata": {
    "collapsed": false,
    "ExecuteTime": {
     "end_time": "2024-01-05T20:51:47.366716Z",
     "start_time": "2024-01-05T20:50:56.689336Z"
    }
   },
   "execution_count": 20
  },
  {
   "cell_type": "code",
   "outputs": [],
   "source": [
    "LAGT[\"author_id\"] = LAGT.apply(lambda row: row[\"filename\"][:7], axis=1)"
   ],
   "metadata": {
    "collapsed": false,
    "ExecuteTime": {
     "end_time": "2024-01-05T21:22:37.008242Z",
     "start_time": "2024-01-05T21:22:36.997973Z"
    }
   },
   "execution_count": 47
  },
  {
   "cell_type": "code",
   "outputs": [
    {
     "data": {
      "text/plain": "                          filename            author  \\\n0    ggm0001.ggm001.1st1K-grc1.xml         Anonymous   \n1    heb0001.heb010.1st1K-eng1.xml              None   \n2    ogl0001.ogl001.1st1K-grc1.xml           Pinytus   \n3  stoa0033a.tlg028.1st1K-grc1.xml  pseudo-Aristotle   \n4  stoa0033a.tlg043.1st1K-grc1.xml  pseudo-Aristotle   \n5    stoa0121.stoa001.opp-grc1.xml         Eutropius   \n6   stoa0146d.stoa001.opp-grc1.xml        Hegemonius   \n7   stoa0146d.stoa001.opp-lat1.xml        Hegemonius   \n8    tlg0005.tlg003.1st1K-grc1.xml        Theocritus   \n9    tlg0006.tlg020.1st1K-grc1.xml         Euripides   \n\n                             title  \\\n0               Anametresis Pontou   \n1                           Isaias   \n2  De Epistola Pinyti ad Dionysium   \n3                         De mundo   \n4                       De spiritu   \n5     Breviarium historiae romanae   \n6                    Acta Archelai   \n7                    Acta Archelai   \n8                           Syrinx   \n9                        Fragmenta   \n\n                                              string  wordcount source  \\\n0  1. Χρὴ γινώσκειν ὅτι πάσης τῆς γῆς ὁ περίμετρο...        382   1Kgr   \n1  FROM HEBREW I. 1 The vision of Isaiah the son ...      40168   1Kgr   \n2  FRAGMENTUM BEATI PINYTI, CNOSSI IN CRETA EPISC...        180   1Kgr   \n3  ΠΟΛΛΑΚΙΣ μὲν ἔμοιγε θεῖόν τι καὶ δαιμόνιον ὄντ...       6294   1Kgr   \n4  ΤΙΣ ἡ τοῦ ἐμφύτου πνεύματος διαμονή, καὶ τίς ἡ...       3459   1Kgr   \n5  Τῆς Ῥωμαϊκῆς βασιλείας ἐν προοιμίοις οὐδὲν ἐγέ...      23867   1Kgr   \n6  Μανιχαῖος ἀπόστολος Ἰησοῦ Χριστοῦ καὶ οἱ σὺν ἐ...       5166   1Kgr   \n7  Thesaurus verus sive disputatio habita in Carc...      42159   1Kgr   \n8  Οὐδενὸς εὐνάτειρα Μακροπτολέμοιο δὲ μάτηρ  μαί...         77   1Kgr   \n9  ποίαν σε φῶμεν γαῖαν ἐκλελοιπότα πόλει ξενοῦσθ...      17708   1Kgr   \n\n  author_id  tlg_date  not_before  not_after date_uncertain  \n0   ggm0001      None         NaN        NaN           None  \n1   heb0001      None         NaN        NaN           None  \n2   ogl0001      None         NaN        NaN           None  \n3   stoa003      None         NaN        NaN           None  \n4   stoa003      None         NaN        NaN           None  \n5   stoa012      None         NaN        NaN           None  \n6   stoa014      None         NaN        NaN           None  \n7   stoa014      None         NaN        NaN           None  \n8   tlg0005  4-3 B.C.      -400.0     -201.0          False  \n9   tlg0006    5 B.C.      -500.0     -401.0          False  ",
      "text/html": "<div>\n<style scoped>\n    .dataframe tbody tr th:only-of-type {\n        vertical-align: middle;\n    }\n\n    .dataframe tbody tr th {\n        vertical-align: top;\n    }\n\n    .dataframe thead th {\n        text-align: right;\n    }\n</style>\n<table border=\"1\" class=\"dataframe\">\n  <thead>\n    <tr style=\"text-align: right;\">\n      <th></th>\n      <th>filename</th>\n      <th>author</th>\n      <th>title</th>\n      <th>string</th>\n      <th>wordcount</th>\n      <th>source</th>\n      <th>author_id</th>\n      <th>tlg_date</th>\n      <th>not_before</th>\n      <th>not_after</th>\n      <th>date_uncertain</th>\n    </tr>\n  </thead>\n  <tbody>\n    <tr>\n      <th>0</th>\n      <td>ggm0001.ggm001.1st1K-grc1.xml</td>\n      <td>Anonymous</td>\n      <td>Anametresis Pontou</td>\n      <td>1. Χρὴ γινώσκειν ὅτι πάσης τῆς γῆς ὁ περίμετρο...</td>\n      <td>382</td>\n      <td>1Kgr</td>\n      <td>ggm0001</td>\n      <td>None</td>\n      <td>NaN</td>\n      <td>NaN</td>\n      <td>None</td>\n    </tr>\n    <tr>\n      <th>1</th>\n      <td>heb0001.heb010.1st1K-eng1.xml</td>\n      <td>None</td>\n      <td>Isaias</td>\n      <td>FROM HEBREW I. 1 The vision of Isaiah the son ...</td>\n      <td>40168</td>\n      <td>1Kgr</td>\n      <td>heb0001</td>\n      <td>None</td>\n      <td>NaN</td>\n      <td>NaN</td>\n      <td>None</td>\n    </tr>\n    <tr>\n      <th>2</th>\n      <td>ogl0001.ogl001.1st1K-grc1.xml</td>\n      <td>Pinytus</td>\n      <td>De Epistola Pinyti ad Dionysium</td>\n      <td>FRAGMENTUM BEATI PINYTI, CNOSSI IN CRETA EPISC...</td>\n      <td>180</td>\n      <td>1Kgr</td>\n      <td>ogl0001</td>\n      <td>None</td>\n      <td>NaN</td>\n      <td>NaN</td>\n      <td>None</td>\n    </tr>\n    <tr>\n      <th>3</th>\n      <td>stoa0033a.tlg028.1st1K-grc1.xml</td>\n      <td>pseudo-Aristotle</td>\n      <td>De mundo</td>\n      <td>ΠΟΛΛΑΚΙΣ μὲν ἔμοιγε θεῖόν τι καὶ δαιμόνιον ὄντ...</td>\n      <td>6294</td>\n      <td>1Kgr</td>\n      <td>stoa003</td>\n      <td>None</td>\n      <td>NaN</td>\n      <td>NaN</td>\n      <td>None</td>\n    </tr>\n    <tr>\n      <th>4</th>\n      <td>stoa0033a.tlg043.1st1K-grc1.xml</td>\n      <td>pseudo-Aristotle</td>\n      <td>De spiritu</td>\n      <td>ΤΙΣ ἡ τοῦ ἐμφύτου πνεύματος διαμονή, καὶ τίς ἡ...</td>\n      <td>3459</td>\n      <td>1Kgr</td>\n      <td>stoa003</td>\n      <td>None</td>\n      <td>NaN</td>\n      <td>NaN</td>\n      <td>None</td>\n    </tr>\n    <tr>\n      <th>5</th>\n      <td>stoa0121.stoa001.opp-grc1.xml</td>\n      <td>Eutropius</td>\n      <td>Breviarium historiae romanae</td>\n      <td>Τῆς Ῥωμαϊκῆς βασιλείας ἐν προοιμίοις οὐδὲν ἐγέ...</td>\n      <td>23867</td>\n      <td>1Kgr</td>\n      <td>stoa012</td>\n      <td>None</td>\n      <td>NaN</td>\n      <td>NaN</td>\n      <td>None</td>\n    </tr>\n    <tr>\n      <th>6</th>\n      <td>stoa0146d.stoa001.opp-grc1.xml</td>\n      <td>Hegemonius</td>\n      <td>Acta Archelai</td>\n      <td>Μανιχαῖος ἀπόστολος Ἰησοῦ Χριστοῦ καὶ οἱ σὺν ἐ...</td>\n      <td>5166</td>\n      <td>1Kgr</td>\n      <td>stoa014</td>\n      <td>None</td>\n      <td>NaN</td>\n      <td>NaN</td>\n      <td>None</td>\n    </tr>\n    <tr>\n      <th>7</th>\n      <td>stoa0146d.stoa001.opp-lat1.xml</td>\n      <td>Hegemonius</td>\n      <td>Acta Archelai</td>\n      <td>Thesaurus verus sive disputatio habita in Carc...</td>\n      <td>42159</td>\n      <td>1Kgr</td>\n      <td>stoa014</td>\n      <td>None</td>\n      <td>NaN</td>\n      <td>NaN</td>\n      <td>None</td>\n    </tr>\n    <tr>\n      <th>8</th>\n      <td>tlg0005.tlg003.1st1K-grc1.xml</td>\n      <td>Theocritus</td>\n      <td>Syrinx</td>\n      <td>Οὐδενὸς εὐνάτειρα Μακροπτολέμοιο δὲ μάτηρ  μαί...</td>\n      <td>77</td>\n      <td>1Kgr</td>\n      <td>tlg0005</td>\n      <td>4-3 B.C.</td>\n      <td>-400.0</td>\n      <td>-201.0</td>\n      <td>False</td>\n    </tr>\n    <tr>\n      <th>9</th>\n      <td>tlg0006.tlg020.1st1K-grc1.xml</td>\n      <td>Euripides</td>\n      <td>Fragmenta</td>\n      <td>ποίαν σε φῶμεν γαῖαν ἐκλελοιπότα πόλει ξενοῦσθ...</td>\n      <td>17708</td>\n      <td>1Kgr</td>\n      <td>tlg0006</td>\n      <td>5 B.C.</td>\n      <td>-500.0</td>\n      <td>-401.0</td>\n      <td>False</td>\n    </tr>\n  </tbody>\n</table>\n</div>"
     },
     "execution_count": 48,
     "metadata": {},
     "output_type": "execute_result"
    }
   ],
   "source": [
    "LAGT.head(10)"
   ],
   "metadata": {
    "collapsed": false,
    "ExecuteTime": {
     "end_time": "2024-01-05T21:22:37.594015Z",
     "start_time": "2024-01-05T21:22:37.577922Z"
    }
   },
   "execution_count": 48
  },
  {
   "cell_type": "markdown",
   "source": [
    "### Map TLG dates on LAGT"
   ],
   "metadata": {
    "collapsed": false
   }
  },
  {
   "cell_type": "code",
   "outputs": [],
   "source": [
    "tlg_authordate_reversed = {}\n",
    "for key, val in tlg_authordate.items():\n",
    "  for id in val:\n",
    "    tlg_authordate_reversed[\"tlg\" + id] = key "
   ],
   "metadata": {
    "collapsed": false,
    "ExecuteTime": {
     "end_time": "2024-01-05T21:22:38.001605Z",
     "start_time": "2024-01-05T21:22:37.994710Z"
    }
   },
   "execution_count": 49
  },
  {
   "cell_type": "code",
   "outputs": [],
   "source": [
    "def get_date(author_id):\n",
    "  try:\n",
    "    return tlg_authordate_reversed[author_id]\n",
    "  except:\n",
    "    return None\n",
    "LAGT[\"tlg_date\"] = LAGT[\"author_id\"].apply(get_date)"
   ],
   "metadata": {
    "collapsed": false,
    "ExecuteTime": {
     "end_time": "2024-01-05T21:22:38.598867Z",
     "start_time": "2024-01-05T21:22:38.588843Z"
    }
   },
   "execution_count": 50
  },
  {
   "cell_type": "code",
   "outputs": [],
   "source": [
    "for col in [\"not_before\", \"not_after\", \"date_uncertain\"]:\n",
    "  LAGT[col] = LAGT[\"tlg_date\"].apply(lambda x: dates_dict[x][col] if x is not None else None)"
   ],
   "metadata": {
    "collapsed": false,
    "ExecuteTime": {
     "end_time": "2024-01-05T21:22:39.018052Z",
     "start_time": "2024-01-05T21:22:39.007441Z"
    }
   },
   "execution_count": 51
  },
  {
   "cell_type": "code",
   "outputs": [
    {
     "data": {
      "text/plain": "                          filename            author  \\\n0    ggm0001.ggm001.1st1K-grc1.xml         Anonymous   \n1    heb0001.heb010.1st1K-eng1.xml              None   \n2    ogl0001.ogl001.1st1K-grc1.xml           Pinytus   \n3  stoa0033a.tlg028.1st1K-grc1.xml  pseudo-Aristotle   \n4  stoa0033a.tlg043.1st1K-grc1.xml  pseudo-Aristotle   \n5    stoa0121.stoa001.opp-grc1.xml         Eutropius   \n6   stoa0146d.stoa001.opp-grc1.xml        Hegemonius   \n7   stoa0146d.stoa001.opp-lat1.xml        Hegemonius   \n8    tlg0005.tlg003.1st1K-grc1.xml        Theocritus   \n9    tlg0006.tlg020.1st1K-grc1.xml         Euripides   \n\n                             title  \\\n0               Anametresis Pontou   \n1                           Isaias   \n2  De Epistola Pinyti ad Dionysium   \n3                         De mundo   \n4                       De spiritu   \n5     Breviarium historiae romanae   \n6                    Acta Archelai   \n7                    Acta Archelai   \n8                           Syrinx   \n9                        Fragmenta   \n\n                                              string  wordcount source  \\\n0  1. Χρὴ γινώσκειν ὅτι πάσης τῆς γῆς ὁ περίμετρο...        382   1Kgr   \n1  FROM HEBREW I. 1 The vision of Isaiah the son ...      40168   1Kgr   \n2  FRAGMENTUM BEATI PINYTI, CNOSSI IN CRETA EPISC...        180   1Kgr   \n3  ΠΟΛΛΑΚΙΣ μὲν ἔμοιγε θεῖόν τι καὶ δαιμόνιον ὄντ...       6294   1Kgr   \n4  ΤΙΣ ἡ τοῦ ἐμφύτου πνεύματος διαμονή, καὶ τίς ἡ...       3459   1Kgr   \n5  Τῆς Ῥωμαϊκῆς βασιλείας ἐν προοιμίοις οὐδὲν ἐγέ...      23867   1Kgr   \n6  Μανιχαῖος ἀπόστολος Ἰησοῦ Χριστοῦ καὶ οἱ σὺν ἐ...       5166   1Kgr   \n7  Thesaurus verus sive disputatio habita in Carc...      42159   1Kgr   \n8  Οὐδενὸς εὐνάτειρα Μακροπτολέμοιο δὲ μάτηρ  μαί...         77   1Kgr   \n9  ποίαν σε φῶμεν γαῖαν ἐκλελοιπότα πόλει ξενοῦσθ...      17708   1Kgr   \n\n  author_id  tlg_date  not_before  not_after date_uncertain  \n0   ggm0001      None         NaN        NaN           None  \n1   heb0001      None         NaN        NaN           None  \n2   ogl0001      None         NaN        NaN           None  \n3   stoa003      None         NaN        NaN           None  \n4   stoa003      None         NaN        NaN           None  \n5   stoa012      None         NaN        NaN           None  \n6   stoa014      None         NaN        NaN           None  \n7   stoa014      None         NaN        NaN           None  \n8   tlg0005  4-3 B.C.      -400.0     -201.0          False  \n9   tlg0006    5 B.C.      -500.0     -401.0          False  ",
      "text/html": "<div>\n<style scoped>\n    .dataframe tbody tr th:only-of-type {\n        vertical-align: middle;\n    }\n\n    .dataframe tbody tr th {\n        vertical-align: top;\n    }\n\n    .dataframe thead th {\n        text-align: right;\n    }\n</style>\n<table border=\"1\" class=\"dataframe\">\n  <thead>\n    <tr style=\"text-align: right;\">\n      <th></th>\n      <th>filename</th>\n      <th>author</th>\n      <th>title</th>\n      <th>string</th>\n      <th>wordcount</th>\n      <th>source</th>\n      <th>author_id</th>\n      <th>tlg_date</th>\n      <th>not_before</th>\n      <th>not_after</th>\n      <th>date_uncertain</th>\n    </tr>\n  </thead>\n  <tbody>\n    <tr>\n      <th>0</th>\n      <td>ggm0001.ggm001.1st1K-grc1.xml</td>\n      <td>Anonymous</td>\n      <td>Anametresis Pontou</td>\n      <td>1. Χρὴ γινώσκειν ὅτι πάσης τῆς γῆς ὁ περίμετρο...</td>\n      <td>382</td>\n      <td>1Kgr</td>\n      <td>ggm0001</td>\n      <td>None</td>\n      <td>NaN</td>\n      <td>NaN</td>\n      <td>None</td>\n    </tr>\n    <tr>\n      <th>1</th>\n      <td>heb0001.heb010.1st1K-eng1.xml</td>\n      <td>None</td>\n      <td>Isaias</td>\n      <td>FROM HEBREW I. 1 The vision of Isaiah the son ...</td>\n      <td>40168</td>\n      <td>1Kgr</td>\n      <td>heb0001</td>\n      <td>None</td>\n      <td>NaN</td>\n      <td>NaN</td>\n      <td>None</td>\n    </tr>\n    <tr>\n      <th>2</th>\n      <td>ogl0001.ogl001.1st1K-grc1.xml</td>\n      <td>Pinytus</td>\n      <td>De Epistola Pinyti ad Dionysium</td>\n      <td>FRAGMENTUM BEATI PINYTI, CNOSSI IN CRETA EPISC...</td>\n      <td>180</td>\n      <td>1Kgr</td>\n      <td>ogl0001</td>\n      <td>None</td>\n      <td>NaN</td>\n      <td>NaN</td>\n      <td>None</td>\n    </tr>\n    <tr>\n      <th>3</th>\n      <td>stoa0033a.tlg028.1st1K-grc1.xml</td>\n      <td>pseudo-Aristotle</td>\n      <td>De mundo</td>\n      <td>ΠΟΛΛΑΚΙΣ μὲν ἔμοιγε θεῖόν τι καὶ δαιμόνιον ὄντ...</td>\n      <td>6294</td>\n      <td>1Kgr</td>\n      <td>stoa003</td>\n      <td>None</td>\n      <td>NaN</td>\n      <td>NaN</td>\n      <td>None</td>\n    </tr>\n    <tr>\n      <th>4</th>\n      <td>stoa0033a.tlg043.1st1K-grc1.xml</td>\n      <td>pseudo-Aristotle</td>\n      <td>De spiritu</td>\n      <td>ΤΙΣ ἡ τοῦ ἐμφύτου πνεύματος διαμονή, καὶ τίς ἡ...</td>\n      <td>3459</td>\n      <td>1Kgr</td>\n      <td>stoa003</td>\n      <td>None</td>\n      <td>NaN</td>\n      <td>NaN</td>\n      <td>None</td>\n    </tr>\n    <tr>\n      <th>5</th>\n      <td>stoa0121.stoa001.opp-grc1.xml</td>\n      <td>Eutropius</td>\n      <td>Breviarium historiae romanae</td>\n      <td>Τῆς Ῥωμαϊκῆς βασιλείας ἐν προοιμίοις οὐδὲν ἐγέ...</td>\n      <td>23867</td>\n      <td>1Kgr</td>\n      <td>stoa012</td>\n      <td>None</td>\n      <td>NaN</td>\n      <td>NaN</td>\n      <td>None</td>\n    </tr>\n    <tr>\n      <th>6</th>\n      <td>stoa0146d.stoa001.opp-grc1.xml</td>\n      <td>Hegemonius</td>\n      <td>Acta Archelai</td>\n      <td>Μανιχαῖος ἀπόστολος Ἰησοῦ Χριστοῦ καὶ οἱ σὺν ἐ...</td>\n      <td>5166</td>\n      <td>1Kgr</td>\n      <td>stoa014</td>\n      <td>None</td>\n      <td>NaN</td>\n      <td>NaN</td>\n      <td>None</td>\n    </tr>\n    <tr>\n      <th>7</th>\n      <td>stoa0146d.stoa001.opp-lat1.xml</td>\n      <td>Hegemonius</td>\n      <td>Acta Archelai</td>\n      <td>Thesaurus verus sive disputatio habita in Carc...</td>\n      <td>42159</td>\n      <td>1Kgr</td>\n      <td>stoa014</td>\n      <td>None</td>\n      <td>NaN</td>\n      <td>NaN</td>\n      <td>None</td>\n    </tr>\n    <tr>\n      <th>8</th>\n      <td>tlg0005.tlg003.1st1K-grc1.xml</td>\n      <td>Theocritus</td>\n      <td>Syrinx</td>\n      <td>Οὐδενὸς εὐνάτειρα Μακροπτολέμοιο δὲ μάτηρ  μαί...</td>\n      <td>77</td>\n      <td>1Kgr</td>\n      <td>tlg0005</td>\n      <td>4-3 B.C.</td>\n      <td>-400.0</td>\n      <td>-201.0</td>\n      <td>False</td>\n    </tr>\n    <tr>\n      <th>9</th>\n      <td>tlg0006.tlg020.1st1K-grc1.xml</td>\n      <td>Euripides</td>\n      <td>Fragmenta</td>\n      <td>ποίαν σε φῶμεν γαῖαν ἐκλελοιπότα πόλει ξενοῦσθ...</td>\n      <td>17708</td>\n      <td>1Kgr</td>\n      <td>tlg0006</td>\n      <td>5 B.C.</td>\n      <td>-500.0</td>\n      <td>-401.0</td>\n      <td>False</td>\n    </tr>\n  </tbody>\n</table>\n</div>"
     },
     "execution_count": 52,
     "metadata": {},
     "output_type": "execute_result"
    }
   ],
   "source": [
    "LAGT.head(10)"
   ],
   "metadata": {
    "collapsed": false,
    "ExecuteTime": {
     "end_time": "2024-01-05T21:22:39.640829Z",
     "start_time": "2024-01-05T21:22:39.621821Z"
    }
   },
   "execution_count": 52
  },
  {
   "cell_type": "markdown",
   "source": [
    "### Clean some metadata manually (Homeric hymns and Greek New Testament)"
   ],
   "metadata": {
    "collapsed": false
   }
  },
  {
   "cell_type": "code",
   "outputs": [],
   "source": [
    "LAGT[\"not_before_man\"] = LAGT[\"not_before\"]\n",
    "LAGT[\"not_after_man\"] = LAGT[\"not_after\"]"
   ],
   "metadata": {
    "collapsed": false,
    "ExecuteTime": {
     "end_time": "2024-01-05T21:22:52.872208Z",
     "start_time": "2024-01-05T21:22:52.853751Z"
    }
   },
   "execution_count": 54
  },
  {
   "cell_type": "code",
   "outputs": [],
   "source": [
    "LAGT[\"doc_id\"] = LAGT[\"filename\"].apply(lambda x: x.rpartition(\".\")[0].rpartition(\".\")[0])"
   ],
   "metadata": {
    "collapsed": false,
    "ExecuteTime": {
     "end_time": "2024-01-05T21:32:03.015633Z",
     "start_time": "2024-01-05T21:32:02.981437Z"
    }
   },
   "execution_count": 57
  },
  {
   "cell_type": "code",
   "outputs": [],
   "source": [
    "## updated dates for the longest homeric hymns, based on:\n",
    "### Faulkner, Andrew, ‘Introduction. Modern Scholarship on the Homeric Hymns: Foundational Issues’, in The Homeric Hymns: Interpretative Essays, ed. by Andrew Faulkner (Oxford: Oxford University Press, 2011), pp. 1–25\n",
    "LAGT.loc[LAGT[\"doc_id\"].str.startswith(\"tlg0013\"), \"author\"] = \"Homeric hymn\"\n",
    "\n",
    "\n",
    "LAGT.loc[LAGT[\"doc_id\"] == \"tlg0013.tlg001\", \"author_id\"] = \"tlg0013dyon\"\n",
    "LAGT.loc[LAGT[\"doc_id\"] == \"tlg0013.tlg001\", \"not_before_man\"] = -700\n",
    "LAGT.loc[LAGT[\"doc_id\"] == \"tlg0013.tlg001\", \"not_after_man\"] = -601\n",
    "\n",
    "\n",
    "LAGT.loc[LAGT[\"doc_id\"] == \"tlg0013.tlg002\", \"author_id\"] = \"tlg0013deme\"\n",
    "LAGT.loc[LAGT[\"doc_id\"] == \"tlg0013.tlg002\", \"not_before_man\"] = -700\n",
    "LAGT.loc[LAGT[\"doc_id\"] == \"tlg0013.tlg002\", \"not_after_man\"] = -501\n",
    "\n",
    "\n",
    "LAGT.loc[LAGT[\"doc_id\"] == \"tlg0013.tlg003\", \"author_id\"] = \"tlg0013apol\"\n",
    "LAGT.loc[LAGT[\"doc_id\"] == \"tlg0013.tlg003\", \"not_before_man\"] = -700\n",
    "LAGT.loc[LAGT[\"doc_id\"] == \"tlg0013.tlg003\", \"not_after_man\"] = -501\n",
    "\n",
    "\n",
    "LAGT.loc[LAGT[\"doc_id\"] == \"tlg0013.tlg004\", \"author_id\"] = \"tlg0013herm\" # \"Ultimately, a late-sixth-century date for Hermes seems most attractive, but the Hymn could also belong to the ﬁrst half of the ﬁfth century.\"\n",
    "LAGT.loc[LAGT[\"doc_id\"] == \"tlg0013.tlg004\", \"not_before_man\"] = -600\n",
    "LAGT.loc[LAGT[\"doc_id\"] == \"tlg0013.tlg004\", \"not_after_man\"] = -401\n",
    "\n",
    "LAGT.loc[LAGT[\"doc_id\"] == \"tlg0013.tlg005\", \"author_id\"] = \"tlg0013aphr\"\n",
    "LAGT.loc[LAGT[\"doc_id\"] == \"tlg0013.tlg005\", \"not_before_man\"] = -700\n",
    "LAGT.loc[LAGT[\"doc_id\"] == \"tlg0013.tlg005\", \"not_after_man\"] = -501\n",
    "\n",
    "\n",
    "LAGT.loc[LAGT[\"doc_id\"] == \"tlg0013.tlg007\", \"author_id\"] = \"tlg0013dyo2\"\n",
    "LAGT.loc[LAGT[\"doc_id\"] == \"tlg0013.tlg007\", \"not_before_man\"] = -600\n",
    "LAGT.loc[LAGT[\"doc_id\"] == \"tlg0013.tlg007\", \"not_after_man\"] = -501\n",
    "\n",
    "LAGT.loc[LAGT[\"doc_id\"] == \"tlg0013.tlg019\", \"author_id\"] = \"tlg0013pan\"\n",
    "LAGT.loc[LAGT[\"doc_id\"] == \"tlg0013.tlg019\", \"not_before_man\"] = -600\n",
    "LAGT.loc[LAGT[\"doc_id\"] == \"tlg0013.tlg019\", \"not_after_man\"] = -501\n",
    "\n",
    "### drop all remaining\n",
    "#LAGT = LAGT[LAGT[\"author_id\"] != \"tlg0013\"]"
   ],
   "metadata": {
    "collapsed": false,
    "ExecuteTime": {
     "end_time": "2024-01-05T21:32:24.298428Z",
     "start_time": "2024-01-05T21:32:24.268029Z"
    }
   },
   "execution_count": 58
  },
  {
   "cell_type": "code",
   "outputs": [],
   "source": [
    "paul = [\"tlg0031.tlg006\", \"tlg0031.tlg007\", \"tlg0031.tlg008\", \"tlg0031.tlg009\", \"tlg0031.tlg011\", \"tlg0031.tlg013\", \"tlg0031.tlg018\"]\n",
    "pauline = [\"tlg0031.tlg010\", \"tlg0031.tlg012\", \"tlg0031.tlg014\", \"tlg0031.tlg015\", \"tlg0031.tlg016\", \"tlg0031.tlg017\", ]\n",
    "john = [\"tlg0031.tlg004\", \"tlg0031.tlg023\", \"tlg0031.tlg024\", \"tlg0031.tlg025\"]\n",
    "luke = [\"tlg0031.tlg003\", \"tlg0031.tlg005\"]\n",
    "\n",
    "for work in paul:\n",
    "  LAGT.loc[LAGT[\"doc_id\"]==work, \"author_id\"] = \"tlg0031paul\"\n",
    "  LAGT.loc[LAGT[\"doc_id\"]==work, \"author\"] = \"Paul of Tarsus\"\n",
    "\n",
    "for work in pauline:\n",
    "  LAGT.loc[LAGT[\"doc_id\"]==work, \"author_id\"] = \"tlg0031pspa\"\n",
    "  LAGT.loc[LAGT[\"doc_id\"]==work, \"author\"] = \"Pauline literature\"\n",
    "\n",
    "for work in john:\n",
    "  LAGT.loc[LAGT[\"doc_id\"]==work, \"author_id\"] = \"tlg0031john\"\n",
    "  LAGT.loc[LAGT[\"doc_id\"]==work, \"author\"] = \"Johnannine literature\"\n",
    "\n",
    "for work in luke:\n",
    "  LAGT.loc[LAGT[\"doc_id\"]==work, \"author_id\"] = \"tlg0031luke\"\n",
    "  LAGT.loc[LAGT[\"doc_id\"]==work, \"author\"] = \"Luke (the evangelist)\""
   ],
   "metadata": {
    "collapsed": false,
    "ExecuteTime": {
     "end_time": "2024-01-05T21:36:06.742726Z",
     "start_time": "2024-01-05T21:36:06.721858Z"
    }
   },
   "execution_count": 59
  },
  {
   "cell_type": "code",
   "outputs": [],
   "source": [
    "import string\n",
    "for letter, index in zip(list(string.ascii_lowercase)[:14], LAGT[LAGT[\"author_id\"]==\"tlg0031\"].index.tolist()):\n",
    "  LAGT.at[index, \"author_id\"] = \"tlg0031\" + letter"
   ],
   "metadata": {
    "collapsed": false,
    "ExecuteTime": {
     "end_time": "2024-01-05T21:37:38.202904Z",
     "start_time": "2024-01-05T21:37:38.176389Z"
    }
   },
   "execution_count": 60
  },
  {
   "cell_type": "code",
   "outputs": [],
   "source": [],
   "metadata": {
    "collapsed": false
   }
  },
  {
   "cell_type": "code",
   "outputs": [],
   "source": [],
   "metadata": {
    "collapsed": false
   }
  },
  {
   "cell_type": "markdown",
   "source": [
    "# Aggregate data for authors"
   ],
   "metadata": {
    "collapsed": false
   }
  },
  {
   "cell_type": "code",
   "outputs": [],
   "source": [
    "authors_titles = LAGT.groupby([\"author_id\"])[\"title\"].agg(list).reset_index(name=\"titles\")\n",
    "authors_titles_dict = authors_titles.set_index('author_id')['titles'].to_dict()\n",
    "\n",
    "authors_sources = LAGT.groupby([\"author_id\"])[\"source\"].agg(list).reset_index(name=\"sources\")\n",
    "authors_sources_dict = authors_sources.set_index('author_id')['sources'].to_dict()\n",
    "\n",
    "authors_wordcounts_dict = LAGT.groupby([\"author_id\"]).sum()['wordcount'].to_dict()"
   ],
   "metadata": {
    "collapsed": false,
    "ExecuteTime": {
     "end_time": "2024-01-05T21:40:17.286584Z",
     "start_time": "2024-01-05T21:40:16.606348Z"
    }
   },
   "execution_count": 61
  },
  {
   "cell_type": "code",
   "outputs": [],
   "source": [
    "authors_df = LAGT.drop_duplicates(subset=\"author_id\").drop(columns=[\"filename\", \"title\", \"string\", \"wordcount\", \"source\", \"doc_id\"])\n",
    "authors_df[\"titles\"] = authors_df[\"author_id\"].map(authors_titles_dict)\n",
    "authors_df[\"sources\"] = authors_df[\"author_id\"].map(authors_sources_dict)\n",
    "authors_df[\"wordcounts\"] = authors_df[\"author_id\"].map(authors_wordcounts_dict)"
   ],
   "metadata": {
    "collapsed": false,
    "ExecuteTime": {
     "end_time": "2024-01-05T21:59:04.894349Z",
     "start_time": "2024-01-05T21:59:04.887420Z"
    }
   },
   "execution_count": 75
  },
  {
   "cell_type": "code",
   "outputs": [
    {
     "data": {
      "text/plain": "              author author_id  tlg_date  not_before  not_after  \\\n0          Anonymous   ggm0001      None         NaN        NaN   \n1               None   heb0001      None         NaN        NaN   \n2            Pinytus   ogl0001      None         NaN        NaN   \n3   pseudo-Aristotle   stoa003      None         NaN        NaN   \n5          Eutropius   stoa012      None         NaN        NaN   \n6         Hegemonius   stoa014      None         NaN        NaN   \n8         Theocritus   tlg0005  4-3 B.C.      -400.0     -201.0   \n9          Euripides   tlg0006    5 B.C.      -500.0     -401.0   \n10          Plutarch   tlg0007  A.D. 1-2         1.0      200.0   \n12          Herodian   tlg0015  A.D. 2-3       101.0      300.0   \n\n   date_uncertain  not_before_man  not_after_man  \\\n0            None             NaN            NaN   \n1            None             NaN            NaN   \n2            None             NaN            NaN   \n3            None             NaN            NaN   \n5            None             NaN            NaN   \n6            None             NaN            NaN   \n8           False          -400.0         -201.0   \n9           False          -500.0         -401.0   \n10          False             1.0          200.0   \n12          False           101.0          300.0   \n\n                                               titles  \\\n0                                [Anametresis Pontou]   \n1                                            [Isaias]   \n2                   [De Epistola Pinyti ad Dionysium]   \n3                              [De mundo, De spiritu]   \n5                      [Breviarium historiae romanae]   \n6                      [Acta Archelai, Acta Archelai]   \n8                     [Syrinx, Εἰδύλλια, Ἐπιγράμματα]   \n9   [Fragmenta, Κύκλωψ, Ἄλκηστις, Μήδεια, Ἡρακλεῖδ...   \n10  [Παροιμίαι αἷς Ἀλεξανδρεῖς ἐχρῶντο, Ἐκλογὴ περ...   \n12                            [Ab excessu divi Marci]   \n\n                                              sources  wordcounts  \n0                                              [1Kgr]         382  \n1                                              [1Kgr]       40168  \n2                                              [1Kgr]         180  \n3                                        [1Kgr, 1Kgr]        9753  \n5                                              [1Kgr]       23867  \n6                                        [1Kgr, 1Kgr]       47325  \n8                            [1Kgr, perseus, perseus]       21262  \n9   [1Kgr, perseus, perseus, perseus, perseus, per...      166426  \n10  [1Kgr, 1Kgr, perseus, perseus, perseus, perseu...     1139617  \n12                                             [1Kgr]       46751  ",
      "text/html": "<div>\n<style scoped>\n    .dataframe tbody tr th:only-of-type {\n        vertical-align: middle;\n    }\n\n    .dataframe tbody tr th {\n        vertical-align: top;\n    }\n\n    .dataframe thead th {\n        text-align: right;\n    }\n</style>\n<table border=\"1\" class=\"dataframe\">\n  <thead>\n    <tr style=\"text-align: right;\">\n      <th></th>\n      <th>author</th>\n      <th>author_id</th>\n      <th>tlg_date</th>\n      <th>not_before</th>\n      <th>not_after</th>\n      <th>date_uncertain</th>\n      <th>not_before_man</th>\n      <th>not_after_man</th>\n      <th>titles</th>\n      <th>sources</th>\n      <th>wordcounts</th>\n    </tr>\n  </thead>\n  <tbody>\n    <tr>\n      <th>0</th>\n      <td>Anonymous</td>\n      <td>ggm0001</td>\n      <td>None</td>\n      <td>NaN</td>\n      <td>NaN</td>\n      <td>None</td>\n      <td>NaN</td>\n      <td>NaN</td>\n      <td>[Anametresis Pontou]</td>\n      <td>[1Kgr]</td>\n      <td>382</td>\n    </tr>\n    <tr>\n      <th>1</th>\n      <td>None</td>\n      <td>heb0001</td>\n      <td>None</td>\n      <td>NaN</td>\n      <td>NaN</td>\n      <td>None</td>\n      <td>NaN</td>\n      <td>NaN</td>\n      <td>[Isaias]</td>\n      <td>[1Kgr]</td>\n      <td>40168</td>\n    </tr>\n    <tr>\n      <th>2</th>\n      <td>Pinytus</td>\n      <td>ogl0001</td>\n      <td>None</td>\n      <td>NaN</td>\n      <td>NaN</td>\n      <td>None</td>\n      <td>NaN</td>\n      <td>NaN</td>\n      <td>[De Epistola Pinyti ad Dionysium]</td>\n      <td>[1Kgr]</td>\n      <td>180</td>\n    </tr>\n    <tr>\n      <th>3</th>\n      <td>pseudo-Aristotle</td>\n      <td>stoa003</td>\n      <td>None</td>\n      <td>NaN</td>\n      <td>NaN</td>\n      <td>None</td>\n      <td>NaN</td>\n      <td>NaN</td>\n      <td>[De mundo, De spiritu]</td>\n      <td>[1Kgr, 1Kgr]</td>\n      <td>9753</td>\n    </tr>\n    <tr>\n      <th>5</th>\n      <td>Eutropius</td>\n      <td>stoa012</td>\n      <td>None</td>\n      <td>NaN</td>\n      <td>NaN</td>\n      <td>None</td>\n      <td>NaN</td>\n      <td>NaN</td>\n      <td>[Breviarium historiae romanae]</td>\n      <td>[1Kgr]</td>\n      <td>23867</td>\n    </tr>\n    <tr>\n      <th>6</th>\n      <td>Hegemonius</td>\n      <td>stoa014</td>\n      <td>None</td>\n      <td>NaN</td>\n      <td>NaN</td>\n      <td>None</td>\n      <td>NaN</td>\n      <td>NaN</td>\n      <td>[Acta Archelai, Acta Archelai]</td>\n      <td>[1Kgr, 1Kgr]</td>\n      <td>47325</td>\n    </tr>\n    <tr>\n      <th>8</th>\n      <td>Theocritus</td>\n      <td>tlg0005</td>\n      <td>4-3 B.C.</td>\n      <td>-400.0</td>\n      <td>-201.0</td>\n      <td>False</td>\n      <td>-400.0</td>\n      <td>-201.0</td>\n      <td>[Syrinx, Εἰδύλλια, Ἐπιγράμματα]</td>\n      <td>[1Kgr, perseus, perseus]</td>\n      <td>21262</td>\n    </tr>\n    <tr>\n      <th>9</th>\n      <td>Euripides</td>\n      <td>tlg0006</td>\n      <td>5 B.C.</td>\n      <td>-500.0</td>\n      <td>-401.0</td>\n      <td>False</td>\n      <td>-500.0</td>\n      <td>-401.0</td>\n      <td>[Fragmenta, Κύκλωψ, Ἄλκηστις, Μήδεια, Ἡρακλεῖδ...</td>\n      <td>[1Kgr, perseus, perseus, perseus, perseus, per...</td>\n      <td>166426</td>\n    </tr>\n    <tr>\n      <th>10</th>\n      <td>Plutarch</td>\n      <td>tlg0007</td>\n      <td>A.D. 1-2</td>\n      <td>1.0</td>\n      <td>200.0</td>\n      <td>False</td>\n      <td>1.0</td>\n      <td>200.0</td>\n      <td>[Παροιμίαι αἷς Ἀλεξανδρεῖς ἐχρῶντο, Ἐκλογὴ περ...</td>\n      <td>[1Kgr, 1Kgr, perseus, perseus, perseus, perseu...</td>\n      <td>1139617</td>\n    </tr>\n    <tr>\n      <th>12</th>\n      <td>Herodian</td>\n      <td>tlg0015</td>\n      <td>A.D. 2-3</td>\n      <td>101.0</td>\n      <td>300.0</td>\n      <td>False</td>\n      <td>101.0</td>\n      <td>300.0</td>\n      <td>[Ab excessu divi Marci]</td>\n      <td>[1Kgr]</td>\n      <td>46751</td>\n    </tr>\n  </tbody>\n</table>\n</div>"
     },
     "execution_count": 76,
     "metadata": {},
     "output_type": "execute_result"
    }
   ],
   "source": [
    "authors_df.head(10)"
   ],
   "metadata": {
    "collapsed": false,
    "ExecuteTime": {
     "end_time": "2024-01-05T21:59:05.337635Z",
     "start_time": "2024-01-05T21:59:05.317020Z"
    }
   },
   "execution_count": 76
  },
  {
   "cell_type": "code",
   "outputs": [],
   "source": [],
   "metadata": {
    "collapsed": false,
    "ExecuteTime": {
     "end_time": "2024-01-05T21:59:05.838209Z",
     "start_time": "2024-01-05T21:59:05.832620Z"
    }
   },
   "execution_count": 76
  },
  {
   "cell_type": "markdown",
   "metadata": {
    "colab_type": "text",
    "id": "kNiqNgdIiuek"
   },
   "source": [
    "# Merge with our previously coded metadata for authors\n"
   ]
  },
  {
   "cell_type": "code",
   "outputs": [
    {
     "data": {
      "text/plain": "  author id                name provenience  date  N of works  N of words\n0   tlg0001  Apollonius Rhodius       pagan  -2.5           1       38822\n1   tlg0003          Thucydides       pagan  -4.5           1      150160\n2   tlg0004   Diogenes Laertius       pagan   2.5           1      111053\n3   tlg0005          Theocritus       pagan  -3.0           2       21321\n4   tlg0006           Euripides       pagan  -4.5          13      112900",
      "text/html": "<div>\n<style scoped>\n    .dataframe tbody tr th:only-of-type {\n        vertical-align: middle;\n    }\n\n    .dataframe tbody tr th {\n        vertical-align: top;\n    }\n\n    .dataframe thead th {\n        text-align: right;\n    }\n</style>\n<table border=\"1\" class=\"dataframe\">\n  <thead>\n    <tr style=\"text-align: right;\">\n      <th></th>\n      <th>author id</th>\n      <th>name</th>\n      <th>provenience</th>\n      <th>date</th>\n      <th>N of works</th>\n      <th>N of words</th>\n    </tr>\n  </thead>\n  <tbody>\n    <tr>\n      <th>0</th>\n      <td>tlg0001</td>\n      <td>Apollonius Rhodius</td>\n      <td>pagan</td>\n      <td>-2.5</td>\n      <td>1</td>\n      <td>38822</td>\n    </tr>\n    <tr>\n      <th>1</th>\n      <td>tlg0003</td>\n      <td>Thucydides</td>\n      <td>pagan</td>\n      <td>-4.5</td>\n      <td>1</td>\n      <td>150160</td>\n    </tr>\n    <tr>\n      <th>2</th>\n      <td>tlg0004</td>\n      <td>Diogenes Laertius</td>\n      <td>pagan</td>\n      <td>2.5</td>\n      <td>1</td>\n      <td>111053</td>\n    </tr>\n    <tr>\n      <th>3</th>\n      <td>tlg0005</td>\n      <td>Theocritus</td>\n      <td>pagan</td>\n      <td>-3.0</td>\n      <td>2</td>\n      <td>21321</td>\n    </tr>\n    <tr>\n      <th>4</th>\n      <td>tlg0006</td>\n      <td>Euripides</td>\n      <td>pagan</td>\n      <td>-4.5</td>\n      <td>13</td>\n      <td>112900</td>\n    </tr>\n  </tbody>\n</table>\n</div>"
     },
     "execution_count": 77,
     "metadata": {},
     "output_type": "execute_result"
    }
   ],
   "source": [
    "authors_old = get_as_dataframe(AGT_overview.worksheet(\"authors_overview_20201019\"))\n",
    "authors_old.head(5)"
   ],
   "metadata": {
    "collapsed": false,
    "ExecuteTime": {
     "end_time": "2024-01-05T21:59:17.514795Z",
     "start_time": "2024-01-05T21:59:16.747267Z"
    }
   },
   "execution_count": 77
  },
  {
   "cell_type": "code",
   "outputs": [],
   "source": [
    "authors_old.rename(columns={\"author id\" :  \"author_id\",\"name\" : \"author_man\", \"date\" : \"cent_avg_man\"}, inplace=True)\n",
    "authors_old.drop(columns=[\"N of words\", \"N of works\"], inplace=True)"
   ],
   "metadata": {
    "collapsed": false,
    "ExecuteTime": {
     "end_time": "2024-01-05T21:59:17.522358Z",
     "start_time": "2024-01-05T21:59:17.516563Z"
    }
   },
   "execution_count": 78
  },
  {
   "cell_type": "code",
   "outputs": [],
   "source": [
    "authors_df = authors_df.merge(authors_old, on=\"author_id\", how=\"outer\")"
   ],
   "metadata": {
    "collapsed": false,
    "ExecuteTime": {
     "end_time": "2024-01-05T21:59:18.286766Z",
     "start_time": "2024-01-05T21:59:18.275159Z"
    }
   },
   "execution_count": 79
  },
  {
   "cell_type": "code",
   "execution_count": 80,
   "metadata": {
    "colab": {},
    "colab_type": "code",
    "id": "dahXJ4d4yiZY",
    "ExecuteTime": {
     "end_time": "2024-01-05T21:59:18.561023Z",
     "start_time": "2024-01-05T21:59:18.554842Z"
    }
   },
   "outputs": [],
   "source": [
    "### some other manual updates....\n",
    "author_cent_prov = {}\n",
    "author_cent_prov[\"tlg0526\"] = [1, 100, 'jewish']\n",
    "author_cent_prov[\"tlg2040\"] = (301, 400, 'christian')\n",
    "author_cent_prov[\"tlg1329\"] = (101, 200, 'christian')\n",
    "author_cent_prov[\"tlg2035\"] = (301, 400, 'christian')\n",
    "author_cent_prov['tlg0563'] = (101, 200, 'christian')\n",
    "author_cent_prov['tlg0013'] = (-800, -601, 'pagan')\n",
    "author_cent_prov['tlg2029'] = (201, 400, 'pagan')\n",
    "author_cent_prov['tlg0656'] = (1, 100, 'pagan')\n",
    "author_cent_prov['tlg0559'] = (1, 100, 'pagan')\n",
    "author_cent_prov['tlg0099'] = (-100, 100, 'pagan')"
   ]
  },
  {
   "cell_type": "code",
   "execution_count": 82,
   "metadata": {
    "colab": {
     "base_uri": "https://localhost:8080/",
     "height": 54
    },
    "colab_type": "code",
    "executionInfo": {
     "elapsed": 547,
     "status": "ok",
     "timestamp": 1588777508147,
     "user": {
      "displayName": "Vojtěch Kaše",
      "photoUrl": "https://lh3.googleusercontent.com/a-/AOh14Ggz3jS9e7I3GdIEbyBKFtqr9tPdNCwyLBEJwbK8cw=s64",
      "userId": "01399835024022498543"
     },
     "user_tz": -120
    },
    "id": "UxVQ9pWDgHxk",
    "outputId": "f843a0cb-b8f9-48c5-cc40-6dc357503d41",
    "ExecuteTime": {
     "end_time": "2024-01-05T21:59:48.586496Z",
     "start_time": "2024-01-05T21:59:48.564751Z"
    }
   },
   "outputs": [],
   "source": [
    "for key, vals in author_cent_prov.items():\n",
    "  authors_df.loc[authors_df[\"author_id\"] == key, \"not_before_man\"] = vals[0]\n",
    "  authors_df.loc[authors_df[\"author_id\"] == key, \"not_after_man\"] = vals[1]\n",
    "  authors_df.loc[authors_df[\"author_id\"] == key, \"provenience\"] = vals[2]"
   ]
  },
  {
   "cell_type": "code",
   "outputs": [
    {
     "data": {
      "text/plain": "Index(['author', 'author_id', 'tlg_date', 'not_before', 'not_after',\n       'date_uncertain', 'not_before_man', 'not_after_man', 'titles',\n       'sources', 'wordcounts', 'author_man', 'provenience', 'cent_avg_man'],\n      dtype='object')"
     },
     "execution_count": 83,
     "metadata": {},
     "output_type": "execute_result"
    }
   ],
   "source": [
    "authors_df.columns"
   ],
   "metadata": {
    "collapsed": false,
    "ExecuteTime": {
     "end_time": "2024-01-05T22:00:01.041155Z",
     "start_time": "2024-01-05T22:00:01.022381Z"
    }
   },
   "execution_count": 83
  },
  {
   "cell_type": "code",
   "outputs": [],
   "source": [
    "authors_df = authors_df[['author_id', 'author', 'author_man', 'provenience', 'not_before_man', 'not_after_man',  'cent_avg_man', 'titles', 'sources', 'wordcounts']]"
   ],
   "metadata": {
    "collapsed": false,
    "ExecuteTime": {
     "end_time": "2024-01-05T22:01:53.753634Z",
     "start_time": "2024-01-05T22:01:53.746076Z"
    }
   },
   "execution_count": 85
  },
  {
   "cell_type": "code",
   "outputs": [],
   "source": [
    "set_with_dataframe(AGT_overview.add_worksheet(\"authors_df_CODING\", 1,1), authors_df)"
   ],
   "metadata": {
    "collapsed": false,
    "ExecuteTime": {
     "end_time": "2024-01-05T22:02:07.201413Z",
     "start_time": "2024-01-05T22:02:05.750236Z"
    }
   },
   "execution_count": 86
  },
  {
   "cell_type": "markdown",
   "metadata": {},
   "source": [
    "# Add TLG epithets"
   ]
  },
  {
   "cell_type": "code",
   "execution_count": 4,
   "metadata": {},
   "outputs": [],
   "source": [
    "AGT = sddk.read_file(\"SDAM_data/AGT/AGT_dated_20201027.json\", \"df\", conf)"
   ]
  },
  {
   "cell_type": "code",
   "execution_count": 5,
   "metadata": {},
   "outputs": [],
   "source": [
    "resp = requests.get(\"https://raw.githubusercontent.com/kylepjohnson/cltk/master/cltk/corpus/greek/tlg/author_epithet.json\")\n",
    "tlg_author_epithet = json.loads(resp.content)\n",
    "\n",
    "tlg_author_epithet_reversed = {}\n",
    "for key in tlg_author_epithet.keys():\n",
    "    for author_id in tlg_author_epithet[key]:\n",
    "        tlg_author_epithet_reversed[\"tlg\" + author_id] = key  \n",
    "        \n",
    "tlg_author_epithet_reversed\n",
    "\n",
    "def get_epithet(author_id): # we use doc_id, since author id was modified\n",
    "    try:\n",
    "        epithets = tlg_author_epithet_reversed[author_id[:7]]\n",
    "    except:\n",
    "        epithets = []\n",
    "    return epithets\n",
    "\n",
    "AGT[\"tlg_epithet\"] = AGT[\"author_id\"].apply(get_epithet)"
   ]
  },
  {
   "cell_type": "code",
   "execution_count": 6,
   "metadata": {},
   "outputs": [
    {
     "name": "stdout",
     "output_type": "stream",
     "text": [
      "Your <class 'pandas.core.frame.DataFrame'> object has been succefully written as \"https://sciencedata.dk/files/SDAM_root/SDAM_data/AGT/AGT_dated_20201126.json\"\n"
     ]
    }
   ],
   "source": [
    "sddk.write_file(\"SDAM_data/AGT/AGT_dated_20201126.json\", AGT, conf)"
   ]
  },
  {
   "cell_type": "code",
   "execution_count": null,
   "metadata": {},
   "outputs": [],
   "source": []
  }
 ],
 "metadata": {
  "colab": {
   "authorship_tag": "ABX9TyM+taOvEihjuZ2k0d8Zjz/M",
   "collapsed_sections": [],
   "name": "2_METADATA&LEMMATIZATION&OVERVIEW.ipynb",
   "provenance": [],
   "toc_visible": true
  },
  "kernelspec": {
   "name": "lagt_kernel",
   "language": "python",
   "display_name": "lagt_kernel"
  },
  "language_info": {
   "codemirror_mode": {
    "name": "ipython",
    "version": 3
   },
   "file_extension": ".py",
   "mimetype": "text/x-python",
   "name": "python",
   "nbconvert_exporter": "python",
   "pygments_lexer": "ipython3",
   "version": "3.6.9"
  }
 },
 "nbformat": 4,
 "nbformat_minor": 1
}
