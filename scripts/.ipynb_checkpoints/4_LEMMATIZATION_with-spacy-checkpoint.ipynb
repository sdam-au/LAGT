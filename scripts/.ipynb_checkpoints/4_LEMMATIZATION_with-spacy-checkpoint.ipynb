{
 "cells": [
  {
   "cell_type": "markdown",
   "metadata": {
    "colab_type": "text",
    "id": "EbixMMZchOgn"
   },
   "source": [
    "# Requirements"
   ]
  },
  {
   "cell_type": "code",
   "execution_count": 1,
   "metadata": {
    "colab": {
     "base_uri": "https://localhost:8080/",
     "height": 272
    },
    "colab_type": "code",
    "executionInfo": {
     "elapsed": 9878,
     "status": "ok",
     "timestamp": 1588779837403,
     "user": {
      "displayName": "Vojtěch Kaše",
      "photoUrl": "https://lh3.googleusercontent.com/a-/AOh14Ggz3jS9e7I3GdIEbyBKFtqr9tPdNCwyLBEJwbK8cw=s64",
      "userId": "01399835024022498543"
     },
     "user_tz": -120
    },
    "id": "QWRXmeoNhLsD",
    "outputId": "ae5620d8-2479-4587-c6ed-cdf64706b2a3"
   },
   "outputs": [],
   "source": [
    "import os\n",
    "import json\n",
    "import pandas as pd\n",
    "import numpy as np\n",
    "import json\n",
    "import pickle\n",
    "import random\n",
    "import unicodedata\n",
    "import requests\n",
    "import nltk\n",
    "import re\n",
    "import pyconll # universal dependencies parser\n",
    "import spacy\n",
    "import io\n",
    "from importlib import reload\n",
    "import sddk\n",
    "\n",
    "import gspread\n",
    "from gspread_dataframe import get_as_dataframe, set_with_dataframe\n",
    "from google.oauth2 import service_account # based on google-auth library"
   ]
  },
  {
   "cell_type": "code",
   "execution_count": 2,
   "metadata": {
    "colab": {
     "base_uri": "https://localhost:8080/",
     "height": 85
    },
    "colab_type": "code",
    "executionInfo": {
     "elapsed": 11242,
     "status": "ok",
     "timestamp": 1588774498489,
     "user": {
      "displayName": "Vojtěch Kaše",
      "photoUrl": "https://lh3.googleusercontent.com/a-/AOh14Ggz3jS9e7I3GdIEbyBKFtqr9tPdNCwyLBEJwbK8cw=s64",
      "userId": "01399835024022498543"
     },
     "user_tz": -120
    },
    "id": "cmC88KhGh7n2",
    "outputId": "4356c03e-47e1-4a6b-dc69-cf21efc97e0f"
   },
   "outputs": [
    {
     "name": "stdout",
     "output_type": "stream",
     "text": [
      "sciencedata.dk username (format '123456@au.dk'): 648597@au.dk\n",
      "sciencedata.dk password: ········\n",
      "connection with shared folder established with you as its owner\n",
      "endpoint variable has been configured to: https://sciencedata.dk/files/SDAM_root/\n"
     ]
    }
   ],
   "source": [
    "conf = sddk.configure(\"SDAM_root\", \"648597@au.dk\")"
   ]
  },
  {
   "cell_type": "code",
   "execution_count": 3,
   "metadata": {},
   "outputs": [],
   "source": [
    "AGT = sddk.read_file(\"SDAM_data/AGT/AGT_preprocessed_20201209.json\", \"df\", conf)\n",
    "# save locally for the next time\n",
    "#AGT.to_json(\"../data/large_files/AGT.json\")"
   ]
  },
  {
   "cell_type": "markdown",
   "metadata": {
    "colab_type": "text",
    "id": "w4W20C24h4i6"
   },
   "source": [
    "# Spacy NLP model"
   ]
  },
  {
   "cell_type": "code",
   "execution_count": 5,
   "metadata": {},
   "outputs": [],
   "source": [
    "#ag_lemma_lookup = nlp.vocab.lookups.get_table(\"lemma_lookup\")\n",
    "#ag_lemma_lookup_merged = nlp.vocab.lookups.get_table(\"lemma_lookup_merged\")"
   ]
  },
  {
   "cell_type": "code",
   "execution_count": 10,
   "metadata": {},
   "outputs": [],
   "source": [
    "nlp = spacy.load(\"../models/spacy_grc_model_7\")"
   ]
  },
  {
   "cell_type": "code",
   "execution_count": 11,
   "metadata": {},
   "outputs": [],
   "source": [
    "path = \"../models/spacy_grc_model_7/grc_lemmatization.py\"\n",
    "exec(open(path).read())"
   ]
  },
  {
   "cell_type": "code",
   "execution_count": 12,
   "metadata": {},
   "outputs": [
    {
     "data": {
      "text/plain": [
       "('Παῦλος', 'NOUN')"
      ]
     },
     "execution_count": 12,
     "metadata": {},
     "output_type": "execute_result"
    }
   ],
   "source": [
    "lemmatizer(\"ΠΑΥΛΟΣ\", 'VERB')"
   ]
  },
  {
   "cell_type": "code",
   "execution_count": 13,
   "metadata": {},
   "outputs": [],
   "source": [
    "nlp.add_pipe(grc_doc_lemmatizer, \"grc_doc_lemmatizer\", after=\"tagger\")"
   ]
  },
  {
   "cell_type": "code",
   "execution_count": 14,
   "metadata": {},
   "outputs": [
    {
     "data": {
      "text/plain": [
       "'ΠΑΥΛΟΣ ἀπόστολος, οὐκ ἀπʼ ἀνθρώπων οὐδὲ διʼ ἀνθρώπου ἀλλὰ διὰ Ἰησοῦ Χριστοῦ καὶ θεοῦ πατρὸς τοῦ ἐγείραντος αὐτὸν ἐκ νεκρῶν, καὶ οἱ σὺν ἐμοὶ πάντες ἀδελφοί, ταῖς ἐκκλησίαις τῆς Γαλατίας·'"
      ]
     },
     "execution_count": 14,
     "metadata": {},
     "output_type": "execute_result"
    }
   ],
   "source": [
    "test_sentence = AGT[AGT[\"author_id\"]==\"tlg0031paul\"].iloc[3][\"sentences\"][0]\n",
    "test_sentence"
   ]
  },
  {
   "cell_type": "code",
   "execution_count": 15,
   "metadata": {},
   "outputs": [
    {
     "name": "stdout",
     "output_type": "stream",
     "text": [
      "[('ΠΑΥΛΟΣ', 'NOUN', 'Παῦλος'), ('ἀπόστολος', 'NOUN', 'ἀπόστολος'), (',', 'PUNCT', ','), ('οὐκ', 'ADV', 'οὐ'), ('ἀπʼ', 'ADP', 'ἀπό'), ('ἀνθρώπων', 'NOUN', 'ἄνθρωπος'), ('οὐδὲ', 'CCONJ', 'οὐδέ'), ('διʼ', 'ADP', 'διά'), ('ἀνθρώπου', 'NOUN', 'ἄνθρωπος'), ('ἀλλὰ', 'CCONJ', 'ἀλλά'), ('διὰ', 'ADP', 'διά'), ('Ἰησοῦ', 'PROPN', 'Ἰησοῦς'), ('Χριστοῦ', 'PROPN', 'Χριστός'), ('καὶ', 'CCONJ', 'καί'), ('θεοῦ', 'NOUN', 'θεός'), ('πατρὸς', 'NOUN', 'πατήρ'), ('τοῦ', 'DET', 'ὁ'), ('ἐγείραντος', 'VERB', 'ἐγείρω'), ('αὐτὸν', 'PRON', 'αὐτός'), ('ἐκ', 'ADP', 'ἐκ'), ('νεκρῶν', 'NOUN', 'νεκρός'), (',', 'PUNCT', ','), ('καὶ', 'CCONJ', 'καί'), ('οἱ', 'DET', 'ὁ'), ('σὺν', 'ADP', 'σύν'), ('ἐμοὶ', 'PRON', 'ἐγώ'), ('πάντες', 'ADJ', 'πᾶς'), ('ἀδελφοί', 'NOUN', 'ἀδελφός'), (',', 'PUNCT', ','), ('ταῖς', 'DET', 'ὁ'), ('ἐκκλησίαις', 'NOUN', 'ἐκκλησία'), ('τῆς', 'DET', 'ὁ'), ('Γαλατίας', 'NOUN', 'Γαλατία'), ('·', 'PUNCT', '·')]\n"
     ]
    }
   ],
   "source": [
    "doc = nlp(test_sentence)\n",
    "print([(token.text, token.pos_, token.lemma_) for token in doc])"
   ]
  },
  {
   "cell_type": "code",
   "execution_count": 7,
   "metadata": {},
   "outputs": [],
   "source": [
    "def apply_nlp(sentences_list):\n",
    "    spacy_docs = []\n",
    "    for sentence in sentences_list:\n",
    "        doc = nlp(sentence)\n",
    "        spacy_docs.append(doc)\n",
    "    return spacy_docs"
   ]
  },
  {
   "cell_type": "code",
   "execution_count": 13,
   "metadata": {},
   "outputs": [
    {
     "name": "stdout",
     "output_type": "stream",
     "text": [
      "[('ΠΑΥΛΟΣ', 'NOUN', 'Παῦλος'), ('δοῦλος', 'NOUN', 'δοῦλος'), ('Ἰησοῦ', 'PROPN', 'Ἰησοῦς'), ('Χριστοῦ', 'NOUN', 'Χριστός'), (',', 'PUNCT', ','), ('κλητὸς', 'ADJ', 'κλητός'), ('ἀπόστολος', 'NOUN', 'ἀπόστολος'), (',', 'PUNCT', ','), ('ἀφωρισμένος', 'VERB', 'ἀφωρισμένος'), ('εἰς', 'ADP', 'εἰς'), ('εὐαγγέλιον', 'NOUN', 'εὐαγγέλιον'), ('θεοῦ', 'NOUN', 'θεός'), ('ὃ', 'PRON', 'ὅς'), ('προεπηγγείλατο', 'VERB', 'προεπαγγέλλομαι'), ('διὰ', 'ADP', 'διά'), ('τῶν', 'DET', 'ὁ'), ('προφητῶν', 'NOUN', 'προφήτης'), ('αὐτοῦ', 'PRON', 'αὐτός'), ('ἐν', 'ADP', 'ἐν'), ('γραφαῖς', 'NOUN', 'γραφή'), ('ἁγίαις', 'ADJ', 'ἅγιος'), ('περὶ', 'ADP', 'περί'), ('τοῦ', 'DET', 'ὁ'), ('υἱοῦ', 'NOUN', 'υἱός'), ('αὐτοῦ', 'PRON', 'αὐτός'), (',', 'PUNCT', ','), ('τοῦ', 'DET', 'ὁ'), ('γενομένου', 'VERB', 'γίγνομαι'), ('ἐκ', 'ADP', 'ἐκ'), ('σπέρματος', 'NOUN', 'σπέρμα'), ('Δαυεὶδ', 'NOUN', 'Δαυίδ'), ('κατὰ', 'ADP', 'κατά'), ('σάρκα', 'NOUN', 'σάρξ'), (',', 'PUNCT', ','), ('τοῦ', 'DET', 'ὁ'), ('ὁρισθέντος', 'VERB', 'ὁρισθέντος'), ('υἱοῦ', 'NOUN', 'υἱός'), ('θεοῦ', 'NOUN', 'θεός'), ('ἐν', 'ADP', 'ἐν'), ('δυνάμει', 'NOUN', 'δύναμις'), ('κατὰ', 'ADP', 'κατά'), ('πνεῦμα', 'NOUN', 'πνεῦμα'), ('ἁγιωσύνης', 'NOUN', 'ἁγιωσύνη'), ('ἐξ', 'ADP', 'ἐκ'), ('ἀναστάσεως', 'NOUN', 'ἀνάστασις'), ('νεκρῶν', 'ADJ', 'νεκρός'), (',', 'PUNCT', ','), ('Ἰησοῦ', 'NOUN', 'Ἰησοῦς'), ('Χριστοῦ', 'NOUN', 'Χριστός'), ('τοῦ', 'DET', 'ὁ'), ('κυρίου', 'NOUN', 'κύριος'), ('ἡμῶν', 'PRON', 'ἡμεῖς'), (',', 'PUNCT', ','), ('διʼ', 'ADP', 'διά'), ('οὗ', 'PRON', 'ὅς'), ('ἐλάβομεν', 'VERB', 'λαμβάνω'), ('χάριν', 'NOUN', 'χάρις'), ('καὶ', 'CCONJ', 'καί'), ('ἀποστολὴν', 'NOUN', 'ἀποστολή'), ('εἰς', 'ADP', 'εἰς'), ('ὑπακοὴν', 'NOUN', 'ὑπακοή'), ('πίστεως', 'NOUN', 'πίστις'), ('ἐν', 'ADP', 'ἐν'), ('πᾶσιν', 'DET', 'πᾶς'), ('τοῖς', 'DET', 'ὁ'), ('ἔθνεσιν', 'NOUN', 'ἔθνος'), ('ὑπὲρ', 'ADP', 'ὑπέρ'), ('τοῦ', 'DET', 'ὁ'), ('ὀνόματος', 'NOUN', 'ὄνομα'), ('αὐτοῦ', 'PRON', 'αὐτός'), (',', 'PUNCT', ','), ('ἐν', 'ADP', 'ἐν'), ('οἷς', 'PRON', 'ὅς'), ('ἐστὲ', 'AUX', 'εἰμί'), ('καὶ', 'CCONJ', 'καί'), ('ὑμεῖς', 'PRON', 'ὑμεῖς'), ('κλητοὶ', 'ADJ', 'κλητός'), ('Ἰησοῦ', 'NOUN', 'Ἰησοῦς'), ('Χριστοῦ', 'NOUN', 'Χριστός'), (',', 'PUNCT', ','), ('πᾶσιν', 'ADJ', 'πᾶς'), ('τοῖς', 'DET', 'ὁ'), ('οὖσιν', 'NOUN', 'ὄντα'), ('ἐν', 'ADP', 'ἐν'), ('Ῥώμῃ', 'NOUN', 'Ῥώμη'), ('ἀγαπητοῖς', 'ADJ', 'ἀγαπητός'), ('θεοῦ', 'NOUN', 'θεός'), (',', 'PUNCT', ','), ('κλητοῖς', 'ADJ', 'κλητός'), ('ἁγίοις', 'ADJ', 'ἅγιος'), ('·', 'PUNCT', '·')]\n",
      "[('χάρις', 'NOUN', 'χάρις'), ('ὑμῖν', 'PRON', 'ὑμεῖς'), ('καὶ', 'CCONJ', 'καί'), ('εἰρήνη', 'NOUN', 'εἰρήνη'), ('ἀπὸ', 'ADP', 'ἀπό'), ('θεοῦ', 'NOUN', 'θεός'), ('πατρὸς', 'NOUN', 'πατήρ'), ('ἡμῶν', 'PRON', 'ἡμεῖς'), ('καὶ', 'CCONJ', 'καί'), ('κυρίου', 'NOUN', 'κύριος'), ('Ἰησοῦ', 'PROPN', 'Ἰησοῦς'), ('Χριστοῦ.', 'NOUN', 'Χριστός')]\n",
      "[('Πρῶτον', 'ADJ', 'πρῶτος'), ('μὲν', 'ADV', 'μέν'), ('εὐχαριστῶ', 'VERB', 'εὐχαριστέω'), ('τῷ', 'DET', 'ὁ'), ('θεῷ', 'NOUN', 'θεός'), ('μου', 'PRON', 'ἐγώ'), ('διὰ', 'ADP', 'διά'), ('Ἰησοῦ', 'PROPN', 'Ἰησοῦς'), ('Χριστοῦ', 'PROPN', 'Χριστός'), ('περὶ', 'ADP', 'περί'), ('πάντων', 'ADJ', 'πᾶς'), ('ὑμῶν', 'PRON', 'ὑμεῖς'), (',', 'PUNCT', ','), ('ὅτι', 'SCONJ', 'ὅτι'), ('ἡ', 'DET', 'ὁ'), ('πίστις', 'NOUN', 'πίστις'), ('ὑμῶν', 'PRON', 'ὑμεῖς'), ('καταγγέλλεται', 'VERB', 'καταγγέλλω'), ('ἐν', 'ADP', 'ἐν'), ('ὅλῳ', 'ADJ', 'ὅλος'), ('τῷ', 'DET', 'ὁ'), ('κόσμῳ.', 'NOUN', 'κόσμος')]\n",
      "[('μάρτυς', 'NOUN', 'μάρτυς'), ('γάρ', 'ADV', 'γάρ'), ('μού', 'PRON', 'ἐγώ'), ('ἐστιν', 'VERB', 'εἰμί'), ('ὁ', 'DET', 'ὁ'), ('θεός', 'NOUN', 'θεός'), (',', 'PUNCT', ','), ('ᾧ', 'PRON', 'ὅς'), ('λατρεύω', 'VERB', 'λατρεύω'), ('ἐν', 'ADP', 'ἐν'), ('τῷ', 'DET', 'ὁ'), ('πνεύματί', 'NOUN', 'πνεῦμα'), ('μου', 'PRON', 'ἐγώ'), ('ἐν', 'ADP', 'ἐν'), ('τῷ', 'DET', 'ὁ'), ('εὐαγγελίῳ', 'NOUN', 'εὐαγγέλιον'), ('τοῦ', 'DET', 'ὁ'), ('υἱοῦ', 'NOUN', 'υἱός'), ('αὐτοῦ', 'PRON', 'αὐτός'), (',', 'PUNCT', ','), ('ὡς', 'SCONJ', 'ὡς'), ('ἀδιαλείπτως', 'ADV', 'ἀδιαλείπτως'), ('μνείαν', 'NOUN', 'μνεία'), ('ὑμῶν', 'PRON', 'ὑμεῖς'), ('ποιοῦμαι', 'VERB', 'ποιέω'), ('πάντοτε', 'ADV', 'πάντοτε'), ('ἐπὶ', 'ADP', 'ἐπί'), ('τῶν', 'DET', 'ὁ'), ('προσευχῶν', 'NOUN', 'προσευχή'), ('μου', 'PRON', 'ἐγώ'), (',', 'PUNCT', ','), ('δεόμενος', 'VERB', 'δέω'), ('εἴ', 'SCONJ', 'εἰ'), ('πως', 'PART', 'πως'), ('ἤδη', 'ADV', 'ἤδη'), ('ποτὲ', 'PART', 'ποτέ'), ('εὐοδωθήσομαι', 'VERB', 'εὐοδόω'), ('ἐν', 'ADP', 'ἐν'), ('τῷ', 'DET', 'ὁ'), ('θελήματι', 'NOUN', 'θέλημα'), ('τοῦ', 'DET', 'ὁ'), ('θεοῦ', 'NOUN', 'θεός'), ('ἐλθεῖν', 'VERB', 'ἔρχομαι'), ('πρὸς', 'ADP', 'πρός'), ('ὑμᾶς', 'PRON', 'ὑμεῖς'), ('.', 'PUNCT', '.')]\n",
      "[('ἐπιποθῶ', 'VERB', 'ἐπιποθέω'), ('γὰρ', 'PART', 'γάρ'), ('ἰδεῖν', 'VERB', 'ὁράω'), ('ὑμᾶς', 'PRON', 'ὑμεῖς'), (',', 'PUNCT', ','), ('ἵνα', 'SCONJ', 'ἵνα'), ('τι', 'PRON', 'τίς'), ('μεταδῶ', 'VERB', 'μεταδίδωμι'), ('χάρισμα', 'NOUN', 'χάρισμα'), ('ὑμῖν', 'PRON', 'ὑμεῖς'), ('πνευματικὸν', 'ADJ', 'πνευματικός'), ('εἰς', 'ADP', 'εἰς'), ('τὸ', 'DET', 'ὁ'), ('στηριχθῆναι', 'VERB', 'στηρίζω'), ('ὑμᾶς', 'PRON', 'ὑμεῖς'), (',', 'PUNCT', ','), ('τοῦτο', 'ADJ', 'οὗτος'), ('δέ', 'ADV', 'δέ'), ('ἐστιν', 'AUX', 'εἰμί'), ('συνπαρακληθῆναι', 'VERB', 'συνπαρακληθῆναι'), ('ἐν', 'ADP', 'ἐν'), ('ὑμῖν', 'PRON', 'ὑμεῖς'), ('διὰ', 'ADP', 'διά'), ('τῆς', 'DET', 'ὁ'), ('ἐν', 'ADP', 'ἐν'), ('ἀλλήλοις', 'PRON', 'ἀλλήλων'), ('πίστεως', 'NOUN', 'πίστις'), ('ὑμῶν', 'PRON', 'ὑμεῖς'), ('τε', 'CCONJ', 'τε'), ('καὶ', 'CCONJ', 'καί'), ('ἐμοῦ.', 'VERB', 'ἐμέω')]\n",
      "[('οὐ', 'ADV', 'οὐ'), ('θέλω', 'VERB', 'ἐθέλω'), ('δὲ', 'ADV', 'δέ'), ('ὑμᾶς', 'PRON', 'ὑμεῖς'), ('ἀγνοεῖν', 'VERB', 'ἀγνοέω'), (',', 'PUNCT', ','), ('ἀδελφοί', 'NOUN', 'ἀδελφός'), (',', 'PUNCT', ','), ('ὅτι', 'SCONJ', 'ὅτι'), ('πολλάκις', 'ADV', 'πολλάκις'), ('προεθέμην', 'VERB', 'προτίθημι'), ('ἐλθεῖν', 'VERB', 'ἔρχομαι'), ('πρὸς', 'ADP', 'πρός'), ('ὑμᾶς', 'PRON', 'ὑμεῖς'), (',', 'PUNCT', ','), ('καὶ', 'CCONJ', 'καί'), ('ἐκωλύθην', 'VERB', 'κωλύω'), ('ἄχρι', 'ADP', 'ἄχρι'), ('τοῦ', 'DET', 'ὁ'), ('δεῦρο', 'ADV', 'δεῦρο'), (',', 'PUNCT', ','), ('ἵνα', 'SCONJ', 'ἵνα'), ('τινὰ', 'ADJ', 'τὶς'), ('καρπὸν', 'NOUN', 'καρπός'), ('σχῶ', 'VERB', 'ἔχω'), ('καὶ', 'CCONJ', 'καί'), ('ἐν', 'ADP', 'ἐν'), ('ὑμῖν', 'PRON', 'ὑμεῖς'), ('καθὼς', 'ADV', 'καθώς'), ('καὶ', 'ADV', 'καί'), ('ἐν', 'ADP', 'ἐν'), ('τοῖς', 'DET', 'ὁ'), ('λοιποῖς', 'ADJ', 'λοιπός'), ('ἔθνεσιν', 'NOUN', 'ἔθνος'), ('.', 'PUNCT', '.')]\n",
      "[('Ἕλλησίν', 'NOUN', 'Ἕλλην'), ('τε', 'ADV', 'τε'), ('καὶ', 'CCONJ', 'καί'), ('βαρβάροις', 'NOUN', 'βάρβαρος'), (',', 'PUNCT', ','), ('σοφοῖς', 'ADJ', 'σοφός'), ('τε', 'PART', 'τε'), ('καὶ', 'CCONJ', 'καί'), ('ἀνοήτοις', 'ADJ', 'ἀνόητος'), ('ὀφειλέτης', 'NOUN', 'ὀφειλέτης'), ('εἰμί', 'VERB', 'εἰμί'), ('·', 'PUNCT', '·')]\n",
      "[('οὕτω', 'ADV', 'οὕτω(ς)'), ('τὸ', 'DET', 'ὁ'), ('κατʼ', 'ADP', 'κατά'), ('ἐμὲ', 'PRON', 'ἐγώ'), ('πρόθυμον', 'ADJ', 'πρόθυμος'), ('καὶ', 'CCONJ', 'καί'), ('ὑμῖν', 'PRON', 'ὑμεῖς'), ('τοῖς', 'DET', 'ὁ'), ('ἐν', 'ADP', 'ἐν'), ('Ῥώμῃ', 'NOUN', 'Ῥώμη'), ('εὐαγγελίσασθαι', 'VERB', 'εὐαγγελίζω'), ('.', 'PUNCT', '.')]\n",
      "[('οὐ', 'ADV', 'οὐ'), ('γὰρ', 'ADV', 'γάρ'), ('ἐπαισχύνομαι', 'VERB', 'ἐπαισχύνομαι'), ('τὸ', 'DET', 'ὁ'), ('εὐαγγέλιον', 'NOUN', 'εὐαγγέλιον'), (',', 'PUNCT', ','), ('δύναμις', 'NOUN', 'δύναμις'), ('γὰρ', 'ADV', 'γάρ'), ('θεοῦ', 'NOUN', 'θεός'), ('ἐστὶν', 'AUX', 'εἰμί'), ('εἰς', 'ADP', 'εἰς'), ('σωτηρίαν', 'NOUN', 'σωτηρία'), ('παντὶ', 'ADJ', 'πᾶς'), ('τῷ', 'DET', 'ὁ'), ('πιστεύοντι', 'VERB', 'πιστεύω'), (',', 'PUNCT', ','), ('Ἰουδαίῳ', 'ADJ', 'Ἰουδαῖος'), ('τε', 'PART', 'τε'), ('πρῶτον', 'ADJ', 'πρῶτος'), ('καὶ', 'CCONJ', 'καί'), ('Ἕλληνι', 'NOUN', 'Ἕλλην'), ('·', 'PUNCT', '·')]\n",
      "[('δικαιοσύνη', 'NOUN', 'δικαιοσύνη'), ('γὰρ', 'ADV', 'γάρ'), ('θεοῦ', 'NOUN', 'θεός'), ('ἐν', 'ADP', 'ἐν'), ('αὐτῷ', 'PRON', 'αὐτός'), ('ἀποκαλύπτεται', 'VERB', 'ἀποκαλύπτω'), ('ἐκ', 'ADP', 'ἐκ'), ('πίστεως', 'NOUN', 'πίστις'), ('εἰς', 'ADP', 'εἰς'), ('πίστιν', 'NOUN', 'πίστις'), (',', 'PUNCT', ','), ('καθὼς', 'ADV', 'καθώς'), ('γέγραπται', 'VERB', 'γράφω'), ('Ὁ', 'DET', 'ὁ'), ('δὲ', 'ADV', 'δέ'), ('δίκαιος', 'ADJ', 'δίκαιος'), ('ἐκ', 'ADP', 'ἐκ'), ('πίστεως', 'NOUN', 'πίστις'), ('ζήσεται', 'VERB', 'ζῶ'), ('.', 'PUNCT', '.')]\n"
     ]
    }
   ],
   "source": [
    "paul_test = apply_nlp(AGT[AGT[\"author_id\"]==\"tlg0031paul\"].iloc[0][\"sentences\"])\n",
    "for doc in paul_test[:10]:\n",
    "    print([(token.text, token.pos_, token.lemma_) for token in doc])"
   ]
  },
  {
   "cell_type": "code",
   "execution_count": 14,
   "metadata": {},
   "outputs": [
    {
     "name": "stdout",
     "output_type": "stream",
     "text": [
      "[('ΠΑΥΛΟΣ', 'NOUN', 'Παῦλος'), ('ἀπόστολος', 'NOUN', 'ἀπόστολος'), (',', 'PUNCT', ','), ('οὐκ', 'ADV', 'οὐ'), ('ἀπʼ', 'ADP', 'ἀπό'), ('ἀνθρώπων', 'NOUN', 'ἄνθρωπος'), ('οὐδὲ', 'CCONJ', 'οὐδέ'), ('διʼ', 'ADP', 'διά'), ('ἀνθρώπου', 'NOUN', 'ἄνθρωπος'), ('ἀλλὰ', 'CCONJ', 'ἀλλά'), ('διὰ', 'ADP', 'διά'), ('Ἰησοῦ', 'PROPN', 'Ἰησοῦς'), ('Χριστοῦ', 'PROPN', 'Χριστός'), ('καὶ', 'CCONJ', 'καί'), ('θεοῦ', 'NOUN', 'θεός'), ('πατρὸς', 'NOUN', 'πατήρ'), ('τοῦ', 'DET', 'ὁ'), ('ἐγείραντος', 'VERB', 'ἐγείρω'), ('αὐτὸν', 'PRON', 'αὐτός'), ('ἐκ', 'ADP', 'ἐκ'), ('νεκρῶν', 'NOUN', 'νεκρός'), (',', 'PUNCT', ','), ('καὶ', 'CCONJ', 'καί'), ('οἱ', 'DET', 'ὁ'), ('σὺν', 'ADP', 'σύν'), ('ἐμοὶ', 'PRON', 'ἐγώ'), ('πάντες', 'ADJ', 'πᾶς'), ('ἀδελφοί', 'NOUN', 'ἀδελφός'), (',', 'PUNCT', ','), ('ταῖς', 'DET', 'ὁ'), ('ἐκκλησίαις', 'NOUN', 'ἐκκλησία'), ('τῆς', 'DET', 'ὁ'), ('Γαλατίας', 'NOUN', 'Γαλατία'), ('·', 'PUNCT', '·')]\n",
      "[('χάρις', 'NOUN', 'χάρις'), ('ὑμῖν', 'PRON', 'ὑμεῖς'), ('καὶ', 'CCONJ', 'καί'), ('εἰρήνη', 'NOUN', 'εἰρήνη'), ('ἀπὸ', 'ADP', 'ἀπό'), ('θεοῦ', 'NOUN', 'θεός'), ('πατρὸς', 'NOUN', 'πατήρ'), ('ἡμῶν', 'PRON', 'ἡμεῖς'), ('καὶ', 'CCONJ', 'καί'), ('κυρίου', 'NOUN', 'κύριος'), ('Ἰησοῦ', 'PROPN', 'Ἰησοῦς'), ('Χριστοῦ', 'NOUN', 'Χριστός'), (',', 'PUNCT', ','), ('τοῦ', 'DET', 'ὁ'), ('δόντος', 'VERB', 'δίδωμι'), ('ἑαυτὸν', 'PRON', 'ἑαυτοῦ'), ('ὑπὲρ', 'ADP', 'ὑπέρ'), ('τῶν', 'DET', 'ὁ'), ('ἁμαρτιῶν', 'NOUN', 'ἁμαρτία'), ('ἡμῶν', 'PRON', 'ἡμεῖς'), ('ὅπως', 'SCONJ', 'ὅπως'), ('ἐξέληται', 'VERB', 'ἐξαιρέω'), ('ἡμᾶς', 'PRON', 'ἡμεῖς'), ('ἐκ', 'ADP', 'ἐκ'), ('τοῦ', 'DET', 'ὁ'), ('αἰῶνος', 'NOUN', 'αἰών'), ('τοῦ', 'DET', 'ὁ'), ('ἐνεστῶτος', 'VERB', 'ἐνίστημι'), ('πονηροῦ', 'ADJ', 'πονηρός'), ('κατὰ', 'ADP', 'κατά'), ('τὸ', 'DET', 'ὁ'), ('θέλημα', 'NOUN', 'θέλημα'), ('τοῦ', 'DET', 'ὁ'), ('θεοῦ', 'NOUN', 'θεός'), ('καὶ', 'CCONJ', 'καί'), ('πατρὸς', 'NOUN', 'πατήρ'), ('ἡμῶν', 'PRON', 'ἡμεῖς'), (',', 'PUNCT', ','), ('ᾧ', 'PRON', 'ὅς'), ('ἡ', 'DET', 'ὁ'), ('δόξα', 'NOUN', 'δόξα'), ('εἰς', 'ADP', 'εἰς'), ('τοὺς', 'DET', 'ὁ'), ('αἰῶνας', 'NOUN', 'αἰών'), ('τῶν', 'DET', 'ὁ'), ('αἰώνων', 'NOUN', 'αἰών'), ('·', 'PUNCT', '·')]\n",
      "[('ἀμήν', 'INTJ', 'ἀμήν'), ('.', 'PUNCT', '.')]\n",
      "[('Θαυμάζω', 'VERB', 'θαυμάζω'), ('ὅτι', 'SCONJ', 'ὅτι'), ('οὕτως', 'ADV', 'οὕτω(ς)'), ('ταχέως', 'ADV', 'ταχέως'), ('μετατίθεσθε', 'VERB', 'μετατίθημι'), ('ἀπὸ', 'ADP', 'ἀπό'), ('τοῦ', 'DET', 'ὁ'), ('καλέσαντος', 'VERB', 'καλέω'), ('ὑμᾶς', 'PRON', 'ὑμεῖς'), ('ἐν', 'ADP', 'ἐν'), ('χάριτι', 'NOUN', 'χάρις'), ('Χριστοῦ', 'PROPN', 'Χριστός'), ('εἰς', 'ADP', 'εἰς'), ('ἕτερον', 'ADJ', 'ἕτερος'), ('εὐαγγέλιον', 'NOUN', 'εὐαγγέλιον'), (',', 'PUNCT', ','), ('ὃ', 'PRON', 'ὅς'), ('οὐκ', 'ADV', 'οὐ'), ('ἔστιν', 'VERB', 'εἰμί'), ('ἄλλο', 'ADJ', 'ἄλλος'), ('·', 'PUNCT', '·')]\n",
      "[('εἰ', 'SCONJ', 'εἰ'), ('μή', 'ADV', 'μή'), ('τινές', 'ADJ', 'τὶς'), ('εἰσιν', 'AUX', 'εἰμί'), ('οἱ', 'DET', 'ὁ'), ('ταράσσοντες', 'VERB', 'ταράσσω'), ('ὑμᾶς', 'PRON', 'ὑμεῖς'), ('καὶ', 'CCONJ', 'καί'), ('θέλοντες', 'VERB', 'ἐθέλω'), ('μεταστρέψαι', 'VERB', 'μεταστρέφω'), ('τὸ', 'DET', 'ὁ'), ('εὐαγγέλιον', 'NOUN', 'εὐαγγέλιον'), ('τοῦ', 'DET', 'ὁ'), ('χριστοῦ.', 'ADJ', 'χριστός')]\n",
      "[('ἀλλὰ', 'CCONJ', 'ἀλλά'), ('καὶ', 'ADV', 'καί'), ('ἐὰν', 'SCONJ', 'ἐάν'), ('ἡμεῖς', 'PRON', 'ἡμεῖς'), ('ἢ', 'CCONJ', 'ἤ'), ('ἄγγελος', 'NOUN', 'ἄγγελος'), ('ἐξ', 'ADP', 'ἐκ'), ('οὐρανοῦ', 'NOUN', 'οὐρανός'), ('εὐαγγελίσηται', 'VERB', 'εὐαγγελίζω'), ('ὑμῖν', 'PRON', 'ὑμεῖς'), ('παρʼ', 'ADP', 'παρά'), ('ὃ', 'PRON', 'ὅς'), ('εὐηγγελισάμεθα', 'VERB', 'εὐαγγελίζω'), ('ὑμῖν', 'PRON', 'ὑμεῖς'), (',', 'PUNCT', ','), ('ἀνάθεμα', 'NOUN', 'ἀνάθεμα'), ('ἔστω', 'VERB', 'εἰμί'), ('.', 'PUNCT', '.')]\n",
      "[('ὡς', 'ADV', 'ὡς'), ('προειρήκαμεν', 'VERB', 'προλέγω'), (',', 'PUNCT', ','), ('καὶ', 'CCONJ', 'καί'), ('ἄρτι', 'ADV', 'ἄρτι'), ('πάλιν', 'ADV', 'πάλιν'), ('λέγω', 'VERB', 'λέγω'), (',', 'PUNCT', ','), ('εἴ', 'SCONJ', 'εἰ'), ('τις', 'PRON', 'τίς'), ('ὑμᾶς', 'PRON', 'ὑμεῖς'), ('εὐαγγελίζεται', 'VERB', 'εὐαγγελίζω'), ('παρʼ', 'ADP', 'παρά'), ('ὃ', 'PRON', 'ὅς'), ('παρελάβετε', 'VERB', 'παραλαμβάνω'), (',', 'PUNCT', ','), ('ἀνάθεμα', 'NOUN', 'ἀνάθεμα'), ('ἔστω', 'VERB', 'εἰμί'), ('.', 'PUNCT', '.')]\n",
      "[('Ἄρτι', 'ADV', 'ἄρτι'), ('γὰρ', 'ADV', 'γάρ'), ('ἀνθρώπους', 'NOUN', 'ἄνθρωπος'), ('πείθω', 'VERB', 'πείθω'), ('ἢ', 'CCONJ', 'ἤ'), ('τὸν', 'DET', 'ὁ'), ('θεόν', 'NOUN', 'θεός'), (';', 'PUNCT', ';')]\n",
      "[('ἢ', 'CCONJ', 'ἤ'), ('ζητῶ', 'VERB', 'ζητέω'), ('ἀνθρώποις', 'NOUN', 'ἄνθρωπος'), ('ἀρέσκειν', 'VERB', 'ἀρέσκω'), (';', 'PUNCT', ';')]\n",
      "[('εἰ', 'SCONJ', 'εἰ'), ('ἔτι', 'ADV', 'ἔτι'), ('ἀνθρώποις', 'NOUN', 'ἄνθρωπος'), ('ἤρεσκον', 'VERB', 'ἀρέσκω'), (',', 'PUNCT', ','), ('Χριστοῦ', 'NOUN', 'Χριστός'), ('δοῦλος', 'NOUN', 'δοῦλος'), ('οὐκ', 'ADV', 'οὐ'), ('ἂν', 'ADV', 'ἄν'), ('ἤμην', 'VERB', 'εἰμί'), ('.', 'PUNCT', '.')]\n"
     ]
    }
   ],
   "source": [
    "paul_test = apply_nlp(AGT[AGT[\"author_id\"]==\"tlg0031paul\"].iloc[3][\"sentences\"])\n",
    "for doc in paul_test[:10]:\n",
    "    print([(token.text, token.pos_, token.lemma_) for token in doc])"
   ]
  },
  {
   "cell_type": "code",
   "execution_count": 15,
   "metadata": {},
   "outputs": [
    {
     "name": "stdout",
     "output_type": "stream",
     "text": [
      "[('πᾶσα', 'DET', 'πᾶς'), ('τέχνη', 'NOUN', 'τέχνη'), ('καὶ', 'CCONJ', 'καί'), ('πᾶσα', 'ADJ', 'πᾶς'), ('μέθοδος', 'NOUN', 'μέθοδος'), (',', 'PUNCT', ','), ('ὁμοίως', 'ADV', 'ὁμοίως'), ('δὲ', 'CCONJ', 'δέ'), ('πρᾶξίς', 'NOUN', 'πρᾶξις'), ('τε', 'PART', 'τε'), ('καὶ', 'CCONJ', 'καί'), ('προαίρεσις', 'NOUN', 'προαίρεσις'), (',', 'PUNCT', ','), ('ἀγαθοῦ', 'ADJ', 'ἀγαθός'), ('τινὸς', 'PRON', 'τίς'), ('ἐφίεσθαι', 'VERB', 'ἐφίημι'), ('δοκεῖ', 'VERB', 'δοκέω'), ('·', 'PUNCT', '·')]\n",
      "[('διὸ', 'ADV', 'διό'), ('καλῶς', 'ADV', 'καλῶς'), ('ἀπεφήναντο', 'VERB', 'ἀποφαίνω'), ('τἀγαθόν', 'ADJ', 'ἀγαθός'), (',', 'PUNCT', ','), ('οὗ', 'ADV', 'οὗ'), ('πάντʼ', 'ADJ', 'πᾶς'), ('ἐφίεται', 'VERB', 'ἐφίημι'), ('.', 'PUNCT', '.')]\n",
      "[('διαφορὰ', 'NOUN', 'διαφορά'), ('δέ', 'ADV', 'δέ'), ('τις', 'PRON', 'τίς'), ('φαίνεται', 'VERB', 'φαίνω'), ('τῶν', 'DET', 'ὁ'), ('τελῶν', 'NOUN', 'τέλος'), ('·', 'PUNCT', '·')]\n",
      "[('τὰ', 'PRON', 'ὁ'), ('μὲν', 'PART', 'μέν'), ('γάρ', 'PART', 'γάρ'), ('εἰσιν', 'VERB', 'εἰμί'), ('ἐνέργειαι', 'NOUN', 'ἐνέργεια'), (',', 'PUNCT', ','), ('τὰ', 'DET', 'ὁ'), ('δὲ', 'CCONJ', 'δέ'), ('παρʼ', 'ADP', 'παρά'), ('αὐτὰς', 'ADJ', 'αὐτός'), ('ἔργα', 'NOUN', 'ἔργον'), ('τινά', 'PRON', 'τις'), ('.', 'PUNCT', '.')]\n",
      "[('ὧν', 'PRON', 'ὅς'), ('δʼ', 'ADV', 'δέ'), ('εἰσὶ', 'AUX', 'εἰμί'), ('τέλη', 'NOUN', 'τέλος'), ('τινὰ', 'DET', 'τὶς'), ('παρὰ', 'ADP', 'παρά'), ('τὰς', 'DET', 'ὁ'), ('πράξεις', 'NOUN', 'πρᾶξις'), (',', 'PUNCT', ','), ('ἐν', 'ADP', 'ἐν'), ('τούτοις', 'PRON', 'οὗτος'), ('βελτίω', 'ADJ', 'βελτίων'), ('πέφυκε', 'VERB', 'φύω'), ('τῶν', 'DET', 'ὁ'), ('ἐνεργειῶν', 'NOUN', 'ἐνέργεια'), ('τὰ', 'DET', 'ὁ'), ('ἔργα', 'NOUN', 'ἔργον'), ('.', 'PUNCT', '.')]\n",
      "[('πολλῶν', 'ADJ', 'πολύς'), ('δὲ', 'ADV', 'δέ'), ('πράξεων', 'NOUN', 'πρᾶξις'), ('οὐσῶν', 'AUX', 'εἰμί'), ('καὶ', 'CCONJ', 'καί'), ('τεχνῶν', 'NOUN', 'τέχνη'), ('καὶ', 'CCONJ', 'καί'), ('ἐπιστημῶν', 'NOUN', 'ἐπιστήμη'), ('πολλὰ', 'ADJ', 'πολύς'), ('γίνεται', 'VERB', 'γίγνομαι'), ('καὶ', 'ADV', 'καί'), ('τὰ', 'DET', 'ὁ'), ('τέλη', 'NOUN', 'τέλος'), ('·', 'PUNCT', '·')]\n",
      "[('ἰατρικῆς', 'ADJ', 'ἰατρικός'), ('μὲν', 'PART', 'μέν'), ('γὰρ', 'PART', 'γάρ'), ('ὑγίεια', 'NOUN', 'ὑγίεια'), (',', 'PUNCT', ','), ('ναυπηγικῆς', 'ADJ', 'ναυπηγικός'), ('δὲ', 'CCONJ', 'δέ'), ('πλοῖον', 'NOUN', 'πλοῖον'), (',', 'PUNCT', ','), ('στρατηγικῆς', 'ADJ', 'στρατηγικός'), ('δὲ', 'PART', 'δέ'), ('νίκη', 'NOUN', 'νίκη'), (',', 'PUNCT', ','), ('οἰκονομικῆς', 'ADJ', 'οἰκονομικός'), ('δὲ', 'PART', 'δέ'), ('πλοῦτος', 'NOUN', 'πλοῦτος'), ('.', 'PUNCT', '.')]\n",
      "[('ὅσαι', 'PRON', 'ὅσος'), ('δʼ', 'ADV', 'δέ'), ('εἰσὶ', 'AUX', 'εἰμί'), ('τῶν', 'DET', 'ὁ'), ('τοιούτων', 'ADJ', 'τοιοῦτος'), ('ὑπὸ', 'ADP', 'ὑπό'), ('μίαν', 'ADJ', 'εἷς'), ('τινὰ', 'PRON', 'τίς'), ('δύναμιν', 'NOUN', 'δύναμις'), (',', 'PUNCT', ','), ('καθάπερ', 'SCONJ', 'καθά'), ('ὑπὸ', 'ADP', 'ὑπό'), ('τὴν', 'DET', 'ὁ'), ('ἱππικὴν', 'ADJ', 'ἱππικός'), ('χαλινοποιικὴ', 'NOUN', 'χαλινοποιική'), ('καὶ', 'CCONJ', 'καί'), ('ὅσαι', 'PRON', 'ὅσος'), ('ἄλλαι', 'DET', 'ἄλλος'), ('τῶν', 'DET', 'ὁ'), ('ἱππικῶν', 'ADJ', 'ἱππικός'), ('ὀργάνων', 'NOUN', 'ὄργανον'), ('εἰσίν', 'VERB', 'εἰμί'), (',', 'PUNCT', ','), ('αὕτη', 'PRON', 'αὐτός'), ('δὲ', 'CCONJ', 'δέ'), ('καὶ', 'ADV', 'καί'), ('πᾶσα', 'DET', 'πᾶς'), ('πολεμικὴ', 'ADJ', 'πολεμικός'), ('πρᾶξις', 'NOUN', 'πρᾶξις'), ('ὑπὸ', 'ADP', 'ὑπό'), ('τὴν', 'DET', 'ὁ'), ('στρατηγικήν', 'ADJ', 'στρατηγικός'), (',', 'PUNCT', ','), ('κατὰ', 'ADP', 'κατά'), ('τὸν', 'DET', 'ὁ'), ('αὐτὸν', 'ADJ', 'αὐτός'), ('δὴ', 'ADV', 'δή'), ('τρόπον', 'NOUN', 'τρόπος'), ('ἄλλαι', 'ADJ', 'ἄλλος'), ('ὑφʼ', 'ADP', 'ὑπό'), ('ἑτέρας', 'ADJ', 'ἕτερος'), ('·', 'PUNCT', '·')]\n",
      "[('ἐν', 'ADP', 'ἐν'), ('ἁπάσαις', 'ADJ', 'ἅπας'), ('δὲ', 'ADV', 'δέ'), ('τὰ', 'DET', 'ὁ'), ('τῶν', 'DET', 'ὁ'), ('ἀρχιτεκτονικῶν', 'ADJ', 'ἀρχιτεκτονικῶν'), ('τέλη', 'NOUN', 'τέλος'), ('πάντων', 'DET', 'πᾶς'), ('ἐστὶν', 'AUX', 'εἰμί'), ('αἱρετώτερα', 'ADJ', 'αἱρετός'), ('τῶν', 'DET', 'ὁ'), ('ὑπʼ', 'ADP', 'ὑπό'), ('αὐτά', 'PRON', 'αὐτός'), ('·', 'PUNCT', '·')]\n",
      "[('τούτων', 'ADJ', 'οὗτος'), ('γὰρ', 'PART', 'γάρ'), ('χάριν', 'NOUN', 'χάρις'), ('κἀκεῖνα', 'ADJ', 'ἐκεῖνος'), ('διώκεται', 'VERB', 'διώκω'), ('.', 'PUNCT', '.')]\n"
     ]
    }
   ],
   "source": [
    "arist_test = apply_nlp(AGT[AGT[\"doc_id\"]==\"tlg0086.tlg010\"][\"sentences\"].tolist()[0])\n",
    "for doc in arist_test[:10]:\n",
    "    print([(token.text, token.pos_, token.lemma_) for token in doc])"
   ]
  },
  {
   "cell_type": "code",
   "execution_count": 17,
   "metadata": {},
   "outputs": [
    {
     "data": {
      "text/plain": [
       "1457"
      ]
     },
     "execution_count": 17,
     "metadata": {},
     "output_type": "execute_result"
    }
   ],
   "source": [
    "len(AGT)"
   ]
  },
  {
   "cell_type": "code",
   "execution_count": 18,
   "metadata": {},
   "outputs": [
    {
     "name": "stdout",
     "output_type": "stream",
     "text": [
      "CPU times: user 1h 33min 23s, sys: 20.9 s, total: 1h 33min 44s\n",
      "Wall time: 1h 33min 46s\n"
     ]
    }
   ],
   "source": [
    "%%time\n",
    "AGT_docs_series = AGT[\"sentences\"].apply(apply_nlp)"
   ]
  },
  {
   "cell_type": "code",
   "execution_count": 19,
   "metadata": {},
   "outputs": [
    {
     "name": "stdout",
     "output_type": "stream",
     "text": [
      "CPU times: user 57.6 s, sys: 1.95 s, total: 59.5 s\n",
      "Wall time: 59.5 s\n"
     ]
    }
   ],
   "source": [
    "%%time\n",
    "AGT_tagged_complete = AGT_docs_series.apply(lambda docs: [[(token.text, token.pos_, token.lemma_) for token in doc] for doc in docs])\n",
    "agt_tagged_complete_df = pd.DataFrame(AGT_tagged_complete)"
   ]
  },
  {
   "cell_type": "code",
   "execution_count": 22,
   "metadata": {},
   "outputs": [
    {
     "name": "stdout",
     "output_type": "stream",
     "text": [
      "Your <class 'pandas.core.frame.DataFrame'> object has been succefully written as \"https://sciencedata.dk/files/SDAM_root/SDAM_data/AGT/AGT_tagged_20201211.json\"\n"
     ]
    }
   ],
   "source": [
    "# export to sciencedata.dk\n",
    "sddk.write_file(\"SDAM_data/AGT/AGT_tagged_20201211.json\", agt_tagged_complete_df, conf)\n",
    "#agt_tagged_df = sddk.read_file(\"SDAM_data/AGT/AGT_tagged_20201204.json\", \"df\", conf)"
   ]
  },
  {
   "cell_type": "code",
   "execution_count": 21,
   "metadata": {},
   "outputs": [
    {
     "name": "stdout",
     "output_type": "stream",
     "text": [
      "CPU times: user 7.27 s, sys: 108 ms, total: 7.37 s\n",
      "Wall time: 7.37 s\n"
     ]
    }
   ],
   "source": [
    "%%time\n",
    "def get_lemmatized_sentences(docs):\n",
    "    tags = [\"NOUN\", \"PROPN\",\"VERB\", \"ADJ\"]\n",
    "    sents = []  \n",
    "    for doc in docs:\n",
    "        sent = []\n",
    "        for token in doc:\n",
    "            if token[1] in tags:\n",
    "                sent.append(token[2])\n",
    "        sents.append(sent)\n",
    "    return sents\n",
    "\n",
    "lemmatized_sentences = AGT_tagged_complete.apply(get_lemmatized_sentences)\n",
    "AGT[\"lemmatized_sentences\"] = lemmatized_sentences"
   ]
  },
  {
   "cell_type": "code",
   "execution_count": 23,
   "metadata": {},
   "outputs": [
    {
     "name": "stdout",
     "output_type": "stream",
     "text": [
      "Your <class 'pandas.core.frame.DataFrame'> object has been succefully written as \"https://sciencedata.dk/files/SDAM_root/SDAM_data/AGT/AGT_lemmatized_20201211.json\"\n"
     ]
    }
   ],
   "source": [
    "sddk.write_file(\"SDAM_data/AGT/AGT_lemmatized_20201211.json\", AGT.drop(\"sentences\" , axis=1), conf)"
   ]
  },
  {
   "cell_type": "markdown",
   "metadata": {},
   "source": [
    "# Detailed evaluation of the performance"
   ]
  },
  {
   "cell_type": "code",
   "execution_count": 4,
   "metadata": {},
   "outputs": [],
   "source": [
    "agt_tagged_complete_df = sddk.read_file(\"SDAM_data/AGT/AGT_tagged_20201211.json\", \"df\", conf)"
   ]
  },
  {
   "cell_type": "code",
   "execution_count": 5,
   "metadata": {},
   "outputs": [],
   "source": [
    "agt_tagged_complete_df.index = agt_tagged_complete_df.index.astype(int)"
   ]
  },
  {
   "cell_type": "code",
   "execution_count": 6,
   "metadata": {},
   "outputs": [],
   "source": [
    "agt_tagged_complete_df.sort_index(inplace=True)"
   ]
  },
  {
   "cell_type": "code",
   "execution_count": 7,
   "metadata": {},
   "outputs": [],
   "source": [
    "AGT[\"tagged\"] = agt_tagged_complete_df.values"
   ]
  },
  {
   "cell_type": "code",
   "execution_count": 8,
   "metadata": {},
   "outputs": [
    {
     "data": {
      "text/html": [
       "<div>\n",
       "<style scoped>\n",
       "    .dataframe tbody tr th:only-of-type {\n",
       "        vertical-align: middle;\n",
       "    }\n",
       "\n",
       "    .dataframe tbody tr th {\n",
       "        vertical-align: top;\n",
       "    }\n",
       "\n",
       "    .dataframe thead th {\n",
       "        text-align: right;\n",
       "    }\n",
       "</style>\n",
       "<table border=\"1\" class=\"dataframe\">\n",
       "  <thead>\n",
       "    <tr style=\"text-align: right;\">\n",
       "      <th></th>\n",
       "      <th>filename</th>\n",
       "      <th>author</th>\n",
       "      <th>title</th>\n",
       "      <th>wordcount</th>\n",
       "      <th>author_id</th>\n",
       "      <th>doc_id</th>\n",
       "      <th>raw_date</th>\n",
       "      <th>date_avr</th>\n",
       "      <th>date_probs</th>\n",
       "      <th>date_manual</th>\n",
       "      <th>provenience</th>\n",
       "      <th>tlg_epithet</th>\n",
       "      <th>clean_string</th>\n",
       "      <th>sentences</th>\n",
       "      <th>n_sentences</th>\n",
       "      <th>tagged</th>\n",
       "    </tr>\n",
       "  </thead>\n",
       "  <tbody>\n",
       "    <tr>\n",
       "      <th>0</th>\n",
       "      <td>tlg0001.tlg001.perseus-grc2.xml</td>\n",
       "      <td>Apollonius Rhodius</td>\n",
       "      <td>Argonautica</td>\n",
       "      <td>38822</td>\n",
       "      <td>tlg0001</td>\n",
       "      <td>tlg0001.tlg001</td>\n",
       "      <td>3 B.C.</td>\n",
       "      <td>-2.5</td>\n",
       "      <td>{'-2.5': 1}</td>\n",
       "      <td>-2.5</td>\n",
       "      <td>pagan</td>\n",
       "      <td>Epici/-ae</td>\n",
       "      <td>ἀρχόμενος σέο, Φοῖβε, παλαιγενέων κλέα φωτῶν μ...</td>\n",
       "      <td>[ἀρχόμενος σέο, Φοῖβε, παλαιγενέων κλέα φωτῶν ...</td>\n",
       "      <td>3252</td>\n",
       "      <td>[[[ἀρχόμενος, VERB, ἄρχω], [σέο, PRON, σύ], [,...</td>\n",
       "    </tr>\n",
       "    <tr>\n",
       "      <th>1</th>\n",
       "      <td>tlg0003.tlg001.perseus-grc2.xml</td>\n",
       "      <td>Thucydides</td>\n",
       "      <td>The Peloponnesian War</td>\n",
       "      <td>150118</td>\n",
       "      <td>tlg0003</td>\n",
       "      <td>tlg0003.tlg001</td>\n",
       "      <td>5 B.C.</td>\n",
       "      <td>-4.5</td>\n",
       "      <td>{'-4.5': 1}</td>\n",
       "      <td>-4.5</td>\n",
       "      <td>pagan</td>\n",
       "      <td>Historici/-ae</td>\n",
       "      <td>Θουκυδίδης Ἀθηναῖος ξυνέγραψε τὸν πόλεμον τῶν...</td>\n",
       "      <td>[Θουκυδίδης Ἀθηναῖος ξυνέγραψε τὸν πόλεμον τῶν...</td>\n",
       "      <td>6068</td>\n",
       "      <td>[[[Θουκυδίδης, PROPN, θουκυδίδης], [Ἀθηναῖος, ...</td>\n",
       "    </tr>\n",
       "    <tr>\n",
       "      <th>2</th>\n",
       "      <td>tlg0004.tlg001.perseus-grc1.xml</td>\n",
       "      <td>Diogenes Laertius</td>\n",
       "      <td>Lives of Eminent Philosophers</td>\n",
       "      <td>110763</td>\n",
       "      <td>tlg0004</td>\n",
       "      <td>tlg0004.tlg001</td>\n",
       "      <td>A.D. 3</td>\n",
       "      <td>2.5</td>\n",
       "      <td>{'2.5': 1}</td>\n",
       "      <td>NaN</td>\n",
       "      <td></td>\n",
       "      <td>Biographi</td>\n",
       "      <td>Τὸ τῆς φιλοσοφίας ἔργον ἔνιοί φασιν ἀπὸ βαρβάρ...</td>\n",
       "      <td>[Τὸ τῆς φιλοσοφίας ἔργον ἔνιοί φασιν ἀπὸ βαρβά...</td>\n",
       "      <td>10245</td>\n",
       "      <td>[[[Τὸ, DET, ὁ], [τῆς, DET, ὁ], [φιλοσοφίας, NO...</td>\n",
       "    </tr>\n",
       "    <tr>\n",
       "      <th>3</th>\n",
       "      <td>tlg0005.tlg001.perseus-grc1.xml</td>\n",
       "      <td>Theocritus</td>\n",
       "      <td>Idylls</td>\n",
       "      <td>19200</td>\n",
       "      <td>tlg0005</td>\n",
       "      <td>tlg0005.tlg001</td>\n",
       "      <td>4-3 B.C.</td>\n",
       "      <td>-3.0</td>\n",
       "      <td>{'-3.5': 0.5, '-2.5': 0.5}</td>\n",
       "      <td>NaN</td>\n",
       "      <td></td>\n",
       "      <td>Bucolici</td>\n",
       "      <td>̔Αδύ τι τὸ ψιθύρισμα καὶ ἁ πίτυς αἰπόλε τήνα,...</td>\n",
       "      <td>[Αδύ τι τὸ ψιθύρισμα καὶ ἁ πίτυς αἰπόλε τήνα, ...</td>\n",
       "      <td>1982</td>\n",
       "      <td>[[[Αδύ, PROPN, αδύ], [τι, DET, τὶς], [τὸ, DET,...</td>\n",
       "    </tr>\n",
       "    <tr>\n",
       "      <th>4</th>\n",
       "      <td>tlg0005.tlg002.perseus-grc1.xml</td>\n",
       "      <td>Theocritus</td>\n",
       "      <td>Epigrams</td>\n",
       "      <td>1734</td>\n",
       "      <td>tlg0005</td>\n",
       "      <td>tlg0005.tlg002</td>\n",
       "      <td>4-3 B.C.</td>\n",
       "      <td>-3.0</td>\n",
       "      <td>{'-3.5': 0.5, '-2.5': 0.5}</td>\n",
       "      <td>NaN</td>\n",
       "      <td></td>\n",
       "      <td>Bucolici</td>\n",
       "      <td>τὰ ῥόδα τὰ δροσόεντα καὶ ἁ κατάπυκνος ἐκείνα ἕ...</td>\n",
       "      <td>[τὰ ῥόδα τὰ δροσόεντα καὶ ἁ κατάπυκνος ἐκείνα ...</td>\n",
       "      <td>152</td>\n",
       "      <td>[[[τὰ, DET, ὁ], [ῥόδα, NOUN, ῥόδον], [τὰ, DET,...</td>\n",
       "    </tr>\n",
       "  </tbody>\n",
       "</table>\n",
       "</div>"
      ],
      "text/plain": [
       "                          filename              author  \\\n",
       "0  tlg0001.tlg001.perseus-grc2.xml  Apollonius Rhodius   \n",
       "1  tlg0003.tlg001.perseus-grc2.xml          Thucydides   \n",
       "2  tlg0004.tlg001.perseus-grc1.xml   Diogenes Laertius   \n",
       "3  tlg0005.tlg001.perseus-grc1.xml          Theocritus   \n",
       "4  tlg0005.tlg002.perseus-grc1.xml          Theocritus   \n",
       "\n",
       "                           title  wordcount author_id          doc_id  \\\n",
       "0                    Argonautica      38822   tlg0001  tlg0001.tlg001   \n",
       "1          The Peloponnesian War     150118   tlg0003  tlg0003.tlg001   \n",
       "2  Lives of Eminent Philosophers     110763   tlg0004  tlg0004.tlg001   \n",
       "3                        Idylls       19200   tlg0005  tlg0005.tlg001   \n",
       "4                      Epigrams        1734   tlg0005  tlg0005.tlg002   \n",
       "\n",
       "   raw_date  date_avr                  date_probs  date_manual provenience  \\\n",
       "0    3 B.C.      -2.5                 {'-2.5': 1}         -2.5       pagan   \n",
       "1    5 B.C.      -4.5                 {'-4.5': 1}         -4.5       pagan   \n",
       "2    A.D. 3       2.5                  {'2.5': 1}          NaN               \n",
       "3  4-3 B.C.      -3.0  {'-3.5': 0.5, '-2.5': 0.5}          NaN               \n",
       "4  4-3 B.C.      -3.0  {'-3.5': 0.5, '-2.5': 0.5}          NaN               \n",
       "\n",
       "     tlg_epithet                                       clean_string  \\\n",
       "0      Epici/-ae  ἀρχόμενος σέο, Φοῖβε, παλαιγενέων κλέα φωτῶν μ...   \n",
       "1  Historici/-ae   Θουκυδίδης Ἀθηναῖος ξυνέγραψε τὸν πόλεμον τῶν...   \n",
       "2      Biographi  Τὸ τῆς φιλοσοφίας ἔργον ἔνιοί φασιν ἀπὸ βαρβάρ...   \n",
       "3       Bucolici   ̔Αδύ τι τὸ ψιθύρισμα καὶ ἁ πίτυς αἰπόλε τήνα,...   \n",
       "4       Bucolici  τὰ ῥόδα τὰ δροσόεντα καὶ ἁ κατάπυκνος ἐκείνα ἕ...   \n",
       "\n",
       "                                           sentences  n_sentences  \\\n",
       "0  [ἀρχόμενος σέο, Φοῖβε, παλαιγενέων κλέα φωτῶν ...         3252   \n",
       "1  [Θουκυδίδης Ἀθηναῖος ξυνέγραψε τὸν πόλεμον τῶν...         6068   \n",
       "2  [Τὸ τῆς φιλοσοφίας ἔργον ἔνιοί φασιν ἀπὸ βαρβά...        10245   \n",
       "3  [Αδύ τι τὸ ψιθύρισμα καὶ ἁ πίτυς αἰπόλε τήνα, ...         1982   \n",
       "4  [τὰ ῥόδα τὰ δροσόεντα καὶ ἁ κατάπυκνος ἐκείνα ...          152   \n",
       "\n",
       "                                              tagged  \n",
       "0  [[[ἀρχόμενος, VERB, ἄρχω], [σέο, PRON, σύ], [,...  \n",
       "1  [[[Θουκυδίδης, PROPN, θουκυδίδης], [Ἀθηναῖος, ...  \n",
       "2  [[[Τὸ, DET, ὁ], [τῆς, DET, ὁ], [φιλοσοφίας, NO...  \n",
       "3  [[[Αδύ, PROPN, αδύ], [τι, DET, τὶς], [τὸ, DET,...  \n",
       "4  [[[τὰ, DET, ὁ], [ῥόδα, NOUN, ῥόδον], [τὰ, DET,...  "
      ]
     },
     "execution_count": 8,
     "metadata": {},
     "output_type": "execute_result"
    }
   ],
   "source": [
    "AGT.head(5)"
   ]
  },
  {
   "cell_type": "code",
   "execution_count": 9,
   "metadata": {},
   "outputs": [
    {
     "ename": "NameError",
     "evalue": "name 'nlp' is not defined",
     "output_type": "error",
     "traceback": [
      "\u001b[0;31m---------------------------------------------------------------------------\u001b[0m",
      "\u001b[0;31mNameError\u001b[0m                                 Traceback (most recent call last)",
      "\u001b[0;32m<ipython-input-9-547fe08e118b>\u001b[0m in \u001b[0;36m<module>\u001b[0;34m\u001b[0m\n\u001b[1;32m      1\u001b[0m \u001b[0;31m# load it back from the model (to check functionality for future usage)\u001b[0m\u001b[0;34m\u001b[0m\u001b[0;34m\u001b[0m\u001b[0;34m\u001b[0m\u001b[0m\n\u001b[0;32m----> 2\u001b[0;31m \u001b[0mag_lemma_lookup\u001b[0m \u001b[0;34m=\u001b[0m \u001b[0mnlp\u001b[0m\u001b[0;34m.\u001b[0m\u001b[0mvocab\u001b[0m\u001b[0;34m.\u001b[0m\u001b[0mlookups\u001b[0m\u001b[0;34m.\u001b[0m\u001b[0mget_table\u001b[0m\u001b[0;34m(\u001b[0m\u001b[0;34m\"lemma_lookup\"\u001b[0m\u001b[0;34m)\u001b[0m\u001b[0;34m\u001b[0m\u001b[0;34m\u001b[0m\u001b[0m\n\u001b[0m\u001b[1;32m      3\u001b[0m \u001b[0mag_lemma_lookup_merged\u001b[0m \u001b[0;34m=\u001b[0m \u001b[0mnlp\u001b[0m\u001b[0;34m.\u001b[0m\u001b[0mvocab\u001b[0m\u001b[0;34m.\u001b[0m\u001b[0mlookups\u001b[0m\u001b[0;34m.\u001b[0m\u001b[0mget_table\u001b[0m\u001b[0;34m(\u001b[0m\u001b[0;34m\"lemma_lookup_merged\"\u001b[0m\u001b[0;34m)\u001b[0m\u001b[0;34m\u001b[0m\u001b[0;34m\u001b[0m\u001b[0m\n",
      "\u001b[0;31mNameError\u001b[0m: name 'nlp' is not defined"
     ]
    }
   ],
   "source": [
    "# load it back from the model (to check functionality for future usage)\n",
    "ag_lemma_lookup = nlp.vocab.lookups.get_table(\"lemma_lookup\")\n",
    "ag_lemma_lookup_merged = nlp.vocab.lookups.get_table(\"lemma_lookup_merged\")"
   ]
  },
  {
   "cell_type": "code",
   "execution_count": 71,
   "metadata": {},
   "outputs": [
    {
     "data": {
      "text/plain": [
       "38989"
      ]
     },
     "execution_count": 71,
     "metadata": {},
     "output_type": "execute_result"
    }
   ],
   "source": [
    "unique_lemmata = list(set(list(ag_lemma_lookup_merged.values())))\n",
    "len(unique_lemmata)"
   ]
  },
  {
   "cell_type": "code",
   "execution_count": 72,
   "metadata": {},
   "outputs": [],
   "source": [
    "def get_unknowns(list_of_tagged):\n",
    "    unknowns = []\n",
    "    for sent in list_of_tagged:\n",
    "        for token in sent:\n",
    "            if token[2] not in unique_lemmata: # if not in our list of lemmata\n",
    "                unknowns.append(token[2])\n",
    "    return unknowns"
   ]
  },
  {
   "cell_type": "code",
   "execution_count": 76,
   "metadata": {},
   "outputs": [
    {
     "name": "stdout",
     "output_type": "stream",
     "text": [
      "CPU times: user 11.6 s, sys: 4 ms, total: 11.6 s\n",
      "Wall time: 11.6 s\n"
     ]
    },
    {
     "data": {
      "text/plain": [
       "3529"
      ]
     },
     "execution_count": 76,
     "metadata": {},
     "output_type": "execute_result"
    }
   ],
   "source": [
    "%%time\n",
    "# TEST: identify all unknowns in the first work\n",
    "len(get_unknowns(AGT[\"tagged\"].tolist()[0]))"
   ]
  },
  {
   "cell_type": "code",
   "execution_count": 77,
   "metadata": {},
   "outputs": [
    {
     "name": "stdout",
     "output_type": "stream",
     "text": [
      "CPU times: user 2h 20min 44s, sys: 420 ms, total: 2h 20min 44s\n",
      "Wall time: 2h 20min 45s\n"
     ]
    }
   ],
   "source": [
    "%%time\n",
    "# ...apply to the whole corpus\n",
    "# WARNING: extremely slow\n",
    "AGT[\"unknowns\"] = AGT[\"tagged\"].apply(get_unknowns)"
   ]
  },
  {
   "cell_type": "code",
   "execution_count": 79,
   "metadata": {},
   "outputs": [],
   "source": [
    "def get_len(word_list):\n",
    "    return len(word_list)\n",
    "AGT[\"N_unknowns\"] = AGT[\"unknowns\"].apply(lambda x: len(x))"
   ]
  },
  {
   "cell_type": "code",
   "execution_count": 80,
   "metadata": {},
   "outputs": [
    {
     "data": {
      "text/plain": [
       "3517983"
      ]
     },
     "execution_count": 80,
     "metadata": {},
     "output_type": "execute_result"
    }
   ],
   "source": [
    "AGT[\"N_unknowns\"].sum()"
   ]
  },
  {
   "cell_type": "code",
   "execution_count": 81,
   "metadata": {},
   "outputs": [],
   "source": [
    "unknowns_all = [el for sublist in AGT[\"unknowns\"].tolist() for el in sublist]"
   ]
  },
  {
   "cell_type": "code",
   "execution_count": 93,
   "metadata": {},
   "outputs": [
    {
     "data": {
      "text/plain": [
       "[('ἀλλ', 11027),\n",
       " ('ἄλλως', 9603),\n",
       " ('καλῶς', 9514),\n",
       " ('   ', 7485),\n",
       " ('ἁπλῶς', 7466),\n",
       " ('ἴσως', 6539),\n",
       " ('ἄνευ', 6490),\n",
       " ('ἐναντίον', 6402),\n",
       " ('δραχ', 6219),\n",
       " ('ὅμως', 5839),\n",
       " ('τουτέστι', 5348),\n",
       " ('τουτέστιν', 5308),\n",
       " ('ἐφεξῆς', 5194),\n",
       " ('    ', 5129),\n",
       " ('καθ', 4992),\n",
       " ('ταύτῃ', 4984),\n",
       " ('ἀκριβῶς', 4746),\n",
       " ('ὀρθῶς', 4598),\n",
       " ('δέκα', 4415),\n",
       " ('ἀριστοτέλης', 4387),\n",
       " ('     ', 4248),\n",
       " ('ὁμοῦ', 4009),\n",
       " ('πότερον', 3855),\n",
       " ('κυρίως', 3748),\n",
       " ('πλησίον', 3718),\n",
       " ('      ', 3418),\n",
       " ('συμβεβηκὸς', 3376),\n",
       " ('αὐτοῦ', 3317),\n",
       " ('κινούμενον', 3017),\n",
       " ('οὔτι', 2958),\n",
       " ('       ', 2578),\n",
       " ('δικαίως', 2376),\n",
       " ('κτλ', 2366),\n",
       " ('ἀπλῶς', 2349),\n",
       " ('ὑποκειμένου', 2322),\n",
       " ('ὑποκειμένῳ', 2101),\n",
       " ('οὐδ', 2099),\n",
       " ('ἀριστοφάνης', 2081),\n",
       " ('συμβεβηκός', 2073),\n",
       " ('οὐδαμῶς', 2038),\n",
       " ('αβγ', 1928),\n",
       " ('        ', 1927),\n",
       " ('ταὐτόν', 1901),\n",
       " ('μάτην', 1875),\n",
       " ('πρώτως', 1868),\n",
       " ('μετ', 1844),\n",
       " ('ἑκατὸν', 1696),\n",
       " ('καῖσαρ', 1684),\n",
       " ('ποτός', 1669),\n",
       " ('         ', 1621),\n",
       " ('μετρίως', 1528),\n",
       " ('κοινῇ', 1455),\n",
       " ('εἴσω', 1383),\n",
       " ('δημοσθένης', 1378),\n",
       " ('ἄγαν', 1375),\n",
       " ('εἵς', 1264),\n",
       " ('φανερῶς', 1259),\n",
       " ('συμβεβηκότα', 1232),\n",
       " ('ἔσω', 1220),\n",
       " ('          ', 1215),\n",
       " ('ἀναγκαίως', 1200),\n",
       " ('κύκλῳ', 1190),\n",
       " ('οἷα', 1153),\n",
       " ('ἐνδεχόμενον', 1152),\n",
       " ('κινούμενα', 1129),\n",
       " ('παραπλησίως', 1114),\n",
       " ('ἀντικείμενον', 1078),\n",
       " ('κατηγορούμενον', 1051),\n",
       " ('σημαινόμενον', 1046),\n",
       " ('μόνως', 1024),\n",
       " ('ἰστέον', 1011),\n",
       " ('ἰσχυρῶς', 1008),\n",
       " ('μωυσῆς', 1002),\n",
       " ('κᾂν', 993),\n",
       " ('ἐπάνω', 976),\n",
       " ('ἑπόμενον', 969),\n",
       " ('ὑποκειμένων', 959),\n",
       " ('πεπερασμένον', 946),\n",
       " ('χρυσοστόμου', 941),\n",
       " ('           ', 922),\n",
       " ('ἱπποκράτους', 895),\n",
       " ('κᾀν', 888),\n",
       " ('οὐδαμοῦ', 882),\n",
       " ('μηδαμῶς', 880),\n",
       " ('κινουμένου', 874),\n",
       " ('χαλεπῶς', 856),\n",
       " ('αἰτιατικῇ', 851),\n",
       " ('δαβὶδ', 846),\n",
       " ('προθύμως', 840),\n",
       " ('ἀδίκως', 835),\n",
       " ('διφθόγγου', 824),\n",
       " ('περιεχόμενον', 812),\n",
       " ('οἴκοι', 783),\n",
       " ('κατάφασις', 780),\n",
       " ('ἐξῆς', 771),\n",
       " ('μεθ', 770),\n",
       " ('ζηνόδοτος', 769),\n",
       " ('γεγονότων', 764),\n",
       " ('κινουμένων', 760),\n",
       " ('ἀντικείμενα', 752)]"
      ]
     },
     "execution_count": 93,
     "metadata": {},
     "output_type": "execute_result"
    }
   ],
   "source": [
    "unknowns_words = [word for word in nltk.FreqDist(unknowns_all).most_common() if len(word[0]) > 2]\n",
    "unknowns_words[:100]"
   ]
  },
  {
   "cell_type": "code",
   "execution_count": 94,
   "metadata": {},
   "outputs": [],
   "source": [
    "unknowns_words_df = pd.DataFrame(unknowns_words, columns=[\"wordform\", \"count\"])"
   ]
  },
  {
   "cell_type": "code",
   "execution_count": 16,
   "metadata": {},
   "outputs": [],
   "source": [
    "# to access gsheet, you need Google Service Account key json file\n",
    "# I have mine located in my personal space on sciencedata.dk, so I read it from there:\n",
    "# (1) read the file and parse its content\n",
    "file_data = sddk.read_file(\"https://sciencedata.dk/files/ServiceAccountsKey.json\", \"dict\", conf)# conf[0].get(conf[1] + \"ServiceAccountsKey.json\").json()\n",
    "# (2) transform the content into crendentials object\n",
    "credentials = service_account.Credentials.from_service_account_info(file_data)\n",
    "# (3) specify your usage of the credentials\n",
    "scoped_credentials = credentials.with_scopes(['https://spreadsheets.google.com/feeds', 'https://www.googleapis.com/auth/drive'])\n",
    "# (4) use the constrained credentials for authentication of gspread package\n",
    "gc = gspread.Client(auth=scoped_credentials)\n",
    "\n",
    "CEMRAM_CODING = gc.open_by_url(\"https://docs.google.com/spreadsheets/d/1W5lBT2vxPXJZP06dRacNgEaM9wF9UlFnxiPq28vJJTg/edit?usp=sharing\")\n",
    "\n",
    "# AGT_metadata = gc.open_by_url(\"https://docs.google.com/spreadsheets/d/1hEUnL3E07F-EnE3wYnk1V91aXfPDrcnhFHKjD-04CM0/edit?usp=sharing\")"
   ]
  },
  {
   "cell_type": "code",
   "execution_count": 95,
   "metadata": {},
   "outputs": [],
   "source": [
    "set_with_dataframe(CEMRAM_CODING.add_worksheet(\"unknown_words_1000_CODING\", 1, 1), unknowns_words_df[:1000])"
   ]
  },
  {
   "cell_type": "markdown",
   "metadata": {},
   "source": [
    "# Manually coded unknowns"
   ]
  },
  {
   "cell_type": "code",
   "execution_count": 19,
   "metadata": {},
   "outputs": [
    {
     "data": {
      "text/html": [
       "<div>\n",
       "<style scoped>\n",
       "    .dataframe tbody tr th:only-of-type {\n",
       "        vertical-align: middle;\n",
       "    }\n",
       "\n",
       "    .dataframe tbody tr th {\n",
       "        vertical-align: top;\n",
       "    }\n",
       "\n",
       "    .dataframe thead th {\n",
       "        text-align: right;\n",
       "    }\n",
       "</style>\n",
       "<table border=\"1\" class=\"dataframe\">\n",
       "  <thead>\n",
       "    <tr style=\"text-align: right;\">\n",
       "      <th></th>\n",
       "      <th>wordform</th>\n",
       "      <th>count</th>\n",
       "      <th>lemma</th>\n",
       "      <th>POStag</th>\n",
       "      <th>notes</th>\n",
       "    </tr>\n",
       "  </thead>\n",
       "  <tbody>\n",
       "    <tr>\n",
       "      <th>0</th>\n",
       "      <td>ἀλλ</td>\n",
       "      <td>11027</td>\n",
       "      <td>ἄλλος/ἀλλά</td>\n",
       "      <td>ADJ/CCONJ</td>\n",
       "      <td>NaN</td>\n",
       "    </tr>\n",
       "    <tr>\n",
       "      <th>1</th>\n",
       "      <td>ἄλλως</td>\n",
       "      <td>9603</td>\n",
       "      <td>ἄλλως</td>\n",
       "      <td>ADV</td>\n",
       "      <td>NaN</td>\n",
       "    </tr>\n",
       "    <tr>\n",
       "      <th>2</th>\n",
       "      <td>καλῶς</td>\n",
       "      <td>9514</td>\n",
       "      <td>καλῶς</td>\n",
       "      <td>ADV</td>\n",
       "      <td>NaN</td>\n",
       "    </tr>\n",
       "    <tr>\n",
       "      <th>3</th>\n",
       "      <td></td>\n",
       "      <td>7485</td>\n",
       "      <td>NaN</td>\n",
       "      <td>NaN</td>\n",
       "      <td>NaN</td>\n",
       "    </tr>\n",
       "    <tr>\n",
       "      <th>4</th>\n",
       "      <td>ἁπλῶς</td>\n",
       "      <td>7466</td>\n",
       "      <td>ἁπλῶς</td>\n",
       "      <td>ADV</td>\n",
       "      <td>NaN</td>\n",
       "    </tr>\n",
       "  </tbody>\n",
       "</table>\n",
       "</div>"
      ],
      "text/plain": [
       "  wordform  count       lemma     POStag notes\n",
       "0      ἀλλ  11027  ἄλλος/ἀλλά  ADJ/CCONJ   NaN\n",
       "1    ἄλλως   9603       ἄλλως        ADV   NaN\n",
       "2    καλῶς   9514       καλῶς        ADV   NaN\n",
       "3            7485         NaN        NaN   NaN\n",
       "4    ἁπλῶς   7466       ἁπλῶς        ADV   NaN"
      ]
     },
     "execution_count": 19,
     "metadata": {},
     "output_type": "execute_result"
    }
   ],
   "source": [
    "unknowns1000_coded = get_as_dataframe(CEMRAM_CODING.worksheet(\"unknown_words_1000_CODING\"))\n",
    "unknowns1000_coded.head()"
   ]
  },
  {
   "cell_type": "code",
   "execution_count": 21,
   "metadata": {},
   "outputs": [],
   "source": [
    "unknowns1000_coded_verbs = unknowns1000_coded[unknowns1000_coded[\"POStag\"]==\"VERB\"]"
   ]
  },
  {
   "cell_type": "code",
   "execution_count": 24,
   "metadata": {},
   "outputs": [
    {
     "data": {
      "text/plain": [
       "{'συμβεβηκὸς': 'συμβαίνω',\n",
       " 'κινούμενον': 'κινέω',\n",
       " 'ὑποκειμένου': 'ὑπόκειμαι',\n",
       " 'ὑποκειμένῳ': 'ὑπόκειμαι',\n",
       " 'συμβεβηκός': 'συμβαίνω',\n",
       " 'συμβεβηκότα': 'συμβαίνω',\n",
       " 'ἐνδεχόμενον': 'ἐνδέχομαι',\n",
       " 'κινούμενα': 'κινέω',\n",
       " 'ἀντικείμενον': 'ἀντίκειμαι',\n",
       " 'κατηγορούμενον': 'κατηγορέω',\n",
       " 'σημαινόμενον': 'σημαίνω',\n",
       " 'ἐπάνω': 'ἐπάνω',\n",
       " 'ἑπόμενον': 'ἕπομαι',\n",
       " 'ὑποκειμένων': 'ὑπόκειμαι',\n",
       " 'πεπερασμένον': 'περαίνω',\n",
       " 'κινουμένου': 'κινέω',\n",
       " 'περιεχόμενον': 'περιέχω',\n",
       " 'γεγονότων': 'γίγνομαι',\n",
       " 'κινουμένων': 'κινέω',\n",
       " 'ἀντικείμενα': 'ἀντίκειμαι',\n",
       " 'φαινόμενα': 'φαίνω',\n",
       " 'γιγνομένων': 'γίγνομαι',\n",
       " 'γιγνόμενα': 'γίγνομαι',\n",
       " 'συμβεβηκότος': 'συμβαίνω',\n",
       " 'ἐνδεχομένου': 'ἐνδέχομαι',\n",
       " 'δοθείς': 'δίδωμι',\n",
       " 'ὑπάρχουσαν': 'ὑπάρχω',\n",
       " 'δεόμενον': 'δέομαι',\n",
       " 'ὑποκείμενα': 'ὑπόκειμαι',\n",
       " 'ζητούμενον': 'ζήτω',\n",
       " 'προειρημένα': 'προερέω',\n",
       " 'χρώμενον': 'χράω',\n",
       " 'οἰόμενος': 'οἴομαι',\n",
       " 'πράττων': 'πράττω',\n",
       " 'δυναμένοις': 'δύναμαι',\n",
       " 'ποιοῦντος': 'ποιέω',\n",
       " 'δεόντως': 'δέομαι',\n",
       " 'σημαινόμενα': 'σημαίνω',\n",
       " 'δείξας': 'δείκνυμι',\n",
       " 'ὑπάρχουσα': 'ὑπάρχω',\n",
       " 'ποιοῦσα': 'ποιέω',\n",
       " 'εἱμαρμένην': 'μείρομαι',\n",
       " 'γεγονότος': 'γίγνομαι',\n",
       " 'δοθεῖσα': 'δίδωμι',\n",
       " 'προσήκοντα': 'προσήκω',\n",
       " 'κινοῦντος': 'κινέω',\n",
       " 'ἀφικόμενος': 'ἀφικνέομαι',\n",
       " 'ὁρώμενον': 'ὁράω',\n",
       " 'κινουμένῳ': 'κινέω',\n",
       " 'καλούμενοι': 'καλέω',\n",
       " 'γενικὴν': 'γενικός',\n",
       " 'δεῖξιν': 'δείκνυμι',\n",
       " 'καλούμενα': 'καλέω',\n",
       " 'παρόντας': 'πάρειμι',\n",
       " 'φερομένων': 'φέρω',\n",
       " 'δεῖξις': 'δείκνυμι',\n",
       " 'δεομένοις': 'δέομαι',\n",
       " 'ὁρίζοντος': 'ὁρίζω',\n",
       " 'κατηγορουμένου': 'κατηγορέω',\n",
       " 'δυναμένην': 'δύναμαι',\n",
       " 'μίξας': 'μείγνυμι',\n",
       " 'εἰρημένας': 'εἴρω',\n",
       " 'πεφυκὸς': 'φύω',\n",
       " 'εἰρηκὼς': 'εἴρω',\n",
       " 'κάμνοντος': 'κάμνω',\n",
       " 'εἰδότας': 'οἶδα',\n",
       " 'ἐχόμενον': 'ἔχω',\n",
       " 'ἐχουσῶν': 'ἔχω',\n",
       " 'ἐνδεχομένης': 'δέχομαι',\n",
       " 'καλουμένης': 'καλέω',\n",
       " 'αἰσθόμενος': 'αἰσθάνομαι',\n",
       " 'πάσχοντος': 'πάσχω',\n",
       " 'ὑποκειμένοις': 'ὑπόκειμαι',\n",
       " 'καταλαβὼν': 'καταλαμβάνω',\n",
       " 'ὁρώμενα': 'ὁράω',\n",
       " 'συνημμένον': 'συνάπτω',\n",
       " 'σημαινομένων': 'σημαίνω',\n",
       " 'συμβαίνοντα': 'συμβαίνω',\n",
       " 'ὑποκειμένης': 'ὑπόκειμαι',\n",
       " 'ὁμολογούμενον': 'ὁμολογέω',\n",
       " 'πεπερασμένα': 'περαίνω',\n",
       " 'δυναμένης': 'δύναμαι',\n",
       " 'ὑποτείνουσα': 'ὑποτείνω',\n",
       " 'ἀρχόμενον': 'ἄρχω',\n",
       " 'πεπραγμένα': 'πράττω',\n",
       " 'ιστ': 'οἶδα',\n",
       " 'ἐνδεχομένην': 'ἐνδέχομαι',\n",
       " 'γενομένῳ': 'γίγνομαι',\n",
       " 'ὁρωμένων': 'ὁράω',\n",
       " 'διωρισμένον': 'ὠρίζω',\n",
       " 'πεπερασμένῳ': 'περαίνω',\n",
       " 'μετέχοντα': 'μετέχω',\n",
       " 'ἀναλάμβανε': 'ἀναλαμβάνω',\n",
       " 'κάμνων': 'κάμνω',\n",
       " 'φερόμενα': 'φέρω',\n",
       " 'πράττοντες': 'πράττω',\n",
       " 'πάσχοντα': 'πάσχω',\n",
       " 'φήσαντος': 'φημί',\n",
       " 'μενούσης': 'μένω',\n",
       " 'ἡγουμένων': 'ἡγέομαι',\n",
       " 'συμφέροντος': 'συμφέρω',\n",
       " 'ἐνδεικνύμενος': 'ἐνδείκνυμι',\n",
       " 'κατηγορούμενα': 'κατηγορέω',\n",
       " 'εἱμαρμένης': 'μείρομαι',\n",
       " 'κινούμενος': 'κινέω',\n",
       " 'συναγόμενον': 'συνάγω',\n",
       " 'προειπὼν': 'προλέγω',\n",
       " 'ἐμπίπτει': 'ἐμπίπτω',\n",
       " 'πινόμενον': 'πίνω',\n",
       " 'κεχωρισμένον': 'χωρίζω',\n",
       " 'πραττομένων': 'πράττω',\n",
       " 'ἐνδεχομένη': 'ἐνδέχομαι',\n",
       " 'πρέποντα': 'πρέπω',\n",
       " 'προσήκοντος': 'προσήκω',\n",
       " 'φαινομένοις': 'φαίνω',\n",
       " 'προσκείμενον': 'πρόσκειμαι',\n",
       " 'δεδιότες': 'δείδω',\n",
       " 'ξηραίνειν': 'ξηραίνω',\n",
       " 'τυχόντα': 'τυγχάνω',\n",
       " 'νοούμενον': 'νοέω',\n",
       " 'τεταγμένον': 'τάττω',\n",
       " 'κινῶν': 'κινέω',\n",
       " 'κεκαυμένου': 'καίω',\n",
       " 'ἥκοντα': 'ἥκω',\n",
       " 'δεόμενα': 'δέομαι',\n",
       " 'ὑποθώμεθα': 'ὑποθέω/ὑποτίθημι',\n",
       " 'πεπονθὸς': 'πάσχω',\n",
       " 'δεομένους': 'δέομαι',\n",
       " 'ὑποκειμένην': 'ὑπόκειμαι',\n",
       " 'ὁρῶντας': 'ὁράω',\n",
       " 'προειρημένου': 'προερέω',\n",
       " 'τιθέμενος': 'τίθημι',\n",
       " 'ἐκπίπτει': 'ἐκπίπτω',\n",
       " 'δείξεως': 'δείξεως',\n",
       " 'ὑπαρχόντως': 'ὑπάρχω',\n",
       " 'εἰκότα': 'εἴκω',\n",
       " 'τυχόντος': 'τυγχάνω',\n",
       " 'καλουμένῳ': 'καλέω',\n",
       " 'δεχόμενον': 'δέχομαι',\n",
       " 'πεφυκότα': 'φύω',\n",
       " 'περιέχοντα': 'περιέχω',\n",
       " 'φερομένου': 'φέρω',\n",
       " 'ὡρισμένα': 'ὁρίζω',\n",
       " 'γιγνομένην': 'γίγνομαι',\n",
       " 'ἐπανελθὼν': 'ἐπανέρχομαι',\n",
       " 'λαμβάνοντα': 'λαμβάνω',\n",
       " 'προειρημένῳ': 'προερέω',\n",
       " 'πραττόμενα': 'πράττω',\n",
       " 'ποιουμένων': 'ποιέω',\n",
       " 'πολλαπλασιάσας': 'πολλαπλασιάζω',\n",
       " 'σημαινομένου': 'σημαίνω',\n",
       " 'εἰδότων': 'οἶδα',\n",
       " 'κεκτημένος': 'κτάομαι',\n",
       " 'τεταγμένων': 'τάττω',\n",
       " 'ὡρισμένου': 'ὁρίζω',\n",
       " 'μεταβάλλοντος': 'μεταβάλλω',\n",
       " 'πράττοντας': 'πράττω',\n",
       " 'λαβόμενος': 'λαμβάνω',\n",
       " 'πεπονθότων': 'πάσχω',\n",
       " 'δοθέντα': 'δίδωμι',\n",
       " 'συνυπάρχειν': 'ὑπάρχω',\n",
       " 'δοθέντι': 'δίδωμι',\n",
       " 'ληφθέντος': 'λαμβάνω',\n",
       " 'γιγνομένη': 'γίγνομαι',\n",
       " 'ὀνομαζομένων': 'ὀνομάζω',\n",
       " 'τρεφόμενον': 'τρέφω',\n",
       " 'κατάχριε': 'καταχράω',\n",
       " 'βαδίζων': 'βαδίζω\\t',\n",
       " 'ἐρωτηθεὶς': 'ἐρωτάω',\n",
       " 'ἐνδεχόμενα': 'ἐνδέχομαι',\n",
       " 'προλαβὼν': 'προλαμβάνω',\n",
       " 'συγκείμενα': 'σύγκειμαι',\n",
       " 'λειπόμενον': 'λείπω',\n",
       " 'κατηγορουμένων': 'κατηγορέω',\n",
       " 'μεταβάλλοντα': 'μεταβάλλω',\n",
       " 'ἀντικειμένου': 'ἀντίκειμαι',\n",
       " 'δεικνύμενον': 'δείκνυμι',\n",
       " 'κινουμένη': 'κινέω',\n",
       " 'χρωμένοις': 'χράω',\n",
       " 'κελεύοντος': 'κελεύω',\n",
       " 'προϊὼν': 'πρόειμι',\n",
       " 'ἀναιρεθέντος': 'ἀναιρέω',\n",
       " 'εἰρημένης': 'ἐρῶ',\n",
       " 'ἀδικοῦντας': 'ἀδικέω',\n",
       " 'ἐντυχὼν': 'ἐντυγχάνω',\n",
       " 'δοκοῦντος': 'δοκέω',\n",
       " 'ἐξηγούμενος': 'ἐξηγέομαι',\n",
       " 'ἑπομένου': 'ἕπομαι',\n",
       " 'μαχόμενον': 'μάχομαι',\n",
       " 'δηλούμενον': 'δηλόω',\n",
       " 'ζητουμένου': 'ζητέω',\n",
       " 'γιγνομένου': 'γίγνομαι',\n",
       " 'προσηκούσης': 'προσήκω',\n",
       " 'μιμούμενος': 'μιμέομαι',\n",
       " 'τεθέντος': 'τίθημι',\n",
       " 'φερομένη': 'φέρω',\n",
       " 'γράψαντος': 'γράφω',\n",
       " 'κινουμένοις': 'κινέω',\n",
       " 'ὁριζόμενος': 'ὁρίζω',\n",
       " 'διωρισμένων': 'ὁρίζω',\n",
       " 'λαμβανομένων': 'λαμβάνω',\n",
       " 'ὁρίζοντα': 'ὁρίζω',\n",
       " 'ὁρίζων': 'ὁρίζω',\n",
       " 'πρέπουσαν': 'πρέπω',\n",
       " 'σπουδάζων': 'σπουδάζω',\n",
       " 'πεπερασμένην': 'περαίνω',\n",
       " 'ἐμπεσὼν': 'ἐμπίτνω',\n",
       " 'λαμβανόμενα': 'λαμβάνω',\n",
       " 'ἀποκρινόμενος': 'ἀποκρίνω',\n",
       " 'παρακείμενον': 'παράκειμαι',\n",
       " 'ζητουμένων': 'ζητέω',\n",
       " 'ὁρωμένου': 'ὁράω',\n",
       " 'ἐσόμενα': 'εἰμί',\n",
       " 'καλουμένας': 'καλέω',\n",
       " 'οὕσης': 'εἰμί',\n",
       " 'τυγχάνοντα': 'τυγχάνω',\n",
       " 'ἀποβλέπων': 'ἀποβλέπω',\n",
       " 'φαινομένης': 'φαίνω',\n",
       " 'ἀρχομένης': 'ἄρχω',\n",
       " 'ὑποκείμενος': 'ὑπόκειμαι',\n",
       " 'ἐφαρμόζει': 'ἐφαρμόζω',\n",
       " 'δεομένου': 'δέομαι',\n",
       " 'ἐπαγόμενος': 'ἐπάγω',\n",
       " 'καταλαβόντες': 'καταλαμβάνω',\n",
       " 'ἐπῄει': 'ἔπειμι',\n",
       " 'γιγνομένοις': 'γίγνομαι',\n",
       " 'πεφυκότων': 'φύω',\n",
       " 'παρακείμενα': 'παράκειμαι',\n",
       " 'θεωρούμενον': 'θεωρέω',\n",
       " 'φυλάττων': 'φυλάττω',\n",
       " 'διαφέροντες': 'διαφέρω',\n",
       " 'ἐπιοῦσαν': 'ἔπειμι',\n",
       " 'ἀρχομένοις': 'ἄρχω',\n",
       " 'ἡττηθεὶς': 'ἡττάομαι',\n",
       " 'ἔσθ': 'εἰμί',\n",
       " 'ἐνεργοῦντα': 'ἐνεργέω',\n",
       " 'γεγενημένα': 'γίγνομαι',\n",
       " 'περιεχόμενα': 'περιέχω',\n",
       " 'παρακειμένων': 'παράκειμαι',\n",
       " 'διαιρούμενον': 'διαιρέω',\n",
       " 'θερμαινόντων': 'θερμαίνω',\n",
       " 'ἀφικόμενοι': 'ἀφικνέομαι',\n",
       " 'λεγόμεναι': 'λέγω',\n",
       " 'μένουσα': 'μένω',\n",
       " 'ποιουμένους': 'ποιέω',\n",
       " 'ἑπομένοις': 'ἕπομαι',\n",
       " 'προκειμένοις': 'πρόκειμαι',\n",
       " 'λειώσας': 'λειόω',\n",
       " 'γιγνόμενος': 'γίγνομαι',\n",
       " 'πράττοντα': 'πράττω',\n",
       " 'ὡρισμένων': 'ὠρίζω',\n",
       " 'συμπίπτει': 'συμπίπτω',\n",
       " 'φαινόμενος': 'φαίνομαι',\n",
       " 'προιὼν': 'πρόειμι',\n",
       " 'τελευτῶντες': 'τελευτάω',\n",
       " 'ἐνὸν': 'εἰμί',\n",
       " 'ποιούσης': 'ποιέω',\n",
       " 'πεπονθότα': 'πάσχω',\n",
       " 'προειρημένας': 'προερέω',\n",
       " 'φθειρομένων': 'φθείρω',\n",
       " 'ἄγουσα': 'ἄγω',\n",
       " 'κινουμένην': 'κινέω',\n",
       " 'ἁπτόμενα': 'ἅπτω',\n",
       " 'ἐργασάμενος': 'ἐργάζομαι',\n",
       " 'παρακείμενος': 'παράκειμαι',\n",
       " 'συναληθεύειν': 'συναληθεύω',\n",
       " 'ὁμολογοῦντες': 'ὁμολογέω',\n",
       " 'κινουμένης': 'κινέω',\n",
       " 'δεδειγμένον': 'δείκνυμι',\n",
       " 'ἐστινʼ': 'εἶμι',\n",
       " 'διακείμενον': 'διάκειμαι',\n",
       " 'εἰωθότων': 'ἔθω',\n",
       " 'παρακειμένου': 'παράκειμαι',\n",
       " 'αἰσθόμενοι': 'αἰσθάνομαι',\n",
       " 'ἀδικοῦντα': 'ἀδικέω',\n",
       " 'ἐρομένου': 'ἔρομαι',\n",
       " 'ἀποκρινόμενον': 'ἀποκρίνω',\n",
       " 'πινομένη': 'πίνω',\n",
       " 'ἀπολιπὼν': 'ἀπολιμπάνω',\n",
       " 'γεννηθέντα': 'γεννάω',\n",
       " 'διαιρῶν': 'διαίρω',\n",
       " 'ὑπολαμβάνων': 'ὑπολαμβάνω',\n",
       " 'εἰρημέναις': 'ἐρῶ',\n",
       " 'προσιόντος': 'πρόσειμι',\n",
       " 'ζῇν': 'ζάω',\n",
       " 'φανέντος': 'φαίνω',\n",
       " 'συμβάντα': 'συμβαίνω',\n",
       " 'πεπερασμένου': 'περαίνω',\n",
       " 'ἀντικειμένη': 'ἀντίκειμαι',\n",
       " 'δασύνεται': 'δασύνω',\n",
       " 'καλουμένοις': 'καλέω',\n",
       " 'προηγούμενα': 'προηγέομαι',\n",
       " 'τέμνων': 'τέμνω',\n",
       " 'ἐγγεγραμμένον': 'ἐγγράφω',\n",
       " 'οἰομένους': 'οἴομαι',\n",
       " 'ἁπτόμενος': 'ἅπτω',\n",
       " 'ὁριζόμενοι': 'ὁρίζω',\n",
       " 'σημαίνοντος': 'σημαίνω',\n",
       " 'ἀφελόμενος': 'ἀφαιρέω',\n",
       " 'κινοῦσα': 'κινέω',\n",
       " 'τιθεμένων': 'τίθημι',\n",
       " 'κατηγορουμένῳ': 'κατηγορέω',\n",
       " 'νοσοῦντας': 'νοσέω',\n",
       " 'χρησάμενον': 'χράω',\n",
       " 'λαμβάνοντος': 'λαμβάνω',\n",
       " 'ὑποκειμένη': 'ὑπόκειμαι',\n",
       " 'οἶδ': 'οἶδα',\n",
       " 'προειρημένης': 'προερέω',\n",
       " 'διακείμενος': 'διάκειμαι',\n",
       " 'δοθεὶς': 'δίδωμι',\n",
       " 'ἀλλοιούμενον': 'ἀλλοιόω',\n",
       " 'ἡγουμένῳ': 'ἡγέομαι',\n",
       " 'ἀντικειμένας': 'ἀντίκειμαι',\n",
       " 'δοθέντων': 'δίδωμι',\n",
       " 'δεομένῳ': 'δέομαι',\n",
       " 'συνισταμένων': 'συνίστημι',\n",
       " 'ἀφαιρεθέντος': 'ἀφαιρέω',\n",
       " 'ἀντικειμένην': 'ἀντίκειμαι',\n",
       " 'κατάπλασσε': 'καταπλήττω',\n",
       " 'κατασχὼν': 'κατέχω',\n",
       " 'ποιοῦσαν': 'ποιέω',\n",
       " 'φέροντος': 'φέρω',\n",
       " 'προειρημένος': 'προερέω',\n",
       " 'ὁμολογουμένων': 'ὁμολογέω',\n",
       " 'κεκτημένον': 'κτάομαι',\n",
       " 'εἰσάγων': 'εἰσάγω',\n",
       " 'βουλομένη': 'βούλομαι',\n",
       " 'ἀντιοχέων': 'ἀντοχέομαι',\n",
       " 'γεγενημένους': 'γίγνομαι',\n",
       " 'κατιδὼν': 'ὁράω',\n",
       " 'φάσκοντος': 'φάσκω',\n",
       " 'θεν': 'τίθημι',\n",
       " 'παραλήγουσαν': 'λήγω',\n",
       " 'προκειμένη': 'πρόκειμαι',\n",
       " 'πολεμοῦντες': 'πολεμέω',\n",
       " 'προσθέντες': 'προστίθημι',\n",
       " 'ἀναφέρων': 'ἀναφέρω',\n",
       " 'συνελόντι': 'συναιρέω',\n",
       " 'ἀναλογεῖ': 'ἀναλογέω',\n",
       " 'πάσχοντας': 'πάσχω',\n",
       " 'ἀποδεδομένον': 'ἀποδίδωμι',\n",
       " 'αἰσθανόμενον': 'αἰσθάνομαι',\n",
       " 'γιγνομένας': 'γίγνομαι',\n",
       " 'ξηραινόντων': 'ξηραίνω',\n",
       " 'ἀντιστραφείσης': 'ἀντιστρέφω',\n",
       " 'μεταβαλὼν': 'μεταβάλλω',\n",
       " 'συντεθέντα': 'συντίθημι',\n",
       " 'συλλογιζόμενος': 'συλλογίζομαι',\n",
       " 'προστιθέμενον': 'προστίθημι'}"
      ]
     },
     "execution_count": 24,
     "metadata": {},
     "output_type": "execute_result"
    }
   ],
   "source": [
    "unkwnown_verbs_coded_dict = dict(zip(unknowns1000_coded_verbs[\"wordform\"], unknowns1000_coded_verbs[\"lemma\"]))\n",
    "unkwnown_verbs_coded_dict"
   ]
  },
  {
   "cell_type": "code",
   "execution_count": 33,
   "metadata": {},
   "outputs": [
    {
     "data": {
      "text/plain": [
       "349"
      ]
     },
     "execution_count": 33,
     "metadata": {},
     "output_type": "execute_result"
    }
   ],
   "source": [
    "len(unkwnown_verbs_coded_dict)"
   ]
  },
  {
   "cell_type": "code",
   "execution_count": 25,
   "metadata": {},
   "outputs": [
    {
     "name": "stdout",
     "output_type": "stream",
     "text": [
      "Your <class 'dict'> object has been succefully written as \"https://sciencedata.dk/files/SDAM_root/SDAM_data/AGT/unkwnown_verbs_coded_dict.json\"\n"
     ]
    }
   ],
   "source": [
    "sddk.write_file(\"SDAM_data/AGT/unkwnown_verbs_coded_dict.json\", unkwnown_verbs_coded_dict, conf)"
   ]
  },
  {
   "cell_type": "code",
   "execution_count": 31,
   "metadata": {},
   "outputs": [],
   "source": [
    "# check to read it back using public link assigned to it\n",
    "resp = requests.get(\"https://sciencedata.dk//shared/07305dd65292c2f991d0552d438cd8f0?download\")"
   ]
  },
  {
   "cell_type": "code",
   "execution_count": 32,
   "metadata": {},
   "outputs": [
    {
     "data": {
      "text/plain": [
       "{'συμβεβηκὸς': 'συμβαίνω',\n",
       " 'κινούμενον': 'κινέω',\n",
       " 'ὑποκειμένου': 'ὑπόκειμαι',\n",
       " 'ὑποκειμένῳ': 'ὑπόκειμαι',\n",
       " 'συμβεβηκός': 'συμβαίνω',\n",
       " 'συμβεβηκότα': 'συμβαίνω',\n",
       " 'ἐνδεχόμενον': 'ἐνδέχομαι',\n",
       " 'κινούμενα': 'κινέω',\n",
       " 'ἀντικείμενον': 'ἀντίκειμαι',\n",
       " 'κατηγορούμενον': 'κατηγορέω',\n",
       " 'σημαινόμενον': 'σημαίνω',\n",
       " 'ἐπάνω': 'ἐπάνω',\n",
       " 'ἑπόμενον': 'ἕπομαι',\n",
       " 'ὑποκειμένων': 'ὑπόκειμαι',\n",
       " 'πεπερασμένον': 'περαίνω',\n",
       " 'κινουμένου': 'κινέω',\n",
       " 'περιεχόμενον': 'περιέχω',\n",
       " 'γεγονότων': 'γίγνομαι',\n",
       " 'κινουμένων': 'κινέω',\n",
       " 'ἀντικείμενα': 'ἀντίκειμαι',\n",
       " 'φαινόμενα': 'φαίνω',\n",
       " 'γιγνομένων': 'γίγνομαι',\n",
       " 'γιγνόμενα': 'γίγνομαι',\n",
       " 'συμβεβηκότος': 'συμβαίνω',\n",
       " 'ἐνδεχομένου': 'ἐνδέχομαι',\n",
       " 'δοθείς': 'δίδωμι',\n",
       " 'ὑπάρχουσαν': 'ὑπάρχω',\n",
       " 'δεόμενον': 'δέομαι',\n",
       " 'ὑποκείμενα': 'ὑπόκειμαι',\n",
       " 'ζητούμενον': 'ζήτω',\n",
       " 'προειρημένα': 'προερέω',\n",
       " 'χρώμενον': 'χράω',\n",
       " 'οἰόμενος': 'οἴομαι',\n",
       " 'πράττων': 'πράττω',\n",
       " 'δυναμένοις': 'δύναμαι',\n",
       " 'ποιοῦντος': 'ποιέω',\n",
       " 'δεόντως': 'δέομαι',\n",
       " 'σημαινόμενα': 'σημαίνω',\n",
       " 'δείξας': 'δείκνυμι',\n",
       " 'ὑπάρχουσα': 'ὑπάρχω',\n",
       " 'ποιοῦσα': 'ποιέω',\n",
       " 'εἱμαρμένην': 'μείρομαι',\n",
       " 'γεγονότος': 'γίγνομαι',\n",
       " 'δοθεῖσα': 'δίδωμι',\n",
       " 'προσήκοντα': 'προσήκω',\n",
       " 'κινοῦντος': 'κινέω',\n",
       " 'ἀφικόμενος': 'ἀφικνέομαι',\n",
       " 'ὁρώμενον': 'ὁράω',\n",
       " 'κινουμένῳ': 'κινέω',\n",
       " 'καλούμενοι': 'καλέω',\n",
       " 'γενικὴν': 'γενικός',\n",
       " 'δεῖξιν': 'δείκνυμι',\n",
       " 'καλούμενα': 'καλέω',\n",
       " 'παρόντας': 'πάρειμι',\n",
       " 'φερομένων': 'φέρω',\n",
       " 'δεῖξις': 'δείκνυμι',\n",
       " 'δεομένοις': 'δέομαι',\n",
       " 'ὁρίζοντος': 'ὁρίζω',\n",
       " 'κατηγορουμένου': 'κατηγορέω',\n",
       " 'δυναμένην': 'δύναμαι',\n",
       " 'μίξας': 'μείγνυμι',\n",
       " 'εἰρημένας': 'εἴρω',\n",
       " 'πεφυκὸς': 'φύω',\n",
       " 'εἰρηκὼς': 'εἴρω',\n",
       " 'κάμνοντος': 'κάμνω',\n",
       " 'εἰδότας': 'οἶδα',\n",
       " 'ἐχόμενον': 'ἔχω',\n",
       " 'ἐχουσῶν': 'ἔχω',\n",
       " 'ἐνδεχομένης': 'δέχομαι',\n",
       " 'καλουμένης': 'καλέω',\n",
       " 'αἰσθόμενος': 'αἰσθάνομαι',\n",
       " 'πάσχοντος': 'πάσχω',\n",
       " 'ὑποκειμένοις': 'ὑπόκειμαι',\n",
       " 'καταλαβὼν': 'καταλαμβάνω',\n",
       " 'ὁρώμενα': 'ὁράω',\n",
       " 'συνημμένον': 'συνάπτω',\n",
       " 'σημαινομένων': 'σημαίνω',\n",
       " 'συμβαίνοντα': 'συμβαίνω',\n",
       " 'ὑποκειμένης': 'ὑπόκειμαι',\n",
       " 'ὁμολογούμενον': 'ὁμολογέω',\n",
       " 'πεπερασμένα': 'περαίνω',\n",
       " 'δυναμένης': 'δύναμαι',\n",
       " 'ὑποτείνουσα': 'ὑποτείνω',\n",
       " 'ἀρχόμενον': 'ἄρχω',\n",
       " 'πεπραγμένα': 'πράττω',\n",
       " 'ιστ': 'οἶδα',\n",
       " 'ἐνδεχομένην': 'ἐνδέχομαι',\n",
       " 'γενομένῳ': 'γίγνομαι',\n",
       " 'ὁρωμένων': 'ὁράω',\n",
       " 'διωρισμένον': 'ὠρίζω',\n",
       " 'πεπερασμένῳ': 'περαίνω',\n",
       " 'μετέχοντα': 'μετέχω',\n",
       " 'ἀναλάμβανε': 'ἀναλαμβάνω',\n",
       " 'κάμνων': 'κάμνω',\n",
       " 'φερόμενα': 'φέρω',\n",
       " 'πράττοντες': 'πράττω',\n",
       " 'πάσχοντα': 'πάσχω',\n",
       " 'φήσαντος': 'φημί',\n",
       " 'μενούσης': 'μένω',\n",
       " 'ἡγουμένων': 'ἡγέομαι',\n",
       " 'συμφέροντος': 'συμφέρω',\n",
       " 'ἐνδεικνύμενος': 'ἐνδείκνυμι',\n",
       " 'κατηγορούμενα': 'κατηγορέω',\n",
       " 'εἱμαρμένης': 'μείρομαι',\n",
       " 'κινούμενος': 'κινέω',\n",
       " 'συναγόμενον': 'συνάγω',\n",
       " 'προειπὼν': 'προλέγω',\n",
       " 'ἐμπίπτει': 'ἐμπίπτω',\n",
       " 'πινόμενον': 'πίνω',\n",
       " 'κεχωρισμένον': 'χωρίζω',\n",
       " 'πραττομένων': 'πράττω',\n",
       " 'ἐνδεχομένη': 'ἐνδέχομαι',\n",
       " 'πρέποντα': 'πρέπω',\n",
       " 'προσήκοντος': 'προσήκω',\n",
       " 'φαινομένοις': 'φαίνω',\n",
       " 'προσκείμενον': 'πρόσκειμαι',\n",
       " 'δεδιότες': 'δείδω',\n",
       " 'ξηραίνειν': 'ξηραίνω',\n",
       " 'τυχόντα': 'τυγχάνω',\n",
       " 'νοούμενον': 'νοέω',\n",
       " 'τεταγμένον': 'τάττω',\n",
       " 'κινῶν': 'κινέω',\n",
       " 'κεκαυμένου': 'καίω',\n",
       " 'ἥκοντα': 'ἥκω',\n",
       " 'δεόμενα': 'δέομαι',\n",
       " 'ὑποθώμεθα': 'ὑποθέω/ὑποτίθημι',\n",
       " 'πεπονθὸς': 'πάσχω',\n",
       " 'δεομένους': 'δέομαι',\n",
       " 'ὑποκειμένην': 'ὑπόκειμαι',\n",
       " 'ὁρῶντας': 'ὁράω',\n",
       " 'προειρημένου': 'προερέω',\n",
       " 'τιθέμενος': 'τίθημι',\n",
       " 'ἐκπίπτει': 'ἐκπίπτω',\n",
       " 'δείξεως': 'δείξεως',\n",
       " 'ὑπαρχόντως': 'ὑπάρχω',\n",
       " 'εἰκότα': 'εἴκω',\n",
       " 'τυχόντος': 'τυγχάνω',\n",
       " 'καλουμένῳ': 'καλέω',\n",
       " 'δεχόμενον': 'δέχομαι',\n",
       " 'πεφυκότα': 'φύω',\n",
       " 'περιέχοντα': 'περιέχω',\n",
       " 'φερομένου': 'φέρω',\n",
       " 'ὡρισμένα': 'ὁρίζω',\n",
       " 'γιγνομένην': 'γίγνομαι',\n",
       " 'ἐπανελθὼν': 'ἐπανέρχομαι',\n",
       " 'λαμβάνοντα': 'λαμβάνω',\n",
       " 'προειρημένῳ': 'προερέω',\n",
       " 'πραττόμενα': 'πράττω',\n",
       " 'ποιουμένων': 'ποιέω',\n",
       " 'πολλαπλασιάσας': 'πολλαπλασιάζω',\n",
       " 'σημαινομένου': 'σημαίνω',\n",
       " 'εἰδότων': 'οἶδα',\n",
       " 'κεκτημένος': 'κτάομαι',\n",
       " 'τεταγμένων': 'τάττω',\n",
       " 'ὡρισμένου': 'ὁρίζω',\n",
       " 'μεταβάλλοντος': 'μεταβάλλω',\n",
       " 'πράττοντας': 'πράττω',\n",
       " 'λαβόμενος': 'λαμβάνω',\n",
       " 'πεπονθότων': 'πάσχω',\n",
       " 'δοθέντα': 'δίδωμι',\n",
       " 'συνυπάρχειν': 'ὑπάρχω',\n",
       " 'δοθέντι': 'δίδωμι',\n",
       " 'ληφθέντος': 'λαμβάνω',\n",
       " 'γιγνομένη': 'γίγνομαι',\n",
       " 'ὀνομαζομένων': 'ὀνομάζω',\n",
       " 'τρεφόμενον': 'τρέφω',\n",
       " 'κατάχριε': 'καταχράω',\n",
       " 'βαδίζων': 'βαδίζω\\t',\n",
       " 'ἐρωτηθεὶς': 'ἐρωτάω',\n",
       " 'ἐνδεχόμενα': 'ἐνδέχομαι',\n",
       " 'προλαβὼν': 'προλαμβάνω',\n",
       " 'συγκείμενα': 'σύγκειμαι',\n",
       " 'λειπόμενον': 'λείπω',\n",
       " 'κατηγορουμένων': 'κατηγορέω',\n",
       " 'μεταβάλλοντα': 'μεταβάλλω',\n",
       " 'ἀντικειμένου': 'ἀντίκειμαι',\n",
       " 'δεικνύμενον': 'δείκνυμι',\n",
       " 'κινουμένη': 'κινέω',\n",
       " 'χρωμένοις': 'χράω',\n",
       " 'κελεύοντος': 'κελεύω',\n",
       " 'προϊὼν': 'πρόειμι',\n",
       " 'ἀναιρεθέντος': 'ἀναιρέω',\n",
       " 'εἰρημένης': 'ἐρῶ',\n",
       " 'ἀδικοῦντας': 'ἀδικέω',\n",
       " 'ἐντυχὼν': 'ἐντυγχάνω',\n",
       " 'δοκοῦντος': 'δοκέω',\n",
       " 'ἐξηγούμενος': 'ἐξηγέομαι',\n",
       " 'ἑπομένου': 'ἕπομαι',\n",
       " 'μαχόμενον': 'μάχομαι',\n",
       " 'δηλούμενον': 'δηλόω',\n",
       " 'ζητουμένου': 'ζητέω',\n",
       " 'γιγνομένου': 'γίγνομαι',\n",
       " 'προσηκούσης': 'προσήκω',\n",
       " 'μιμούμενος': 'μιμέομαι',\n",
       " 'τεθέντος': 'τίθημι',\n",
       " 'φερομένη': 'φέρω',\n",
       " 'γράψαντος': 'γράφω',\n",
       " 'κινουμένοις': 'κινέω',\n",
       " 'ὁριζόμενος': 'ὁρίζω',\n",
       " 'διωρισμένων': 'ὁρίζω',\n",
       " 'λαμβανομένων': 'λαμβάνω',\n",
       " 'ὁρίζοντα': 'ὁρίζω',\n",
       " 'ὁρίζων': 'ὁρίζω',\n",
       " 'πρέπουσαν': 'πρέπω',\n",
       " 'σπουδάζων': 'σπουδάζω',\n",
       " 'πεπερασμένην': 'περαίνω',\n",
       " 'ἐμπεσὼν': 'ἐμπίτνω',\n",
       " 'λαμβανόμενα': 'λαμβάνω',\n",
       " 'ἀποκρινόμενος': 'ἀποκρίνω',\n",
       " 'παρακείμενον': 'παράκειμαι',\n",
       " 'ζητουμένων': 'ζητέω',\n",
       " 'ὁρωμένου': 'ὁράω',\n",
       " 'ἐσόμενα': 'εἰμί',\n",
       " 'καλουμένας': 'καλέω',\n",
       " 'οὕσης': 'εἰμί',\n",
       " 'τυγχάνοντα': 'τυγχάνω',\n",
       " 'ἀποβλέπων': 'ἀποβλέπω',\n",
       " 'φαινομένης': 'φαίνω',\n",
       " 'ἀρχομένης': 'ἄρχω',\n",
       " 'ὑποκείμενος': 'ὑπόκειμαι',\n",
       " 'ἐφαρμόζει': 'ἐφαρμόζω',\n",
       " 'δεομένου': 'δέομαι',\n",
       " 'ἐπαγόμενος': 'ἐπάγω',\n",
       " 'καταλαβόντες': 'καταλαμβάνω',\n",
       " 'ἐπῄει': 'ἔπειμι',\n",
       " 'γιγνομένοις': 'γίγνομαι',\n",
       " 'πεφυκότων': 'φύω',\n",
       " 'παρακείμενα': 'παράκειμαι',\n",
       " 'θεωρούμενον': 'θεωρέω',\n",
       " 'φυλάττων': 'φυλάττω',\n",
       " 'διαφέροντες': 'διαφέρω',\n",
       " 'ἐπιοῦσαν': 'ἔπειμι',\n",
       " 'ἀρχομένοις': 'ἄρχω',\n",
       " 'ἡττηθεὶς': 'ἡττάομαι',\n",
       " 'ἔσθ': 'εἰμί',\n",
       " 'ἐνεργοῦντα': 'ἐνεργέω',\n",
       " 'γεγενημένα': 'γίγνομαι',\n",
       " 'περιεχόμενα': 'περιέχω',\n",
       " 'παρακειμένων': 'παράκειμαι',\n",
       " 'διαιρούμενον': 'διαιρέω',\n",
       " 'θερμαινόντων': 'θερμαίνω',\n",
       " 'ἀφικόμενοι': 'ἀφικνέομαι',\n",
       " 'λεγόμεναι': 'λέγω',\n",
       " 'μένουσα': 'μένω',\n",
       " 'ποιουμένους': 'ποιέω',\n",
       " 'ἑπομένοις': 'ἕπομαι',\n",
       " 'προκειμένοις': 'πρόκειμαι',\n",
       " 'λειώσας': 'λειόω',\n",
       " 'γιγνόμενος': 'γίγνομαι',\n",
       " 'πράττοντα': 'πράττω',\n",
       " 'ὡρισμένων': 'ὠρίζω',\n",
       " 'συμπίπτει': 'συμπίπτω',\n",
       " 'φαινόμενος': 'φαίνομαι',\n",
       " 'προιὼν': 'πρόειμι',\n",
       " 'τελευτῶντες': 'τελευτάω',\n",
       " 'ἐνὸν': 'εἰμί',\n",
       " 'ποιούσης': 'ποιέω',\n",
       " 'πεπονθότα': 'πάσχω',\n",
       " 'προειρημένας': 'προερέω',\n",
       " 'φθειρομένων': 'φθείρω',\n",
       " 'ἄγουσα': 'ἄγω',\n",
       " 'κινουμένην': 'κινέω',\n",
       " 'ἁπτόμενα': 'ἅπτω',\n",
       " 'ἐργασάμενος': 'ἐργάζομαι',\n",
       " 'παρακείμενος': 'παράκειμαι',\n",
       " 'συναληθεύειν': 'συναληθεύω',\n",
       " 'ὁμολογοῦντες': 'ὁμολογέω',\n",
       " 'κινουμένης': 'κινέω',\n",
       " 'δεδειγμένον': 'δείκνυμι',\n",
       " 'ἐστινʼ': 'εἶμι',\n",
       " 'διακείμενον': 'διάκειμαι',\n",
       " 'εἰωθότων': 'ἔθω',\n",
       " 'παρακειμένου': 'παράκειμαι',\n",
       " 'αἰσθόμενοι': 'αἰσθάνομαι',\n",
       " 'ἀδικοῦντα': 'ἀδικέω',\n",
       " 'ἐρομένου': 'ἔρομαι',\n",
       " 'ἀποκρινόμενον': 'ἀποκρίνω',\n",
       " 'πινομένη': 'πίνω',\n",
       " 'ἀπολιπὼν': 'ἀπολιμπάνω',\n",
       " 'γεννηθέντα': 'γεννάω',\n",
       " 'διαιρῶν': 'διαίρω',\n",
       " 'ὑπολαμβάνων': 'ὑπολαμβάνω',\n",
       " 'εἰρημέναις': 'ἐρῶ',\n",
       " 'προσιόντος': 'πρόσειμι',\n",
       " 'ζῇν': 'ζάω',\n",
       " 'φανέντος': 'φαίνω',\n",
       " 'συμβάντα': 'συμβαίνω',\n",
       " 'πεπερασμένου': 'περαίνω',\n",
       " 'ἀντικειμένη': 'ἀντίκειμαι',\n",
       " 'δασύνεται': 'δασύνω',\n",
       " 'καλουμένοις': 'καλέω',\n",
       " 'προηγούμενα': 'προηγέομαι',\n",
       " 'τέμνων': 'τέμνω',\n",
       " 'ἐγγεγραμμένον': 'ἐγγράφω',\n",
       " 'οἰομένους': 'οἴομαι',\n",
       " 'ἁπτόμενος': 'ἅπτω',\n",
       " 'ὁριζόμενοι': 'ὁρίζω',\n",
       " 'σημαίνοντος': 'σημαίνω',\n",
       " 'ἀφελόμενος': 'ἀφαιρέω',\n",
       " 'κινοῦσα': 'κινέω',\n",
       " 'τιθεμένων': 'τίθημι',\n",
       " 'κατηγορουμένῳ': 'κατηγορέω',\n",
       " 'νοσοῦντας': 'νοσέω',\n",
       " 'χρησάμενον': 'χράω',\n",
       " 'λαμβάνοντος': 'λαμβάνω',\n",
       " 'ὑποκειμένη': 'ὑπόκειμαι',\n",
       " 'οἶδ': 'οἶδα',\n",
       " 'προειρημένης': 'προερέω',\n",
       " 'διακείμενος': 'διάκειμαι',\n",
       " 'δοθεὶς': 'δίδωμι',\n",
       " 'ἀλλοιούμενον': 'ἀλλοιόω',\n",
       " 'ἡγουμένῳ': 'ἡγέομαι',\n",
       " 'ἀντικειμένας': 'ἀντίκειμαι',\n",
       " 'δοθέντων': 'δίδωμι',\n",
       " 'δεομένῳ': 'δέομαι',\n",
       " 'συνισταμένων': 'συνίστημι',\n",
       " 'ἀφαιρεθέντος': 'ἀφαιρέω',\n",
       " 'ἀντικειμένην': 'ἀντίκειμαι',\n",
       " 'κατάπλασσε': 'καταπλήττω',\n",
       " 'κατασχὼν': 'κατέχω',\n",
       " 'ποιοῦσαν': 'ποιέω',\n",
       " 'φέροντος': 'φέρω',\n",
       " 'προειρημένος': 'προερέω',\n",
       " 'ὁμολογουμένων': 'ὁμολογέω',\n",
       " 'κεκτημένον': 'κτάομαι',\n",
       " 'εἰσάγων': 'εἰσάγω',\n",
       " 'βουλομένη': 'βούλομαι',\n",
       " 'ἀντιοχέων': 'ἀντοχέομαι',\n",
       " 'γεγενημένους': 'γίγνομαι',\n",
       " 'κατιδὼν': 'ὁράω',\n",
       " 'φάσκοντος': 'φάσκω',\n",
       " 'θεν': 'τίθημι',\n",
       " 'παραλήγουσαν': 'λήγω',\n",
       " 'προκειμένη': 'πρόκειμαι',\n",
       " 'πολεμοῦντες': 'πολεμέω',\n",
       " 'προσθέντες': 'προστίθημι',\n",
       " 'ἀναφέρων': 'ἀναφέρω',\n",
       " 'συνελόντι': 'συναιρέω',\n",
       " 'ἀναλογεῖ': 'ἀναλογέω',\n",
       " 'πάσχοντας': 'πάσχω',\n",
       " 'ἀποδεδομένον': 'ἀποδίδωμι',\n",
       " 'αἰσθανόμενον': 'αἰσθάνομαι',\n",
       " 'γιγνομένας': 'γίγνομαι',\n",
       " 'ξηραινόντων': 'ξηραίνω',\n",
       " 'ἀντιστραφείσης': 'ἀντιστρέφω',\n",
       " 'μεταβαλὼν': 'μεταβάλλω',\n",
       " 'συντεθέντα': 'συντίθημι',\n",
       " 'συλλογιζόμενος': 'συλλογίζομαι',\n",
       " 'προστιθέμενον': 'προστίθημι'}"
      ]
     },
     "execution_count": 32,
     "metadata": {},
     "output_type": "execute_result"
    }
   ],
   "source": [
    "resp.json()"
   ]
  },
  {
   "cell_type": "code",
   "execution_count": null,
   "metadata": {},
   "outputs": [],
   "source": []
  }
 ],
 "metadata": {
  "colab": {
   "authorship_tag": "ABX9TyM+taOvEihjuZ2k0d8Zjz/M",
   "collapsed_sections": [],
   "name": "2_METADATA&LEMMATIZATION&OVERVIEW.ipynb",
   "provenance": [],
   "toc_visible": true
  },
  "kernelspec": {
   "display_name": "Python 3",
   "language": "python",
   "name": "python3"
  },
  "language_info": {
   "codemirror_mode": {
    "name": "ipython",
    "version": 3
   },
   "file_extension": ".py",
   "mimetype": "text/x-python",
   "name": "python",
   "nbconvert_exporter": "python",
   "pygments_lexer": "ipython3",
   "version": "3.6.9"
  }
 },
 "nbformat": 4,
 "nbformat_minor": 4
}
