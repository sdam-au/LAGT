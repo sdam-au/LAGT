{
 "cells": [
  {
   "cell_type": "markdown",
   "metadata": {
    "colab_type": "text",
    "id": "EbixMMZchOgn"
   },
   "source": [
    "# Requirements"
   ]
  },
  {
   "cell_type": "code",
   "execution_count": 1,
   "metadata": {
    "colab": {
     "base_uri": "https://localhost:8080/",
     "height": 272
    },
    "colab_type": "code",
    "executionInfo": {
     "elapsed": 9878,
     "status": "ok",
     "timestamp": 1588779837403,
     "user": {
      "displayName": "Vojtěch Kaše",
      "photoUrl": "https://lh3.googleusercontent.com/a-/AOh14Ggz3jS9e7I3GdIEbyBKFtqr9tPdNCwyLBEJwbK8cw=s64",
      "userId": "01399835024022498543"
     },
     "user_tz": -120
    },
    "id": "QWRXmeoNhLsD",
    "outputId": "ae5620d8-2479-4587-c6ed-cdf64706b2a3"
   },
   "outputs": [],
   "source": [
    "import os\n",
    "import json\n",
    "import pandas as pd\n",
    "import numpy as np\n",
    "import json\n",
    "import pickle\n",
    "import random\n",
    "import unicodedata\n",
    "import requests\n",
    "import re\n",
    "\n",
    "### plotting\n",
    "import matplotlib as mpl\n",
    "import matplotlib.pyplot as plt\n",
    "import seaborn as sns\n",
    "\n",
    "#from scipy import stats\n",
    "\n",
    "import spacy\n",
    "from spacy.tokens import DocBin\n",
    "\n",
    "\n",
    "\n",
    "import gspread\n",
    "from gspread_dataframe import get_as_dataframe, set_with_dataframe\n",
    "from google.oauth2 import service_account # based on google-auth library\n",
    "import sddk"
   ]
  },
  {
   "cell_type": "code",
   "execution_count": 2,
   "metadata": {
    "colab": {
     "base_uri": "https://localhost:8080/",
     "height": 85
    },
    "colab_type": "code",
    "executionInfo": {
     "elapsed": 11242,
     "status": "ok",
     "timestamp": 1588774498489,
     "user": {
      "displayName": "Vojtěch Kaše",
      "photoUrl": "https://lh3.googleusercontent.com/a-/AOh14Ggz3jS9e7I3GdIEbyBKFtqr9tPdNCwyLBEJwbK8cw=s64",
      "userId": "01399835024022498543"
     },
     "user_tz": -120
    },
    "id": "cmC88KhGh7n2",
    "outputId": "4356c03e-47e1-4a6b-dc69-cf21efc97e0f"
   },
   "outputs": [
    {
     "name": "stdout",
     "output_type": "stream",
     "text": [
      "sciencedata.dk username (format '123456@au.dk'): 648597@au.dk\n",
      "sciencedata.dk password: ········\n",
      "connection with shared folder established with you as its owner\n",
      "endpoint variable has been configured to: https://sciencedata.dk/files/SDAM_root/\n"
     ]
    }
   ],
   "source": [
    "conf = sddk.configure(\"SDAM_root\", \"648597@au.dk\")"
   ]
  },
  {
   "cell_type": "code",
   "execution_count": 3,
   "metadata": {
    "colab": {},
    "colab_type": "code",
    "id": "_wKUMZ-yjvEn"
   },
   "outputs": [],
   "source": [
    "# to access gsheet, you need Google Service Account key json file\n",
    "# I have mine located in my personal space on sciencedata.dk, so I read it from there:\n",
    "\n",
    "# (1) read the file and parse its content\n",
    "file_data = conf[0].get(\"https://sciencedata.dk/files/ServiceAccountsKey.json\").json()\n",
    "# (2) transform the content into crendentials object\n",
    "credentials = service_account.Credentials.from_service_account_info(file_data)\n",
    "# (3) specify your usage of the credentials\n",
    "scoped_credentials = credentials.with_scopes(['https://spreadsheets.google.com/feeds', 'https://www.googleapis.com/auth/drive'])\n",
    "# (4) use the constrained credentials for authentication of gspread package\n",
    "gc = gspread.Client(auth=scoped_credentials)\n",
    "\n",
    "AGT_overview = gc.open_by_url(\"https://docs.google.com/spreadsheets/d/1iVta_FuEDgUM_Lf_yByrdbbXNoVH_dnVZs6QRyYv1NM/edit?usp=sharing\")\n",
    "\n",
    "CEMRAM_OVERVIEW = gc.open_by_url(\"https://docs.google.com/spreadsheets/d/1W5lBT2vxPXJZP06dRacNgEaM9wF9UlFnxiPq28vJJTg/edit?usp=sharing\")\n",
    "\n",
    "# AGT_metadata = gc.open_by_url(\"https://docs.google.com/spreadsheets/d/1hEUnL3E07F-EnE3wYnk1V91aXfPDrcnhFHKjD-04CM0/edit?usp=sharing\")"
   ]
  },
  {
   "cell_type": "code",
   "execution_count": 4,
   "metadata": {},
   "outputs": [],
   "source": [
    "AGT = sddk.read_file(\"SDAM_data/AGT/AGT_lemmatized_20201119.json\", \"df\", conf)"
   ]
  },
  {
   "cell_type": "code",
   "execution_count": 5,
   "metadata": {},
   "outputs": [
    {
     "data": {
      "text/html": [
       "<div>\n",
       "<style scoped>\n",
       "    .dataframe tbody tr th:only-of-type {\n",
       "        vertical-align: middle;\n",
       "    }\n",
       "\n",
       "    .dataframe tbody tr th {\n",
       "        vertical-align: top;\n",
       "    }\n",
       "\n",
       "    .dataframe thead th {\n",
       "        text-align: right;\n",
       "    }\n",
       "</style>\n",
       "<table border=\"1\" class=\"dataframe\">\n",
       "  <thead>\n",
       "    <tr style=\"text-align: right;\">\n",
       "      <th></th>\n",
       "      <th>filename</th>\n",
       "      <th>author</th>\n",
       "      <th>title</th>\n",
       "      <th>wordcount</th>\n",
       "      <th>author_id</th>\n",
       "      <th>doc_id</th>\n",
       "      <th>raw_date</th>\n",
       "      <th>date_avr</th>\n",
       "      <th>date_probs</th>\n",
       "      <th>date_manual</th>\n",
       "      <th>provenience</th>\n",
       "      <th>n_sentences</th>\n",
       "      <th>lemmatized_sentences</th>\n",
       "    </tr>\n",
       "  </thead>\n",
       "  <tbody>\n",
       "    <tr>\n",
       "      <th>0</th>\n",
       "      <td>tlg0001.tlg001.perseus-grc2.xml</td>\n",
       "      <td>Apollonius Rhodius</td>\n",
       "      <td>Argonautica</td>\n",
       "      <td>38822</td>\n",
       "      <td>tlg0001</td>\n",
       "      <td>tlg0001.tlg001</td>\n",
       "      <td>3 B.C.</td>\n",
       "      <td>-2.5</td>\n",
       "      <td>{'-2.5': 1}</td>\n",
       "      <td>-2.5</td>\n",
       "      <td>pagan</td>\n",
       "      <td>3252</td>\n",
       "      <td>None</td>\n",
       "    </tr>\n",
       "    <tr>\n",
       "      <th>1</th>\n",
       "      <td>tlg0003.tlg001.perseus-grc2.xml</td>\n",
       "      <td>Thucydides</td>\n",
       "      <td>The Peloponnesian War</td>\n",
       "      <td>150118</td>\n",
       "      <td>tlg0003</td>\n",
       "      <td>tlg0003.tlg001</td>\n",
       "      <td>5 B.C.</td>\n",
       "      <td>-4.5</td>\n",
       "      <td>{'-4.5': 1}</td>\n",
       "      <td>-4.5</td>\n",
       "      <td>pagan</td>\n",
       "      <td>6068</td>\n",
       "      <td>None</td>\n",
       "    </tr>\n",
       "    <tr>\n",
       "      <th>2</th>\n",
       "      <td>tlg0004.tlg001.perseus-grc1.xml</td>\n",
       "      <td>Diogenes Laertius</td>\n",
       "      <td>Lives of Eminent Philosophers</td>\n",
       "      <td>110763</td>\n",
       "      <td>tlg0004</td>\n",
       "      <td>tlg0004.tlg001</td>\n",
       "      <td>A.D. 3</td>\n",
       "      <td>2.5</td>\n",
       "      <td>{'2.5': 1}</td>\n",
       "      <td>NaN</td>\n",
       "      <td></td>\n",
       "      <td>10245</td>\n",
       "      <td>None</td>\n",
       "    </tr>\n",
       "    <tr>\n",
       "      <th>3</th>\n",
       "      <td>tlg0005.tlg001.perseus-grc1.xml</td>\n",
       "      <td>Theocritus</td>\n",
       "      <td>Idylls</td>\n",
       "      <td>19200</td>\n",
       "      <td>tlg0005</td>\n",
       "      <td>tlg0005.tlg001</td>\n",
       "      <td>4-3 B.C.</td>\n",
       "      <td>-3.0</td>\n",
       "      <td>{'-3.5': 0.5, '-2.5': 0.5}</td>\n",
       "      <td>NaN</td>\n",
       "      <td></td>\n",
       "      <td>1982</td>\n",
       "      <td>None</td>\n",
       "    </tr>\n",
       "    <tr>\n",
       "      <th>4</th>\n",
       "      <td>tlg0005.tlg002.perseus-grc1.xml</td>\n",
       "      <td>Theocritus</td>\n",
       "      <td>Epigrams</td>\n",
       "      <td>1734</td>\n",
       "      <td>tlg0005</td>\n",
       "      <td>tlg0005.tlg002</td>\n",
       "      <td>4-3 B.C.</td>\n",
       "      <td>-3.0</td>\n",
       "      <td>{'-3.5': 0.5, '-2.5': 0.5}</td>\n",
       "      <td>NaN</td>\n",
       "      <td></td>\n",
       "      <td>152</td>\n",
       "      <td>None</td>\n",
       "    </tr>\n",
       "  </tbody>\n",
       "</table>\n",
       "</div>"
      ],
      "text/plain": [
       "                          filename              author  \\\n",
       "0  tlg0001.tlg001.perseus-grc2.xml  Apollonius Rhodius   \n",
       "1  tlg0003.tlg001.perseus-grc2.xml          Thucydides   \n",
       "2  tlg0004.tlg001.perseus-grc1.xml   Diogenes Laertius   \n",
       "3  tlg0005.tlg001.perseus-grc1.xml          Theocritus   \n",
       "4  tlg0005.tlg002.perseus-grc1.xml          Theocritus   \n",
       "\n",
       "                           title  wordcount author_id          doc_id  \\\n",
       "0                    Argonautica      38822   tlg0001  tlg0001.tlg001   \n",
       "1          The Peloponnesian War     150118   tlg0003  tlg0003.tlg001   \n",
       "2  Lives of Eminent Philosophers     110763   tlg0004  tlg0004.tlg001   \n",
       "3                        Idylls       19200   tlg0005  tlg0005.tlg001   \n",
       "4                      Epigrams        1734   tlg0005  tlg0005.tlg002   \n",
       "\n",
       "   raw_date  date_avr                  date_probs  date_manual provenience  \\\n",
       "0    3 B.C.      -2.5                 {'-2.5': 1}         -2.5       pagan   \n",
       "1    5 B.C.      -4.5                 {'-4.5': 1}         -4.5       pagan   \n",
       "2    A.D. 3       2.5                  {'2.5': 1}          NaN               \n",
       "3  4-3 B.C.      -3.0  {'-3.5': 0.5, '-2.5': 0.5}          NaN               \n",
       "4  4-3 B.C.      -3.0  {'-3.5': 0.5, '-2.5': 0.5}          NaN               \n",
       "\n",
       "   n_sentences lemmatized_sentences  \n",
       "0         3252                 None  \n",
       "1         6068                 None  \n",
       "2        10245                 None  \n",
       "3         1982                 None  \n",
       "4          152                 None  "
      ]
     },
     "execution_count": 5,
     "metadata": {},
     "output_type": "execute_result"
    }
   ],
   "source": [
    "AGT.head(5)"
   ]
  },
  {
   "cell_type": "markdown",
   "metadata": {},
   "source": [
    "# Export latest data for improvement..."
   ]
  },
  {
   "cell_type": "code",
   "execution_count": 43,
   "metadata": {},
   "outputs": [
    {
     "data": {
      "text/plain": [
       "Index(['filename', 'author', 'title', 'string', 'wordcount', 'author_id',\n",
       "       'doc_id', 'raw_date', 'date_avr', 'date_probs', 'date_manual',\n",
       "       'provenience', 'lemmata', 'lemmata_wordcount', 'lemmatized_sentences',\n",
       "       'n_sentences', 'tlg_epithet'],\n",
       "      dtype='object')"
      ]
     },
     "execution_count": 43,
     "metadata": {},
     "output_type": "execute_result"
    }
   ],
   "source": [
    "AGT.columns"
   ]
  },
  {
   "cell_type": "code",
   "execution_count": 44,
   "metadata": {},
   "outputs": [
    {
     "data": {
      "text/html": [
       "<div>\n",
       "<style scoped>\n",
       "    .dataframe tbody tr th:only-of-type {\n",
       "        vertical-align: middle;\n",
       "    }\n",
       "\n",
       "    .dataframe tbody tr th {\n",
       "        vertical-align: top;\n",
       "    }\n",
       "\n",
       "    .dataframe thead th {\n",
       "        text-align: right;\n",
       "    }\n",
       "</style>\n",
       "<table border=\"1\" class=\"dataframe\">\n",
       "  <thead>\n",
       "    <tr style=\"text-align: right;\">\n",
       "      <th></th>\n",
       "      <th>filename</th>\n",
       "      <th>author</th>\n",
       "      <th>title</th>\n",
       "      <th>string</th>\n",
       "      <th>wordcount</th>\n",
       "      <th>author_id</th>\n",
       "      <th>doc_id</th>\n",
       "      <th>raw_date</th>\n",
       "      <th>date_avr</th>\n",
       "      <th>date_probs</th>\n",
       "      <th>date_manual</th>\n",
       "      <th>provenience</th>\n",
       "      <th>lemmata</th>\n",
       "      <th>lemmata_wordcount</th>\n",
       "      <th>lemmatized_sentences</th>\n",
       "      <th>n_sentences</th>\n",
       "      <th>tlg_epithet</th>\n",
       "    </tr>\n",
       "  </thead>\n",
       "  <tbody>\n",
       "    <tr>\n",
       "      <th>0</th>\n",
       "      <td>tlg0001.tlg001.perseus-grc2.xml</td>\n",
       "      <td>Apollonius Rhodius</td>\n",
       "      <td>Argonautica</td>\n",
       "      <td>ἀρχόμενος σέο, Φοῖβε, παλαιγενέων κλέα φωτῶν μ...</td>\n",
       "      <td>38822</td>\n",
       "      <td>tlg0001</td>\n",
       "      <td>tlg0001.tlg001</td>\n",
       "      <td>3 B.C.</td>\n",
       "      <td>-2.5</td>\n",
       "      <td>{'-2.5': 1}</td>\n",
       "      <td>-2.5</td>\n",
       "      <td>pagan</td>\n",
       "      <td>[σέο, φοῖβος, παλαιγενής, κλέος, φάος, μιμνήσκ...</td>\n",
       "      <td>24237</td>\n",
       "      <td>[[σέο, φοῖβος, παλαιγενής, κλέος, φάος, μιμνήσ...</td>\n",
       "      <td>3230</td>\n",
       "      <td>Epici/-ae</td>\n",
       "    </tr>\n",
       "    <tr>\n",
       "      <th>1</th>\n",
       "      <td>tlg0003.tlg001.perseus-grc2.xml</td>\n",
       "      <td>Thucydides</td>\n",
       "      <td>The Peloponnesian War</td>\n",
       "      <td>\\nΘουκυδίδης Ἀθηναῖος ξυνέγραψε τὸν πόλεμον τῶ...</td>\n",
       "      <td>150126</td>\n",
       "      <td>tlg0003</td>\n",
       "      <td>tlg0003.tlg001</td>\n",
       "      <td>5 B.C.</td>\n",
       "      <td>-4.5</td>\n",
       "      <td>{'-4.5': 1}</td>\n",
       "      <td>-4.5</td>\n",
       "      <td>pagan</td>\n",
       "      <td>[θουκυδίδης, Ἀθηναῖος, συγγράφω, πόλεμος, Πελο...</td>\n",
       "      <td>68154</td>\n",
       "      <td>[[θουκυδίδης, Ἀθηναῖος, συγγράφω, πόλεμος, Πελ...</td>\n",
       "      <td>6057</td>\n",
       "      <td>Historici/-ae</td>\n",
       "    </tr>\n",
       "    <tr>\n",
       "      <th>2</th>\n",
       "      <td>tlg0004.tlg001.perseus-grc1.xml</td>\n",
       "      <td>Diogenes Laertius</td>\n",
       "      <td>Lives of Eminent Philosophers</td>\n",
       "      <td>Τὸ τῆς φιλοσοφίας ἔργον ἔνιοί φασιν ἀπὸ βαρβάρ...</td>\n",
       "      <td>110773</td>\n",
       "      <td>tlg0004</td>\n",
       "      <td>tlg0004.tlg001</td>\n",
       "      <td>A.D. 3</td>\n",
       "      <td>2.5</td>\n",
       "      <td>{'2.5': 1}</td>\n",
       "      <td>NaN</td>\n",
       "      <td></td>\n",
       "      <td>[φιλοσοφία, ἔργον, ἔνιοί, φάσις, βάρβαρος, ἄρχ...</td>\n",
       "      <td>55323</td>\n",
       "      <td>[[φιλοσοφία, ἔργον, ἔνιοί, φάσις, βάρβαρος, ἄρ...</td>\n",
       "      <td>9906</td>\n",
       "      <td>Biographi</td>\n",
       "    </tr>\n",
       "    <tr>\n",
       "      <th>3</th>\n",
       "      <td>tlg0005.tlg001.perseus-grc1.xml</td>\n",
       "      <td>Theocritus</td>\n",
       "      <td>Idylls</td>\n",
       "      <td>\\n̔Αδύ τι τὸ ψιθύρισμα καὶ ἁ πίτυς αἰπόλε τήνα...</td>\n",
       "      <td>19200</td>\n",
       "      <td>tlg0005</td>\n",
       "      <td>tlg0005.tlg001</td>\n",
       "      <td>4-3 B.C.</td>\n",
       "      <td>-3.0</td>\n",
       "      <td>{'-3.5': 0.5, '-2.5': 0.5}</td>\n",
       "      <td>NaN</td>\n",
       "      <td></td>\n",
       "      <td>[αδύ, ψιθύρισμα, πίτυς, αἰπόλος, ἐκεῖνος, πότη...</td>\n",
       "      <td>12177</td>\n",
       "      <td>[[αδύ, ψιθύρισμα, πίτυς, αἰπόλος, ἐκεῖνος, πότ...</td>\n",
       "      <td>1725</td>\n",
       "      <td>Bucolici</td>\n",
       "    </tr>\n",
       "    <tr>\n",
       "      <th>4</th>\n",
       "      <td>tlg0005.tlg002.perseus-grc1.xml</td>\n",
       "      <td>Theocritus</td>\n",
       "      <td>Epigrams</td>\n",
       "      <td>τὰ ῥόδα τὰ δροσόεντα καὶ ἁ κατάπυκνος ἐκείνα ἕ...</td>\n",
       "      <td>1734</td>\n",
       "      <td>tlg0005</td>\n",
       "      <td>tlg0005.tlg002</td>\n",
       "      <td>4-3 B.C.</td>\n",
       "      <td>-3.0</td>\n",
       "      <td>{'-3.5': 0.5, '-2.5': 0.5}</td>\n",
       "      <td>NaN</td>\n",
       "      <td></td>\n",
       "      <td>[ῥοδῆ, δροσόεντα, κατάπυκνος, ἐκεῖνος, ἕρπυλλο...</td>\n",
       "      <td>1089</td>\n",
       "      <td>[[ῥοδῆ, δροσόεντα, κατάπυκνος, ἐκεῖνος, ἕρπυλλ...</td>\n",
       "      <td>135</td>\n",
       "      <td>Bucolici</td>\n",
       "    </tr>\n",
       "  </tbody>\n",
       "</table>\n",
       "</div>"
      ],
      "text/plain": [
       "                          filename              author  \\\n",
       "0  tlg0001.tlg001.perseus-grc2.xml  Apollonius Rhodius   \n",
       "1  tlg0003.tlg001.perseus-grc2.xml          Thucydides   \n",
       "2  tlg0004.tlg001.perseus-grc1.xml   Diogenes Laertius   \n",
       "3  tlg0005.tlg001.perseus-grc1.xml          Theocritus   \n",
       "4  tlg0005.tlg002.perseus-grc1.xml          Theocritus   \n",
       "\n",
       "                           title  \\\n",
       "0                    Argonautica   \n",
       "1          The Peloponnesian War   \n",
       "2  Lives of Eminent Philosophers   \n",
       "3                        Idylls    \n",
       "4                      Epigrams    \n",
       "\n",
       "                                              string  wordcount author_id  \\\n",
       "0  ἀρχόμενος σέο, Φοῖβε, παλαιγενέων κλέα φωτῶν μ...      38822   tlg0001   \n",
       "1  \\nΘουκυδίδης Ἀθηναῖος ξυνέγραψε τὸν πόλεμον τῶ...     150126   tlg0003   \n",
       "2  Τὸ τῆς φιλοσοφίας ἔργον ἔνιοί φασιν ἀπὸ βαρβάρ...     110773   tlg0004   \n",
       "3  \\n̔Αδύ τι τὸ ψιθύρισμα καὶ ἁ πίτυς αἰπόλε τήνα...      19200   tlg0005   \n",
       "4  τὰ ῥόδα τὰ δροσόεντα καὶ ἁ κατάπυκνος ἐκείνα ἕ...       1734   tlg0005   \n",
       "\n",
       "           doc_id  raw_date  date_avr                  date_probs  \\\n",
       "0  tlg0001.tlg001    3 B.C.      -2.5                 {'-2.5': 1}   \n",
       "1  tlg0003.tlg001    5 B.C.      -4.5                 {'-4.5': 1}   \n",
       "2  tlg0004.tlg001    A.D. 3       2.5                  {'2.5': 1}   \n",
       "3  tlg0005.tlg001  4-3 B.C.      -3.0  {'-3.5': 0.5, '-2.5': 0.5}   \n",
       "4  tlg0005.tlg002  4-3 B.C.      -3.0  {'-3.5': 0.5, '-2.5': 0.5}   \n",
       "\n",
       "   date_manual provenience                                            lemmata  \\\n",
       "0         -2.5       pagan  [σέο, φοῖβος, παλαιγενής, κλέος, φάος, μιμνήσκ...   \n",
       "1         -4.5       pagan  [θουκυδίδης, Ἀθηναῖος, συγγράφω, πόλεμος, Πελο...   \n",
       "2          NaN              [φιλοσοφία, ἔργον, ἔνιοί, φάσις, βάρβαρος, ἄρχ...   \n",
       "3          NaN              [αδύ, ψιθύρισμα, πίτυς, αἰπόλος, ἐκεῖνος, πότη...   \n",
       "4          NaN              [ῥοδῆ, δροσόεντα, κατάπυκνος, ἐκεῖνος, ἕρπυλλο...   \n",
       "\n",
       "   lemmata_wordcount                               lemmatized_sentences  \\\n",
       "0              24237  [[σέο, φοῖβος, παλαιγενής, κλέος, φάος, μιμνήσ...   \n",
       "1              68154  [[θουκυδίδης, Ἀθηναῖος, συγγράφω, πόλεμος, Πελ...   \n",
       "2              55323  [[φιλοσοφία, ἔργον, ἔνιοί, φάσις, βάρβαρος, ἄρ...   \n",
       "3              12177  [[αδύ, ψιθύρισμα, πίτυς, αἰπόλος, ἐκεῖνος, πότ...   \n",
       "4               1089  [[ῥοδῆ, δροσόεντα, κατάπυκνος, ἐκεῖνος, ἕρπυλλ...   \n",
       "\n",
       "   n_sentences    tlg_epithet  \n",
       "0         3230      Epici/-ae  \n",
       "1         6057  Historici/-ae  \n",
       "2         9906      Biographi  \n",
       "3         1725       Bucolici  \n",
       "4          135       Bucolici  "
      ]
     },
     "execution_count": 44,
     "metadata": {},
     "output_type": "execute_result"
    }
   ],
   "source": [
    "AGT.head(5)"
   ]
  },
  {
   "cell_type": "code",
   "execution_count": 45,
   "metadata": {},
   "outputs": [],
   "source": [
    "set_with_dataframe(CEMRAM_OVERVIEW.worksheet(\"works_overview\"), AGT.drop([\"string\", \"lemmata\", \"lemmatized_sentences\"], axis=1))"
   ]
  },
  {
   "cell_type": "markdown",
   "metadata": {},
   "source": [
    "# A preliminary overview"
   ]
  },
  {
   "cell_type": "code",
   "execution_count": 10,
   "metadata": {
    "colab": {
     "base_uri": "https://localhost:8080/",
     "height": 34
    },
    "colab_type": "code",
    "executionInfo": {
     "elapsed": 522,
     "status": "ok",
     "timestamp": 1588777528756,
     "user": {
      "displayName": "Vojtěch Kaše",
      "photoUrl": "https://lh3.googleusercontent.com/a-/AOh14Ggz3jS9e7I3GdIEbyBKFtqr9tPdNCwyLBEJwbK8cw=s64",
      "userId": "01399835024022498543"
     },
     "user_tz": -120
    },
    "id": "aEzEZucsmjnD",
    "outputId": "b91903fb-890c-4c62-d632-c06c30f86705",
    "scrolled": true
   },
   "outputs": [
    {
     "data": {
      "text/plain": [
       "1457"
      ]
     },
     "execution_count": 10,
     "metadata": {},
     "output_type": "execute_result"
    }
   ],
   "source": [
    "len(AGT)"
   ]
  },
  {
   "cell_type": "code",
   "execution_count": 11,
   "metadata": {
    "colab": {
     "base_uri": "https://localhost:8080/",
     "height": 34
    },
    "colab_type": "code",
    "executionInfo": {
     "elapsed": 555,
     "status": "ok",
     "timestamp": 1588777531455,
     "user": {
      "displayName": "Vojtěch Kaše",
      "photoUrl": "https://lh3.googleusercontent.com/a-/AOh14Ggz3jS9e7I3GdIEbyBKFtqr9tPdNCwyLBEJwbK8cw=s64",
      "userId": "01399835024022498543"
     },
     "user_tz": -120
    },
    "id": "XoO68J0ynnVG",
    "outputId": "215252db-9e8f-45f1-8d82-63e48d5bf714"
   },
   "outputs": [
    {
     "data": {
      "text/plain": [
       "31248866"
      ]
     },
     "execution_count": 11,
     "metadata": {},
     "output_type": "execute_result"
    }
   ],
   "source": [
    "### total number of words\n",
    "AGT[\"wordcount\"].sum() # 33419267"
   ]
  },
  {
   "cell_type": "code",
   "execution_count": 12,
   "metadata": {
    "colab": {
     "base_uri": "https://localhost:8080/",
     "height": 34
    },
    "colab_type": "code",
    "executionInfo": {
     "elapsed": 392,
     "status": "ok",
     "timestamp": 1588777532517,
     "user": {
      "displayName": "Vojtěch Kaše",
      "photoUrl": "https://lh3.googleusercontent.com/a-/AOh14Ggz3jS9e7I3GdIEbyBKFtqr9tPdNCwyLBEJwbK8cw=s64",
      "userId": "01399835024022498543"
     },
     "user_tz": -120
    },
    "id": "1IsydSU-NM0N",
    "outputId": "dfceecf7-bd27-42ef-b087-47a6cec1e16c"
   },
   "outputs": [
    {
     "data": {
      "text/plain": [
       "1359"
      ]
     },
     "execution_count": 12,
     "metadata": {},
     "output_type": "execute_result"
    }
   ],
   "source": [
    "len(AGT[AGT[\"date_avr\"].notnull()])"
   ]
  },
  {
   "cell_type": "code",
   "execution_count": 13,
   "metadata": {
    "colab": {
     "base_uri": "https://localhost:8080/",
     "height": 88
    },
    "colab_type": "code",
    "executionInfo": {
     "elapsed": 508,
     "status": "ok",
     "timestamp": 1588777534203,
     "user": {
      "displayName": "Vojtěch Kaše",
      "photoUrl": "https://lh3.googleusercontent.com/a-/AOh14Ggz3jS9e7I3GdIEbyBKFtqr9tPdNCwyLBEJwbK8cw=s64",
      "userId": "01399835024022498543"
     },
     "user_tz": -120
    },
    "id": "IWMyWP2gUndc",
    "outputId": "93b6b4cb-d443-4929-b4ee-3ff6839710cc"
   },
   "outputs": [
    {
     "name": "stderr",
     "output_type": "stream",
     "text": [
      "/srv/conda/envs/notebook/lib/python3.7/site-packages/ipykernel_launcher.py:3: UserWarning: Boolean Series key will be reindexed to match DataFrame index.\n",
      "  This is separate from the ipykernel package so we can avoid doing imports until\n"
     ]
    },
    {
     "data": {
      "text/plain": [
       "1255"
      ]
     },
     "execution_count": 13,
     "metadata": {},
     "output_type": "execute_result"
    }
   ],
   "source": [
    "# number of documents before the end of the 4th c. CE\n",
    "\n",
    "len(AGT[AGT[\"date_avr\"].notnull()][AGT[\"date_avr\"] < 4])"
   ]
  },
  {
   "cell_type": "markdown",
   "metadata": {
    "colab_type": "text",
    "id": "55PLVEGBQlZs"
   },
   "source": [
    "# Comparing different approaches to dating"
   ]
  },
  {
   "cell_type": "code",
   "execution_count": 14,
   "metadata": {},
   "outputs": [
    {
     "data": {
      "text/html": [
       "<div>\n",
       "<style scoped>\n",
       "    .dataframe tbody tr th:only-of-type {\n",
       "        vertical-align: middle;\n",
       "    }\n",
       "\n",
       "    .dataframe tbody tr th {\n",
       "        vertical-align: top;\n",
       "    }\n",
       "\n",
       "    .dataframe thead th {\n",
       "        text-align: right;\n",
       "    }\n",
       "</style>\n",
       "<table border=\"1\" class=\"dataframe\">\n",
       "  <thead>\n",
       "    <tr style=\"text-align: right;\">\n",
       "      <th></th>\n",
       "      <th>filename</th>\n",
       "      <th>author</th>\n",
       "      <th>title</th>\n",
       "      <th>wordcount</th>\n",
       "      <th>author_id</th>\n",
       "      <th>doc_id</th>\n",
       "      <th>raw_date</th>\n",
       "      <th>date_avr</th>\n",
       "      <th>date_probs</th>\n",
       "      <th>date_manual</th>\n",
       "      <th>provenience</th>\n",
       "      <th>n_sentences</th>\n",
       "      <th>lemmatized_sentences</th>\n",
       "      <th>lemmata</th>\n",
       "      <th>lemmata_wordcount</th>\n",
       "      <th>tlg_epithet</th>\n",
       "    </tr>\n",
       "  </thead>\n",
       "  <tbody>\n",
       "    <tr>\n",
       "      <th>0</th>\n",
       "      <td>tlg0001.tlg001.perseus-grc2.xml</td>\n",
       "      <td>Apollonius Rhodius</td>\n",
       "      <td>Argonautica</td>\n",
       "      <td>38822</td>\n",
       "      <td>tlg0001</td>\n",
       "      <td>tlg0001.tlg001</td>\n",
       "      <td>3 B.C.</td>\n",
       "      <td>-2.5</td>\n",
       "      <td>{'-2.5': 1}</td>\n",
       "      <td>-2.5</td>\n",
       "      <td>pagan</td>\n",
       "      <td>3252</td>\n",
       "      <td>[[ἄρχω, Φοῖβε, παλαιγενέων, κλέα, φώς, μιμνήσκ...</td>\n",
       "      <td>[ἄρχω, Φοῖβε, παλαιγενέων, κλέα, φώς, μιμνήσκω...</td>\n",
       "      <td>24689</td>\n",
       "      <td>Epici/-ae</td>\n",
       "    </tr>\n",
       "    <tr>\n",
       "      <th>1</th>\n",
       "      <td>tlg0003.tlg001.perseus-grc2.xml</td>\n",
       "      <td>Thucydides</td>\n",
       "      <td>The Peloponnesian War</td>\n",
       "      <td>150118</td>\n",
       "      <td>tlg0003</td>\n",
       "      <td>tlg0003.tlg001</td>\n",
       "      <td>5 B.C.</td>\n",
       "      <td>-4.5</td>\n",
       "      <td>{'-4.5': 1}</td>\n",
       "      <td>-4.5</td>\n",
       "      <td>pagan</td>\n",
       "      <td>6068</td>\n",
       "      <td>[[Θουκυδίδης, Ἀθηναῖος, συγγράφω, πόλεμος, Πελ...</td>\n",
       "      <td>[Θουκυδίδης, Ἀθηναῖος, συγγράφω, πόλεμος, Πελο...</td>\n",
       "      <td>71509</td>\n",
       "      <td>Historici/-ae</td>\n",
       "    </tr>\n",
       "    <tr>\n",
       "      <th>2</th>\n",
       "      <td>tlg0004.tlg001.perseus-grc1.xml</td>\n",
       "      <td>Diogenes Laertius</td>\n",
       "      <td>Lives of Eminent Philosophers</td>\n",
       "      <td>110763</td>\n",
       "      <td>tlg0004</td>\n",
       "      <td>tlg0004.tlg001</td>\n",
       "      <td>A.D. 3</td>\n",
       "      <td>2.5</td>\n",
       "      <td>{'2.5': 1}</td>\n",
       "      <td>NaN</td>\n",
       "      <td></td>\n",
       "      <td>10245</td>\n",
       "      <td>[[φιλοσοφία, ἔργον, ἔνιοί, φάσις, βάρβαρος, ἄρ...</td>\n",
       "      <td>[φιλοσοφία, ἔργον, ἔνιοί, φάσις, βάρβαρος, ἄρχ...</td>\n",
       "      <td>59639</td>\n",
       "      <td>Biographi</td>\n",
       "    </tr>\n",
       "    <tr>\n",
       "      <th>3</th>\n",
       "      <td>tlg0005.tlg001.perseus-grc1.xml</td>\n",
       "      <td>Theocritus</td>\n",
       "      <td>Idylls</td>\n",
       "      <td>19200</td>\n",
       "      <td>tlg0005</td>\n",
       "      <td>tlg0005.tlg001</td>\n",
       "      <td>4-3 B.C.</td>\n",
       "      <td>-3.0</td>\n",
       "      <td>{'-3.5': 0.5, '-2.5': 0.5}</td>\n",
       "      <td>NaN</td>\n",
       "      <td></td>\n",
       "      <td>1982</td>\n",
       "      <td>[[ψιθύρισμα, πίτυς, αἰπόλε, τῆνος, παγαῖσι, με...</td>\n",
       "      <td>[ψιθύρισμα, πίτυς, αἰπόλε, τῆνος, παγαῖσι, μελ...</td>\n",
       "      <td>12193</td>\n",
       "      <td>Bucolici</td>\n",
       "    </tr>\n",
       "    <tr>\n",
       "      <th>4</th>\n",
       "      <td>tlg0005.tlg002.perseus-grc1.xml</td>\n",
       "      <td>Theocritus</td>\n",
       "      <td>Epigrams</td>\n",
       "      <td>1734</td>\n",
       "      <td>tlg0005</td>\n",
       "      <td>tlg0005.tlg002</td>\n",
       "      <td>4-3 B.C.</td>\n",
       "      <td>-3.0</td>\n",
       "      <td>{'-3.5': 0.5, '-2.5': 0.5}</td>\n",
       "      <td>NaN</td>\n",
       "      <td></td>\n",
       "      <td>152</td>\n",
       "      <td>[[ῥόδον, δροσόεντα, κατάπυκνος, ἐκείνα, ἕρπυλλ...</td>\n",
       "      <td>[ῥόδον, δροσόεντα, κατάπυκνος, ἐκείνα, ἕρπυλλο...</td>\n",
       "      <td>1108</td>\n",
       "      <td>Bucolici</td>\n",
       "    </tr>\n",
       "  </tbody>\n",
       "</table>\n",
       "</div>"
      ],
      "text/plain": [
       "                          filename              author  \\\n",
       "0  tlg0001.tlg001.perseus-grc2.xml  Apollonius Rhodius   \n",
       "1  tlg0003.tlg001.perseus-grc2.xml          Thucydides   \n",
       "2  tlg0004.tlg001.perseus-grc1.xml   Diogenes Laertius   \n",
       "3  tlg0005.tlg001.perseus-grc1.xml          Theocritus   \n",
       "4  tlg0005.tlg002.perseus-grc1.xml          Theocritus   \n",
       "\n",
       "                           title  wordcount author_id          doc_id  \\\n",
       "0                    Argonautica      38822   tlg0001  tlg0001.tlg001   \n",
       "1          The Peloponnesian War     150118   tlg0003  tlg0003.tlg001   \n",
       "2  Lives of Eminent Philosophers     110763   tlg0004  tlg0004.tlg001   \n",
       "3                        Idylls       19200   tlg0005  tlg0005.tlg001   \n",
       "4                      Epigrams        1734   tlg0005  tlg0005.tlg002   \n",
       "\n",
       "   raw_date  date_avr                  date_probs  date_manual provenience  \\\n",
       "0    3 B.C.      -2.5                 {'-2.5': 1}         -2.5       pagan   \n",
       "1    5 B.C.      -4.5                 {'-4.5': 1}         -4.5       pagan   \n",
       "2    A.D. 3       2.5                  {'2.5': 1}          NaN               \n",
       "3  4-3 B.C.      -3.0  {'-3.5': 0.5, '-2.5': 0.5}          NaN               \n",
       "4  4-3 B.C.      -3.0  {'-3.5': 0.5, '-2.5': 0.5}          NaN               \n",
       "\n",
       "   n_sentences                               lemmatized_sentences  \\\n",
       "0         3252  [[ἄρχω, Φοῖβε, παλαιγενέων, κλέα, φώς, μιμνήσκ...   \n",
       "1         6068  [[Θουκυδίδης, Ἀθηναῖος, συγγράφω, πόλεμος, Πελ...   \n",
       "2        10245  [[φιλοσοφία, ἔργον, ἔνιοί, φάσις, βάρβαρος, ἄρ...   \n",
       "3         1982  [[ψιθύρισμα, πίτυς, αἰπόλε, τῆνος, παγαῖσι, με...   \n",
       "4          152  [[ῥόδον, δροσόεντα, κατάπυκνος, ἐκείνα, ἕρπυλλ...   \n",
       "\n",
       "                                             lemmata  lemmata_wordcount  \\\n",
       "0  [ἄρχω, Φοῖβε, παλαιγενέων, κλέα, φώς, μιμνήσκω...              24689   \n",
       "1  [Θουκυδίδης, Ἀθηναῖος, συγγράφω, πόλεμος, Πελο...              71509   \n",
       "2  [φιλοσοφία, ἔργον, ἔνιοί, φάσις, βάρβαρος, ἄρχ...              59639   \n",
       "3  [ψιθύρισμα, πίτυς, αἰπόλε, τῆνος, παγαῖσι, μελ...              12193   \n",
       "4  [ῥόδον, δροσόεντα, κατάπυκνος, ἐκείνα, ἕρπυλλο...               1108   \n",
       "\n",
       "     tlg_epithet  \n",
       "0      Epici/-ae  \n",
       "1  Historici/-ae  \n",
       "2      Biographi  \n",
       "3       Bucolici  \n",
       "4       Bucolici  "
      ]
     },
     "execution_count": 14,
     "metadata": {},
     "output_type": "execute_result"
    }
   ],
   "source": [
    "AGT.head(5)"
   ]
  },
  {
   "cell_type": "code",
   "execution_count": 15,
   "metadata": {
    "colab": {
     "base_uri": "https://localhost:8080/",
     "height": 34
    },
    "colab_type": "code",
    "executionInfo": {
     "elapsed": 594,
     "status": "ok",
     "timestamp": 1588778063000,
     "user": {
      "displayName": "Vojtěch Kaše",
      "photoUrl": "https://lh3.googleusercontent.com/a-/AOh14Ggz3jS9e7I3GdIEbyBKFtqr9tPdNCwyLBEJwbK8cw=s64",
      "userId": "01399835024022498543"
     },
     "user_tz": -120
    },
    "id": "ZLhYXQJrG5rW",
    "outputId": "3821c39b-7e65-4e2f-8b68-8b9cd13af74a"
   },
   "outputs": [
    {
     "data": {
      "text/plain": [
       "[-7.5, -6.5, -5.5, -4.5, -3.5, -2.5, -1.5, -0.5, 0.5, 1.5, 2.5, 3.5]"
      ]
     },
     "execution_count": 15,
     "metadata": {},
     "output_type": "execute_result"
    }
   ],
   "source": [
    "centuries = [num + 0.5 for num in range(-8, 4)]\n",
    "centuries"
   ]
  },
  {
   "cell_type": "code",
   "execution_count": 16,
   "metadata": {
    "colab": {
     "base_uri": "https://localhost:8080/",
     "height": 54
    },
    "colab_type": "code",
    "executionInfo": {
     "elapsed": 634,
     "status": "ok",
     "timestamp": 1588778064713,
     "user": {
      "displayName": "Vojtěch Kaše",
      "photoUrl": "https://lh3.googleusercontent.com/a-/AOh14Ggz3jS9e7I3GdIEbyBKFtqr9tPdNCwyLBEJwbK8cw=s64",
      "userId": "01399835024022498543"
     },
     "user_tz": -120
    },
    "id": "9-1YgE3SPtAO",
    "outputId": "2931af8b-cf01-4d34-a6ae-5763589816de"
   },
   "outputs": [
    {
     "name": "stdout",
     "output_type": "stream",
     "text": [
      "[-7.5, -7.0, -6.5, -6.0, -5.5, -5.0, -4.5, -4.0, -3.5, -3.0, -2.5, -2.0, -1.5, -1.0, -0.5, 0.0, 0.5, 1.0, 1.5, 2.0, 2.5, 3.0, 3.5]\n"
     ]
    }
   ],
   "source": [
    "dates = [num /10 for num in range(-75, 40, 5)]\n",
    "print(dates)"
   ]
  },
  {
   "cell_type": "code",
   "execution_count": 17,
   "metadata": {},
   "outputs": [
    {
     "data": {
      "text/plain": [
       "1"
      ]
     },
     "execution_count": 17,
     "metadata": {},
     "output_type": "execute_result"
    }
   ],
   "source": [
    "AGT[\"date_probs\"].tolist()[0][\"-2.5\"]"
   ]
  },
  {
   "cell_type": "code",
   "execution_count": 18,
   "metadata": {
    "colab": {
     "base_uri": "https://localhost:8080/",
     "height": 221
    },
    "colab_type": "code",
    "executionInfo": {
     "elapsed": 541,
     "status": "ok",
     "timestamp": 1588778883842,
     "user": {
      "displayName": "Vojtěch Kaše",
      "photoUrl": "https://lh3.googleusercontent.com/a-/AOh14Ggz3jS9e7I3GdIEbyBKFtqr9tPdNCwyLBEJwbK8cw=s64",
      "userId": "01399835024022498543"
     },
     "user_tz": -120
    },
    "id": "Z3wTDxQ5SwLA",
    "outputId": "0d73cc22-8120-48f6-cc72-5652f7efffea"
   },
   "outputs": [
    {
     "data": {
      "text/plain": [
       "{-7.5: 6.8331,\n",
       " -6.5: 3.8331,\n",
       " -5.5: 9.8331,\n",
       " -4.5: 139.0,\n",
       " -3.5: 234.0001,\n",
       " -2.5: 42.2501,\n",
       " -1.5: 12.9586,\n",
       " -0.5: 40.8964,\n",
       " 0.5: 168.3657,\n",
       " 1.5: 450.1011,\n",
       " 2.5: 77.97030000000001,\n",
       " 3.5: 68.9081}"
      ]
     },
     "execution_count": 18,
     "metadata": {},
     "output_type": "execute_result"
    }
   ],
   "source": [
    "centuries_aor = {}\n",
    "def get_prob(x):\n",
    "    try: return x[str(century)]\n",
    "    except: return 0\n",
    "for century in centuries:\n",
    "    centuries_aor[century] =  AGT[\"date_probs\"].apply(get_prob).sum()\n",
    "centuries_aor"
   ]
  },
  {
   "cell_type": "code",
   "execution_count": 19,
   "metadata": {},
   "outputs": [
    {
     "data": {
      "text/html": [
       "<div>\n",
       "<style scoped>\n",
       "    .dataframe tbody tr th:only-of-type {\n",
       "        vertical-align: middle;\n",
       "    }\n",
       "\n",
       "    .dataframe tbody tr th {\n",
       "        vertical-align: top;\n",
       "    }\n",
       "\n",
       "    .dataframe thead th {\n",
       "        text-align: right;\n",
       "    }\n",
       "</style>\n",
       "<table border=\"1\" class=\"dataframe\">\n",
       "  <thead>\n",
       "    <tr style=\"text-align: right;\">\n",
       "      <th></th>\n",
       "      <th>0</th>\n",
       "    </tr>\n",
       "  </thead>\n",
       "  <tbody>\n",
       "    <tr>\n",
       "      <th>-7.5</th>\n",
       "      <td>6.8331</td>\n",
       "    </tr>\n",
       "    <tr>\n",
       "      <th>-6.5</th>\n",
       "      <td>3.8331</td>\n",
       "    </tr>\n",
       "    <tr>\n",
       "      <th>-5.5</th>\n",
       "      <td>9.8331</td>\n",
       "    </tr>\n",
       "    <tr>\n",
       "      <th>-4.5</th>\n",
       "      <td>139.0000</td>\n",
       "    </tr>\n",
       "    <tr>\n",
       "      <th>-3.5</th>\n",
       "      <td>234.0001</td>\n",
       "    </tr>\n",
       "    <tr>\n",
       "      <th>-2.5</th>\n",
       "      <td>42.2501</td>\n",
       "    </tr>\n",
       "    <tr>\n",
       "      <th>-1.5</th>\n",
       "      <td>12.9586</td>\n",
       "    </tr>\n",
       "    <tr>\n",
       "      <th>-0.5</th>\n",
       "      <td>40.8964</td>\n",
       "    </tr>\n",
       "    <tr>\n",
       "      <th>0.5</th>\n",
       "      <td>168.3657</td>\n",
       "    </tr>\n",
       "    <tr>\n",
       "      <th>1.5</th>\n",
       "      <td>450.1011</td>\n",
       "    </tr>\n",
       "    <tr>\n",
       "      <th>2.5</th>\n",
       "      <td>77.9703</td>\n",
       "    </tr>\n",
       "    <tr>\n",
       "      <th>3.5</th>\n",
       "      <td>68.9081</td>\n",
       "    </tr>\n",
       "  </tbody>\n",
       "</table>\n",
       "</div>"
      ],
      "text/plain": [
       "             0\n",
       "-7.5    6.8331\n",
       "-6.5    3.8331\n",
       "-5.5    9.8331\n",
       "-4.5  139.0000\n",
       "-3.5  234.0001\n",
       "-2.5   42.2501\n",
       "-1.5   12.9586\n",
       "-0.5   40.8964\n",
       " 0.5  168.3657\n",
       " 1.5  450.1011\n",
       " 2.5   77.9703\n",
       " 3.5   68.9081"
      ]
     },
     "execution_count": 19,
     "metadata": {},
     "output_type": "execute_result"
    }
   ],
   "source": [
    "centuries_aor_df = pd.DataFrame(centuries_aor, index=[0]).T[:6]\n",
    "centuries_aor_df"
   ]
  },
  {
   "cell_type": "code",
   "execution_count": 20,
   "metadata": {},
   "outputs": [
    {
     "data": {
      "text/plain": [
       "<matplotlib.legend.Legend at 0x7f0eff4e8a10>"
      ]
     },
     "execution_count": 20,
     "metadata": {},
     "output_type": "execute_result"
    },
    {
     "data": {
      "image/png": "[encoded data removed]",
      "text/plain": [
       "<Figure size 864x432 with 1 Axes>"
      ]
     },
     "metadata": {
      "needs_background": "light"
     },
     "output_type": "display_data"
    }
   ],
   "source": [
    "### documents with probabilities\n",
    "fig, ax = plt.subplots(figsize=(12, 6), tight_layout=True)\n",
    "\n",
    "centuries_aor_df.plot(ax=ax)\n",
    "AGT.groupby(\"date_avr\").size()[:3.5].plot(ax=ax)\n",
    "AGT.groupby(\"date_manual\").size()[:3.5].plot(ax=ax)\n",
    "ax.set_xlabel(\"date\")\n",
    "ax.set_ylabel(\"N or sum probability of documents\")\n",
    "ax.set_xticks([-8, -6, -4, -2, 0.01, 2, 4])\n",
    "ax.set_xticklabels([\"800 BCE\", \"600 BC\", \"400 BCE\", \"200 BCE\", \"1 CE\", \"200 CE\", \"400 CE\"])\n",
    "\n",
    "plt.title(\"Aoristic vs average vs manual dating\")\n",
    "plt.legend(labels=[\"Aoristic sum\", \"Average values\", \"Manual dating\"])"
   ]
  },
  {
   "cell_type": "code",
   "execution_count": 21,
   "metadata": {},
   "outputs": [
    {
     "name": "stdout",
     "output_type": "stream",
     "text": [
      "Your <class 'matplotlib.figure.Figure'> object has been succefully written as \"https://sciencedata.dk/files/SDAM_root/SDAM_data/AGT/AGT_dating_overview_20201119.png\"\n"
     ]
    }
   ],
   "source": [
    "sddk.write_file(\"SDAM_data/AGT/AGT_dating_overview_20201119.png\", fig, conf)"
   ]
  },
  {
   "cell_type": "markdown",
   "metadata": {
    "colab_type": "text",
    "id": "5zM7-wy8RSlv"
   },
   "source": [
    "# Overview of authors"
   ]
  },
  {
   "cell_type": "code",
   "execution_count": 22,
   "metadata": {
    "colab": {},
    "colab_type": "code",
    "id": "e9HJjjXtt-WQ"
   },
   "outputs": [],
   "source": [
    "authors = []\n",
    "for author_id in AGT[\"author_id\"].unique().tolist():\n",
    "  author_df = AGT[AGT[\"author_id\"]==author_id]\n",
    "  try: author = \"/\".join(author_df[\"author\"].unique().tolist())\n",
    "  except: author = author_df[\"author\"].unique().tolist()[0]\n",
    "  wordcount = author_df[\"wordcount\"].sum()\n",
    "  provenience = author_df[\"provenience\"].unique().tolist()[0]\n",
    "  date = author_df[\"date_avr\"].unique().tolist()[0]\n",
    "  author_data = [author_id, author, provenience, date, len(author_df), wordcount]\n",
    "  authors.append(author_data)"
   ]
  },
  {
   "cell_type": "code",
   "execution_count": 23,
   "metadata": {
    "colab": {
     "base_uri": "https://localhost:8080/",
     "height": 204
    },
    "colab_type": "code",
    "executionInfo": {
     "elapsed": 3152,
     "status": "ok",
     "timestamp": 1588779609547,
     "user": {
      "displayName": "Vojtěch Kaše",
      "photoUrl": "https://lh3.googleusercontent.com/a-/AOh14Ggz3jS9e7I3GdIEbyBKFtqr9tPdNCwyLBEJwbK8cw=s64",
      "userId": "01399835024022498543"
     },
     "user_tz": -120
    },
    "id": "5OrtAJsFxT6U",
    "outputId": "6ee1bb38-f257-41ca-a469-ee5f5ca26336"
   },
   "outputs": [
    {
     "data": {
      "text/html": [
       "<div>\n",
       "<style scoped>\n",
       "    .dataframe tbody tr th:only-of-type {\n",
       "        vertical-align: middle;\n",
       "    }\n",
       "\n",
       "    .dataframe tbody tr th {\n",
       "        vertical-align: top;\n",
       "    }\n",
       "\n",
       "    .dataframe thead th {\n",
       "        text-align: right;\n",
       "    }\n",
       "</style>\n",
       "<table border=\"1\" class=\"dataframe\">\n",
       "  <thead>\n",
       "    <tr style=\"text-align: right;\">\n",
       "      <th></th>\n",
       "      <th>author id</th>\n",
       "      <th>name</th>\n",
       "      <th>provenience</th>\n",
       "      <th>date</th>\n",
       "      <th>N of works</th>\n",
       "      <th>N of words</th>\n",
       "    </tr>\n",
       "  </thead>\n",
       "  <tbody>\n",
       "    <tr>\n",
       "      <th>0</th>\n",
       "      <td>tlg0001</td>\n",
       "      <td>Apollonius Rhodius</td>\n",
       "      <td>pagan</td>\n",
       "      <td>-2.5</td>\n",
       "      <td>1</td>\n",
       "      <td>38822</td>\n",
       "    </tr>\n",
       "    <tr>\n",
       "      <th>1</th>\n",
       "      <td>tlg0003</td>\n",
       "      <td>Thucydides</td>\n",
       "      <td>pagan</td>\n",
       "      <td>-4.5</td>\n",
       "      <td>1</td>\n",
       "      <td>150118</td>\n",
       "    </tr>\n",
       "    <tr>\n",
       "      <th>2</th>\n",
       "      <td>tlg0004</td>\n",
       "      <td>Diogenes Laertius</td>\n",
       "      <td></td>\n",
       "      <td>2.5</td>\n",
       "      <td>1</td>\n",
       "      <td>110763</td>\n",
       "    </tr>\n",
       "    <tr>\n",
       "      <th>3</th>\n",
       "      <td>tlg0005</td>\n",
       "      <td>Theocritus</td>\n",
       "      <td></td>\n",
       "      <td>-3.0</td>\n",
       "      <td>3</td>\n",
       "      <td>21011</td>\n",
       "    </tr>\n",
       "    <tr>\n",
       "      <th>4</th>\n",
       "      <td>tlg0006</td>\n",
       "      <td>Euripides</td>\n",
       "      <td>pagan</td>\n",
       "      <td>-4.5</td>\n",
       "      <td>17</td>\n",
       "      <td>134129</td>\n",
       "    </tr>\n",
       "  </tbody>\n",
       "</table>\n",
       "</div>"
      ],
      "text/plain": [
       "  author id                name provenience  date  N of works  N of words\n",
       "0   tlg0001  Apollonius Rhodius       pagan  -2.5           1       38822\n",
       "1   tlg0003          Thucydides       pagan  -4.5           1      150118\n",
       "2   tlg0004   Diogenes Laertius               2.5           1      110763\n",
       "3   tlg0005          Theocritus              -3.0           3       21011\n",
       "4   tlg0006           Euripides       pagan  -4.5          17      134129"
      ]
     },
     "execution_count": 23,
     "metadata": {},
     "output_type": "execute_result"
    }
   ],
   "source": [
    "authors_df = pd.DataFrame(authors)\n",
    "authors_df.columns = [\"author id\", \"name\", \"provenience\", \"date\", \"N of works\", \"N of words\"]\n",
    "authors_df.head(5)"
   ]
  },
  {
   "cell_type": "code",
   "execution_count": 60,
   "metadata": {
    "colab": {
     "base_uri": "https://localhost:8080/",
     "height": 34
    },
    "colab_type": "code",
    "executionInfo": {
     "elapsed": 1787,
     "status": "ok",
     "timestamp": 1588779646410,
     "user": {
      "displayName": "Vojtěch Kaše",
      "photoUrl": "https://lh3.googleusercontent.com/a-/AOh14Ggz3jS9e7I3GdIEbyBKFtqr9tPdNCwyLBEJwbK8cw=s64",
      "userId": "01399835024022498543"
     },
     "user_tz": -120
    },
    "id": "Qr7BNJ97e3wn",
    "outputId": "c7cfe625-6cd9-44a3-df39-1fcec0174c46"
   },
   "outputs": [
    {
     "data": {
      "text/plain": [
       "274"
      ]
     },
     "execution_count": 60,
     "metadata": {},
     "output_type": "execute_result"
    }
   ],
   "source": [
    "len(authors_df)"
   ]
  },
  {
   "cell_type": "code",
   "execution_count": 172,
   "metadata": {
    "colab": {},
    "colab_type": "code",
    "id": "JVix67VpyJKB"
   },
   "outputs": [],
   "source": [
    "# set_with_dataframe(AGT_overview.add_worksheet(\"authors_overview_20201027\", rows=1, cols=1), authors_df)"
   ]
  },
  {
   "cell_type": "markdown",
   "metadata": {
    "colab_type": "text",
    "id": "zht1c6MpiA32"
   },
   "source": [
    "# Wordcounts overview"
   ]
  },
  {
   "cell_type": "code",
   "execution_count": 24,
   "metadata": {},
   "outputs": [
    {
     "data": {
      "text/plain": [
       "[-7.5,\n",
       " -7.0,\n",
       " -6.5,\n",
       " -6.0,\n",
       " -5.5,\n",
       " -5.0,\n",
       " -4.5,\n",
       " -4.0,\n",
       " -3.5,\n",
       " -3.0,\n",
       " -2.5,\n",
       " -2.0,\n",
       " -1.5,\n",
       " -1.0,\n",
       " -0.5,\n",
       " 0.0,\n",
       " 0.5,\n",
       " 1.0,\n",
       " 1.5,\n",
       " 2.0,\n",
       " 2.5,\n",
       " 3.0,\n",
       " 3.5]"
      ]
     },
     "execution_count": 24,
     "metadata": {},
     "output_type": "execute_result"
    }
   ],
   "source": [
    "dates"
   ]
  },
  {
   "cell_type": "code",
   "execution_count": 25,
   "metadata": {},
   "outputs": [],
   "source": [
    "def date_avr_to_string(date):\n",
    "    if str(date)[-1]==\"5\":\n",
    "        date_number = str(int(abs(date) + 0.5))\n",
    "       \n",
    "    else: \n",
    "        if date < 0:\n",
    "            date_number = str(int(abs(date) + 1))  + \"/\" + str(int(abs(date)))\n",
    "        else: \n",
    "            date_number = str(int(abs(date)))  + \"/\" + str(int(abs(date) + 1))\n",
    "    if date < 0: date_string = date_number + \" BCE\"\n",
    "    else: date_string = date_number + \" CE\"\n",
    "    if date == 0.0:\n",
    "        date_string = \"1 BCE/1 CE\"\n",
    "    return date_string"
   ]
  },
  {
   "cell_type": "code",
   "execution_count": 26,
   "metadata": {},
   "outputs": [
    {
     "data": {
      "text/html": [
       "<div>\n",
       "<style scoped>\n",
       "    .dataframe tbody tr th:only-of-type {\n",
       "        vertical-align: middle;\n",
       "    }\n",
       "\n",
       "    .dataframe tbody tr th {\n",
       "        vertical-align: top;\n",
       "    }\n",
       "\n",
       "    .dataframe thead th {\n",
       "        text-align: right;\n",
       "    }\n",
       "</style>\n",
       "<table border=\"1\" class=\"dataframe\">\n",
       "  <thead>\n",
       "    <tr style=\"text-align: right;\">\n",
       "      <th></th>\n",
       "      <th>date_string</th>\n",
       "      <th>column</th>\n",
       "      <th>value</th>\n",
       "      <th>wordcount</th>\n",
       "      <th>sentences</th>\n",
       "      <th>wordcount_christian</th>\n",
       "      <th>wordcount_pagan</th>\n",
       "      <th>doccount</th>\n",
       "    </tr>\n",
       "  </thead>\n",
       "  <tbody>\n",
       "    <tr>\n",
       "      <th>0</th>\n",
       "      <td>8 BCE</td>\n",
       "      <td>date_avr</td>\n",
       "      <td>-7.5</td>\n",
       "      <td>199822</td>\n",
       "      <td>15216</td>\n",
       "      <td>0</td>\n",
       "      <td>199822</td>\n",
       "      <td>3</td>\n",
       "    </tr>\n",
       "    <tr>\n",
       "      <th>1</th>\n",
       "      <td>8/7 BCE</td>\n",
       "      <td>date_avr</td>\n",
       "      <td>-7.0</td>\n",
       "      <td>16193</td>\n",
       "      <td>1183</td>\n",
       "      <td>0</td>\n",
       "      <td>16193</td>\n",
       "      <td>3</td>\n",
       "    </tr>\n",
       "    <tr>\n",
       "      <th>2</th>\n",
       "      <td>7 BCE</td>\n",
       "      <td>date_avr</td>\n",
       "      <td>-6.5</td>\n",
       "      <td>144</td>\n",
       "      <td>13</td>\n",
       "      <td>0</td>\n",
       "      <td>144</td>\n",
       "      <td>1</td>\n",
       "    </tr>\n",
       "    <tr>\n",
       "      <th>3</th>\n",
       "      <td>7/6 BCE</td>\n",
       "      <td>date_avr</td>\n",
       "      <td>-6.0</td>\n",
       "      <td>9268</td>\n",
       "      <td>699</td>\n",
       "      <td>0</td>\n",
       "      <td>9268</td>\n",
       "      <td>3</td>\n",
       "    </tr>\n",
       "    <tr>\n",
       "      <th>4</th>\n",
       "      <td>6 BCE</td>\n",
       "      <td>date_avr</td>\n",
       "      <td>-5.5</td>\n",
       "      <td>39711</td>\n",
       "      <td>3391</td>\n",
       "      <td>0</td>\n",
       "      <td>39711</td>\n",
       "      <td>2</td>\n",
       "    </tr>\n",
       "    <tr>\n",
       "      <th>5</th>\n",
       "      <td>6/5 BCE</td>\n",
       "      <td>date_avr</td>\n",
       "      <td>-5.0</td>\n",
       "      <td>66272</td>\n",
       "      <td>6059</td>\n",
       "      <td>0</td>\n",
       "      <td>66272</td>\n",
       "      <td>14</td>\n",
       "    </tr>\n",
       "    <tr>\n",
       "      <th>6</th>\n",
       "      <td>5 BCE</td>\n",
       "      <td>date_avr</td>\n",
       "      <td>-4.5</td>\n",
       "      <td>558265</td>\n",
       "      <td>39854</td>\n",
       "      <td>0</td>\n",
       "      <td>558265</td>\n",
       "      <td>35</td>\n",
       "    </tr>\n",
       "    <tr>\n",
       "      <th>7</th>\n",
       "      <td>5/4 BCE</td>\n",
       "      <td>date_avr</td>\n",
       "      <td>-4.0</td>\n",
       "      <td>1557973</td>\n",
       "      <td>122693</td>\n",
       "      <td>0</td>\n",
       "      <td>1557973</td>\n",
       "      <td>197</td>\n",
       "    </tr>\n",
       "    <tr>\n",
       "      <th>8</th>\n",
       "      <td>4 BCE</td>\n",
       "      <td>date_avr</td>\n",
       "      <td>-3.5</td>\n",
       "      <td>1278461</td>\n",
       "      <td>87478</td>\n",
       "      <td>0</td>\n",
       "      <td>1278461</td>\n",
       "      <td>121</td>\n",
       "    </tr>\n",
       "    <tr>\n",
       "      <th>9</th>\n",
       "      <td>4/3 BCE</td>\n",
       "      <td>date_avr</td>\n",
       "      <td>-3.0</td>\n",
       "      <td>207682</td>\n",
       "      <td>24391</td>\n",
       "      <td>0</td>\n",
       "      <td>207682</td>\n",
       "      <td>28</td>\n",
       "    </tr>\n",
       "    <tr>\n",
       "      <th>10</th>\n",
       "      <td>3 BCE</td>\n",
       "      <td>date_avr</td>\n",
       "      <td>-2.5</td>\n",
       "      <td>502539</td>\n",
       "      <td>45279</td>\n",
       "      <td>0</td>\n",
       "      <td>502539</td>\n",
       "      <td>27</td>\n",
       "    </tr>\n",
       "    <tr>\n",
       "      <th>11</th>\n",
       "      <td>3/2 BCE</td>\n",
       "      <td>date_avr</td>\n",
       "      <td>-2.0</td>\n",
       "      <td>380497</td>\n",
       "      <td>24850</td>\n",
       "      <td>0</td>\n",
       "      <td>380497</td>\n",
       "      <td>2</td>\n",
       "    </tr>\n",
       "    <tr>\n",
       "      <th>12</th>\n",
       "      <td>2 BCE</td>\n",
       "      <td>date_avr</td>\n",
       "      <td>-1.5</td>\n",
       "      <td>62724</td>\n",
       "      <td>5196</td>\n",
       "      <td>0</td>\n",
       "      <td>62724</td>\n",
       "      <td>11</td>\n",
       "    </tr>\n",
       "    <tr>\n",
       "      <th>13</th>\n",
       "      <td>2/1 BCE</td>\n",
       "      <td>date_avr</td>\n",
       "      <td>-1.0</td>\n",
       "      <td>90545</td>\n",
       "      <td>22702</td>\n",
       "      <td>0</td>\n",
       "      <td>90545</td>\n",
       "      <td>5</td>\n",
       "    </tr>\n",
       "    <tr>\n",
       "      <th>14</th>\n",
       "      <td>1 BCE</td>\n",
       "      <td>date_avr</td>\n",
       "      <td>-0.5</td>\n",
       "      <td>616854</td>\n",
       "      <td>32197</td>\n",
       "      <td>0</td>\n",
       "      <td>616854</td>\n",
       "      <td>23</td>\n",
       "    </tr>\n",
       "    <tr>\n",
       "      <th>15</th>\n",
       "      <td>1 BCE/1 CE</td>\n",
       "      <td>date_avr</td>\n",
       "      <td>0.0</td>\n",
       "      <td>947548</td>\n",
       "      <td>100245</td>\n",
       "      <td>0</td>\n",
       "      <td>947548</td>\n",
       "      <td>34</td>\n",
       "    </tr>\n",
       "    <tr>\n",
       "      <th>16</th>\n",
       "      <td>1 CE</td>\n",
       "      <td>date_avr</td>\n",
       "      <td>0.5</td>\n",
       "      <td>1017018</td>\n",
       "      <td>113521</td>\n",
       "      <td>151723</td>\n",
       "      <td>865295</td>\n",
       "      <td>58</td>\n",
       "    </tr>\n",
       "    <tr>\n",
       "      <th>17</th>\n",
       "      <td>1/2 CE</td>\n",
       "      <td>date_avr</td>\n",
       "      <td>1.0</td>\n",
       "      <td>1786397</td>\n",
       "      <td>107610</td>\n",
       "      <td>17640</td>\n",
       "      <td>1768757</td>\n",
       "      <td>185</td>\n",
       "    </tr>\n",
       "    <tr>\n",
       "      <th>18</th>\n",
       "      <td>2 CE</td>\n",
       "      <td>date_avr</td>\n",
       "      <td>1.5</td>\n",
       "      <td>5010464</td>\n",
       "      <td>409203</td>\n",
       "      <td>302273</td>\n",
       "      <td>4708191</td>\n",
       "      <td>311</td>\n",
       "    </tr>\n",
       "    <tr>\n",
       "      <th>19</th>\n",
       "      <td>2/3 CE</td>\n",
       "      <td>date_avr</td>\n",
       "      <td>2.0</td>\n",
       "      <td>3682053</td>\n",
       "      <td>337731</td>\n",
       "      <td>1167185</td>\n",
       "      <td>2514868</td>\n",
       "      <td>90</td>\n",
       "    </tr>\n",
       "    <tr>\n",
       "      <th>20</th>\n",
       "      <td>3 CE</td>\n",
       "      <td>date_avr</td>\n",
       "      <td>2.5</td>\n",
       "      <td>758996</td>\n",
       "      <td>69566</td>\n",
       "      <td>69987</td>\n",
       "      <td>689009</td>\n",
       "      <td>24</td>\n",
       "    </tr>\n",
       "    <tr>\n",
       "      <th>21</th>\n",
       "      <td>3/4 CE</td>\n",
       "      <td>date_avr</td>\n",
       "      <td>3.0</td>\n",
       "      <td>198023</td>\n",
       "      <td>16747</td>\n",
       "      <td>2791</td>\n",
       "      <td>195232</td>\n",
       "      <td>17</td>\n",
       "    </tr>\n",
       "    <tr>\n",
       "      <th>22</th>\n",
       "      <td>4 CE</td>\n",
       "      <td>date_avr</td>\n",
       "      <td>3.5</td>\n",
       "      <td>2098625</td>\n",
       "      <td>198451</td>\n",
       "      <td>1264045</td>\n",
       "      <td>834580</td>\n",
       "      <td>61</td>\n",
       "    </tr>\n",
       "  </tbody>\n",
       "</table>\n",
       "</div>"
      ],
      "text/plain": [
       "   date_string    column  value  wordcount  sentences  wordcount_christian  \\\n",
       "0        8 BCE  date_avr   -7.5     199822      15216                    0   \n",
       "1      8/7 BCE  date_avr   -7.0      16193       1183                    0   \n",
       "2        7 BCE  date_avr   -6.5        144         13                    0   \n",
       "3      7/6 BCE  date_avr   -6.0       9268        699                    0   \n",
       "4        6 BCE  date_avr   -5.5      39711       3391                    0   \n",
       "5      6/5 BCE  date_avr   -5.0      66272       6059                    0   \n",
       "6        5 BCE  date_avr   -4.5     558265      39854                    0   \n",
       "7      5/4 BCE  date_avr   -4.0    1557973     122693                    0   \n",
       "8        4 BCE  date_avr   -3.5    1278461      87478                    0   \n",
       "9      4/3 BCE  date_avr   -3.0     207682      24391                    0   \n",
       "10       3 BCE  date_avr   -2.5     502539      45279                    0   \n",
       "11     3/2 BCE  date_avr   -2.0     380497      24850                    0   \n",
       "12       2 BCE  date_avr   -1.5      62724       5196                    0   \n",
       "13     2/1 BCE  date_avr   -1.0      90545      22702                    0   \n",
       "14       1 BCE  date_avr   -0.5     616854      32197                    0   \n",
       "15  1 BCE/1 CE  date_avr    0.0     947548     100245                    0   \n",
       "16        1 CE  date_avr    0.5    1017018     113521               151723   \n",
       "17      1/2 CE  date_avr    1.0    1786397     107610                17640   \n",
       "18        2 CE  date_avr    1.5    5010464     409203               302273   \n",
       "19      2/3 CE  date_avr    2.0    3682053     337731              1167185   \n",
       "20        3 CE  date_avr    2.5     758996      69566                69987   \n",
       "21      3/4 CE  date_avr    3.0     198023      16747                 2791   \n",
       "22        4 CE  date_avr    3.5    2098625     198451              1264045   \n",
       "\n",
       "    wordcount_pagan  doccount  \n",
       "0            199822         3  \n",
       "1             16193         3  \n",
       "2               144         1  \n",
       "3              9268         3  \n",
       "4             39711         2  \n",
       "5             66272        14  \n",
       "6            558265        35  \n",
       "7           1557973       197  \n",
       "8           1278461       121  \n",
       "9            207682        28  \n",
       "10           502539        27  \n",
       "11           380497         2  \n",
       "12            62724        11  \n",
       "13            90545         5  \n",
       "14           616854        23  \n",
       "15           947548        34  \n",
       "16           865295        58  \n",
       "17          1768757       185  \n",
       "18          4708191       311  \n",
       "19          2514868        90  \n",
       "20           689009        24  \n",
       "21           195232        17  \n",
       "22           834580        61  "
      ]
     },
     "execution_count": 26,
     "metadata": {},
     "output_type": "execute_result"
    }
   ],
   "source": [
    "subselections = []\n",
    "for date in dates:\n",
    "    subselection = AGT[AGT[\"date_avr\"]== date]\n",
    "    wordcount_christian = AGT[(AGT[\"date_avr\"]== date) & (AGT[\"provenience\"]==\"christian\")][\"wordcount\"].sum()\n",
    "    wordcount_pagan = AGT[(AGT[\"date_avr\"]== date) & (AGT[\"provenience\"]!=\"christian\")][\"wordcount\"].sum()\n",
    "    wordcount = subselection[\"wordcount\"].sum()\n",
    "    sentences = subselection[\"lemmatized_sentences\"].apply(lambda x: len(x)).sum()\n",
    "    doccount = len(subselection)\n",
    "    date_string = date_avr_to_string(date)\n",
    "    subselection_dict = {\"date_string\" : date_string, \"column\" : \"date_avr\", \"value\" : date, \"wordcount\" : wordcount, \"sentences\" : sentences, \"wordcount_christian\" : wordcount_christian, \"wordcount_pagan\" : wordcount_pagan, \"doccount\": doccount}\n",
    "    subselections.append(subselection_dict)\n",
    "subselections_df = pd.DataFrame(subselections)\n",
    "subselections_df"
   ]
  },
  {
   "cell_type": "code",
   "execution_count": 27,
   "metadata": {},
   "outputs": [
    {
     "name": "stderr",
     "output_type": "stream",
     "text": [
      "/srv/conda/envs/notebook/lib/python3.7/site-packages/ipykernel_launcher.py:9: UserWarning: FixedFormatter should only be used together with FixedLocator\n",
      "  if __name__ == '__main__':\n"
     ]
    },
    {
     "data": {
      "text/plain": [
       "Text(0.5, 1.0, 'Corpus overview')"
      ]
     },
     "execution_count": 27,
     "metadata": {},
     "output_type": "execute_result"
    },
    {
     "data": {
      "image/png": "[encoded data removed]",
      "text/plain": [
       "<Figure size 864x432 with 1 Axes>"
      ]
     },
     "metadata": {
      "needs_background": "light"
     },
     "output_type": "display_data"
    }
   ],
   "source": [
    "fig, ax = plt.subplots(figsize=(12, 6), tight_layout=True)\n",
    "#subselections_df = subselections_df.iloc[::-1]\n",
    "ax.bar(subselections_df[\"date_string\"], subselections_df[\"wordcount_christian\"], color=\"tab:orange\", label=\"Christian\")\n",
    "ax.bar(subselections_df[\"date_string\"], subselections_df[\"wordcount_pagan\"], bottom=subselections_df[\"wordcount_christian\"], label=\"non-Christian\", color=\"tab:blue\")\n",
    "\n",
    "\n",
    "ax.set_yticks(range(1000000,6000000, 1000000))\n",
    "ax.set_yticklabels(str(n) + \"M\" for n in range(1,6))\n",
    "ax.set_xticklabels(subselections_df[\"date_string\"], rotation=90)\n",
    "ax.legend()\n",
    "plt.title(\"Corpus overview\")"
   ]
  },
  {
   "cell_type": "code",
   "execution_count": 28,
   "metadata": {},
   "outputs": [
    {
     "name": "stdout",
     "output_type": "stream",
     "text": [
      "Your <class 'matplotlib.figure.Figure'> object has been succefully written as \"https://sciencedata.dk/files/SDAM_root/SDAM_data/AGT/AGT_corpus_overview_20201119.png\"\n"
     ]
    }
   ],
   "source": [
    "sddk.write_file(\"SDAM_data/AGT/AGT_corpus_overview_20201119.png\", fig, conf)"
   ]
  },
  {
   "cell_type": "code",
   "execution_count": 29,
   "metadata": {},
   "outputs": [],
   "source": [
    "subcorpora_dict = {# main subcorpora\n",
    "    \"Archaic (8-6 BCE)\" : AGT[(AGT[\"provenience\"]==\"pagan\") & (AGT[\"date_avr\"] <= -5.5)],\n",
    "    \"Classical (5-4 BCE)\" : AGT[(AGT[\"provenience\"]==\"pagan\") & (AGT[\"date_avr\"].between(-5, -3))],\n",
    "    \"Non-Christian (1-4 CE)\" : AGT[(AGT[\"date_avr\"].between(0, 4)) & (AGT[\"provenience\"]==\"pagan\")],\n",
    "    \"Christian (1-4 CE)\" : AGT[(AGT[\"date_avr\"] < 4) & (AGT[\"provenience\"]==\"christian\")]}\n",
    "   \n",
    "subcorpora_dict_other = {\n",
    "    # other relevant subcorpora (some overlaps)\n",
    "    \"Pagan (8th c. BCE - 4th c. CE)\" : AGT[(AGT[\"provenience\"]==\"pagan\") & (AGT[\"date_avr\"] < 4)],\n",
    "    \"Pagan (1st - 4th c. CE)\" : AGT[(AGT[\"date_avr\"].between(0, 4)) & (AGT[\"provenience\"]==\"pagan\")],\n",
    "    \"Septuagint\" : AGT[AGT[\"author_id\"]==\"tlg0527\"],\n",
    "    \"Philo of Alexandria\" : AGT[AGT[\"author_id\"]==\"tlg0018\"],\n",
    "    \"Titus Flavius Josephus\" : AGT[AGT[\"author_id\"]==\"tlg0526\"],\n",
    "    \"Paul of Tarsus\" : AGT[AGT[\"author_id\"]==\"tlg0031paul\"],\n",
    "    \"New Testament\" : AGT[AGT[\"author_id\"].str.startswith(\"tlg0031\")],\n",
    "    \"Christian (1st - 4th c. CE)\" : AGT[(AGT[\"date_avr\"] < 4) & (AGT[\"provenience\"]==\"christian\")]}"
   ]
  },
  {
   "cell_type": "code",
   "execution_count": 30,
   "metadata": {},
   "outputs": [
    {
     "data": {
      "text/html": [
       "<div>\n",
       "<style scoped>\n",
       "    .dataframe tbody tr th:only-of-type {\n",
       "        vertical-align: middle;\n",
       "    }\n",
       "\n",
       "    .dataframe tbody tr th {\n",
       "        vertical-align: top;\n",
       "    }\n",
       "\n",
       "    .dataframe thead th {\n",
       "        text-align: right;\n",
       "    }\n",
       "</style>\n",
       "<table border=\"1\" class=\"dataframe\">\n",
       "  <thead>\n",
       "    <tr style=\"text-align: right;\">\n",
       "      <th></th>\n",
       "      <th>label</th>\n",
       "      <th>wordcount</th>\n",
       "      <th>doccount</th>\n",
       "      <th>sentences</th>\n",
       "    </tr>\n",
       "  </thead>\n",
       "  <tbody>\n",
       "    <tr>\n",
       "      <th>0</th>\n",
       "      <td>Archaic (8-6 BCE)</td>\n",
       "      <td>264919</td>\n",
       "      <td>11</td>\n",
       "      <td>20444</td>\n",
       "    </tr>\n",
       "    <tr>\n",
       "      <th>1</th>\n",
       "      <td>Classical (5-4 BCE)</td>\n",
       "      <td>3411906</td>\n",
       "      <td>338</td>\n",
       "      <td>257156</td>\n",
       "    </tr>\n",
       "    <tr>\n",
       "      <th>2</th>\n",
       "      <td>Non-Christian (1-4 CE)</td>\n",
       "      <td>8692448</td>\n",
       "      <td>411</td>\n",
       "      <td>723956</td>\n",
       "    </tr>\n",
       "    <tr>\n",
       "      <th>3</th>\n",
       "      <td>Christian (1-4 CE)</td>\n",
       "      <td>2975644</td>\n",
       "      <td>131</td>\n",
       "      <td>291084</td>\n",
       "    </tr>\n",
       "  </tbody>\n",
       "</table>\n",
       "</div>"
      ],
      "text/plain": [
       "                    label  wordcount  doccount  sentences\n",
       "0       Archaic (8-6 BCE)     264919        11      20444\n",
       "1     Classical (5-4 BCE)    3411906       338     257156\n",
       "2  Non-Christian (1-4 CE)    8692448       411     723956\n",
       "3      Christian (1-4 CE)    2975644       131     291084"
      ]
     },
     "execution_count": 30,
     "metadata": {},
     "output_type": "execute_result"
    }
   ],
   "source": [
    "subselections = []\n",
    "for key in subcorpora_dict.keys():\n",
    "    subselection = subcorpora_dict[key]\n",
    "    subselection_dict = {}\n",
    "    wordcount = subselection[\"wordcount\"].sum()\n",
    "    doccount = len(subselection)\n",
    "    sentences = subselection[\"lemmatized_sentences\"].apply(lambda x: len(x)).sum()\n",
    "    subselection_dict.update({\"label\" : key, \"wordcount\" : wordcount, \"doccount\" : doccount, \"sentences\" : sentences})\n",
    "    subselections.append(subselection_dict)\n",
    "subselections_df = pd.DataFrame(subselections)\n",
    "subselections_df"
   ]
  },
  {
   "cell_type": "code",
   "execution_count": 31,
   "metadata": {},
   "outputs": [
    {
     "name": "stdout",
     "output_type": "stream",
     "text": [
      "Your <class 'pandas.core.frame.DataFrame'> object has been succefully written as \"https://sciencedata.dk/files/SDAM_root/SDAM_data/AGT/AGT_20201119.json\"\n"
     ]
    }
   ],
   "source": [
    "sddk.write_file(\"SDAM_data/AGT/AGT_20201119.json\", AGT, conf)"
   ]
  },
  {
   "cell_type": "code",
   "execution_count": null,
   "metadata": {},
   "outputs": [],
   "source": []
  }
 ],
 "metadata": {
  "colab": {
   "authorship_tag": "ABX9TyM+taOvEihjuZ2k0d8Zjz/M",
   "collapsed_sections": [],
   "name": "2_METADATA&LEMMATIZATION&OVERVIEW.ipynb",
   "provenance": [],
   "toc_visible": true
  },
  "kernelspec": {
   "display_name": "Python 3",
   "language": "python",
   "name": "python3"
  },
  "language_info": {
   "codemirror_mode": {
    "name": "ipython",
    "version": 3
   },
   "file_extension": ".py",
   "mimetype": "text/x-python",
   "name": "python",
   "nbconvert_exporter": "python",
   "pygments_lexer": "ipython3",
   "version": "3.6.9"
  }
 },
 "nbformat": 4,
 "nbformat_minor": 4
}
