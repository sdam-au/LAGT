{
 "cells": [
  {
   "cell_type": "code",
   "execution_count": 1,
   "metadata": {
    "colab": {
     "base_uri": "https://localhost:8080/",
     "height": 360
    },
    "colab_type": "code",
    "executionInfo": {
     "elapsed": 10865,
     "status": "ok",
     "timestamp": 1588771886766,
     "user": {
      "displayName": "Vojtěch Kaše",
      "photoUrl": "https://lh3.googleusercontent.com/a-/AOh14Ggz3jS9e7I3GdIEbyBKFtqr9tPdNCwyLBEJwbK8cw=s64",
      "userId": "01399835024022498543"
     },
     "user_tz": -120
    },
    "id": "jtnJX3890M1i",
    "outputId": "b24132ab-b4a3-49bf-eea7-a2a3cb1be618",
    "ExecuteTime": {
     "end_time": "2024-01-04T13:25:19.264749Z",
     "start_time": "2024-01-04T13:25:16.127907Z"
    }
   },
   "outputs": [],
   "source": [
    "### PREREQUISTIES\n",
    "import pandas as pd\n",
    "from bs4 import BeautifulSoup\n",
    "import random\n",
    "import requests\n",
    "import getpass\n",
    "import time\n",
    "from github import Github\n",
    "import sddk"
   ]
  },
  {
   "cell_type": "code",
   "execution_count": 9,
   "metadata": {
    "colab": {
     "base_uri": "https://localhost:8080/",
     "height": 85
    },
    "colab_type": "code",
    "executionInfo": {
     "elapsed": 25246,
     "status": "ok",
     "timestamp": 1588771902033,
     "user": {
      "displayName": "Vojtěch Kaše",
      "photoUrl": "https://lh3.googleusercontent.com/a-/AOh14Ggz3jS9e7I3GdIEbyBKFtqr9tPdNCwyLBEJwbK8cw=s64",
      "userId": "01399835024022498543"
     },
     "user_tz": -120
    },
    "id": "s2visJHW0UWr",
    "outputId": "ea8911bc-5ded-4177-8809-05d99325c712",
    "ExecuteTime": {
     "end_time": "2024-01-04T13:42:24.250077Z",
     "start_time": "2024-01-04T13:42:14.557811Z"
    }
   },
   "outputs": [
    {
     "name": "stdout",
     "output_type": "stream",
     "text": [
      "connection with shared folder established with you as its ordinary user\n",
      "endpoint variable has been configured to: https://sciencedata.dk/sharingout/648597%40au.dk/SDAM_root/\n"
     ]
    }
   ],
   "source": [
    "s = sddk.cloudSession(\"sciencedata.dk\", \"SDAM_root\", \"648597@au.dk\")"
   ]
  },
  {
   "cell_type": "markdown",
   "metadata": {
    "colab_type": "text",
    "id": "cMhyCDogm5xR"
   },
   "source": [
    "# Get paths and filenames for a GitHub repo..."
   ]
  },
  {
   "cell_type": "markdown",
   "source": [
    "We will extract our text files directly from github, without cloning the repositories containing the texts."
   ],
   "metadata": {
    "collapsed": false
   }
  },
  {
   "cell_type": "code",
   "execution_count": 3,
   "metadata": {
    "colab": {
     "base_uri": "https://localhost:8080/",
     "height": 34
    },
    "colab_type": "code",
    "executionInfo": {
     "elapsed": 7748,
     "status": "ok",
     "timestamp": 1588078093297,
     "user": {
      "displayName": "Vojtěch Kaše",
      "photoUrl": "https://lh3.googleusercontent.com/a-/AOh14Ggz3jS9e7I3GdIEbyBKFtqr9tPdNCwyLBEJwbK8cw=s64",
      "userId": "01399835024022498543"
     },
     "user_tz": -120
    },
    "id": "Hqc0Zy0I_Tbx",
    "outputId": "2be49e78-036e-4866-996a-6832ef5eb508",
    "ExecuteTime": {
     "end_time": "2024-01-04T13:29:37.297841Z",
     "start_time": "2024-01-04T13:29:29.608578Z"
    }
   },
   "outputs": [],
   "source": [
    "### make a github authorization\n",
    "g = Github(\"kasev\", getpass.getpass(\"github password: \"))"
   ]
  },
  {
   "cell_type": "markdown",
   "source": [
    "We first go to `canonical-greekLit` repo from PerseusDO."
   ],
   "metadata": {
    "collapsed": false
   }
  },
  {
   "cell_type": "code",
   "execution_count": 4,
   "metadata": {
    "colab": {},
    "colab_type": "code",
    "id": "rDxgpYlHBKgm",
    "ExecuteTime": {
     "end_time": "2024-01-04T13:37:52.097727Z",
     "start_time": "2024-01-04T13:30:25.984809Z"
    }
   },
   "outputs": [
    {
     "name": "stdout",
     "output_type": "stream",
     "text": [
      "CPU times: user 3.98 s, sys: 466 ms, total: 4.44 s\n",
      "Wall time: 7min 26s\n"
     ]
    }
   ],
   "source": [
    "%%time\n",
    "### GET PATHS+NAMES OF ALL FILES OF INTEREST WITHIN A GITHUB REPO\n",
    "repo = g.get_user(\"PerseusDL\").get_repo(\"canonical-greekLit\" )\n",
    "paths_perseus = []\n",
    "contents = repo.get_contents(\"data\")\n",
    "while contents:\n",
    "  file_content = contents.pop(0)\n",
    "  if file_content.type == \"dir\":\n",
    "    contents.extend(repo.get_contents(file_content.path))\n",
    "  else:\n",
    "    try:\n",
    "      path_and_name = file_content.path\n",
    "      if \".xml\" in str(path_and_name):\n",
    "        if \"perseus-grc\" in str(path_and_name):\n",
    "          #print(path_and_name)\n",
    "          paths_perseus.append(str(path_and_name))\n",
    "    except: \n",
    "      pass"
   ]
  },
  {
   "cell_type": "code",
   "outputs": [
    {
     "data": {
      "text/plain": "810"
     },
     "execution_count": 5,
     "metadata": {},
     "output_type": "execute_result"
    }
   ],
   "source": [
    "len(paths_perseus)"
   ],
   "metadata": {
    "collapsed": false,
    "ExecuteTime": {
     "end_time": "2024-01-04T13:39:16.756367Z",
     "start_time": "2024-01-04T13:39:16.491023Z"
    }
   },
   "execution_count": 5
  },
  {
   "cell_type": "code",
   "outputs": [
    {
     "data": {
      "text/plain": "['data/tlg0001/tlg001/tlg0001.tlg001.perseus-grc2.xml',\n 'data/tlg0003/tlg001/tlg0003.tlg001.perseus-grc2.xml',\n 'data/tlg0004/tlg001/tlg0004.tlg001.perseus-grc2.xml',\n 'data/tlg0005/tlg001/tlg0005.tlg001.perseus-grc2.xml',\n 'data/tlg0005/tlg002/tlg0005.tlg002.perseus-grc2.xml']"
     },
     "execution_count": 8,
     "metadata": {},
     "output_type": "execute_result"
    }
   ],
   "source": [
    "paths_perseus[:5]"
   ],
   "metadata": {
    "collapsed": false,
    "ExecuteTime": {
     "end_time": "2024-01-04T13:42:00.361852Z",
     "start_time": "2024-01-04T13:42:00.064135Z"
    }
   },
   "execution_count": 8
  },
  {
   "cell_type": "code",
   "execution_count": 10,
   "metadata": {
    "colab": {
     "base_uri": "https://localhost:8080/",
     "height": 68
    },
    "colab_type": "code",
    "executionInfo": {
     "elapsed": 4895,
     "status": "ok",
     "timestamp": 1588078226203,
     "user": {
      "displayName": "Vojtěch Kaše",
      "photoUrl": "https://lh3.googleusercontent.com/a-/AOh14Ggz3jS9e7I3GdIEbyBKFtqr9tPdNCwyLBEJwbK8cw=s64",
      "userId": "01399835024022498543"
     },
     "user_tz": -120
    },
    "id": "rj7MB617jqK1",
    "outputId": "9ccd2740-f91e-46e7-9cc2-60d28ba34fc6",
    "ExecuteTime": {
     "end_time": "2024-01-04T13:42:47.722010Z",
     "start_time": "2024-01-04T13:42:46.012313Z"
    }
   },
   "outputs": [
    {
     "name": "stdout",
     "output_type": "stream",
     "text": [
      "Your <class 'list'> object has been succesfully written as \"https://sciencedata.dk/sharingout/648597%40au.dk/SDAM_root/SDAM_data/AGT/perseus_paths_20240104.json\"\n"
     ]
    }
   ],
   "source": [
    "s.write_file(\"SDAM_data/AGT/perseus_paths_20240104.json\", paths_perseus)"
   ]
  },
  {
   "cell_type": "code",
   "execution_count": 11,
   "metadata": {
    "colab": {},
    "colab_type": "code",
    "id": "WSOqhfhkjsoT",
    "ExecuteTime": {
     "end_time": "2024-01-04T13:54:00.421604Z",
     "start_time": "2024-01-04T13:43:07.378409Z"
    }
   },
   "outputs": [
    {
     "name": "stdout",
     "output_type": "stream",
     "text": [
      "CPU times: user 6.52 s, sys: 752 ms, total: 7.27 s\n",
      "Wall time: 10min 53s\n"
     ]
    }
   ],
   "source": [
    "%%time\n",
    "repo = g.get_user(\"OpenGreekAndLatin\").get_repo(\"First1KGreek\" )\n",
    "paths_ogl = []\n",
    "contents = repo.get_contents(\"data\")\n",
    "while contents:\n",
    "  file_content = contents.pop(0)\n",
    "  if file_content.type == \"dir\":\n",
    "    contents.extend(repo.get_contents(file_content.path))\n",
    "  else:\n",
    "    try:\n",
    "      path_and_name = file_content.path\n",
    "      if \".xml\" in str(path_and_name):\n",
    "        if \"__cts__\" not in str(path_and_name):    \n",
    "          paths_ogl.append(str(path_and_name))\n",
    "    except: \n",
    "      pass"
   ]
  },
  {
   "cell_type": "code",
   "execution_count": 13,
   "metadata": {
    "colab": {
     "base_uri": "https://localhost:8080/",
     "height": 187
    },
    "colab_type": "code",
    "executionInfo": {
     "elapsed": 634,
     "status": "ok",
     "timestamp": 1588078489862,
     "user": {
      "displayName": "Vojtěch Kaše",
      "photoUrl": "https://lh3.googleusercontent.com/a-/AOh14Ggz3jS9e7I3GdIEbyBKFtqr9tPdNCwyLBEJwbK8cw=s64",
      "userId": "01399835024022498543"
     },
     "user_tz": -120
    },
    "id": "CTJviYbr2qBL",
    "outputId": "aa73b40e-786e-4c7b-9727-46b6291a107d",
    "ExecuteTime": {
     "end_time": "2024-01-04T13:56:06.830402Z",
     "start_time": "2024-01-04T13:56:06.797274Z"
    }
   },
   "outputs": [
    {
     "data": {
      "text/plain": "['data/ggm0001/ggm001/ggm0001.ggm001.1st1K-grc1.xml',\n 'data/heb0001/heb010/heb0001.heb010.1st1K-eng1.xml',\n 'data/ogl0001/ogl001/ogl0001.ogl001.1st1K-grc1.xml',\n 'data/stoa0033a/tlg028/stoa0033a.tlg028.1st1K-grc1.xml',\n 'data/stoa0033a/tlg043/stoa0033a.tlg043.1st1K-grc1.xml']"
     },
     "execution_count": 13,
     "metadata": {},
     "output_type": "execute_result"
    }
   ],
   "source": [
    "paths_ogl[:5]"
   ]
  },
  {
   "cell_type": "code",
   "execution_count": 15,
   "metadata": {
    "colab": {
     "base_uri": "https://localhost:8080/",
     "height": 68
    },
    "colab_type": "code",
    "executionInfo": {
     "elapsed": 4892,
     "status": "ok",
     "timestamp": 1588078499363,
     "user": {
      "displayName": "Vojtěch Kaše",
      "photoUrl": "https://lh3.googleusercontent.com/a-/AOh14Ggz3jS9e7I3GdIEbyBKFtqr9tPdNCwyLBEJwbK8cw=s64",
      "userId": "01399835024022498543"
     },
     "user_tz": -120
    },
    "id": "U2oxhIaE2Czh",
    "outputId": "62929d13-d1db-4503-baba-03d799d08e5b",
    "ExecuteTime": {
     "end_time": "2024-01-04T13:56:27.636041Z",
     "start_time": "2024-01-04T13:56:25.929090Z"
    }
   },
   "outputs": [
    {
     "name": "stdout",
     "output_type": "stream",
     "text": [
      "Your <class 'list'> object has been succesfully written as \"https://sciencedata.dk/sharingout/648597%40au.dk/SDAM_root/SDAM_data/AGT/ogl_paths_20240104.json\"\n"
     ]
    }
   ],
   "source": [
    "s.write_file(\"SDAM_data/AGT/ogl_paths_20240104.json\", paths_ogl)"
   ]
  },
  {
   "cell_type": "markdown",
   "metadata": {
    "colab_type": "text",
    "id": "wiZntjXRmwcw"
   },
   "source": [
    "## Testing with individual texts from xml files"
   ]
  },
  {
   "cell_type": "code",
   "execution_count": 19,
   "metadata": {
    "ExecuteTime": {
     "end_time": "2024-01-04T13:57:13.822542Z",
     "start_time": "2024-01-04T13:57:13.554071Z"
    }
   },
   "outputs": [
    {
     "name": "stdout",
     "output_type": "stream",
     "text": [
      "<?xml version=\"1.0\" encoding=\"UTF-8\"?>\n",
      "<tei.2>\n",
      " <teiheader>\n",
      "  <filedesc>\n",
      "   <titlestmt>\n",
      "    <title>\n",
      "     Nicomachean Ethics\n",
      "    </title>\n",
      "    <title type=\"sub\">\n",
      "     Machine readable text\n",
      "    </title>\n",
      "    <author>\n",
      "     Aristotle\n",
      "    </author>\n",
      "    <editor>\n",
      "     J. Bywater\n",
      "    </editor>\n",
      "    <sponsor>\n",
      "     Perseus Project, Tufts University\n",
      "    </sponsor>\n",
      "    <principal>\n",
      "     Gregory Crane\n",
      "    </principal>\n",
      "    <respstmt>\n",
      "     <resp>\n",
      "      Prepared under the supervision of\n",
      "     </resp>\n",
      "     <name>\n",
      "      Lisa Cerrato\n",
      "     </name>\n",
      "     <name>\n",
      "      William Merrill\n",
      "     </name>\n",
      "     <name>\n",
      "      Elli Mylonas\n",
      "     </name>\n",
      "     <name>\n",
      "      David Smith\n",
      "     </name>\n",
      "    </respstmt>\n",
      "    <funder n=\"org:AnnCPB\">\n",
      "     The Annenberg CPB/Project\n",
      "    </funder>\n",
      "   </titlestmt>\n",
      "   <publicationstmt>\n",
      "    <publisher>\n",
      "     Trustees of Tufts University\n",
      "    </publisher>\n",
      "    <pubplace>\n",
      "     Medford, MA\n",
      "    </pubplace>\n",
      "    <authority>\n",
      "     Perseus Project\n",
      "    </authority>\n",
      "   </publicationstmt>\n",
      "   <sourcedesc>\n",
      "    <bibl>\n",
      "     <title>\n",
      "      ed. J. Bywater, Aristotle's Ethica Nicomachea\n",
      "     </title>\n",
      "     <publisher>\n",
      "      Oxford, Clarendon Press\n",
      "     </publisher>\n",
      "     <date>\n",
      "      1894\n",
      "     </date>\n",
      "    </bibl>\n",
      "   </sourcedesc>\n",
      "  </filedesc>\n",
      "  <encodingdesc>\n",
      "   <refsdecl n=\"CTS\">\n",
      "    <crefpattern matchpattern=\"(\\\\w+)\" replacementpattern=\"#xpath(/tei:TEI.2/tei:text/tei:body/tei:div[@n=\\'$1\\'])\">\n",
      "     <p>\n",
      "      This pointer pattern extracts bekker page\n",
      "     </p>\n",
      "    </crefpattern>\n",
      "   </refsdecl>\n",
      "   <refsdecl doctype=\"TEI.2\">\n",
      "    <state delim=\" \" n=\"chunk\" unit=\"bekker page\">\n",
      "    </state>\n",
      "    <state unit=\"bekker line\">\n",
      "    </state>\n",
      "   </refsdecl>\n",
      "  </encodingdesc>\n",
      "  <profiledesc>\n",
      "   <langusage>\n",
      "    <language id=\"greek\">\n",
      "     Greek\n",
      "    </language>\n",
      "    <language id=\"xgreek\">\n",
      "     transliterated Greek\n",
      "    </language>\n",
      "    <language id=\"la\">\n",
      "     Latin\n",
      "    </language>\n",
      "    <language id=\"en\">\n",
      "     English\n",
      "    </language>\n",
      "    <language id=\"de\">\n",
      "     German\n",
      "    </language>\n",
      "   </langusage>\n",
      "  </profiledesc>\n",
      "  <revisiondesc>\n",
      "   <change>\n",
      "    <date>\n",
      "     1992\n",
      "    </date>\n",
      "    <respstmt>\n",
      "     <name>\n",
      "      staff\n",
      "     </name>\n",
      "     <resp>\n",
      "      ed.\n",
      "     </resp>\n",
      "    </respstmt>\n",
      "    <item>\n",
      "     Text was scanned at St. Olaf Spring, 1992.\n",
      "    </item>\n",
      "   </change>\n",
      "   <change>\n",
      "    <date>\n",
      "     Spring 1993\n",
      "    </date>\n",
      "    <respstmt>\n",
      "     <name>\n",
      "      JN\n",
      "     </name>\n",
      "     <resp>\n",
      "      ed.\n",
      "     </resp>\n",
      "    </respstmt>\n",
      "    <item>\n",
      "     Tagged in conformance with Prose.g dtd.\n",
      "    </item>\n",
      "   </change>\n",
      "   <change>\n",
      "    <date>\n",
      "     24-Feb-00\n",
      "    </date>\n",
      "    <respstmt>\n",
      "     <name>\n",
      "      AEM\n",
      "     </name>\n",
      "     <resp>\n",
      "      ed.\n",
      "     </resp>\n",
      "    </respstmt>\n",
      "    <item>\n",
      "     convert to P3\n",
      "$Log: aristot.nic.eth_gk.xml,v $\n",
      "Revision 1.1  2011-01-01 21:59:46  gcrane\n",
      "QUOTE tags added\n",
      "DEL tags added\n",
      "ADD tags added\n",
      "GAP entities added\n",
      "\n",
      "Revision 1.3  2010/06/16 19:18:47  rsingh04\n",
      "cleaned up bad place tags in a few texts and cleaned up the document format\n",
      "\n",
      "Revision 1.2  2009/11/04 21:48:03  lcerrato\n",
      "fixed typo Aristot. Nic. Eth. 112\n"
     ]
    }
   ],
   "source": [
    "response = requests.get('https://raw.githubusercontent.com/PerseusDL/canonical-greekLit/master/data/tlg0086/tlg010/tlg0086.tlg010.perseus-grc1.xml')\n",
    "soup = BeautifulSoup(response.text, \"html.parser\")\n",
    "print(soup.prettify()[:3000])"
   ]
  },
  {
   "cell_type": "code",
   "execution_count": 21,
   "metadata": {
    "colab": {
     "base_uri": "https://localhost:8080/",
     "height": 34
    },
    "colab_type": "code",
    "executionInfo": {
     "elapsed": 536,
     "status": "ok",
     "timestamp": 1588078516850,
     "user": {
      "displayName": "Vojtěch Kaše",
      "photoUrl": "https://lh3.googleusercontent.com/a-/AOh14Ggz3jS9e7I3GdIEbyBKFtqr9tPdNCwyLBEJwbK8cw=s64",
      "userId": "01399835024022498543"
     },
     "user_tz": -120
    },
    "id": "qKbwzsmLesWM",
    "outputId": "84551b15-3cb9-4ae2-ff94-0215381cda58",
    "ExecuteTime": {
     "end_time": "2024-01-04T13:57:57.567949Z",
     "start_time": "2024-01-04T13:57:57.355444Z"
    }
   },
   "outputs": [
    {
     "data": {
      "text/plain": "'Nicomachean Ethics'"
     },
     "execution_count": 21,
     "metadata": {},
     "output_type": "execute_result"
    }
   ],
   "source": [
    "soup.titlestmt.title.get_text()"
   ]
  },
  {
   "cell_type": "code",
   "execution_count": 23,
   "metadata": {
    "colab": {
     "base_uri": "https://localhost:8080/",
     "height": 54
    },
    "colab_type": "code",
    "executionInfo": {
     "elapsed": 1087,
     "status": "ok",
     "timestamp": 1588072275044,
     "user": {
      "displayName": "Vojtěch Kaše",
      "photoUrl": "https://lh3.googleusercontent.com/a-/AOh14Ggz3jS9e7I3GdIEbyBKFtqr9tPdNCwyLBEJwbK8cw=s64",
      "userId": "01399835024022498543"
     },
     "user_tz": -120
    },
    "id": "vMVfhOBJDhdj",
    "outputId": "cd862d14-5710-4587-ee99-eccebba82b94",
    "ExecuteTime": {
     "end_time": "2024-01-04T13:58:51.652346Z",
     "start_time": "2024-01-04T13:58:51.629490Z"
    }
   },
   "outputs": [
    {
     "data": {
      "text/plain": "'πᾶσα τέχνη καὶ πᾶσα μέθοδος, ὁμοίως δὲ πρᾶξίς τε καὶ προαίρεσις, ἀγαθοῦ τινὸς ἐφίεσθαι δοκεῖ· διὸ καλῶς ἀπεφήναντο τἀγαθόν, οὗ πάντʼ ἐφίεται. διαφορὰ δέ τις φαίνεται τῶν τελῶν· τὰ μὲν γάρ εἰσιν ἐνέργειαι, τὰ δὲ παρʼ αὐτὰς ἔργα τινά. ὧν δʼ εἰσὶ τέλη τινὰ παρὰ τὰς πράξεις, ἐν τούτοις βελτίω πέφυκε τῶν ἐνεργειῶν τὰ ἔργα. πολλῶν δὲ πράξεων οὐσῶν καὶ τεχνῶν καὶ ἐπιστημῶν πολλὰ γίνεται καὶ τὰ τέλη· ἰατρικῆς μὲν γὰρ ὑγίεια, ναυπηγικῆς δὲ πλοῖον, στρατηγικῆς δὲ νίκη, οἰκονομικῆς δὲ πλοῦτος. ὅσαι δʼ εἰσὶ τῶν τοιούτων ὑπὸ μίαν τινὰ δύναμιν, καθάπερ ὑπὸ τὴν ἱππικὴν χαλινοποιικὴ καὶ ὅσαι ἄλλαι τῶν ἱππικῶν ὀργάνων εἰσίν, αὕτη δὲ καὶ πᾶσα πολεμικὴ πρᾶξις ὑπὸ τὴν στρατηγικήν, κατὰ τὸν αὐτὸν δὴ τρόπον ἄλλαι ὑφʼ ἑτέρας· ἐν ἁπάσαις δὲ τὰ τῶν ἀρχιτεκτονικῶν τέλη πάντων ἐστὶν αἱρετώτερα τῶν ὑπʼ αὐτά· τούτων γὰρ χάριν κἀκεῖνα διώκεται. διαφέρει δʼ οὐδὲν τὰς ἐνεργείας αὐτὰς εἶναι τὰ τέλη τῶν πράξεων ἢ παρὰ ταύτας ἄλλο τι, καθάπερ ἐπὶ τῶν λεχθεισῶν ἐπιστημῶν. εἰ δή τι τέλος ἐστὶ τῶν πρακτῶν ὃ διʼ αὑτὸ βουλόμεθα, τἆλλα δὲ διὰ τοῦτο, καὶ μὴ πάντα διʼ ἕτερον αἱρούμεθα ʽπρόεισι γὰρ οὕτω γʼ εἰς ἄπειρον, ὥστʼ εἶναι κενὴν καὶ ματαίαν τὴν ὄρεξιν̓, δῆλον ὡς τοῦτʼ ἂν εἴη τἀγαθὸν καὶ τὸ ἄριστον. ἆρʼ οὖν καὶ πρὸς τὸν βίον ἡ γνῶσις αὐτοῦ μεγάλην ἔχει ῥοπήν, καὶ καθάπερ τοξόται σκοπὸν ἔχοντες μᾶλλον ἂν τυγχάνοιμεν τοῦ δέοντος; εἰ δʼ οὕτω, πειρατέον τύπῳ γε περιλαβεῖν αὐτὸ τί ποτʼ ἐστὶ καὶ τίνος τῶν ἐπιστημῶν ἢ δυνάμεων. δόξειε δʼ ἂν τῆς κυριωτάτης καὶ μάλιστα ἀρχιτεκτονικῆς. τοιαύτη δʼ ἡ πολιτικὴ φαίνεται· τίνας γὰρ εἶναι χρεὼν τῶν ἐπιστημῶν ἐν ταῖς πόλεσι,\\n \\nκαὶ ποίας ἑκάστους μανθάνειν καὶ μέχρι τίνος, αὕτη διατάσσει· ὁρῶμεν δὲ καὶ τὰς ἐντιμοτάτας τῶν δυνάμεων ὑπὸ ταύτην οὔσας, οἷον στρατηγικὴν οἰκονομικὴν ῥητορικήν· χρωμένης δὲ ταύτης ταῖς λοιπαῖς πρακτικαῖς τῶν ἐπιστημῶν, ἔτι δὲ νομοθετούσης τί δεῖ πράττειν καὶ τίνων ἀπέχεσθαι, τὸ ταύτης τέλος περιέχοι ἂν τὰ τῶν ἄλλων, ὥστε τοῦτʼ ἂν εἴη τἀνθρώπινον ἀγαθόν. εἰ γὰρ καὶ ταὐτόν ἐστιν ἑνὶ καὶ πόλει, μεῖζόν γε καὶ τελειότερον τὸ τῆς πόλεως φαίνεται καὶ λαβεῖν καὶ σῴζειν· ἀγαπητὸν μὲν γὰρ καὶ ἑνὶ μόνῳ, κάλλιον δὲ καὶ θειότερον ἔθνει καὶ πόλεσιν. ἡ μὲν οὖν μέθοδος τούτων ἐφίεται, πολιτική τις οὖσα. λέγοιτο δʼ ἂν ἱκανῶς, εἰ κατὰ τὴν ὑποκειμένην ὕλην διασαφηθείη· τὸ γὰρ ἀκριβὲς οὐχ ὁμοίως ἐν ἅπασι τοῖς λόγοις ἐπιζητητέον, ὥσπερ οὐδʼ ἐν τοῖς δημιουργουμένοις. τὰ δὲ καλὰ καὶ τὰ δίκαια, περὶ ὧν ἡ πολιτικὴ σκοπεῖται, πολλὴν ἔχει διαφορὰν καὶ πλάνην, ὥστε δοκεῖν νόμῳ μόνον εἶναι, φύσει δὲ μή. τοιαύτην δέ τινα πλάνην ἔχει καὶ τἀγαθὰ διὰ τὸ πολλοῖς συμβαίνειν βλάβας ἀπʼ αὐτῶν· ἤδη γάρ τινες ἀπώλοντο διὰ πλοῦτον, ἕτεροι δὲ διʼ ἀνδρείαν. ἀγαπητὸν οὖν περὶ τοιούτων καὶ ἐκ τοιούτων λέγοντας παχυλῶς καὶ τύπῳ τἀληθὲς ἐνδείκνυσθαι, καὶ περὶ τῶν ὡς ἐπὶ τὸ πολὺ καὶ ἐκ τοιούτων λέγοντας τοιαῦτα καὶ συμπεραίνεσθαι. τὸν αὐτὸν δὴ τρόπον καὶ ἀποδέχεσθαι χρεὼν ἕκαστα τῶν λεγομένων· πεπαιδευμένου γάρ ἐστιν ἐπὶ τοσοῦτον τἀκριβὲς ἐπιζητεῖν καθʼ ἕκαστον γένος, ἐφʼ ὅσον ἡ τοῦ πράγματος φύσις ἐπιδέχεται· παραπλήσιον γὰρ φαίνεται μαθηματικοῦ τε πιθανολογοῦντος ἀποδέχ'"
     },
     "execution_count": 23,
     "metadata": {},
     "output_type": "execute_result"
    }
   ],
   "source": [
    "all_p = soup.body.find_all(\"p\")\n",
    "title = soup.titlestmt.title.get_text()\n",
    "raw_text = []\n",
    "for p in all_p:\n",
    "  raw_text.append(p.get_text())\n",
    "raw_text_str = \" \".join(raw_text)\n",
    "raw_text_str[:3000]"
   ]
  },
  {
   "cell_type": "markdown",
   "metadata": {
    "colab_type": "text",
    "id": "pMaADC2YoYVw"
   },
   "source": [
    "## Testing with a sample"
   ]
  },
  {
   "cell_type": "code",
   "execution_count": 24,
   "metadata": {
    "colab": {},
    "colab_type": "code",
    "id": "ZV60vvpGnbK9",
    "ExecuteTime": {
     "end_time": "2024-01-04T13:59:56.511567Z",
     "start_time": "2024-01-04T13:59:56.349728Z"
    }
   },
   "outputs": [],
   "source": [
    "### start with the paths\n",
    "#paths_ogl = s.read_file(\"SDAM_data/AGT/ogl_paths_20240104.json\", \"list\")\n",
    "#paths_perseus = s.read_file(\"SDAM_data/AGT/perseus_paths_20240104.json\", \"list\")"
   ]
  },
  {
   "cell_type": "code",
   "execution_count": 37,
   "metadata": {
    "colab": {
     "base_uri": "https://localhost:8080/",
     "height": 68
    },
    "colab_type": "code",
    "executionInfo": {
     "elapsed": 4408,
     "status": "ok",
     "timestamp": 1588079980537,
     "user": {
      "displayName": "Vojtěch Kaše",
      "photoUrl": "https://lh3.googleusercontent.com/a-/AOh14Ggz3jS9e7I3GdIEbyBKFtqr9tPdNCwyLBEJwbK8cw=s64",
      "userId": "01399835024022498543"
     },
     "user_tz": -120
    },
    "id": "O-veVOO70YL-",
    "outputId": "f03bbc16-5206-4c77-b6dc-0a301edf143e",
    "ExecuteTime": {
     "end_time": "2024-01-04T14:19:46.014240Z",
     "start_time": "2024-01-04T14:19:42.053321Z"
    }
   },
   "outputs": [
    {
     "name": "stdout",
     "output_type": "stream",
     "text": [
      "10\n",
      "CPU times: user 622 ms, sys: 36.8 ms, total: 659 ms\n",
      "Wall time: 3.96 s\n"
     ]
    }
   ],
   "source": [
    "%%time\n",
    "\n",
    "\n",
    "## testing\n",
    "data = []\n",
    "for filepath in random.choices(paths_ogl, k=10):\n",
    "  response = requests.get('https://raw.githubusercontent.com/OpenGreekAndLatin/First1KGreek/master/' + filepath)\n",
    "  soup = BeautifulSoup(response.text, \"html.parser\")\n",
    "  try:\n",
    "    try:\n",
    "        raw_text = []\n",
    "        all_p = soup.body.find_all(\"p\")\n",
    "        for p in all_p:\n",
    "            raw_text.append(p.get_text())\n",
    "        string = \" \".join(raw_text)\n",
    "    except:\n",
    "        string = \" \".join(soup.body.text.split())\n",
    "  except:\n",
    "    string = \"\" \n",
    "  wordcount = len(string.split())\n",
    "  try:\n",
    "    author = soup.author.text\n",
    "  except:\n",
    "    author = None\n",
    "  try:\n",
    "    title = soup.titlestmt.title.get_text()\n",
    "  except:\n",
    "    title = None\n",
    "  data.append([filepath.rpartition(\"/\")[2], author, title, string, wordcount])\n",
    "print(len(data))"
   ]
  },
  {
   "cell_type": "code",
   "execution_count": 38,
   "metadata": {
    "ExecuteTime": {
     "end_time": "2024-01-04T14:19:47.536204Z",
     "start_time": "2024-01-04T14:19:47.522762Z"
    }
   },
   "outputs": [
    {
     "data": {
      "text/plain": "                               0                                        1  \\\n0  tlg1765.tlg003.1st1K-grc1.xml                             Vitae Aesopi   \n1  stoa0121.stoa001.opp-grc1.xml                                Eutropius   \n2  tlg0592.tlg005.1st1K-grc1.xml                               Hermogenes   \n3  tlg4026.tlg001.1st1K-grc1.xml  Anonymi in Aristotelis Artem Rhetoricam   \n4  tlg0643.tlg001.1st1K-grc2.xml                            Hermann Diels   \n5  tlg1595.tlg370.1st1K-grc1.xml                               Philodemus   \n6  tlg0081.tlg006.1st1K-grc1.xml               Dionysius of Halicarnassus   \n7  tlg0527.tlg048.1st1K-eng3.xml                              Septuaginta   \n8  tlg2042.tlg052.1st1K-grc1.xml                                 Origenes   \n9  tlg2018.tlg007.1st1K-grc1.xml                     Eusebius of Caesarea   \n\n                                                   2  \\\n0  Vita Aesopi Pl vel Accursiana (sub auctore Max...   \n1                       Breviarium historiae romanae   \n2                            Περὶ μεθόδου δεινότητος   \n3       In Aristotelis artem rhetoricam commentarium   \n4              Sigla to Anonymus Londinensis Iatrica   \n5                                 Volumina Rhetorica   \n6                            De Demosthenis dictione   \n7                                 Index II to Isaias   \n8                                 Selecta in Numeros   \n9                                 των κατά Μαρκέλλου   \n\n                                                   3       4  \n0  Πραγμάτων φύσιν τῶν ἐν ἀνθρώποις ἠκρίβωσαν\\nμὲ...   27370  \n1  Τῆς Ῥωμαϊκῆς βασιλείας ἐν προοιμίοις οὐδὲν ἐγέ...   23867  \n2  1 Πᾶν μέρος λόγου εὕρηται μὲν ἐπὶ μηνύσει πράγ...   11248  \n3  [1356b 34] καὶ ἡ διαλεκτικὴ οὐ σκοπεῖ τὸ δοκοῦ...  100201  \n4  ABBREV = αἴτιος, αἰτία cet. ABBREV = ἀλλά(ἄλλη...     110  \n5  ἢ πρὸς τὰς κατὰ μέρος λόγων διακοπάς, ἐπιμνησθ...    9828  \n6  \\nδικανικοῖς μὲν οὖν οὐ περιέτυχον αὐτοῦ λόγοι...   35383  \n7  (References either to pages, or to chapters an...    3849  \n8  Οὐδὲν πλὴν εἰς τὸ μάννα οἱ ὀφθαλμοὶ ἡμῶ. Μᾶν ὠ...    1804  \n9   Λόγος Α′. ⟨αʹ πόθεν ὁρμώμενος ὁ Μάρκελλος του...   18376  ",
      "text/html": "<div>\n<style scoped>\n    .dataframe tbody tr th:only-of-type {\n        vertical-align: middle;\n    }\n\n    .dataframe tbody tr th {\n        vertical-align: top;\n    }\n\n    .dataframe thead th {\n        text-align: right;\n    }\n</style>\n<table border=\"1\" class=\"dataframe\">\n  <thead>\n    <tr style=\"text-align: right;\">\n      <th></th>\n      <th>0</th>\n      <th>1</th>\n      <th>2</th>\n      <th>3</th>\n      <th>4</th>\n    </tr>\n  </thead>\n  <tbody>\n    <tr>\n      <th>0</th>\n      <td>tlg1765.tlg003.1st1K-grc1.xml</td>\n      <td>Vitae Aesopi</td>\n      <td>Vita Aesopi Pl vel Accursiana (sub auctore Max...</td>\n      <td>Πραγμάτων φύσιν τῶν ἐν ἀνθρώποις ἠκρίβωσαν\\nμὲ...</td>\n      <td>27370</td>\n    </tr>\n    <tr>\n      <th>1</th>\n      <td>stoa0121.stoa001.opp-grc1.xml</td>\n      <td>Eutropius</td>\n      <td>Breviarium historiae romanae</td>\n      <td>Τῆς Ῥωμαϊκῆς βασιλείας ἐν προοιμίοις οὐδὲν ἐγέ...</td>\n      <td>23867</td>\n    </tr>\n    <tr>\n      <th>2</th>\n      <td>tlg0592.tlg005.1st1K-grc1.xml</td>\n      <td>Hermogenes</td>\n      <td>Περὶ μεθόδου δεινότητος</td>\n      <td>1 Πᾶν μέρος λόγου εὕρηται μὲν ἐπὶ μηνύσει πράγ...</td>\n      <td>11248</td>\n    </tr>\n    <tr>\n      <th>3</th>\n      <td>tlg4026.tlg001.1st1K-grc1.xml</td>\n      <td>Anonymi in Aristotelis Artem Rhetoricam</td>\n      <td>In Aristotelis artem rhetoricam commentarium</td>\n      <td>[1356b 34] καὶ ἡ διαλεκτικὴ οὐ σκοπεῖ τὸ δοκοῦ...</td>\n      <td>100201</td>\n    </tr>\n    <tr>\n      <th>4</th>\n      <td>tlg0643.tlg001.1st1K-grc2.xml</td>\n      <td>Hermann Diels</td>\n      <td>Sigla to Anonymus Londinensis Iatrica</td>\n      <td>ABBREV = αἴτιος, αἰτία cet. ABBREV = ἀλλά(ἄλλη...</td>\n      <td>110</td>\n    </tr>\n    <tr>\n      <th>5</th>\n      <td>tlg1595.tlg370.1st1K-grc1.xml</td>\n      <td>Philodemus</td>\n      <td>Volumina Rhetorica</td>\n      <td>ἢ πρὸς τὰς κατὰ μέρος λόγων διακοπάς, ἐπιμνησθ...</td>\n      <td>9828</td>\n    </tr>\n    <tr>\n      <th>6</th>\n      <td>tlg0081.tlg006.1st1K-grc1.xml</td>\n      <td>Dionysius of Halicarnassus</td>\n      <td>De Demosthenis dictione</td>\n      <td>\\nδικανικοῖς μὲν οὖν οὐ περιέτυχον αὐτοῦ λόγοι...</td>\n      <td>35383</td>\n    </tr>\n    <tr>\n      <th>7</th>\n      <td>tlg0527.tlg048.1st1K-eng3.xml</td>\n      <td>Septuaginta</td>\n      <td>Index II to Isaias</td>\n      <td>(References either to pages, or to chapters an...</td>\n      <td>3849</td>\n    </tr>\n    <tr>\n      <th>8</th>\n      <td>tlg2042.tlg052.1st1K-grc1.xml</td>\n      <td>Origenes</td>\n      <td>Selecta in Numeros</td>\n      <td>Οὐδὲν πλὴν εἰς τὸ μάννα οἱ ὀφθαλμοὶ ἡμῶ. Μᾶν ὠ...</td>\n      <td>1804</td>\n    </tr>\n    <tr>\n      <th>9</th>\n      <td>tlg2018.tlg007.1st1K-grc1.xml</td>\n      <td>Eusebius of Caesarea</td>\n      <td>των κατά Μαρκέλλου</td>\n      <td>Λόγος Α′. ⟨αʹ πόθεν ὁρμώμενος ὁ Μάρκελλος του...</td>\n      <td>18376</td>\n    </tr>\n  </tbody>\n</table>\n</div>"
     },
     "execution_count": 38,
     "metadata": {},
     "output_type": "execute_result"
    }
   ],
   "source": [
    "pd.DataFrame(data)"
   ]
  },
  {
   "cell_type": "code",
   "outputs": [
    {
     "data": {
      "text/plain": "'Κατ᾽ ἐκεῖνον τὸν καιρὸν ἦμεν πάντες οἱ ἀπόστολοι ἐν Ἰεροσολύμοις, Σίμων ὁ λεγόμενος Πέτρος καὶ Ἀνδρέας ὁ ἀδελφὸς αὐτοῦ, Ἰάκωβος ὁ τοῦ Ζεβεδαίου καὶ Ἰωάννης ὁ ἀδελφὸς αὐτοῦ, Φίλιππος καὶ Βαρθολομαῖος, Θωμᾶς καὶ Ματθαῖος ὁ τελώνης, Ἰάκωβος Ἁλφαίου καὶ Σίμων ὁ Καναναῖος,  καὶ Ἰούδας Ἰακώβου, καὶ διείλαμεν τὰ κλίματα τῆς οἰκουμένης, ὅπως εἷς ἕκαστος ἡμῶν ἐν τῷ κλίματι τῷ λαχόντι αὐτῷ καὶ εἰς τὸ ἔθνος ἐν ᾧ ὁ κύριος αὐτὸν ἀπέστειλεν πο ρευθῇ. κατὰ κλῆρον οὖν ἔλαχεν ἡ Ἰνδία Ἰούδᾳ Θωμᾷ τῷ καὶ Διδύμῳ· οὐκ ἐβούλετο δὲ ἀπελθεῖν, λέγων μὴ δύνασθαι μήτε χωρεῖν διὰ τὴν ἀσθένειαν τῆς σαρκός, καὶ ὅτι Ἄνθρωπος ὢν Ἑβραῖος πῶς δύναμαι πορευθῆναι ἐν τοῖς Ἰνδοῖς κηρύξαι τὴν ἀλήθειαν; Καὶ ταῦτα αὐτοῦ διαλογιζομένου καὶ λέγοντος ὤφθη αὐτῷ ὁ σωτὴρ διὰ τῆς νυκτός, καὶ λέγει αὐτῷ· Μὴ φοβοῦ Θωμᾶ, ἄπελθε εἰς τὴν Ἰνδίαν καὶ κήρυξον ἐκεῖ τὸν λόγον· ἡ γὰρ χάρις μού ἐστιν μετὰ σοῦ. Ὃ δὲ οὐκ ἐπείθετο, λέγων· Ὅπου βούλει με ἀποστεῖλαι ἀπόστειλον ἀλλαχοῦ· εἰς Ἰνδοὺς γὰρ οὐκ ἀπέρχομαι.  Καὶ ταῦτα αὐτοῦ λέγοντος καὶ ἐν'"
     },
     "execution_count": 36,
     "metadata": {},
     "output_type": "execute_result"
    }
   ],
   "source": [
    "data[1][3][:1000]"
   ],
   "metadata": {
    "collapsed": false,
    "ExecuteTime": {
     "end_time": "2024-01-04T14:14:14.732248Z",
     "start_time": "2024-01-04T14:14:14.712849Z"
    }
   },
   "execution_count": 36
  },
  {
   "cell_type": "markdown",
   "metadata": {
    "colab_type": "text",
    "id": "t8gVYEXiN1dB"
   },
   "source": [
    "## Extraction of the whole dataset"
   ]
  },
  {
   "cell_type": "code",
   "execution_count": 39,
   "metadata": {
    "colab": {
     "base_uri": "https://localhost:8080/",
     "height": 68
    },
    "colab_type": "code",
    "executionInfo": {
     "elapsed": 239784,
     "status": "ok",
     "timestamp": 1588081198542,
     "user": {
      "displayName": "Vojtěch Kaše",
      "photoUrl": "https://lh3.googleusercontent.com/a-/AOh14Ggz3jS9e7I3GdIEbyBKFtqr9tPdNCwyLBEJwbK8cw=s64",
      "userId": "01399835024022498543"
     },
     "user_tz": -120
    },
    "id": "mNgmXa5pqFHw",
    "outputId": "9feec28e-cc13-42d1-b290-863dd3aec99c",
    "ExecuteTime": {
     "end_time": "2024-01-04T14:46:30.370537Z",
     "start_time": "2024-01-04T14:41:28.318539Z"
    }
   },
   "outputs": [
    {
     "name": "stdout",
     "output_type": "stream",
     "text": [
      "810\n",
      "CPU times: user 59.8 s, sys: 1.84 s, total: 1min 1s\n",
      "Wall time: 5min 2s\n"
     ]
    }
   ],
   "source": [
    "%%time\n",
    "## actual extraction\n",
    "\n",
    "data = []\n",
    "for filepath in paths_perseus:\n",
    "    try:\n",
    "        response = requests.get('https://raw.githubusercontent.com/PerseusDL/canonical-greekLit/master/' + filepath)  \n",
    "        soup = BeautifulSoup(response.text, \"html.parser\")\n",
    "    except:\n",
    "        time.sleep(1)\n",
    "        response = requests.get('https://raw.githubusercontent.com/PerseusDL/canonical-greekLit/master/' + filepath)  \n",
    "        soup = BeautifulSoup(response.text, \"html.parser\")\n",
    "    try:\n",
    "        # try paragraphs\n",
    "        raw_text = []\n",
    "        # extract p string\n",
    "        all_p = soup.body.find_all(\"p\")\n",
    "        for p in all_p:\n",
    "            raw_text.append(p.get_text())\n",
    "        p_string = \" \".join(raw_text)\n",
    "        # extract l string\n",
    "        all_l = soup.body.find_all(\"l\")\n",
    "        raw_text = []\n",
    "        all_l = soup.body.find_all(\"l\")\n",
    "        for line in all_l:\n",
    "            raw_text.append(line.get_text())\n",
    "        l_string = \" \".join(raw_text)\n",
    "        body_string = \" \".join(soup.body.text.split())\n",
    "        #test: \n",
    "        #if (4 > (10 /2)) | (4 > (10 /2)):\n",
    "        #    print(\"true\")\n",
    "        if (len(l_string) > (len(body_string)/2)) | (len(p_string) > (len(body_string)/2)):\n",
    "            if len(l_string) > len(p_string):\n",
    "                string = l_string\n",
    "            else:\n",
    "                string = p_string\n",
    "        else:\n",
    "            string = body_string\n",
    "    except: \n",
    "        string = \"\"\n",
    "    wordcount = len(string.split())\n",
    "    try:\n",
    "        author = soup.author.text\n",
    "    except:\n",
    "        author = None\n",
    "    try:\n",
    "        title = soup.titlestmt.title.get_text()\n",
    "    except:\n",
    "        title = None\n",
    "    data.append([filepath.rpartition(\"/\")[2], author, title, string, wordcount])\n",
    "print(len(data))"
   ]
  },
  {
   "cell_type": "code",
   "outputs": [
    {
     "data": {
      "text/plain": "                           filename              author  \\\n0   tlg0001.tlg001.perseus-grc2.xml  Apollonius Rhodius   \n1   tlg0003.tlg001.perseus-grc2.xml          Thucydides   \n2   tlg0004.tlg001.perseus-grc2.xml   Diogenes Laertius   \n3   tlg0005.tlg001.perseus-grc2.xml          Theocritus   \n4   tlg0005.tlg002.perseus-grc2.xml          Theocritus   \n5   tlg0006.tlg001.perseus-grc2.xml           Euripides   \n6   tlg0006.tlg002.perseus-grc2.xml           Euripides   \n7   tlg0006.tlg003.perseus-grc2.xml           Euripides   \n8   tlg0006.tlg004.perseus-grc2.xml           Euripides   \n9   tlg0006.tlg005.perseus-grc2.xml           Euripides   \n10  tlg0006.tlg006.perseus-grc2.xml           Euripides   \n11  tlg0006.tlg007.perseus-grc2.xml           Euripides   \n12  tlg0006.tlg008.perseus-grc2.xml           Euripides   \n13  tlg0006.tlg009.perseus-grc2.xml           Euripides   \n14  tlg0006.tlg010.perseus-grc2.xml           Euripides   \n15  tlg0006.tlg011.perseus-grc2.xml           Euripides   \n16  tlg0006.tlg012.perseus-grc2.xml           Euripides   \n17  tlg0006.tlg013.perseus-grc2.xml           Euripides   \n18  tlg0006.tlg014.perseus-grc2.xml           Euripides   \n19  tlg0006.tlg015.perseus-grc2.xml           Euripides   \n20  tlg0006.tlg016.perseus-grc2.xml           Euripides   \n21  tlg0006.tlg017.perseus-grc2.xml           Euripides   \n22  tlg0006.tlg018.perseus-grc2.xml           Euripides   \n23  tlg0006.tlg019.perseus-grc2.xml           Euripides   \n24  tlg0007.tlg001.perseus-grc2.xml            Plutarch   \n25  tlg0007.tlg002.perseus-grc2.xml            Plutarch   \n26  tlg0007.tlg003.perseus-grc2.xml            Plutarch   \n27  tlg0007.tlg004.perseus-grc2.xml            Plutarch   \n28  tlg0007.tlg005.perseus-grc2.xml            Plutarch   \n29  tlg0007.tlg006.perseus-grc2.xml            Plutarch   \n\n                                              title  \\\n0                                       Argonautica   \n1                                          Ἱστορίαι   \n2   Βίοι καὶ γνῶμαι τῶν ἐν φιλοσοφίᾳ εὐδοκιμησάντων   \n3                                          Εἰδύλλια   \n4                                       Ἐπιγράμματα   \n5                                            Κύκλωψ   \n6                                          Ἄλκηστις   \n7                                            Μήδεια   \n8                                        Ἡρακλεῖδαι   \n9                                         Ἱππόλυτος   \n10                                        Ἀνδρομάχη   \n11                                            Ἑκάβη   \n12                                         Ἱκέτιδες   \n13                                          Ἡρακλῆς   \n14                                              Ἴων   \n15                                          Τρῳάδες   \n16                                          Ἠλέκτρα   \n17                             Ἰφιγένεια ἐν Ταύροις   \n18                                            Ἑλένη   \n19                                        Φοίνισσαι   \n20                                          Ὀρέστης   \n21                                           Βάκχαι   \n22                              Ἰφιγένεια ἐν Αὐλίδι   \n23                                            Ῥῆσος   \n24                                           Θησεύς   \n25                                          Ῥωμύλος   \n26                     Θησέως καὶ Ῥωμύλου σύγκρισις   \n27                                        Λυκοῦργος   \n28                                            Νομᾶς   \n29                     Λυκούργου καὶ Νομᾶ σύγκρισις   \n\n                                               string  wordcount  \n0   ἀρχόμενος σέο, Φοῖβε, παλαιγενέων κλέα φωτῶν μ...      38822  \n1   Θουκυδίδης Ἀθηναῖος ξυνέγραψε τὸν πόλεμον τῶν\\...     150363  \n2   Τὸ τῆς φιλοσοφίας ἔργον ἔνιοί φασιν ἀπὸ βαρβάρ...     110671  \n3   Ἁδύ τι τὸ ψιθύρισμα καὶ ἁ πίτυς αἰπόλε τήνα,  ...      19435  \n4   τὰ ῥόδα τὰ δροσόεντα καὶ ἁ κατάπυκνος ἐκείνα  ...       1750  \n5    Ὦ Βρόμιε, διὰ σὲ μυρίους ἔχω πόνους  νῦν χὥτ’...       4141  \n6    Ὦ δώματ’ Ἀδμήτειʼ, ἐν οἷς ἔτλην ἐγὼ  θῆσσαν τ...       6602  \n7    Εἴθ’ ὤφελ’ Ἀργοῦς μὴ διαπτάσθαι σκάφος Κόλχων...       8026  \n8    Πάλαι ποτʼ ἐστὶ τοῦτʼ ἐμοὶ δεδογμένον·  ὁ μὲν...       6272  \n9    Πολλὴ μὲν ἐν βροτοῖσι κοὐκ ἀνώνυμος, θεὰ κέκλ...       8257  \n10   Ἀσιάτιδος γῆς σχῆμα, Θηβαία πόλι, ὅθεν ποθ’ ἕ...       7397  \n11   Ἥκω νεκρῶν κευθμῶνα καὶ σκότου πύλας λιπών, ἵ...       7340  \n12   Δήμητερ ἑστιοῦχʼ Ἐλευσῖνος χθονὸς τῆσδʼ, οἵ τ...       7166  \n13   Τίς τὸν Διὸς σύλλεκτρον οὐκ οἶδεν βροτῶν,  Ἀρ...       7977  \n14   Ἄτλας, ὁ χαλκέοισι νώτοις οὐρανὸν θεῶν παλαιὸ...       9339  \n15   Ἥκω λιπὼν Αἴγαιον ἁλμυρὸν βάθος πόντου Ποσειδ...       7230  \n16   ὦ γῆς παλαιὸν ἄργος, Ἰνάχου ῥοαί, ὅθεν ποτʼ ἄ...       7781  \n17   Πέλοψ ὁ Ταντάλειος ἐς Πῖσαν μολὼν θοαῖσιν ἵππ...       8497  \n18   Νείλου μὲν αἵδε καλλιπάρθενοι ῥοαί, ὃς ἀντὶ δ...       9982  \n19   ὦ τὴν ἐν ἄστροις οὐρανοῦ τέμνων ὁδὸν καὶ χρυσ...       9951  \n20   Οὐκ ἔστιν οὐδὲν δεινὸν ὧδʼ εἰπεῖν ἔπος οὐδὲ π...      10115  \n21   ἥκω Διὸς παῖς τήνδε Θηβαίων χθόνα Διόνυσος, ὃ...       7662  \n22   Ἐγένοντο Λήδᾳ Θεστιάδι τρεῖς παρθένοι, Φοίβη ...       9481  \n23   — Βᾶθι πρὸς εὐνὰς τὰς Ἑκτορέους. τίς ὑπασπιστ...       5502  \n24   ὥσπερ ἐν ταῖς γεωγραφίαις, ὦ Σόσσιε Σενεκίων,...       7594  \n25   τὸ μέγα τῆς Ῥώμης ὄνομα καὶ δόξῃ διὰ πάντων ἀ...       9397  \n26   ἃ μὲν οὖν ἄξια μνήμης πυθέσθαι περὶ Ῥωμύλου κ...       1173  \n27   περὶ Λυκούργου τοῦ νομοθέτου καθόλου μὲν οὐδὲ...       9656  \n28   ἔστι δὲ καὶ περὶ τῶν Νομᾶ τοῦ βασιλέως χρόνων...       7653  \n29   ἀλλʼ ἐπεὶ τὸν Νομᾶ καὶ Λυκούργου διεληλύθαμεν...       1606  ",
      "text/html": "<div>\n<style scoped>\n    .dataframe tbody tr th:only-of-type {\n        vertical-align: middle;\n    }\n\n    .dataframe tbody tr th {\n        vertical-align: top;\n    }\n\n    .dataframe thead th {\n        text-align: right;\n    }\n</style>\n<table border=\"1\" class=\"dataframe\">\n  <thead>\n    <tr style=\"text-align: right;\">\n      <th></th>\n      <th>filename</th>\n      <th>author</th>\n      <th>title</th>\n      <th>string</th>\n      <th>wordcount</th>\n    </tr>\n  </thead>\n  <tbody>\n    <tr>\n      <th>0</th>\n      <td>tlg0001.tlg001.perseus-grc2.xml</td>\n      <td>Apollonius Rhodius</td>\n      <td>Argonautica</td>\n      <td>ἀρχόμενος σέο, Φοῖβε, παλαιγενέων κλέα φωτῶν μ...</td>\n      <td>38822</td>\n    </tr>\n    <tr>\n      <th>1</th>\n      <td>tlg0003.tlg001.perseus-grc2.xml</td>\n      <td>Thucydides</td>\n      <td>Ἱστορίαι</td>\n      <td>Θουκυδίδης Ἀθηναῖος ξυνέγραψε τὸν πόλεμον τῶν\\...</td>\n      <td>150363</td>\n    </tr>\n    <tr>\n      <th>2</th>\n      <td>tlg0004.tlg001.perseus-grc2.xml</td>\n      <td>Diogenes Laertius</td>\n      <td>Βίοι καὶ γνῶμαι τῶν ἐν φιλοσοφίᾳ εὐδοκιμησάντων</td>\n      <td>Τὸ τῆς φιλοσοφίας ἔργον ἔνιοί φασιν ἀπὸ βαρβάρ...</td>\n      <td>110671</td>\n    </tr>\n    <tr>\n      <th>3</th>\n      <td>tlg0005.tlg001.perseus-grc2.xml</td>\n      <td>Theocritus</td>\n      <td>Εἰδύλλια</td>\n      <td>Ἁδύ τι τὸ ψιθύρισμα καὶ ἁ πίτυς αἰπόλε τήνα,  ...</td>\n      <td>19435</td>\n    </tr>\n    <tr>\n      <th>4</th>\n      <td>tlg0005.tlg002.perseus-grc2.xml</td>\n      <td>Theocritus</td>\n      <td>Ἐπιγράμματα</td>\n      <td>τὰ ῥόδα τὰ δροσόεντα καὶ ἁ κατάπυκνος ἐκείνα  ...</td>\n      <td>1750</td>\n    </tr>\n    <tr>\n      <th>5</th>\n      <td>tlg0006.tlg001.perseus-grc2.xml</td>\n      <td>Euripides</td>\n      <td>Κύκλωψ</td>\n      <td>Ὦ Βρόμιε, διὰ σὲ μυρίους ἔχω πόνους  νῦν χὥτ’...</td>\n      <td>4141</td>\n    </tr>\n    <tr>\n      <th>6</th>\n      <td>tlg0006.tlg002.perseus-grc2.xml</td>\n      <td>Euripides</td>\n      <td>Ἄλκηστις</td>\n      <td>Ὦ δώματ’ Ἀδμήτειʼ, ἐν οἷς ἔτλην ἐγὼ  θῆσσαν τ...</td>\n      <td>6602</td>\n    </tr>\n    <tr>\n      <th>7</th>\n      <td>tlg0006.tlg003.perseus-grc2.xml</td>\n      <td>Euripides</td>\n      <td>Μήδεια</td>\n      <td>Εἴθ’ ὤφελ’ Ἀργοῦς μὴ διαπτάσθαι σκάφος Κόλχων...</td>\n      <td>8026</td>\n    </tr>\n    <tr>\n      <th>8</th>\n      <td>tlg0006.tlg004.perseus-grc2.xml</td>\n      <td>Euripides</td>\n      <td>Ἡρακλεῖδαι</td>\n      <td>Πάλαι ποτʼ ἐστὶ τοῦτʼ ἐμοὶ δεδογμένον·  ὁ μὲν...</td>\n      <td>6272</td>\n    </tr>\n    <tr>\n      <th>9</th>\n      <td>tlg0006.tlg005.perseus-grc2.xml</td>\n      <td>Euripides</td>\n      <td>Ἱππόλυτος</td>\n      <td>Πολλὴ μὲν ἐν βροτοῖσι κοὐκ ἀνώνυμος, θεὰ κέκλ...</td>\n      <td>8257</td>\n    </tr>\n    <tr>\n      <th>10</th>\n      <td>tlg0006.tlg006.perseus-grc2.xml</td>\n      <td>Euripides</td>\n      <td>Ἀνδρομάχη</td>\n      <td>Ἀσιάτιδος γῆς σχῆμα, Θηβαία πόλι, ὅθεν ποθ’ ἕ...</td>\n      <td>7397</td>\n    </tr>\n    <tr>\n      <th>11</th>\n      <td>tlg0006.tlg007.perseus-grc2.xml</td>\n      <td>Euripides</td>\n      <td>Ἑκάβη</td>\n      <td>Ἥκω νεκρῶν κευθμῶνα καὶ σκότου πύλας λιπών, ἵ...</td>\n      <td>7340</td>\n    </tr>\n    <tr>\n      <th>12</th>\n      <td>tlg0006.tlg008.perseus-grc2.xml</td>\n      <td>Euripides</td>\n      <td>Ἱκέτιδες</td>\n      <td>Δήμητερ ἑστιοῦχʼ Ἐλευσῖνος χθονὸς τῆσδʼ, οἵ τ...</td>\n      <td>7166</td>\n    </tr>\n    <tr>\n      <th>13</th>\n      <td>tlg0006.tlg009.perseus-grc2.xml</td>\n      <td>Euripides</td>\n      <td>Ἡρακλῆς</td>\n      <td>Τίς τὸν Διὸς σύλλεκτρον οὐκ οἶδεν βροτῶν,  Ἀρ...</td>\n      <td>7977</td>\n    </tr>\n    <tr>\n      <th>14</th>\n      <td>tlg0006.tlg010.perseus-grc2.xml</td>\n      <td>Euripides</td>\n      <td>Ἴων</td>\n      <td>Ἄτλας, ὁ χαλκέοισι νώτοις οὐρανὸν θεῶν παλαιὸ...</td>\n      <td>9339</td>\n    </tr>\n    <tr>\n      <th>15</th>\n      <td>tlg0006.tlg011.perseus-grc2.xml</td>\n      <td>Euripides</td>\n      <td>Τρῳάδες</td>\n      <td>Ἥκω λιπὼν Αἴγαιον ἁλμυρὸν βάθος πόντου Ποσειδ...</td>\n      <td>7230</td>\n    </tr>\n    <tr>\n      <th>16</th>\n      <td>tlg0006.tlg012.perseus-grc2.xml</td>\n      <td>Euripides</td>\n      <td>Ἠλέκτρα</td>\n      <td>ὦ γῆς παλαιὸν ἄργος, Ἰνάχου ῥοαί, ὅθεν ποτʼ ἄ...</td>\n      <td>7781</td>\n    </tr>\n    <tr>\n      <th>17</th>\n      <td>tlg0006.tlg013.perseus-grc2.xml</td>\n      <td>Euripides</td>\n      <td>Ἰφιγένεια ἐν Ταύροις</td>\n      <td>Πέλοψ ὁ Ταντάλειος ἐς Πῖσαν μολὼν θοαῖσιν ἵππ...</td>\n      <td>8497</td>\n    </tr>\n    <tr>\n      <th>18</th>\n      <td>tlg0006.tlg014.perseus-grc2.xml</td>\n      <td>Euripides</td>\n      <td>Ἑλένη</td>\n      <td>Νείλου μὲν αἵδε καλλιπάρθενοι ῥοαί, ὃς ἀντὶ δ...</td>\n      <td>9982</td>\n    </tr>\n    <tr>\n      <th>19</th>\n      <td>tlg0006.tlg015.perseus-grc2.xml</td>\n      <td>Euripides</td>\n      <td>Φοίνισσαι</td>\n      <td>ὦ τὴν ἐν ἄστροις οὐρανοῦ τέμνων ὁδὸν καὶ χρυσ...</td>\n      <td>9951</td>\n    </tr>\n    <tr>\n      <th>20</th>\n      <td>tlg0006.tlg016.perseus-grc2.xml</td>\n      <td>Euripides</td>\n      <td>Ὀρέστης</td>\n      <td>Οὐκ ἔστιν οὐδὲν δεινὸν ὧδʼ εἰπεῖν ἔπος οὐδὲ π...</td>\n      <td>10115</td>\n    </tr>\n    <tr>\n      <th>21</th>\n      <td>tlg0006.tlg017.perseus-grc2.xml</td>\n      <td>Euripides</td>\n      <td>Βάκχαι</td>\n      <td>ἥκω Διὸς παῖς τήνδε Θηβαίων χθόνα Διόνυσος, ὃ...</td>\n      <td>7662</td>\n    </tr>\n    <tr>\n      <th>22</th>\n      <td>tlg0006.tlg018.perseus-grc2.xml</td>\n      <td>Euripides</td>\n      <td>Ἰφιγένεια ἐν Αὐλίδι</td>\n      <td>Ἐγένοντο Λήδᾳ Θεστιάδι τρεῖς παρθένοι, Φοίβη ...</td>\n      <td>9481</td>\n    </tr>\n    <tr>\n      <th>23</th>\n      <td>tlg0006.tlg019.perseus-grc2.xml</td>\n      <td>Euripides</td>\n      <td>Ῥῆσος</td>\n      <td>— Βᾶθι πρὸς εὐνὰς τὰς Ἑκτορέους. τίς ὑπασπιστ...</td>\n      <td>5502</td>\n    </tr>\n    <tr>\n      <th>24</th>\n      <td>tlg0007.tlg001.perseus-grc2.xml</td>\n      <td>Plutarch</td>\n      <td>Θησεύς</td>\n      <td>ὥσπερ ἐν ταῖς γεωγραφίαις, ὦ Σόσσιε Σενεκίων,...</td>\n      <td>7594</td>\n    </tr>\n    <tr>\n      <th>25</th>\n      <td>tlg0007.tlg002.perseus-grc2.xml</td>\n      <td>Plutarch</td>\n      <td>Ῥωμύλος</td>\n      <td>τὸ μέγα τῆς Ῥώμης ὄνομα καὶ δόξῃ διὰ πάντων ἀ...</td>\n      <td>9397</td>\n    </tr>\n    <tr>\n      <th>26</th>\n      <td>tlg0007.tlg003.perseus-grc2.xml</td>\n      <td>Plutarch</td>\n      <td>Θησέως καὶ Ῥωμύλου σύγκρισις</td>\n      <td>ἃ μὲν οὖν ἄξια μνήμης πυθέσθαι περὶ Ῥωμύλου κ...</td>\n      <td>1173</td>\n    </tr>\n    <tr>\n      <th>27</th>\n      <td>tlg0007.tlg004.perseus-grc2.xml</td>\n      <td>Plutarch</td>\n      <td>Λυκοῦργος</td>\n      <td>περὶ Λυκούργου τοῦ νομοθέτου καθόλου μὲν οὐδὲ...</td>\n      <td>9656</td>\n    </tr>\n    <tr>\n      <th>28</th>\n      <td>tlg0007.tlg005.perseus-grc2.xml</td>\n      <td>Plutarch</td>\n      <td>Νομᾶς</td>\n      <td>ἔστι δὲ καὶ περὶ τῶν Νομᾶ τοῦ βασιλέως χρόνων...</td>\n      <td>7653</td>\n    </tr>\n    <tr>\n      <th>29</th>\n      <td>tlg0007.tlg006.perseus-grc2.xml</td>\n      <td>Plutarch</td>\n      <td>Λυκούργου καὶ Νομᾶ σύγκρισις</td>\n      <td>ἀλλʼ ἐπεὶ τὸν Νομᾶ καὶ Λυκούργου διεληλύθαμεν...</td>\n      <td>1606</td>\n    </tr>\n  </tbody>\n</table>\n</div>"
     },
     "execution_count": 41,
     "metadata": {},
     "output_type": "execute_result"
    }
   ],
   "source": [
    "data_perseus = pd.DataFrame(data, columns=[\"filename\", \"author\", \"title\", \"string\", \"wordcount\"])\n",
    "data_perseus.head(30)"
   ],
   "metadata": {
    "collapsed": false,
    "ExecuteTime": {
     "end_time": "2024-01-04T14:49:03.934276Z",
     "start_time": "2024-01-04T14:49:03.926715Z"
    }
   },
   "execution_count": 41
  },
  {
   "cell_type": "code",
   "execution_count": 42,
   "metadata": {
    "ExecuteTime": {
     "end_time": "2024-01-04T14:49:21.708281Z",
     "start_time": "2024-01-04T14:49:21.678925Z"
    }
   },
   "outputs": [
    {
     "data": {
      "text/plain": "                            filename            author  \\\n221  tlg0013.tlg001.perseus-grc2.xml         Anonymous   \n226  tlg0013.tlg006.perseus-grc2.xml         Anonymous   \n228  tlg0013.tlg008.perseus-grc2.xml         Anonymous   \n229  tlg0013.tlg009.perseus-grc2.xml         Anonymous   \n230  tlg0013.tlg010.perseus-grc2.xml         Anonymous   \n231  tlg0013.tlg011.perseus-grc2.xml         Anonymous   \n232  tlg0013.tlg012.perseus-grc2.xml         Anonymous   \n233  tlg0013.tlg013.perseus-grc2.xml         Anonymous   \n234  tlg0013.tlg014.perseus-grc2.xml         Anonymous   \n235  tlg0013.tlg015.perseus-grc2.xml         Anonymous   \n236  tlg0013.tlg016.perseus-grc2.xml         Anonymous   \n237  tlg0013.tlg017.perseus-grc2.xml         Anonymous   \n238  tlg0013.tlg018.perseus-grc2.xml         Anonymous   \n240  tlg0013.tlg020.perseus-grc2.xml         Anonymous   \n241  tlg0013.tlg021.perseus-grc2.xml         Anonymous   \n242  tlg0013.tlg022.perseus-grc2.xml         Anonymous   \n243  tlg0013.tlg023.perseus-grc2.xml         Anonymous   \n244  tlg0013.tlg024.perseus-grc2.xml         Anonymous   \n245  tlg0013.tlg025.perseus-grc2.xml         Anonymous   \n246  tlg0013.tlg026.perseus-grc2.xml         Anonymous   \n247  tlg0013.tlg027.perseus-grc2.xml         Anonymous   \n248  tlg0013.tlg028.perseus-grc2.xml         Anonymous   \n249  tlg0013.tlg029.perseus-grc2.xml         Anonymous   \n250  tlg0013.tlg030.perseus-grc2.xml         Anonymous   \n251  tlg0013.tlg031.perseus-grc2.xml         Anonymous   \n252  tlg0013.tlg032.perseus-grc2.xml         Anonymous   \n253  tlg0013.tlg033.perseus-grc2.xml         Anonymous   \n618  tlg0284.tlg028.perseus-grc2.xml  Aelius Aristides   \n\n                                    title  \\\n221                    Hymn 1 To Dionysus   \n226                   Hymn 6 To Aphrodite   \n228                        Hymn 8 To Ares   \n229                     Hymn 9 To Artemis   \n230                  Hymn 10 To Aphrodite   \n231                     Hymn 11 To Athena   \n232                       Hymn 12 To Hera   \n233                    Hymn 13 To Demeter   \n234     Hymn 14 to the Mother of the Gods   \n235  Hymn 15 To Heracles the Lion-Hearted   \n236                  Hymn 16 To Asclepius   \n237               Hymn 17 To the Dioscuri   \n238                     Hymn 18 To Hermes   \n240                 Hymn 20 To Hephaestus   \n241                     Hymn 21 To Apollo   \n242                   Hymn 22 To Poseidon   \n243                       Hymn 23 to Zeus   \n244                     Hymn 24 To Hestia   \n245       Hymn 25 To the Muses and Apollo   \n246                   Hymn 26 To Dionysus   \n247                    Hymn 27 To Artemis   \n248                    Hymn 28 To Athena    \n249                     Hymn 29 To Hestia   \n250                      Hymn 30 To Earth   \n251                     Hymn 31 To Helios   \n252                     Hymn 32 To Selene   \n253               Hymn 33 To the Dioscuri   \n618                     Ἱεροὶ λόγοι ἕκτος   \n\n                                                string  wordcount  \n221  \\n\\nοἳ μὲν γὰρ Δρακάνῳ σʼ, οἳ δʼ Ἰκάρῳ ἠνεμοέσ...        144  \n226  αἰδοίην, χρυσοστέφανον, καλὴν Ἀφροδίτην  ᾁσομα...        131  \n228  Ἆρες ὑπερμενέτα, βρισάρματε, χρυσεοπήληξ,  ὀβρ...        100  \n229  Ἄρτεμιν ὕμνει, Μοῦσα, κασιγνήτην Ἑκάτοιο.  παρ...         57  \n230  κυπρογενῆ Κυθέρειαν ἀείσομαι, ἥτε βροτοῖσι  με...         39  \n231  Παλλάδʼ Ἀθηναίην ἐρυσίπτολιν ἄρχομʼ ἀείδειν,  ...         35  \n232  Ἥρην ἀείδω χρυσόθρονον, ἣν τέκε Ῥείη,  ἀθανάτω...         28  \n233  Δημήτηρ’ ἠύκομον, σεμνὴν θεάν, ἄρχομ’ ἀείδειν,...         20  \n234  μητέρα μοι πάντων τε θεῶν πάντων τʼ ἀνθρώπων  ...         46  \n235  Ἡρακλέα, Διὸς υἱόν, ἀείσομαι, ὃν μέγʼ ἄριστον ...         61  \n236  ἰητῆρα νόσων Ἀσκληπιὸν ἄρχομʼ ἀείδειν,  υἱὸν Ἀ...         33  \n237  Κάστορα καὶ Πολυδεύκἐ ἀείσεο, Μοῦσα λίγεια,  Τ...         27  \n238  Ἑρμῆν ἀείδω Κυλλήνιον, Ἀργειφόντην,  Κυλλήνης ...         75  \n240  Ἥφαιστον κλυτόμητιν ἀείσεο, Μοῦσα λίγεια,  ὃς ...         51  \n241  φοῖβε, σὲ μὲν καὶ κύκνος ὑπὸ πτερύγων λίγʼ ἀεί...         38  \n242  ἀμφὶ Ποσειδάωνα, μέγαν θεόν, ἄρχομʼ ἀείδειν,  ...         42  \n243  Ζῆνα θεῶν τὸν ἄριστον ἀείσομαι ἠδὲ μέγιστον,  ...         22  \n244  ἑστίη, ἥτε ἄνακτος Ἀπόλλωνος ἑκάτοιο  Πυθοῖ ἐν...         33  \n245  μουσάων ἄρχωμαι Ἀπόλλωνός τε Διός τε·  ἐκ γὰρ ...         51  \n246  κισσοκόμην Διόνυσον ἐρίβρομον ἄρχομʼ ἀείδειν, ...         89  \n247  Ἄρτεμιν ἀείδω χρυσηλάκατον, κελαδεινήν,  παρθέ...        132  \n248  Παλλάδ’ Ἀθηναίην, κυδρὴν θεόν, ἄρχομ’ ἀείδειν ...        111  \n249  ἑστίη, ἣ πάντων ἐν δώμασιν ὑψηλοῖσιν  ἀθανάτων...         96  \n250  γαῖαν παμμήτειραν ἀείσομαι, ἠυθέμεθλον,  πρεσβ...        133  \n251  ἥλιον ὑμνεῖν αὖτε Διὸς τέκος ἄρχεο Μοῦσα,  Καλ...        131  \n252  μήνην ἀείδειν τανυσίπτερον ἔσπετε, Μοῦσαι,  ἡδ...        123  \n253  ἀμφὶ Διὸς κούρους, ἑλικώπιδες ἔσπετε Μοῦσαι,  ...        116  \n618  τὰ μὲν δὴ πολλὰ οὕτω διῆγεν ἡμᾶς ὁ θεὸς, σημαί...        130  ",
      "text/html": "<div>\n<style scoped>\n    .dataframe tbody tr th:only-of-type {\n        vertical-align: middle;\n    }\n\n    .dataframe tbody tr th {\n        vertical-align: top;\n    }\n\n    .dataframe thead th {\n        text-align: right;\n    }\n</style>\n<table border=\"1\" class=\"dataframe\">\n  <thead>\n    <tr style=\"text-align: right;\">\n      <th></th>\n      <th>filename</th>\n      <th>author</th>\n      <th>title</th>\n      <th>string</th>\n      <th>wordcount</th>\n    </tr>\n  </thead>\n  <tbody>\n    <tr>\n      <th>221</th>\n      <td>tlg0013.tlg001.perseus-grc2.xml</td>\n      <td>Anonymous</td>\n      <td>Hymn 1 To Dionysus</td>\n      <td>\\n\\nοἳ μὲν γὰρ Δρακάνῳ σʼ, οἳ δʼ Ἰκάρῳ ἠνεμοέσ...</td>\n      <td>144</td>\n    </tr>\n    <tr>\n      <th>226</th>\n      <td>tlg0013.tlg006.perseus-grc2.xml</td>\n      <td>Anonymous</td>\n      <td>Hymn 6 To Aphrodite</td>\n      <td>αἰδοίην, χρυσοστέφανον, καλὴν Ἀφροδίτην  ᾁσομα...</td>\n      <td>131</td>\n    </tr>\n    <tr>\n      <th>228</th>\n      <td>tlg0013.tlg008.perseus-grc2.xml</td>\n      <td>Anonymous</td>\n      <td>Hymn 8 To Ares</td>\n      <td>Ἆρες ὑπερμενέτα, βρισάρματε, χρυσεοπήληξ,  ὀβρ...</td>\n      <td>100</td>\n    </tr>\n    <tr>\n      <th>229</th>\n      <td>tlg0013.tlg009.perseus-grc2.xml</td>\n      <td>Anonymous</td>\n      <td>Hymn 9 To Artemis</td>\n      <td>Ἄρτεμιν ὕμνει, Μοῦσα, κασιγνήτην Ἑκάτοιο.  παρ...</td>\n      <td>57</td>\n    </tr>\n    <tr>\n      <th>230</th>\n      <td>tlg0013.tlg010.perseus-grc2.xml</td>\n      <td>Anonymous</td>\n      <td>Hymn 10 To Aphrodite</td>\n      <td>κυπρογενῆ Κυθέρειαν ἀείσομαι, ἥτε βροτοῖσι  με...</td>\n      <td>39</td>\n    </tr>\n    <tr>\n      <th>231</th>\n      <td>tlg0013.tlg011.perseus-grc2.xml</td>\n      <td>Anonymous</td>\n      <td>Hymn 11 To Athena</td>\n      <td>Παλλάδʼ Ἀθηναίην ἐρυσίπτολιν ἄρχομʼ ἀείδειν,  ...</td>\n      <td>35</td>\n    </tr>\n    <tr>\n      <th>232</th>\n      <td>tlg0013.tlg012.perseus-grc2.xml</td>\n      <td>Anonymous</td>\n      <td>Hymn 12 To Hera</td>\n      <td>Ἥρην ἀείδω χρυσόθρονον, ἣν τέκε Ῥείη,  ἀθανάτω...</td>\n      <td>28</td>\n    </tr>\n    <tr>\n      <th>233</th>\n      <td>tlg0013.tlg013.perseus-grc2.xml</td>\n      <td>Anonymous</td>\n      <td>Hymn 13 To Demeter</td>\n      <td>Δημήτηρ’ ἠύκομον, σεμνὴν θεάν, ἄρχομ’ ἀείδειν,...</td>\n      <td>20</td>\n    </tr>\n    <tr>\n      <th>234</th>\n      <td>tlg0013.tlg014.perseus-grc2.xml</td>\n      <td>Anonymous</td>\n      <td>Hymn 14 to the Mother of the Gods</td>\n      <td>μητέρα μοι πάντων τε θεῶν πάντων τʼ ἀνθρώπων  ...</td>\n      <td>46</td>\n    </tr>\n    <tr>\n      <th>235</th>\n      <td>tlg0013.tlg015.perseus-grc2.xml</td>\n      <td>Anonymous</td>\n      <td>Hymn 15 To Heracles the Lion-Hearted</td>\n      <td>Ἡρακλέα, Διὸς υἱόν, ἀείσομαι, ὃν μέγʼ ἄριστον ...</td>\n      <td>61</td>\n    </tr>\n    <tr>\n      <th>236</th>\n      <td>tlg0013.tlg016.perseus-grc2.xml</td>\n      <td>Anonymous</td>\n      <td>Hymn 16 To Asclepius</td>\n      <td>ἰητῆρα νόσων Ἀσκληπιὸν ἄρχομʼ ἀείδειν,  υἱὸν Ἀ...</td>\n      <td>33</td>\n    </tr>\n    <tr>\n      <th>237</th>\n      <td>tlg0013.tlg017.perseus-grc2.xml</td>\n      <td>Anonymous</td>\n      <td>Hymn 17 To the Dioscuri</td>\n      <td>Κάστορα καὶ Πολυδεύκἐ ἀείσεο, Μοῦσα λίγεια,  Τ...</td>\n      <td>27</td>\n    </tr>\n    <tr>\n      <th>238</th>\n      <td>tlg0013.tlg018.perseus-grc2.xml</td>\n      <td>Anonymous</td>\n      <td>Hymn 18 To Hermes</td>\n      <td>Ἑρμῆν ἀείδω Κυλλήνιον, Ἀργειφόντην,  Κυλλήνης ...</td>\n      <td>75</td>\n    </tr>\n    <tr>\n      <th>240</th>\n      <td>tlg0013.tlg020.perseus-grc2.xml</td>\n      <td>Anonymous</td>\n      <td>Hymn 20 To Hephaestus</td>\n      <td>Ἥφαιστον κλυτόμητιν ἀείσεο, Μοῦσα λίγεια,  ὃς ...</td>\n      <td>51</td>\n    </tr>\n    <tr>\n      <th>241</th>\n      <td>tlg0013.tlg021.perseus-grc2.xml</td>\n      <td>Anonymous</td>\n      <td>Hymn 21 To Apollo</td>\n      <td>φοῖβε, σὲ μὲν καὶ κύκνος ὑπὸ πτερύγων λίγʼ ἀεί...</td>\n      <td>38</td>\n    </tr>\n    <tr>\n      <th>242</th>\n      <td>tlg0013.tlg022.perseus-grc2.xml</td>\n      <td>Anonymous</td>\n      <td>Hymn 22 To Poseidon</td>\n      <td>ἀμφὶ Ποσειδάωνα, μέγαν θεόν, ἄρχομʼ ἀείδειν,  ...</td>\n      <td>42</td>\n    </tr>\n    <tr>\n      <th>243</th>\n      <td>tlg0013.tlg023.perseus-grc2.xml</td>\n      <td>Anonymous</td>\n      <td>Hymn 23 to Zeus</td>\n      <td>Ζῆνα θεῶν τὸν ἄριστον ἀείσομαι ἠδὲ μέγιστον,  ...</td>\n      <td>22</td>\n    </tr>\n    <tr>\n      <th>244</th>\n      <td>tlg0013.tlg024.perseus-grc2.xml</td>\n      <td>Anonymous</td>\n      <td>Hymn 24 To Hestia</td>\n      <td>ἑστίη, ἥτε ἄνακτος Ἀπόλλωνος ἑκάτοιο  Πυθοῖ ἐν...</td>\n      <td>33</td>\n    </tr>\n    <tr>\n      <th>245</th>\n      <td>tlg0013.tlg025.perseus-grc2.xml</td>\n      <td>Anonymous</td>\n      <td>Hymn 25 To the Muses and Apollo</td>\n      <td>μουσάων ἄρχωμαι Ἀπόλλωνός τε Διός τε·  ἐκ γὰρ ...</td>\n      <td>51</td>\n    </tr>\n    <tr>\n      <th>246</th>\n      <td>tlg0013.tlg026.perseus-grc2.xml</td>\n      <td>Anonymous</td>\n      <td>Hymn 26 To Dionysus</td>\n      <td>κισσοκόμην Διόνυσον ἐρίβρομον ἄρχομʼ ἀείδειν, ...</td>\n      <td>89</td>\n    </tr>\n    <tr>\n      <th>247</th>\n      <td>tlg0013.tlg027.perseus-grc2.xml</td>\n      <td>Anonymous</td>\n      <td>Hymn 27 To Artemis</td>\n      <td>Ἄρτεμιν ἀείδω χρυσηλάκατον, κελαδεινήν,  παρθέ...</td>\n      <td>132</td>\n    </tr>\n    <tr>\n      <th>248</th>\n      <td>tlg0013.tlg028.perseus-grc2.xml</td>\n      <td>Anonymous</td>\n      <td>Hymn 28 To Athena</td>\n      <td>Παλλάδ’ Ἀθηναίην, κυδρὴν θεόν, ἄρχομ’ ἀείδειν ...</td>\n      <td>111</td>\n    </tr>\n    <tr>\n      <th>249</th>\n      <td>tlg0013.tlg029.perseus-grc2.xml</td>\n      <td>Anonymous</td>\n      <td>Hymn 29 To Hestia</td>\n      <td>ἑστίη, ἣ πάντων ἐν δώμασιν ὑψηλοῖσιν  ἀθανάτων...</td>\n      <td>96</td>\n    </tr>\n    <tr>\n      <th>250</th>\n      <td>tlg0013.tlg030.perseus-grc2.xml</td>\n      <td>Anonymous</td>\n      <td>Hymn 30 To Earth</td>\n      <td>γαῖαν παμμήτειραν ἀείσομαι, ἠυθέμεθλον,  πρεσβ...</td>\n      <td>133</td>\n    </tr>\n    <tr>\n      <th>251</th>\n      <td>tlg0013.tlg031.perseus-grc2.xml</td>\n      <td>Anonymous</td>\n      <td>Hymn 31 To Helios</td>\n      <td>ἥλιον ὑμνεῖν αὖτε Διὸς τέκος ἄρχεο Μοῦσα,  Καλ...</td>\n      <td>131</td>\n    </tr>\n    <tr>\n      <th>252</th>\n      <td>tlg0013.tlg032.perseus-grc2.xml</td>\n      <td>Anonymous</td>\n      <td>Hymn 32 To Selene</td>\n      <td>μήνην ἀείδειν τανυσίπτερον ἔσπετε, Μοῦσαι,  ἡδ...</td>\n      <td>123</td>\n    </tr>\n    <tr>\n      <th>253</th>\n      <td>tlg0013.tlg033.perseus-grc2.xml</td>\n      <td>Anonymous</td>\n      <td>Hymn 33 To the Dioscuri</td>\n      <td>ἀμφὶ Διὸς κούρους, ἑλικώπιδες ἔσπετε Μοῦσαι,  ...</td>\n      <td>116</td>\n    </tr>\n    <tr>\n      <th>618</th>\n      <td>tlg0284.tlg028.perseus-grc2.xml</td>\n      <td>Aelius Aristides</td>\n      <td>Ἱεροὶ λόγοι ἕκτος</td>\n      <td>τὰ μὲν δὴ πολλὰ οὕτω διῆγεν ἡμᾶς ὁ θεὸς, σημαί...</td>\n      <td>130</td>\n    </tr>\n  </tbody>\n</table>\n</div>"
     },
     "execution_count": 42,
     "metadata": {},
     "output_type": "execute_result"
    }
   ],
   "source": [
    "data_perseus[data_perseus[\"wordcount\"]<200]"
   ]
  },
  {
   "cell_type": "code",
   "execution_count": 43,
   "metadata": {
    "colab": {
     "base_uri": "https://localhost:8080/",
     "height": 1000
    },
    "colab_type": "code",
    "executionInfo": {
     "elapsed": 759,
     "status": "ok",
     "timestamp": 1588081199374,
     "user": {
      "displayName": "Vojtěch Kaše",
      "photoUrl": "https://lh3.googleusercontent.com/a-/AOh14Ggz3jS9e7I3GdIEbyBKFtqr9tPdNCwyLBEJwbK8cw=s64",
      "userId": "01399835024022498543"
     },
     "user_tz": -120
    },
    "id": "IZnT6UvQ-EqF",
    "outputId": "813d5871-8ef8-4f9a-d51f-554f121ed370",
    "ExecuteTime": {
     "end_time": "2024-01-04T14:49:30.462063Z",
     "start_time": "2024-01-04T14:49:30.445086Z"
    }
   },
   "outputs": [
    {
     "data": {
      "text/plain": "Empty DataFrame\nColumns: [filename, author, title, string, wordcount]\nIndex: []",
      "text/html": "<div>\n<style scoped>\n    .dataframe tbody tr th:only-of-type {\n        vertical-align: middle;\n    }\n\n    .dataframe tbody tr th {\n        vertical-align: top;\n    }\n\n    .dataframe thead th {\n        text-align: right;\n    }\n</style>\n<table border=\"1\" class=\"dataframe\">\n  <thead>\n    <tr style=\"text-align: right;\">\n      <th></th>\n      <th>filename</th>\n      <th>author</th>\n      <th>title</th>\n      <th>string</th>\n      <th>wordcount</th>\n    </tr>\n  </thead>\n  <tbody>\n  </tbody>\n</table>\n</div>"
     },
     "execution_count": 43,
     "metadata": {},
     "output_type": "execute_result"
    }
   ],
   "source": [
    "data_perseus[data_perseus[\"string\"] == \"\"]"
   ]
  },
  {
   "cell_type": "code",
   "execution_count": 44,
   "metadata": {
    "colab": {},
    "colab_type": "code",
    "id": "0VuOX0IF8sB-",
    "ExecuteTime": {
     "end_time": "2024-01-04T14:49:57.438503Z",
     "start_time": "2024-01-04T14:49:50.685941Z"
    }
   },
   "outputs": [
    {
     "name": "stdout",
     "output_type": "stream",
     "text": [
      "Your <class 'pandas.core.frame.DataFrame'> object has been succesfully written as \"https://sciencedata.dk/sharingout/648597%40au.dk/SDAM_root/SDAM_data/AGT/data_perseus_20240104.json\"\n"
     ]
    }
   ],
   "source": [
    "s.write_file(\"SDAM_data/AGT/data_perseus_20240104.json\", data_perseus)"
   ]
  },
  {
   "cell_type": "code",
   "execution_count": 45,
   "metadata": {
    "ExecuteTime": {
     "end_time": "2024-01-04T14:50:01.685925Z",
     "start_time": "2024-01-04T14:50:01.678701Z"
    }
   },
   "outputs": [
    {
     "data": {
      "text/plain": "['data/ggm0001/ggm001/ggm0001.ggm001.1st1K-grc1.xml',\n 'data/heb0001/heb010/heb0001.heb010.1st1K-eng1.xml',\n 'data/ogl0001/ogl001/ogl0001.ogl001.1st1K-grc1.xml',\n 'data/stoa0033a/tlg028/stoa0033a.tlg028.1st1K-grc1.xml',\n 'data/stoa0033a/tlg043/stoa0033a.tlg043.1st1K-grc1.xml',\n 'data/stoa0121/stoa001/stoa0121.stoa001.opp-grc1.xml',\n 'data/stoa0146d/stoa001/stoa0146d.stoa001.opp-grc1.xml',\n 'data/stoa0146d/stoa001/stoa0146d.stoa001.opp-lat1.xml',\n 'data/tlg0005/tlg003/tlg0005.tlg003.1st1K-grc1.xml',\n 'data/tlg0006/tlg020/tlg0006.tlg020.1st1K-grc1.xml']"
     },
     "execution_count": 45,
     "metadata": {},
     "output_type": "execute_result"
    }
   ],
   "source": [
    "paths_ogl[:10]"
   ]
  },
  {
   "cell_type": "code",
   "execution_count": 46,
   "metadata": {
    "ExecuteTime": {
     "end_time": "2024-01-04T14:50:05.700041Z",
     "start_time": "2024-01-04T14:50:05.445314Z"
    }
   },
   "outputs": [],
   "source": [
    "response = requests.get('https://raw.githubusercontent.com/OpenGreekAndLatin/First1KGreek/master/data/tlg0005/tlg003/tlg0005.tlg003.1st1K-grc1.xml')\n",
    "soup = BeautifulSoup(response.text, \"html.parser\")"
   ]
  },
  {
   "cell_type": "code",
   "execution_count": 47,
   "metadata": {
    "colab": {},
    "colab_type": "code",
    "id": "K8S0Ooba5XN-",
    "ExecuteTime": {
     "end_time": "2024-01-04T14:58:15.021415Z",
     "start_time": "2024-01-04T14:50:15.070403Z"
    }
   },
   "outputs": [
    {
     "name": "stdout",
     "output_type": "stream",
     "text": [
      "1201\n",
      "CPU times: user 1min 35s, sys: 2.9 s, total: 1min 38s\n",
      "Wall time: 7min 59s\n"
     ]
    }
   ],
   "source": [
    "%%time\n",
    "# OGL\n",
    "\n",
    "data = []\n",
    "for filepath in paths_ogl:\n",
    "    response = requests.get('https://raw.githubusercontent.com/OpenGreekAndLatin/First1KGreek/master/' + filepath)\n",
    "    soup = BeautifulSoup(response.text, \"html.parser\")\n",
    "    try:\n",
    "        # try paragraphs\n",
    "        raw_text = []\n",
    "        # extract p string\n",
    "        all_p = soup.body.find_all(\"p\")\n",
    "        for p in all_p:\n",
    "            raw_text.append(p.get_text())\n",
    "        p_string = \" \".join(raw_text)\n",
    "        # extract l string\n",
    "        raw_text = []\n",
    "        all_l = soup.body.find_all(\"l\")\n",
    "        for line in all_l:\n",
    "            raw_text.append(line.get_text())\n",
    "        l_string = \" \".join(raw_text)\n",
    "        body_string = \" \".join(soup.body.text.split())\n",
    "        #test: \n",
    "        #if (4 > (10 /2)) | (4 > (10 /2)):\n",
    "        #    print(\"true\")\n",
    "        if (len(l_string) > (len(body_string)/2)) | (len(p_string) > (len(body_string)/2)):\n",
    "            if len(l_string) > len(p_string):\n",
    "                string = l_string\n",
    "            else:\n",
    "                string = p_string\n",
    "        else:\n",
    "            string = body_string\n",
    "    except: \n",
    "        string = \"\"\n",
    "    wordcount = len(string.split())\n",
    "    try:\n",
    "        author = soup.author.text\n",
    "    except:\n",
    "        author = None\n",
    "    try:\n",
    "        try:\n",
    "            title = soup.titlestmt.title.get_text()\n",
    "        except:\n",
    "            title = None\n",
    "            title = \"\"\n",
    "        #for t in soup.find_all(\"title\"):\n",
    "        #    title = title + \"; \" + t.get_text()\n",
    "        #title = title[2:]\n",
    "    except:\n",
    "        title = None\n",
    "    data.append([filepath.rpartition(\"/\")[2], author, title, string, wordcount])\n",
    "print(len(data))"
   ]
  },
  {
   "cell_type": "code",
   "execution_count": 48,
   "metadata": {
    "colab": {},
    "colab_type": "code",
    "id": "9O9soSA-8HWO",
    "ExecuteTime": {
     "end_time": "2024-01-04T14:58:26.151804Z",
     "start_time": "2024-01-04T14:58:26.147216Z"
    }
   },
   "outputs": [
    {
     "data": {
      "text/plain": "                           filename            author  \\\n0     ggm0001.ggm001.1st1K-grc1.xml         Anonymous   \n1     heb0001.heb010.1st1K-eng1.xml              None   \n2     ogl0001.ogl001.1st1K-grc1.xml           Pinytus   \n3   stoa0033a.tlg028.1st1K-grc1.xml  pseudo-Aristotle   \n4   stoa0033a.tlg043.1st1K-grc1.xml  pseudo-Aristotle   \n5     stoa0121.stoa001.opp-grc1.xml         Eutropius   \n6    stoa0146d.stoa001.opp-grc1.xml        Hegemonius   \n7    stoa0146d.stoa001.opp-lat1.xml        Hegemonius   \n8     tlg0005.tlg003.1st1K-grc1.xml        Theocritus   \n9     tlg0006.tlg020.1st1K-grc1.xml         Euripides   \n10    tlg0007.tlg146.1st1K-grc1.xml          Plutarch   \n11    tlg0007.tlg147.1st1K-grc1.xml          Plutarch   \n12    tlg0011.tlg003.1st1K-grc1.xml         Sophocles   \n13    tlg0015.tlg001.1st1K-grc1.xml          Herodian   \n14    tlg0018.tlg001.1st1K-eng1.xml     Philo Judaeus   \n15    tlg0018.tlg001.1st1K-grc1.xml     Philo Judaeus   \n16    tlg0018.tlg002.1st1K-eng1.xml     Philo Judaeus   \n17    tlg0018.tlg002.1st1K-grc1.xml     Philo Judaeus   \n18    tlg0018.tlg003.1st1K-eng1.xml     Philo Judaeus   \n19    tlg0018.tlg003.1st1K-grc1.xml     Philo Judaeus   \n20    tlg0018.tlg004.1st1K-eng1.xml     Philo Judaeus   \n21    tlg0018.tlg004.1st1K-grc1.xml     Philo Judaeus   \n22    tlg0018.tlg005.1st1K-eng1.xml     Philo Judaeus   \n23    tlg0018.tlg005.1st1K-grc1.xml     Philo Judaeus   \n24    tlg0018.tlg006.1st1K-eng1.xml     Philo Judaeus   \n25    tlg0018.tlg006.1st1K-grc1.xml     Philo Judaeus   \n26    tlg0018.tlg007.1st1K-eng1.xml     Philo Judaeus   \n27    tlg0018.tlg007.1st1K-grc1.xml     Philo Judaeus   \n28    tlg0018.tlg008.1st1K-eng1.xml     Philo Judaeus   \n29    tlg0018.tlg008.1st1K-grc1.xml     Philo Judaeus   \n\n                                                title  \\\n0                                  Anametresis Pontou   \n1                                              Isaias   \n2                     De Epistola Pinyti ad Dionysium   \n3                                            De mundo   \n4                                          De spiritu   \n5                        Breviarium historiae romanae   \n6                                       Acta Archelai   \n7                                       Acta Archelai   \n8                                              Syrinx   \n9                                           Fragmenta   \n10                  Παροιμίαι αἷς Ἀλεξανδρεῖς ἐχρῶντο   \n11                           Ἐκλογὴ περὶ τῶν ἀδυνάτων   \n12                                               Ajax   \n13                              Ab excessu divi Marci   \n14                       On the Creation of the World   \n15                                  De opificio mundi   \n16                On the Alegories of the Sacred Laws   \n17                     Legum allegoriarum libri i‑iii   \n18  On the Cherubim; and on the Flaming Sword; and...   \n19                                        De Cherubim   \n20                  On the Sacrifice of Abel and Cain   \n21                     De sacrificiis Abelis et Caini   \n22  On the Principle that the Worse is accustomed ...   \n23             Quod deterius potiori insidiari soleat   \n24                           On the Posterity of Cain   \n25                               De Posteritate Caini   \n26                                      On the Giants   \n27                                      De gigantibus   \n28                     On the Unchangeableness of God   \n29                          Quod deus sit immutabilis   \n\n                                               string  wordcount  \n0   1. Χρὴ γινώσκειν ὅτι πάσης τῆς γῆς ὁ περίμετρο...        382  \n1   FROM HEBREW I. 1 The vision of Isaiah the son ...      40168  \n2   FRAGMENTUM BEATI PINYTI, CNOSSI IN CRETA EPISC...        180  \n3   ΠΟΛΛΑΚΙΣ μὲν ἔμοιγε θεῖόν τι καὶ δαιμόνιον ὄντ...       6294  \n4   ΤΙΣ ἡ τοῦ ἐμφύτου πνεύματος διαμονή, καὶ τίς ἡ...       3459  \n5   Τῆς Ῥωμαϊκῆς βασιλείας ἐν προοιμίοις οὐδὲν ἐγέ...      23867  \n6   Μανιχαῖος ἀπόστολος Ἰησοῦ Χριστοῦ καὶ οἱ σὺν ἐ...       5166  \n7   Thesaurus verus sive disputatio habita in Carc...      42159  \n8   Οὐδενὸς εὐνάτειρα Μακροπτολέμοιο δὲ μάτηρ  μαί...         77  \n9   ποίαν σε φῶμεν γαῖαν ἐκλελοιπότα πόλει ξενοῦσθ...      17708  \n10  Οἴκοι τὰ Μιλήσια: ἐπὶ τῶν ὅποι μὴ προςήκει τὴν...       2685  \n11  Κατὰ πετρῶν σπείρεις. Πλίνθον πλύνεις. Δικτύῳ ...        143  \n12   Ἀεὶ μὲν, ὦ παῖ Λαρτίου, δἐδορκά σε  πεῖράν τι...       7982  \n13  \\nΟἱ πλεῖστοι τῶν περὶ συγκομιδὴν ἱστορίας ἀσχ...      46751  \n14   Of other lawgivers, some have set forth what ...      21954  \n15   Τῶν ἄλλων νομοθετῶν οἱ μὲν ἀκαλλώπιστα καὶ γυ...      24591  \n16  \\nAnd the heaven and the earth and all their w...      52964  \n17   \"Καὶ συνετελέσθησαν ὁ οὐρανὸς καὶ ἡ γῆ καὶ πᾶ...      44538  \n18  \\n\"And God cast out Adam, and placed him oppos...      13524  \n19   „Καὶ ἐξέβαλε τὸν Ἀδὰμ καὶ κατῴκισεν ἀπέναντι ...      12940  \n20  \\n\"And he also added, that she should bring fo...      16851  \n21   „Καὶ προσέθηκε τεκεῖν τὸν ἀδελφὸν αὐτοῦ τὸν Ἄ...      23298  \n22  \\n And Cain said to Abel his brother, \"Let us ...      19864  \n23   „Καὶ εἶπε Κάιν πρὸς Ἄβελ τὸν ἀδελφὸν αὐτοῦ Δι...      15925  \n24  \\n\"And Cain went out from before the face of G...      19024  \n25   „Ἐξῆλθε δὲ Κάιν ἀπὸ προσώπου τοῦ θεοῦ, καὶ ᾤκ...      15988  \n26  \\n\"And it came to pass when there began to be ...       5603  \n27   „Καὶ δὴ ἐγένετο, ἡνίκα ἤρξαντο οἱ ἄνθρωποι πο...       5547  \n28  \\n\"And after this,\" says Moses, \"it came to pa...      15298  \n29   „Καὶ μετ’ ἐκεῖνο„ φησίν „ὡς ἂν εἰσεπορεύοντο ...      16116  ",
      "text/html": "<div>\n<style scoped>\n    .dataframe tbody tr th:only-of-type {\n        vertical-align: middle;\n    }\n\n    .dataframe tbody tr th {\n        vertical-align: top;\n    }\n\n    .dataframe thead th {\n        text-align: right;\n    }\n</style>\n<table border=\"1\" class=\"dataframe\">\n  <thead>\n    <tr style=\"text-align: right;\">\n      <th></th>\n      <th>filename</th>\n      <th>author</th>\n      <th>title</th>\n      <th>string</th>\n      <th>wordcount</th>\n    </tr>\n  </thead>\n  <tbody>\n    <tr>\n      <th>0</th>\n      <td>ggm0001.ggm001.1st1K-grc1.xml</td>\n      <td>Anonymous</td>\n      <td>Anametresis Pontou</td>\n      <td>1. Χρὴ γινώσκειν ὅτι πάσης τῆς γῆς ὁ περίμετρο...</td>\n      <td>382</td>\n    </tr>\n    <tr>\n      <th>1</th>\n      <td>heb0001.heb010.1st1K-eng1.xml</td>\n      <td>None</td>\n      <td>Isaias</td>\n      <td>FROM HEBREW I. 1 The vision of Isaiah the son ...</td>\n      <td>40168</td>\n    </tr>\n    <tr>\n      <th>2</th>\n      <td>ogl0001.ogl001.1st1K-grc1.xml</td>\n      <td>Pinytus</td>\n      <td>De Epistola Pinyti ad Dionysium</td>\n      <td>FRAGMENTUM BEATI PINYTI, CNOSSI IN CRETA EPISC...</td>\n      <td>180</td>\n    </tr>\n    <tr>\n      <th>3</th>\n      <td>stoa0033a.tlg028.1st1K-grc1.xml</td>\n      <td>pseudo-Aristotle</td>\n      <td>De mundo</td>\n      <td>ΠΟΛΛΑΚΙΣ μὲν ἔμοιγε θεῖόν τι καὶ δαιμόνιον ὄντ...</td>\n      <td>6294</td>\n    </tr>\n    <tr>\n      <th>4</th>\n      <td>stoa0033a.tlg043.1st1K-grc1.xml</td>\n      <td>pseudo-Aristotle</td>\n      <td>De spiritu</td>\n      <td>ΤΙΣ ἡ τοῦ ἐμφύτου πνεύματος διαμονή, καὶ τίς ἡ...</td>\n      <td>3459</td>\n    </tr>\n    <tr>\n      <th>5</th>\n      <td>stoa0121.stoa001.opp-grc1.xml</td>\n      <td>Eutropius</td>\n      <td>Breviarium historiae romanae</td>\n      <td>Τῆς Ῥωμαϊκῆς βασιλείας ἐν προοιμίοις οὐδὲν ἐγέ...</td>\n      <td>23867</td>\n    </tr>\n    <tr>\n      <th>6</th>\n      <td>stoa0146d.stoa001.opp-grc1.xml</td>\n      <td>Hegemonius</td>\n      <td>Acta Archelai</td>\n      <td>Μανιχαῖος ἀπόστολος Ἰησοῦ Χριστοῦ καὶ οἱ σὺν ἐ...</td>\n      <td>5166</td>\n    </tr>\n    <tr>\n      <th>7</th>\n      <td>stoa0146d.stoa001.opp-lat1.xml</td>\n      <td>Hegemonius</td>\n      <td>Acta Archelai</td>\n      <td>Thesaurus verus sive disputatio habita in Carc...</td>\n      <td>42159</td>\n    </tr>\n    <tr>\n      <th>8</th>\n      <td>tlg0005.tlg003.1st1K-grc1.xml</td>\n      <td>Theocritus</td>\n      <td>Syrinx</td>\n      <td>Οὐδενὸς εὐνάτειρα Μακροπτολέμοιο δὲ μάτηρ  μαί...</td>\n      <td>77</td>\n    </tr>\n    <tr>\n      <th>9</th>\n      <td>tlg0006.tlg020.1st1K-grc1.xml</td>\n      <td>Euripides</td>\n      <td>Fragmenta</td>\n      <td>ποίαν σε φῶμεν γαῖαν ἐκλελοιπότα πόλει ξενοῦσθ...</td>\n      <td>17708</td>\n    </tr>\n    <tr>\n      <th>10</th>\n      <td>tlg0007.tlg146.1st1K-grc1.xml</td>\n      <td>Plutarch</td>\n      <td>Παροιμίαι αἷς Ἀλεξανδρεῖς ἐχρῶντο</td>\n      <td>Οἴκοι τὰ Μιλήσια: ἐπὶ τῶν ὅποι μὴ προςήκει τὴν...</td>\n      <td>2685</td>\n    </tr>\n    <tr>\n      <th>11</th>\n      <td>tlg0007.tlg147.1st1K-grc1.xml</td>\n      <td>Plutarch</td>\n      <td>Ἐκλογὴ περὶ τῶν ἀδυνάτων</td>\n      <td>Κατὰ πετρῶν σπείρεις. Πλίνθον πλύνεις. Δικτύῳ ...</td>\n      <td>143</td>\n    </tr>\n    <tr>\n      <th>12</th>\n      <td>tlg0011.tlg003.1st1K-grc1.xml</td>\n      <td>Sophocles</td>\n      <td>Ajax</td>\n      <td>Ἀεὶ μὲν, ὦ παῖ Λαρτίου, δἐδορκά σε  πεῖράν τι...</td>\n      <td>7982</td>\n    </tr>\n    <tr>\n      <th>13</th>\n      <td>tlg0015.tlg001.1st1K-grc1.xml</td>\n      <td>Herodian</td>\n      <td>Ab excessu divi Marci</td>\n      <td>\\nΟἱ πλεῖστοι τῶν περὶ συγκομιδὴν ἱστορίας ἀσχ...</td>\n      <td>46751</td>\n    </tr>\n    <tr>\n      <th>14</th>\n      <td>tlg0018.tlg001.1st1K-eng1.xml</td>\n      <td>Philo Judaeus</td>\n      <td>On the Creation of the World</td>\n      <td>Of other lawgivers, some have set forth what ...</td>\n      <td>21954</td>\n    </tr>\n    <tr>\n      <th>15</th>\n      <td>tlg0018.tlg001.1st1K-grc1.xml</td>\n      <td>Philo Judaeus</td>\n      <td>De opificio mundi</td>\n      <td>Τῶν ἄλλων νομοθετῶν οἱ μὲν ἀκαλλώπιστα καὶ γυ...</td>\n      <td>24591</td>\n    </tr>\n    <tr>\n      <th>16</th>\n      <td>tlg0018.tlg002.1st1K-eng1.xml</td>\n      <td>Philo Judaeus</td>\n      <td>On the Alegories of the Sacred Laws</td>\n      <td>\\nAnd the heaven and the earth and all their w...</td>\n      <td>52964</td>\n    </tr>\n    <tr>\n      <th>17</th>\n      <td>tlg0018.tlg002.1st1K-grc1.xml</td>\n      <td>Philo Judaeus</td>\n      <td>Legum allegoriarum libri i‑iii</td>\n      <td>\"Καὶ συνετελέσθησαν ὁ οὐρανὸς καὶ ἡ γῆ καὶ πᾶ...</td>\n      <td>44538</td>\n    </tr>\n    <tr>\n      <th>18</th>\n      <td>tlg0018.tlg003.1st1K-eng1.xml</td>\n      <td>Philo Judaeus</td>\n      <td>On the Cherubim; and on the Flaming Sword; and...</td>\n      <td>\\n\"And God cast out Adam, and placed him oppos...</td>\n      <td>13524</td>\n    </tr>\n    <tr>\n      <th>19</th>\n      <td>tlg0018.tlg003.1st1K-grc1.xml</td>\n      <td>Philo Judaeus</td>\n      <td>De Cherubim</td>\n      <td>„Καὶ ἐξέβαλε τὸν Ἀδὰμ καὶ κατῴκισεν ἀπέναντι ...</td>\n      <td>12940</td>\n    </tr>\n    <tr>\n      <th>20</th>\n      <td>tlg0018.tlg004.1st1K-eng1.xml</td>\n      <td>Philo Judaeus</td>\n      <td>On the Sacrifice of Abel and Cain</td>\n      <td>\\n\"And he also added, that she should bring fo...</td>\n      <td>16851</td>\n    </tr>\n    <tr>\n      <th>21</th>\n      <td>tlg0018.tlg004.1st1K-grc1.xml</td>\n      <td>Philo Judaeus</td>\n      <td>De sacrificiis Abelis et Caini</td>\n      <td>„Καὶ προσέθηκε τεκεῖν τὸν ἀδελφὸν αὐτοῦ τὸν Ἄ...</td>\n      <td>23298</td>\n    </tr>\n    <tr>\n      <th>22</th>\n      <td>tlg0018.tlg005.1st1K-eng1.xml</td>\n      <td>Philo Judaeus</td>\n      <td>On the Principle that the Worse is accustomed ...</td>\n      <td>\\n And Cain said to Abel his brother, \"Let us ...</td>\n      <td>19864</td>\n    </tr>\n    <tr>\n      <th>23</th>\n      <td>tlg0018.tlg005.1st1K-grc1.xml</td>\n      <td>Philo Judaeus</td>\n      <td>Quod deterius potiori insidiari soleat</td>\n      <td>„Καὶ εἶπε Κάιν πρὸς Ἄβελ τὸν ἀδελφὸν αὐτοῦ Δι...</td>\n      <td>15925</td>\n    </tr>\n    <tr>\n      <th>24</th>\n      <td>tlg0018.tlg006.1st1K-eng1.xml</td>\n      <td>Philo Judaeus</td>\n      <td>On the Posterity of Cain</td>\n      <td>\\n\"And Cain went out from before the face of G...</td>\n      <td>19024</td>\n    </tr>\n    <tr>\n      <th>25</th>\n      <td>tlg0018.tlg006.1st1K-grc1.xml</td>\n      <td>Philo Judaeus</td>\n      <td>De Posteritate Caini</td>\n      <td>„Ἐξῆλθε δὲ Κάιν ἀπὸ προσώπου τοῦ θεοῦ, καὶ ᾤκ...</td>\n      <td>15988</td>\n    </tr>\n    <tr>\n      <th>26</th>\n      <td>tlg0018.tlg007.1st1K-eng1.xml</td>\n      <td>Philo Judaeus</td>\n      <td>On the Giants</td>\n      <td>\\n\"And it came to pass when there began to be ...</td>\n      <td>5603</td>\n    </tr>\n    <tr>\n      <th>27</th>\n      <td>tlg0018.tlg007.1st1K-grc1.xml</td>\n      <td>Philo Judaeus</td>\n      <td>De gigantibus</td>\n      <td>„Καὶ δὴ ἐγένετο, ἡνίκα ἤρξαντο οἱ ἄνθρωποι πο...</td>\n      <td>5547</td>\n    </tr>\n    <tr>\n      <th>28</th>\n      <td>tlg0018.tlg008.1st1K-eng1.xml</td>\n      <td>Philo Judaeus</td>\n      <td>On the Unchangeableness of God</td>\n      <td>\\n\"And after this,\" says Moses, \"it came to pa...</td>\n      <td>15298</td>\n    </tr>\n    <tr>\n      <th>29</th>\n      <td>tlg0018.tlg008.1st1K-grc1.xml</td>\n      <td>Philo Judaeus</td>\n      <td>Quod deus sit immutabilis</td>\n      <td>„Καὶ μετ’ ἐκεῖνο„ φησίν „ὡς ἂν εἰσεπορεύοντο ...</td>\n      <td>16116</td>\n    </tr>\n  </tbody>\n</table>\n</div>"
     },
     "execution_count": 48,
     "metadata": {},
     "output_type": "execute_result"
    }
   ],
   "source": [
    "data_ogl = pd.DataFrame(data, columns=[\"filename\", \"author\", \"title\", \"string\", \"wordcount\"])\n",
    "data_ogl.head(30)"
   ]
  },
  {
   "cell_type": "code",
   "execution_count": 50,
   "metadata": {
    "colab": {},
    "colab_type": "code",
    "id": "lhchaj958MQ3",
    "ExecuteTime": {
     "end_time": "2024-01-04T14:59:06.891463Z",
     "start_time": "2024-01-04T14:58:55.459875Z"
    }
   },
   "outputs": [
    {
     "name": "stdout",
     "output_type": "stream",
     "text": [
      "Your <class 'pandas.core.frame.DataFrame'> object has been succesfully written as \"https://sciencedata.dk/sharingout/648597%40au.dk/SDAM_root/SDAM_data/AGT/data_ogl_20240104.json\"\n"
     ]
    }
   ],
   "source": [
    "s.write_file(\"SDAM_data/AGT/data_ogl_20240104.json\", data_ogl)"
   ]
  },
  {
   "cell_type": "markdown",
   "metadata": {
    "colab_type": "text",
    "id": "boFacUf8EckN"
   },
   "source": [
    "# Read and Merge the Data"
   ]
  },
  {
   "cell_type": "code",
   "execution_count": 51,
   "metadata": {
    "colab": {},
    "colab_type": "code",
    "id": "lji5Sd7ODkg8",
    "ExecuteTime": {
     "end_time": "2024-01-04T14:59:06.902817Z",
     "start_time": "2024-01-04T14:59:06.895501Z"
    }
   },
   "outputs": [],
   "source": [
    "### READ THE DATA FROM SCIENCEDATA.DK\n",
    "### it takes quite long, for some reason..."
   ]
  },
  {
   "cell_type": "code",
   "execution_count": 52,
   "metadata": {
    "colab": {},
    "colab_type": "code",
    "id": "X_3LNNE2Mzk-",
    "ExecuteTime": {
     "end_time": "2024-01-04T14:59:06.904332Z",
     "start_time": "2024-01-04T14:59:06.899480Z"
    }
   },
   "outputs": [],
   "source": [
    "#data_perseus = s.read_file(\"SDAM_data/AGT/data_perseus_20201026.json\", \"df\")\n",
    "#data_ogl= s.read_file(\"SDAM_data/AGT/data_ogl_20201026.json\", \"df\")"
   ]
  },
  {
   "cell_type": "markdown",
   "metadata": {
    "colab_type": "text",
    "id": "xgtfv50IGkDT"
   },
   "source": [
    "First, we have to explore whether there is an overlap in file names between the two corpora"
   ]
  },
  {
   "cell_type": "code",
   "execution_count": 53,
   "metadata": {
    "colab": {
     "base_uri": "https://localhost:8080/",
     "height": 54
    },
    "colab_type": "code",
    "executionInfo": {
     "elapsed": 814,
     "status": "ok",
     "timestamp": 1588772403745,
     "user": {
      "displayName": "Vojtěch Kaše",
      "photoUrl": "https://lh3.googleusercontent.com/a-/AOh14Ggz3jS9e7I3GdIEbyBKFtqr9tPdNCwyLBEJwbK8cw=s64",
      "userId": "01399835024022498543"
     },
     "user_tz": -120
    },
    "id": "1aLbS4oJEZpL",
    "outputId": "38015f2c-8312-4213-e925-c43c8070012d",
    "ExecuteTime": {
     "end_time": "2024-01-04T14:59:07.747421Z",
     "start_time": "2024-01-04T14:59:07.740966Z"
    }
   },
   "outputs": [
    {
     "name": "stdout",
     "output_type": "stream",
     "text": [
      "['tlg0001.tlg001.perseus-grc2.xml', 'tlg0003.tlg001.perseus-grc2.xml', 'tlg0004.tlg001.perseus-grc2.xml', 'tlg0005.tlg001.perseus-grc2.xml', 'tlg0005.tlg002.perseus-grc2.xml', 'tlg0006.tlg001.perseus-grc2.xml', 'tlg0006.tlg002.perseus-grc2.xml', 'tlg0006.tlg003.perseus-grc2.xml', 'tlg0006.tlg004.perseus-grc2.xml', 'tlg0006.tlg005.perseus-grc2.xml']\n"
     ]
    }
   ],
   "source": [
    "### produce a list of filenames in the perseus dataset\n",
    "filenames_perseus = data_perseus.filename.unique().tolist()\n",
    "print(filenames_perseus[:10])"
   ]
  },
  {
   "cell_type": "code",
   "execution_count": 54,
   "metadata": {
    "colab": {
     "base_uri": "https://localhost:8080/",
     "height": 54
    },
    "colab_type": "code",
    "executionInfo": {
     "elapsed": 936,
     "status": "ok",
     "timestamp": 1588772406112,
     "user": {
      "displayName": "Vojtěch Kaše",
      "photoUrl": "https://lh3.googleusercontent.com/a-/AOh14Ggz3jS9e7I3GdIEbyBKFtqr9tPdNCwyLBEJwbK8cw=s64",
      "userId": "01399835024022498543"
     },
     "user_tz": -120
    },
    "id": "3tVG4H3XMRAt",
    "outputId": "cba97ade-900b-4f12-8995-04e9bcbd1e3b",
    "ExecuteTime": {
     "end_time": "2024-01-04T14:59:13.440988Z",
     "start_time": "2024-01-04T14:59:13.420305Z"
    }
   },
   "outputs": [
    {
     "name": "stdout",
     "output_type": "stream",
     "text": [
      "['tlg0001.tlg001', 'tlg0003.tlg001', 'tlg0004.tlg001', 'tlg0005.tlg001', 'tlg0005.tlg002', 'tlg0006.tlg001', 'tlg0006.tlg002', 'tlg0006.tlg003', 'tlg0006.tlg004', 'tlg0006.tlg005']\n"
     ]
    }
   ],
   "source": [
    "works_perseus = [filename.rpartition(\".\")[0].rpartition(\".\")[0] for filename in filenames_perseus]\n",
    "print(works_perseus[:10])"
   ]
  },
  {
   "cell_type": "code",
   "execution_count": 55,
   "metadata": {
    "colab": {},
    "colab_type": "code",
    "id": "RYtf8awuM-Wf",
    "ExecuteTime": {
     "end_time": "2024-01-04T14:59:21.772266Z",
     "start_time": "2024-01-04T14:59:21.762294Z"
    }
   },
   "outputs": [],
   "source": [
    "def check_filename(row_and_column):\n",
    "  perseus = False\n",
    "  for work in works_perseus:\n",
    "    if row_and_column.startswith(work):\n",
    "      perseus = True\n",
    "      continue\n",
    "  return perseus"
   ]
  },
  {
   "cell_type": "code",
   "outputs": [
    {
     "data": {
      "text/plain": "1201"
     },
     "execution_count": 56,
     "metadata": {},
     "output_type": "execute_result"
    }
   ],
   "source": [
    "len(data_ogl)"
   ],
   "metadata": {
    "collapsed": false,
    "ExecuteTime": {
     "end_time": "2024-01-04T14:59:51.648047Z",
     "start_time": "2024-01-04T14:59:51.642460Z"
    }
   },
   "execution_count": 56
  },
  {
   "cell_type": "code",
   "outputs": [],
   "source": [
    "data_ogl[\"in_perseus\"] = data_ogl[\"filename\"].apply(check_filename)"
   ],
   "metadata": {
    "collapsed": false,
    "ExecuteTime": {
     "end_time": "2024-01-04T15:00:46.852035Z",
     "start_time": "2024-01-04T15:00:46.846756Z"
    }
   },
   "execution_count": 57
  },
  {
   "cell_type": "code",
   "outputs": [
    {
     "data": {
      "text/plain": "44"
     },
     "execution_count": 58,
     "metadata": {},
     "output_type": "execute_result"
    }
   ],
   "source": [
    "data_ogl[\"in_perseus\"].sum()"
   ],
   "metadata": {
    "collapsed": false,
    "ExecuteTime": {
     "end_time": "2024-01-04T15:00:55.546518Z",
     "start_time": "2024-01-04T15:00:55.529397Z"
    }
   },
   "execution_count": 58
  },
  {
   "cell_type": "code",
   "outputs": [
    {
     "data": {
      "text/plain": "                          filename                      author  \\\n12   tlg0011.tlg003.1st1K-grc1.xml                   Sophocles   \n79   tlg0031.tlg002.1st1K-cop1.xml                               \n80    tlg0031.tlg002.INTF-grc1.xml                        None   \n100  tlg0057.tlg010.1st1K-grc1.xml                       Galen   \n213  tlg0081.tlg006.1st1K-grc1.xml  Dionysius of Halicarnassus   \n214  tlg0081.tlg007.1st1K-grc1.xml  Dionysius of Halicarnassus   \n224  tlg0085.tlg001.1st1K-grc1.xml                   Aeschylus   \n225  tlg0085.tlg002.1st1K-grc1.xml                   Aeschylus   \n226  tlg0085.tlg003.1st1K-grc1.xml                   Aeschylus   \n227  tlg0085.tlg004.1st1K-grc1.xml                   Aeschylus   \n228  tlg0085.tlg005.1st1K-grc1.xml                   Aeschylus   \n229  tlg0085.tlg006.1st1K-grc1.xml                   Aeschylus   \n230  tlg0085.tlg007.1st1K-grc1.xml                   Aeschylus   \n235  tlg0086.tlg003.1st1K-grc1.xml                   Aristotle   \n236  tlg0086.tlg003.1st1K-grc2.xml                   Aristotle   \n359  tlg0363.tlg007.1st1K-grc1.xml         Claudius Ptolemaeus   \n464  tlg0555.tlg001.1st1K-grc1.xml       Clement of Alexandria   \n466  tlg0555.tlg004.1st1K-grc1.xml       Clement of Alexandria   \n468  tlg0555.tlg006.1st1K-grc1.xml       Clement of Alexandria   \n470  tlg0557.tlg004.1st1K-grc1.xml                   Epictetus   \n471  tlg0557.tlg005.1st1K-grc1.xml                   Epictetus   \n518  tlg0627.tlg001.1st1K-grc1.xml                 Hippocrates   \n519  tlg0627.tlg002.1st1K-grc1.xml                 Hippocrates   \n520  tlg0627.tlg003.1st1K-grc1.xml                 Hippocrates   \n521  tlg0627.tlg004.1st1K-grc1.xml                 Hippocrates   \n522  tlg0627.tlg005.1st1K-grc1.xml                 Hippocrates   \n523  tlg0627.tlg006.1st1K-grc1.xml                 Hippocrates   \n524  tlg0627.tlg007.1st1K-grc1.xml                 Hippocrates   \n525  tlg0627.tlg008.1st1K-grc1.xml                 Hippocrates   \n526  tlg0627.tlg009.1st1K-grc1.xml                 Hippocrates   \n527  tlg0627.tlg010.1st1K-grc1.xml                 Hippocrates   \n528  tlg0627.tlg011.1st1K-grc1.xml                 Hippocrates   \n529  tlg0627.tlg012.1st1K-grc1.xml                 Hippocrates   \n530  tlg0627.tlg013.1st1K-grc1.xml                 Hippocrates   \n545  tlg0627.tlg027.1st1K-grc1.xml                 Hippocrates   \n546  tlg0627.tlg028.1st1K-grc1.xml                 Hippocrates   \n547  tlg0627.tlg029.1st1K-grc1.xml                 Hippocrates   \n548  tlg0627.tlg030.1st1K-grc1.xml                 Hippocrates   \n562  tlg0627.tlg046.1st1K-grc1.xml                 Hippocrates   \n567  tlg0627.tlg051.1st1K-grc1.xml                 Hippocrates   \n644    tlg1216.tlg001.opp-grc1.xml                    Barnabas   \n804  tlg2018.tlg002.1st1K-eng1.xml                    Eusebius   \n805  tlg2018.tlg002.1st1K-grc1.xml                    Eusebius   \n806  tlg2018.tlg002.1st1K-grc2.xml                    Eusebius   \n\n                                              title  \\\n12                                             Ajax   \n79                                   Mark Chapter 1   \n80                                               01   \n100                     De naturalibus facultatibus   \n213                         De Demosthenis dictione   \n214  Libri secundi de antiquis oratoribus reliquiae   \n224                                        Ἱκέτιδες   \n225                                          Πέρσαι   \n226                              Προμηθεὺς Δεσμώτης   \n227                                  Ἑπτὰ ἐπὶ Θήβας   \n228                                       Ἀγαμέμνων   \n229                                        Χοηφóρoι   \n230                                       Εὐμενίδες   \n235                        Res Publica Atheniensium   \n236              Fragmenta Deperditae Partis Primae   \n359                  Apotelesmatica (= Tetrabiblos)   \n464                                    Protrepticus   \n466                             Stromata. Book 7-8.   \n468                             Quis dives salvetur   \n470   Gnomologium Epicteteum (e Stobaei libris 1-2)   \n471   Gnomologium Epicteteum (e Stobaei libris 3‑4)   \n518                              De prisca medicina   \n519                           De aere, aquis, locis   \n520                                    Prognosticon   \n521                      De diaeta in morbis acutis   \n522                    De diaeta acutorum (spurium)   \n523                                     Epidemiarum   \n524                           De capitis vulneribus   \n525                              De officina medici   \n526                                    De fracturis   \n527                                    De articulis   \n528                                      Vectiarius   \n529                                       Aphorismi   \n530                                     Iusiurandum   \n545                                  De morbo sacro   \n546                                    De ulceribus   \n547                              De haemorrhoidibus   \n548                                     De fistulis   \n562                                     De alimento   \n567                                   Praeceptiones   \n644                                Βαρνάβα ἐπιστολή   \n804                          Historia Ecclesiastica   \n805                          Historia Ecclesiastica   \n806                          Historia Ecclesiastica   \n\n                                                string  wordcount  in_perseus  \n12    Ἀεὶ μὲν, ὦ παῖ Λαρτίου, δἐδορκά σε  πεῖράν τι...       7982        True  \n79   ⲧ ⲁⲣⲭⲏ ⲙ ⲡ ⲉⲩⲁⲅⲅⲉⲗⲓⲟⲛ ⲛ ⲓⲏⲥⲟⲩⲥ ⲡⲉ ⲭⲣⲓⲥⲧⲟⲥ [ ⲡ ...       1231        True  \n80   αρχη του ευαγγελι ου ιυ χυ υυ θυ καθως γε γραπ...        831        True  \n100  Ἐπειδὴ τὸ μὲν αἰσθάνεσθαί τε καὶ κινεῖσθαι κατ...      31877        True  \n213  \\nδικανικοῖς μὲν οὖν οὐ περιέτυχον αὐτοῦ λόγοι...      35383        True  \n214  \\nDE DEMOSTHENE\\n   I 1 TZETZAE scholion in Cr...        261        True  \n224  Ζεὺς μὲν ἀφίκτωρ ἐπίδοι προφρόνως στόλον ἡμέτε...       7627        True  \n225  Τάδε μὲν Περσῶν τῶν οἰχομένων Ἑλλάδ᾽ ἐς αἶαν π...       6877        True  \n226  Χθονὸς μὲν ἐς τηλουρὸν ἥκομεν πέδον, Σκύθην ἐς...       7207        True  \n227  Κάδμου πολῖται, χρὴ λέγειν τὰ καίρια ὅστις φυλ...       6844        True  \n228  θεοὺς μὲν αἰτῶ τῶνδ᾽ ἀπαλλαγὴν πόνων, φρουρᾶς ...      10210        True  \n229  Ἑρμῆ χθόνιε, πατρῷ᾽ ἐποπτεύων κράτη, σωτὴρ γεν...       7553        True  \n230  Πρῶτον μὲν εὐχῇ τῇδε πρεσβεύω θεῶν τὴν πρωτόμα...       6866        True  \n235  I. — — Μύρωνος καθ᾿ ἱερῶν ὀμόσαντες ἀριστίνδην...      41128        True  \n236  1. Epit. Heraclidis 1 : Ἀθηναῖοι τὸ μὲν ἐξ ἀρχ...       1292        True  \n359  lege p. 76, 9 Ματιαν „ „ 87, 26 βιαιοθανασίας ...      60921        True  \n464  Ἀμφίων ὁ Θηβαῖος καὶ Ἀρίων ὁ Μηθυμναῖος ἄμφω μ...      23350        True  \n466  Ἤδη δὲ καιρὸς ἡμᾶς παραστῆσαι τοῖς Ἕλλησι μόνο...      28573        True  \n468  Οἱ μὲν τοὺς ἐγκωμιαστικοὺς λόγους τοῖς πλουσίο...       9290        True  \n470  Ἐπικτήτου. Θεοὺς δικαίᾳ καὶ μεμετρημένῃ διαθέσ...        285        True  \n471  1. (1 Schw. fr. 1). Ἐπικτήτου. Ὁ τύχῃ βίος συμ...       2004        True  \n518  1. Ὁχόσοι ἐπεχείρησαν περὶ ἰητριχῆς λέγειν ἢ γ...       5549        True  \n519  1. Ἰητρικὴν ὅστις βούλεται ὀρθῶς ζητέειν, τάδε...       7476        True  \n520  1. Τὸν ἰητρὸν δοκέει μοι ἄριστον εἶναι πρόνοια...       5245        True  \n521  1. Οἱ ξυγγράψαντες τὰς Κνιδίας καλεομένας γνώμ...       6151        True  \n522  1. Καῦσος γίγνεται, ὁκόταν ἀναξηρανθέντα τὰ φλ...       5369        True  \n523  1. Ἐν Θάσῳ, φθινοπώρου περὶ ἰσημερίην καὶ ὑπὸ ...      42384        True  \n524  1. Τῶν ἀνθρώπων αἱ κεφαλαὶ οὐδὲν ὁμοίως σφίσιν...       5016        True  \n525  1. Ἢ ὅμοια ἢ ἀνόμοια ἐξ ἀρχῆς· ἀπὸ τῶν μεγίστω...       2169        True  \n526  1. Ἐχρῆν τὸν ἰητρὸν τῶν ἐκπτωσίων τε καὶ κατηγ...      11290        True  \n527  1. Ὤμου δὲ ἄρθρον ἕνα τρόπον οἶδα ὀλισθάνον, τ...      21424        True  \n528  1. Ὀστέων φύσις· δακτύλων μὲν ἁπλᾶ καὶ ὀστέα κ...       4997        True  \n529  1. Ὁ βίος βραχὺς, ἡ δὲ τέχνη μακρὴ, ὁ δὲ καιρὸ...       7496        True  \n530  Ὄμνυμι Ἀπόλλωνα ἰητρὸν, καὶ Ἀσκληπιὸν, καὶ Ὑγε...        250        True  \n545  1. Περὶ μὲν τῆς ἱερῆς νούσου καλεομένης ὧδ’ ἔχ...       4734        True  \n546  1. Ἕλκεα ξύμπαντα οὐ χρὴ τέγγειν, πλὴν οἴνῳ, ἢ...       3310        True  \n547  1. Αἱμοῤῥοΐδων τὸ μὲν νόσημα ὧδε γίνεται· ἐπὴν...        906        True  \n548  1. Σύριγγες γίνονται μὲν ὑπὸ φλασμάτων καὶ φυμ...       1557        True  \n562  1. Τροφὴ καὶ τροφῆς εἶδος, μία καὶ πολλαί· μία...       1368        True  \n567  1. Χρόνος ἐστὶν ἐν ᾧ καιρὸς, καὶ καιρὸς ἐν ᾧ χ...       1358        True  \n644   Χαίρετε, υἱοὶ καὶ θυγατέρες, ἐν ὀνόματι\\nκυρί...       7726        True  \n804  CONTENTS ΟF BOOK Ι The first book of the Eccle...     139907        True  \n805  Τάδε ἡ πρώτη περιέχει βίβλος τῆς\\nἘκκληαιαατικ...     108362        True  \n806  Τὰς τῶν ἱερῶν ἀποστόλων διαδοχὰς σὺν καὶ \\nτοῖ...     103599        True  ",
      "text/html": "<div>\n<style scoped>\n    .dataframe tbody tr th:only-of-type {\n        vertical-align: middle;\n    }\n\n    .dataframe tbody tr th {\n        vertical-align: top;\n    }\n\n    .dataframe thead th {\n        text-align: right;\n    }\n</style>\n<table border=\"1\" class=\"dataframe\">\n  <thead>\n    <tr style=\"text-align: right;\">\n      <th></th>\n      <th>filename</th>\n      <th>author</th>\n      <th>title</th>\n      <th>string</th>\n      <th>wordcount</th>\n      <th>in_perseus</th>\n    </tr>\n  </thead>\n  <tbody>\n    <tr>\n      <th>12</th>\n      <td>tlg0011.tlg003.1st1K-grc1.xml</td>\n      <td>Sophocles</td>\n      <td>Ajax</td>\n      <td>Ἀεὶ μὲν, ὦ παῖ Λαρτίου, δἐδορκά σε  πεῖράν τι...</td>\n      <td>7982</td>\n      <td>True</td>\n    </tr>\n    <tr>\n      <th>79</th>\n      <td>tlg0031.tlg002.1st1K-cop1.xml</td>\n      <td></td>\n      <td>Mark Chapter 1</td>\n      <td>ⲧ ⲁⲣⲭⲏ ⲙ ⲡ ⲉⲩⲁⲅⲅⲉⲗⲓⲟⲛ ⲛ ⲓⲏⲥⲟⲩⲥ ⲡⲉ ⲭⲣⲓⲥⲧⲟⲥ [ ⲡ ...</td>\n      <td>1231</td>\n      <td>True</td>\n    </tr>\n    <tr>\n      <th>80</th>\n      <td>tlg0031.tlg002.INTF-grc1.xml</td>\n      <td>None</td>\n      <td>01</td>\n      <td>αρχη του ευαγγελι ου ιυ χυ υυ θυ καθως γε γραπ...</td>\n      <td>831</td>\n      <td>True</td>\n    </tr>\n    <tr>\n      <th>100</th>\n      <td>tlg0057.tlg010.1st1K-grc1.xml</td>\n      <td>Galen</td>\n      <td>De naturalibus facultatibus</td>\n      <td>Ἐπειδὴ τὸ μὲν αἰσθάνεσθαί τε καὶ κινεῖσθαι κατ...</td>\n      <td>31877</td>\n      <td>True</td>\n    </tr>\n    <tr>\n      <th>213</th>\n      <td>tlg0081.tlg006.1st1K-grc1.xml</td>\n      <td>Dionysius of Halicarnassus</td>\n      <td>De Demosthenis dictione</td>\n      <td>\\nδικανικοῖς μὲν οὖν οὐ περιέτυχον αὐτοῦ λόγοι...</td>\n      <td>35383</td>\n      <td>True</td>\n    </tr>\n    <tr>\n      <th>214</th>\n      <td>tlg0081.tlg007.1st1K-grc1.xml</td>\n      <td>Dionysius of Halicarnassus</td>\n      <td>Libri secundi de antiquis oratoribus reliquiae</td>\n      <td>\\nDE DEMOSTHENE\\n   I 1 TZETZAE scholion in Cr...</td>\n      <td>261</td>\n      <td>True</td>\n    </tr>\n    <tr>\n      <th>224</th>\n      <td>tlg0085.tlg001.1st1K-grc1.xml</td>\n      <td>Aeschylus</td>\n      <td>Ἱκέτιδες</td>\n      <td>Ζεὺς μὲν ἀφίκτωρ ἐπίδοι προφρόνως στόλον ἡμέτε...</td>\n      <td>7627</td>\n      <td>True</td>\n    </tr>\n    <tr>\n      <th>225</th>\n      <td>tlg0085.tlg002.1st1K-grc1.xml</td>\n      <td>Aeschylus</td>\n      <td>Πέρσαι</td>\n      <td>Τάδε μὲν Περσῶν τῶν οἰχομένων Ἑλλάδ᾽ ἐς αἶαν π...</td>\n      <td>6877</td>\n      <td>True</td>\n    </tr>\n    <tr>\n      <th>226</th>\n      <td>tlg0085.tlg003.1st1K-grc1.xml</td>\n      <td>Aeschylus</td>\n      <td>Προμηθεὺς Δεσμώτης</td>\n      <td>Χθονὸς μὲν ἐς τηλουρὸν ἥκομεν πέδον, Σκύθην ἐς...</td>\n      <td>7207</td>\n      <td>True</td>\n    </tr>\n    <tr>\n      <th>227</th>\n      <td>tlg0085.tlg004.1st1K-grc1.xml</td>\n      <td>Aeschylus</td>\n      <td>Ἑπτὰ ἐπὶ Θήβας</td>\n      <td>Κάδμου πολῖται, χρὴ λέγειν τὰ καίρια ὅστις φυλ...</td>\n      <td>6844</td>\n      <td>True</td>\n    </tr>\n    <tr>\n      <th>228</th>\n      <td>tlg0085.tlg005.1st1K-grc1.xml</td>\n      <td>Aeschylus</td>\n      <td>Ἀγαμέμνων</td>\n      <td>θεοὺς μὲν αἰτῶ τῶνδ᾽ ἀπαλλαγὴν πόνων, φρουρᾶς ...</td>\n      <td>10210</td>\n      <td>True</td>\n    </tr>\n    <tr>\n      <th>229</th>\n      <td>tlg0085.tlg006.1st1K-grc1.xml</td>\n      <td>Aeschylus</td>\n      <td>Χοηφóρoι</td>\n      <td>Ἑρμῆ χθόνιε, πατρῷ᾽ ἐποπτεύων κράτη, σωτὴρ γεν...</td>\n      <td>7553</td>\n      <td>True</td>\n    </tr>\n    <tr>\n      <th>230</th>\n      <td>tlg0085.tlg007.1st1K-grc1.xml</td>\n      <td>Aeschylus</td>\n      <td>Εὐμενίδες</td>\n      <td>Πρῶτον μὲν εὐχῇ τῇδε πρεσβεύω θεῶν τὴν πρωτόμα...</td>\n      <td>6866</td>\n      <td>True</td>\n    </tr>\n    <tr>\n      <th>235</th>\n      <td>tlg0086.tlg003.1st1K-grc1.xml</td>\n      <td>Aristotle</td>\n      <td>Res Publica Atheniensium</td>\n      <td>I. — — Μύρωνος καθ᾿ ἱερῶν ὀμόσαντες ἀριστίνδην...</td>\n      <td>41128</td>\n      <td>True</td>\n    </tr>\n    <tr>\n      <th>236</th>\n      <td>tlg0086.tlg003.1st1K-grc2.xml</td>\n      <td>Aristotle</td>\n      <td>Fragmenta Deperditae Partis Primae</td>\n      <td>1. Epit. Heraclidis 1 : Ἀθηναῖοι τὸ μὲν ἐξ ἀρχ...</td>\n      <td>1292</td>\n      <td>True</td>\n    </tr>\n    <tr>\n      <th>359</th>\n      <td>tlg0363.tlg007.1st1K-grc1.xml</td>\n      <td>Claudius Ptolemaeus</td>\n      <td>Apotelesmatica (= Tetrabiblos)</td>\n      <td>lege p. 76, 9 Ματιαν „ „ 87, 26 βιαιοθανασίας ...</td>\n      <td>60921</td>\n      <td>True</td>\n    </tr>\n    <tr>\n      <th>464</th>\n      <td>tlg0555.tlg001.1st1K-grc1.xml</td>\n      <td>Clement of Alexandria</td>\n      <td>Protrepticus</td>\n      <td>Ἀμφίων ὁ Θηβαῖος καὶ Ἀρίων ὁ Μηθυμναῖος ἄμφω μ...</td>\n      <td>23350</td>\n      <td>True</td>\n    </tr>\n    <tr>\n      <th>466</th>\n      <td>tlg0555.tlg004.1st1K-grc1.xml</td>\n      <td>Clement of Alexandria</td>\n      <td>Stromata. Book 7-8.</td>\n      <td>Ἤδη δὲ καιρὸς ἡμᾶς παραστῆσαι τοῖς Ἕλλησι μόνο...</td>\n      <td>28573</td>\n      <td>True</td>\n    </tr>\n    <tr>\n      <th>468</th>\n      <td>tlg0555.tlg006.1st1K-grc1.xml</td>\n      <td>Clement of Alexandria</td>\n      <td>Quis dives salvetur</td>\n      <td>Οἱ μὲν τοὺς ἐγκωμιαστικοὺς λόγους τοῖς πλουσίο...</td>\n      <td>9290</td>\n      <td>True</td>\n    </tr>\n    <tr>\n      <th>470</th>\n      <td>tlg0557.tlg004.1st1K-grc1.xml</td>\n      <td>Epictetus</td>\n      <td>Gnomologium Epicteteum (e Stobaei libris 1-2)</td>\n      <td>Ἐπικτήτου. Θεοὺς δικαίᾳ καὶ μεμετρημένῃ διαθέσ...</td>\n      <td>285</td>\n      <td>True</td>\n    </tr>\n    <tr>\n      <th>471</th>\n      <td>tlg0557.tlg005.1st1K-grc1.xml</td>\n      <td>Epictetus</td>\n      <td>Gnomologium Epicteteum (e Stobaei libris 3‑4)</td>\n      <td>1. (1 Schw. fr. 1). Ἐπικτήτου. Ὁ τύχῃ βίος συμ...</td>\n      <td>2004</td>\n      <td>True</td>\n    </tr>\n    <tr>\n      <th>518</th>\n      <td>tlg0627.tlg001.1st1K-grc1.xml</td>\n      <td>Hippocrates</td>\n      <td>De prisca medicina</td>\n      <td>1. Ὁχόσοι ἐπεχείρησαν περὶ ἰητριχῆς λέγειν ἢ γ...</td>\n      <td>5549</td>\n      <td>True</td>\n    </tr>\n    <tr>\n      <th>519</th>\n      <td>tlg0627.tlg002.1st1K-grc1.xml</td>\n      <td>Hippocrates</td>\n      <td>De aere, aquis, locis</td>\n      <td>1. Ἰητρικὴν ὅστις βούλεται ὀρθῶς ζητέειν, τάδε...</td>\n      <td>7476</td>\n      <td>True</td>\n    </tr>\n    <tr>\n      <th>520</th>\n      <td>tlg0627.tlg003.1st1K-grc1.xml</td>\n      <td>Hippocrates</td>\n      <td>Prognosticon</td>\n      <td>1. Τὸν ἰητρὸν δοκέει μοι ἄριστον εἶναι πρόνοια...</td>\n      <td>5245</td>\n      <td>True</td>\n    </tr>\n    <tr>\n      <th>521</th>\n      <td>tlg0627.tlg004.1st1K-grc1.xml</td>\n      <td>Hippocrates</td>\n      <td>De diaeta in morbis acutis</td>\n      <td>1. Οἱ ξυγγράψαντες τὰς Κνιδίας καλεομένας γνώμ...</td>\n      <td>6151</td>\n      <td>True</td>\n    </tr>\n    <tr>\n      <th>522</th>\n      <td>tlg0627.tlg005.1st1K-grc1.xml</td>\n      <td>Hippocrates</td>\n      <td>De diaeta acutorum (spurium)</td>\n      <td>1. Καῦσος γίγνεται, ὁκόταν ἀναξηρανθέντα τὰ φλ...</td>\n      <td>5369</td>\n      <td>True</td>\n    </tr>\n    <tr>\n      <th>523</th>\n      <td>tlg0627.tlg006.1st1K-grc1.xml</td>\n      <td>Hippocrates</td>\n      <td>Epidemiarum</td>\n      <td>1. Ἐν Θάσῳ, φθινοπώρου περὶ ἰσημερίην καὶ ὑπὸ ...</td>\n      <td>42384</td>\n      <td>True</td>\n    </tr>\n    <tr>\n      <th>524</th>\n      <td>tlg0627.tlg007.1st1K-grc1.xml</td>\n      <td>Hippocrates</td>\n      <td>De capitis vulneribus</td>\n      <td>1. Τῶν ἀνθρώπων αἱ κεφαλαὶ οὐδὲν ὁμοίως σφίσιν...</td>\n      <td>5016</td>\n      <td>True</td>\n    </tr>\n    <tr>\n      <th>525</th>\n      <td>tlg0627.tlg008.1st1K-grc1.xml</td>\n      <td>Hippocrates</td>\n      <td>De officina medici</td>\n      <td>1. Ἢ ὅμοια ἢ ἀνόμοια ἐξ ἀρχῆς· ἀπὸ τῶν μεγίστω...</td>\n      <td>2169</td>\n      <td>True</td>\n    </tr>\n    <tr>\n      <th>526</th>\n      <td>tlg0627.tlg009.1st1K-grc1.xml</td>\n      <td>Hippocrates</td>\n      <td>De fracturis</td>\n      <td>1. Ἐχρῆν τὸν ἰητρὸν τῶν ἐκπτωσίων τε καὶ κατηγ...</td>\n      <td>11290</td>\n      <td>True</td>\n    </tr>\n    <tr>\n      <th>527</th>\n      <td>tlg0627.tlg010.1st1K-grc1.xml</td>\n      <td>Hippocrates</td>\n      <td>De articulis</td>\n      <td>1. Ὤμου δὲ ἄρθρον ἕνα τρόπον οἶδα ὀλισθάνον, τ...</td>\n      <td>21424</td>\n      <td>True</td>\n    </tr>\n    <tr>\n      <th>528</th>\n      <td>tlg0627.tlg011.1st1K-grc1.xml</td>\n      <td>Hippocrates</td>\n      <td>Vectiarius</td>\n      <td>1. Ὀστέων φύσις· δακτύλων μὲν ἁπλᾶ καὶ ὀστέα κ...</td>\n      <td>4997</td>\n      <td>True</td>\n    </tr>\n    <tr>\n      <th>529</th>\n      <td>tlg0627.tlg012.1st1K-grc1.xml</td>\n      <td>Hippocrates</td>\n      <td>Aphorismi</td>\n      <td>1. Ὁ βίος βραχὺς, ἡ δὲ τέχνη μακρὴ, ὁ δὲ καιρὸ...</td>\n      <td>7496</td>\n      <td>True</td>\n    </tr>\n    <tr>\n      <th>530</th>\n      <td>tlg0627.tlg013.1st1K-grc1.xml</td>\n      <td>Hippocrates</td>\n      <td>Iusiurandum</td>\n      <td>Ὄμνυμι Ἀπόλλωνα ἰητρὸν, καὶ Ἀσκληπιὸν, καὶ Ὑγε...</td>\n      <td>250</td>\n      <td>True</td>\n    </tr>\n    <tr>\n      <th>545</th>\n      <td>tlg0627.tlg027.1st1K-grc1.xml</td>\n      <td>Hippocrates</td>\n      <td>De morbo sacro</td>\n      <td>1. Περὶ μὲν τῆς ἱερῆς νούσου καλεομένης ὧδ’ ἔχ...</td>\n      <td>4734</td>\n      <td>True</td>\n    </tr>\n    <tr>\n      <th>546</th>\n      <td>tlg0627.tlg028.1st1K-grc1.xml</td>\n      <td>Hippocrates</td>\n      <td>De ulceribus</td>\n      <td>1. Ἕλκεα ξύμπαντα οὐ χρὴ τέγγειν, πλὴν οἴνῳ, ἢ...</td>\n      <td>3310</td>\n      <td>True</td>\n    </tr>\n    <tr>\n      <th>547</th>\n      <td>tlg0627.tlg029.1st1K-grc1.xml</td>\n      <td>Hippocrates</td>\n      <td>De haemorrhoidibus</td>\n      <td>1. Αἱμοῤῥοΐδων τὸ μὲν νόσημα ὧδε γίνεται· ἐπὴν...</td>\n      <td>906</td>\n      <td>True</td>\n    </tr>\n    <tr>\n      <th>548</th>\n      <td>tlg0627.tlg030.1st1K-grc1.xml</td>\n      <td>Hippocrates</td>\n      <td>De fistulis</td>\n      <td>1. Σύριγγες γίνονται μὲν ὑπὸ φλασμάτων καὶ φυμ...</td>\n      <td>1557</td>\n      <td>True</td>\n    </tr>\n    <tr>\n      <th>562</th>\n      <td>tlg0627.tlg046.1st1K-grc1.xml</td>\n      <td>Hippocrates</td>\n      <td>De alimento</td>\n      <td>1. Τροφὴ καὶ τροφῆς εἶδος, μία καὶ πολλαί· μία...</td>\n      <td>1368</td>\n      <td>True</td>\n    </tr>\n    <tr>\n      <th>567</th>\n      <td>tlg0627.tlg051.1st1K-grc1.xml</td>\n      <td>Hippocrates</td>\n      <td>Praeceptiones</td>\n      <td>1. Χρόνος ἐστὶν ἐν ᾧ καιρὸς, καὶ καιρὸς ἐν ᾧ χ...</td>\n      <td>1358</td>\n      <td>True</td>\n    </tr>\n    <tr>\n      <th>644</th>\n      <td>tlg1216.tlg001.opp-grc1.xml</td>\n      <td>Barnabas</td>\n      <td>Βαρνάβα ἐπιστολή</td>\n      <td>Χαίρετε, υἱοὶ καὶ θυγατέρες, ἐν ὀνόματι\\nκυρί...</td>\n      <td>7726</td>\n      <td>True</td>\n    </tr>\n    <tr>\n      <th>804</th>\n      <td>tlg2018.tlg002.1st1K-eng1.xml</td>\n      <td>Eusebius</td>\n      <td>Historia Ecclesiastica</td>\n      <td>CONTENTS ΟF BOOK Ι The first book of the Eccle...</td>\n      <td>139907</td>\n      <td>True</td>\n    </tr>\n    <tr>\n      <th>805</th>\n      <td>tlg2018.tlg002.1st1K-grc1.xml</td>\n      <td>Eusebius</td>\n      <td>Historia Ecclesiastica</td>\n      <td>Τάδε ἡ πρώτη περιέχει βίβλος τῆς\\nἘκκληαιαατικ...</td>\n      <td>108362</td>\n      <td>True</td>\n    </tr>\n    <tr>\n      <th>806</th>\n      <td>tlg2018.tlg002.1st1K-grc2.xml</td>\n      <td>Eusebius</td>\n      <td>Historia Ecclesiastica</td>\n      <td>Τὰς τῶν ἱερῶν ἀποστόλων διαδοχὰς σὺν καὶ \\nτοῖ...</td>\n      <td>103599</td>\n      <td>True</td>\n    </tr>\n  </tbody>\n</table>\n</div>"
     },
     "execution_count": 60,
     "metadata": {},
     "output_type": "execute_result"
    }
   ],
   "source": [
    "data_ogl[data_ogl[\"in_perseus\"]==True]"
   ],
   "metadata": {
    "collapsed": false,
    "ExecuteTime": {
     "end_time": "2024-01-04T15:01:24.146062Z",
     "start_time": "2024-01-04T15:01:24.108627Z"
    }
   },
   "execution_count": 60
  },
  {
   "cell_type": "code",
   "execution_count": 66,
   "metadata": {
    "colab": {},
    "colab_type": "code",
    "id": "kZqJt3p7ONdH",
    "ExecuteTime": {
     "end_time": "2024-01-04T15:11:51.185750Z",
     "start_time": "2024-01-04T15:11:51.119772Z"
    }
   },
   "outputs": [],
   "source": [
    "data_ogl[\"in_perseus\"] = data_ogl[\"filename\"].apply(check_filename)\n",
    "### to filter for values not in perseus\n",
    "data_ogl = data_ogl[data_ogl[\"in_perseus\"]==False]"
   ]
  },
  {
   "cell_type": "code",
   "execution_count": 67,
   "metadata": {
    "colab": {
     "base_uri": "https://localhost:8080/",
     "height": 34
    },
    "colab_type": "code",
    "executionInfo": {
     "elapsed": 556,
     "status": "ok",
     "timestamp": 1588772411685,
     "user": {
      "displayName": "Vojtěch Kaše",
      "photoUrl": "https://lh3.googleusercontent.com/a-/AOh14Ggz3jS9e7I3GdIEbyBKFtqr9tPdNCwyLBEJwbK8cw=s64",
      "userId": "01399835024022498543"
     },
     "user_tz": -120
    },
    "id": "hrGUTXgGRJKn",
    "outputId": "b8d60ece-30c1-4d8f-db7d-b21541ff8113",
    "ExecuteTime": {
     "end_time": "2024-01-04T15:11:51.618633Z",
     "start_time": "2024-01-04T15:11:51.614403Z"
    }
   },
   "outputs": [
    {
     "data": {
      "text/plain": "1157"
     },
     "execution_count": 67,
     "metadata": {},
     "output_type": "execute_result"
    }
   ],
   "source": [
    "data_ogl.drop(columns=[\"in_perseus\"], inplace=True)\n",
    "len(data_ogl)"
   ]
  },
  {
   "cell_type": "code",
   "outputs": [],
   "source": [
    "data_perseus[\"source\"] = \"perseus\"\n",
    "data_ogl[\"source\"] = \"1Kgr\""
   ],
   "metadata": {
    "collapsed": false,
    "ExecuteTime": {
     "end_time": "2024-01-04T15:14:47.226697Z",
     "start_time": "2024-01-04T15:14:47.202895Z"
    }
   },
   "execution_count": 72
  },
  {
   "cell_type": "code",
   "execution_count": 73,
   "metadata": {
    "colab": {},
    "colab_type": "code",
    "id": "9SpLi0c6Ofw2",
    "ExecuteTime": {
     "end_time": "2024-01-04T15:14:51.248055Z",
     "start_time": "2024-01-04T15:14:51.233180Z"
    }
   },
   "outputs": [],
   "source": [
    "### finally, merge the two datasets (perseus + ogl)\n",
    "data_merged_raw = pd.concat([data_ogl, data_perseus])"
   ]
  },
  {
   "cell_type": "code",
   "execution_count": 74,
   "metadata": {
    "colab": {
     "base_uri": "https://localhost:8080/",
     "height": 34
    },
    "colab_type": "code",
    "executionInfo": {
     "elapsed": 532,
     "status": "ok",
     "timestamp": 1588772416047,
     "user": {
      "displayName": "Vojtěch Kaše",
      "photoUrl": "https://lh3.googleusercontent.com/a-/AOh14Ggz3jS9e7I3GdIEbyBKFtqr9tPdNCwyLBEJwbK8cw=s64",
      "userId": "01399835024022498543"
     },
     "user_tz": -120
    },
    "id": "zuryuGUNGf7T",
    "outputId": "aa9e29b4-4714-454b-8154-59329f8a6729",
    "ExecuteTime": {
     "end_time": "2024-01-04T15:14:52.020304Z",
     "start_time": "2024-01-04T15:14:52.016757Z"
    }
   },
   "outputs": [
    {
     "data": {
      "text/plain": "1967"
     },
     "execution_count": 74,
     "metadata": {},
     "output_type": "execute_result"
    }
   ],
   "source": [
    "### how many files we\n",
    "len(data_merged_raw)"
   ]
  },
  {
   "cell_type": "code",
   "execution_count": 75,
   "metadata": {
    "colab": {},
    "colab_type": "code",
    "id": "5KUVYNpBT8uu",
    "ExecuteTime": {
     "end_time": "2024-01-04T15:14:54.369132Z",
     "start_time": "2024-01-04T15:14:54.347740Z"
    }
   },
   "outputs": [],
   "source": [
    "data_merged_raw.reset_index(inplace=True)\n",
    "data_merged_raw.drop(columns=[\"index\"], inplace=True)"
   ]
  },
  {
   "cell_type": "code",
   "execution_count": 76,
   "metadata": {
    "ExecuteTime": {
     "end_time": "2024-01-04T15:14:54.741539Z",
     "start_time": "2024-01-04T15:14:54.729896Z"
    }
   },
   "outputs": [
    {
     "data": {
      "text/plain": "                           filename            author  \\\n0     ggm0001.ggm001.1st1K-grc1.xml         Anonymous   \n1     heb0001.heb010.1st1K-eng1.xml              None   \n2     ogl0001.ogl001.1st1K-grc1.xml           Pinytus   \n3   stoa0033a.tlg028.1st1K-grc1.xml  pseudo-Aristotle   \n4   stoa0033a.tlg043.1st1K-grc1.xml  pseudo-Aristotle   \n5     stoa0121.stoa001.opp-grc1.xml         Eutropius   \n6    stoa0146d.stoa001.opp-grc1.xml        Hegemonius   \n7    stoa0146d.stoa001.opp-lat1.xml        Hegemonius   \n8     tlg0005.tlg003.1st1K-grc1.xml        Theocritus   \n9     tlg0006.tlg020.1st1K-grc1.xml         Euripides   \n10    tlg0007.tlg146.1st1K-grc1.xml          Plutarch   \n11    tlg0007.tlg147.1st1K-grc1.xml          Plutarch   \n12    tlg0015.tlg001.1st1K-grc1.xml          Herodian   \n13    tlg0018.tlg001.1st1K-eng1.xml     Philo Judaeus   \n14    tlg0018.tlg001.1st1K-grc1.xml     Philo Judaeus   \n15    tlg0018.tlg002.1st1K-eng1.xml     Philo Judaeus   \n16    tlg0018.tlg002.1st1K-grc1.xml     Philo Judaeus   \n17    tlg0018.tlg003.1st1K-eng1.xml     Philo Judaeus   \n18    tlg0018.tlg003.1st1K-grc1.xml     Philo Judaeus   \n19    tlg0018.tlg004.1st1K-eng1.xml     Philo Judaeus   \n\n                                                title  \\\n0                                  Anametresis Pontou   \n1                                              Isaias   \n2                     De Epistola Pinyti ad Dionysium   \n3                                            De mundo   \n4                                          De spiritu   \n5                        Breviarium historiae romanae   \n6                                       Acta Archelai   \n7                                       Acta Archelai   \n8                                              Syrinx   \n9                                           Fragmenta   \n10                  Παροιμίαι αἷς Ἀλεξανδρεῖς ἐχρῶντο   \n11                           Ἐκλογὴ περὶ τῶν ἀδυνάτων   \n12                              Ab excessu divi Marci   \n13                       On the Creation of the World   \n14                                  De opificio mundi   \n15                On the Alegories of the Sacred Laws   \n16                     Legum allegoriarum libri i‑iii   \n17  On the Cherubim; and on the Flaming Sword; and...   \n18                                        De Cherubim   \n19                  On the Sacrifice of Abel and Cain   \n\n                                               string  wordcount source  \n0   1. Χρὴ γινώσκειν ὅτι πάσης τῆς γῆς ὁ περίμετρο...        382   1Kgr  \n1   FROM HEBREW I. 1 The vision of Isaiah the son ...      40168   1Kgr  \n2   FRAGMENTUM BEATI PINYTI, CNOSSI IN CRETA EPISC...        180   1Kgr  \n3   ΠΟΛΛΑΚΙΣ μὲν ἔμοιγε θεῖόν τι καὶ δαιμόνιον ὄντ...       6294   1Kgr  \n4   ΤΙΣ ἡ τοῦ ἐμφύτου πνεύματος διαμονή, καὶ τίς ἡ...       3459   1Kgr  \n5   Τῆς Ῥωμαϊκῆς βασιλείας ἐν προοιμίοις οὐδὲν ἐγέ...      23867   1Kgr  \n6   Μανιχαῖος ἀπόστολος Ἰησοῦ Χριστοῦ καὶ οἱ σὺν ἐ...       5166   1Kgr  \n7   Thesaurus verus sive disputatio habita in Carc...      42159   1Kgr  \n8   Οὐδενὸς εὐνάτειρα Μακροπτολέμοιο δὲ μάτηρ  μαί...         77   1Kgr  \n9   ποίαν σε φῶμεν γαῖαν ἐκλελοιπότα πόλει ξενοῦσθ...      17708   1Kgr  \n10  Οἴκοι τὰ Μιλήσια: ἐπὶ τῶν ὅποι μὴ προςήκει τὴν...       2685   1Kgr  \n11  Κατὰ πετρῶν σπείρεις. Πλίνθον πλύνεις. Δικτύῳ ...        143   1Kgr  \n12  \\nΟἱ πλεῖστοι τῶν περὶ συγκομιδὴν ἱστορίας ἀσχ...      46751   1Kgr  \n13   Of other lawgivers, some have set forth what ...      21954   1Kgr  \n14   Τῶν ἄλλων νομοθετῶν οἱ μὲν ἀκαλλώπιστα καὶ γυ...      24591   1Kgr  \n15  \\nAnd the heaven and the earth and all their w...      52964   1Kgr  \n16   \"Καὶ συνετελέσθησαν ὁ οὐρανὸς καὶ ἡ γῆ καὶ πᾶ...      44538   1Kgr  \n17  \\n\"And God cast out Adam, and placed him oppos...      13524   1Kgr  \n18   „Καὶ ἐξέβαλε τὸν Ἀδὰμ καὶ κατῴκισεν ἀπέναντι ...      12940   1Kgr  \n19  \\n\"And he also added, that she should bring fo...      16851   1Kgr  ",
      "text/html": "<div>\n<style scoped>\n    .dataframe tbody tr th:only-of-type {\n        vertical-align: middle;\n    }\n\n    .dataframe tbody tr th {\n        vertical-align: top;\n    }\n\n    .dataframe thead th {\n        text-align: right;\n    }\n</style>\n<table border=\"1\" class=\"dataframe\">\n  <thead>\n    <tr style=\"text-align: right;\">\n      <th></th>\n      <th>filename</th>\n      <th>author</th>\n      <th>title</th>\n      <th>string</th>\n      <th>wordcount</th>\n      <th>source</th>\n    </tr>\n  </thead>\n  <tbody>\n    <tr>\n      <th>0</th>\n      <td>ggm0001.ggm001.1st1K-grc1.xml</td>\n      <td>Anonymous</td>\n      <td>Anametresis Pontou</td>\n      <td>1. Χρὴ γινώσκειν ὅτι πάσης τῆς γῆς ὁ περίμετρο...</td>\n      <td>382</td>\n      <td>1Kgr</td>\n    </tr>\n    <tr>\n      <th>1</th>\n      <td>heb0001.heb010.1st1K-eng1.xml</td>\n      <td>None</td>\n      <td>Isaias</td>\n      <td>FROM HEBREW I. 1 The vision of Isaiah the son ...</td>\n      <td>40168</td>\n      <td>1Kgr</td>\n    </tr>\n    <tr>\n      <th>2</th>\n      <td>ogl0001.ogl001.1st1K-grc1.xml</td>\n      <td>Pinytus</td>\n      <td>De Epistola Pinyti ad Dionysium</td>\n      <td>FRAGMENTUM BEATI PINYTI, CNOSSI IN CRETA EPISC...</td>\n      <td>180</td>\n      <td>1Kgr</td>\n    </tr>\n    <tr>\n      <th>3</th>\n      <td>stoa0033a.tlg028.1st1K-grc1.xml</td>\n      <td>pseudo-Aristotle</td>\n      <td>De mundo</td>\n      <td>ΠΟΛΛΑΚΙΣ μὲν ἔμοιγε θεῖόν τι καὶ δαιμόνιον ὄντ...</td>\n      <td>6294</td>\n      <td>1Kgr</td>\n    </tr>\n    <tr>\n      <th>4</th>\n      <td>stoa0033a.tlg043.1st1K-grc1.xml</td>\n      <td>pseudo-Aristotle</td>\n      <td>De spiritu</td>\n      <td>ΤΙΣ ἡ τοῦ ἐμφύτου πνεύματος διαμονή, καὶ τίς ἡ...</td>\n      <td>3459</td>\n      <td>1Kgr</td>\n    </tr>\n    <tr>\n      <th>5</th>\n      <td>stoa0121.stoa001.opp-grc1.xml</td>\n      <td>Eutropius</td>\n      <td>Breviarium historiae romanae</td>\n      <td>Τῆς Ῥωμαϊκῆς βασιλείας ἐν προοιμίοις οὐδὲν ἐγέ...</td>\n      <td>23867</td>\n      <td>1Kgr</td>\n    </tr>\n    <tr>\n      <th>6</th>\n      <td>stoa0146d.stoa001.opp-grc1.xml</td>\n      <td>Hegemonius</td>\n      <td>Acta Archelai</td>\n      <td>Μανιχαῖος ἀπόστολος Ἰησοῦ Χριστοῦ καὶ οἱ σὺν ἐ...</td>\n      <td>5166</td>\n      <td>1Kgr</td>\n    </tr>\n    <tr>\n      <th>7</th>\n      <td>stoa0146d.stoa001.opp-lat1.xml</td>\n      <td>Hegemonius</td>\n      <td>Acta Archelai</td>\n      <td>Thesaurus verus sive disputatio habita in Carc...</td>\n      <td>42159</td>\n      <td>1Kgr</td>\n    </tr>\n    <tr>\n      <th>8</th>\n      <td>tlg0005.tlg003.1st1K-grc1.xml</td>\n      <td>Theocritus</td>\n      <td>Syrinx</td>\n      <td>Οὐδενὸς εὐνάτειρα Μακροπτολέμοιο δὲ μάτηρ  μαί...</td>\n      <td>77</td>\n      <td>1Kgr</td>\n    </tr>\n    <tr>\n      <th>9</th>\n      <td>tlg0006.tlg020.1st1K-grc1.xml</td>\n      <td>Euripides</td>\n      <td>Fragmenta</td>\n      <td>ποίαν σε φῶμεν γαῖαν ἐκλελοιπότα πόλει ξενοῦσθ...</td>\n      <td>17708</td>\n      <td>1Kgr</td>\n    </tr>\n    <tr>\n      <th>10</th>\n      <td>tlg0007.tlg146.1st1K-grc1.xml</td>\n      <td>Plutarch</td>\n      <td>Παροιμίαι αἷς Ἀλεξανδρεῖς ἐχρῶντο</td>\n      <td>Οἴκοι τὰ Μιλήσια: ἐπὶ τῶν ὅποι μὴ προςήκει τὴν...</td>\n      <td>2685</td>\n      <td>1Kgr</td>\n    </tr>\n    <tr>\n      <th>11</th>\n      <td>tlg0007.tlg147.1st1K-grc1.xml</td>\n      <td>Plutarch</td>\n      <td>Ἐκλογὴ περὶ τῶν ἀδυνάτων</td>\n      <td>Κατὰ πετρῶν σπείρεις. Πλίνθον πλύνεις. Δικτύῳ ...</td>\n      <td>143</td>\n      <td>1Kgr</td>\n    </tr>\n    <tr>\n      <th>12</th>\n      <td>tlg0015.tlg001.1st1K-grc1.xml</td>\n      <td>Herodian</td>\n      <td>Ab excessu divi Marci</td>\n      <td>\\nΟἱ πλεῖστοι τῶν περὶ συγκομιδὴν ἱστορίας ἀσχ...</td>\n      <td>46751</td>\n      <td>1Kgr</td>\n    </tr>\n    <tr>\n      <th>13</th>\n      <td>tlg0018.tlg001.1st1K-eng1.xml</td>\n      <td>Philo Judaeus</td>\n      <td>On the Creation of the World</td>\n      <td>Of other lawgivers, some have set forth what ...</td>\n      <td>21954</td>\n      <td>1Kgr</td>\n    </tr>\n    <tr>\n      <th>14</th>\n      <td>tlg0018.tlg001.1st1K-grc1.xml</td>\n      <td>Philo Judaeus</td>\n      <td>De opificio mundi</td>\n      <td>Τῶν ἄλλων νομοθετῶν οἱ μὲν ἀκαλλώπιστα καὶ γυ...</td>\n      <td>24591</td>\n      <td>1Kgr</td>\n    </tr>\n    <tr>\n      <th>15</th>\n      <td>tlg0018.tlg002.1st1K-eng1.xml</td>\n      <td>Philo Judaeus</td>\n      <td>On the Alegories of the Sacred Laws</td>\n      <td>\\nAnd the heaven and the earth and all their w...</td>\n      <td>52964</td>\n      <td>1Kgr</td>\n    </tr>\n    <tr>\n      <th>16</th>\n      <td>tlg0018.tlg002.1st1K-grc1.xml</td>\n      <td>Philo Judaeus</td>\n      <td>Legum allegoriarum libri i‑iii</td>\n      <td>\"Καὶ συνετελέσθησαν ὁ οὐρανὸς καὶ ἡ γῆ καὶ πᾶ...</td>\n      <td>44538</td>\n      <td>1Kgr</td>\n    </tr>\n    <tr>\n      <th>17</th>\n      <td>tlg0018.tlg003.1st1K-eng1.xml</td>\n      <td>Philo Judaeus</td>\n      <td>On the Cherubim; and on the Flaming Sword; and...</td>\n      <td>\\n\"And God cast out Adam, and placed him oppos...</td>\n      <td>13524</td>\n      <td>1Kgr</td>\n    </tr>\n    <tr>\n      <th>18</th>\n      <td>tlg0018.tlg003.1st1K-grc1.xml</td>\n      <td>Philo Judaeus</td>\n      <td>De Cherubim</td>\n      <td>„Καὶ ἐξέβαλε τὸν Ἀδὰμ καὶ κατῴκισεν ἀπέναντι ...</td>\n      <td>12940</td>\n      <td>1Kgr</td>\n    </tr>\n    <tr>\n      <th>19</th>\n      <td>tlg0018.tlg004.1st1K-eng1.xml</td>\n      <td>Philo Judaeus</td>\n      <td>On the Sacrifice of Abel and Cain</td>\n      <td>\\n\"And he also added, that she should bring fo...</td>\n      <td>16851</td>\n      <td>1Kgr</td>\n    </tr>\n  </tbody>\n</table>\n</div>"
     },
     "execution_count": 76,
     "metadata": {},
     "output_type": "execute_result"
    }
   ],
   "source": [
    "data_merged_raw.head(20)"
   ]
  },
  {
   "cell_type": "code",
   "outputs": [
    {
     "data": {
      "text/plain": "40863400"
     },
     "execution_count": 77,
     "metadata": {},
     "output_type": "execute_result"
    }
   ],
   "source": [
    "data_merged_raw[\"wordcount\"].sum()"
   ],
   "metadata": {
    "collapsed": false,
    "ExecuteTime": {
     "end_time": "2024-01-04T15:15:11.788588Z",
     "start_time": "2024-01-04T15:15:11.776700Z"
    }
   },
   "execution_count": 77
  },
  {
   "cell_type": "code",
   "execution_count": 78,
   "metadata": {
    "colab": {},
    "colab_type": "code",
    "id": "Y-dWQrYQNzT3",
    "ExecuteTime": {
     "end_time": "2024-01-04T15:15:52.353107Z",
     "start_time": "2024-01-04T15:15:34.716417Z"
    }
   },
   "outputs": [
    {
     "name": "stdout",
     "output_type": "stream",
     "text": [
      "Your <class 'pandas.core.frame.DataFrame'> object has been succesfully written as \"https://sciencedata.dk/sharingout/648597%40au.dk/SDAM_root/SDAM_data/AGT/AGT_raw_20240104.json\"\n"
     ]
    }
   ],
   "source": [
    "s.write_file(\"SDAM_data/AGT/AGT_raw_20240104.json\", data_merged_raw)"
   ]
  },
  {
   "cell_type": "code",
   "outputs": [],
   "source": [],
   "metadata": {
    "collapsed": false
   }
  }
 ],
 "metadata": {
  "colab": {
   "authorship_tag": "ABX9TyOoWGxQSBeS92XLMZz+km73",
   "collapsed_sections": [],
   "name": "DATA-EXTRACTION.ipynb",
   "provenance": []
  },
  "kernelspec": {
   "name": "lagt_kernel",
   "language": "python",
   "display_name": "lagt_kernel"
  },
  "language_info": {
   "codemirror_mode": {
    "name": "ipython",
    "version": 3
   },
   "file_extension": ".py",
   "mimetype": "text/x-python",
   "name": "python",
   "nbconvert_exporter": "python",
   "pygments_lexer": "ipython3",
   "version": "3.6.9"
  }
 },
 "nbformat": 4,
 "nbformat_minor": 1
}
