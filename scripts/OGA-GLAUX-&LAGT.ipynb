{
 "cells": [
  {
   "metadata": {
    "ExecuteTime": {
     "end_time": "2025-01-15T09:18:42.518362Z",
     "start_time": "2025-01-15T09:18:42.515032Z"
    }
   },
   "cell_type": "code",
   "source": "import os",
   "id": "f24a38e6f7c6e991",
   "outputs": [],
   "execution_count": 1
  },
  {
   "metadata": {
    "ExecuteTime": {
     "end_time": "2025-01-15T09:22:49.678260Z",
     "start_time": "2025-01-15T09:22:49.662870Z"
    }
   },
   "cell_type": "code",
   "source": [
    "# Define the directory to search\n",
    "base_dir = \"/srv/data/greek/OGA/oga/oga_v0.2.0_3/\"\n",
    "\n",
    "# Recursively collect paths to all XML files\n",
    "xml_files = []\n",
    "for root, dirs, files in os.walk(base_dir):\n",
    "    for file in files:\n",
    "        if file.endswith(\".xml\"):\n",
    "            xml_files.append(os.path.join(root, file))"
   ],
   "id": "354aedcd022c2e04",
   "outputs": [],
   "execution_count": 7
  },
  {
   "metadata": {
    "ExecuteTime": {
     "end_time": "2025-01-15T09:23:31.885111Z",
     "start_time": "2025-01-15T09:23:31.880647Z"
    }
   },
   "cell_type": "code",
   "source": "len(xml_files)",
   "id": "a00a4545e5eb21c7",
   "outputs": [
    {
     "data": {
      "text/plain": [
       "6400"
      ]
     },
     "execution_count": 11,
     "metadata": {},
     "output_type": "execute_result"
    }
   ],
   "execution_count": 11
  },
  {
   "cell_type": "code",
   "id": "initial_id",
   "metadata": {
    "collapsed": true,
    "ExecuteTime": {
     "end_time": "2025-01-15T09:21:25.824939Z",
     "start_time": "2025-01-15T09:21:25.818345Z"
    }
   },
   "source": "",
   "outputs": [
    {
     "data": {
      "text/plain": [
       "400"
      ]
     },
     "execution_count": 5,
     "metadata": {},
     "output_type": "execute_result"
    }
   ],
   "execution_count": 5
  },
  {
   "metadata": {},
   "cell_type": "code",
   "outputs": [],
   "execution_count": null,
   "source": "",
   "id": "f99a94b463596032"
  }
 ],
 "metadata": {
  "kernelspec": {
   "display_name": "greek_global_kernel",
   "language": "python",
   "name": "greek_global_kernel"
  },
  "language_info": {
   "codemirror_mode": {
    "name": "ipython",
    "version": 2
   },
   "file_extension": ".py",
   "mimetype": "text/x-python",
   "name": "python",
   "nbconvert_exporter": "python",
   "pygments_lexer": "ipython2",
   "version": "2.7.6"
  }
 },
 "nbformat": 4,
 "nbformat_minor": 5
}
