{
 "cells": [
  {
   "cell_type": "code",
   "execution_count": 15,
   "metadata": {},
   "outputs": [],
   "source": [
    "import spacy\n",
    "import json"
   ]
  },
  {
   "cell_type": "code",
   "execution_count": 3,
   "metadata": {},
   "outputs": [],
   "source": [
    "# load it back\n",
    "nlp = spacy.load(\"../data/nlp_model_angr\")"
   ]
  },
  {
   "cell_type": "code",
   "execution_count": null,
   "metadata": {},
   "outputs": [],
   "source": []
  },
  {
   "cell_type": "code",
   "execution_count": 16,
   "metadata": {},
   "outputs": [],
   "source": [
    "path = \"../data/ag_lemma_lookup.json\"\n",
    "ag_lemma_lookup = json.load(open(path))"
   ]
  },
  {
   "cell_type": "code",
   "execution_count": 17,
   "metadata": {},
   "outputs": [],
   "source": [
    "from spacy.lookups import Lookups\n",
    "lookups = Lookups()\n",
    "table = lookups.add_table(\"ag_lemma_lookup\", ag_lemma_lookup)"
   ]
  },
  {
   "cell_type": "code",
   "execution_count": null,
   "metadata": {},
   "outputs": [],
   "source": [
    "from spacy.lemmatizer import Lemmatizer\n",
    "lemmatizer = Lemmatizer(lookups)"
   ]
  },
  {
   "cell_type": "code",
   "execution_count": 33,
   "metadata": {},
   "outputs": [],
   "source": [
    "# load it back\n",
    "test_text = \"ἀρχόμενος σέο, Φοῖβε, παλαιγενέων κλέα φωτῶν μνήσομαι, οἳ Πόντοιο κατὰ στόμα καὶ διὰ πέτρας Κυανέας βασιλῆος ἐφημοσύνῃ Πελίαο χρύσειον μετὰ κῶας ἐύζυγον ἤλασαν Ἀργώ.\"\n",
    "doc = nlp(test_text)"
   ]
  },
  {
   "cell_type": "code",
   "execution_count": 34,
   "metadata": {},
   "outputs": [],
   "source": [
    "for token in doc:\n",
    "    try:\n",
    "        token.lemma_ = ag_lemma_lookup[token.pos_][token.text] \n",
    "    except:\n",
    "        try:\n",
    "            token.lemma_ = ag_lemma_lookup[token.pos_][token.text.lower()] \n",
    "        except:\n",
    "            pass\n"
   ]
  },
  {
   "cell_type": "code",
   "execution_count": 35,
   "metadata": {},
   "outputs": [
    {
     "name": "stdout",
     "output_type": "stream",
     "text": [
      "ἀρχόμενος VERB ἄρχω\n",
      "σέο PRON σύ\n",
      ", PUNCT ,\n",
      "Φοῖβε NOUN Φοῖβε\n",
      ", PUNCT ,\n",
      "παλαιγενέων ADJ παλαιγενέων\n",
      "κλέα NOUN κλέα\n",
      "φωτῶν NOUN φώς\n",
      "μνήσομαι VERB μιμνήσκω\n",
      ", PUNCT ,\n",
      "οἳ PRON ὅς\n",
      "Πόντοιο NOUN Πόντοιο\n",
      "κατὰ ADP κατά\n",
      "στόμα NOUN στόμα\n",
      "καὶ CCONJ καί\n",
      "διὰ ADP διά\n",
      "πέτρας NOUN πέτρα\n",
      "Κυανέας NOUN Κυάνεαι\n",
      "βασιλῆος NOUN βασιλῆος\n",
      "ἐφημοσύνῃ VERB ἐφημοσύνῃ\n",
      "Πελίαο NOUN Πελίαο\n",
      "χρύσειον ADJ χρύσειον\n",
      "μετὰ ADP μετά\n",
      "κῶας NOUN κῶας\n",
      "ἐύζυγον VERB ἐύζυγον\n",
      "ἤλασαν VERB ἐλαύνω\n",
      "Ἀργώ ADV Ἀργώ\n",
      ". PUNCT .\n"
     ]
    }
   ],
   "source": [
    "for token in doc:\n",
    "    print(token.text, token.pos_, token.lemma_)"
   ]
  },
  {
   "cell_type": "code",
   "execution_count": null,
   "metadata": {},
   "outputs": [],
   "source": [
    "# load it back\n",
    "test_text = \"ἀρχόμενος σέο, Φοῖβε, παλαιγενέων κλέα φωτῶν μνήσομαι, οἳ Πόντοιο κατὰ στόμα καὶ διὰ πέτρας Κυανέας βασιλῆος ἐφημοσύνῃ Πελίαο χρύσειον μετὰ κῶας ἐύζυγον ἤλασαν Ἀργώ.\"\n",
    "doc = nlp(test_text)\n",
    "for token in doc:\n",
    "    print(token.text, token.pos_)"
   ]
  },
  {
   "cell_type": "code",
   "execution_count": 8,
   "metadata": {},
   "outputs": [],
   "source": [
    "import pandas as pd"
   ]
  },
  {
   "cell_type": "code",
   "execution_count": 10,
   "metadata": {},
   "outputs": [],
   "source": [
    "df = pd.DataFrame({\"my_doc\": doc})"
   ]
  },
  {
   "cell_type": "code",
   "execution_count": 6,
   "metadata": {},
   "outputs": [],
   "source": [
    "import sddk"
   ]
  },
  {
   "cell_type": "code",
   "execution_count": 12,
   "metadata": {},
   "outputs": [
    {
     "name": "stdin",
     "output_type": "stream",
     "text": [
      "sciencedata.dk username (format '123456@au.dk'):  648597@au.dk\n",
      "sciencedata.dk password:  ········\n"
     ]
    },
    {
     "name": "stdout",
     "output_type": "stream",
     "text": [
      "endpoint variable has been configured to: https://sciencedata.dk/files/\n"
     ]
    }
   ],
   "source": [
    "conf = sddk.configure()"
   ]
  },
  {
   "cell_type": "code",
   "execution_count": null,
   "metadata": {},
   "outputs": [],
   "source": [
    "path = \"../data/ag_lemma_lookup.json\"\n",
    "ag_lemma_lookup = json.load(open(path))"
   ]
  }
 ],
 "metadata": {
  "kernelspec": {
   "display_name": "agtenv",
   "language": "python",
   "name": "agtenv"
  },
  "language_info": {
   "codemirror_mode": {
    "name": "ipython",
    "version": 3
   },
   "file_extension": ".py",
   "mimetype": "text/x-python",
   "name": "python",
   "nbconvert_exporter": "python",
   "pygments_lexer": "ipython3",
   "version": "3.6.8"
  }
 },
 "nbformat": 4,
 "nbformat_minor": 4
}
