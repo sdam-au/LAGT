{
 "cells": [
  {
   "cell_type": "code",
   "execution_count": 1,
   "metadata": {
    "pycharm": {
     "name": "#%%\n"
    },
    "ExecuteTime": {
     "end_time": "2023-10-23T21:36:03.129815Z",
     "start_time": "2023-10-23T21:36:02.631788Z"
    }
   },
   "outputs": [],
   "source": [
    "import pandas as pd\n",
    "import requests\n",
    "import matplotlib.pyplot as plt"
   ]
  },
  {
   "cell_type": "code",
   "execution_count": 2,
   "outputs": [],
   "source": [
    "# read the last output of lemmatization\n",
    "LAGT = pd.read_json(\"../data/large_files/LAGT_v2-0.json\")                                                    "
   ],
   "metadata": {
    "collapsed": false,
    "pycharm": {
     "name": "#%%\n"
    },
    "ExecuteTime": {
     "end_time": "2023-10-23T21:36:14.751514Z",
     "start_time": "2023-10-23T21:36:07.242098Z"
    }
   }
  },
  {
   "cell_type": "code",
   "execution_count": 3,
   "outputs": [
    {
     "data": {
      "text/plain": "                          filename              author  \\\n0  tlg0001.tlg001.perseus-grc2.xml  Apollonius Rhodius   \n1  tlg0003.tlg001.perseus-grc2.xml          Thucydides   \n2  tlg0004.tlg001.perseus-grc1.xml   Diogenes Laertius   \n3  tlg0005.tlg001.perseus-grc1.xml          Theocritus   \n4  tlg0005.tlg002.perseus-grc1.xml          Theocritus   \n\n                           title  wordcount author_id          doc_id  \\\n0                    Argonautica      38822   tlg0001  tlg0001.tlg001   \n1          The Peloponnesian War     150118   tlg0003  tlg0003.tlg001   \n2  Lives of Eminent Philosophers     110763   tlg0004  tlg0004.tlg001   \n3                        Idylls       19200   tlg0005  tlg0005.tlg001   \n4                      Epigrams        1734   tlg0005  tlg0005.tlg002   \n\n   raw_date  date_avr                  date_probs  date_manual provenience  \\\n0    3 B.C.      -2.5                 {'-2.5': 1}         -2.5       pagan   \n1    5 B.C.      -4.5                 {'-4.5': 1}         -4.5       pagan   \n2    A.D. 3       2.5                  {'2.5': 1}          NaN               \n3  4-3 B.C.      -3.0  {'-3.5': 0.5, '-2.5': 0.5}          NaN               \n4  4-3 B.C.      -3.0  {'-3.5': 0.5, '-2.5': 0.5}          NaN               \n\n     tlg_epithet                                       clean_string  \\\n0      Epici/-ae  ἀρχόμενος σέο, Φοῖβε, παλαιγενέων κλέα φωτῶν μ...   \n1  Historici/-ae   Θουκυδίδης Ἀθηναῖος ξυνέγραψε τὸν πόλεμον τῶν...   \n2      Biographi  Τὸ τῆς φιλοσοφίας ἔργον ἔνιοί φασιν ἀπὸ βαρβάρ...   \n3       Bucolici   ̔Αδύ τι τὸ ψιθύρισμα καὶ ἁ πίτυς αἰπόλε τήνα,...   \n4       Bucolici  τὰ ῥόδα τὰ δροσόεντα καὶ ἁ κατάπυκνος ἐκείνα ἕ...   \n\n   n_sentences                               lemmatized_sentences  GLAUx?  \n0         3252  [[ἄρχω, Φοῖβος, παλαιγενής, κλέος, φώς, μιμνῄσ...    True  \n1         6068  [[Θουκυδίδης, Ἀθηναῖος, συγγράφω, πόλεμος, Πελ...    True  \n2        10245  [[φιλοσοφία, ἔργον, ἔνιοι, φημί, βάρβαρος, ἄρχ...   False  \n3         1982  [[ἡδύς, τις, ψιθύρισμα, πίτυς, αἰπόλος, ἐκεῖνο...    True  \n4          152  [[ῥόδον, δροσόεις, κατάπυκνος, ἐκεῖνος, ἕρπυλλ...    True  ",
      "text/html": "<div>\n<style scoped>\n    .dataframe tbody tr th:only-of-type {\n        vertical-align: middle;\n    }\n\n    .dataframe tbody tr th {\n        vertical-align: top;\n    }\n\n    .dataframe thead th {\n        text-align: right;\n    }\n</style>\n<table border=\"1\" class=\"dataframe\">\n  <thead>\n    <tr style=\"text-align: right;\">\n      <th></th>\n      <th>filename</th>\n      <th>author</th>\n      <th>title</th>\n      <th>wordcount</th>\n      <th>author_id</th>\n      <th>doc_id</th>\n      <th>raw_date</th>\n      <th>date_avr</th>\n      <th>date_probs</th>\n      <th>date_manual</th>\n      <th>provenience</th>\n      <th>tlg_epithet</th>\n      <th>clean_string</th>\n      <th>n_sentences</th>\n      <th>lemmatized_sentences</th>\n      <th>GLAUx?</th>\n    </tr>\n  </thead>\n  <tbody>\n    <tr>\n      <th>0</th>\n      <td>tlg0001.tlg001.perseus-grc2.xml</td>\n      <td>Apollonius Rhodius</td>\n      <td>Argonautica</td>\n      <td>38822</td>\n      <td>tlg0001</td>\n      <td>tlg0001.tlg001</td>\n      <td>3 B.C.</td>\n      <td>-2.5</td>\n      <td>{'-2.5': 1}</td>\n      <td>-2.5</td>\n      <td>pagan</td>\n      <td>Epici/-ae</td>\n      <td>ἀρχόμενος σέο, Φοῖβε, παλαιγενέων κλέα φωτῶν μ...</td>\n      <td>3252</td>\n      <td>[[ἄρχω, Φοῖβος, παλαιγενής, κλέος, φώς, μιμνῄσ...</td>\n      <td>True</td>\n    </tr>\n    <tr>\n      <th>1</th>\n      <td>tlg0003.tlg001.perseus-grc2.xml</td>\n      <td>Thucydides</td>\n      <td>The Peloponnesian War</td>\n      <td>150118</td>\n      <td>tlg0003</td>\n      <td>tlg0003.tlg001</td>\n      <td>5 B.C.</td>\n      <td>-4.5</td>\n      <td>{'-4.5': 1}</td>\n      <td>-4.5</td>\n      <td>pagan</td>\n      <td>Historici/-ae</td>\n      <td>Θουκυδίδης Ἀθηναῖος ξυνέγραψε τὸν πόλεμον τῶν...</td>\n      <td>6068</td>\n      <td>[[Θουκυδίδης, Ἀθηναῖος, συγγράφω, πόλεμος, Πελ...</td>\n      <td>True</td>\n    </tr>\n    <tr>\n      <th>2</th>\n      <td>tlg0004.tlg001.perseus-grc1.xml</td>\n      <td>Diogenes Laertius</td>\n      <td>Lives of Eminent Philosophers</td>\n      <td>110763</td>\n      <td>tlg0004</td>\n      <td>tlg0004.tlg001</td>\n      <td>A.D. 3</td>\n      <td>2.5</td>\n      <td>{'2.5': 1}</td>\n      <td>NaN</td>\n      <td></td>\n      <td>Biographi</td>\n      <td>Τὸ τῆς φιλοσοφίας ἔργον ἔνιοί φασιν ἀπὸ βαρβάρ...</td>\n      <td>10245</td>\n      <td>[[φιλοσοφία, ἔργον, ἔνιοι, φημί, βάρβαρος, ἄρχ...</td>\n      <td>False</td>\n    </tr>\n    <tr>\n      <th>3</th>\n      <td>tlg0005.tlg001.perseus-grc1.xml</td>\n      <td>Theocritus</td>\n      <td>Idylls</td>\n      <td>19200</td>\n      <td>tlg0005</td>\n      <td>tlg0005.tlg001</td>\n      <td>4-3 B.C.</td>\n      <td>-3.0</td>\n      <td>{'-3.5': 0.5, '-2.5': 0.5}</td>\n      <td>NaN</td>\n      <td></td>\n      <td>Bucolici</td>\n      <td>̔Αδύ τι τὸ ψιθύρισμα καὶ ἁ πίτυς αἰπόλε τήνα,...</td>\n      <td>1982</td>\n      <td>[[ἡδύς, τις, ψιθύρισμα, πίτυς, αἰπόλος, ἐκεῖνο...</td>\n      <td>True</td>\n    </tr>\n    <tr>\n      <th>4</th>\n      <td>tlg0005.tlg002.perseus-grc1.xml</td>\n      <td>Theocritus</td>\n      <td>Epigrams</td>\n      <td>1734</td>\n      <td>tlg0005</td>\n      <td>tlg0005.tlg002</td>\n      <td>4-3 B.C.</td>\n      <td>-3.0</td>\n      <td>{'-3.5': 0.5, '-2.5': 0.5}</td>\n      <td>NaN</td>\n      <td></td>\n      <td>Bucolici</td>\n      <td>τὰ ῥόδα τὰ δροσόεντα καὶ ἁ κατάπυκνος ἐκείνα ἕ...</td>\n      <td>152</td>\n      <td>[[ῥόδον, δροσόεις, κατάπυκνος, ἐκεῖνος, ἕρπυλλ...</td>\n      <td>True</td>\n    </tr>\n  </tbody>\n</table>\n</div>"
     },
     "execution_count": 3,
     "metadata": {},
     "output_type": "execute_result"
    }
   ],
   "source": [
    "LAGT.head()"
   ],
   "metadata": {
    "collapsed": false,
    "ExecuteTime": {
     "end_time": "2023-10-23T21:36:29.579138Z",
     "start_time": "2023-10-23T21:36:29.518855Z"
    }
   }
  },
  {
   "cell_type": "code",
   "execution_count": 4,
   "outputs": [
    {
     "data": {
      "text/plain": "Index(['filename', 'author', 'title', 'wordcount', 'author_id', 'doc_id',\n       'raw_date', 'date_avr', 'date_probs', 'date_manual', 'provenience',\n       'tlg_epithet', 'clean_string', 'n_sentences', 'lemmatized_sentences',\n       'GLAUx?'],\n      dtype='object')"
     },
     "execution_count": 4,
     "metadata": {},
     "output_type": "execute_result"
    }
   ],
   "source": [
    "LAGT.columns"
   ],
   "metadata": {
    "collapsed": false,
    "pycharm": {
     "name": "#%%\n"
    },
    "ExecuteTime": {
     "end_time": "2023-10-23T21:36:37.427157Z",
     "start_time": "2023-10-23T21:36:37.410331Z"
    }
   }
  },
  {
   "cell_type": "code",
   "execution_count": 26,
   "outputs": [
    {
     "data": {
      "text/plain": "148"
     },
     "execution_count": 26,
     "metadata": {},
     "output_type": "execute_result"
    }
   ],
   "source": [
    "len(LAGT[LAGT[\"provenience\"]==\"christian\"])"
   ],
   "metadata": {
    "collapsed": false,
    "pycharm": {
     "name": "#%%\n"
    },
    "ExecuteTime": {
     "end_time": "2023-10-23T21:55:31.539202Z",
     "start_time": "2023-10-23T21:55:31.531481Z"
    }
   }
  },
  {
   "cell_type": "code",
   "execution_count": 27,
   "outputs": [],
   "source": [
    "# upload manually updated metadata\n",
    "LAGT_metadata = pd.read_csv(\"../data/LAGT_metadata-update.csv\")\n",
    "# update dates\n",
    "# any work cosnidered to be dated between two centuries is dated to the latter\n",
    "def update_dateavr(date_avr):\n",
    "    if \".5\" not in str(date_avr):\n",
    "        date_avr += 0.5\n",
    "    return date_avr\n",
    "LAGT_metadata[\"date_avr\"] = LAGT_metadata[\"date_avr\"].apply(update_dateavr)\n",
    "\n",
    "# update provenience\n",
    "provenience_dict = dict(zip(LAGT_metadata[\"filename\"],  LAGT_metadata[\"provenience\"]))\n",
    "LAGT[\"provenience\"] = LAGT[\"filename\"].apply(lambda x: provenience_dict[x])\n",
    "\n",
    "# update author\n",
    "author_dict = dict(zip(LAGT_metadata[\"filename\"],  LAGT_metadata[\"author\"]))\n",
    "LAGT[\"author\"] = LAGT[\"filename\"].apply(lambda x: author_dict[x])\n",
    "\n",
    "# update title\n",
    "title_dict = dict(zip(LAGT_metadata[\"filename\"],  LAGT_metadata[\"title\"]))\n",
    "LAGT[\"title\"] = LAGT[\"filename\"].apply(lambda x: title_dict[x])"
   ],
   "metadata": {
    "collapsed": false,
    "pycharm": {
     "name": "#%%\n"
    },
    "ExecuteTime": {
     "end_time": "2023-10-23T21:55:32.273545Z",
     "start_time": "2023-10-23T21:55:32.252449Z"
    }
   }
  },
  {
   "cell_type": "code",
   "execution_count": 28,
   "outputs": [
    {
     "data": {
      "text/plain": "148"
     },
     "execution_count": 28,
     "metadata": {},
     "output_type": "execute_result"
    }
   ],
   "source": [
    "len(LAGT[LAGT[\"provenience\"]==\"christian\"])"
   ],
   "metadata": {
    "collapsed": false,
    "pycharm": {
     "name": "#%%\n"
    },
    "ExecuteTime": {
     "end_time": "2023-10-23T21:55:33.650849Z",
     "start_time": "2023-10-23T21:55:33.641917Z"
    }
   }
  },
  {
   "cell_type": "code",
   "execution_count": 9,
   "outputs": [],
   "source": [
    "# update dates\n",
    "# any work cosnidered to be dated between two centuries is dated to the latter\n",
    "def update_dateavr(date_avr):\n",
    "    if \".5\" not in str(date_avr):\n",
    "        date_avr += 0.5\n",
    "    return date_avr\n",
    "LAGT[\"date_avr\"] = LAGT[\"date_avr\"].apply(update_dateavr)"
   ],
   "metadata": {
    "collapsed": false,
    "pycharm": {
     "name": "#%%\n"
    },
    "ExecuteTime": {
     "end_time": "2023-10-23T21:37:34.056246Z",
     "start_time": "2023-10-23T21:37:34.043502Z"
    }
   }
  },
  {
   "cell_type": "code",
   "execution_count": 10,
   "outputs": [
    {
     "data": {
      "text/plain": "                           filename  \\\n1194  tlg1750.tlg001.1st1K-grc1.xml   \n1195  tlg1750.tlg002.1st1K-grc1.xml   \n1196  tlg1750.tlg003.1st1K-grc1.xml   \n1197  tlg1750.tlg004.1st1K-grc1.xml   \n\n                                                 author  \\\n1194                                   Pseudo-Dorotheus   \n1195    De prophetarum vita et obitu (recensio anonyma)   \n1196  De prophetarum vita et obitu (recensio scholii...   \n1197                                   Pseudo-Dorotheus   \n\n                                                  title  wordcount author_id  \\\n1194   De prophetarum vita et obitu (Dorothei recensio)       5347   tlg1750   \n1195    De prophetarum vita et obitu (recensio anonyma)       4110   tlg1750   \n1196  De prophetarum vita et obitu (recensio scholii...       1166   tlg1750   \n1197           Index apostolorum discipulorumque Domini       3616   tlg1750   \n\n              doc_id raw_date  date_avr date_probs  date_manual provenience  \\\n1194  tlg1750.tlg001    Varia       NaN         {}          NaN   christian   \n1195  tlg1750.tlg002    Varia       NaN         {}          NaN   christian   \n1196  tlg1750.tlg003    Varia       NaN         {}          NaN   christian   \n1197  tlg1750.tlg004    Varia       NaN         {}          NaN   christian   \n\n     tlg_epithet                                       clean_string  \\\n1194          []  Οὗτος Ὠσηὲ τῶν ιβʹ προφητῶν ὁ πρῶτος, ἀξιωθεὶς...   \n1195          []  αʹ. Ἡσαΐας ἀπὸ Ἱερουσαλὴμ θνήσκει ὑπὸ Μανασσῆ ...   \n1196          []  αʹ. Ὠσηὲ ἑρμηνεύεται σωζόμενος. Οὗτος ἦν ἐκ ελ...   \n1197          []  Δωροθέου ἐπισκόπου Τύρου ἀρχαίου ἀνδρὸς πνευμα...   \n\n      n_sentences                               lemmatized_sentences  GLAUx?  \n1194          329  [[ὠσηὲ, προφήτης, πρῶτος, ἀξιωθεὶς, λέγω, δεσπ...   False  \n1195          329  [[], [Ἠσαΐας, Ἱεροσόλυμα, θνήσκω, Μανασσῆς, πρ...   False  \n1196          105  [[], [ὠσηὲ, ἑρμηνεύω, σωζόμενος], [ελεμὼθ, φυλ...   False  \n1197          253  [[δωροθέου, ἐπίσκοπος, Τύρος, ἀρχαῖος, ἀνήρ, π...   False  ",
      "text/html": "<div>\n<style scoped>\n    .dataframe tbody tr th:only-of-type {\n        vertical-align: middle;\n    }\n\n    .dataframe tbody tr th {\n        vertical-align: top;\n    }\n\n    .dataframe thead th {\n        text-align: right;\n    }\n</style>\n<table border=\"1\" class=\"dataframe\">\n  <thead>\n    <tr style=\"text-align: right;\">\n      <th></th>\n      <th>filename</th>\n      <th>author</th>\n      <th>title</th>\n      <th>wordcount</th>\n      <th>author_id</th>\n      <th>doc_id</th>\n      <th>raw_date</th>\n      <th>date_avr</th>\n      <th>date_probs</th>\n      <th>date_manual</th>\n      <th>provenience</th>\n      <th>tlg_epithet</th>\n      <th>clean_string</th>\n      <th>n_sentences</th>\n      <th>lemmatized_sentences</th>\n      <th>GLAUx?</th>\n    </tr>\n  </thead>\n  <tbody>\n    <tr>\n      <th>1194</th>\n      <td>tlg1750.tlg001.1st1K-grc1.xml</td>\n      <td>Pseudo-Dorotheus</td>\n      <td>De prophetarum vita et obitu (Dorothei recensio)</td>\n      <td>5347</td>\n      <td>tlg1750</td>\n      <td>tlg1750.tlg001</td>\n      <td>Varia</td>\n      <td>NaN</td>\n      <td>{}</td>\n      <td>NaN</td>\n      <td>christian</td>\n      <td>[]</td>\n      <td>Οὗτος Ὠσηὲ τῶν ιβʹ προφητῶν ὁ πρῶτος, ἀξιωθεὶς...</td>\n      <td>329</td>\n      <td>[[ὠσηὲ, προφήτης, πρῶτος, ἀξιωθεὶς, λέγω, δεσπ...</td>\n      <td>False</td>\n    </tr>\n    <tr>\n      <th>1195</th>\n      <td>tlg1750.tlg002.1st1K-grc1.xml</td>\n      <td>De prophetarum vita et obitu (recensio anonyma)</td>\n      <td>De prophetarum vita et obitu (recensio anonyma)</td>\n      <td>4110</td>\n      <td>tlg1750</td>\n      <td>tlg1750.tlg002</td>\n      <td>Varia</td>\n      <td>NaN</td>\n      <td>{}</td>\n      <td>NaN</td>\n      <td>christian</td>\n      <td>[]</td>\n      <td>αʹ. Ἡσαΐας ἀπὸ Ἱερουσαλὴμ θνήσκει ὑπὸ Μανασσῆ ...</td>\n      <td>329</td>\n      <td>[[], [Ἠσαΐας, Ἱεροσόλυμα, θνήσκω, Μανασσῆς, πρ...</td>\n      <td>False</td>\n    </tr>\n    <tr>\n      <th>1196</th>\n      <td>tlg1750.tlg003.1st1K-grc1.xml</td>\n      <td>De prophetarum vita et obitu (recensio scholii...</td>\n      <td>De prophetarum vita et obitu (recensio scholii...</td>\n      <td>1166</td>\n      <td>tlg1750</td>\n      <td>tlg1750.tlg003</td>\n      <td>Varia</td>\n      <td>NaN</td>\n      <td>{}</td>\n      <td>NaN</td>\n      <td>christian</td>\n      <td>[]</td>\n      <td>αʹ. Ὠσηὲ ἑρμηνεύεται σωζόμενος. Οὗτος ἦν ἐκ ελ...</td>\n      <td>105</td>\n      <td>[[], [ὠσηὲ, ἑρμηνεύω, σωζόμενος], [ελεμὼθ, φυλ...</td>\n      <td>False</td>\n    </tr>\n    <tr>\n      <th>1197</th>\n      <td>tlg1750.tlg004.1st1K-grc1.xml</td>\n      <td>Pseudo-Dorotheus</td>\n      <td>Index apostolorum discipulorumque Domini</td>\n      <td>3616</td>\n      <td>tlg1750</td>\n      <td>tlg1750.tlg004</td>\n      <td>Varia</td>\n      <td>NaN</td>\n      <td>{}</td>\n      <td>NaN</td>\n      <td>christian</td>\n      <td>[]</td>\n      <td>Δωροθέου ἐπισκόπου Τύρου ἀρχαίου ἀνδρὸς πνευμα...</td>\n      <td>253</td>\n      <td>[[δωροθέου, ἐπίσκοπος, Τύρος, ἀρχαῖος, ἀνήρ, π...</td>\n      <td>False</td>\n    </tr>\n  </tbody>\n</table>\n</div>"
     },
     "execution_count": 10,
     "metadata": {},
     "output_type": "execute_result"
    }
   ],
   "source": [
    "# non-dated christian texts\n",
    "LAGT[(LAGT[\"provenience\"]==\"christian\") & (LAGT[\"date_avr\"].isnull())]"
   ],
   "metadata": {
    "collapsed": false,
    "pycharm": {
     "name": "#%%\n"
    },
    "ExecuteTime": {
     "end_time": "2023-10-23T21:37:36.838944Z",
     "start_time": "2023-10-23T21:37:36.793854Z"
    }
   }
  },
  {
   "cell_type": "code",
   "execution_count": 11,
   "outputs": [
    {
     "data": {
      "text/plain": "1277"
     },
     "execution_count": 11,
     "metadata": {},
     "output_type": "execute_result"
    }
   ],
   "source": [
    "(LAGT[\"date_avr\"] < 5).sum()"
   ],
   "metadata": {
    "collapsed": false,
    "pycharm": {
     "name": "#%%\n"
    },
    "ExecuteTime": {
     "end_time": "2023-10-23T21:37:38.827920Z",
     "start_time": "2023-10-23T21:37:38.814923Z"
    }
   }
  },
  {
   "cell_type": "code",
   "execution_count": 15,
   "outputs": [
    {
     "name": "stdout",
     "output_type": "stream",
     "text": [
      " , , , ; ? , . : , . , , , : : , . , , , ; , : , , . , : , , , . , , . , , , , , : . , . , , , : , , , , , ? : . : , ? : . , , . , : , . , , . : , . : , . ! , . . , . : . , . . : ; : , . : , , . , , : . , . , , : . , , , : , , . , , . , , , . , : , : . : . , , : , . , , , , , : . , : , . , ; , : . , . , : . , : , , : , , ; , ; ; : . : : , . ; : , . , , : , . , ; , : : , . . , : . , . . . . , , : . , : , , : . . : . , ? . : . , , . , : . , : . , , , . . , , : . , , , : ; . , . , . . , , , ; , . , , , . : , . , : . , . . : - : : . . , . , , , ; , : , ; : ; , : . . . . , , , , . , , , , , . , , , . , : , . : , : . , . , . : ; , . . . , . . . , . , : . , , , : , . , : , , ; , , . . . , . : . , . , , . , ; . , . , . , : , . . : , : . : , , . , . , , , , , . , . : : : : . , , , , , . : , : , : . , , : : , ; , ; . : , , . , , ; , . , : , , : . , , ; . ; . : : , . : . , . : . : . : , , . , , , . , : , , . : , ? ? . : . , : ; , . . : ; , . . , . , . , . , , . . , . , ( ) , , ; : . , . . . , : , , ? : ; , . , . , , , , . , , ; : , , ? , ? ; , , ; . , , , , , , ; : , ? , . , . : . , , , ; . , , : . , , , , . , , , ; . : , ; , : . : , , . , . . , : , , . , . , . . , , : . . : . , , , . . , . . , , : . . , , . . , . , . , . , . , , . , . , , , , ( ) , : , , , . , , . , ; , ; , : , , , , . . , . , , , : , . , . : , , ; , . , , . . , , , : , . , : , , ; . , , ; . , , . ! ; , , , , . \n"
     ]
    }
   ],
   "source": [
    "# unfortunately we do not have The Martrdom of Perpetua and Felicita\n",
    "print(LAGT[LAGT[\"author_id\"]==\"tlg2016\"][\"clean_string\"].tolist()[0])"
   ],
   "metadata": {
    "collapsed": false,
    "pycharm": {
     "name": "#%%\n"
    },
    "ExecuteTime": {
     "end_time": "2023-10-23T21:38:22.904649Z",
     "start_time": "2023-10-23T21:38:22.892076Z"
    }
   }
  },
  {
   "cell_type": "code",
   "execution_count": 16,
   "outputs": [],
   "source": [
    "repl_dict = {\"μώσης\" : \"μωυσέως\",\n",
    "                \"ἐπισκοπή\" : \"ἐπίσκοπος\",\n",
    "                #\"μαρτύρομαι\" : \"μαρτυρία\",\n",
    "                #\"ἐκκλησιάζω\" : \"ἐκκλησία\",\n",
    "                # \"κοινωνέω\" : \"κοινωνία\"\n",
    "                }\n"
   ],
   "metadata": {
    "collapsed": false,
    "pycharm": {
     "name": "#%%\n"
    },
    "ExecuteTime": {
     "end_time": "2023-10-23T21:38:50.307191Z",
     "start_time": "2023-10-23T21:38:50.279008Z"
    }
   }
  },
  {
   "cell_type": "code",
   "execution_count": 17,
   "outputs": [
    {
     "data": {
      "text/plain": "'μωυσέως'"
     },
     "execution_count": 17,
     "metadata": {},
     "output_type": "execute_result"
    }
   ],
   "source": [
    "repl_dict.get(\"μώσης\", \"μώσης\")"
   ],
   "metadata": {
    "collapsed": false,
    "pycharm": {
     "name": "#%%\n"
    },
    "ExecuteTime": {
     "end_time": "2023-10-23T21:38:53.269598Z",
     "start_time": "2023-10-23T21:38:53.256153Z"
    }
   }
  },
  {
   "cell_type": "code",
   "execution_count": 18,
   "outputs": [],
   "source": [
    "def clean_sentences(sents_list):\n",
    "    # remove one-letter words:\n",
    "    sents_list = [[w for w in s if len(w) > 1] for s in sents_list]\n",
    "    sents_list = [[repl_dict.get(w, w) for w in s] for s in sents_list]\n",
    "    return sents_list\n",
    "\n",
    "LAGT[\"lemmatized_sentences\"] = LAGT[\"lemmatized_sentences\"].apply(clean_sentences)"
   ],
   "metadata": {
    "collapsed": false,
    "pycharm": {
     "name": "#%%\n"
    },
    "ExecuteTime": {
     "end_time": "2023-10-23T21:39:04.146380Z",
     "start_time": "2023-10-23T21:39:01.319375Z"
    }
   }
  },
  {
   "cell_type": "code",
   "execution_count": 19,
   "outputs": [],
   "source": [
    "LAGT[\"lemmatized_sentences\"] = LAGT[\"lemmatized_sentences\"].apply(lambda x: [s for s in x if len(s) > 0])"
   ],
   "metadata": {
    "collapsed": false,
    "pycharm": {
     "name": "#%%\n"
    },
    "ExecuteTime": {
     "end_time": "2023-10-23T21:39:12.844968Z",
     "start_time": "2023-10-23T21:39:12.794344Z"
    }
   }
  },
  {
   "cell_type": "code",
   "execution_count": 20,
   "outputs": [
    {
     "name": "stdout",
     "output_type": "stream",
     "text": [
      " , , , ; ? , . : , . , , , : : , . , , , ; , : , , . , : , , , . , , . , , , , , : . , . , , , : , , , , , ? : . : , ? : . , , . , : , . , , . : , . : , . ! , . . , . : . , . . : ; : , . : , , . , , : . , . , , : . , , , : , , . , , . , , , . , : , : . : . , , : , . , , , , , : . , : , . , ; , : . , . , : . , : , , : , , ; , ; ; : . : : , . ; : , . , , : , . , ; , : : , . . , : . , . . . . , , : . , : , , : . . : . , ? . : . , , . , : . , : . , , , . . , , : . , , , : ; . , . , . . , , , ; , . , , , . : , . , : . , . . : - : : . . , . , , , ; , : , ; : ; , : . . . . , , , , . , , , , , . , , , . , : , . : , : . , . , . : ; , . . . , . . . , . , : . , , , : , . , : , , ; , , . . . , . : . , . , , . , ; . , . , . , : , . . : , : . : , , . , . , , , , , . , . : : : : . , , , , , . : , : , : . , , : : , ; , ; . : , , . , , ; , . , : , , : . , , ; . ; . : : , . : . , . : . : . : , , . , , , . , : , , . : , ? ? . : . , : ; , . . : ; , . . , . , . , . , , . . , . , ( ) , , ; : . , . . . , : , , ? : ; , . , . , , , , . , , ; : , , ? , ? ; , , ; . , , , , , , ; : , ? , . , . : . , , , ; . , , : . , , , , . , , , ; . : , ; , : . : , , . , . . , : , , . , . , . . , , : . . : . , , , . . , . . , , : . . , , . . , . , . , . , . , , . , . , , , , ( ) , : , , , . , , . , ; , ; , : , , , , . . , . , , , : , . , . : , , ; , . , , . . , , , : , . , : , , ; . , , ; . , , . ! ; , , , , . \n"
     ]
    }
   ],
   "source": [
    "print(LAGT[LAGT[\"author_id\"]==\"tlg2016\"][\"clean_string\"].tolist()[0])"
   ],
   "metadata": {
    "collapsed": false,
    "ExecuteTime": {
     "end_time": "2023-10-23T21:39:29.649201Z",
     "start_time": "2023-10-23T21:39:29.631179Z"
    }
   }
  },
  {
   "cell_type": "code",
   "execution_count": 21,
   "outputs": [],
   "source": [
    "LAGT.to_json(\"../data/large_files/LAGT_v2-1.json\")"
   ],
   "metadata": {
    "collapsed": false,
    "pycharm": {
     "name": "#%%\n"
    },
    "ExecuteTime": {
     "end_time": "2023-10-23T21:41:08.386883Z",
     "start_time": "2023-10-23T21:41:07.823057Z"
    }
   }
  },
  {
   "cell_type": "code",
   "execution_count": null,
   "outputs": [],
   "source": [
    "LAGT"
   ],
   "metadata": {
    "collapsed": false
   }
  }
 ],
 "metadata": {
  "kernelspec": {
   "name": "lagt_kernel",
   "language": "python",
   "display_name": "lagt_kernel"
  },
  "language_info": {
   "codemirror_mode": {
    "name": "ipython",
    "version": 3
   },
   "file_extension": ".py",
   "mimetype": "text/x-python",
   "name": "python",
   "nbconvert_exporter": "python",
   "pygments_lexer": "ipython3",
   "version": "3.9.7"
  }
 },
 "nbformat": 4,
 "nbformat_minor": 4
}
