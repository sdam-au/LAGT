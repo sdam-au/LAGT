{
 "cells": [
  {
   "cell_type": "code",
   "source": [
    "import pandas as pd\n",
    "import spacy\n",
    "from spacy.tokens import Doc\n",
    "import sddk\n",
    "import re\n",
    "import regex\n",
    "import unicodedata\n",
    "from greek_accentuation.characters import strip_accents\n",
    "from greek_accentuation.syllabify import *\n",
    "from greek_accentuation.accentuation import *\n",
    "import nltk"
   ],
   "metadata": {
    "collapsed": true,
    "ExecuteTime": {
     "end_time": "2024-04-09T11:04:40.571094Z",
     "start_time": "2024-04-09T11:04:29.439534Z"
    }
   },
   "id": "initial_id",
   "outputs": [],
   "execution_count": 1
  },
  {
   "cell_type": "code",
   "source": [
    "#! ../lagt_venv/bin/python -m pip install grecy\n",
    "#! ../lagt_venv/bin/python -m grecy install grc_proiel_trf\n",
    "nlp = spacy.load('grc_proiel_trf')"
   ],
   "metadata": {
    "collapsed": false,
    "ExecuteTime": {
     "end_time": "2024-04-09T11:04:47.031522Z",
     "start_time": "2024-04-09T11:04:42.195446Z"
    }
   },
   "id": "99ee7d5a540463a4",
   "outputs": [],
   "execution_count": 2
  },
  {
   "cell_type": "code",
   "source": [
    "doc = nlp('δοκῶ μοι περὶ ὧν πυνθάνεσθε οὐκ ἀμελέτητος εἶναι')"
   ],
   "metadata": {
    "collapsed": false,
    "ExecuteTime": {
     "end_time": "2024-04-09T11:04:51.977495Z",
     "start_time": "2024-04-09T11:04:51.893962Z"
    }
   },
   "id": "6893b03e830b613a",
   "outputs": [],
   "execution_count": 3
  },
  {
   "cell_type": "code",
   "source": [
    "doc = nlp('δοκῶ μοι περὶ ὧν πυνθάνεσθε οὐκ ἀμελέτητος εἶναι')\n",
    "for t in doc:\n",
    "    print(t.text, t.lemma_, t.pos_)"
   ],
   "metadata": {
    "collapsed": false,
    "ExecuteTime": {
     "end_time": "2024-04-09T11:04:58.779823Z",
     "start_time": "2024-04-09T11:04:58.708227Z"
    }
   },
   "id": "2a4b939dba2cda07",
   "outputs": [
    {
     "name": "stdout",
     "output_type": "stream",
     "text": [
      "δοκῶ δοκέω VERB\n",
      "μοι ἐγώ PRON\n",
      "περὶ περί ADP\n",
      "ὧν ὅς PRON\n",
      "πυνθάνεσθε πυνθάνομαι VERB\n",
      "οὐκ οὐ ADV\n",
      "ἀμελέτητος ἀμελέτητος ADJ\n",
      "εἶναι εἰμί AUX\n"
     ]
    }
   ],
   "execution_count": 4
  },
  {
   "cell_type": "code",
   "outputs": [],
   "source": [
    "LAGT = pd.read_json(\"../data/large_files/LAGT_treebanks_20240116.json\")"
   ],
   "metadata": {
    "collapsed": false,
    "ExecuteTime": {
     "end_time": "2024-01-17T14:33:21.254357Z",
     "start_time": "2024-01-17T14:33:16.176001Z"
    }
   },
   "id": "819aef2568d1ded9",
   "execution_count": 5
  },
  {
   "cell_type": "markdown",
   "source": [
    "### greCy Test"
   ],
   "metadata": {
    "collapsed": false
   },
   "id": "a9a2ec8323f35fbf"
  },
  {
   "cell_type": "code",
   "outputs": [],
   "source": [
    "string = LAGT[LAGT[\"lemmatized_sentences\"].isnull()][\"string\"].tolist()[0]"
   ],
   "metadata": {
    "collapsed": false,
    "ExecuteTime": {
     "end_time": "2024-01-17T14:33:21.262407Z",
     "start_time": "2024-01-17T14:33:21.255831Z"
    }
   },
   "id": "e9afdc81ad0b3b53",
   "execution_count": 6
  },
  {
   "cell_type": "code",
   "outputs": [
    {
     "name": "stdout",
     "output_type": "stream",
     "text": [
      "['Χρὴ', 'γιγνώσκω', 'γῆ', 'περίμετρος']\n",
      "['στάδιος', 'μυριάς']\n",
      "['μῆκος']\n",
      "['ἡμέτερος', 'οἰκουμένη', 'στόμα', 'Γάγγης', 'Γαδείρων', 'στάδιον']\n",
      "[]\n",
      "['πλάτος', 'Αἰθιοπικός', 'θάλασσα', 'Τανάϊδος', 'ποταμός', 'στάδιον']\n",
      "['Εὐφράτης', 'Τίγρις', 'ποταμός', 'καλέω', 'Μεσοποτάμιος', 'διάστημα', 'ἔχω', 'στάδιον']\n",
      "[]\n",
      "['ἀναμέτρησις', 'ποιέω', 'Ἐρατοσθένης', 'ἀρχαῖος', 'μαθητικώτατος']\n",
      "[]\n",
      "['Βυζάντιον', 'Σωσθένιος', 'στάδιον', 'μίλιον', 'ἥμισυς']\n",
      "[]\n",
      "['Σωσθενίας', 'Ἱερόν', 'στάδιον', 'μίλιον']\n",
      "['ἥμισυς']\n",
      "['πᾶς', 'μίλιον']\n",
      "[]\n",
      "['Ἱερόν', 'Ζεύς', 'Οὐρῖος', 'στόμα', 'Πόντος', 'ἱερόν', 'στόμα', 'Ἴστρος', 'ποταμός', 'στάδιον', 'μίλιον', 'ἥμισυς']\n",
      "[]\n",
      "['Ἱερόν', 'Ζεύς', 'Οὐρίης', 'Βορυσθένης', 'ποταμός', 'Δανάπρις', 'καλέω', 'στάδιον']\n",
      "['μίλιον']\n",
      "[]\n",
      "['ἥμισυς']\n",
      "['Ἱερόν', 'Ζεύς', 'Οὐρίης', 'Πορθμῖος', 'πόλις', 'τέλος', 'Εὐρώπη', 'Πόντος', 'μέρος', 'στομίον', 'Μαιώτης', 'λίμνη', 'Βόσπορος', 'Κιμμερῖος', 'καλέω', 'στάδιον']\n",
      "['μίλιον']\n",
      "[]\n",
      "['λέγω', 'Εὐρώπη', 'Ποντικός', 'περίπλοος', 'ἴσος', 'περίπλοος', 'Ἀσία', 'μέρος']\n",
      "['Ἱερόν', 'Ζεύς', 'Οὐρίης', 'Ἀμισός', 'στάδιον', 'μίλιον']\n",
      "['ἥμισυς']\n",
      "['Ἀμισός', 'Φάσις', 'ποταμός']\n",
      "['στάδιον', 'μίλιον']\n",
      "[]\n",
      "[]\n",
      "[]\n",
      "['Φάσις', 'ποταμός']\n",
      "['στόμα', 'Μαιώτης', 'λίμνη', 'Ἀχιλλείος', 'κώμη', 'στάδιον']\n",
      "['μίλιον', 'ἥμισυς', 'γίγνομαι', 'Ἱερόν', 'Ζεύς', 'Οὐρίης', 'στόμα', 'Μαιώτης', 'λίμνη', 'στάδιον']\n",
      "['μίλιον']\n",
      "[]\n",
      "['ἥμισυς']\n",
      "[]\n",
      "['γίγνομαι', 'περίπλοος', 'εὔξενος', 'Πόντος', 'δεξιός', 'Ἀσία', 'μέρος', 'Πόντος', 'ἀριστερός', 'Εὐρώπη', 'μέρος', 'Πόντος', 'Ἱερόν', 'Ζεύς', 'Οὐρῖος', 'στάδιον']\n",
      "[]\n",
      "[]\n",
      "['μίλιον']\n",
      "[]\n",
      "[]\n",
      "['περίπλοος', 'Μαιώτης', 'λίμνη', 'στάδιον', 'μίλιον', 'στάδιον', 'στάδιον', 'πῆχυς', 'ἔχω', 'πούς', 'ὀργυιά', 'ἥμισυς']\n",
      "[]\n",
      "['μιλῖος']\n",
      "['μίλιον', 'ἔχω', 'στάδιον', 'ἥμισυς', 'πῆχυς', 'πούς']\n",
      "[]\n",
      "['ἐνιαυτός', 'Ἅπας', 'ἔχω', 'ὥρα']\n",
      "['ἡμέρα', 'τέταρτος']\n",
      "[]\n"
     ]
    }
   ],
   "source": [
    "doc = nlp(string)\n",
    "for sent in doc.sents:\n",
    "    print([t.lemma_ for t in sent if t.pos_ in [\"NOUN\", \"ADJ\", \"VERB\", \"PROPN\"]])"
   ],
   "metadata": {
    "collapsed": false,
    "ExecuteTime": {
     "end_time": "2024-01-17T14:33:22.201154Z",
     "start_time": "2024-01-17T14:33:21.270153Z"
    }
   },
   "id": "3fd501624bd50956",
   "execution_count": 7
  },
  {
   "cell_type": "markdown",
   "source": [
    "Let's improve it: preclean the string and make it suitable to work with large documents"
   ],
   "metadata": {
    "collapsed": false
   },
   "id": "f37021820a5dff2c"
  },
  {
   "cell_type": "markdown",
   "source": [
    "# Text preprocessing & function developement"
   ],
   "metadata": {
    "collapsed": false
   },
   "id": "b52ca046cde8508a"
  },
  {
   "cell_type": "code",
   "outputs": [
    {
     "data": {
      "text/plain": "'p. 980 a 22 Πάντες ἄνθρωποι τοῦ εἰδέναι ὀρέγονται φύσει. σημεῖον\\n δὲ ἡ τῶν αἰσθήσεων ἀγάπησις. Δεῖ ἡμᾶς ἀρχομένους τῆς παρούσης πραγματείας εἰπεῖν τὸν σκοπόν,\\nτὴν τάξιν,. τὴν αἰτίαν τῆς ἐπιγραφῆς. σκοπὸς μὲν οὖν ἐστι τῆς παρούσης\\nπραγματείας τὸ θεολογῆσαι· θεολογεῖ γὰρ ἐν αὐτῇ Ἀριστοτέλης. ἡ δὲ τάξις,\\nὅτι ἐκ τῶν φύσει ὑστέρων ἡμεῖς τὰς ἀρχὰς ποιούμεθα, ἐπειδὴ ταῦτα μᾶλλον\\n συνεγνωσμένα ἡμῖν ὑπάρχουσι. διὰ τοῦτο τοίνυν ὁ Ἀριστοτέλης πρότερον\\nδιελέχθη ἡμῖν περὶ τῶν φυσικῶν πραγμάτων· ταῦτα γὰρ τῇ φύσει ὕστερα\\nὑπάρχουσιν, ἡμῖν δὲ πρότερα. ἡ δὲ παροῦσα πραγματεία τῇ μὲν φύσει\\nπροτέρα ὧς τὸ τέλειον ἔχουσα, ἡμῖν δὲ ὑστέρα· πρότερα γὰρ τὰ ἄφθαρτα\\nτῶν φθαρτῶν καὶ τὰ ἀγένητα τῶν γινομένων. διὰ τοῦτο τοίνυν ὁ Ἀριστοτέλης\\n πρότερον διελέχθη ἡμῖν περὶ τῶν ἀτάκτως κινουμένων ἐν τοῖς Μετεώροις,\\nκαὶ πάλιν περὶ τῶν τεταγμένως κινουμένων ἐν τῇ Περὶ οὐρανοῦ,\\nφημὶ δὴ περὶ ἀστέρων καὶ σφαιρῶν· καὶ λοιπὸν ἐν ταύτῃ τῇ πραγματείᾳ\\nδιαλέγεται ἡμῖν περὶ τῶν πάντῃ ἀκινήτων. τοῦτο δέ ἐστι θεολογία · τοῖς\\nγὰρ θείο'"
     },
     "execution_count": 8,
     "metadata": {},
     "output_type": "execute_result"
    }
   ],
   "source": [
    "#check with some of the longest document we have...\n",
    "string = LAGT[LAGT[\"lemmatized_sentences\"].isnull()].sort_values(\"wordcount\", ascending=False)[\"string\"].tolist()[23]\n",
    "string[:1000]"
   ],
   "metadata": {
    "collapsed": false,
    "ExecuteTime": {
     "end_time": "2024-01-17T14:33:22.212671Z",
     "start_time": "2024-01-17T14:33:22.199849Z"
    }
   },
   "id": "ce939bee0e921e30",
   "execution_count": 8
  },
  {
   "cell_type": "code",
   "outputs": [],
   "source": [
    "# functioms for cleaning the string\n",
    "\n",
    "def grave_to_acute(string):\n",
    "    GRAVE = \"\\u0300\"\n",
    "    ACUTE = \"\\u0301\"\n",
    "    return unicodedata.normalize(\"NFC\", \"\".join(unicodedata.normalize(\"NFD\", string).replace(GRAVE, ACUTE)))\n",
    "\n",
    "def possible_accentuation(morph):\n",
    "    try:\n",
    "        if isinstance(morph, str):\n",
    "            morph = strip_accents(morph)\n",
    "            morph = rebreath(morph)\n",
    "            s = syllabify(morph)\n",
    "            for accentuation in possible_accentuations(s, default_short=True):\n",
    "                pos, accent = accentuation\n",
    "                final = s[1 - pos:] if pos > 1 else [\"\"]\n",
    "                morph_acc_var = \"\".join(s[:-pos] + [syllable_add_accent(s[-pos], accent)] + final)\n",
    "                return morph_acc_var  # Return the first accentuation immediately\n",
    "        return morph  # If no accentuation is available, return the original morph\n",
    "    except:\n",
    "        return morph\n",
    "\n",
    "def decap(token):\n",
    "    if len(token) > 1:\n",
    "        if token[1].isupper():\n",
    "            token = token[0] + token[1:].lower()\n",
    "            token = possible_accentuation(token)\n",
    "    return token\n",
    "\n",
    "def clean_string(string):\n",
    "    string = re.sub(\"ϲ(\\W)\", r\"ς\\1\", string) # if \"ϲ\" is last letter of a word\n",
    "    string = re.sub(\"ϲ(\\w)\", r\"σ\\1\", string)\n",
    "    string = grave_to_acute(string)\n",
    "    string = string.replace(\"—\", \" — \")\n",
    "    cleaned_string = regex.sub(r'[^\\p{Greek}\\p{P}]', ' ', string)\n",
    "    cleaned_string = \" \".join([decap(token) for token in cleaned_string.split()])\n",
    "    cleaned_string = regex.sub(' +', ' ', cleaned_string)\n",
    "    cleaned_string = cleaned_string.replace(\"·\", \".\")\n",
    "    return cleaned_string"
   ],
   "metadata": {
    "collapsed": false,
    "ExecuteTime": {
     "end_time": "2024-01-17T14:33:23.705206Z",
     "start_time": "2024-01-17T14:33:23.693345Z"
    }
   },
   "id": "fd0fd59452308978",
   "execution_count": 9
  },
  {
   "cell_type": "code",
   "outputs": [],
   "source": [
    "def get_doc(string, segment_len=100000):\n",
    "    if len(string) > segment_len:\n",
    "        segment = string[:segment_len]\n",
    "        matches = [(m.start(0), m.end(0)) for m in re.finditer('(\\.\\s|·\\s)', segment)]\n",
    "        if matches:\n",
    "            split_at = matches[-1][1]  # taking the end index of last match\n",
    "            current_segment = segment[:split_at]\n",
    "            next_segment_beginning = segment[split_at:]\n",
    "        else:\n",
    "            current_segment = segment\n",
    "            next_segment_beginning = \"\"\n",
    "\n",
    "        segment_doc = nlp(current_segment)\n",
    "        segment_docs = [segment_doc]\n",
    "\n",
    "        for n in range(segment_len, len(string), segment_len):\n",
    "            segment = string[n:n+segment_len]\n",
    "            if len(segment) == segment_len:\n",
    "                matches = [(m.start(0), m.end(0)) for m in re.finditer('(\\.\\s|·\\s)', segment)]\n",
    "                if matches:\n",
    "                    split_at = matches[-1][1]\n",
    "                    current_segment = next_segment_beginning + segment[:split_at]\n",
    "                    next_segment_beginning = segment[split_at:]\n",
    "                else:\n",
    "                    current_segment = next_segment_beginning + segment\n",
    "                    next_segment_beginning = \"\"\n",
    "            else:\n",
    "                current_segment = next_segment_beginning + segment\n",
    "\n",
    "            segment_doc = nlp(current_segment)\n",
    "            segment_docs.append(segment_doc)\n",
    "\n",
    "        doc = Doc.from_docs(segment_docs)\n",
    "    else:\n",
    "        doc = nlp(string)\n",
    "    return doc"
   ],
   "metadata": {
    "collapsed": false,
    "ExecuteTime": {
     "end_time": "2024-01-17T14:33:24.534245Z",
     "start_time": "2024-01-17T14:33:24.528896Z"
    }
   },
   "id": "ce3761c4fdcf64b9",
   "execution_count": 10
  },
  {
   "cell_type": "code",
   "outputs": [
    {
     "data": {
      "text/plain": "1196236"
     },
     "execution_count": 11,
     "metadata": {},
     "output_type": "execute_result"
    }
   ],
   "source": [
    "len(string)"
   ],
   "metadata": {
    "collapsed": false,
    "ExecuteTime": {
     "end_time": "2024-01-17T14:33:25.292083Z",
     "start_time": "2024-01-17T14:33:25.285401Z"
    }
   },
   "id": "6b8a813cd613764",
   "execution_count": 11
  },
  {
   "cell_type": "code",
   "outputs": [
    {
     "name": "stdout",
     "output_type": "stream",
     "text": [
      "CPU times: user 1 µs, sys: 1 µs, total: 2 µs\n",
      "Wall time: 5.01 µs\n"
     ]
    }
   ],
   "source": [
    "%%time\n",
    "#doc = get_doc(clean_string(string), segment_len=50000)"
   ],
   "metadata": {
    "collapsed": false,
    "ExecuteTime": {
     "end_time": "2024-01-17T14:33:32.257745Z",
     "start_time": "2024-01-17T14:33:32.236629Z"
    }
   },
   "id": "5b61ecd54152df4c",
   "execution_count": 12
  },
  {
   "cell_type": "code",
   "outputs": [
    {
     "data": {
      "text/plain": "47"
     },
     "execution_count": 13,
     "metadata": {},
     "output_type": "execute_result"
    }
   ],
   "source": [
    "(LAGT[\"string\"].apply(len)>1000000).sum()"
   ],
   "metadata": {
    "collapsed": false,
    "ExecuteTime": {
     "end_time": "2024-01-17T14:33:32.996916Z",
     "start_time": "2024-01-17T14:33:32.990647Z"
    }
   },
   "id": "77d0ef7ae8907477",
   "execution_count": 13
  },
  {
   "cell_type": "code",
   "outputs": [],
   "source": [
    "# extract lemmata from the sentences\n",
    "def get_lemmatized_sentences(doc):\n",
    "    lemmatized_sentences = []\n",
    "    for sent in doc.sents:\n",
    "        sentence_lemmata = [regex.sub(r'[^\\p{Greek}]', \"\", t.lemma_) for t in sent if t.pos_ in [\"NOUN\", \"VERB\", \"ADJ\", \"PROPN\"]]\n",
    "        sentence_lemmata = [t for t in sentence_lemmata if t != \"\"]\n",
    "        if sentence_lemmata != []:\n",
    "            lemmatized_sentences.append(sentence_lemmata)\n",
    "    return lemmatized_sentences"
   ],
   "metadata": {
    "collapsed": false,
    "ExecuteTime": {
     "end_time": "2024-01-17T14:33:34.102392Z",
     "start_time": "2024-01-17T14:33:34.098234Z"
    }
   },
   "id": "22927430852de058",
   "execution_count": 14
  },
  {
   "cell_type": "code",
   "outputs": [],
   "source": [
    "# put the string cleaning, doc creation and lemmata together into one function\n",
    "def from_string_to_lemsents(string):\n",
    "    try:    \n",
    "        doc = get_doc(clean_string(string), segment_len=50000)\n",
    "        lemmatized_sentences = get_lemmatized_sentences(doc)\n",
    "    except:\n",
    "        lemmatized_sentences = None\n",
    "    return lemmatized_sentences"
   ],
   "metadata": {
    "collapsed": false,
    "ExecuteTime": {
     "end_time": "2024-01-17T17:16:14.952617Z",
     "start_time": "2024-01-17T17:16:14.939903Z"
    }
   },
   "id": "61b2d35b56c90ac5",
   "execution_count": 21
  },
  {
   "cell_type": "code",
   "outputs": [],
   "source": [
    "grecy_lemmatized_list = []\n",
    "def get_grecy_lemmata(string, lemmatized_sentences, doc_id):\n",
    "    if lemmatized_sentences == None:\n",
    "        lemmatized_sentences = from_string_to_lemsents(string)\n",
    "        grecy_lemmatized_list.append(doc_id)\n",
    "        print(len(grecy_lemmatized_list), doc_id, len(string))\n",
    "    return lemmatized_sentences\n",
    "\n",
    "#sample_lemmatized_sentences = LAGT.sample(10, random_state=1).apply(lambda row: get_grecy_lemmata(row[\"string\"], row[\"lemmatized_sentences\"], row[\"doc_id\"]), axis=1)"
   ],
   "metadata": {
    "collapsed": false,
    "ExecuteTime": {
     "end_time": "2024-01-17T17:17:14.977039Z",
     "start_time": "2024-01-17T17:17:14.959954Z"
    }
   },
   "id": "e31e2423065c010c",
   "execution_count": 27
  },
  {
   "cell_type": "code",
   "outputs": [],
   "source": [
    "#sample_lemmatized_sentences"
   ],
   "metadata": {
    "collapsed": false,
    "ExecuteTime": {
     "end_time": "2024-01-17T17:17:15.896386Z",
     "start_time": "2024-01-17T17:17:15.887030Z"
    }
   },
   "id": "77840f22a24c5e34",
   "execution_count": 28
  },
  {
   "cell_type": "code",
   "outputs": [],
   "source": [
    "#LAGT.loc[sample_lemmatized_sentences.index]"
   ],
   "metadata": {
    "collapsed": false,
    "ExecuteTime": {
     "end_time": "2024-01-17T17:17:16.090730Z",
     "start_time": "2024-01-17T17:17:16.087068Z"
    }
   },
   "id": "caa604192ce8279b",
   "execution_count": 29
  },
  {
   "cell_type": "code",
   "outputs": [],
   "source": [
    "#grecy_lemmatized_list"
   ],
   "metadata": {
    "collapsed": false,
    "ExecuteTime": {
     "end_time": "2024-01-17T17:17:16.271009Z",
     "start_time": "2024-01-17T17:17:16.265904Z"
    }
   },
   "id": "25df064a122f9268",
   "execution_count": 30
  },
  {
   "cell_type": "markdown",
   "source": [
    "# Applying the main funtion"
   ],
   "metadata": {
    "collapsed": false
   },
   "id": "45397b2d3414e40b"
  },
  {
   "cell_type": "code",
   "outputs": [
    {
     "name": "stdout",
     "output_type": "stream",
     "text": [
      "1 ggm0001.ggm001 3857\n",
      "2 ogl0001.ogl001 1257\n",
      "3 stoa0033a.tlg028 41978\n",
      "4 stoa0033a.tlg043 20816\n",
      "5 stoa0121.stoa001 171855\n",
      "6 stoa0146d.stoa001 27696\n",
      "7 tlg0005.tlg003 572\n",
      "8 tlg0006.tlg020 108623\n",
      "9 tlg0007.tlg146 18130\n",
      "10 tlg0007.tlg147 1069\n",
      "11 tlg0018.tlg001 143932\n",
      "12 tlg0018.tlg002 260468\n",
      "13 tlg0018.tlg003 76774\n",
      "14 tlg0018.tlg004 141567\n",
      "15 tlg0018.tlg005 96145\n",
      "16 tlg0018.tlg006 97880\n",
      "17 tlg0018.tlg007 32667\n",
      "18 tlg0018.tlg008 94218\n",
      "19 tlg0018.tlg009 92533\n",
      "20 tlg0018.tlg010 89337\n",
      "21 tlg0018.tlg011 108351\n",
      "22 tlg0018.tlg012 33173\n",
      "23 tlg0018.tlg013 93899\n",
      "24 tlg0018.tlg014 110248\n",
      "25 tlg0018.tlg015 172311\n",
      "26 tlg0018.tlg016 90855\n",
      "27 tlg0018.tlg017 114022\n",
      "28 tlg0018.tlg018 114895\n",
      "29 tlg0018.tlg019 246616\n",
      "30 tlg0018.tlg020 151034\n",
      "31 tlg0018.tlg021 139575\n",
      "32 tlg0018.tlg022 365437\n",
      "33 tlg0018.tlg023 95569\n",
      "34 tlg0018.tlg024 642298\n",
      "35 tlg0018.tlg025 173969\n",
      "36 tlg0018.tlg026 99048\n",
      "37 tlg0018.tlg027 107520\n",
      "38 tlg0018.tlg028 66001\n",
      "39 tlg0018.tlg029 118642\n",
      "40 tlg0018.tlg030 91632\n",
      "41 tlg0018.tlg031 186072\n",
      "42 tlg0022.tlg001 42279\n",
      "43 tlg0022.tlg002 27630\n",
      "44 tlg0026.tlg004 27172\n",
      "45 tlg0037.tlg001 8718\n",
      "46 tlg0039.tlg001 2170\n",
      "47 tlg0044.tlg001 3116\n",
      "48 tlg0045.tlg001 4229\n",
      "49 tlg0046.tlg001 4698\n",
      "50 tlg0048.tlg001 15540\n",
      "51 tlg0053.tlg001 114143\n",
      "52 tlg0055.tlg001 54245\n",
      "53 tlg0057.tlg033 86209\n",
      "54 tlg0057.tlg037 320258\n",
      "55 tlg0061.tlg001 59143\n",
      "56 tlg0061.tlg002 49844\n",
      "57 tlg0061.tlg003 32620\n",
      "58 tlg0061.tlg004 5672\n",
      "59 tlg0061.tlg005 7158\n",
      "60 tlg0061.tlg006 14667\n",
      "61 tlg0061.tlg007 20676\n",
      "62 tlg0061.tlg008 21856\n",
      "63 tlg0065.tlg001 74605\n",
      "64 tlg0066.tlg001 23538\n",
      "65 tlg0068.tlg001 36991\n",
      "66 tlg0069.tlg001 6072\n",
      "67 tlg0070.tlg001 9895\n",
      "68 tlg0071.tlg001 40177\n",
      "69 tlg0074.tlg008 1172\n",
      "70 tlg0075.tlg001 45223\n",
      "71 tlg0077.tlg001 36644\n",
      "72 tlg0081.tlg013 69041\n",
      "73 tlg0081.tlg014 15319\n",
      "74 tlg0081.tlg016 165207\n",
      "75 tlg0082.tlg001 277260\n",
      "76 tlg0082.tlg002 241449\n",
      "77 tlg0082.tlg003 76446\n",
      "78 tlg0082.tlg004 1419780\n",
      "79 tlg0083.tlg003 1956\n",
      "80 tlg0084.tlg001 51869\n",
      "81 tlg0086.tlg004 21463\n",
      "82 tlg0086.tlg005 250826\n",
      "83 tlg0086.tlg007 30236\n",
      "84 tlg0086.tlg011 5001\n",
      "85 tlg0086.tlg012 293386\n",
      "86 tlg0086.tlg019 16945\n",
      "87 tlg0086.tlg022 186551\n",
      "88 tlg0086.tlg023 46556\n",
      "89 tlg0086.tlg027 58616\n",
      "90 tlg0086.tlg030 239981\n",
      "91 tlg0086.tlg031 430892\n",
      "92 tlg0086.tlg032 36657\n",
      "93 tlg0086.tlg036 433237\n",
      "94 tlg0086.tlg039 71076\n",
      "95 tlg0086.tlg046 2580\n",
      "96 tlg0086.tlg047 26763\n",
      "97 tlg0086.tlg048 54915\n",
      "98 tlg0086.tlg052 18420\n",
      "99 tlg0087.tlg001 887009\n",
      "100 tlg0087.tlg002 19347\n",
      "101 tlg0087.tlg005 372\n",
      "102 tlg0087.tlg006 1257\n",
      "103 tlg0087.tlg007 248526\n",
      "104 tlg0087.tlg008 61494\n",
      "105 tlg0087.tlg009 352603\n",
      "106 tlg0087.tlg009a 1559\n",
      "107 tlg0087.tlg010 40445\n",
      "108 tlg0087.tlg011 384698\n",
      "109 tlg0087.tlg012 52222\n",
      "110 tlg0087.tlg013 350484\n",
      "111 tlg0087.tlg014 294\n",
      "112 tlg0087.tlg015 473\n",
      "113 tlg0087.tlg016 539\n",
      "114 tlg0087.tlg017 396\n",
      "115 tlg0087.tlg018 11083\n",
      "116 tlg0087.tlg019 2746\n",
      "117 tlg0087.tlg020 3516\n",
      "118 tlg0087.tlg021 101740\n",
      "119 tlg0087.tlg022 62548\n",
      "120 tlg0087.tlg023 3037\n",
      "121 tlg0087.tlg024 1338\n",
      "122 tlg0087.tlg025 5713\n",
      "123 tlg0087.tlg026 101682\n",
      "124 tlg0087.tlg027 11814\n",
      "125 tlg0087.tlg028 1605\n",
      "126 tlg0087.tlg029 315\n",
      "127 tlg0087.tlg030 3269\n",
      "128 tlg0087.tlg031 545\n",
      "129 tlg0087.tlg032 608\n",
      "130 tlg0087.tlg033 112513\n",
      "131 tlg0088.tlg001 130114\n",
      "132 tlg0090.tlg001 17242\n",
      "133 tlg0092.tlg001 27014\n",
      "134 tlg0093.ogl001 37373\n",
      "135 tlg0093.ogl002 26561\n",
      "136 tlg0093.tlg001 492815\n",
      "137 tlg0093.tlg002 416647\n",
      "138 tlg0093.tlg003 52606\n",
      "139 tlg0093.tlg004 25386\n",
      "140 tlg0093.tlg005 41432\n",
      "141 tlg0093.tlg006 21373\n",
      "142 tlg0093.tlg010x01 32718\n",
      "143 tlg0093.tlg010x02 33093\n",
      "144 tlg0093.tlg010x03 23218\n",
      "145 tlg0093.tlg010x04 8271\n",
      "146 tlg0093.tlg010x05 5478\n",
      "147 tlg0093.tlg010x06 14207\n",
      "148 tlg0093.tlg010x07 1817\n",
      "149 tlg0093.tlg010x08 580\n",
      "150 tlg0093.tlg010x09 88488\n",
      "151 tlg0094.tlg001 45335\n",
      "152 tlg0096.tlg002 187322\n",
      "153 tlg0097.tlg001 74261\n",
      "154 tlg0098.tlg001 134874\n",
      "155 tlg0099.tlg004 231368\n",
      "156 tlg0233.tlg001 2354\n",
      "157 tlg0317.tlg001 131842\n",
      "158 tlg0317.tlg002 15768\n",
      "159 tlg0319.tlg004 24889\n",
      "160 tlg0362.tlg001 7094\n",
      "161 tlg0363.tlg001 1351600\n",
      "162 tlg0363.tlg011 15522\n",
      "163 tlg0509.tlg001 1787\n",
      "164 tlg0521.tlg008 14991\n",
      "165 tlg0529.tlg002 129468\n",
      "166 tlg0530.tlg005 67788\n",
      "167 tlg0530.tlg006 79575\n",
      "168 tlg0530.tlg012 162553\n",
      "169 tlg0530.tlg029 319681\n",
      "170 tlg0530.tlg032 18293\n",
      "171 tlg0530.tlg043 150871\n",
      "172 tlg0533.tlg006 13322\n",
      "173 tlg0533.tlg007 11403\n",
      "174 tlg0533.tlg009 10609\n",
      "175 tlg0537.tlg010 31767\n",
      "176 tlg0537.tlg011 19595\n",
      "177 tlg0537.tlg013 8595\n",
      "178 tlg0537.tlg014 9796\n",
      "179 tlg0541.tlg042 918\n",
      "180 tlg0542.tlg001 707\n",
      "181 tlg0544.tlg001 379354\n",
      "182 tlg0545.tlg004 84695\n",
      "183 tlg0550.tlg001 45166\n",
      "184 tlg0552.tlg008 62821\n",
      "185 tlg0553.tlg001 402801\n",
      "186 tlg0559.tlg015 37582\n",
      "187 tlg0559.tlg016 41703\n",
      "188 tlg0563.tlg001 782891\n",
      "189 tlg0564.tlg001 42814\n",
      "190 tlg0565.tlg001 398221\n",
      "191 tlg0565.tlg002 7896\n",
      "192 tlg0565.tlg003 22875\n",
      "193 tlg0565.tlg004 9346\n",
      "194 tlg0572.tlg001 6569\n",
      "195 tlg0575.tlg001 1761\n",
      "196 tlg0575.tlg002 2197\n",
      "197 tlg0579.tlg010 18724\n",
      "198 tlg0580.tlg001 7890\n",
      "199 tlg0591.1st1K001 2995\n",
      "200 tlg0591.1st1K002 5474\n",
      "201 tlg0593.1st1K001 9324\n",
      "202 tlg0593.1st1K002 16161\n",
      "203 tlg0607.tlg001 73439\n",
      "204 tlg0609.tlg001 23766\n",
      "205 tlg0610.perseus002 15376\n",
      "206 tlg0610.tlg001 26868\n",
      "207 tlg0615.tlg001 658588\n",
      "208 tlg0616.tlg001 576472\n",
      "209 tlg0616.tlg002 114445\n",
      "210 tlg0618.tlg001 638\n",
      "211 tlg0620.tlg002 7979\n",
      "212 tlg0623.tlg001 18348\n",
      "213 tlg0626.tlg002 21565\n",
      "214 tlg0628.tlg001 94942\n",
      "215 tlg0628.tlg002 11049\n",
      "216 tlg0628.tlg003 9490\n",
      "217 tlg0629.tlg001 608\n",
      "218 tlg0632.tlg002 1278\n",
      "219 tlg0633.tlg001 3490\n",
      "220 tlg0634.tlg001 28502\n",
      "221 tlg0636.tlg001 19209\n",
      "222 tlg0637.tlg001 47981\n",
      "223 tlg0639.tlg001 338\n",
      "224 tlg0640.tlg001 232902\n",
      "225 tlg0643.opp003 2799\n",
      "226 tlg0643.tlg001 601\n",
      "227 tlg0643.tlg002 2151\n",
      "228 tlg0644.tlg001 625430\n",
      "229 tlg0645.tlg001 93154\n",
      "230 tlg0645.tlg002 28010\n",
      "231 tlg0645.tlg003 367254\n",
      "232 tlg0646.tlg004 17788\n",
      "233 tlg0649.tlg002 9456\n",
      "234 tlg0649.tlg003 6136\n",
      "235 tlg0656.tlg001 2332559\n",
      "236 tlg0656.tlg002 251615\n",
      "237 tlg0657.tlg001 6808\n",
      "238 tlg0658.tlg001 493050\n",
      "239 tlg0666.tlg001 1661\n",
      "240 tlg0676.tlg001 1187\n",
      "241 tlg0693.tlg001 91621\n",
      "242 tlg0693.tlg002 9910\n",
      "243 tlg0731.tlg001 81692\n",
      "244 tlg0731.tlg003 34087\n",
      "245 tlg0732.tlg003 48580\n",
      "246 tlg0732.tlg004 3037859\n",
      "247 tlg0732.tlg005 1218218\n",
      "248 tlg0732.tlg006 1570669\n",
      "249 tlg0732.tlg007 489124\n",
      "250 tlg0732.tlg008 613933\n",
      "251 tlg0732.tlg010 445688\n",
      "252 tlg0732.tlg013 203102\n",
      "253 tlg0732.tlg014 195877\n",
      "254 tlg0732.tlgX01 573522\n",
      "255 tlg0733.tlg001 43978\n",
      "256 tlg0751.tlg005 11919\n",
      "257 tlg1118.tlg003 7413\n",
      "258 tlg1129.tlg001 8615\n",
      "259 tlg1131.tlg001 8135\n",
      "260 tlg1134.tlg001 11333\n",
      "261 tlg1146.tlg001 29958\n",
      "262 tlg1147.tlg003 26261\n",
      "263 tlg1188.tlg002 35189\n",
      "264 tlg1193.tlg001 32825\n",
      "265 tlg1194.tlg001 198987\n",
      "266 tlg1247.tlg001 29014\n",
      "267 tlg1264.tlg001 811279\n",
      "268 tlg1264.tlg002 447955\n",
      "269 tlg1264.tlg003 1934\n",
      "270 tlg1264.tlg004 23289\n",
      "271 tlg1269.tlg002 73317\n",
      "272 tlg1271.tlg003 2970\n",
      "273 tlg1271.tlg004 4677\n",
      "274 tlg1271.tlg005 16394\n",
      "275 tlg1271.tlg006 406824\n",
      "276 tlg1271.tlg010 13415\n",
      "277 tlg1271.tlg011 159361\n",
      "278 tlg1271.tlg012 165129\n",
      "279 tlg1272.tlg001 166915\n",
      "280 tlg1286.tlg001 15207\n",
      "281 tlg1286.tlg002 8122\n",
      "282 tlg1286.tlg003 2736\n",
      "283 tlg1286.tlg004 6233\n",
      "284 tlg1286.tlg005 6781\n",
      "285 tlg1286.tlg006 4742\n",
      "286 tlg1286.tlg007 1623\n",
      "287 tlg1286.tlg008 2910\n",
      "288 tlg1286.tlg009 6282\n",
      "289 tlg1286.tlg010 15538\n",
      "290 tlg1286.tlg011 14191\n",
      "291 tlg1286.tlg012 12418\n",
      "292 tlg1286.tlg013 13126\n",
      "293 tlg1286.tlg014 5027\n",
      "294 tlg1286.tlg016 8528\n",
      "295 tlg1286.tlg017 785\n",
      "296 tlg1286.tlg018 9427\n",
      "297 tlg1286.tlg020 117899\n",
      "298 tlg1287.tlg001 10061\n",
      "299 tlg1304.tlg002 114131\n",
      "300 tlg1309.tlg001 21760\n",
      "301 tlg1319.tlg002 7830\n",
      "302 tlg1320.tlg001 75012\n",
      "303 tlg1325.tlg001 54958\n",
      "304 tlg1329.tlg001 5270\n",
      "305 tlg1347.tlg004 8549\n",
      "306 tlg1367.tlg001 11063\n",
      "307 tlg1383.tlg001 128253\n",
      "308 tlg1390.tlg004 14325\n",
      "309 tlg1402.tlg001 52031\n",
      "310 tlg1402.tlg002 3832\n",
      "311 tlg1402.tlg003 10569\n",
      "312 tlg1402.tlg004 3505\n",
      "313 tlg1402.tlg005 2028\n",
      "314 tlg1409.opp003 2968\n",
      "315 tlg1414.tlg001 93581\n",
      "316 tlg1416.tlg007 14123\n",
      "317 tlg1419.tlg001 209522\n",
      "318 tlg1434.tlg004 5076\n",
      "319 tlg1441.tlg001 7694\n",
      "320 tlg1443.tlg001 73227\n",
      "321 tlg1443.tlg002 123035\n",
      "322 tlg1447.tlg001 213761\n",
      "323 tlg1447.tlg009 2314\n",
      "324 tlg1463.tlg001 101536\n",
      "325 tlg1482.tlg001 172124\n",
      "326 tlg1484.tlg001 26046\n",
      "327 tlg1486.tlg001 44586\n",
      "328 tlg1486.tlg002 5489\n",
      "329 tlg1542.tlg001 43303\n",
      "330 tlg1548.tlg001 52231\n",
      "331 tlg1551.tlg001 490884\n",
      "332 tlg1551.tlg002 13590\n",
      "333 tlg1553.tlg001 45981\n",
      "334 tlg1562.tlg002 18742\n",
      "335 tlg1595.tlg221 84424\n",
      "336 tlg1595.tlg370 63568\n",
      "337 tlg1596.tlg002 13566\n",
      "338 tlg1602.tlg001 2815\n",
      "339 tlg1617.tlg001 38273\n",
      "340 tlg1626.tlg001 2010\n",
      "341 tlg1634.tlg002 11524\n",
      "342 tlg1664.tlg001 10155\n",
      "343 tlg1669.tlg004 11941\n",
      "344 tlg1681.tlg001 2717\n",
      "345 tlg1692.tlg005 35780\n",
      "346 tlg1699.tlg001 1856\n",
      "347 tlg1699.tlg002 8927\n",
      "348 tlg1699.tlg003 7572\n",
      "349 tlg1699.tlg004 7502\n",
      "350 tlg1699.tlg005 2753\n",
      "351 tlg1699.tlg006 1470\n",
      "352 tlg1699.tlg007 1283\n",
      "353 tlg1699.tlg008 5928\n",
      "354 tlg1701.tlg001 83421\n",
      "355 tlg1701.tlg002 44151\n",
      "356 tlg1705.tlg001 1167\n",
      "357 tlg1719.tlg001 142479\n",
      "358 tlg1724.tlg001 305587\n",
      "359 tlg1725.tlg001 133494\n",
      "360 tlg1749.tlg001 2896\n",
      "361 tlg1750.tlg001 32680\n",
      "362 tlg1750.tlg002 25131\n",
      "363 tlg1750.tlg003 7126\n",
      "364 tlg1750.tlg004 23624\n",
      "365 tlg1763.tlg001 16936\n",
      "366 tlg1764.tlg001 1121485\n",
      "367 tlg1799.tlg007 118804\n",
      "368 tlg1799.tlg009 102687\n",
      "369 tlg1799.tlg016 77697\n",
      "370 tlg1801.tlg001 23162\n",
      "371 tlg1802.tlg001 6179\n",
      "372 tlg1803.tlg001 23683\n",
      "373 tlg1805.tlg001 27521\n",
      "374 tlg1805.tlg002 6142\n",
      "375 tlg1805.tlg003 3795\n",
      "376 tlg1805.tlg004 1151\n",
      "377 tlg1805.tlg005 2498\n",
      "378 tlg1805.tlg006 3398\n",
      "379 tlg1805.tlg007 840\n",
      "380 tlg1805.tlg008 1823\n",
      "381 tlg1805.tlg009 640\n",
      "382 tlg1805.tlg010 14236\n",
      "383 tlg2000.tlg001 1780323\n",
      "384 tlg2001.tlg038 242896\n",
      "385 tlg2001.tlg039 709341\n",
      "386 tlg2001.tlg040 361845\n",
      "387 tlg2001.tlg041 120208\n",
      "388 tlg2001.tlg042 702053\n",
      "389 tlg2016.tlg001 26637\n",
      "390 tlg2018.tlg001 1462122\n",
      "391 tlg2018.tlg003 52665\n",
      "392 tlg2018.tlg005 998726\n",
      "393 tlg2018.tlg007 113346\n",
      "394 tlg2018.tlg008 1102\n",
      "395 tlg2018.tlg009 107910\n",
      "396 tlg2018.tlg010 73253\n",
      "397 tlg2018.tlg011 112485\n",
      "398 tlg2018.tlg020 328878\n",
      "399 tlg2018.tlg021 99087\n",
      "400 tlg2018.tlg022 144840\n",
      "401 tlg2018.tlg023 322598\n",
      "402 tlg2021.tlg001 349688\n",
      "403 tlg2021.tlg002 1848112\n",
      "404 tlg2021.tlg003 33083\n",
      "405 tlg2022.tlg003 203370\n",
      "406 tlg2022.tlg007 51598\n",
      "407 tlg2022.tlg008 116499\n",
      "408 tlg2022.tlg009 80018\n",
      "409 tlg2022.tlg010 86347\n",
      "410 tlg2022.tlg011 101829\n",
      "411 tlg2022.tlg060 918\n",
      "412 tlg2023.tlg001 196177\n",
      "413 tlg2023.tlg002 248786\n",
      "414 tlg2023.tlg003 124697\n",
      "415 tlg2023.tlg004 163232\n",
      "416 tlg2023.tlg006 257199\n",
      "417 tlg2027.tlg001 163954\n",
      "418 tlg2027.tlg002 15921\n",
      "419 tlg2029.tlg001 11225\n",
      "420 tlg2032.tlg001 502968\n",
      "421 tlg2034.tlg002 39078\n",
      "422 tlg2034.tlg003 221031\n",
      "423 tlg2034.tlg005 29155\n",
      "424 tlg2034.tlg006 62563\n",
      "425 tlg2034.tlg007 206689\n",
      "426 tlg2034.tlg014 968429\n",
      "427 tlg2034.tlg015 199552\n",
      "428 tlg2034.tlg027 14020\n",
      "429 tlg2035.tlg002 121529\n",
      "430 tlg2035.tlg003 8744\n",
      "431 tlg2035.tlg117 65544\n",
      "432 tlg2035.tlg130 146276\n",
      "433 tlg2035.tlg131 186363\n",
      "434 tlg2035.tlg132 149550\n",
      "435 tlg2036.tlg001 184834\n",
      "436 tlg2038.tlg001 177300\n",
      "437 tlg2039.tlg003 566\n",
      "438 tlg2039.tlg004 15566\n",
      "439 tlg2039.tlg005 21685\n",
      "440 tlg2041.tlg001 84757\n",
      "441 tlg2042.tlg005 1613774\n",
      "442 tlg2042.tlg006 251875\n",
      "443 tlg2042.tlg009 298099\n",
      "444 tlg2042.tlg010 73327\n",
      "445 tlg2042.tlg011 84829\n",
      "446 tlg2042.tlg013 30818\n",
      "447 tlg2042.tlg014 18071\n",
      "448 tlg2042.tlg015 691\n",
      "449 tlg2042.tlg016 390083\n",
      "450 tlg2042.tlg017 133262\n",
      "451 tlg2042.tlg019 449020\n",
      "452 tlg2042.tlg021 393792\n",
      "453 tlg2042.tlg029 242851\n",
      "454 tlg2042.tlg030 734223\n",
      "455 tlg2042.tlg044 50751\n",
      "456 tlg2042.tlg045 43064\n",
      "457 tlg2042.tlg048 86701\n",
      "458 tlg2042.tlg050 28635\n",
      "459 tlg2042.tlg051 12454\n",
      "460 tlg2042.tlg052 14294\n",
      "461 tlg2042.tlg053 20113\n",
      "462 tlg2042.tlg054 8005\n",
      "463 tlg2042.tlg055 2183\n",
      "464 tlg2042.tlg057 28348\n",
      "465 tlg2042.tlg058 646010\n",
      "466 tlg2042.tlg061 2037\n",
      "467 tlg2042.tlg066 4100\n",
      "468 tlg2042.tlg067 1554\n",
      "469 tlg2042.tlg068 3626\n",
      "470 tlg2042.tlg069 2511\n",
      "471 tlg2042.tlg070 12551\n",
      "472 tlg2042.tlg071 1342\n",
      "473 tlg2042.tlg072 898\n",
      "474 tlg2042.tlg073 56955\n",
      "475 tlg2042.tlg074 56041\n",
      "476 tlg2042.tlg075 112945\n",
      "477 tlg2042.tlg076 44028\n",
      "478 tlg2042.tlg077 27646\n",
      "479 tlg2042.tlg078 69046\n",
      "480 tlg2042.tlg079 358885\n",
      "481 tlg2042.tlg084 8832\n",
      "482 tlg2042.tlg086 39489\n",
      "483 tlg2048.tlg001 1093504\n",
      "484 tlg2049.tlg001 29831\n",
      "485 tlg2050.tlg001 8061\n",
      "486 tlg2057.tlg002 973321\n",
      "487 tlg2058.tlg001 247991\n",
      "488 tlg2115.tlg060 446188\n",
      "489 tlg2135.tlg001 35547\n",
      "490 tlg2136.tlg001 26633\n",
      "491 tlg2137.tlg001 39505\n",
      "492 tlg2140.tlg001 7602\n",
      "493 tlg2178.tlg001 48712\n",
      "494 tlg2178.tlg002 5339\n",
      "495 tlg2178.tlg004 9715\n",
      "496 tlg2189.tlg003 1089\n",
      "497 tlg2200.tlg001 1129150\n",
      "498 tlg2200.tlg00401 205968\n",
      "499 tlg2200.tlg00402 34011\n",
      "500 tlg2200.tlg00403 15710\n",
      "501 tlg2200.tlg00404 19344\n",
      "502 tlg2200.tlg00405 24591\n",
      "503 tlg2200.tlg00406 9798\n",
      "504 tlg2200.tlg00407 5235\n",
      "505 tlg2200.tlg00408 8175\n",
      "506 tlg2200.tlg00409 7198\n",
      "507 tlg2200.tlg00410 16438\n",
      "508 tlg2200.tlg00411 160555\n",
      "509 tlg2200.tlg00426 22604\n",
      "510 tlg2200.tlg00427 31385\n",
      "511 tlg2200.tlg00428 17312\n",
      "512 tlg2200.tlg00429 25554\n",
      "513 tlg2200.tlg00430 50184\n",
      "514 tlg2200.tlg00431 33717\n",
      "515 tlg2200.tlg00432 19588\n",
      "516 tlg2200.tlg00433 34205\n",
      "517 tlg2200.tlg00434 22964\n",
      "518 tlg2200.tlg00435 20994\n",
      "519 tlg2200.tlg00436 12169\n",
      "520 tlg2200.tlg00437 15832\n",
      "521 tlg2200.tlg00438 15633\n",
      "522 tlg2200.tlg00439 14824\n",
      "523 tlg2200.tlg00440 19582\n",
      "524 tlg2200.tlg00441 13679\n",
      "525 tlg2200.tlg00442 39678\n",
      "526 tlg2200.tlg00443 17500\n",
      "527 tlg2200.tlg00444 3438\n",
      "528 tlg2200.tlg00445 26730\n",
      "529 tlg2200.tlg00446 30977\n",
      "530 tlg2200.tlg00447 29541\n",
      "531 tlg2200.tlg00448 32189\n",
      "532 tlg2200.tlg00449 24360\n",
      "533 tlg2200.tlg00450 19906\n",
      "534 tlg2200.tlg00451 25235\n",
      "535 tlg2200.tlg00452 38895\n",
      "536 tlg2200.tlg00453 25899\n",
      "537 tlg2200.tlg00454 53148\n",
      "538 tlg2200.tlg00455 27126\n",
      "539 tlg2200.tlg00456 23583\n",
      "540 tlg2200.tlg00457 39319\n",
      "541 tlg2200.tlg00458 29642\n",
      "542 tlg2200.tlg00459 147742\n",
      "543 tlg2200.tlg00460 20019\n",
      "544 tlg2200.tlg00461 21162\n",
      "545 tlg2200.tlg00462 60265\n",
      "546 tlg2200.tlg00463 27679\n",
      "547 tlg2200.tlg00464 134475\n",
      "548 tlg2200.tlg00501 188976\n",
      "549 tlg2200.tlg00502 32943\n",
      "550 tlg2200.tlg00503 39617\n",
      "551 tlg2200.tlg00504 105206\n",
      "552 tlg2200.tlg00505 103588\n",
      "553 tlg2200.tlg00506 73792\n",
      "554 tlg2200.tlg00507 22884\n",
      "555 tlg2200.tlg00508 27012\n",
      "556 tlg2200.tlg00509 41509\n",
      "557 tlg2200.tlg00510 39316\n",
      "558 tlg2200.tlg00511 29962\n",
      "559 tlg2200.tlg00512 51525\n",
      "560 tlg2200.tlg00513 74512\n",
      "561 tlg2200.tlg00514 38771\n",
      "562 tlg2200.tlg00515 50422\n",
      "563 tlg2200.tlg00516 62573\n",
      "564 tlg2200.tlg00517 83788\n",
      "565 tlg2200.tlg00518 30713\n",
      "566 tlg2200.tlg00519 38423\n",
      "567 tlg2200.tlg00520 32993\n",
      "568 tlg2200.tlg00521 34561\n",
      "569 tlg2200.tlg00522 37786\n",
      "570 tlg2200.tlg00523 105613\n",
      "571 tlg2200.tlg00524 31410\n",
      "572 tlg2200.tlg00525 46935\n",
      "573 tlg2200.tlg00526 62013\n",
      "574 tlg2200.tlg00527 22645\n",
      "575 tlg2200.tlg00528 28464\n",
      "576 tlg2200.tlg00529 32269\n",
      "577 tlg2200.tlg00530 72977\n",
      "578 tlg2200.tlg00531 52488\n",
      "579 tlg2200.tlg00532 53819\n",
      "580 tlg2200.tlg00533 52878\n",
      "581 tlg2200.tlg00534 135282\n",
      "582 tlg2200.tlg00535 34897\n",
      "583 tlg2200.tlg00536 60186\n",
      "584 tlg2200.tlg00537 31732\n",
      "585 tlg2200.tlg00538 44277\n",
      "586 tlg2200.tlg00539 36707\n",
      "587 tlg2200.tlg00540 98228\n",
      "588 tlg2200.tlg00541 36375\n",
      "589 tlg2200.tlg00542 48804\n",
      "590 tlg2200.tlg00543 62462\n",
      "591 tlg2200.tlg00544 71936\n",
      "592 tlg2200.tlg00545 30022\n",
      "593 tlg2200.tlg00546 47955\n",
      "594 tlg2200.tlg00547 41175\n",
      "595 tlg2200.tlg00548 42786\n",
      "596 tlg2200.tlg00549 93270\n",
      "597 tlg2200.tlg00550 39443\n",
      "598 tlg2200.tlg00551 11241\n",
      "599 tlg2200.tlg008 32257\n",
      "600 tlg2233.tlg001 87403\n",
      "601 tlg2233.tlg002 7402\n",
      "602 tlg2371.tlg001 1495965\n",
      "603 tlg2583.tlg001 134759\n",
      "604 tlg2586.tlg001 77746\n",
      "605 tlg2586.tlg002 172325\n",
      "606 tlg2601.tlg001 29844\n",
      "607 tlg2632.tlg001 15838\n",
      "608 tlg2640.tlg001 20808\n",
      "609 tlg2655.tlg002 15756\n",
      "610 tlg2691.tlg002 7546\n",
      "611 tlg2703.tlg001 1030787\n",
      "612 tlg2733.tlg001 510283\n",
      "613 tlg2768.tlg001 410420\n",
      "614 tlg2806.tlg001 167075\n",
      "615 tlg2948.tlg001 97721\n",
      "616 tlg2949.tlg001 13581\n",
      "617 tlg2959.tlg001 309506\n",
      "618 tlg2959.tlg002 136383\n",
      "619 tlg2959.tlg005 13439\n",
      "620 tlg2959.tlg006 9807\n",
      "621 tlg2959.tlg007 15844\n",
      "622 tlg2959.tlg008 344\n",
      "623 tlg2959.tlg010 2281\n",
      "624 tlg2970.tlg001 2330\n",
      "625 tlg2972.tlg001 3873\n",
      "626 tlg3118.tlg001 233109\n",
      "627 tlg3118.tlg002 97061\n",
      "628 tlg3129.ogl001 7513\n",
      "629 tlg3135.tlg001 2304505\n",
      "630 tlg3135.tlg011 163633\n",
      "631 tlg3135.tlg012 5804\n",
      "632 tlg3156.tlg001 104010\n",
      "633 tlg4003.tlg001 69909\n",
      "634 tlg4003.tlg002 22541\n",
      "635 tlg4003.tlg003 4584\n",
      "636 tlg4013.tlg001 2007427\n",
      "637 tlg4013.tlg003 1277468\n",
      "638 tlg4013.tlg004 3131690\n",
      "639 tlg4013.tlg005 849978\n",
      "640 tlg4015.tlg001 521324\n",
      "641 tlg4015.tlg002 1205861\n",
      "642 tlg4015.tlg004 1077364\n",
      "643 tlg4015.tlg005 453450\n",
      "644 tlg4015.tlg006 776680\n",
      "645 tlg4015.tlg007 674971\n",
      "646 tlg4015.tlg008 1603225\n",
      "647 tlg4015.tlg009 2300724\n",
      "648 tlg4016.tlg001 464254\n",
      "649 tlg4016.tlg002 499178\n",
      "650 tlg4016.tlg003 879164\n",
      "651 tlg4016.tlg004 286955\n",
      "652 tlg4016.tlg005 119032\n",
      "653 tlg4017.tlg001 517556\n",
      "654 tlg4018.tlg001 1196236\n",
      "655 tlg4019.tlg001 69908\n",
      "656 tlg4019.tlg002 324914\n",
      "657 tlg4019.tlg003 785076\n",
      "658 tlg4020.tlg001 270575\n",
      "659 tlg4020.tlg002 407235\n",
      "660 tlg4021.tlg001 222465\n",
      "661 tlg4021.tlg002 359919\n",
      "662 tlg4024.tlg001 395021\n",
      "663 tlg4024.tlg002 45660\n",
      "664 tlg4026.tlg001 592114\n",
      "665 tlg4026.tlg002 13099\n",
      "666 tlg4026.tlg003 6094\n",
      "667 tlg4027.tlg001 346933\n",
      "668 tlg4030.tlg001 489916\n",
      "669 tlg4031.tlg002 1649601\n",
      "670 tlg4033.tlg003 801276\n",
      "671 tlg4034.tlg002 387970\n",
      "672 tlg4034.tlg003 266755\n",
      "673 tlg4034.tlg004 73184\n",
      "674 tlg4034.tlg005 98534\n",
      "675 tlg4034.tlg006 193875\n",
      "676 tlg4036.tlg001 1219773\n",
      "677 tlg4037.tlg001 8559\n",
      "678 tlg4072.tlg001 147974\n",
      "679 tlg4072.tlg002 19537\n",
      "680 tlg4072.tlg003 35827\n",
      "681 tlg4075.tlg002 17719\n",
      "682 tlg4084.tlg001 606468\n",
      "683 tlg4086.tlg001 106\n",
      "684 tlg4086.tlg002 6172\n",
      "685 tlg4089.tlg003 753081\n",
      "686 tlg4089.tlg004 392442\n",
      "687 tlg4090.tlg001 2580623\n",
      "688 tlg4102.tlg001 492476\n",
      "689 tlg4102.tlg002 350266\n",
      "690 tlg4102.tlg003 116189\n",
      "691 tlg4102.tlg004 320290\n",
      "692 tlg4102.tlg005 463099\n",
      "693 tlg4102.tlg006 30219\n",
      "694 tlg4102.tlg007 33316\n",
      "695 tlg4102.tlg008 758595\n",
      "696 tlg4102.tlg010 309200\n",
      "697 tlg4102.tlg011 724216\n",
      "698 tlg4102.tlg012 664041\n",
      "699 tlg4102.tlg013 221687\n",
      "700 tlg4102.tlg019 171760\n",
      "701 tlg4102.tlg020 242969\n",
      "702 tlg4102.tlg021 116192\n",
      "703 tlg4102.tlg022 86220\n",
      "704 tlg4102.tlg023 61273\n",
      "705 tlg4102.tlg024 62297\n",
      "706 tlg4102.tlg034 89224\n",
      "707 tlg4102.tlg035 50447\n",
      "708 tlg4102.tlg036 29194\n",
      "709 tlg4102.tlg037 13651\n",
      "710 tlg4102.tlg038 964706\n",
      "711 tlg4102.tlg040 69478\n",
      "712 tlg4102.tlg041 74496\n",
      "713 tlg4102.tlg042 33643\n",
      "714 tlg4102.tlg043 71368\n",
      "715 tlg4102.tlg044 4050\n",
      "716 tlg4102.tlg045 5653\n",
      "717 tlg4102.tlg046 31506\n",
      "718 tlg4102.tlgX01 5138\n",
      "719 tlg4102.tlgX02 586833\n",
      "720 tlg4102.tlgX03 152024\n",
      "721 tlg4170.tlg001a 4248\n",
      "722 tlg4170.tlg001b 4294\n",
      "723 tlg4170.tlg001c 1741\n",
      "724 tlg4170.tlg001d 1546\n",
      "725 tlg4174.tlg001 83271\n",
      "726 tlg4193.tlg012 267663\n",
      "727 tlg5019.tlg001 104867\n",
      "728 tlg5019.tlg002 14547\n",
      "729 tlg5022.tlg002 78097\n",
      "730 tlg5022.tlg003 26377\n",
      "731 tlg5022.tlg004 50996\n",
      "732 tlg5022.tlg005 21875\n",
      "733 tlg5022.tlg006 36879\n",
      "734 tlg5022.tlg007 4123\n",
      "735 tlg5023.tlg001 964864\n",
      "736 tlg5023.tlg010 42512\n",
      "737 tlg5023.tlg011 59206\n",
      "738 tlg5023.tlg012 63519\n",
      "739 tlg5023.tlg013 319128\n",
      "740 tlg5023.tlg014 870855\n",
      "741 tlg5023.tlg015 510293\n",
      "742 tlg5023.tlg016 519080\n",
      "743 tlg5026.tlg001 4993277\n",
      "744 tlg5026.tlg007 1312538\n",
      "745 tlg5029.tlg001 352370\n",
      "746 tlg5031.tlg001 130888\n",
      "747 tlg5031.tlg002 82658\n",
      "748 tlg5034.tlg001a 446341\n",
      "749 tlg5034.tlg001b 307952\n",
      "750 tlg5034.tlg001c 236466\n",
      "751 tlg5034.tlg001d 113319\n",
      "752 tlg5037.tlg004 681254\n",
      "753 tlg9004.tlg001 138052\n",
      "754 tlg9006.tlg001 17694\n",
      "755 tlg9006.tlg011 47641\n",
      "756 tlg9007.tlg001 51162\n",
      "757 tlg9010.tlg001 5707024\n",
      "758 tlg9019.tlg001 190939\n",
      "759 tlg0004.tlg001 708068\n",
      "760 tlg0006.tlg001 27106\n",
      "761 tlg0006.tlg002 41474\n",
      "762 tlg0006.tlg004 39253\n",
      "763 tlg0006.tlg005 50568\n",
      "764 tlg0006.tlg006 45554\n",
      "765 tlg0007.tlg051 91237\n",
      "766 tlg0007.tlg052 61573\n",
      "767 tlg0007.tlg067 42252\n",
      "768 tlg0007.tlg068 68111\n",
      "769 tlg0007.tlg069 35041\n",
      "770 tlg0007.tlg070 81805\n",
      "771 tlg0007.tlg071 35066\n",
      "772 tlg0007.tlg076 64434\n",
      "773 tlg0007.tlg077 49666\n",
      "774 tlg0007.tlg078 25747\n",
      "775 tlg0007.tlg079 59592\n",
      "776 tlg0007.tlg080 28260\n",
      "777 tlg0007.tlg084a 93563\n",
      "778 tlg0007.tlg084b 42838\n",
      "779 tlg0007.tlg089 119026\n",
      "780 tlg0007.tlg090 34571\n",
      "781 tlg0007.tlg091 55283\n",
      "782 tlg0007.tlg092 99198\n",
      "783 tlg0007.tlg093 4883\n",
      "784 tlg0007.tlg094 39791\n",
      "785 tlg0007.tlg095 38544\n",
      "786 tlg0007.tlg096 43250\n",
      "787 tlg0007.tlg097 56638\n",
      "788 tlg0007.tlg098 20075\n",
      "789 tlg0007.tlg099 6721\n",
      "790 tlg0007.tlg100 6100\n",
      "791 tlg0007.tlg101 41408\n",
      "792 tlg0007.tlg102 26767\n",
      "793 tlg0007.tlg103 16595\n",
      "794 tlg0007.tlg104 26027\n",
      "795 tlg0007.tlg105 7620\n",
      "796 tlg0007.tlg106 28383\n",
      "797 tlg0007.tlg107 66557\n",
      "798 tlg0007.tlg108 24039\n",
      "799 tlg0007.tlg109 88129\n",
      "800 tlg0007.tlg110 30338\n",
      "801 tlg0007.tlg111 14373\n",
      "802 tlg0007.tlg112 472066\n",
      "803 tlg0007.tlg113 88834\n",
      "804 tlg0007.tlg114 12860\n",
      "805 tlg0007.tlg115 13356\n",
      "806 tlg0007.tlg116 12095\n",
      "807 tlg0007.tlg117 50962\n",
      "808 tlg0007.tlg118 90128\n",
      "809 tlg0007.tlg119 4475\n",
      "810 tlg0007.tlg120 15592\n",
      "811 tlg0007.tlg121 61416\n",
      "812 tlg0007.tlg122 4651\n",
      "813 tlg0007.tlg123 61208\n",
      "814 tlg0007.tlg125 30482\n",
      "815 tlg0007.tlg126 79898\n",
      "816 tlg0007.tlg127 31436\n",
      "817 tlg0007.tlg128 9963\n",
      "818 tlg0007.tlg129 79227\n",
      "819 tlg0007.tlg130 22312\n",
      "820 tlg0007.tlg131 10381\n",
      "821 tlg0007.tlg132 8174\n",
      "822 tlg0007.tlg133 39004\n",
      "823 tlg0007.tlg134 58062\n",
      "824 tlg0007.tlg135 7295\n",
      "825 tlg0007.tlg136 76856\n",
      "826 tlg0007.tlg137 3331\n",
      "827 tlg0007.tlg138 87471\n",
      "828 tlg0007.tlg139 62837\n",
      "829 tlg0007.tlg140 63485\n",
      "830 tlg0007.tlg141 8062\n",
      "831 tlg0013.tlg008 775\n",
      "832 tlg0014.tlg062 59923\n",
      "833 tlg0014.tlg063 38588\n",
      "834 tlg0081.tlg007 1473\n",
      "835 tlg0094.tlg003 99016\n",
      "836 tlg0363.tlg007 243516\n",
      "837 tlg0555.tlg004 849920\n",
      "838 tlg0557.tlg004 1741\n",
      "839 tlg0557.tlg005 11957\n",
      "840 tlg0612.tlg001 1124459\n",
      "841 tlg0647.tlg001 29917\n",
      "842 tlg0652.tlg001 43202\n",
      "843 tlg2003.tlg002 53312\n",
      "844 tlg2003.tlg003 101300\n",
      "845 tlg2003.tlg004 23061\n",
      "846 tlg2003.tlg005 36385\n",
      "847 tlg2003.tlg006 25544\n",
      "848 tlg2003.tlg007 66734\n",
      "849 tlg2003.tlg008 43025\n",
      "850 tlg2003.tlg009 43696\n",
      "851 tlg2003.tlg010 52005\n",
      "852 tlg2003.tlg011 55631\n",
      "853 tlg2003.tlg012 66962\n",
      "854 tlg2003.tlg013 171136\n",
      "855 tlg2003.tlg017 66408\n",
      "856 tlg2018.tlg002 692543\n",
      "857 tlg2040.tlg002 38430\n",
      "858 tlg2040.tlg004 916516\n",
      "859 tlg2045.tlg001 934506\n",
      "860 tlg2046.tlg001 395355\n",
      "861 tlg2934.tlg066 430237\n",
      "862 tlg4029.tlg002 210702\n",
      "863 tlg4081.tlg001 16905\n",
      "864 tlg4091.tlg001 24761\n",
      "865 tlg7000.tlg001 132782\n",
      "CPU times: user 16h 57min 22s, sys: 4h 21min 57s, total: 21h 19min 20s\n",
      "Wall time: 11h 42min 42s\n"
     ]
    }
   ],
   "source": [
    "%%time\n",
    "### will be time consuming...\n",
    "LAGT[\"lemmatized_sentences\"] = LAGT.apply(lambda row: get_grecy_lemmata(row[\"string\"], row[\"lemmatized_sentences\"], row[\"doc_id\"]), axis=1)"
   ],
   "metadata": {
    "collapsed": false,
    "ExecuteTime": {
     "end_time": "2024-01-18T05:00:00.310790Z",
     "start_time": "2024-01-17T17:17:17.515498Z"
    }
   },
   "id": "819118863f791d2c",
   "execution_count": 31
  },
  {
   "cell_type": "code",
   "outputs": [
    {
     "data": {
      "text/plain": "    author_id          doc_id                       filename        author  \\\n411   tlg0530  tlg0530.tlg006  tlg0530.tlg006.1st1K-grc1.xml  Pseudo-Galen   \n824   tlg2042  tlg2042.tlg009    tlg2042.tlg009.opp-grc1.xml      Origenes   \n834   tlg2042  tlg2042.tlg021    tlg2042.tlg021.opp-grc1.xml      Origenes   \n\n                                title  \\\n411  Ad Gaurum quomodo animetur fetus   \n824       In Jeremiam (Homiliae 1-11)   \n834      In Jeremiam (Homiliae 12-20)   \n\n                                                string  wordcount source  \\\n411  Τὸ περὶ τῆς εἰς τὰ σώματα τῶν ψυχῶν εἰσκρίσεως...       9595   1Kgr   \n824  \\n Ὁ θεὸς εἰς ἀγαθοποιίαν πρόχειρός\\n         ...      36685   1Kgr   \n834  Ὃ προστάσσεται ὁ προφήτης λέγειν ὑπὸ θεοῦ, ὀφε...      48360   1Kgr   \n\n    lemmatized_sentences lemmata_source  \n411                 None           None  \n824                 None           None  \n834                 None           None  ",
      "text/html": "<div>\n<style scoped>\n    .dataframe tbody tr th:only-of-type {\n        vertical-align: middle;\n    }\n\n    .dataframe tbody tr th {\n        vertical-align: top;\n    }\n\n    .dataframe thead th {\n        text-align: right;\n    }\n</style>\n<table border=\"1\" class=\"dataframe\">\n  <thead>\n    <tr style=\"text-align: right;\">\n      <th></th>\n      <th>author_id</th>\n      <th>doc_id</th>\n      <th>filename</th>\n      <th>author</th>\n      <th>title</th>\n      <th>string</th>\n      <th>wordcount</th>\n      <th>source</th>\n      <th>lemmatized_sentences</th>\n      <th>lemmata_source</th>\n    </tr>\n  </thead>\n  <tbody>\n    <tr>\n      <th>411</th>\n      <td>tlg0530</td>\n      <td>tlg0530.tlg006</td>\n      <td>tlg0530.tlg006.1st1K-grc1.xml</td>\n      <td>Pseudo-Galen</td>\n      <td>Ad Gaurum quomodo animetur fetus</td>\n      <td>Τὸ περὶ τῆς εἰς τὰ σώματα τῶν ψυχῶν εἰσκρίσεως...</td>\n      <td>9595</td>\n      <td>1Kgr</td>\n      <td>None</td>\n      <td>None</td>\n    </tr>\n    <tr>\n      <th>824</th>\n      <td>tlg2042</td>\n      <td>tlg2042.tlg009</td>\n      <td>tlg2042.tlg009.opp-grc1.xml</td>\n      <td>Origenes</td>\n      <td>In Jeremiam (Homiliae 1-11)</td>\n      <td>\\n Ὁ θεὸς εἰς ἀγαθοποιίαν πρόχειρός\\n         ...</td>\n      <td>36685</td>\n      <td>1Kgr</td>\n      <td>None</td>\n      <td>None</td>\n    </tr>\n    <tr>\n      <th>834</th>\n      <td>tlg2042</td>\n      <td>tlg2042.tlg021</td>\n      <td>tlg2042.tlg021.opp-grc1.xml</td>\n      <td>Origenes</td>\n      <td>In Jeremiam (Homiliae 12-20)</td>\n      <td>Ὃ προστάσσεται ὁ προφήτης λέγειν ὑπὸ θεοῦ, ὀφε...</td>\n      <td>48360</td>\n      <td>1Kgr</td>\n      <td>None</td>\n      <td>None</td>\n    </tr>\n  </tbody>\n</table>\n</div>"
     },
     "execution_count": 39,
     "metadata": {},
     "output_type": "execute_result"
    }
   ],
   "source": [
    "LAGT[LAGT[\"lemmatized_sentences\"].isnull()]"
   ],
   "metadata": {
    "collapsed": false,
    "ExecuteTime": {
     "end_time": "2024-01-18T09:05:20.474964Z",
     "start_time": "2024-01-18T09:05:20.460064Z"
    }
   },
   "id": "724f030638d3ee99",
   "execution_count": 39
  },
  {
   "cell_type": "code",
   "outputs": [],
   "source": [
    "missing_i = LAGT[LAGT[\"lemmatized_sentences\"].isnull()].index"
   ],
   "metadata": {
    "collapsed": false,
    "ExecuteTime": {
     "end_time": "2024-01-18T09:06:24.842608Z",
     "start_time": "2024-01-18T09:06:24.833898Z"
    }
   },
   "id": "75234740017ec51b",
   "execution_count": 42
  },
  {
   "cell_type": "code",
   "outputs": [],
   "source": [
    "string = LAGT[LAGT[\"lemmatized_sentences\"].isnull()][\"string\"].tolist()[1]"
   ],
   "metadata": {
    "collapsed": false,
    "ExecuteTime": {
     "end_time": "2024-01-18T09:41:37.203293Z",
     "start_time": "2024-01-18T09:41:37.193151Z"
    }
   },
   "id": "583b8c87f441cdf7",
   "execution_count": 64
  },
  {
   "cell_type": "code",
   "outputs": [
    {
     "data": {
      "text/plain": "str"
     },
     "execution_count": 65,
     "metadata": {},
     "output_type": "execute_result"
    }
   ],
   "source": [
    "type(string)"
   ],
   "metadata": {
    "collapsed": false,
    "ExecuteTime": {
     "end_time": "2024-01-18T09:41:37.659895Z",
     "start_time": "2024-01-18T09:41:37.645176Z"
    }
   },
   "id": "b9e8c13a414590f8",
   "execution_count": 65
  },
  {
   "cell_type": "code",
   "outputs": [],
   "source": [
    "cleaned_string = clean_string(string)"
   ],
   "metadata": {
    "collapsed": false,
    "ExecuteTime": {
     "end_time": "2024-01-18T09:41:38.333575Z",
     "start_time": "2024-01-18T09:41:38.279210Z"
    }
   },
   "id": "92813304bd3748d5",
   "execution_count": 66
  },
  {
   "cell_type": "code",
   "outputs": [],
   "source": [
    "cleaned_string = re.sub(\"\\.{3}\\.*\", \"...\", cleaned_string)"
   ],
   "metadata": {
    "collapsed": false,
    "ExecuteTime": {
     "end_time": "2024-01-18T09:41:38.863023Z",
     "start_time": "2024-01-18T09:41:38.859812Z"
    }
   },
   "id": "bc60dd77a1af1fb6",
   "execution_count": 67
  },
  {
   "cell_type": "code",
   "outputs": [],
   "source": [
    "doc = nlp(cleaned_string)"
   ],
   "metadata": {
    "collapsed": false,
    "ExecuteTime": {
     "end_time": "2024-01-18T09:42:50.852984Z",
     "start_time": "2024-01-18T09:41:40.314215Z"
    }
   },
   "id": "847bed545df5c5bb",
   "execution_count": 68
  },
  {
   "cell_type": "code",
   "outputs": [],
   "source": [
    "def dealing_with_missing(string):\n",
    "    string = str(string)\n",
    "    cleaned_string = clean_string(string)\n",
    "    cleaned_string = re.sub(\"\\.{3}\\.*\", \"...\", cleaned_string)\n",
    "    doc = nlp(cleaned_string)\n",
    "    lemmatized_sentences = get_lemmatized_sentences(doc)\n",
    "    return lemmatized_sentences\n",
    "\n",
    "lemmatized_missing = LAGT[LAGT[\"lemmatized_sentences\"].isnull()][\"string\"].apply(dealing_with_missing)"
   ],
   "metadata": {
    "collapsed": false,
    "ExecuteTime": {
     "end_time": "2024-01-18T09:49:11.782980Z",
     "start_time": "2024-01-18T09:45:27.962782Z"
    }
   },
   "id": "1e51658f2a119f4f",
   "execution_count": 69
  },
  {
   "cell_type": "code",
   "outputs": [
    {
     "data": {
      "text/plain": "411    [[σῶμα, ψυχή, εἰσκρίσις, ζῳογονία, δόγμα, πολύ...\n824    [[θεός, ἀγαθοποιία, πρόχειρος, κολάζω, ἄξιος, ...\n834    [[προστάσσω, προφήτης, λέγω, θεός], [ὀφείλω, ἄ...\nName: string, dtype: object"
     },
     "execution_count": 70,
     "metadata": {},
     "output_type": "execute_result"
    }
   ],
   "source": [
    "lemmatized_missing"
   ],
   "metadata": {
    "collapsed": false,
    "ExecuteTime": {
     "end_time": "2024-01-18T09:51:33.139927Z",
     "start_time": "2024-01-18T09:51:33.109159Z"
    }
   },
   "id": "2de20004ea75ef75",
   "execution_count": 70
  },
  {
   "cell_type": "code",
   "outputs": [],
   "source": [
    "LAGT.loc[missing_i, \"lemmatized_sentences\"] = lemmatized_missing"
   ],
   "metadata": {
    "collapsed": false,
    "ExecuteTime": {
     "end_time": "2024-01-18T09:52:09.607863Z",
     "start_time": "2024-01-18T09:52:09.596741Z"
    }
   },
   "id": "92fb0b37f47a43d4",
   "execution_count": 71
  },
  {
   "cell_type": "code",
   "outputs": [
    {
     "data": {
      "text/plain": "     author_id            doc_id                         filename  \\\n1532   tlg0031    tlg0031.tlg008  tlg0031.tlg008.perseus-grc2.xml   \n1619   tlg0060    tlg0060.tlg001  tlg0060.tlg001.perseus-grc6.xml   \n581    tlg0732    tlg0732.tlg013    tlg0732.tlg013.1st1K-grc1.xml   \n474    tlg0591  tlg0591.1st1K001  tlg0591.1st1K001.1st1K-grc1.xml   \n704    tlg1699    tlg1699.tlg004    tlg1699.tlg004.1st1K-grc1.xml   \n274    tlg0087    tlg0087.tlg013    tlg0087.tlg013.1st1K-grc1.xml   \n200    tlg0066    tlg0066.tlg001    tlg0066.tlg001.1st1K-grc1.xml   \n652    tlg1383    tlg1383.tlg001    tlg1383.tlg001.1st1K-grc1.xml   \n1107   tlg4102    tlg4102.tlg037    tlg4102.tlg037.1st1K-grc1.xml   \n1283   tlg0007    tlg0007.tlg089  tlg0007.tlg089.perseus-grc2.xml   \n\n                           author  \\\n1532                         None   \n1619             Diodorus Siculus   \n581      Alexander of Aphrodisias   \n474                   Antisthenes   \n704             Teles Megarenesis   \n274                    Herodianus   \n200               Ps. Dicaearchus   \n652                       Geminus   \n1107  Catenae (Novum Testamentum)   \n1283                     Plutarch   \n\n                                                  title  \\\n1532                      New Testament - 2 Corinthians   \n1619                  Βιβλιοθήκη Ἱστορική (Books 18-20)   \n581                              Ἠθικὰ προβλήματα [Sp.]   \n474                                                Αἴας   \n704                  Περὶ συγκρίσεως πενίας καὶ πλούτου   \n274                               Περὶ κλίσεως ὀνομάτων   \n200   Dicaearchi, ut fertur, potius vero Athenaei De...   \n652                                 Elementa astronomia   \n1107                  Catena In Epistulam Ad Philemonem   \n1283                           Περὶ Ἴσιδος και Ὀσίριδος   \n\n                                                 string  wordcount   source  \\\n1532  \\n\\n                    ΠΑΥΛΟΣ ἀπόστολος Χριστ...       4470  perseus   \n1619   τάδε ἔνεστιν ἐν τῇ ὀκτωκαιδεκάτῃ τῶν Διοδώρου...      79283  perseus   \n581   α. Ἀπορίαι πρὸς τοὺς τὸ ζῆν οὐκ ἀγαθὸν\\n      ...      23343     1Kgr   \n474   Ἐβουλόμην ἂν τοὺς αὐτοὺς ἡμῖν δικάζειν οἵπερ \\...        502     1Kgr   \n704   Δοκεῖ μοι ἡ τῶν χρημάτων κτῆσις σπάνεως καὶ ἐν...       1195     1Kgr   \n274   1. Anecd.Ox.IV 333, 6: Ἐπιτομὴ τῶν ὀνοματικῶν ...      59506     1Kgr   \n200   Ἐντεῦθεν εἰς τὸ Ἀθηναίων ἔπεισιν \\n\\n         ...       2757     1Kgr   \n652    Ὁ τῶν ζῳδίων κύκλος διαιρεῖται εἰς μέρη ιβ′, ...      20574     1Kgr   \n1107  ΑΝΗΡ τις ἦν Φιλήμων τῶν πιστῶν καὶ γενναίων ἀν...       2185     1Kgr   \n1283  πάντα μέν, ὦ Κλέα, δεῖ τἀγαθὰ τοὺς νοῦν ἔχοντα...      18332  perseus   \n\n                                   lemmatized_sentences lemmata_source  \n1532  [[Παῦλος, ἀπόστολος, Χριστός, Ἰησοῦς, θέλημα, ...       morphgnt  \n1619  [[θεός, δισσός, παλαιός, ἄνθρωπος, μεταγενής, ...          glaux  \n581   [[Ἀπορίαις, ζῶ, ἀγαθός, λέγω], [ὁμοειδέω, ἡδον...           None  \n474   [[Ἐβουλόμης, αὐτός, δικάζω, πρᾶγμα, πάρειμι], ...           None  \n704   [[δοκέω, χρῆμα, κτῆσις, σπάνις, ἔνδεια, ἀπολύω...           None  \n274   [[Ἐπιτομή, ὀνοματικός, κανών, Ἡρωδιανός], [ὅμο...           None  \n200   [[Ἀθηναῖος, ἔπειμι, ἄστυ], [ὁδός, ἡδύς, γεωργο...           None  \n652   [[ζωίδιον, κύκλος, διαιρέω, μέρος, καλέω, ἕκασ...           None  \n1107  [[Ἀνήρ, Φιλήμων, πιστός, γενναῖος, ἀνήρ], [οὗτ...           None  \n1283  [[Κλέα, δεῖ, ἀγαθός, νόος, ἔχω, αἰτέω, θεός], ...           None  ",
      "text/html": "<div>\n<style scoped>\n    .dataframe tbody tr th:only-of-type {\n        vertical-align: middle;\n    }\n\n    .dataframe tbody tr th {\n        vertical-align: top;\n    }\n\n    .dataframe thead th {\n        text-align: right;\n    }\n</style>\n<table border=\"1\" class=\"dataframe\">\n  <thead>\n    <tr style=\"text-align: right;\">\n      <th></th>\n      <th>author_id</th>\n      <th>doc_id</th>\n      <th>filename</th>\n      <th>author</th>\n      <th>title</th>\n      <th>string</th>\n      <th>wordcount</th>\n      <th>source</th>\n      <th>lemmatized_sentences</th>\n      <th>lemmata_source</th>\n    </tr>\n  </thead>\n  <tbody>\n    <tr>\n      <th>1532</th>\n      <td>tlg0031</td>\n      <td>tlg0031.tlg008</td>\n      <td>tlg0031.tlg008.perseus-grc2.xml</td>\n      <td>None</td>\n      <td>New Testament - 2 Corinthians</td>\n      <td>\\n\\n                    ΠΑΥΛΟΣ ἀπόστολος Χριστ...</td>\n      <td>4470</td>\n      <td>perseus</td>\n      <td>[[Παῦλος, ἀπόστολος, Χριστός, Ἰησοῦς, θέλημα, ...</td>\n      <td>morphgnt</td>\n    </tr>\n    <tr>\n      <th>1619</th>\n      <td>tlg0060</td>\n      <td>tlg0060.tlg001</td>\n      <td>tlg0060.tlg001.perseus-grc6.xml</td>\n      <td>Diodorus Siculus</td>\n      <td>Βιβλιοθήκη Ἱστορική (Books 18-20)</td>\n      <td>τάδε ἔνεστιν ἐν τῇ ὀκτωκαιδεκάτῃ τῶν Διοδώρου...</td>\n      <td>79283</td>\n      <td>perseus</td>\n      <td>[[θεός, δισσός, παλαιός, ἄνθρωπος, μεταγενής, ...</td>\n      <td>glaux</td>\n    </tr>\n    <tr>\n      <th>581</th>\n      <td>tlg0732</td>\n      <td>tlg0732.tlg013</td>\n      <td>tlg0732.tlg013.1st1K-grc1.xml</td>\n      <td>Alexander of Aphrodisias</td>\n      <td>Ἠθικὰ προβλήματα [Sp.]</td>\n      <td>α. Ἀπορίαι πρὸς τοὺς τὸ ζῆν οὐκ ἀγαθὸν\\n      ...</td>\n      <td>23343</td>\n      <td>1Kgr</td>\n      <td>[[Ἀπορίαις, ζῶ, ἀγαθός, λέγω], [ὁμοειδέω, ἡδον...</td>\n      <td>None</td>\n    </tr>\n    <tr>\n      <th>474</th>\n      <td>tlg0591</td>\n      <td>tlg0591.1st1K001</td>\n      <td>tlg0591.1st1K001.1st1K-grc1.xml</td>\n      <td>Antisthenes</td>\n      <td>Αἴας</td>\n      <td>Ἐβουλόμην ἂν τοὺς αὐτοὺς ἡμῖν δικάζειν οἵπερ \\...</td>\n      <td>502</td>\n      <td>1Kgr</td>\n      <td>[[Ἐβουλόμης, αὐτός, δικάζω, πρᾶγμα, πάρειμι], ...</td>\n      <td>None</td>\n    </tr>\n    <tr>\n      <th>704</th>\n      <td>tlg1699</td>\n      <td>tlg1699.tlg004</td>\n      <td>tlg1699.tlg004.1st1K-grc1.xml</td>\n      <td>Teles Megarenesis</td>\n      <td>Περὶ συγκρίσεως πενίας καὶ πλούτου</td>\n      <td>Δοκεῖ μοι ἡ τῶν χρημάτων κτῆσις σπάνεως καὶ ἐν...</td>\n      <td>1195</td>\n      <td>1Kgr</td>\n      <td>[[δοκέω, χρῆμα, κτῆσις, σπάνις, ἔνδεια, ἀπολύω...</td>\n      <td>None</td>\n    </tr>\n    <tr>\n      <th>274</th>\n      <td>tlg0087</td>\n      <td>tlg0087.tlg013</td>\n      <td>tlg0087.tlg013.1st1K-grc1.xml</td>\n      <td>Herodianus</td>\n      <td>Περὶ κλίσεως ὀνομάτων</td>\n      <td>1. Anecd.Ox.IV 333, 6: Ἐπιτομὴ τῶν ὀνοματικῶν ...</td>\n      <td>59506</td>\n      <td>1Kgr</td>\n      <td>[[Ἐπιτομή, ὀνοματικός, κανών, Ἡρωδιανός], [ὅμο...</td>\n      <td>None</td>\n    </tr>\n    <tr>\n      <th>200</th>\n      <td>tlg0066</td>\n      <td>tlg0066.tlg001</td>\n      <td>tlg0066.tlg001.1st1K-grc1.xml</td>\n      <td>Ps. Dicaearchus</td>\n      <td>Dicaearchi, ut fertur, potius vero Athenaei De...</td>\n      <td>Ἐντεῦθεν εἰς τὸ Ἀθηναίων ἔπεισιν \\n\\n         ...</td>\n      <td>2757</td>\n      <td>1Kgr</td>\n      <td>[[Ἀθηναῖος, ἔπειμι, ἄστυ], [ὁδός, ἡδύς, γεωργο...</td>\n      <td>None</td>\n    </tr>\n    <tr>\n      <th>652</th>\n      <td>tlg1383</td>\n      <td>tlg1383.tlg001</td>\n      <td>tlg1383.tlg001.1st1K-grc1.xml</td>\n      <td>Geminus</td>\n      <td>Elementa astronomia</td>\n      <td>Ὁ τῶν ζῳδίων κύκλος διαιρεῖται εἰς μέρη ιβ′, ...</td>\n      <td>20574</td>\n      <td>1Kgr</td>\n      <td>[[ζωίδιον, κύκλος, διαιρέω, μέρος, καλέω, ἕκασ...</td>\n      <td>None</td>\n    </tr>\n    <tr>\n      <th>1107</th>\n      <td>tlg4102</td>\n      <td>tlg4102.tlg037</td>\n      <td>tlg4102.tlg037.1st1K-grc1.xml</td>\n      <td>Catenae (Novum Testamentum)</td>\n      <td>Catena In Epistulam Ad Philemonem</td>\n      <td>ΑΝΗΡ τις ἦν Φιλήμων τῶν πιστῶν καὶ γενναίων ἀν...</td>\n      <td>2185</td>\n      <td>1Kgr</td>\n      <td>[[Ἀνήρ, Φιλήμων, πιστός, γενναῖος, ἀνήρ], [οὗτ...</td>\n      <td>None</td>\n    </tr>\n    <tr>\n      <th>1283</th>\n      <td>tlg0007</td>\n      <td>tlg0007.tlg089</td>\n      <td>tlg0007.tlg089.perseus-grc2.xml</td>\n      <td>Plutarch</td>\n      <td>Περὶ Ἴσιδος και Ὀσίριδος</td>\n      <td>πάντα μέν, ὦ Κλέα, δεῖ τἀγαθὰ τοὺς νοῦν ἔχοντα...</td>\n      <td>18332</td>\n      <td>perseus</td>\n      <td>[[Κλέα, δεῖ, ἀγαθός, νόος, ἔχω, αἰτέω, θεός], ...</td>\n      <td>None</td>\n    </tr>\n  </tbody>\n</table>\n</div>"
     },
     "execution_count": 72,
     "metadata": {},
     "output_type": "execute_result"
    }
   ],
   "source": [
    "LAGT.sample(10, random_state=1)"
   ],
   "metadata": {
    "collapsed": false,
    "ExecuteTime": {
     "end_time": "2024-01-18T09:52:12.342704Z",
     "start_time": "2024-01-18T09:52:12.267951Z"
    }
   },
   "id": "eaced2b4b440be20",
   "execution_count": 72
  },
  {
   "cell_type": "code",
   "outputs": [],
   "source": [
    "LAGT[\"lemmata_source\"] = LAGT[\"lemmata_source\"].apply(lambda x: \"grecy\" if x is None else x)"
   ],
   "metadata": {
    "collapsed": false,
    "ExecuteTime": {
     "end_time": "2024-01-18T09:56:45.891158Z",
     "start_time": "2024-01-18T09:56:45.870423Z"
    }
   },
   "id": "75b92222334b852b",
   "execution_count": 74
  },
  {
   "cell_type": "markdown",
   "source": [
    "# Simple explorations of what is in the lemmata"
   ],
   "metadata": {
    "collapsed": false
   },
   "id": "cad373b8ae1d22d"
  },
  {
   "cell_type": "code",
   "outputs": [
    {
     "data": {
      "text/plain": "[('οὗτος', 364348),\n ('λέγω', 273729),\n ('εἰμί', 229129),\n ('αὐτός', 219506),\n ('γίγνομαι', 173868),\n ('ἔχω', 166248),\n ('πολύς', 135222),\n ('φημί', 116779),\n ('πᾶς', 111288),\n ('ἄλλος', 106778),\n ('ποιέω', 97082),\n ('λόγος', 93057),\n ('τις', 92160),\n ('τίς', 89570),\n ('θεός', 67982),\n ('μέγας', 62129),\n ('ἐκεῖνος', 59461),\n ('ἄνθρωπος', 58719),\n ('πρῶτος', 55821),\n ('ἕτερος', 52649),\n ('οὐδείς', 49900),\n ('πόλις', 49567),\n ('σῶμα', 48549),\n ('τοιοῦτος', 48415),\n ('λαμβάνω', 48313),\n ('ἀγαθός', 47307),\n ('ὁράω', 47064),\n ('φύσις', 45476),\n ('μόνος', 44592),\n ('ἀρχή', 42234),\n ('δοκέω', 41371),\n ('ἀνήρ', 41105),\n ('δύναμαι', 38233),\n ('ἕκαστος', 37620),\n ('δύναμις', 37101),\n ('δίδωμι', 36702),\n ('καλέω', 36355),\n ('ψυχή', 35405),\n ('γῆ', 35381),\n ('χρόνος', 34719),\n ('μέρος', 34201),\n ('ὑπάρχω', 33759),\n ('κινέω', 32630),\n ('δέω', 32382),\n ('ἅπας', 31728),\n ('βασιλεύς', 31257),\n ('οἶδα', 29574),\n ('ὅλος', 28608),\n ('τόπος', 28354),\n ('βούλομαι', 28263),\n ('χράω', 27548),\n ('ἡμέρα', 27231),\n ('δείκνυμι', 27183),\n ('δεῖ', 26970),\n ('εἶδος', 26910),\n ('πατήρ', 26624),\n ('φέρω', 26601),\n ('ὄνομα', 26597),\n ('συμβαίνω', 25785),\n ('γένος', 25711),\n ('ἔρχομαι', 25673),\n ('κύριος', 25184),\n ('φαίνω', 24561),\n ('κακός', 24555),\n ('ἀκούω', 24224),\n ('ὅδε', 23763),\n ('ἴσος', 23675),\n ('τρόπος', 23283),\n ('πρᾶγμα', 23224),\n ('υἱός', 23166),\n ('οὐσία', 22905),\n ('γυνή', 22705),\n ('ὕδωρ', 22557),\n ('γράφω', 22557),\n ('μέσος', 22518),\n ('καλός', 22108),\n ('παῖς', 22057),\n ('μηδείς', 21908),\n ('ἴδιος', 21881),\n ('ζῷον', 21391),\n ('νόμος', 21075),\n ('ἔργον', 20474),\n ('κίνησις', 20307),\n ('πρότερος', 20054),\n ('εἷς', 19835),\n ('εὑρίσκω', 19754),\n ('ς', 19642),\n ('ἐναντίος', 19429),\n ('χείρ', 19394),\n ('πάσχω', 19388),\n ('ἀνάγκη', 18849),\n ('μικρός', 18832),\n ('κοινός', 18743),\n ('ἄρχω', 18694),\n ('μέλλω', 18641),\n ('τίθημι', 18570),\n ('αἰτία', 18568),\n ('πράσσω', 18371),\n ('τυγχάνω', 18331),\n ('δεύτερος', 18295)]"
     },
     "execution_count": 83,
     "metadata": {},
     "output_type": "execute_result"
    }
   ],
   "source": [
    "lemmata_series = LAGT[\"lemmatized_sentences\"].apply(lambda x: [l for s in x for l in s])\n",
    "lemmata_all = [l for lemmata in lemmata_series for l in lemmata]\n",
    "nltk.FreqDist(lemmata_all).most_common()[:100]"
   ],
   "metadata": {
    "collapsed": false,
    "ExecuteTime": {
     "end_time": "2024-01-18T10:21:32.965754Z",
     "start_time": "2024-01-18T10:21:26.169593Z"
    }
   },
   "id": "75f49bd3dad6d762",
   "execution_count": 83
  },
  {
   "cell_type": "code",
   "outputs": [
    {
     "data": {
      "text/plain": "[('οὗτος', 203072),\n ('λέγω', 191259),\n ('γίγνομαι', 105697),\n ('ἔχω', 103927),\n ('φημί', 81432),\n ('πολύς', 70140),\n ('τίς', 66012),\n ('λόγος', 62317),\n ('ἄλλος', 57911),\n ('ποιέω', 56310),\n ('πᾶς', 48551),\n ('θεός', 43913),\n ('ἄνθρωπος', 39751),\n ('αὐτός', 37861),\n ('μόνος', 35407),\n ('πρῶτος', 34811),\n ('μέγας', 33667),\n ('ἕτερος', 33187),\n ('σῶμα', 32234),\n ('φύσις', 31748),\n ('ἐκεῖνος', 31561),\n ('λαμβάνω', 29963),\n ('ὁράω', 28237),\n ('ψυχή', 27962),\n ('κινέω', 27778),\n ('ἀγαθός', 27685),\n ('ἀρχή', 27153),\n ('δεῖ', 26878),\n ('δύναμαι', 24669),\n ('τοιοῦτος', 23815),\n ('οὐδείς', 23610),\n ('ὑπάρχω', 23510),\n ('γῆ', 22548),\n ('δοκέω', 22514),\n ('ἕκαστος', 22488),\n ('εἶδος', 22412),\n ('πόλις', 22142),\n ('χρόνος', 22057),\n ('μέρος', 21609),\n ('δύναμις', 21541),\n ('δείκνυμι', 21349),\n ('τόπος', 21248),\n ('καλέω', 21223),\n ('δίδωμι', 20088),\n ('ς', 19563),\n ('ἀνήρ', 19097),\n ('ὅλος', 19077),\n ('οὐσία', 18602),\n ('γένος', 18407),\n ('συμβαίνω', 17823),\n ('πατήρ', 17081),\n ('ὄνομα', 17048),\n ('οἶδα', 17000),\n ('Θεός', 16779),\n ('πρότερος', 16366),\n ('βασιλεύς', 16204),\n ('φέρω', 15968),\n ('κίνησις', 15912),\n ('βούλομαι', 15592),\n ('ζῷον', 15298),\n ('τρόπος', 14889),\n ('χράω', 14739),\n ('μέσος', 14631),\n ('πρᾶγμα', 14481),\n ('ὕδωρ', 14349),\n ('κακός', 14306),\n ('ἴδιος', 14193),\n ('ἴσος', 13769),\n ('ἀκούω', 13573),\n ('ἡμέρα', 13344),\n ('υἱός', 13320),\n ('Χριστός', 13290),\n ('ἀνάγκη', 13156),\n ('ἔρχομαι', 13000),\n ('φαίνω', 12984),\n ('αἰτία', 12761),\n ('ἐναντίος', 12729),\n ('δεύτερος', 12592),\n ('ἅπας', 12570),\n ('ὕλη', 12564),\n ('κύριος', 12551),\n ('νόος', 12489),\n ('καλός', 12466),\n ('νόμος', 12465),\n ('αἴτιος', 12342),\n ('γυνή', 12260),\n ('ἀληθής', 12095),\n ('γράφω', 12021),\n ('κοινός', 11981),\n ('λοιπός', 11839),\n ('εὑρίσκω', 11617),\n ('πάσχω', 11468),\n ('τίθημι', 11390),\n ('πῦρ', 11329),\n ('μέλλω', 11264),\n ('δῆλος', 11154),\n ('παῖς', 11133),\n ('ἔργον', 10978),\n ('μηδείς', 10597),\n ('ἀριθμός', 10569)]"
     },
     "execution_count": 82,
     "metadata": {},
     "output_type": "execute_result"
    }
   ],
   "source": [
    "lemmata_series = LAGT[LAGT[\"lemmata_source\"]==\"grecy\"][\"lemmatized_sentences\"].apply(lambda x: [l for s in x for l in s])\n",
    "lemmata_all = [l for lemmata in lemmata_series for l in lemmata]\n",
    "nltk.FreqDist(lemmata_all).most_common()[:100]"
   ],
   "metadata": {
    "collapsed": false,
    "ExecuteTime": {
     "end_time": "2024-01-18T10:21:09.287705Z",
     "start_time": "2024-01-18T10:21:05.273860Z"
    }
   },
   "id": "a1682cfdfd4fd5d8",
   "execution_count": 82
  },
  {
   "cell_type": "code",
   "outputs": [],
   "source": [
    "LAGT.to_json(\"../data/large_files/LAGT_grecy_20240116.json\")"
   ],
   "metadata": {
    "collapsed": false,
    "ExecuteTime": {
     "end_time": "2024-01-18T09:57:05.070644Z",
     "start_time": "2024-01-18T09:57:03.764713Z"
    }
   },
   "id": "c1f3ff14ba3c6824",
   "execution_count": 75
  },
  {
   "cell_type": "code",
   "outputs": [
    {
     "name": "stdout",
     "output_type": "stream",
     "text": [
      "A file with the same name (\"LAGT_grecy_20240116.json\") already exists in this location.\n",
      "Your <class 'pandas.core.frame.DataFrame'> object has been succesfully written as \"https://sciencedata.dk/sharingout/648597%40au.dk/SDAM_root/SDAM_data/AGT/LAGT_grecy_20240116.json\"\n"
     ]
    }
   ],
   "source": [
    "#s = sddk.cloudSession(\"sciencedata.dk\", \"SDAM_root\", \"648597@au.dk\")\n",
    "s.write_file(\"SDAM_data/AGT/LAGT_grecy_20240116.json\", LAGT)"
   ],
   "metadata": {
    "collapsed": false,
    "ExecuteTime": {
     "end_time": "2024-01-18T10:00:07.784072Z",
     "start_time": "2024-01-18T09:57:14.683201Z"
    }
   },
   "id": "b2e93c867bff5254",
   "execution_count": 76
  },
  {
   "cell_type": "code",
   "outputs": [],
   "source": [],
   "metadata": {
    "collapsed": false
   },
   "id": "ebbe618d59a51818",
   "execution_count": null
  }
 ],
 "metadata": {
  "kernelspec": {
   "name": "lagt_kernel",
   "language": "python",
   "display_name": "lagt_kernel"
  },
  "language_info": {
   "codemirror_mode": {
    "name": "ipython",
    "version": 2
   },
   "file_extension": ".py",
   "mimetype": "text/x-python",
   "name": "python",
   "nbconvert_exporter": "python",
   "pygments_lexer": "ipython2",
   "version": "2.7.6"
  }
 },
 "nbformat": 4,
 "nbformat_minor": 5
}
