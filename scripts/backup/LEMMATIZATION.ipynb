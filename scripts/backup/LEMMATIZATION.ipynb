{
 "cells": [
  {
   "cell_type": "markdown",
   "metadata": {
    "colab_type": "text",
    "id": "IodAW25M6qYS"
   },
   "source": [
    "# Requirements"
   ]
  },
  {
   "cell_type": "code",
   "execution_count": 1,
   "metadata": {
    "colab": {
     "base_uri": "https://localhost:8080/",
     "height": 289
    },
    "colab_type": "code",
    "id": "EULdjYG-6thW",
    "outputId": "fdc5432f-77e6-4aea-89bf-45d1bb508720"
   },
   "outputs": [],
   "source": [
    "import requests\n",
    "import pandas as pd\n",
    "import numpy as np\n",
    "\n",
    "# our own package for reading the data\n",
    "#!pip install sddk\n",
    "import sddk"
   ]
  },
  {
   "cell_type": "code",
   "execution_count": 3,
   "metadata": {
    "colab": {},
    "colab_type": "code",
    "id": "HaAV477_eKPj"
   },
   "outputs": [],
   "source": [
    "from anda import gr\n",
    "# OR uncomment the following:\n",
    "# script_url = \"https://raw.githubusercontent.com/sdam-au/anda_py/master/anda/gr.py\"\n",
    "# exec(requests.get(script_url).content)"
   ]
  },
  {
   "cell_type": "code",
   "execution_count": 57,
   "metadata": {
    "colab": {},
    "colab_type": "code",
    "id": "RalGixY26qYZ",
    "outputId": "31c7ec2d-009c-4ff6-b568-3d6adb0d50de"
   },
   "outputs": [
    {
     "data": {
      "text/plain": [
       "<module 'anda.gr' from '/Users/au648597/Documents/projects/anda/anda_repo/anda/gr.py'>"
      ]
     },
     "execution_count": 57,
     "metadata": {},
     "output_type": "execute_result"
    }
   ],
   "source": [
    "# to use the latest version (for development)\n",
    "from importlib import reload\n",
    "reload(gr)"
   ]
  },
  {
   "cell_type": "code",
   "execution_count": 5,
   "metadata": {
    "colab": {},
    "colab_type": "code",
    "id": "J00t7be66qYd"
   },
   "outputs": [
    {
     "name": "stdin",
     "output_type": "stream",
     "text": [
      "sciencedata.dk username (format '123456@au.dk'):  648597@au.dk\n",
      "sciencedata.dk password:  ········\n"
     ]
    },
    {
     "name": "stdout",
     "output_type": "stream",
     "text": [
      "endpoint variable has been configured to: https://sciencedata.dk/files/\n"
     ]
    }
   ],
   "source": [
    "conf = sddk.configure()"
   ]
  },
  {
   "cell_type": "markdown",
   "metadata": {
    "colab_type": "text",
    "id": "JExn8RCE6qYi"
   },
   "source": [
    "# Usage"
   ]
  },
  {
   "cell_type": "markdown",
   "metadata": {
    "colab_type": "text",
    "id": "yt9T3Oo0gMfK"
   },
   "source": [
    "If you have only one word, you can either return all possible lemmata associated with it separated by `/` (`return_all_unique_lemmata()`), or you can return only the first of them (`return_first_lemma()`). In  case of all lemmatization functions, there is a set of optional additional arguments:\n",
    "* `all_lemmata=False`\n",
    "* `filter_by_postag=None` (try `filter_by_postag=[\"n\",\"a\",\"v\"]` to get nouns, adjectives and verbs\n",
    "* `involve_unknown=False`, i.e. return (True) or omit (False) words in cases where no lemma was found)"
   ]
  },
  {
   "cell_type": "code",
   "execution_count": 10,
   "metadata": {
    "colab": {},
    "colab_type": "code",
    "id": "lT8RfT946qYk",
    "outputId": "6deca7f0-ae06-4dd9-b448-eca4dc222bd3"
   },
   "outputs": [
    {
     "data": {
      "text/plain": [
       "'ἐπιστήμη'"
      ]
     },
     "execution_count": 10,
     "metadata": {},
     "output_type": "execute_result"
    }
   ],
   "source": [
    "gr.return_first_lemma(\"ἐπιστήμην\")"
   ]
  },
  {
   "cell_type": "code",
   "execution_count": 11,
   "metadata": {
    "colab": {
     "base_uri": "https://localhost:8080/",
     "height": 34
    },
    "colab_type": "code",
    "id": "uXbHWjligNnF",
    "outputId": "046c8ba6-e4e4-4d28-b24a-786209051284"
   },
   "outputs": [
    {
     "data": {
      "text/plain": [
       "'ἐπιστήμη'"
      ]
     },
     "execution_count": 11,
     "metadata": {},
     "output_type": "execute_result"
    }
   ],
   "source": [
    "gr.return_all_unique_lemmata(\"ἐπιστήμην\")"
   ]
  },
  {
   "cell_type": "markdown",
   "metadata": {
    "colab_type": "text",
    "id": "zng0pa1AiQxr"
   },
   "source": [
    "You can also lemmatize an extensive string, consisting from a number of words, like this one:"
   ]
  },
  {
   "cell_type": "code",
   "execution_count": 12,
   "metadata": {
    "colab": {},
    "colab_type": "code",
    "id": "qmF74g3ueSb7"
   },
   "outputs": [],
   "source": [
    "string = \"Πρότασις μὲν οὖν ἐστὶ λόγος καταφατικὸς ἢ ἀποφατικὸς τινὸς κατά τινος. Οὗτος δὲ ἢ καθόλου ἢ ἐν μέρει ἢ ἀδιόριστος. Λέγω δὲ καθόλου μὲν τὸ παντὶ ἢ μηδενὶ ὑπάρχειν, ἐν μέρει δὲ τὸ τινὶ ἢ μὴ τινὶ ἢ μὴ παντὶ ὑπάρχειν, ἀδιόριστον δὲ τὸ ὑπάρχειν ἢ μὴ ὑπάρχειν ἄνευ τοῦ καθόλου, ἢ κατὰ μέρος, οἷον τὸ τῶν ἐναντίων εἶναι τὴν αὐτὴν ἐπιστήμην ἢ τὸ τὴν ἡδονὴν μὴ εἶναι ἀγαθόν.\""
   ]
  },
  {
   "cell_type": "markdown",
   "metadata": {
    "colab_type": "text",
    "id": "xJHhsoA2iPHU"
   },
   "source": [
    "Then you run:"
   ]
  },
  {
   "cell_type": "code",
   "execution_count": null,
   "metadata": {
    "colab": {
     "base_uri": "https://localhost:8080/",
     "height": 54
    },
    "colab_type": "code",
    "id": "jXgZfGRmgGXP",
    "outputId": "9129245c-757e-42e7-96f4-db4a5c9e60a1"
   },
   "outputs": [
    {
     "name": "stdout",
     "output_type": "stream",
     "text": [
      "['πρότασις', 'λόγος', 'καταφατικός', 'ἀποφατικός', 'καθόλου', 'μέρος', 'ἀδιόριστος', 'λέγω', 'καθόλου', 'πᾶς', 'μηδείς', 'ὑπάρχω', 'μέρος', 'πᾶς', 'ὑπάρχω', 'ἀδιόριστον', 'ὑπάρχω', 'ὑπάρχω', 'ἄνευ', 'καθόλου', 'μέρος', 'οἷος', 'ἐναντίος', 'αὐτην', 'ἐπιστήμη', 'ἡδονην', 'ἀγαθός']\n"
     ]
    }
   ],
   "source": [
    "lemmatized_string = gr.lemmatize_string(string)\n",
    "print(lemmatized_string)"
   ]
  },
  {
   "cell_type": "markdown",
   "metadata": {
    "colab_type": "text",
    "id": "XTtqgHi9kobt"
   },
   "source": [
    "The results above are still quite poor. Perhaps there is a problem with encoding..."
   ]
  },
  {
   "cell_type": "markdown",
   "metadata": {
    "colab_type": "text",
    "id": "j2Jbjst2gQol"
   },
   "source": [
    "You can also lemmatize the string and at the same time split it into sentences:"
   ]
  },
  {
   "cell_type": "code",
   "execution_count": null,
   "metadata": {
    "colab": {},
    "colab_type": "code",
    "id": "lzmg-ybM6qY1",
    "outputId": "dbe12428-d924-4e44-fcfa-806f4b375daf"
   },
   "outputs": [
    {
     "name": "stdout",
     "output_type": "stream",
     "text": [
      "[['πρότασις', 'λόγος', 'καταφατικός', 'ἀποφατικός'], ['καθόλου', 'μέρος', 'ἀδιόριστος'], ['λέγω', 'καθόλου', 'πᾶς', 'μηδείς', 'ὑπάρχω', 'μέρος', 'πᾶς', 'ὑπάρχω', 'ἀδιόριστον', 'ὑπάρχω', 'ὑπάρχω', 'ἄνευ', 'καθόλου', 'μέρος', 'οἷος', 'ἐναντίος', 'αὐτην', 'ἐπιστήμη', 'ἡδονην', 'ἀγαθός']]\n"
     ]
    }
   ],
   "source": [
    "lemmatized_sentences = gr.get_lemmatized_sentences(string)\n",
    "print(lemmatized_sentences)"
   ]
  },
  {
   "cell_type": "code",
   "execution_count": null,
   "metadata": {
    "colab": {
     "base_uri": "https://localhost:8080/",
     "height": 54
    },
    "colab_type": "code",
    "id": "r3ZBn24ZfM8U",
    "outputId": "52da26a2-cb25-4748-cb95-a08f1ec56b5e"
   },
   "outputs": [
    {
     "name": "stdout",
     "output_type": "stream",
     "text": [
      "[['λόγος'], ['μέρος'], ['πᾶς', 'μηδείς', 'ὑπάρχω', 'μέρος', 'πᾶς', 'ὑπάρχω', 'ὑπάρχω', 'ὑπάρχω', 'ἄνω/ἀνίημι', 'μέρος', 'οἷος', 'ἐναντίος', 'ἐπιστήμη', 'ἀγαθός']]\n"
     ]
    }
   ],
   "source": [
    "lemmatized_sentences = gr.get_lemmatized_sentences(string, all_lemmata=True, filter_by_postag=[\"n\",\"a\",\"v\"], involve_unknown=False)\n",
    "print(lemmatized_sentences)"
   ]
  },
  {
   "cell_type": "code",
   "execution_count": null,
   "metadata": {
    "colab": {},
    "colab_type": "code",
    "id": "SymwAy7g6qY7",
    "outputId": "ec8d29d9-0b18-4eee-8f17-7c58033813a2"
   },
   "outputs": [
    {
     "data": {
      "text/plain": [
       "'to begin, make a beginning'"
      ]
     },
     "execution_count": 33,
     "metadata": {
      "tags": []
     },
     "output_type": "execute_result"
    }
   ],
   "source": [
    "gr.return_all_unique_translations(\"ὑπάρχειν\", filter_by_postag=None, involve_unknown=False)"
   ]
  },
  {
   "cell_type": "code",
   "execution_count": 58,
   "metadata": {
    "colab": {},
    "colab_type": "code",
    "id": "XAc42Wk-6qY-",
    "outputId": "1329dd1f-74c6-4dff-fcf5-33ac35e9790d"
   },
   "outputs": [
    {
     "data": {
      "text/plain": [
       "'the word'"
      ]
     },
     "execution_count": 58,
     "metadata": {},
     "output_type": "execute_result"
    }
   ],
   "source": [
    "gr.lemma_translator(\"λόγος\")"
   ]
  },
  {
   "cell_type": "code",
   "execution_count": 59,
   "metadata": {
    "colab": {},
    "colab_type": "code",
    "id": "fwxmdOo66qZB"
   },
   "outputs": [],
   "source": [
    "string_tokenized = gr.tokenize_string(string)"
   ]
  },
  {
   "cell_type": "code",
   "execution_count": 60,
   "metadata": {
    "colab": {},
    "colab_type": "code",
    "id": "o4Xqzb8K6qZD",
    "outputId": "fb8f128c-dd76-4cd8-9bf8-6dd325fdaaca"
   },
   "outputs": [
    {
     "data": {
      "text/plain": [
       "[{'i': '564347',\n",
       "  'f': 'μέν',\n",
       "  'b': 'μεν',\n",
       "  'l': 'μέν',\n",
       "  'e': 'μεν',\n",
       "  'p': 'g--------',\n",
       "  'd': '20753',\n",
       "  's': 'on the one hand, on the other hand',\n",
       "  'a': None},\n",
       " {'i': '642363',\n",
       "  'f': 'οὖν',\n",
       "  'b': 'ουν',\n",
       "  'l': 'οὖν',\n",
       "  'e': 'ουν',\n",
       "  'p': 'g--------',\n",
       "  'd': '23870',\n",
       "  's': 'really, at all events',\n",
       "  'a': None},\n",
       " {'i': '264221',\n",
       "  'f': 'ἐστί',\n",
       "  'b': 'εστι',\n",
       "  'l': 'εἰμί',\n",
       "  'e': 'ειμι',\n",
       "  'p': 'v3spia---',\n",
       "  'd': '9722',\n",
       "  's': 'I have',\n",
       "  'a': None}]"
      ]
     },
     "execution_count": 60,
     "metadata": {},
     "output_type": "execute_result"
    }
   ],
   "source": [
    "gr.morphological_analysis(string)[1:4]"
   ]
  },
  {
   "cell_type": "code",
   "execution_count": 62,
   "metadata": {},
   "outputs": [
    {
     "data": {
      "text/plain": [
       "[{'i': '394933',\n",
       "  'f': 'ζῆν',\n",
       "  'b': 'ζην',\n",
       "  'l': 'ζάω',\n",
       "  'e': 'ζαω',\n",
       "  'p': 'v--pna---',\n",
       "  'd': '14419',\n",
       "  's': 'to live',\n",
       "  'a': 'epic doric'},\n",
       " {'i': '395758',\n",
       "  'f': 'ζῆν',\n",
       "  'b': 'ζην',\n",
       "  'l': 'ζέω',\n",
       "  'e': 'ζεω',\n",
       "  'p': 'v--pna---',\n",
       "  'd': '14440',\n",
       "  's': 'to boil, seethe',\n",
       "  'a': 'epic doric'}]"
      ]
     },
     "execution_count": 62,
     "metadata": {},
     "output_type": "execute_result"
    }
   ],
   "source": [
    "word = \"ζῆν\"\n",
    "list_of_tokens = gr.return_list_of_tokens(word)\n",
    "list_of_tokens"
   ]
  },
  {
   "cell_type": "code",
   "execution_count": 64,
   "metadata": {},
   "outputs": [
    {
     "data": {
      "text/plain": [
       "['ζάω']"
      ]
     },
     "execution_count": 64,
     "metadata": {},
     "output_type": "execute_result"
    }
   ],
   "source": [
    "gr.lemmatize_string(\"ζῆν\", all_lemmata=False, filter_by_postag=[\"n\",\"a\",\"v\"], involve_unknown=True)"
   ]
  },
  {
   "cell_type": "markdown",
   "metadata": {
    "colab_type": "text",
    "id": "cC-VdZDC6qZF"
   },
   "source": [
    "# Import corpora"
   ]
  },
  {
   "cell_type": "code",
   "execution_count": 16,
   "metadata": {
    "colab": {},
    "colab_type": "code",
    "id": "Ro6AgE-46qZG",
    "outputId": "cf13bc49-080e-453d-fc45-b6c05b7ce0af"
   },
   "outputs": [
    {
     "name": "stdout",
     "output_type": "stream",
     "text": [
      "this file is located in a public folder\n",
      "this file is located in a public folder\n"
     ]
    }
   ],
   "source": [
    "c_aristotelicum = sddk.read_file(\"c_aristotelicum.json\", \"df\", \"31b393e2afe1ee96ce81869c7efe18cb\")\n",
    "c_hippocraticum = sddk.read_file(\"c_hippocraticum.json\", \"df\", \"31b393e2afe1ee96ce81869c7efe18cb\")"
   ]
  },
  {
   "cell_type": "markdown",
   "metadata": {
    "colab_type": "text",
    "id": "AMdkycx_6qZJ"
   },
   "source": [
    "# Testing lemmatization with Nicomachean Ethics\n",
    "\n",
    "This two corpora already contain one version of lemmatization, but here we will improve it"
   ]
  },
  {
   "cell_type": "code",
   "execution_count": 40,
   "metadata": {
    "colab": {},
    "colab_type": "code",
    "id": "p3lN8_es6qZL",
    "outputId": "2b7dd69a-84ef-4c7a-8350-d5490b401bd3"
   },
   "outputs": [
    {
     "data": {
      "text/html": [
       "<div>\n",
       "<style scoped>\n",
       "    .dataframe tbody tr th:only-of-type {\n",
       "        vertical-align: middle;\n",
       "    }\n",
       "\n",
       "    .dataframe tbody tr th {\n",
       "        vertical-align: top;\n",
       "    }\n",
       "\n",
       "    .dataframe thead th {\n",
       "        text-align: right;\n",
       "    }\n",
       "</style>\n",
       "<table border=\"1\" class=\"dataframe\">\n",
       "  <thead>\n",
       "    <tr style=\"text-align: right;\">\n",
       "      <th></th>\n",
       "      <th>filename</th>\n",
       "      <th>author</th>\n",
       "      <th>title</th>\n",
       "      <th>string</th>\n",
       "      <th>author_id</th>\n",
       "      <th>doc_id</th>\n",
       "      <th>raw_date</th>\n",
       "      <th>date_avr</th>\n",
       "      <th>date_probs</th>\n",
       "      <th>date_manual</th>\n",
       "      <th>provenience</th>\n",
       "      <th>wordcount</th>\n",
       "      <th>lemmata</th>\n",
       "      <th>lemmatized_sentences</th>\n",
       "      <th>lemmata_wordcount</th>\n",
       "      <th>num_of_sents</th>\n",
       "    </tr>\n",
       "  </thead>\n",
       "  <tbody>\n",
       "    <tr>\n",
       "      <th>685</th>\n",
       "      <td>tlg0086.tlg010.perseus-grc1.xml</td>\n",
       "      <td>Aristotle</td>\n",
       "      <td>Nicomachean Ethics; Machine readable text; ed....</td>\n",
       "      <td>βοοκ 1 πᾶσα τέχνη καὶ πᾶσα μέθοδος, ὁμοίως δὲ ...</td>\n",
       "      <td>tlg0086</td>\n",
       "      <td>tlg0086.tlg010</td>\n",
       "      <td>4 B.C.</td>\n",
       "      <td>-3.5</td>\n",
       "      <td>{'-3.5': 1}</td>\n",
       "      <td>-3.5</td>\n",
       "      <td>pagan</td>\n",
       "      <td>56638</td>\n",
       "      <td>[βοοκ, πᾶς, τέχνη, πᾶς, μέθοδος, ὅμοιος, πρᾶξί...</td>\n",
       "      <td>[[βοοκ, πᾶς, τέχνη, πᾶς, μέθοδος, ὅμοιος, πρᾶξ...</td>\n",
       "      <td>23811</td>\n",
       "      <td>3897</td>\n",
       "    </tr>\n",
       "  </tbody>\n",
       "</table>\n",
       "</div>"
      ],
      "text/plain": [
       "                            filename     author  \\\n",
       "685  tlg0086.tlg010.perseus-grc1.xml  Aristotle   \n",
       "\n",
       "                                                 title  \\\n",
       "685  Nicomachean Ethics; Machine readable text; ed....   \n",
       "\n",
       "                                                string author_id  \\\n",
       "685  βοοκ 1 πᾶσα τέχνη καὶ πᾶσα μέθοδος, ὁμοίως δὲ ...   tlg0086   \n",
       "\n",
       "             doc_id raw_date  date_avr   date_probs  date_manual provenience  \\\n",
       "685  tlg0086.tlg010   4 B.C.      -3.5  {'-3.5': 1}         -3.5       pagan   \n",
       "\n",
       "     wordcount                                            lemmata  \\\n",
       "685      56638  [βοοκ, πᾶς, τέχνη, πᾶς, μέθοδος, ὅμοιος, πρᾶξί...   \n",
       "\n",
       "                                  lemmatized_sentences  lemmata_wordcount  \\\n",
       "685  [[βοοκ, πᾶς, τέχνη, πᾶς, μέθοδος, ὅμοιος, πρᾶξ...              23811   \n",
       "\n",
       "     num_of_sents  \n",
       "685          3897  "
      ]
     },
     "execution_count": 40,
     "metadata": {},
     "output_type": "execute_result"
    }
   ],
   "source": [
    "EN_df = c_aristotelicum[c_aristotelicum[\"doc_id\"]==\"tlg0086.tlg010\"]\n",
    "EN_df"
   ]
  },
  {
   "cell_type": "code",
   "execution_count": 41,
   "metadata": {
    "colab": {},
    "colab_type": "code",
    "id": "nkGCHQe-6qZN",
    "outputId": "2d22353d-0e2f-4def-bd19-68c7f07e69f5"
   },
   "outputs": [
    {
     "data": {
      "text/plain": [
       "'βοοκ 1 πᾶσα τέχνη καὶ πᾶσα μέθοδος, ὁμοίως δὲ πρᾶξίς τε καὶ προαίρεσις, ἀγαθοῦ τινὸς ἐφίεσθαι δοκεῖ· διὸ καλῶς ἀπεφήναντο τἀγαθόν, οὗ πάντʼ ἐφίεται. διαφορὰ δέ τις φαίνεται τῶν τελῶν· τὰ μὲν γάρ εἰσιν ἐνέργειαι, τὰ δὲ παρʼ αὐτὰς ἔργα τινά. ὧν δʼ εἰσὶ τέλη τινὰ παρὰ τὰς πράξεις, ἐν τούτοις βελτίω πέφυκε τῶν ἐνεργειῶν τὰ ἔργα. πολλῶν δὲ πράξεων οὐσῶν καὶ τεχνῶν καὶ ἐπιστημῶν πολλὰ γίνεται καὶ τὰ τέλη· ἰατρικῆς μὲν γὰρ ὑγίεια, ναυπηγικῆς δὲ πλοῖον, στρατηγικῆς δὲ νίκη, οἰκονομικῆς δὲ πλοῦτος. ὅσαι '"
      ]
     },
     "execution_count": 41,
     "metadata": {},
     "output_type": "execute_result"
    }
   ],
   "source": [
    "# Nicomachean ethics as a string\"\n",
    "EN_df_string = EN_df[\"string\"].tolist()[0]\n",
    "EN_df_string[:500]"
   ]
  },
  {
   "cell_type": "code",
   "execution_count": 42,
   "metadata": {
    "colab": {},
    "colab_type": "code",
    "id": "OYtZg1nf6qZQ",
    "outputId": "5104f235-d9d9-4f61-e011-4e2411784270"
   },
   "outputs": [
    {
     "name": "stdout",
     "output_type": "stream",
     "text": [
      "['βοοκ', 'πᾶς', 'τέχνη', 'πᾶς', 'μέθοδος', 'ὅμοιος', 'πρᾶξίς', 'προαίρεσις', 'ἀγαθός', 'ἐφίημι', 'δοκέω', 'διό', 'καλός', 'ἀποφαίνω', 'ἀγαθός', 'ἕ', 'πάντʼ', 'ἐφίημι', 'διαφορά', 'φαίνω', 'τελέω', 'εἶμι', 'ἐνέργεια', 'παρʼ', 'ἔργον', 'εἶμι', 'τελέω', 'πρᾶξις', 'βελτίων', 'φύω', 'ἐνέργεια', 'ἔργον', 'πολύς', 'πρᾶξις', 'τεχνάζω', 'ἐπιστήμη', 'πολύς', 'γίγνομαι', 'τελέω', 'ἰατρικός', 'ὑγίεια', 'ναυπηγικός', 'πλοῖον', 'στρατηγικός', 'νικάω', 'οἰκονομικός', 'πλοῦτος', 'ὅσος']\n"
     ]
    }
   ],
   "source": [
    "# lemmatization without any parametrization  \n",
    "print(gr.lemmatize_string(EN_df_string[:500]))"
   ]
  },
  {
   "cell_type": "code",
   "execution_count": 43,
   "metadata": {
    "colab": {},
    "colab_type": "code",
    "id": "nkUEXZ-w6qZS",
    "outputId": "2a2a79f7-8972-45e3-c512-13c207316a1a"
   },
   "outputs": [
    {
     "name": "stdout",
     "output_type": "stream",
     "text": [
      "['βοοκ', 'πᾶς/πάσσω', 'τέχνη', 'πᾶς/πάσσω', 'μέθοδος', 'ὁμοιόω/ὅμοιος', 'πρᾶξίς', 'προαίρεσις', 'ἀγαθός', 'τις/τίς', 'ἐφίημι', 'δοκέω', 'διό', 'κάλως/καλός', 'ἀποφαίνω', 'ἀγαθός', 'οὗ/ἵημι/ἕ/ὅς', 'πάντʼ', 'ἐφίημι', 'διάφορος/διαφορά', 'φαίνω', 'τέλος/τέλλω/τελέω', 'εἰμί/εἶμι/εἴσειμι', 'ἐνεργέω/ἐνέργεια', 'παρʼ', 'ἔργον', 'τις/τίς', 'εἰμί/εἶμι', 'τέλος/τελέω', 'τις/τίς', 'πρᾶξις/πράσσω', 'βελτίων', 'φύω', 'ἐνέργεια', 'ἔργον', 'πολύς', 'πρᾶξις/πράσσω', 'τέχνη/τεχνάζω', 'ἐπιστήμων/ἐπιστήμη', 'πολύς', 'γίγνομαι', 'τέλος/τελέω', 'ἰατρικός', 'ὑγίεια', 'ναυπηγικός', 'πλοῖον', 'στρατηγικός', 'νῖκος/νικάω/νίκη', 'οἰκονομικός', 'πλοῦτος', 'ὅσος']\n"
     ]
    }
   ],
   "source": [
    "# lemmatization with all lemmata\n",
    "print(gr.lemmatize_string(EN_df_string[:500], all_lemmata=True))"
   ]
  },
  {
   "cell_type": "code",
   "execution_count": 44,
   "metadata": {
    "colab": {},
    "colab_type": "code",
    "id": "NgGlxUKL6qZU",
    "outputId": "9f956a06-42a6-4592-a0cb-c7acec2b2612"
   },
   "outputs": [
    {
     "name": "stdout",
     "output_type": "stream",
     "text": [
      "['βοοκ', 'πᾶς', 'τέχνη', 'πᾶς', 'μέθοδος', 'ὅμοιος', 'πρᾶξίς', 'προαίρεσις', 'ἀγαθός', 'ἐφίημι', 'δοκέω', 'κάλως/καλός', 'ἀποφαίνω', 'ἀγαθός', 'ἵημι', 'πάντʼ', 'ἐφίημι', 'διάφορος/διαφορά', 'φαίνω', 'τέλος', 'εἰμί/εἶμι/εἴσειμι', 'ἐνέργεια', 'παρʼ', 'ἔργον', 'εἰμί/εἶμι', 'τέλος', 'πρᾶξις', 'βελτίων', 'φύω', 'ἐνέργεια', 'ἔργον', 'πολύς', 'πρᾶξις', 'τέχνη', 'ἐπιστήμων/ἐπιστήμη', 'πολύς', 'γίγνομαι', 'τέλος', 'ἰατρικός', 'ὑγίεια', 'ναυπηγικός', 'πλοῖον', 'στρατηγικός', 'νῖκος/νίκη', 'οἰκονομικός', 'πλοῦτος', 'ὅσος']\n"
     ]
    }
   ],
   "source": [
    "# lemmatization with all lemmata, but only nouns, adjectives and verbs\n",
    "# prefer noun and adjective where noun, adjective and verb is available\n",
    "# prefer noun where noun and adjective is available\n",
    "print(gr.lemmatize_string(EN_df_string[:500], all_lemmata=True, filter_by_postag=[\"n\",\"a\",\"v\"], involve_unknown=True))"
   ]
  },
  {
   "cell_type": "code",
   "execution_count": 65,
   "metadata": {},
   "outputs": [
    {
     "data": {
      "text/plain": [
       "'βοοκ 1 πᾶσα τέχνη καὶ πᾶσα μέθοδος, ὁμοίως δὲ πρᾶξίς τε καὶ προαίρεσις, ἀγαθοῦ τινὸς ἐφίεσθαι δοκεῖ· διὸ καλῶς ἀπεφήναντο τἀγαθόν, οὗ πάντʼ ἐφίεται. διαφορὰ δέ τις φαίνεται τῶν τελῶν· τὰ μὲν γάρ εἰσιν ἐνέργειαι, τὰ δὲ παρʼ αὐτὰς ἔργα τινά. ὧν δʼ εἰσὶ τέλη τινὰ παρὰ τὰς πράξεις, ἐν τούτοις βελτίω πέφυκε τῶν ἐνεργειῶν τὰ ἔργα. πολλῶν δὲ πράξεων οὐσῶν καὶ τεχνῶν καὶ ἐπιστημῶν πολλὰ γίνεται καὶ τὰ τέλη· ἰατρικῆς μὲν γὰρ ὑγίεια, ναυπηγικῆς δὲ πλοῖον, στρατηγικῆς δὲ νίκη, οἰκονομικῆς δὲ πλοῦτος. ὅσαι '"
      ]
     },
     "execution_count": 65,
     "metadata": {},
     "output_type": "execute_result"
    }
   ],
   "source": [
    "EN_df_string[:500]"
   ]
  },
  {
   "cell_type": "code",
   "execution_count": 66,
   "metadata": {
    "colab": {},
    "colab_type": "code",
    "id": "SEetWjt56qZW",
    "outputId": "c27aadac-de3f-4ae4-bce2-04b5386085f0"
   },
   "outputs": [
    {
     "name": "stdout",
     "output_type": "stream",
     "text": [
      "['βοοκ', 'πᾶς', 'τέχνη', 'πᾶς', 'μέθοδος', 'ὅμοιος', 'πρᾶξίς', 'προαίρεσις', 'ἀγαθός', 'ἐφίημι', 'δοκέω', 'καλός', 'ἀποφαίνω', 'ἀγαθός', 'ἵημι', 'πάντʼ', 'ἐφίημι', 'διαφορά', 'φαίνω', 'τέλος', 'εἶμι', 'ἐνέργεια', 'παρʼ', 'ἔργον', 'εἶμι', 'τέλος', 'πρᾶξις', 'βελτίων', 'φύω', 'ἐνέργεια', 'ἔργον', 'πολύς', 'πρᾶξις', 'τέχνη', 'ἐπιστήμη', 'πολύς', 'γίγνομαι', 'τέλος', 'ἰατρικός', 'ὑγίεια', 'ναυπηγικός', 'πλοῖον', 'στρατηγικός', 'νίκη', 'οἰκονομικός', 'πλοῦτος', 'ὅσος']\n"
     ]
    }
   ],
   "source": [
    "print(gr.lemmatize_string(EN_df_string[:500], all_lemmata=False, filter_by_postag=[\"n\",\"a\",\"v\"], involve_unknown=True))"
   ]
  },
  {
   "cell_type": "code",
   "execution_count": null,
   "metadata": {
    "colab": {},
    "colab_type": "code",
    "id": "J0ySXEz06qZY",
    "outputId": "729a660f-adf2-4344-ed9a-feab8380ce5b"
   },
   "outputs": [
    {
     "name": "stdout",
     "output_type": "stream",
     "text": [
      "[['βοοκ', 'πᾶς', 'τέχνη', 'πᾶς', 'μέθοδος', 'ὅμοιος', 'πρᾶξίς', 'προαίρεσις', 'ἀγαθός', 'ἐφίημι', 'δοκέω'], ['κάλως', 'ἀποφαίνω', 'ἀγαθός', 'ἵημι', 'πάντʼ', 'ἐφίημι'], ['διαφορά', 'φαίνω', 'τέλος'], ['εἶμι', 'ἐνέργεια', 'παρʼ', 'ἔργον'], ['εἶμι', 'τέλος', 'πρᾶξις', 'βελτίων', 'φύω', 'ἐνέργεια', 'ἔργον'], ['πολύς', 'πρᾶξις', 'τέχνη', 'ἐπιστήμη', 'πολύς', 'γίγνομαι', 'τέλος'], ['ἰατρικός', 'ὑγίεια', 'ναυπηγικός', 'πλοῖον', 'στρατηγικός', 'νίκη', 'οἰκονομικός', 'πλοῦτος'], ['ὅσος', 'εἶμι', 'μίαν', 'δύναμις', 'ἱππικην', 'χαλινοποιική', 'ὅσος', 'ἱππικός', 'ὄργανον', 'εἶμι', 'πᾶς', 'πολεμικός', 'πρᾶξις', 'στρατηγικός', 'τρόπος', 'ὑφʼ', 'ἕτερος'], ['ἅπας', 'ἀρχιτεκτονικῶν', 'τέλος', 'πᾶς', 'αἱρετός', 'ὑπʼ'], ['χάρις', 'ἐκεῖνος', 'διώκω'], ['διαφέρω', 'ἐνέργεια', 'τέλος', 'πρᾶξις', 'ἐπιστήμη'], ['τέλος', 'πρακτός', 'διʼ']]\n"
     ]
    }
   ],
   "source": [
    "print(gr.get_lemmatized_sentences(EN_df_string[:1000], all_lemmata=False, filter_by_postag=[\"n\",\"a\",\"v\"], involve_unknown=True))"
   ]
  },
  {
   "cell_type": "code",
   "execution_count": null,
   "metadata": {
    "colab": {},
    "colab_type": "code",
    "id": "CX5jFKSh6qZa",
    "outputId": "15e8e5fa-d209-4867-97bb-c0ac266bedc0"
   },
   "outputs": [
    {
     "name": "stdout",
     "output_type": "stream",
     "text": [
      "[['πᾶς', 'τέχνη', 'πᾶς', 'μέθοδος', 'ὅμοιος', 'προαίρεσις', 'ἀγαθός', 'ἐφίημι', 'δοκέω'], ['κάλως', 'ἀποφαίνω', 'ἀγαθός', 'ἵημι', 'ἐφίημι'], ['διαφορά', 'φαίνω', 'τέλος'], ['εἶμι', 'ἐνέργεια', 'ἔργον'], ['εἶμι', 'τέλος', 'πρᾶξις', 'βελτίων', 'φύω', 'ἐνέργεια', 'ἔργον'], ['πολύς', 'πρᾶξις', 'τέχνη', 'ἐπιστήμη', 'πολύς', 'γίγνομαι', 'τέλος'], ['ἰατρικός', 'ὑγίεια', 'ναυπηγικός', 'πλοῖον', 'στρατηγικός', 'νίκη', 'οἰκονομικός', 'πλοῦτος'], ['ὅσος', 'εἶμι', 'δύναμις', 'χαλινοποιική', 'ὅσος', 'ἱππικός', 'ὄργανον', 'εἶμι', 'πᾶς', 'πολεμικός', 'πρᾶξις', 'στρατηγικός', 'τρόπος', 'ἕτερος'], ['ἅπας', 'τέλος', 'πᾶς', 'αἱρετός'], ['χάρις', 'ἐκεῖνος', 'διώκω'], ['διαφέρω', 'ἐνέργεια', 'τέλος', 'πρᾶξις', 'ἐπιστήμη'], ['τέλος', 'πρακτός']]\n"
     ]
    }
   ],
   "source": [
    "print(gr.get_lemmatized_sentences(EN_df_string[:1000], all_lemmata=False, filter_by_postag=[\"n\",\"a\",\"v\"], involve_unknown=False))"
   ]
  },
  {
   "cell_type": "code",
   "execution_count": 20,
   "metadata": {
    "colab": {},
    "colab_type": "code",
    "id": "ZGGIZggP6qZc",
    "outputId": "3c819a03-2655-4c9b-fefc-02e9be1c05f5"
   },
   "outputs": [
    {
     "data": {
      "text/plain": [
       "[{'i': '455744',\n",
       "  'f': 'καλῶς',\n",
       "  'b': 'καλως',\n",
       "  'l': 'καλός',\n",
       "  'e': 'καλος',\n",
       "  'p': 'a-p---ma-',\n",
       "  'd': '16585',\n",
       "  's': 'beautiful, beauteous, fair',\n",
       "  'a': 'doric'},\n",
       " {'i': '455962',\n",
       "  'f': 'καλῶς',\n",
       "  'b': 'καλως',\n",
       "  'l': 'καλός',\n",
       "  'e': 'καλος',\n",
       "  'p': 'd--------',\n",
       "  'd': '16585',\n",
       "  's': 'beautiful, beauteous, fair',\n",
       "  'a': None},\n",
       " {'i': '456456',\n",
       "  'f': 'καλῶς',\n",
       "  'b': 'καλως',\n",
       "  'l': 'κάλως',\n",
       "  'e': 'καλως',\n",
       "  'p': 'n-p---ma-',\n",
       "  'd': '16601',\n",
       "  's': 'a reefing rope, reef',\n",
       "  'a': 'epic doric ionic'},\n",
       " {'i': '456493',\n",
       "  'f': 'καλῶς',\n",
       "  'b': 'καλως',\n",
       "  'l': 'κάλως',\n",
       "  'e': 'καλως',\n",
       "  'p': 'n-s---mn-',\n",
       "  'd': '16601',\n",
       "  's': 'a reefing rope, reef',\n",
       "  'a': 'attic epic ionic'}]"
      ]
     },
     "execution_count": 20,
     "metadata": {},
     "output_type": "execute_result"
    }
   ],
   "source": [
    "list_of_tokens = gr.return_list_of_tokens(\"καλῶς\")\n",
    "list_of_tokens"
   ]
  },
  {
   "cell_type": "code",
   "execution_count": null,
   "metadata": {
    "colab": {},
    "colab_type": "code",
    "id": "QQmkrseZ6qZe",
    "outputId": "6603f068-f953-4953-eddd-b6d838c113fa"
   },
   "outputs": [
    {
     "data": {
      "text/plain": [
       "[{'i': '390384',\n",
       "  'f': 'ἐφίημι',\n",
       "  'b': 'εφιημι',\n",
       "  'l': 'ἐφίημι',\n",
       "  'e': 'εφιημι',\n",
       "  'p': 'v1spia---',\n",
       "  'd': '14291',\n",
       "  's': 'to send to',\n",
       "  'a': None}]"
      ]
     },
     "execution_count": 169,
     "metadata": {
      "tags": []
     },
     "output_type": "execute_result"
    }
   ],
   "source": [
    "### simple test of how preference works\n",
    "list_of_tokens = gr.return_list_of_tokens(\"καλῶς\")\n",
    "token_letters = set([token[\"p\"][0] for token in list_of_tokens])\n",
    "if ((\"n\" or \"a\") in token_letters) and (\"v\" in token_letters):\n",
    "    print(\"met\")\n",
    "    list_of_tokens = [token for token in list_of_tokens if token[\"p\"][0] in [\"a\", \"n\"]]\n",
    "# prefer nouns over adjectives\n",
    "if \"a\" and \"n\" in token_letters:\n",
    "    list_of_tokens = [token for token in list_of_tokens if token[\"p\"][0] == \"n\"]\n",
    "list_of_tokens"
   ]
  },
  {
   "cell_type": "markdown",
   "metadata": {
    "colab_type": "text",
    "id": "rsOvvtg-6qZi"
   },
   "source": [
    "# Main Lemmatization"
   ]
  },
  {
   "cell_type": "code",
   "execution_count": 67,
   "metadata": {
    "colab": {},
    "colab_type": "code",
    "id": "Z0RBkUaB6qZj",
    "outputId": "343672fc-13e6-48a0-c870-aa8aa7e4b7ee"
   },
   "outputs": [
    {
     "name": "stdout",
     "output_type": "stream",
     "text": [
      "CPU times: user 11.3 s, sys: 1.93 s, total: 13.3 s\n",
      "Wall time: 15.5 s\n"
     ]
    }
   ],
   "source": [
    "%%time\n",
    "c_aristotelicum[\"lemmata\"] = c_aristotelicum.apply(lambda row: gr.lemmatize_string(row[\"string\"], all_lemmata=False, filter_by_postag=[\"n\",\"a\",\"v\"], involve_unknown=True), axis=1)\n",
    "c_hippocraticum[\"lemmata\"] = c_hippocraticum.apply(lambda row: gr.lemmatize_string(row[\"string\"], all_lemmata=False, filter_by_postag=[\"n\",\"a\",\"v\"], involve_unknown=True), axis=1)"
   ]
  },
  {
   "cell_type": "code",
   "execution_count": 68,
   "metadata": {
    "colab": {},
    "colab_type": "code",
    "id": "ChXGs7_k6qZl"
   },
   "outputs": [
    {
     "name": "stdout",
     "output_type": "stream",
     "text": [
      "CPU times: user 13 s, sys: 332 ms, total: 13.4 s\n",
      "Wall time: 14.9 s\n"
     ]
    }
   ],
   "source": [
    "%%time\n",
    "c_aristotelicum[\"lemmatized_sentences\"] = c_aristotelicum.apply(lambda row: gr.get_lemmatized_sentences(row[\"string\"], all_lemmata=False, filter_by_postag=[\"n\",\"a\",\"v\"], involve_unknown=True), axis=1)\n",
    "c_hippocraticum[\"lemmatized_sentences\"] = c_hippocraticum.apply(lambda row: gr.get_lemmatized_sentences(row[\"string\"], all_lemmata=False, filter_by_postag=[\"n\",\"a\",\"v\"], involve_unknown=True), axis=1)"
   ]
  },
  {
   "cell_type": "code",
   "execution_count": 69,
   "metadata": {
    "colab": {},
    "colab_type": "code",
    "id": "TinqEV3i6qZn",
    "outputId": "0407741c-b3a8-4b1f-c4a4-da36e0b6e9f1"
   },
   "outputs": [
    {
     "data": {
      "text/html": [
       "<div>\n",
       "<style scoped>\n",
       "    .dataframe tbody tr th:only-of-type {\n",
       "        vertical-align: middle;\n",
       "    }\n",
       "\n",
       "    .dataframe tbody tr th {\n",
       "        vertical-align: top;\n",
       "    }\n",
       "\n",
       "    .dataframe thead th {\n",
       "        text-align: right;\n",
       "    }\n",
       "</style>\n",
       "<table border=\"1\" class=\"dataframe\">\n",
       "  <thead>\n",
       "    <tr style=\"text-align: right;\">\n",
       "      <th></th>\n",
       "      <th>filename</th>\n",
       "      <th>author</th>\n",
       "      <th>title</th>\n",
       "      <th>string</th>\n",
       "      <th>author_id</th>\n",
       "      <th>doc_id</th>\n",
       "      <th>raw_date</th>\n",
       "      <th>date_avr</th>\n",
       "      <th>date_probs</th>\n",
       "      <th>date_manual</th>\n",
       "      <th>provenience</th>\n",
       "      <th>wordcount</th>\n",
       "      <th>lemmata</th>\n",
       "      <th>lemmatized_sentences</th>\n",
       "      <th>lemmata_wordcount</th>\n",
       "      <th>num_of_sents</th>\n",
       "    </tr>\n",
       "  </thead>\n",
       "  <tbody>\n",
       "    <tr>\n",
       "      <th>678</th>\n",
       "      <td>tlg0086.tlg001.1st1K-grc2.xml</td>\n",
       "      <td>Aristotle</td>\n",
       "      <td>Aristotelis Analytica Priora et Posteriora; Ar...</td>\n",
       "      <td>ΑΝΑΛΥΤΙΚΩΝ ΠΡΟΤΕΡΩΝ Α. Πρῶτον εἰπεῖν περὶ τί κ...</td>\n",
       "      <td>tlg0086</td>\n",
       "      <td>tlg0086.tlg001</td>\n",
       "      <td>4 B.C.</td>\n",
       "      <td>-3.5</td>\n",
       "      <td>{'-3.5': 1}</td>\n",
       "      <td>-3.5</td>\n",
       "      <td>pagan</td>\n",
       "      <td>59772</td>\n",
       "      <td>[αναλυτικων, πρότερος, πρότερος, εἶπον, σκέψις...</td>\n",
       "      <td>[[αναλυτικων, πρότερος], [πρότερος, εἶπον, σκέ...</td>\n",
       "      <td>21150</td>\n",
       "      <td>3645</td>\n",
       "    </tr>\n",
       "    <tr>\n",
       "      <th>679</th>\n",
       "      <td>tlg0086.tlg002.1st1K-grc2.xml</td>\n",
       "      <td>Aristotle</td>\n",
       "      <td>De anima; Aritoteles De anima</td>\n",
       "      <td>ΠEP1 ΨΥΧΗΣ Α Τῶν καλῶν καὶ τιμίων τὴν εἴδησιν ...</td>\n",
       "      <td>tlg0086</td>\n",
       "      <td>tlg0086.tlg002</td>\n",
       "      <td>4 B.C.</td>\n",
       "      <td>-3.5</td>\n",
       "      <td>{'-3.5': 1}</td>\n",
       "      <td>-3.5</td>\n",
       "      <td>pagan</td>\n",
       "      <td>20988</td>\n",
       "      <td>[ψυχή, κᾶλον, τίμιος, εἶδος, μαλλός, ἕτερος, ἕ...</td>\n",
       "      <td>[[ψυχή, κᾶλον, τίμιος, εἶδος, μαλλός, ἕτερος, ...</td>\n",
       "      <td>8893</td>\n",
       "      <td>1306</td>\n",
       "    </tr>\n",
       "    <tr>\n",
       "      <th>681</th>\n",
       "      <td>tlg0086.tlg005.1st1K-grc1.xml</td>\n",
       "      <td>Aristotle</td>\n",
       "      <td>De caelo; Aristoteles De coelo et De generatio...</td>\n",
       "      <td>ΠEPI ΟΥΡΑΝΟΥ A. Ἡ περὶ φύσεως ἐπιστήμη σχεδὸν ...</td>\n",
       "      <td>tlg0086</td>\n",
       "      <td>tlg0086.tlg005</td>\n",
       "      <td>4 B.C.</td>\n",
       "      <td>-3.5</td>\n",
       "      <td>{'-3.5': 1}</td>\n",
       "      <td>-3.5</td>\n",
       "      <td>pagan</td>\n",
       "      <td>31395</td>\n",
       "      <td>[οὐρανός, φύσις, ἐπιστήμη, πλεῖστος, φαίνω, σῶ...</td>\n",
       "      <td>[[οὐρανός], [φύσις, ἐπιστήμη, πλεῖστος, φαίνω,...</td>\n",
       "      <td>12915</td>\n",
       "      <td>1986</td>\n",
       "    </tr>\n",
       "    <tr>\n",
       "      <th>682</th>\n",
       "      <td>tlg0086.tlg006.1st1K-grc1.xml</td>\n",
       "      <td>Aristotle</td>\n",
       "      <td>Categoriae; Aristotelis Opera</td>\n",
       "      <td>ΚΑΤΗΓΟΡΙΑΙ. ὉΜΩΝΥΜΑ λέγεται ὧν ὄνομα μόνον κοι...</td>\n",
       "      <td>tlg0086</td>\n",
       "      <td>tlg0086.tlg006</td>\n",
       "      <td>4 B.C.</td>\n",
       "      <td>-3.5</td>\n",
       "      <td>{'-3.5': 1}</td>\n",
       "      <td>-3.5</td>\n",
       "      <td>pagan</td>\n",
       "      <td>10317</td>\n",
       "      <td>[κατηγορία, ὁμωνυμα, λέγω, ὄνομα, μόνος, κοινό...</td>\n",
       "      <td>[[κατηγορία], [ὁμωνυμα, λέγω, ὄνομα, μόνος, κο...</td>\n",
       "      <td>4372</td>\n",
       "      <td>659</td>\n",
       "    </tr>\n",
       "    <tr>\n",
       "      <th>683</th>\n",
       "      <td>tlg0086.tlg008.1st1K-grc1.xml</td>\n",
       "      <td>Aristotle</td>\n",
       "      <td>De divinatione per somnum; Aristotelis Opera</td>\n",
       "      <td>ΠΕΡΙ ΕΝΥΠΝΙΩΝ ΚΑΙ ΤΗΣ ΚΑΘ’ ΥΠΝΟΝ ΜΑΝΤΙΚΗΣ. Περ...</td>\n",
       "      <td>tlg0086</td>\n",
       "      <td>tlg0086.tlg008</td>\n",
       "      <td>4 B.C.</td>\n",
       "      <td>-3.5</td>\n",
       "      <td>{'-3.5': 1}</td>\n",
       "      <td>-3.5</td>\n",
       "      <td>pagan</td>\n",
       "      <td>1207</td>\n",
       "      <td>[ἐνύπνιον, ἀκή, ἄατος, ὕπνος, μαντικός, μαντικ...</td>\n",
       "      <td>[[ἐνύπνιον, ἀκή, ἄατος, ὕπνος, μαντικός], [μαν...</td>\n",
       "      <td>533</td>\n",
       "      <td>69</td>\n",
       "    </tr>\n",
       "  </tbody>\n",
       "</table>\n",
       "</div>"
      ],
      "text/plain": [
       "                          filename     author  \\\n",
       "678  tlg0086.tlg001.1st1K-grc2.xml  Aristotle   \n",
       "679  tlg0086.tlg002.1st1K-grc2.xml  Aristotle   \n",
       "681  tlg0086.tlg005.1st1K-grc1.xml  Aristotle   \n",
       "682  tlg0086.tlg006.1st1K-grc1.xml  Aristotle   \n",
       "683  tlg0086.tlg008.1st1K-grc1.xml  Aristotle   \n",
       "\n",
       "                                                 title  \\\n",
       "678  Aristotelis Analytica Priora et Posteriora; Ar...   \n",
       "679                      De anima; Aritoteles De anima   \n",
       "681  De caelo; Aristoteles De coelo et De generatio...   \n",
       "682                      Categoriae; Aristotelis Opera   \n",
       "683       De divinatione per somnum; Aristotelis Opera   \n",
       "\n",
       "                                                string author_id  \\\n",
       "678  ΑΝΑΛΥΤΙΚΩΝ ΠΡΟΤΕΡΩΝ Α. Πρῶτον εἰπεῖν περὶ τί κ...   tlg0086   \n",
       "679  ΠEP1 ΨΥΧΗΣ Α Τῶν καλῶν καὶ τιμίων τὴν εἴδησιν ...   tlg0086   \n",
       "681  ΠEPI ΟΥΡΑΝΟΥ A. Ἡ περὶ φύσεως ἐπιστήμη σχεδὸν ...   tlg0086   \n",
       "682  ΚΑΤΗΓΟΡΙΑΙ. ὉΜΩΝΥΜΑ λέγεται ὧν ὄνομα μόνον κοι...   tlg0086   \n",
       "683  ΠΕΡΙ ΕΝΥΠΝΙΩΝ ΚΑΙ ΤΗΣ ΚΑΘ’ ΥΠΝΟΝ ΜΑΝΤΙΚΗΣ. Περ...   tlg0086   \n",
       "\n",
       "             doc_id raw_date  date_avr   date_probs  date_manual provenience  \\\n",
       "678  tlg0086.tlg001   4 B.C.      -3.5  {'-3.5': 1}         -3.5       pagan   \n",
       "679  tlg0086.tlg002   4 B.C.      -3.5  {'-3.5': 1}         -3.5       pagan   \n",
       "681  tlg0086.tlg005   4 B.C.      -3.5  {'-3.5': 1}         -3.5       pagan   \n",
       "682  tlg0086.tlg006   4 B.C.      -3.5  {'-3.5': 1}         -3.5       pagan   \n",
       "683  tlg0086.tlg008   4 B.C.      -3.5  {'-3.5': 1}         -3.5       pagan   \n",
       "\n",
       "     wordcount                                            lemmata  \\\n",
       "678      59772  [αναλυτικων, πρότερος, πρότερος, εἶπον, σκέψις...   \n",
       "679      20988  [ψυχή, κᾶλον, τίμιος, εἶδος, μαλλός, ἕτερος, ἕ...   \n",
       "681      31395  [οὐρανός, φύσις, ἐπιστήμη, πλεῖστος, φαίνω, σῶ...   \n",
       "682      10317  [κατηγορία, ὁμωνυμα, λέγω, ὄνομα, μόνος, κοινό...   \n",
       "683       1207  [ἐνύπνιον, ἀκή, ἄατος, ὕπνος, μαντικός, μαντικ...   \n",
       "\n",
       "                                  lemmatized_sentences  lemmata_wordcount  \\\n",
       "678  [[αναλυτικων, πρότερος], [πρότερος, εἶπον, σκέ...              21150   \n",
       "679  [[ψυχή, κᾶλον, τίμιος, εἶδος, μαλλός, ἕτερος, ...               8893   \n",
       "681  [[οὐρανός], [φύσις, ἐπιστήμη, πλεῖστος, φαίνω,...              12915   \n",
       "682  [[κατηγορία], [ὁμωνυμα, λέγω, ὄνομα, μόνος, κο...               4372   \n",
       "683  [[ἐνύπνιον, ἀκή, ἄατος, ὕπνος, μαντικός], [μαν...                533   \n",
       "\n",
       "     num_of_sents  \n",
       "678          3645  \n",
       "679          1306  \n",
       "681          1986  \n",
       "682           659  \n",
       "683            69  "
      ]
     },
     "execution_count": 69,
     "metadata": {},
     "output_type": "execute_result"
    }
   ],
   "source": [
    "c_aristotelicum.head(5)"
   ]
  },
  {
   "cell_type": "code",
   "execution_count": 70,
   "metadata": {
    "colab": {},
    "colab_type": "code",
    "id": "w3v60kSq6qZo",
    "outputId": "a7747aa2-cdf1-4c60-f2eb-672a71268a04"
   },
   "outputs": [
    {
     "name": "stdout",
     "output_type": "stream",
     "text": [
      "A file with the same name (\"c_aristotelicum.json\") already exists in this location.\n"
     ]
    },
    {
     "name": "stdin",
     "output_type": "stream",
     "text": [
      "Press Enter to overwrite it or choose different path and filename:  \n"
     ]
    },
    {
     "name": "stdout",
     "output_type": "stream",
     "text": [
      "Your <class 'pandas.core.frame.DataFrame'> object has been succefully written as \"https://sciencedata.dk/files/public_data/PIA/c_aristotelicum.json\"\n",
      "A file with the same name (\"c_hippocraticum.json\") already exists in this location.\n"
     ]
    },
    {
     "name": "stdin",
     "output_type": "stream",
     "text": [
      "Press Enter to overwrite it or choose different path and filename:  \n"
     ]
    },
    {
     "name": "stdout",
     "output_type": "stream",
     "text": [
      "Your <class 'pandas.core.frame.DataFrame'> object has been succefully written as \"https://sciencedata.dk/files/public_data/PIA/c_hippocraticum.json\"\n"
     ]
    }
   ],
   "source": [
    "#conf = sddk.configure()\n",
    "sddk.write_file(\"public_data/PIA/c_aristotelicum.json\", c_aristotelicum, conf)\n",
    "sddk.write_file(\"public_data/PIA/c_hippocraticum.json\", c_hippocraticum, conf)"
   ]
  },
  {
   "cell_type": "code",
   "execution_count": null,
   "metadata": {},
   "outputs": [],
   "source": []
  }
 ],
 "metadata": {
  "colab": {
   "collapsed_sections": [],
   "name": "anda_gr_example.ipynb",
   "provenance": []
  },
  "kernelspec": {
   "display_name": "Python 3",
   "language": "python",
   "name": "python3"
  },
  "language_info": {
   "codemirror_mode": {
    "name": "ipython",
    "version": 3
   },
   "file_extension": ".py",
   "mimetype": "text/x-python",
   "name": "python",
   "nbconvert_exporter": "python",
   "pygments_lexer": "ipython3",
   "version": "3.6.9"
  }
 },
 "nbformat": 4,
 "nbformat_minor": 4
}
