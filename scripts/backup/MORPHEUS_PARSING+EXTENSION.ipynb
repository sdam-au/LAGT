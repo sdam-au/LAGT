{
 "cells": [
  {
   "cell_type": "markdown",
   "metadata": {},
   "source": [
    "The aim of this notebook is to transform an ancient Greek Dictionary Morpheus (https://github.com/gcelano/LemmatizedAncientGreekXML/tree/master/Morpheus) into a form of lookup table suitable for `spacy train`, e.g. the one present in Spacy (modern) Greek language model."
   ]
  },
  {
   "cell_type": "markdown",
   "metadata": {
    "colab_type": "text",
    "id": "EbixMMZchOgn"
   },
   "source": [
    "# Requirements"
   ]
  },
  {
   "cell_type": "code",
   "execution_count": 2,
   "metadata": {
    "colab": {
     "base_uri": "https://localhost:8080/",
     "height": 272
    },
    "colab_type": "code",
    "executionInfo": {
     "elapsed": 9878,
     "status": "ok",
     "timestamp": 1588779837403,
     "user": {
      "displayName": "Vojtěch Kaše",
      "photoUrl": "https://lh3.googleusercontent.com/a-/AOh14Ggz3jS9e7I3GdIEbyBKFtqr9tPdNCwyLBEJwbK8cw=s64",
      "userId": "01399835024022498543"
     },
     "user_tz": -120
    },
    "id": "QWRXmeoNhLsD",
    "outputId": "ae5620d8-2479-4587-c6ed-cdf64706b2a3"
   },
   "outputs": [],
   "source": [
    "import os\n",
    "import json\n",
    "import pandas as pd\n",
    "import numpy as np\n",
    "import json\n",
    "import unicodedata\n",
    "import requests\n",
    "import re\n",
    "from importlib import reload\n",
    "import pyconll # universal dependencies parser\n",
    "import zipfile\n",
    "import io\n",
    "from bs4 import BeautifulSoup\n",
    "\n",
    "\n",
    "import sddk\n",
    "\n",
    "#from anda import gr\n",
    "# OR uncomment the following:\n",
    "#script_url = \"https://raw.githubusercontent.com/sdam-au/anda_py/master/anda/gr.py\"\n",
    "#exec(requests.get(script_url).content)"
   ]
  },
  {
   "cell_type": "code",
   "execution_count": 14,
   "metadata": {},
   "outputs": [],
   "source": [
    "# first try to read the morpheus dict from our local data harmonia:\n",
    "try:\n",
    "    with open(\"../data/morpheus_dict.json\") as json_file:\n",
    "        morpheus_dict = json.load(json_file)\n",
    "# if not available:\n",
    "except:\n",
    "    # read it from a public harmonia on sciencedata\n",
    "    publicfolder = \"8fe7d59de1eafe5f8eaebc0044534606\"\n",
    "    morpheus_dict = json.loads(requests.get(\"https://sciencedata.dk/public/\" + publicfolder + \"/morpheus_dict.json\").content)\n",
    "    # save it locally for future usage\n",
    "    with open(\"../data/morpheus_dict.json\", \"w\") as outfile:  \n",
    "        json.dump(morpheus_dict, outfile)\n",
    "\n"
   ]
  },
  {
   "cell_type": "code",
   "execution_count": 3,
   "metadata": {},
   "outputs": [
    {
     "name": "stdout",
     "output_type": "stream",
     "text": [
      "Enter 'y' and 'Enter' if you want to parse the data from scratch: n\n"
     ]
    }
   ],
   "source": [
    "# you can parse your own version following these steps, but parsing the xml takes some time:\n",
    "response = input(\"Enter 'y' and 'Enter' if you want to parse the data from scratch: \") \n",
    "if response == \"y\":\n",
    "    url = \"https://github.com/gcelano/LemmatizedAncientGreekXML/blob/master/Morpheus/MorpheusUnicode.xml.zip?raw=true\"\n",
    "    resp = requests.get(url)\n",
    "    zipped = zipfile.ZipFile(io.BytesIO(resp.content))\n",
    "    zipped.extractall(\"../data/\") \n",
    "\n",
    "    with open(\"../data/MorpheusUnicode.xml\", \"r\") as file:\n",
    "        # Read each line in the file, readlines() returns a list of lines\n",
    "        content = file.readlines()\n",
    "        # Combine the lines in the list into a string\n",
    "        content = \"\".join(content)\n",
    "        bs_content = BeautifulSoup(content, \"lxml\")\n",
    "    ### to be further elaborated (from the bs_content object on...)"
   ]
  },
  {
   "cell_type": "code",
   "execution_count": 4,
   "metadata": {},
   "outputs": [
    {
     "data": {
      "text/plain": [
       "706506"
      ]
     },
     "execution_count": 4,
     "metadata": {},
     "output_type": "execute_result"
    }
   ],
   "source": [
    "# number of wordforms\n",
    "morpheus_len = len(morpheus_dict)\n",
    "morpheus_len"
   ]
  },
  {
   "cell_type": "code",
   "execution_count": null,
   "metadata": {},
   "outputs": [],
   "source": [
    "print(\"ok\")"
   ]
  },
  {
   "cell_type": "code",
   "execution_count": 4,
   "metadata": {},
   "outputs": [
    {
     "data": {
      "text/plain": [
       "[('ἀᾱ́ατος',\n",
       "  [{'i': '6',\n",
       "    'f': 'ἀᾱ́ατος',\n",
       "    'b': 'αᾱατος',\n",
       "    'l': 'ἀάατος',\n",
       "    'e': 'ααατος',\n",
       "    'p': 'a-s---fn-',\n",
       "    'd': '1',\n",
       "    's': 'not to be injured, inviolable',\n",
       "    'a': None},\n",
       "   {'i': '13',\n",
       "    'f': 'ἀᾱ́ατος',\n",
       "    'b': 'αᾱατος',\n",
       "    'l': 'ἀάατος',\n",
       "    'e': 'ααατος',\n",
       "    'p': 'a-s---mn-',\n",
       "    'd': '1',\n",
       "    's': 'not to be injured, inviolable',\n",
       "    'a': None}]),\n",
       " ('αᾱατος',\n",
       "  [{'i': '6',\n",
       "    'f': 'ἀᾱ́ατος',\n",
       "    'b': 'αᾱατος',\n",
       "    'l': 'ἀάατος',\n",
       "    'e': 'ααατος',\n",
       "    'p': 'a-s---fn-',\n",
       "    'd': '1',\n",
       "    's': 'not to be injured, inviolable',\n",
       "    'a': None},\n",
       "   {'i': '13',\n",
       "    'f': 'ἀᾱ́ατος',\n",
       "    'b': 'αᾱατος',\n",
       "    'l': 'ἀάατος',\n",
       "    'e': 'ααατος',\n",
       "    'p': 'a-s---mn-',\n",
       "    'd': '1',\n",
       "    's': 'not to be injured, inviolable',\n",
       "    'a': None}])]"
      ]
     },
     "execution_count": 4,
     "metadata": {},
     "output_type": "execute_result"
    }
   ],
   "source": [
    "# morpheus has the following structure\n",
    "[it for it in morpheus_dict.items()][10:12]"
   ]
  },
  {
   "cell_type": "markdown",
   "metadata": {},
   "source": [
    "POS tag used in morpheus (extracted from https://github.com/gcelano/LemmatizedAncientGreekXML/blob/master/README.md)\n",
    "  * ```n```: noun\n",
    "  * ```v```: verb\n",
    "  * ```a```: adjective\n",
    "  * ```d```: adverb\n",
    "  * ```l```: article\n",
    "  * ```g```: particle\n",
    "  * ```c```: conjunction\n",
    "  * ```r```: preposition\n",
    "  * ```p```: pronoun\n",
    "  * ```m```: numeral\n",
    "  * ```i```: interjection\n",
    "  * ```u```: punctuation"
   ]
  },
  {
   "cell_type": "markdown",
   "metadata": {},
   "source": [
    "We have to transform this data into the following format: https://github.com/explosion/spacy-lookups-data/blob/master/spacy_lookups_data/data/el_lemma_exc.json"
   ]
  },
  {
   "cell_type": "markdown",
   "metadata": {},
   "source": [
    "\n",
    "# \"p\" (=\"xpos\") into universal dependency \"upos\"\n",
    "As a first step: to translate the \"p\" tag here into the standardized tags used by universal dependency treebanks and spacy:"
   ]
  },
  {
   "cell_type": "code",
   "execution_count": 5,
   "metadata": {},
   "outputs": [],
   "source": [
    "corpus_perseus = pyconll.load.iter_from_url(\"https://raw.githubusercontent.com/UniversalDependencies/UD_Ancient_Greek-Perseus/master/grc_perseus-ud-train.conllu\")\n",
    "corpus_proiel = pyconll.load.iter_from_url(\"https://raw.githubusercontent.com/UniversalDependencies/UD_Ancient_Greek-PROIEL/master/grc_proiel-ud-train.conllu\")"
   ]
  },
  {
   "cell_type": "code",
   "execution_count": 6,
   "metadata": {},
   "outputs": [],
   "source": [
    "upos_xpos = []\n",
    "for sentence in corpus_perseus:\n",
    "    for token in sentence:\n",
    "        upos_xpos.append((token.upos, token.xpos))\n",
    "for sentence in corpus_proiel:\n",
    "    for token in sentence:\n",
    "        upos_xpos.append((token.upos, token.xpos))        "
   ]
  },
  {
   "cell_type": "code",
   "execution_count": 7,
   "metadata": {},
   "outputs": [
    {
     "data": {
      "text/plain": [
       "[('VERB', 'v3spia---'),\n",
       " ('ADV', 'd--------'),\n",
       " ('ADJ', 'a-s---mn-'),\n",
       " ('NOUN', 'n-s---mn-'),\n",
       " ('VERB', 'v--ana---'),\n",
       " ('NOUN', 'n-s---fa-'),\n",
       " ('PUNCT', 'u--------'),\n",
       " ('NOUN', 'n-s---mn-'),\n",
       " ('CCONJ', 'c--------'),\n",
       " ('NOUN', 'n-s---fa-')]"
      ]
     },
     "execution_count": 7,
     "metadata": {},
     "output_type": "execute_result"
    }
   ],
   "source": [
    "upos_xpos[:10]"
   ]
  },
  {
   "cell_type": "code",
   "execution_count": 8,
   "metadata": {},
   "outputs": [
    {
     "data": {
      "text/plain": [
       "['ADJ',\n",
       " 'PRON',\n",
       " 'ADP',\n",
       " 'PUNCT',\n",
       " 'DET',\n",
       " 'CCONJ',\n",
       " 'INTJ',\n",
       " 'PART',\n",
       " 'PROPN',\n",
       " 'AUX',\n",
       " 'SCONJ',\n",
       " 'ADV',\n",
       " 'NOUN',\n",
       " 'X',\n",
       " 'NUM',\n",
       " 'VERB']"
      ]
     },
     "execution_count": 8,
     "metadata": {},
     "output_type": "execute_result"
    }
   ],
   "source": [
    "upos_unique = list(set([tup[0] for tup in upos_xpos]))\n",
    "upos_unique"
   ]
  },
  {
   "cell_type": "code",
   "execution_count": 9,
   "metadata": {},
   "outputs": [
    {
     "data": {
      "text/plain": [
       "{'ADJ': ['Px', 'S-', 'A-', 'Pd', 'Ps', 'a-', 'Mo'],\n",
       " 'PRON': ['p3', 'Pc', 'Pr', 'Pi', 'Pp', 'Pk', 'p2', 'p1', 'p-'],\n",
       " 'ADP': ['r-', 'R-'],\n",
       " 'PUNCT': ['u-'],\n",
       " 'DET': ['S-', 'l-', 'Pd', 'Px'],\n",
       " 'CCONJ': ['c-', 'C-'],\n",
       " 'INTJ': ['I-', 'i-'],\n",
       " 'PART': ['g-'],\n",
       " 'PROPN': ['Ne'],\n",
       " 'AUX': ['V-'],\n",
       " 'SCONJ': ['c-', 'G-'],\n",
       " 'ADV': ['Dq', 'Df', 'Du', 'd-'],\n",
       " 'NOUN': ['Nb', 'n-'],\n",
       " 'X': ['-3', 'F-', '--', 'x-'],\n",
       " 'NUM': ['Ma', 'm-'],\n",
       " 'VERB': ['v2', 'V-', 'v3', 'v-', 'v1']}"
      ]
     },
     "execution_count": 9,
     "metadata": {},
     "output_type": "execute_result"
    }
   ],
   "source": [
    "upos_dict = {}\n",
    "for upos in upos_unique:\n",
    "    upos_dict[upos] = list(set([tup[1][:2] for tup in upos_xpos if tup[0] == upos]))\n",
    "upos_dict"
   ]
  },
  {
   "cell_type": "code",
   "execution_count": 10,
   "metadata": {},
   "outputs": [
    {
     "data": {
      "text/plain": [
       "{'Px': ['ADJ', 'DET'],\n",
       " 'S-': ['ADJ', 'DET'],\n",
       " 'A-': ['ADJ'],\n",
       " 'Pd': ['ADJ', 'DET'],\n",
       " 'Ps': ['ADJ'],\n",
       " 'a-': ['ADJ'],\n",
       " 'Mo': ['ADJ'],\n",
       " 'p3': ['PRON'],\n",
       " 'Pc': ['PRON'],\n",
       " 'Pr': ['PRON'],\n",
       " 'Pi': ['PRON'],\n",
       " 'Pp': ['PRON'],\n",
       " 'Pk': ['PRON'],\n",
       " 'p2': ['PRON'],\n",
       " 'p1': ['PRON'],\n",
       " 'p-': ['PRON'],\n",
       " 'r-': ['ADP'],\n",
       " 'R-': ['ADP'],\n",
       " 'u-': ['PUNCT'],\n",
       " 'l-': ['DET'],\n",
       " 'c-': ['CCONJ', 'SCONJ'],\n",
       " 'C-': ['CCONJ'],\n",
       " 'I-': ['INTJ'],\n",
       " 'i-': ['INTJ'],\n",
       " 'g-': ['PART'],\n",
       " 'Ne': ['PROPN'],\n",
       " 'V-': ['AUX', 'VERB'],\n",
       " 'G-': ['SCONJ'],\n",
       " 'Dq': ['ADV'],\n",
       " 'Df': ['ADV'],\n",
       " 'Du': ['ADV'],\n",
       " 'd-': ['ADV'],\n",
       " 'Nb': ['NOUN'],\n",
       " 'n-': ['NOUN'],\n",
       " '-3': ['X'],\n",
       " 'F-': ['X'],\n",
       " '--': ['X'],\n",
       " 'x-': ['X'],\n",
       " 'Ma': ['NUM'],\n",
       " 'm-': ['NUM'],\n",
       " 'v2': ['VERB'],\n",
       " 'v3': ['VERB'],\n",
       " 'v-': ['VERB'],\n",
       " 'v1': ['VERB']}"
      ]
     },
     "execution_count": 10,
     "metadata": {},
     "output_type": "execute_result"
    }
   ],
   "source": [
    "upos_dict_reverse = {}\n",
    "for key in upos_dict.keys():\n",
    "    for el in upos_dict[key]:\n",
    "        try:\n",
    "            old_value = upos_dict_reverse[el] \n",
    "            # new_value = old_value.append(key)\n",
    "            upos_dict_reverse[el] = old_value + [key]\n",
    "        except:\n",
    "            upos_dict_reverse[el] = [key]\n",
    "upos_dict_reverse"
   ]
  },
  {
   "cell_type": "code",
   "execution_count": 11,
   "metadata": {},
   "outputs": [
    {
     "data": {
      "text/plain": [
       "['NOUN', 'ADV', 'ADB', 'VERB', 'NUM']"
      ]
     },
     "execution_count": 11,
     "metadata": {},
     "output_type": "execute_result"
    }
   ],
   "source": [
    "[\"NOUN\", \"ADV\", \"ADB\", \"VERB\", \"NUM\"]"
   ]
  },
  {
   "cell_type": "code",
   "execution_count": 12,
   "metadata": {},
   "outputs": [
    {
     "data": {
      "text/plain": [
       "[{'i': '1',\n",
       "  'f': 'ἀάατον',\n",
       "  'b': 'ααατον',\n",
       "  'l': 'ἀάατος',\n",
       "  'e': 'ααατος',\n",
       "  'p': 'a-s---fa-',\n",
       "  'd': '1',\n",
       "  's': 'not to be injured, inviolable',\n",
       "  'a': None},\n",
       " {'i': '8',\n",
       "  'f': 'ἀάατον',\n",
       "  'b': 'ααατον',\n",
       "  'l': 'ἀάατος',\n",
       "  'e': 'ααατος',\n",
       "  'p': 'a-s---ma-',\n",
       "  'd': '1',\n",
       "  's': 'not to be injured, inviolable',\n",
       "  'a': None},\n",
       " {'i': '15',\n",
       "  'f': 'ἀάατον',\n",
       "  'b': 'ααατον',\n",
       "  'l': 'ἀάατος',\n",
       "  'e': 'ααατος',\n",
       "  'p': 'a-s---na-',\n",
       "  'd': '1',\n",
       "  's': 'not to be injured, inviolable',\n",
       "  'a': None}]"
      ]
     },
     "execution_count": 12,
     "metadata": {},
     "output_type": "execute_result"
    }
   ],
   "source": [
    "morph_list_dict = list(morpheus_dict.values())\n",
    "morph_list_dict[0][:3]"
   ]
  },
  {
   "cell_type": "code",
   "execution_count": 13,
   "metadata": {},
   "outputs": [
    {
     "data": {
      "text/plain": [
       "{'ADJ': {},\n",
       " 'PRON': {},\n",
       " 'ADP': {},\n",
       " 'PUNCT': {},\n",
       " 'DET': {},\n",
       " 'CCONJ': {},\n",
       " 'INTJ': {},\n",
       " 'PART': {},\n",
       " 'PROPN': {},\n",
       " 'AUX': {},\n",
       " 'SCONJ': {},\n",
       " 'ADV': {},\n",
       " 'NOUN': {},\n",
       " 'X': {},\n",
       " 'NUM': {},\n",
       " 'VERB': {}}"
      ]
     },
     "execution_count": 13,
     "metadata": {},
     "output_type": "execute_result"
    }
   ],
   "source": [
    "# create empty dictionary to fill in by values\n",
    "ag_lemma_lookup = {}\n",
    "for upos in upos_unique: \n",
    "    ag_lemma_lookup[upos] = {}\n",
    "ag_lemma_lookup"
   ]
  },
  {
   "cell_type": "code",
   "execution_count": 14,
   "metadata": {},
   "outputs": [
    {
     "data": {
      "text/plain": [
       "'Ἀλλʼ'"
      ]
     },
     "execution_count": 14,
     "metadata": {},
     "output_type": "execute_result"
    }
   ],
   "source": [
    "v_ud = \"’\"\n",
    "v_agt = \"ʼ\"\n",
    "re.sub(v_ud, v_agt, \"Ἀλλ’\")"
   ]
  },
  {
   "cell_type": "code",
   "execution_count": 15,
   "metadata": {},
   "outputs": [],
   "source": [
    "for item in morph_list_dict:\n",
    "    for el in item:\n",
    "        for key in upos_dict_reverse.keys(): # e.g. \"V-\" or \"a-\"...            \n",
    "            if el[\"p\"][:2] == key:\n",
    "                for tag in upos_dict_reverse[key]: # list of values of the individual key\n",
    "                    ag_lemma_lookup[tag][re.sub(v_ud, v_agt, el[\"f\"])] = el[\"l\"]\n",
    "                    \n",
    "for item in morph_list_dict:\n",
    "    for el in item:\n",
    "        if el[\"a\"] == None: # ignore dialect specific words at this moment\n",
    "            for key in upos_dict_reverse.keys(): # e.g. \"V-\" or \"a-\"...            \n",
    "                if el[\"p\"][:2] == key:\n",
    "                    for tag in upos_dict_reverse[key]: # list of values of the individual key\n",
    "                        ag_lemma_lookup[tag][re.sub(v_ud, v_agt, el[\"f\"])] = el[\"l\"]"
   ]
  },
  {
   "cell_type": "code",
   "execution_count": 16,
   "metadata": {},
   "outputs": [
    {
     "data": {
      "text/plain": [
       "331498"
      ]
     },
     "execution_count": 16,
     "metadata": {},
     "output_type": "execute_result"
    }
   ],
   "source": [
    "sum([len(ag_lemma_lookup[key]) for key in ag_lemma_lookup.keys()]) # 259647"
   ]
  },
  {
   "cell_type": "code",
   "execution_count": 17,
   "metadata": {},
   "outputs": [
    {
     "data": {
      "text/plain": [
       "{'ἄτως': 'ἄατος',\n",
       " 'ἅτʼ': 'ἅτε',\n",
       " 'κἄτʼ': 'ἔτι',\n",
       " 'κᾆτʼ': 'εἴτε',\n",
       " 'κἆτʼ': 'ἔτι',\n",
       " 'κἆθʼ': 'ἔτι',\n",
       " 'κᾆθʼ': 'εἴτε',\n",
       " 'κάθʼ': 'καθό',\n",
       " 'καθʼ': 'καθό',\n",
       " 'κᾆτα': 'εἶτα',\n",
       " 'τώ': 'τῷ',\n",
       " 'τῴ': 'τῷ',\n",
       " 'τῶ': 'τῷ',\n",
       " 'τῷ': 'τῷ',\n",
       " 'τῳ': 'τῷ',\n",
       " 'ἁτός': 'ἐτός',\n",
       " 'ἅτε': 'ἅτε',\n",
       " 'ἇτε': 'ἅτε',\n",
       " 'ᾗ': 'ᾗ',\n",
       " 'ἤ': 'ἦ'}"
      ]
     },
     "execution_count": 17,
     "metadata": {},
     "output_type": "execute_result"
    }
   ],
   "source": [
    "dict([it for it in ag_lemma_lookup[\"ADV\"].items()][:20])"
   ]
  },
  {
   "cell_type": "markdown",
   "metadata": {},
   "source": [
    "# Update/extend Morpheus by word forms and lemmata from universal dependencies"
   ]
  },
  {
   "cell_type": "code",
   "execution_count": 18,
   "metadata": {},
   "outputs": [
    {
     "data": {
      "text/plain": [
       "81298"
      ]
     },
     "execution_count": 18,
     "metadata": {},
     "output_type": "execute_result"
    }
   ],
   "source": [
    "len(ag_lemma_lookup[\"NOUN\"])"
   ]
  },
  {
   "cell_type": "code",
   "execution_count": 19,
   "metadata": {},
   "outputs": [],
   "source": [
    "corpus_perseus = pyconll.load.iter_from_url(\"https://raw.githubusercontent.com/UniversalDependencies/UD_Ancient_Greek-Perseus/master/grc_perseus-ud-train.conllu\")\n",
    "corpus_proiel = pyconll.load.iter_from_url(\"https://raw.githubusercontent.com/UniversalDependencies/UD_Ancient_Greek-PROIEL/master/grc_proiel-ud-train.conllu\")"
   ]
  },
  {
   "cell_type": "code",
   "execution_count": 21,
   "metadata": {},
   "outputs": [],
   "source": [
    "for sentence in corpus_perseus:\n",
    "    for token in sentence:\n",
    "        ag_lemma_lookup[token.upos][re.sub(v_ud, v_agt, token.form)] = re.sub(v_ud, v_agt, token.lemma)\n",
    "for sentence in corpus_proiel:\n",
    "    for token in sentence:\n",
    "        ag_lemma_lookup[token.upos][re.sub(v_ud, v_agt, token.form)] = re.sub(v_ud, v_agt, token.lemma)"
   ]
  },
  {
   "cell_type": "code",
   "execution_count": 22,
   "metadata": {},
   "outputs": [],
   "source": [
    "ag_lemma_lookup[\"NOUN\"].update(ag_lemma_lookup[\"PROPN\"])"
   ]
  },
  {
   "cell_type": "code",
   "execution_count": 23,
   "metadata": {},
   "outputs": [
    {
     "data": {
      "text/plain": [
       "'Ἰησοῦς'"
      ]
     },
     "execution_count": 23,
     "metadata": {},
     "output_type": "execute_result"
    }
   ],
   "source": [
    "ag_lemma_lookup[\"NOUN\"][\"Ἰησοῦ\"]"
   ]
  },
  {
   "cell_type": "code",
   "execution_count": 24,
   "metadata": {},
   "outputs": [],
   "source": [
    "with open (\"../data/ag_lemma_lookup.json\", \"w\") as f:\n",
    "    json.dump(ag_lemma_lookup, f)"
   ]
  },
  {
   "cell_type": "code",
   "execution_count": 97,
   "metadata": {},
   "outputs": [
    {
     "data": {
      "text/plain": [
       "dict_keys(['NOUN', 'ADV', 'ADJ', 'VERB', 'PRON', 'SCONJ', 'X', 'PUNCT', 'CCONJ', 'NUM', 'ADP', 'PROPN', 'AUX', 'DET', 'INTJ', 'PART'])"
      ]
     },
     "execution_count": 97,
     "metadata": {},
     "output_type": "execute_result"
    }
   ],
   "source": [
    "ag_lemma_lookup.keys()"
   ]
  },
  {
   "cell_type": "code",
   "execution_count": 25,
   "metadata": {},
   "outputs": [],
   "source": [
    "ag_lemma_lookup_merged = {}\n",
    "for key in ag_lemma_lookup.keys():\n",
    "    ag_lemma_lookup_merged.update(ag_lemma_lookup[key])"
   ]
  },
  {
   "cell_type": "code",
   "execution_count": 26,
   "metadata": {},
   "outputs": [],
   "source": [
    "# overwrite overthing by keys in this order\n",
    "keys = [\"ADV\", \"VERB\", \"ADJ\", \"NOUN\", \"PROPN\"]\n",
    "for key in keys:\n",
    "    ag_lemma_lookup_merged.update(ag_lemma_lookup[key])"
   ]
  },
  {
   "cell_type": "code",
   "execution_count": 27,
   "metadata": {},
   "outputs": [
    {
     "data": {
      "text/plain": [
       "'ἐνέργεια'"
      ]
     },
     "execution_count": 27,
     "metadata": {},
     "output_type": "execute_result"
    }
   ],
   "source": [
    "ag_lemma_lookup_merged[\"ἐνεργειῶν\"]"
   ]
  },
  {
   "cell_type": "code",
   "execution_count": 28,
   "metadata": {},
   "outputs": [],
   "source": [
    "with open (\"../data/ag_lemma_lookup_merged.json\", \"w\") as f:\n",
    "    json.dump(ag_lemma_lookup_merged, f)"
   ]
  },
  {
   "cell_type": "markdown",
   "metadata": {},
   "source": [
    "# Verbs for Rule-based lemmatizer"
   ]
  },
  {
   "cell_type": "code",
   "execution_count": 3,
   "metadata": {},
   "outputs": [],
   "source": [
    "# if you don't have your data already accessible:\n",
    "ag_lemma_lookup = json.load(open(\"../data/ag_lemma_lookup.json\"))"
   ]
  },
  {
   "cell_type": "code",
   "execution_count": 5,
   "metadata": {},
   "outputs": [],
   "source": [
    "verbs_wordform_lemma_dict = ag_lemma_lookup[\"VERB\"]"
   ]
  },
  {
   "cell_type": "code",
   "execution_count": 6,
   "metadata": {},
   "outputs": [
    {
     "name": "stdout",
     "output_type": "stream",
     "text": [
      "sciencedata.dk username (format '123456@au.dk'): 648597@au.dk\n",
      "sciencedata.dk password: ········\n",
      "connection with shared folder established with you as its owner\n",
      "endpoint variable has been configured to: https://sciencedata.dk/files/SDAM_root/\n",
      "Your <class 'dict'> object has been succefully written as \"https://sciencedata.dk/files/SDAM_root/SDAM_data/AGT/verbs_wordform_lemma_dict.json\"\n"
     ]
    }
   ],
   "source": [
    "conf = sddk.configure(\"SDAM_root\", \"648597@au.dk\") # shared harmonia, harmonia owner\n",
    "sddk.write_file(\"SDAM_data/AGT/verbs_wordform_lemma_dict.json\", verbs_wordform_lemma_dict, conf)"
   ]
  },
  {
   "cell_type": "code",
   "execution_count": null,
   "metadata": {},
   "outputs": [],
   "source": []
  }
 ],
 "metadata": {
  "colab": {
   "authorship_tag": "ABX9TyM+taOvEihjuZ2k0d8Zjz/M",
   "collapsed_sections": [],
   "name": "2_METADATA&LEMMATIZATION&OVERVIEW.ipynb",
   "provenance": [],
   "toc_visible": true
  },
  "kernelspec": {
   "display_name": "Python 3",
   "language": "python",
   "name": "python3"
  },
  "language_info": {
   "codemirror_mode": {
    "name": "ipython",
    "version": 3
   },
   "file_extension": ".py",
   "mimetype": "text/x-python",
   "name": "python",
   "nbconvert_exporter": "python",
   "pygments_lexer": "ipython3",
   "version": "3.6.9"
  }
 },
 "nbformat": 4,
 "nbformat_minor": 4
}
