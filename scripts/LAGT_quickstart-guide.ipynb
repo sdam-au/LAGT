{
 "cells": [
  {
   "cell_type": "markdown",
   "metadata": {
    "colab_type": "text",
    "id": "EbixMMZchOgn"
   },
   "source": [
    "# Requirements"
   ]
  },
  {
   "cell_type": "markdown",
   "metadata": {},
   "source": [
    "Before you run this notebook, download the latest version of the dataset from zenodo. Since version 4.0, LAGT dataset consists of two parts:\n",
    "* Main tabular dataset, containing all metadata and also lemmatized filtered sentences, offered here as a parquet file, to be loaded into python directly as a pandas dataframe object.\n",
    "* Morphological data for each document within the corpus with one JSON file per document. Each file is represented as a list of sentences, and each sentence is accompanied by a simplified morphological annotation, containing token, lemma, simplified postag and a positional index of the token. The directory with these files, has to be downloaded and unzipped, e.g. in \"data/large_files/ subdirectory of a repository or so. Below we demonstrate a potential usage of this data."
   ]
  },
  {
   "cell_type": "code",
   "metadata": {
    "colab": {
     "base_uri": "https://localhost:8080/",
     "height": 272
    },
    "colab_type": "code",
    "executionInfo": {
     "elapsed": 9878,
     "status": "ok",
     "timestamp": 1588779837403,
     "user": {
      "displayName": "Vojtěch Kaše",
      "photoUrl": "https://lh3.googleusercontent.com/a-/AOh14Ggz3jS9e7I3GdIEbyBKFtqr9tPdNCwyLBEJwbK8cw=s64",
      "userId": "01399835024022498543"
     },
     "user_tz": -120
    },
    "id": "QWRXmeoNhLsD",
    "outputId": "ae5620d8-2479-4587-c6ed-cdf64706b2a3",
    "ExecuteTime": {
     "end_time": "2025-08-26T13:14:00.581346Z",
     "start_time": "2025-08-26T13:13:59.921857Z"
    }
   },
   "source": [
    "import pandas as pd\n",
    "import matplotlib.pyplot as plt\n",
    "from collections import Counter\n",
    "import os\n",
    "import json"
   ],
   "outputs": [],
   "execution_count": 1
  },
  {
   "cell_type": "markdown",
   "metadata": {},
   "source": [
    "### Working with the tabular dataset"
   ]
  },
  {
   "cell_type": "code",
   "metadata": {
    "ExecuteTime": {
     "end_time": "2025-08-26T13:15:11.627430Z",
     "start_time": "2025-08-26T13:14:00.602997Z"
    }
   },
   "source": [
    "# read the dataset directly from zenodo (if you have a good internet connection...)\n",
    "LAGT = pd.read_parquet(\"https://zenodo.org/records/13889714/files/LAGT_v4-1.parquet?download=1\")"
   ],
   "outputs": [],
   "execution_count": 2
  },
  {
   "cell_type": "code",
   "metadata": {
    "ExecuteTime": {
     "end_time": "2025-08-26T13:15:11.771246Z",
     "start_time": "2025-08-26T13:15:11.741155Z"
    }
   },
   "source": [
    "# explore the first 5 lines of the dataframe\n",
    "LAGT.head(5)"
   ],
   "outputs": [
    {
     "data": {
      "text/plain": [
       "  author_id          doc_id                       filename      author  \\\n",
       "0   ogl0001  ogl0001.ogl001  ogl0001.ogl001.1st1K-grc1.xml     Pinytus   \n",
       "1   tlg0005  tlg0005.tlg003  tlg0005.tlg003.1st1K-grc1.xml  Theocritus   \n",
       "2   tlg0006  tlg0006.tlg020  tlg0006.tlg020.1st1K-grc1.xml   Euripides   \n",
       "3   tlg0007  tlg0007.tlg146  tlg0007.tlg146.1st1K-grc1.xml    Plutarch   \n",
       "4   tlg0007  tlg0007.tlg147  tlg0007.tlg147.1st1K-grc1.xml    Plutarch   \n",
       "\n",
       "                               title  \\\n",
       "0    De Epistola Pinyti ad Dionysium   \n",
       "1                             Syrinx   \n",
       "2                          Fragmenta   \n",
       "3  Παροιμίαι αἷς Ἀλεξανδρεῖς ἐχρῶντο   \n",
       "4           Ἐκλογὴ περὶ τῶν ἀδυνάτων   \n",
       "\n",
       "                                           sentences  \\\n",
       "0  [, , ., . . . . ., — πρός ἥν ( ,, ), ὁ Πινυτός...   \n",
       "1  [Οὐδενός εὐνάτειρα Μακροπτολέμοιο δέ μάτηρ μαί...   \n",
       "2  [ποίαν σε φῶμεν γαῖαν ἐκλελοιπότα πόλει ξενοῦσ...   \n",
       "3  [Οἴκοι τά Μιλήσια: ἐπί τῶν ὅποι μή προςήκει τή...   \n",
       "4  [Κατά πετρῶν σπείρεις., Πλίνθον πλύνεις., Δικτ...   \n",
       "\n",
       "                                lemmatized_sentences  source lemmata_source  \\\n",
       "0  [[], [], [], [], [πινυτός, ἀντιγράφω], [θαυμάζ...  glaux1         glaux1   \n",
       "1  [[εὐνητήρ, μακροπτολέμον, μήτηρ, μαῖα, ἀντιπέτ...  glaux1         glaux1   \n",
       "2  [[φημί, γῆ, ἐκλείπω, πόλις, ξενοῦσθαι], [πάτρα...  glaux1         glaux1   \n",
       "3  [[μιλήσιος, πργοςήκω, τρυφή, ἐπιδείκνυμι], [ἀρ...  glaux1         glaux1   \n",
       "4  [[πέτρα, σπείρω], [πλίνθος, πλύνω], [δίκτυον, ...  glaux1         glaux1   \n",
       "\n",
       "   not_before  not_after                    tlg_epithet genre provenience  \\\n",
       "0       101.0      200.0                             []    []   christian   \n",
       "1      -400.0     -201.0                     [Bucolici]    []       pagan   \n",
       "2      -500.0     -401.0                      [Tragici]    []       pagan   \n",
       "3         1.0      200.0  [Biographi, Philosophici/-ae]    []       pagan   \n",
       "4         1.0      200.0  [Biographi, Philosophici/-ae]    []       pagan   \n",
       "\n",
       "   wordcount  lemmatacount  \n",
       "0        109            34  \n",
       "1         95            59  \n",
       "2      21516         10315  \n",
       "3       3206          1496  \n",
       "4        195           125  "
      ],
      "text/html": [
       "<div>\n",
       "<style scoped>\n",
       "    .dataframe tbody tr th:only-of-type {\n",
       "        vertical-align: middle;\n",
       "    }\n",
       "\n",
       "    .dataframe tbody tr th {\n",
       "        vertical-align: top;\n",
       "    }\n",
       "\n",
       "    .dataframe thead th {\n",
       "        text-align: right;\n",
       "    }\n",
       "</style>\n",
       "<table border=\"1\" class=\"dataframe\">\n",
       "  <thead>\n",
       "    <tr style=\"text-align: right;\">\n",
       "      <th></th>\n",
       "      <th>author_id</th>\n",
       "      <th>doc_id</th>\n",
       "      <th>filename</th>\n",
       "      <th>author</th>\n",
       "      <th>title</th>\n",
       "      <th>sentences</th>\n",
       "      <th>lemmatized_sentences</th>\n",
       "      <th>source</th>\n",
       "      <th>lemmata_source</th>\n",
       "      <th>not_before</th>\n",
       "      <th>not_after</th>\n",
       "      <th>tlg_epithet</th>\n",
       "      <th>genre</th>\n",
       "      <th>provenience</th>\n",
       "      <th>wordcount</th>\n",
       "      <th>lemmatacount</th>\n",
       "    </tr>\n",
       "  </thead>\n",
       "  <tbody>\n",
       "    <tr>\n",
       "      <th>0</th>\n",
       "      <td>ogl0001</td>\n",
       "      <td>ogl0001.ogl001</td>\n",
       "      <td>ogl0001.ogl001.1st1K-grc1.xml</td>\n",
       "      <td>Pinytus</td>\n",
       "      <td>De Epistola Pinyti ad Dionysium</td>\n",
       "      <td>[, , ., . . . . ., — πρός ἥν ( ,, ), ὁ Πινυτός...</td>\n",
       "      <td>[[], [], [], [], [πινυτός, ἀντιγράφω], [θαυμάζ...</td>\n",
       "      <td>glaux1</td>\n",
       "      <td>glaux1</td>\n",
       "      <td>101.0</td>\n",
       "      <td>200.0</td>\n",
       "      <td>[]</td>\n",
       "      <td>[]</td>\n",
       "      <td>christian</td>\n",
       "      <td>109</td>\n",
       "      <td>34</td>\n",
       "    </tr>\n",
       "    <tr>\n",
       "      <th>1</th>\n",
       "      <td>tlg0005</td>\n",
       "      <td>tlg0005.tlg003</td>\n",
       "      <td>tlg0005.tlg003.1st1K-grc1.xml</td>\n",
       "      <td>Theocritus</td>\n",
       "      <td>Syrinx</td>\n",
       "      <td>[Οὐδενός εὐνάτειρα Μακροπτολέμοιο δέ μάτηρ μαί...</td>\n",
       "      <td>[[εὐνητήρ, μακροπτολέμον, μήτηρ, μαῖα, ἀντιπέτ...</td>\n",
       "      <td>glaux1</td>\n",
       "      <td>glaux1</td>\n",
       "      <td>-400.0</td>\n",
       "      <td>-201.0</td>\n",
       "      <td>[Bucolici]</td>\n",
       "      <td>[]</td>\n",
       "      <td>pagan</td>\n",
       "      <td>95</td>\n",
       "      <td>59</td>\n",
       "    </tr>\n",
       "    <tr>\n",
       "      <th>2</th>\n",
       "      <td>tlg0006</td>\n",
       "      <td>tlg0006.tlg020</td>\n",
       "      <td>tlg0006.tlg020.1st1K-grc1.xml</td>\n",
       "      <td>Euripides</td>\n",
       "      <td>Fragmenta</td>\n",
       "      <td>[ποίαν σε φῶμεν γαῖαν ἐκλελοιπότα πόλει ξενοῦσ...</td>\n",
       "      <td>[[φημί, γῆ, ἐκλείπω, πόλις, ξενοῦσθαι], [πάτρα...</td>\n",
       "      <td>glaux1</td>\n",
       "      <td>glaux1</td>\n",
       "      <td>-500.0</td>\n",
       "      <td>-401.0</td>\n",
       "      <td>[Tragici]</td>\n",
       "      <td>[]</td>\n",
       "      <td>pagan</td>\n",
       "      <td>21516</td>\n",
       "      <td>10315</td>\n",
       "    </tr>\n",
       "    <tr>\n",
       "      <th>3</th>\n",
       "      <td>tlg0007</td>\n",
       "      <td>tlg0007.tlg146</td>\n",
       "      <td>tlg0007.tlg146.1st1K-grc1.xml</td>\n",
       "      <td>Plutarch</td>\n",
       "      <td>Παροιμίαι αἷς Ἀλεξανδρεῖς ἐχρῶντο</td>\n",
       "      <td>[Οἴκοι τά Μιλήσια: ἐπί τῶν ὅποι μή προςήκει τή...</td>\n",
       "      <td>[[μιλήσιος, πργοςήκω, τρυφή, ἐπιδείκνυμι], [ἀρ...</td>\n",
       "      <td>glaux1</td>\n",
       "      <td>glaux1</td>\n",
       "      <td>1.0</td>\n",
       "      <td>200.0</td>\n",
       "      <td>[Biographi, Philosophici/-ae]</td>\n",
       "      <td>[]</td>\n",
       "      <td>pagan</td>\n",
       "      <td>3206</td>\n",
       "      <td>1496</td>\n",
       "    </tr>\n",
       "    <tr>\n",
       "      <th>4</th>\n",
       "      <td>tlg0007</td>\n",
       "      <td>tlg0007.tlg147</td>\n",
       "      <td>tlg0007.tlg147.1st1K-grc1.xml</td>\n",
       "      <td>Plutarch</td>\n",
       "      <td>Ἐκλογὴ περὶ τῶν ἀδυνάτων</td>\n",
       "      <td>[Κατά πετρῶν σπείρεις., Πλίνθον πλύνεις., Δικτ...</td>\n",
       "      <td>[[πέτρα, σπείρω], [πλίνθος, πλύνω], [δίκτυον, ...</td>\n",
       "      <td>glaux1</td>\n",
       "      <td>glaux1</td>\n",
       "      <td>1.0</td>\n",
       "      <td>200.0</td>\n",
       "      <td>[Biographi, Philosophici/-ae]</td>\n",
       "      <td>[]</td>\n",
       "      <td>pagan</td>\n",
       "      <td>195</td>\n",
       "      <td>125</td>\n",
       "    </tr>\n",
       "  </tbody>\n",
       "</table>\n",
       "</div>"
      ]
     },
     "execution_count": 3,
     "metadata": {},
     "output_type": "execute_result"
    }
   ],
   "execution_count": 3
  },
  {
   "metadata": {
    "ExecuteTime": {
     "end_time": "2024-11-28T08:40:36.322282Z",
     "start_time": "2024-11-28T08:40:36.294367Z"
    }
   },
   "cell_type": "code",
   "source": "LAGT[LAGT[\"author\"].str.contains(\"Polyb\")]",
   "outputs": [
    {
     "data": {
      "text/plain": [
       "     author_id          doc_id                         filename    author  \\\n",
       "1617   tlg0543  tlg0543.tlg001  tlg0543.tlg001.perseus-grc2.xml  Polybius   \n",
       "\n",
       "          title                                          sentences  \\\n",
       "1617  Histories  [εἰ μὲν τοῖς πρὸ ἡμῶν ἀναγράφουσι τὰς πράξεις ...   \n",
       "\n",
       "                                   lemmatized_sentences  source  \\\n",
       "1617  [[ἀναγράφω, πρᾶξις, παραλείπω, συμβαίνω, ἱστορ...  glaux1   \n",
       "\n",
       "     lemmata_source  not_before  not_after      tlg_epithet genre provenience  \\\n",
       "1617         glaux1      -300.0     -101.0  [Historici/-ae]    []       pagan   \n",
       "\n",
       "      wordcount  lemmatacount  \n",
       "1617     349323        140133  "
      ],
      "text/html": [
       "<div>\n",
       "<style scoped>\n",
       "    .dataframe tbody tr th:only-of-type {\n",
       "        vertical-align: middle;\n",
       "    }\n",
       "\n",
       "    .dataframe tbody tr th {\n",
       "        vertical-align: top;\n",
       "    }\n",
       "\n",
       "    .dataframe thead th {\n",
       "        text-align: right;\n",
       "    }\n",
       "</style>\n",
       "<table border=\"1\" class=\"dataframe\">\n",
       "  <thead>\n",
       "    <tr style=\"text-align: right;\">\n",
       "      <th></th>\n",
       "      <th>author_id</th>\n",
       "      <th>doc_id</th>\n",
       "      <th>filename</th>\n",
       "      <th>author</th>\n",
       "      <th>title</th>\n",
       "      <th>sentences</th>\n",
       "      <th>lemmatized_sentences</th>\n",
       "      <th>source</th>\n",
       "      <th>lemmata_source</th>\n",
       "      <th>not_before</th>\n",
       "      <th>not_after</th>\n",
       "      <th>tlg_epithet</th>\n",
       "      <th>genre</th>\n",
       "      <th>provenience</th>\n",
       "      <th>wordcount</th>\n",
       "      <th>lemmatacount</th>\n",
       "    </tr>\n",
       "  </thead>\n",
       "  <tbody>\n",
       "    <tr>\n",
       "      <th>1617</th>\n",
       "      <td>tlg0543</td>\n",
       "      <td>tlg0543.tlg001</td>\n",
       "      <td>tlg0543.tlg001.perseus-grc2.xml</td>\n",
       "      <td>Polybius</td>\n",
       "      <td>Histories</td>\n",
       "      <td>[εἰ μὲν τοῖς πρὸ ἡμῶν ἀναγράφουσι τὰς πράξεις ...</td>\n",
       "      <td>[[ἀναγράφω, πρᾶξις, παραλείπω, συμβαίνω, ἱστορ...</td>\n",
       "      <td>glaux1</td>\n",
       "      <td>glaux1</td>\n",
       "      <td>-300.0</td>\n",
       "      <td>-101.0</td>\n",
       "      <td>[Historici/-ae]</td>\n",
       "      <td>[]</td>\n",
       "      <td>pagan</td>\n",
       "      <td>349323</td>\n",
       "      <td>140133</td>\n",
       "    </tr>\n",
       "  </tbody>\n",
       "</table>\n",
       "</div>"
      ]
     },
     "execution_count": 6,
     "metadata": {},
     "output_type": "execute_result"
    }
   ],
   "execution_count": 6
  },
  {
   "cell_type": "markdown",
   "metadata": {},
   "source": [
    "### Basic overview"
   ]
  },
  {
   "cell_type": "code",
   "execution_count": 31,
   "metadata": {
    "ExecuteTime": {
     "end_time": "2024-09-14T05:48:50.289612Z",
     "start_time": "2024-09-14T05:48:50.286521Z"
    }
   },
   "outputs": [
    {
     "data": {
      "text/plain": [
       "35809325"
      ]
     },
     "execution_count": 31,
     "metadata": {},
     "output_type": "execute_result"
    }
   ],
   "source": [
    "LAGT[\"wordcount\"].sum()"
   ]
  },
  {
   "cell_type": "code",
   "execution_count": 33,
   "metadata": {
    "ExecuteTime": {
     "end_time": "2024-09-14T05:49:09.850640Z",
     "start_time": "2024-09-14T05:49:09.847281Z"
    }
   },
   "outputs": [
    {
     "data": {
      "text/plain": [
       "475"
      ]
     },
     "execution_count": 33,
     "metadata": {},
     "output_type": "execute_result"
    }
   ],
   "source": [
    "len(LAGT[\"author_id\"].unique())"
   ]
  },
  {
   "cell_type": "code",
   "execution_count": 34,
   "metadata": {
    "ExecuteTime": {
     "end_time": "2024-09-14T06:04:55.153611Z",
     "start_time": "2024-09-14T06:04:55.147217Z"
    }
   },
   "outputs": [
    {
     "data": {
      "text/plain": [
       "Index(['author_id', 'doc_id', 'filename', 'author', 'title', 'sentences',\n",
       "       'lemmatized_sentences', 'source', 'lemmata_source', 'not_before',\n",
       "       'not_after', 'tlg_epithet', 'genre', 'provenience', 'wordcount',\n",
       "       'lemmatacount'],\n",
       "      dtype='object')"
      ]
     },
     "execution_count": 34,
     "metadata": {},
     "output_type": "execute_result"
    }
   ],
   "source": [
    "LAGT.columns"
   ]
  },
  {
   "cell_type": "markdown",
   "metadata": {},
   "source": [
    "### Basic text analysis"
   ]
  },
  {
   "cell_type": "code",
   "execution_count": 5,
   "metadata": {
    "ExecuteTime": {
     "end_time": "2024-09-14T05:07:58.448928Z",
     "start_time": "2024-09-14T05:07:58.418779Z"
    }
   },
   "outputs": [],
   "source": [
    "# extract lemmatized sentences for a subset of documents, based on their provenience\n",
    "val = \"christian\"\n",
    "lemmatized_sentences_subset = [sent for work in LAGT[LAGT[\"provenience\"] == val][\"lemmatized_sentences\"] for sent in work]"
   ]
  },
  {
   "cell_type": "code",
   "execution_count": 9,
   "metadata": {
    "ExecuteTime": {
     "end_time": "2024-09-14T05:12:32.834844Z",
     "start_time": "2024-09-14T05:12:30.981526Z"
    }
   },
   "outputs": [
    {
     "data": {
      "text/plain": [
       "1646"
      ]
     },
     "execution_count": 9,
     "metadata": {},
     "output_type": "execute_result"
    }
   ],
   "source": [
    "# filter for sentences containing a certain lemma\n",
    "lemma = \"ἐχθρός\"\n",
    "filtered_sentences = [sent for sent in lemmatized_sentences_subset if lemma in sent]\n",
    "len(filtered_sentences)"
   ]
  },
  {
   "cell_type": "code",
   "execution_count": 10,
   "metadata": {
    "ExecuteTime": {
     "end_time": "2024-09-14T05:12:58.007527Z",
     "start_time": "2024-09-14T05:12:58.000237Z"
    }
   },
   "outputs": [
    {
     "data": {
      "text/plain": [
       "[('ἐχθρός', 1722),\n",
       " ('θεός', 331),\n",
       " ('λέγω', 232),\n",
       " ('γίγνομαι', 226),\n",
       " ('οὗτος', 202),\n",
       " ('φημί', 145),\n",
       " ('εἰμί', 131),\n",
       " ('κύριος', 126),\n",
       " ('πούς', 123),\n",
       " ('ἄνθρωπος', 113)]"
      ]
     },
     "execution_count": 10,
     "metadata": {},
     "output_type": "execute_result"
    }
   ],
   "source": [
    "# calculate frequencies within these sentences\n",
    "# (1) flat the sentences into one list of words\n",
    "lemmata_flat = [l for s in filtered_sentences for l in s]\n",
    "# (2) count the frequencies\n",
    "freqs = Counter(lemmata_flat)\n",
    "# (3) # subselect a set of most frequent words\n",
    "freqs_most_common = freqs.most_common(100)\n",
    "freqs_most_common[:10]"
   ]
  },
  {
   "cell_type": "markdown",
   "metadata": {},
   "source": [
    "### Working with the morphological data\n",
    "\n",
    "The morphological data allow us to navigate there and back between raw sentences and the lemmatized data. Since these files are named by the same IDs as we use in our metadata `doc_id` column variable, the mapping between the two is very straightforward."
   ]
  },
  {
   "cell_type": "code",
   "execution_count": 16,
   "metadata": {
    "ExecuteTime": {
     "end_time": "2024-09-14T05:23:03.456269Z",
     "start_time": "2024-09-14T05:23:03.452988Z"
    }
   },
   "outputs": [
    {
     "data": {
      "text/plain": [
       "1958"
      ]
     },
     "execution_count": 16,
     "metadata": {},
     "output_type": "execute_result"
    }
   ],
   "source": [
    "# point out the directory with the morpohological data:\n",
    "source_dir = \"../../LAGT/data/large_files/sents_data_jsons/\"\n",
    "# check how many files are there....\n",
    "len(os.listdir(source_dir))"
   ]
  },
  {
   "cell_type": "code",
   "execution_count": 11,
   "metadata": {
    "ExecuteTime": {
     "end_time": "2024-09-14T05:20:15.795371Z",
     "start_time": "2024-09-14T05:20:15.791118Z"
    }
   },
   "outputs": [],
   "source": [
    "# define a subset of documents on the basis of provenience\n",
    "# get doc IDs for all documents from this subset\n",
    "ids = LAGT[(LAGT[\"provenience\"]==\"christian\")][\"doc_id\"].tolist()"
   ]
  },
  {
   "cell_type": "code",
   "execution_count": 22,
   "metadata": {
    "ExecuteTime": {
     "end_time": "2024-09-14T05:33:19.395059Z",
     "start_time": "2024-09-14T05:33:19.389763Z"
    }
   },
   "outputs": [],
   "source": [
    "# define a function to use the ids to load morphological data either \n",
    "# (1) for all sentences from all documents from the subset (if the target is None):\n",
    "# (2) only for sentences containing a target lemma\n",
    "def load_sentence_data(ids, target=None, source_dir = source_dir):\n",
    "    sents_data = []\n",
    "    for id in ids:\n",
    "        try:\n",
    "            file_sents_data = json.load(open(source_dir + id + \".json\", \"rb\"))\n",
    "            for doc_id, sent_n, sent_text, sent_data in file_sents_data:\n",
    "                lemmata = [tup[1] for tup in sent_data]\n",
    "                if target != None:\n",
    "                    if target in lemmata:\n",
    "                        sents_data.append((doc_id, sent_n, sent_text, sent_data))\n",
    "                else:\n",
    "                    sents_data.append((doc_id, sent_n, sent_text, sent_data))\n",
    "        except:\n",
    "            print(\"data for \" + id + \" not found\")\n",
    "    return sents_data"
   ]
  },
  {
   "cell_type": "code",
   "execution_count": 28,
   "metadata": {
    "ExecuteTime": {
     "end_time": "2024-09-14T05:39:11.743202Z",
     "start_time": "2024-09-14T05:39:11.736005Z"
    }
   },
   "outputs": [
    {
     "name": "stdout",
     "output_type": "stream",
     "text": [
      "799515\n"
     ]
    },
    {
     "data": {
      "text/plain": [
       "[('tlg0317.tlg001',\n",
       "  983,\n",
       "  'ἐκ πολλοῦ καί τοῦ ἀνδρός κεχωρισμένης αὐτῆς διά θεοσέβειαν',\n",
       "  [['ἐκ', 'ἐκ', 'r', [0, 2]],\n",
       "   ['πολλοῦ', 'πολύς', 'a', [3, 9]],\n",
       "   ['καί', 'καί', 'c', [10, 13]],\n",
       "   ['τοῦ', 'ὁ', 'l', [14, 17]],\n",
       "   ['ἀνδρός', 'ἀνήρ', 'n', [18, 24]],\n",
       "   ['κεχωρισμένης', 'κεχωρινέσμαι', 'v', [25, 37]],\n",
       "   ['αὐτῆς', 'αὐτός', 'p', [38, 43]],\n",
       "   ['διά', 'διά', 'r', [44, 47]],\n",
       "   ['θεοσέβειαν', 'θεοσέβεια', 'n', [48, 58]]]),\n",
       " ('tlg0317.tlg001', 984, '.', [['.', '.', 'u', [0, 1]]]),\n",
       " ('tlg0317.tlg001',\n",
       "  985,\n",
       "  'σύ μόνος ἀγνοεῖς ὅτι μή πρίν ὤν ὁ οἴκου ‖ οὗ εἰλ.',\n",
       "  [['σύ', 'σύ', 'p', [0, 2]],\n",
       "   ['μόνος', 'μόνος', 'a', [3, 8]],\n",
       "   ['ἀγνοεῖς', 'ἀγνοέω', 'v', [9, 16]],\n",
       "   ['ὅτι', 'ὅτι', 'c', [17, 20]],\n",
       "   ['μή', 'μή', 'r', [21, 23]],\n",
       "   ['πρίν', 'πρίν', 'c', [24, 28]],\n",
       "   ['ὤν', 'οὖν', 'x', [29, 31]],\n",
       "   ['ὁ', 'ὁ', 'l', [32, 33]],\n",
       "   ['οἴκου', 'οἶκος', 'n', [34, 39]],\n",
       "   ['‖', '‖', 'v', [40, 41]],\n",
       "   ['οὗ', 'ὅς', 'r', [42, 44]],\n",
       "   ['εἰλ', 'εἰλ', 'v', [45, 48]],\n",
       "   ['.', '.', 'u', [48, 49]]])]"
      ]
     },
     "execution_count": 28,
     "metadata": {},
     "output_type": "execute_result"
    }
   ],
   "source": [
    "# load all sentence data from a subset of documents:\n",
    "sents_data_all = load_sentence_data(ids)\n",
    "# print the number of sentences:\n",
    "print(len(sents_data_all))\n",
    "# look at data for a couple of sentences, to get an idea of the overall shape of the data...\n",
    "sents_data_all[1000:1003]"
   ]
  },
  {
   "cell_type": "code",
   "execution_count": 29,
   "metadata": {
    "ExecuteTime": {
     "end_time": "2024-09-14T05:40:31.942554Z",
     "start_time": "2024-09-14T05:40:14.133955Z"
    }
   },
   "outputs": [
    {
     "name": "stdout",
     "output_type": "stream",
     "text": [
      "1648\n"
     ]
    },
    {
     "data": {
      "text/plain": [
       "[('tlg0317.tlg001',\n",
       "  352,\n",
       "  'ὀφθαλμός ἐχθρῶν ἔπληξέ με·',\n",
       "  [['ὀφθαλμός', 'ὀφθαλμός', 'n', [0, 8]],\n",
       "   ['ἐχθρῶν', 'ἐχθρός', 'a', [9, 15]],\n",
       "   ['ἔπληξέ', 'πλήσσω', 'v', [16, 22]],\n",
       "   ['με', 'ἐγώ', 'p', [23, 25]],\n",
       "   ['·', '·', 'u', [25, 26]]]),\n",
       " ('tlg0317.tlg001',\n",
       "  2231,\n",
       "  'ὑμέρας ‖ μέρος ‖ ἤ ‖ ἐν παῤ αἰτῶ Δ ἀλλά πυρί αἰωνίω παραδοθήσεσθε ἐν δέ φυλάξησθε καί πῦρ αἰώ- νιον καί τόν ἐχθρόν σατάν καί τά αὐτοῦ ἔνεδρα ἐκφεύξησθε καί ζωήν αἰώνιον ἐν οὐρανοῖς λήψεσθε ‖ ταῦτα εἰπών ‖ πρ.',\n",
       "  [['ὑμέρας', 'ὑμέρας', 'p', [0, 6]],\n",
       "   ['‖', '‖', 'r', [7, 8]],\n",
       "   ['μέρος', 'μέρος', 'n', [9, 14]],\n",
       "   ['‖', '‖', 'r', [15, 16]],\n",
       "   ['ἤ', 'ἤ', 'c', [17, 18]],\n",
       "   ['‖', '‖', 'r', [19, 20]],\n",
       "   ['ἐν', 'ἐν', 'x', [21, 23]],\n",
       "   ['παῤ', 'παῤ', 'r', [24, 27]],\n",
       "   ['αἰτῶ', 'αἰτέω', 'v', [28, 32]],\n",
       "   ['Δ', 'δ', 'r', [33, 34]],\n",
       "   ['ἀλλά', 'ἀλλά', 'c', [35, 39]],\n",
       "   ['πυρί', 'πῦρ', 'n', [40, 44]],\n",
       "   ['αἰωνίω', 'αἰωνέω', 'a', [45, 51]],\n",
       "   ['παραδοθήσεσθε', 'παραδοθήσομαι', 'v', [52, 65]],\n",
       "   ['ἐν', 'ἐν', 'r', [66, 68]],\n",
       "   ['δέ', 'δέ', 'r', [69, 71]],\n",
       "   ['φυλάξησθε', 'φυλάξησθεν', 'v', [72, 81]],\n",
       "   ['καί', 'καί', 'c', [82, 85]],\n",
       "   ['πῦρ', 'πῦρ', 'n', [86, 89]],\n",
       "   ['αἰώ', 'αἰώ', 'n', [90, 93]],\n",
       "   ['-', '-', 'n', [93, 94]],\n",
       "   ['νιον', 'νιος', 'a', [95, 99]],\n",
       "   ['καί', 'καί', 'c', [100, 103]],\n",
       "   ['τόν', 'ὁ', 'l', [104, 107]],\n",
       "   ['ἐχθρόν', 'ἐχθρός', 'a', [108, 114]],\n",
       "   ['σατάν', 'σατή', 'n', [115, 120]],\n",
       "   ['καί', 'καί', 'c', [121, 124]],\n",
       "   ['τά', 'ὁ', 'l', [125, 127]],\n",
       "   ['αὐτοῦ', 'αὐτός', 'p', [128, 133]],\n",
       "   ['ἔνεδρα', 'ἔνεδρα', 'n', [134, 140]],\n",
       "   ['ἐκφεύξησθε', 'κφεύχομηι', 'v', [141, 151]],\n",
       "   ['καί', 'καί', 'c', [152, 155]],\n",
       "   ['ζωήν', 'ζωή', 'n', [156, 160]],\n",
       "   ['αἰώνιον', 'αἰώνιος', 'a', [161, 168]],\n",
       "   ['ἐν', 'ἐν', 'r', [169, 171]],\n",
       "   ['οὐρανοῖς', 'οὐρανός', 'n', [172, 180]],\n",
       "   ['λήψεσθε', 'λαμβάνω', 'v', [181, 188]],\n",
       "   ['‖', '‖', 'c', [189, 190]],\n",
       "   ['ταῦτα', 'οὗτος', 'a', [191, 196]],\n",
       "   ['εἰπών', 'λέγω', 'v', [197, 202]],\n",
       "   ['‖', '‖', 'r', [203, 204]],\n",
       "   ['πρ', 'πρ', 'r', [205, 207]],\n",
       "   ['.', '.', 'u', [207, 208]]]),\n",
       " ('tlg0317.tlg001',\n",
       "  2490,\n",
       "  'ὁ δείξας αὐτῇ τόν ἔδιον ἐχθρόν·',\n",
       "  [['ὁ', 'ὁ', 'l', [0, 1]],\n",
       "   ['δείξας', 'δείκνυμι', 'v', [2, 8]],\n",
       "   ['αὐτῇ', 'αὐτός', 'p', [9, 13]],\n",
       "   ['τόν', 'ὁ', 'l', [14, 17]],\n",
       "   ['ἔδιον', 'δίω', 'n', [18, 23]],\n",
       "   ['ἐχθρόν', 'ἐχθρός', 'a', [24, 30]],\n",
       "   ['·', '·', 'u', [30, 31]]])]"
      ]
     },
     "execution_count": 29,
     "metadata": {},
     "output_type": "execute_result"
    }
   ],
   "source": [
    "# load all sentence data from a subset of documents:\n",
    "sents_data_all = load_sentence_data(ids, \"ἐχθρός\")\n",
    "# print the number of sentences:\n",
    "print(len(sents_data_all))\n",
    "# look at data for a couple of sentences, to get an idea of the overall shape of the data...\n",
    "sents_data_all[:3]"
   ]
  },
  {
   "cell_type": "markdown",
   "metadata": {},
   "source": []
  }
 ],
 "metadata": {
  "colab": {
   "authorship_tag": "ABX9TyM+taOvEihjuZ2k0d8Zjz/M",
   "collapsed_sections": [],
   "name": "2_METADATA&LEMMATIZATION&OVERVIEW.ipynb",
   "provenance": [],
   "toc_visible": true
  },
  "kernelspec": {
   "display_name": "latin_global_kernel",
   "language": "python",
   "name": "latin_global_kernel"
  },
  "language_info": {
   "codemirror_mode": {
    "name": "ipython",
    "version": 3
   },
   "file_extension": ".py",
   "mimetype": "text/x-python",
   "name": "python",
   "nbconvert_exporter": "python",
   "pygments_lexer": "ipython3",
   "version": "3.10.12"
  }
 },
 "nbformat": 4,
 "nbformat_minor": 4
}
