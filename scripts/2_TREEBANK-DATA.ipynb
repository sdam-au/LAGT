{
 "cells": [
  {
   "cell_type": "code",
   "execution_count": 1,
   "metadata": {
    "collapsed": true,
    "ExecuteTime": {
     "end_time": "2024-01-16T21:21:11.776759Z",
     "start_time": "2024-01-16T21:21:10.965484Z"
    }
   },
   "outputs": [],
   "source": [
    "import sddk\n",
    "import pandas as pd\n",
    "import os\n",
    "import re\n",
    "from bs4 import BeautifulSoup\n",
    "import getpass\n",
    "from github import Github\n",
    "import requests\n",
    "import zipfile\n",
    "import io"
   ]
  },
  {
   "cell_type": "code",
   "outputs": [],
   "source": [
    "g = Github(\"kasev\", getpass.getpass(\"github password: \"))"
   ],
   "metadata": {
    "collapsed": false,
    "ExecuteTime": {
     "end_time": "2024-01-16T21:21:19.693192Z",
     "start_time": "2024-01-16T21:21:11.777099Z"
    }
   },
   "execution_count": 2
  },
  {
   "cell_type": "code",
   "execution_count": 3,
   "outputs": [
    {
     "name": "stdout",
     "output_type": "stream",
     "text": [
      "connection with shared folder established with you as its ordinary user\n",
      "endpoint variable has been configured to: https://sciencedata.dk/sharingout/648597%40au.dk/SDAM_root/\n"
     ]
    }
   ],
   "source": [
    "s = sddk.cloudSession(\"sciencedata.dk\", \"SDAM_root\", \"648597@au.dk\")"
   ],
   "metadata": {
    "collapsed": false,
    "ExecuteTime": {
     "end_time": "2024-01-16T21:21:31.716206Z",
     "start_time": "2024-01-16T21:21:21.202123Z"
    }
   }
  },
  {
   "cell_type": "code",
   "execution_count": 4,
   "outputs": [],
   "source": [
    "LAGT = s.read_file(\"SDAM_data/AGT/AGT_raw_20240107.json\")"
   ],
   "metadata": {
    "collapsed": false,
    "ExecuteTime": {
     "end_time": "2024-01-16T21:22:24.551576Z",
     "start_time": "2024-01-16T21:21:33.808850Z"
    }
   }
  },
  {
   "cell_type": "code",
   "outputs": [
    {
     "data": {
      "text/plain": "1892"
     },
     "execution_count": 5,
     "metadata": {},
     "output_type": "execute_result"
    }
   ],
   "source": [
    "len(LAGT)"
   ],
   "metadata": {
    "collapsed": false,
    "ExecuteTime": {
     "end_time": "2024-01-16T21:22:24.558115Z",
     "start_time": "2024-01-16T21:22:24.552999Z"
    }
   },
   "execution_count": 5
  },
  {
   "cell_type": "code",
   "outputs": [
    {
     "data": {
      "text/plain": "1818"
     },
     "execution_count": 6,
     "metadata": {},
     "output_type": "execute_result"
    }
   ],
   "source": [
    "LAGT = LAGT.drop_duplicates(subset='doc_id', keep='last')\n",
    "len(LAGT)"
   ],
   "metadata": {
    "collapsed": false,
    "ExecuteTime": {
     "end_time": "2024-01-16T21:22:24.570399Z",
     "start_time": "2024-01-16T21:22:24.557577Z"
    }
   },
   "execution_count": 6
  },
  {
   "cell_type": "code",
   "execution_count": 7,
   "outputs": [
    {
     "data": {
      "text/plain": "   author_id            doc_id                         filename  \\\n0    ggm0001    ggm0001.ggm001    ggm0001.ggm001.1st1K-grc1.xml   \n2    ogl0001    ogl0001.ogl001    ogl0001.ogl001.1st1K-grc1.xml   \n3  stoa0033a  stoa0033a.tlg028  stoa0033a.tlg028.1st1K-grc1.xml   \n4  stoa0033a  stoa0033a.tlg043  stoa0033a.tlg043.1st1K-grc1.xml   \n5   stoa0121  stoa0121.stoa001    stoa0121.stoa001.opp-grc1.xml   \n\n             author                            title  \\\n0         Anonymous               Anametresis Pontou   \n2           Pinytus  De Epistola Pinyti ad Dionysium   \n3  pseudo-Aristotle                         De mundo   \n4  pseudo-Aristotle                       De spiritu   \n5         Eutropius     Breviarium historiae romanae   \n\n                                              string  wordcount source  \n0  1. Χρὴ γινώσκειν ὅτι πάσης τῆς γῆς ὁ περίμετρο...        382   1Kgr  \n2  FRAGMENTUM BEATI PINYTI, CNOSSI IN CRETA EPISC...        180   1Kgr  \n3  ΠΟΛΛΑΚΙΣ μὲν ἔμοιγε θεῖόν τι καὶ δαιμόνιον ὄντ...       6294   1Kgr  \n4  ΤΙΣ ἡ τοῦ ἐμφύτου πνεύματος διαμονή, καὶ τίς ἡ...       3459   1Kgr  \n5  Τῆς Ῥωμαϊκῆς βασιλείας ἐν προοιμίοις οὐδὲν ἐγέ...      23867   1Kgr  ",
      "text/html": "<div>\n<style scoped>\n    .dataframe tbody tr th:only-of-type {\n        vertical-align: middle;\n    }\n\n    .dataframe tbody tr th {\n        vertical-align: top;\n    }\n\n    .dataframe thead th {\n        text-align: right;\n    }\n</style>\n<table border=\"1\" class=\"dataframe\">\n  <thead>\n    <tr style=\"text-align: right;\">\n      <th></th>\n      <th>author_id</th>\n      <th>doc_id</th>\n      <th>filename</th>\n      <th>author</th>\n      <th>title</th>\n      <th>string</th>\n      <th>wordcount</th>\n      <th>source</th>\n    </tr>\n  </thead>\n  <tbody>\n    <tr>\n      <th>0</th>\n      <td>ggm0001</td>\n      <td>ggm0001.ggm001</td>\n      <td>ggm0001.ggm001.1st1K-grc1.xml</td>\n      <td>Anonymous</td>\n      <td>Anametresis Pontou</td>\n      <td>1. Χρὴ γινώσκειν ὅτι πάσης τῆς γῆς ὁ περίμετρο...</td>\n      <td>382</td>\n      <td>1Kgr</td>\n    </tr>\n    <tr>\n      <th>2</th>\n      <td>ogl0001</td>\n      <td>ogl0001.ogl001</td>\n      <td>ogl0001.ogl001.1st1K-grc1.xml</td>\n      <td>Pinytus</td>\n      <td>De Epistola Pinyti ad Dionysium</td>\n      <td>FRAGMENTUM BEATI PINYTI, CNOSSI IN CRETA EPISC...</td>\n      <td>180</td>\n      <td>1Kgr</td>\n    </tr>\n    <tr>\n      <th>3</th>\n      <td>stoa0033a</td>\n      <td>stoa0033a.tlg028</td>\n      <td>stoa0033a.tlg028.1st1K-grc1.xml</td>\n      <td>pseudo-Aristotle</td>\n      <td>De mundo</td>\n      <td>ΠΟΛΛΑΚΙΣ μὲν ἔμοιγε θεῖόν τι καὶ δαιμόνιον ὄντ...</td>\n      <td>6294</td>\n      <td>1Kgr</td>\n    </tr>\n    <tr>\n      <th>4</th>\n      <td>stoa0033a</td>\n      <td>stoa0033a.tlg043</td>\n      <td>stoa0033a.tlg043.1st1K-grc1.xml</td>\n      <td>pseudo-Aristotle</td>\n      <td>De spiritu</td>\n      <td>ΤΙΣ ἡ τοῦ ἐμφύτου πνεύματος διαμονή, καὶ τίς ἡ...</td>\n      <td>3459</td>\n      <td>1Kgr</td>\n    </tr>\n    <tr>\n      <th>5</th>\n      <td>stoa0121</td>\n      <td>stoa0121.stoa001</td>\n      <td>stoa0121.stoa001.opp-grc1.xml</td>\n      <td>Eutropius</td>\n      <td>Breviarium historiae romanae</td>\n      <td>Τῆς Ῥωμαϊκῆς βασιλείας ἐν προοιμίοις οὐδὲν ἐγέ...</td>\n      <td>23867</td>\n      <td>1Kgr</td>\n    </tr>\n  </tbody>\n</table>\n</div>"
     },
     "execution_count": 7,
     "metadata": {},
     "output_type": "execute_result"
    }
   ],
   "source": [
    "LAGT.head(5)"
   ],
   "metadata": {
    "collapsed": false,
    "ExecuteTime": {
     "end_time": "2024-01-16T21:22:24.581939Z",
     "start_time": "2024-01-16T21:22:24.564756Z"
    }
   }
  },
  {
   "cell_type": "code",
   "outputs": [],
   "source": [
    "LAGT[\"lemmatized_sentences\"] = None"
   ],
   "metadata": {
    "collapsed": false,
    "ExecuteTime": {
     "end_time": "2024-01-16T21:22:24.616442Z",
     "start_time": "2024-01-16T21:22:24.573749Z"
    }
   },
   "execution_count": 8
  },
  {
   "cell_type": "markdown",
   "source": [
    "# MorphGNT"
   ],
   "metadata": {
    "collapsed": false
   }
  },
  {
   "cell_type": "code",
   "outputs": [],
   "source": [
    "resp = requests.get(\"https://github.com/morphgnt/sblgnt\")"
   ],
   "metadata": {
    "collapsed": false,
    "ExecuteTime": {
     "end_time": "2024-01-16T21:22:25.231303Z",
     "start_time": "2024-01-16T21:22:24.577512Z"
    }
   },
   "execution_count": 9
  },
  {
   "cell_type": "code",
   "outputs": [],
   "source": [
    "repo = g.get_user(\"morphgnt\").get_repo(\"sblgnt\" )\n",
    "contents = repo.get_contents(\"\")\n",
    "filenames = [content.path for content in contents if \".txt\" in content.path]"
   ],
   "metadata": {
    "collapsed": false,
    "ExecuteTime": {
     "end_time": "2024-01-16T21:22:26.610394Z",
     "start_time": "2024-01-16T21:22:25.234840Z"
    }
   },
   "execution_count": 10
  },
  {
   "cell_type": "code",
   "outputs": [
    {
     "data": {
      "text/plain": "27"
     },
     "execution_count": 11,
     "metadata": {},
     "output_type": "execute_result"
    }
   ],
   "source": [
    "len(filenames)"
   ],
   "metadata": {
    "collapsed": false,
    "ExecuteTime": {
     "end_time": "2024-01-16T21:22:26.629801Z",
     "start_time": "2024-01-16T21:22:26.612199Z"
    }
   },
   "execution_count": 11
  },
  {
   "cell_type": "code",
   "outputs": [],
   "source": [
    "base_url = \"https://raw.githubusercontent.com/morphgnt/sblgnt/master/\"\n",
    "# test with individual book\n",
    "book = pd.read_csv(base_url + filenames[0], delimiter=\" \", header=None)"
   ],
   "metadata": {
    "collapsed": false,
    "ExecuteTime": {
     "end_time": "2024-01-16T21:22:27.785840Z",
     "start_time": "2024-01-16T21:22:26.620824Z"
    }
   },
   "execution_count": 12
  },
  {
   "cell_type": "code",
   "outputs": [
    {
     "data": {
      "text/plain": "       0   1         2          3          4            5        6\n0  10101  N-  ----NSF-     Βίβλος     Βίβλος       βίβλος   βίβλος\n1  10101  N-  ----GSF-   γενέσεως   γενέσεως     γενέσεως  γένεσις\n2  10101  N-  ----GSM-      Ἰησοῦ      Ἰησοῦ        Ἰησοῦ   Ἰησοῦς\n3  10101  N-  ----GSM-    χριστοῦ    χριστοῦ      Χριστοῦ  Χριστός\n4  10101  N-  ----GSM-       υἱοῦ       υἱοῦ         υἱοῦ     υἱός\n5  10101  N-  ----GSM-      Δαυὶδ      Δαυὶδ        Δαυίδ    Δαυίδ\n6  10101  N-  ----GSM-       υἱοῦ       υἱοῦ         υἱοῦ     υἱός\n7  10101  N-  ----GSM-    Ἀβραάμ.     Ἀβραάμ       Ἀβραάμ   Ἀβραάμ\n8  10102  N-  ----NSM-     Ἀβραὰμ     Ἀβραὰμ       Ἀβραάμ   Ἀβραάμ\n9  10102  V-  3AAI-S--  ἐγέννησεν  ἐγέννησεν  ἐγέννησε(ν)   γεννάω",
      "text/html": "<div>\n<style scoped>\n    .dataframe tbody tr th:only-of-type {\n        vertical-align: middle;\n    }\n\n    .dataframe tbody tr th {\n        vertical-align: top;\n    }\n\n    .dataframe thead th {\n        text-align: right;\n    }\n</style>\n<table border=\"1\" class=\"dataframe\">\n  <thead>\n    <tr style=\"text-align: right;\">\n      <th></th>\n      <th>0</th>\n      <th>1</th>\n      <th>2</th>\n      <th>3</th>\n      <th>4</th>\n      <th>5</th>\n      <th>6</th>\n    </tr>\n  </thead>\n  <tbody>\n    <tr>\n      <th>0</th>\n      <td>10101</td>\n      <td>N-</td>\n      <td>----NSF-</td>\n      <td>Βίβλος</td>\n      <td>Βίβλος</td>\n      <td>βίβλος</td>\n      <td>βίβλος</td>\n    </tr>\n    <tr>\n      <th>1</th>\n      <td>10101</td>\n      <td>N-</td>\n      <td>----GSF-</td>\n      <td>γενέσεως</td>\n      <td>γενέσεως</td>\n      <td>γενέσεως</td>\n      <td>γένεσις</td>\n    </tr>\n    <tr>\n      <th>2</th>\n      <td>10101</td>\n      <td>N-</td>\n      <td>----GSM-</td>\n      <td>Ἰησοῦ</td>\n      <td>Ἰησοῦ</td>\n      <td>Ἰησοῦ</td>\n      <td>Ἰησοῦς</td>\n    </tr>\n    <tr>\n      <th>3</th>\n      <td>10101</td>\n      <td>N-</td>\n      <td>----GSM-</td>\n      <td>χριστοῦ</td>\n      <td>χριστοῦ</td>\n      <td>Χριστοῦ</td>\n      <td>Χριστός</td>\n    </tr>\n    <tr>\n      <th>4</th>\n      <td>10101</td>\n      <td>N-</td>\n      <td>----GSM-</td>\n      <td>υἱοῦ</td>\n      <td>υἱοῦ</td>\n      <td>υἱοῦ</td>\n      <td>υἱός</td>\n    </tr>\n    <tr>\n      <th>5</th>\n      <td>10101</td>\n      <td>N-</td>\n      <td>----GSM-</td>\n      <td>Δαυὶδ</td>\n      <td>Δαυὶδ</td>\n      <td>Δαυίδ</td>\n      <td>Δαυίδ</td>\n    </tr>\n    <tr>\n      <th>6</th>\n      <td>10101</td>\n      <td>N-</td>\n      <td>----GSM-</td>\n      <td>υἱοῦ</td>\n      <td>υἱοῦ</td>\n      <td>υἱοῦ</td>\n      <td>υἱός</td>\n    </tr>\n    <tr>\n      <th>7</th>\n      <td>10101</td>\n      <td>N-</td>\n      <td>----GSM-</td>\n      <td>Ἀβραάμ.</td>\n      <td>Ἀβραάμ</td>\n      <td>Ἀβραάμ</td>\n      <td>Ἀβραάμ</td>\n    </tr>\n    <tr>\n      <th>8</th>\n      <td>10102</td>\n      <td>N-</td>\n      <td>----NSM-</td>\n      <td>Ἀβραὰμ</td>\n      <td>Ἀβραὰμ</td>\n      <td>Ἀβραάμ</td>\n      <td>Ἀβραάμ</td>\n    </tr>\n    <tr>\n      <th>9</th>\n      <td>10102</td>\n      <td>V-</td>\n      <td>3AAI-S--</td>\n      <td>ἐγέννησεν</td>\n      <td>ἐγέννησεν</td>\n      <td>ἐγέννησε(ν)</td>\n      <td>γεννάω</td>\n    </tr>\n  </tbody>\n</table>\n</div>"
     },
     "execution_count": 13,
     "metadata": {},
     "output_type": "execute_result"
    }
   ],
   "source": [
    "book.head(10)"
   ],
   "metadata": {
    "collapsed": false,
    "ExecuteTime": {
     "end_time": "2024-01-16T21:22:27.789865Z",
     "start_time": "2024-01-16T21:22:27.781795Z"
    }
   },
   "execution_count": 13
  },
  {
   "cell_type": "code",
   "outputs": [],
   "source": [
    "book = pd.read_csv(base_url + filenames[0], delimiter=\" \", header=None)\n",
    "book.columns = [\"verse\", \"pos\", \"parsing\", \"word_punct\", \"word\", \"norm\", \"lemma\"]\n",
    "book_sents = []\n",
    "sent_lemmata = []\n",
    "raw_sent = \"\"\n",
    "for word, pos, lemma in zip(book[\"word_punct\"], book[\"pos\"], book[\"lemma\"]):\n",
    "    raw_sent += word + \" \"\n",
    "    if pos[0] in [\"N\", \"A\", \"V\"]:\n",
    "        sent_lemmata.append(lemma)\n",
    "    if re.search(\"[\\·\\.\\;\\!]\", word[-1]):\n",
    "        book_sents.append(sent_lemmata) # (raw_sent, sent_lemmata))\n",
    "        sent_lemmata = []\n",
    "        raw_sent = \"\""
   ],
   "metadata": {
    "collapsed": false,
    "ExecuteTime": {
     "end_time": "2024-01-16T21:22:27.952428Z",
     "start_time": "2024-01-16T21:22:27.787499Z"
    }
   },
   "execution_count": 14
  },
  {
   "cell_type": "code",
   "outputs": [
    {
     "data": {
      "text/plain": "1679"
     },
     "execution_count": 15,
     "metadata": {},
     "output_type": "execute_result"
    }
   ],
   "source": [
    "len(book_sents)"
   ],
   "metadata": {
    "collapsed": false,
    "ExecuteTime": {
     "end_time": "2024-01-16T21:22:27.964553Z",
     "start_time": "2024-01-16T21:22:27.952138Z"
    }
   },
   "execution_count": 15
  },
  {
   "cell_type": "code",
   "outputs": [],
   "source": [
    "books_sents = []\n",
    "for filename in filenames:\n",
    "    book = pd.read_csv(base_url + filename, delimiter=\" \", header=None)\n",
    "    book.columns = [\"verse\", \"pos\", \"parsing\", \"word_punct\", \"word\", \"norm\", \"lemma\"]\n",
    "    book_sents = [] \n",
    "    sent_lemmata = []\n",
    "    raw_sent = \"\"\n",
    "    for word, pos, lemma in zip(book[\"word_punct\"], book[\"pos\"], book[\"lemma\"]):\n",
    "        raw_sent += word + \" \"\n",
    "        if pos[0] in [\"N\", \"A\", \"V\"]:\n",
    "            sent_lemmata.append(lemma)\n",
    "        if re.search(\"[\\·\\.\\;\\!]\", word[-1]):\n",
    "            book_sents.append(sent_lemmata) # (raw_sent, sent_lemmata))\n",
    "            sent_lemmata = []\n",
    "            raw_sent = \"\"\n",
    "    books_sents.append({\"filename\": filename, \"lemmatized_sentences\" : book_sents})"
   ],
   "metadata": {
    "collapsed": false,
    "ExecuteTime": {
     "end_time": "2024-01-16T21:22:36.753489Z",
     "start_time": "2024-01-16T21:22:27.957495Z"
    }
   },
   "execution_count": 16
  },
  {
   "cell_type": "code",
   "outputs": [
    {
     "data": {
      "text/plain": "27"
     },
     "execution_count": 17,
     "metadata": {},
     "output_type": "execute_result"
    }
   ],
   "source": [
    "len(books_sents)"
   ],
   "metadata": {
    "collapsed": false,
    "ExecuteTime": {
     "end_time": "2024-01-16T21:22:36.761021Z",
     "start_time": "2024-01-16T21:22:36.755344Z"
    }
   },
   "execution_count": 17
  },
  {
   "cell_type": "code",
   "outputs": [],
   "source": [
    "morphgnt_dict = dict(zip(LAGT[LAGT[\"doc_id\"].str.startswith(\"tlg0031\")][\"doc_id\"].tolist(), books_sents))"
   ],
   "metadata": {
    "collapsed": false,
    "ExecuteTime": {
     "end_time": "2024-01-16T21:22:36.779689Z",
     "start_time": "2024-01-16T21:22:36.763348Z"
    }
   },
   "execution_count": 18
  },
  {
   "cell_type": "code",
   "outputs": [],
   "source": [
    "# this one will be gradually filled in by tlg ids and the lemmata sources\n",
    "lemmata_source_dict = {}"
   ],
   "metadata": {
    "collapsed": false,
    "ExecuteTime": {
     "end_time": "2024-01-16T21:22:36.782746Z",
     "start_time": "2024-01-16T21:22:36.769059Z"
    }
   },
   "execution_count": 19
  },
  {
   "cell_type": "code",
   "outputs": [],
   "source": [
    "def get_from_morphgnt(doc_id, lemmatized_sentences):\n",
    "    if doc_id in morphgnt_dict.keys():\n",
    "        lemmatized_sentences = morphgnt_dict[doc_id][\"lemmatized_sentences\"]\n",
    "        lemmata_source_dict[doc_id] = \"morphgnt\"\n",
    "    return lemmatized_sentences\n",
    "\n",
    "LAGT[\"lemmatized_sentences\"] = LAGT.apply(lambda row: get_from_morphgnt(row[\"doc_id\"], row[\"lemmatized_sentences\"]), axis=1)"
   ],
   "metadata": {
    "collapsed": false,
    "ExecuteTime": {
     "end_time": "2024-01-16T21:22:36.830057Z",
     "start_time": "2024-01-16T21:22:36.783283Z"
    }
   },
   "execution_count": 20
  },
  {
   "cell_type": "code",
   "outputs": [
    {
     "data": {
      "text/plain": "     author_id          doc_id                         filename author  \\\n1525   tlg0031  tlg0031.tlg001  tlg0031.tlg001.perseus-grc2.xml   None   \n1526   tlg0031  tlg0031.tlg002  tlg0031.tlg002.perseus-grc2.xml   None   \n1527   tlg0031  tlg0031.tlg003  tlg0031.tlg003.perseus-grc2.xml   None   \n1528   tlg0031  tlg0031.tlg004  tlg0031.tlg004.perseus-grc2.xml   None   \n1529   tlg0031  tlg0031.tlg005  tlg0031.tlg005.perseus-grc2.xml   None   \n\n                        title  \\\n1525  New Testament - Matthew   \n1526     New Testament - Mark   \n1527     New Testament - Luke   \n1528     New Testament - John   \n1529     New Testament - Acts   \n\n                                                 string  wordcount   source  \\\n1525    ΒΙΒΛΟΣ γενέσεως Ἰησοῦ Χριστοῦ υἱοῦ Δαυεὶδ υἱ...      18288  perseus   \n1526  \\n\\n                    ΑΡΧΗ τοῦ εὐαγγελίου Ἰη...      11275  perseus   \n1527  \\n\\n                    ΕΠΕΙΔΗΠΕΡ ΠΟΛΛΟΙ ἐπεχε...      19459  perseus   \n1528  \\n\\n                    ΕΝ ΑΡΧΗ ἦν ὁ λόγος, κα...      15592  perseus   \n1529  \\n τὸν μὲν πρῶτον λόγον ἐποιησάμην περὶ πάντων...      18405  perseus   \n\n                                   lemmatized_sentences  \n1525  [[βίβλος, γένεσις, Ἰησοῦς, Χριστός, υἱός, Δαυί...  \n1526  [[ἀρχή, εὐαγγέλιον, Ἰησοῦς, Χριστός], [γράφω, ...  \n1527  [[πολύς, ἐπιχειρέω, ἀνατάσσομαι, διήγησις, πλη...  \n1528  [[ἀρχή, εἰμί, λόγος, λόγος, εἰμί, θεός, θεός, ...  \n1529  [[πρῶτος, λόγος, ποιέω, πᾶς, Θεόφιλος, ἄρχω, Ἰ...  ",
      "text/html": "<div>\n<style scoped>\n    .dataframe tbody tr th:only-of-type {\n        vertical-align: middle;\n    }\n\n    .dataframe tbody tr th {\n        vertical-align: top;\n    }\n\n    .dataframe thead th {\n        text-align: right;\n    }\n</style>\n<table border=\"1\" class=\"dataframe\">\n  <thead>\n    <tr style=\"text-align: right;\">\n      <th></th>\n      <th>author_id</th>\n      <th>doc_id</th>\n      <th>filename</th>\n      <th>author</th>\n      <th>title</th>\n      <th>string</th>\n      <th>wordcount</th>\n      <th>source</th>\n      <th>lemmatized_sentences</th>\n    </tr>\n  </thead>\n  <tbody>\n    <tr>\n      <th>1525</th>\n      <td>tlg0031</td>\n      <td>tlg0031.tlg001</td>\n      <td>tlg0031.tlg001.perseus-grc2.xml</td>\n      <td>None</td>\n      <td>New Testament - Matthew</td>\n      <td>ΒΙΒΛΟΣ γενέσεως Ἰησοῦ Χριστοῦ υἱοῦ Δαυεὶδ υἱ...</td>\n      <td>18288</td>\n      <td>perseus</td>\n      <td>[[βίβλος, γένεσις, Ἰησοῦς, Χριστός, υἱός, Δαυί...</td>\n    </tr>\n    <tr>\n      <th>1526</th>\n      <td>tlg0031</td>\n      <td>tlg0031.tlg002</td>\n      <td>tlg0031.tlg002.perseus-grc2.xml</td>\n      <td>None</td>\n      <td>New Testament - Mark</td>\n      <td>\\n\\n                    ΑΡΧΗ τοῦ εὐαγγελίου Ἰη...</td>\n      <td>11275</td>\n      <td>perseus</td>\n      <td>[[ἀρχή, εὐαγγέλιον, Ἰησοῦς, Χριστός], [γράφω, ...</td>\n    </tr>\n    <tr>\n      <th>1527</th>\n      <td>tlg0031</td>\n      <td>tlg0031.tlg003</td>\n      <td>tlg0031.tlg003.perseus-grc2.xml</td>\n      <td>None</td>\n      <td>New Testament - Luke</td>\n      <td>\\n\\n                    ΕΠΕΙΔΗΠΕΡ ΠΟΛΛΟΙ ἐπεχε...</td>\n      <td>19459</td>\n      <td>perseus</td>\n      <td>[[πολύς, ἐπιχειρέω, ἀνατάσσομαι, διήγησις, πλη...</td>\n    </tr>\n    <tr>\n      <th>1528</th>\n      <td>tlg0031</td>\n      <td>tlg0031.tlg004</td>\n      <td>tlg0031.tlg004.perseus-grc2.xml</td>\n      <td>None</td>\n      <td>New Testament - John</td>\n      <td>\\n\\n                    ΕΝ ΑΡΧΗ ἦν ὁ λόγος, κα...</td>\n      <td>15592</td>\n      <td>perseus</td>\n      <td>[[ἀρχή, εἰμί, λόγος, λόγος, εἰμί, θεός, θεός, ...</td>\n    </tr>\n    <tr>\n      <th>1529</th>\n      <td>tlg0031</td>\n      <td>tlg0031.tlg005</td>\n      <td>tlg0031.tlg005.perseus-grc2.xml</td>\n      <td>None</td>\n      <td>New Testament - Acts</td>\n      <td>\\n τὸν μὲν πρῶτον λόγον ἐποιησάμην περὶ πάντων...</td>\n      <td>18405</td>\n      <td>perseus</td>\n      <td>[[πρῶτος, λόγος, ποιέω, πᾶς, Θεόφιλος, ἄρχω, Ἰ...</td>\n    </tr>\n  </tbody>\n</table>\n</div>"
     },
     "execution_count": 21,
     "metadata": {},
     "output_type": "execute_result"
    }
   ],
   "source": [
    "LAGT[LAGT[\"doc_id\"].str.startswith(\"tlg0031\")].head(5)"
   ],
   "metadata": {
    "collapsed": false,
    "ExecuteTime": {
     "end_time": "2024-01-16T21:22:36.861676Z",
     "start_time": "2024-01-16T21:22:36.843938Z"
    }
   },
   "execution_count": 21
  },
  {
   "cell_type": "code",
   "outputs": [
    {
     "data": {
      "text/plain": "{'tlg0031.tlg001': 'morphgnt',\n 'tlg0031.tlg002': 'morphgnt',\n 'tlg0031.tlg003': 'morphgnt',\n 'tlg0031.tlg004': 'morphgnt',\n 'tlg0031.tlg005': 'morphgnt',\n 'tlg0031.tlg006': 'morphgnt',\n 'tlg0031.tlg007': 'morphgnt',\n 'tlg0031.tlg008': 'morphgnt',\n 'tlg0031.tlg009': 'morphgnt',\n 'tlg0031.tlg010': 'morphgnt',\n 'tlg0031.tlg011': 'morphgnt',\n 'tlg0031.tlg012': 'morphgnt',\n 'tlg0031.tlg013': 'morphgnt',\n 'tlg0031.tlg014': 'morphgnt',\n 'tlg0031.tlg015': 'morphgnt',\n 'tlg0031.tlg016': 'morphgnt',\n 'tlg0031.tlg017': 'morphgnt',\n 'tlg0031.tlg018': 'morphgnt',\n 'tlg0031.tlg019': 'morphgnt',\n 'tlg0031.tlg020': 'morphgnt',\n 'tlg0031.tlg021': 'morphgnt',\n 'tlg0031.tlg022': 'morphgnt',\n 'tlg0031.tlg023': 'morphgnt',\n 'tlg0031.tlg024': 'morphgnt',\n 'tlg0031.tlg025': 'morphgnt',\n 'tlg0031.tlg026': 'morphgnt',\n 'tlg0031.tlg027': 'morphgnt'}"
     },
     "execution_count": 22,
     "metadata": {},
     "output_type": "execute_result"
    }
   ],
   "source": [
    "lemmata_source_dict"
   ],
   "metadata": {
    "collapsed": false,
    "ExecuteTime": {
     "end_time": "2024-01-16T21:22:36.865462Z",
     "start_time": "2024-01-16T21:22:36.848573Z"
    }
   },
   "execution_count": 22
  },
  {
   "cell_type": "markdown",
   "source": [
    "# LXX"
   ],
   "metadata": {
    "collapsed": false
   }
  },
  {
   "cell_type": "code",
   "outputs": [
    {
     "data": {
      "text/plain": "    author_id          doc_id                     filename       author  \\\n347   tlg0527  tlg0527.tlg001  tlg0527.tlg001.opp-grc2.xml  Septuaginta   \n348   tlg0527  tlg0527.tlg002  tlg0527.tlg002.opp-grc2.xml  Septuaginta   \n349   tlg0527  tlg0527.tlg003  tlg0527.tlg003.opp-grc2.xml  Septuaginta   \n350   tlg0527  tlg0527.tlg004  tlg0527.tlg004.opp-grc2.xml  Septuaginta   \n351   tlg0527  tlg0527.tlg005  tlg0527.tlg005.opp-grc2.xml  Septuaginta   \n\n             title                                             string  \\\n347        Genesis  ΕΝ APXH ἐποίησεν ὁ θεὸς τὸν οὐρανὸν καὶ τὴν γῆ...   \n348         Exodus  ταῦτα τὰ ὀνόματα τῶν υἱῶν Ἰσραὴλ τῶν εἰσπεπορε...   \n349      Leviticus  KAI ἀνεκάλεσεν Μωυσῆν καὶ ἐλάλησεν Κύριος αὐτῷ...   \n350         Numeri  KAI ἐλάλησεν κύριος πρὸς Μωυσῆν ἐν τῇ ἐρήμῳ τῇ...   \n351  Deuteronomium  OYTOI οἱ λόγοι οὓς ἐλάλησεν Μωυσῆς παντὶ Ἰσραὴ...   \n\n     wordcount source lemmatized_sentences  \n347      46422   1Kgr                 None  \n348      36962   1Kgr                 None  \n349      27730   1Kgr                 None  \n350      36189   1Kgr                 None  \n351      33651   1Kgr                 None  ",
      "text/html": "<div>\n<style scoped>\n    .dataframe tbody tr th:only-of-type {\n        vertical-align: middle;\n    }\n\n    .dataframe tbody tr th {\n        vertical-align: top;\n    }\n\n    .dataframe thead th {\n        text-align: right;\n    }\n</style>\n<table border=\"1\" class=\"dataframe\">\n  <thead>\n    <tr style=\"text-align: right;\">\n      <th></th>\n      <th>author_id</th>\n      <th>doc_id</th>\n      <th>filename</th>\n      <th>author</th>\n      <th>title</th>\n      <th>string</th>\n      <th>wordcount</th>\n      <th>source</th>\n      <th>lemmatized_sentences</th>\n    </tr>\n  </thead>\n  <tbody>\n    <tr>\n      <th>347</th>\n      <td>tlg0527</td>\n      <td>tlg0527.tlg001</td>\n      <td>tlg0527.tlg001.opp-grc2.xml</td>\n      <td>Septuaginta</td>\n      <td>Genesis</td>\n      <td>ΕΝ APXH ἐποίησεν ὁ θεὸς τὸν οὐρανὸν καὶ τὴν γῆ...</td>\n      <td>46422</td>\n      <td>1Kgr</td>\n      <td>None</td>\n    </tr>\n    <tr>\n      <th>348</th>\n      <td>tlg0527</td>\n      <td>tlg0527.tlg002</td>\n      <td>tlg0527.tlg002.opp-grc2.xml</td>\n      <td>Septuaginta</td>\n      <td>Exodus</td>\n      <td>ταῦτα τὰ ὀνόματα τῶν υἱῶν Ἰσραὴλ τῶν εἰσπεπορε...</td>\n      <td>36962</td>\n      <td>1Kgr</td>\n      <td>None</td>\n    </tr>\n    <tr>\n      <th>349</th>\n      <td>tlg0527</td>\n      <td>tlg0527.tlg003</td>\n      <td>tlg0527.tlg003.opp-grc2.xml</td>\n      <td>Septuaginta</td>\n      <td>Leviticus</td>\n      <td>KAI ἀνεκάλεσεν Μωυσῆν καὶ ἐλάλησεν Κύριος αὐτῷ...</td>\n      <td>27730</td>\n      <td>1Kgr</td>\n      <td>None</td>\n    </tr>\n    <tr>\n      <th>350</th>\n      <td>tlg0527</td>\n      <td>tlg0527.tlg004</td>\n      <td>tlg0527.tlg004.opp-grc2.xml</td>\n      <td>Septuaginta</td>\n      <td>Numeri</td>\n      <td>KAI ἐλάλησεν κύριος πρὸς Μωυσῆν ἐν τῇ ἐρήμῳ τῇ...</td>\n      <td>36189</td>\n      <td>1Kgr</td>\n      <td>None</td>\n    </tr>\n    <tr>\n      <th>351</th>\n      <td>tlg0527</td>\n      <td>tlg0527.tlg005</td>\n      <td>tlg0527.tlg005.opp-grc2.xml</td>\n      <td>Septuaginta</td>\n      <td>Deuteronomium</td>\n      <td>OYTOI οἱ λόγοι οὓς ἐλάλησεν Μωυσῆς παντὶ Ἰσραὴ...</td>\n      <td>33651</td>\n      <td>1Kgr</td>\n      <td>None</td>\n    </tr>\n  </tbody>\n</table>\n</div>"
     },
     "execution_count": 23,
     "metadata": {},
     "output_type": "execute_result"
    }
   ],
   "source": [
    "LAGT[LAGT[\"author\"].str.contains(\"Septuaginta\", na=False)].head(5)"
   ],
   "metadata": {
    "collapsed": false,
    "ExecuteTime": {
     "end_time": "2024-01-16T21:22:36.872378Z",
     "start_time": "2024-01-16T21:22:36.852419Z"
    }
   },
   "execution_count": 23
  },
  {
   "cell_type": "code",
   "outputs": [
    {
     "data": {
      "text/plain": "['01.Gen.txt',\n '02.Exod.txt',\n '03.Lev.txt',\n '04.Num.txt',\n '05.Deut.txt',\n '06.JoshB.txt',\n '07.JoshA.txt',\n '08.JudgesB.txt',\n '09.JudgesA.txt',\n '10.Ruth.txt']"
     },
     "execution_count": 24,
     "metadata": {},
     "output_type": "execute_result"
    }
   ],
   "source": [
    "repo = g.get_user(\"nathans\").get_repo(\"lxxmorph-unicode\")\n",
    "contents = repo.get_contents(\"\")\n",
    "filenames = [content.path for content in contents if re.search(\"^\\d\\d\\.\", content.path)]\n",
    "filenames[:10]"
   ],
   "metadata": {
    "collapsed": false,
    "ExecuteTime": {
     "end_time": "2024-01-16T21:22:37.986963Z",
     "start_time": "2024-01-16T21:22:36.864017Z"
    }
   },
   "execution_count": 24
  },
  {
   "cell_type": "code",
   "outputs": [],
   "source": [
    "base_url = \"https://raw.githubusercontent.com/nathans/lxxmorph-unicode/master/\"\n",
    "lines = requests.get(base_url + filenames[0]).text.split(\"\\n\")"
   ],
   "metadata": {
    "collapsed": false,
    "ExecuteTime": {
     "end_time": "2024-01-16T21:22:38.465202Z",
     "start_time": "2024-01-16T21:22:37.985377Z"
    }
   },
   "execution_count": 25
  },
  {
   "cell_type": "code",
   "outputs": [
    {
     "data": {
      "text/plain": "['Gen 1:1',\n 'ἐν P--------- ἐν',\n 'ἀρχῇ N1--DSF--- ἀρχή',\n 'ἐποίησεν VAI-AAI3S- ποιέω',\n 'ὁ RA--NSM--- ὁ',\n 'θεὸς N2--NSM--- θεός',\n 'τὸν RA--ASM--- ὁ',\n 'οὐρανὸν N2--ASM--- οὐρανός',\n 'καὶ C--------- καί',\n 'τὴν RA--ASF--- ὁ',\n 'γῆν N1--ASF--- γῆ',\n '',\n 'Gen 1:2',\n 'ἡ RA--NSF--- ὁ',\n 'δὲ X--------- δέ']"
     },
     "execution_count": 26,
     "metadata": {},
     "output_type": "execute_result"
    }
   ],
   "source": [
    "lines[:15]"
   ],
   "metadata": {
    "collapsed": false,
    "ExecuteTime": {
     "end_time": "2024-01-16T21:22:38.480302Z",
     "start_time": "2024-01-16T21:22:38.464096Z"
    }
   },
   "execution_count": 26
  },
  {
   "cell_type": "code",
   "outputs": [],
   "source": [
    "book_verses = []\n",
    "verse = []\n",
    "for line in lines:\n",
    "    line_split = line.split()\n",
    "    if len(line_split) == 3:\n",
    "        if line_split[1][0] in [\"N\", \"V\", \"A\"]:\n",
    "            verse.append(line_split[2])\n",
    "    if len(line_split) == 0:\n",
    "        book_verses.append(verse)\n",
    "        verse= []"
   ],
   "metadata": {
    "collapsed": false,
    "ExecuteTime": {
     "end_time": "2024-01-16T21:22:38.531722Z",
     "start_time": "2024-01-16T21:22:38.498500Z"
    }
   },
   "execution_count": 27
  },
  {
   "cell_type": "code",
   "outputs": [
    {
     "data": {
      "text/plain": "[['ἀρχή', 'ποιέω', 'θεός', 'οὐρανός', 'γῆ'],\n ['γῆ',\n  'εἰμί',\n  'ἀόρατος',\n  'ἀκατασκεύαστος',\n  'σκότος',\n  'ἄβυσσος',\n  'πνεῦμα',\n  'θεός',\n  'ὕδωρ'],\n ['εἶπον', 'θεός', 'γίγνομαι', 'φῶς', 'γίγνομαι', 'φῶς']]"
     },
     "execution_count": 28,
     "metadata": {},
     "output_type": "execute_result"
    }
   ],
   "source": [
    "book_verses[:3]"
   ],
   "metadata": {
    "collapsed": false,
    "ExecuteTime": {
     "end_time": "2024-01-16T21:22:38.534167Z",
     "start_time": "2024-01-16T21:22:38.502347Z"
    }
   },
   "execution_count": 28
  },
  {
   "cell_type": "code",
   "outputs": [],
   "source": [
    "base_url = \"https://raw.githubusercontent.com/nathans/lxxmorph-unicode/master/\"\n",
    "\n",
    "books_sents = {}\n",
    "for filename in filenames:\n",
    "    lines = requests.get(base_url + filename).text.split(\"\\n\")\n",
    "    book_verses = []\n",
    "    verse = []\n",
    "    for line in lines:\n",
    "        line_split = line.split()\n",
    "        if len(line_split) == 3:\n",
    "            if line_split[1][0] in [\"N\", \"V\", \"A\"]:\n",
    "                verse.append(line_split[2])\n",
    "        if len(line_split) == 0:\n",
    "            book_verses.append(verse)\n",
    "            verse= []\n",
    "    books_sents[filename] = book_verses"
   ],
   "metadata": {
    "collapsed": false,
    "ExecuteTime": {
     "end_time": "2024-01-16T21:22:57.858096Z",
     "start_time": "2024-01-16T21:22:38.508113Z"
    }
   },
   "execution_count": 29
  },
  {
   "cell_type": "code",
   "outputs": [
    {
     "data": {
      "text/plain": "['01.Gen.txt',\n '02.Exod.txt',\n '03.Lev.txt',\n '04.Num.txt',\n '05.Deut.txt',\n '06.JoshB.txt',\n '07.JoshA.txt',\n '08.JudgesB.txt',\n '09.JudgesA.txt',\n '10.Ruth.txt',\n '11.1Sam.txt',\n '12.2Sam.txt',\n '13.1Kings.txt',\n '14.2Kings.txt',\n '15.1Chron.txt',\n '16.2Chron.txt',\n '17.1Esdras.txt',\n '18.2Esdras.txt',\n '19.Esther.txt',\n '20.Judith.txt',\n '21.TobitBA.txt',\n '22.TobitS.txt',\n '23.1Macc.txt',\n '24.2Macc.txt',\n '25.3Macc.txt',\n '26.4Macc.txt',\n '27.Psalms.txt',\n '28.Odes.txt',\n '29.Proverbs.txt',\n '30.Qoheleth.txt',\n '31.Canticles.txt',\n '32.Job.txt',\n '33.Wisdom.txt',\n '34.Sirach.txt',\n '35.PsSol.txt',\n '36.Hosea.txt',\n '37.Micah.txt',\n '38.Amos.txt',\n '39.Joel.txt',\n '40.Jonah.txt',\n '41.Obadiah.txt',\n '42.Nahum.txt',\n '43.Habakkuk.txt',\n '44.Zeph.txt',\n '45.Haggai.txt',\n '46.Zech.txt',\n '47.Malachi.txt',\n '48.Isaiah.txt',\n '49.Jer.txt',\n '50.Baruch.txt',\n '51.EpJer.txt',\n '52.Lam.txt',\n '53.Ezek.txt',\n '54.BelOG.txt',\n '55.BelTh.txt',\n '56.DanielOG.txt',\n '57.DanielTh.txt',\n '58.SusOG.txt',\n '59.SusTh.txt']"
     },
     "execution_count": 30,
     "metadata": {},
     "output_type": "execute_result"
    }
   ],
   "source": [
    "filenames"
   ],
   "metadata": {
    "collapsed": false,
    "ExecuteTime": {
     "end_time": "2024-01-16T21:22:57.863985Z",
     "start_time": "2024-01-16T21:22:57.858910Z"
    }
   },
   "execution_count": 30
  },
  {
   "cell_type": "code",
   "outputs": [],
   "source": [
    "#pd.DataFrame((zip(LAGT[LAGT[\"author_id\"]==\"tlg0527\"][\"doc_id\"], LAGT[LAGT[\"author_id\"]==\"tlg0527\"][\"title\"], filenames))).to_csv(\"../data/lxx_mapping.csv\", index=False)"
   ],
   "metadata": {
    "collapsed": false,
    "ExecuteTime": {
     "end_time": "2024-01-16T21:22:57.877091Z",
     "start_time": "2024-01-16T21:22:57.866686Z"
    }
   },
   "execution_count": 31
  },
  {
   "cell_type": "code",
   "outputs": [
    {
     "data": {
      "text/plain": "{'tlg0527.tlg001': '01.Gen.txt',\n 'tlg0527.tlg002': '02.Exod.txt',\n 'tlg0527.tlg003': '03.Lev.txt',\n 'tlg0527.tlg004': '04.Num.txt',\n 'tlg0527.tlg005': '05.Deut.txt',\n 'tlg0527.tlg006': '06.JoshB.txt',\n 'tlg0527.tlg008': '08.JudgesB.txt',\n 'tlg0527.tlg010': '10.Ruth.txt',\n 'tlg0527.tlg011': '11.1Sam.txt',\n 'tlg0527.tlg012': '12.2Sam.txt',\n 'tlg0527.tlg013': '13.1Kings.txt',\n 'tlg0527.tlg014': '14.2Kings.txt',\n 'tlg0527.tlg015': '15.1Chron.txt',\n 'tlg0527.tlg016': '16.2Chron.txt',\n 'tlg0527.tlg017': '17.1Esdras.txt',\n 'tlg0527.tlg018': '18.2Esdras.txt',\n 'tlg0527.tlg019': '19.Esther.txt',\n 'tlg0527.tlg020': '20.Judith.txt',\n 'tlg0527.tlg021': '22.TobitS.txt',\n 'tlg0527.tlg023': '23.1Macc.txt',\n 'tlg0527.tlg024': '24.2Macc.txt',\n 'tlg0527.tlg025': '25.3Macc.txt',\n 'tlg0527.tlg026': '26.4Macc.txt',\n 'tlg0527.tlg027': '27.Psalms.txt',\n 'tlg0527.tlg028': '28.Odes.txt',\n 'tlg0527.tlg029': '29.Proverbs.txt',\n 'tlg0527.tlg031': '31.Canticles.txt',\n 'tlg0527.tlg032': '32.Job.txt',\n 'tlg0527.tlg033': '33.Wisdom.txt',\n 'tlg0527.tlg034': '34.Sirach.txt',\n 'tlg0527.tlg035': '35.PsSol.txt',\n 'tlg0527.tlg036': '36.Hosea.txt',\n 'tlg0527.tlg037': '37.Micah.txt',\n 'tlg0527.tlg038': '38.Amos.txt',\n 'tlg0527.tlg039': '39.Joel.txt',\n 'tlg0527.tlg040': '40.Jonah.txt',\n 'tlg0527.tlg041': '41.Obadiah.txt',\n 'tlg0527.tlg042': '42.Nahum.txt',\n 'tlg0527.tlg043': '43.Habakkuk.txt',\n 'tlg0527.tlg044': '44.Zeph.txt',\n 'tlg0527.tlg045': '45.Haggai.txt',\n 'tlg0527.tlg046': '46.Zech.txt',\n 'tlg0527.tlg047': '47.Malachi.txt',\n 'tlg0527.tlg048': '48.Isaiah.txt',\n 'tlg0527.tlg049': '49.Jer.txt',\n 'tlg0527.tlg050': '50.Baruch.txt',\n 'tlg0527.tlg051': '52.Lam.txt',\n 'tlg0527.tlg052': '51.EpJer.txt',\n 'tlg0527.tlg053': '53.Ezek.txt',\n 'tlg0527.tlg054': '58.SusOG.txt',\n 'tlg0527.tlg055': '59.SusTh.txt',\n 'tlg0527.tlg056': '56.DanielOG.txt',\n 'tlg0527.tlg057': '57.DanielTh.txt',\n 'tlg0527.tlg058': '54.BelOG.txt',\n 'tlg0527.tlg059': '55.BelTh.txt'}"
     },
     "execution_count": 32,
     "metadata": {},
     "output_type": "execute_result"
    }
   ],
   "source": [
    "# load back the manually mapped filenames\n",
    "lxx_mapping_dict = pd.read_csv(\"../data/lxx_mapping.csv\", usecols=[0,2], index_col=0, header=None)[2].to_dict()\n",
    "lxx_mapping_dict"
   ],
   "metadata": {
    "collapsed": false,
    "ExecuteTime": {
     "end_time": "2024-01-16T21:22:57.880722Z",
     "start_time": "2024-01-16T21:22:57.870262Z"
    }
   },
   "execution_count": 32
  },
  {
   "cell_type": "code",
   "outputs": [],
   "source": [
    "def get_lxx_lemsents(doc_id, lemmatized_sentences):\n",
    "    if doc_id in lxx_mapping_dict.keys():\n",
    "        lemmatized_sentences = books_sents[lxx_mapping_dict[doc_id]]\n",
    "        lemmata_source_dict[doc_id] = \"lxxmorph\"\n",
    "    return lemmatized_sentences\n",
    "\n",
    "LAGT[\"lemmatized_sentences\"] = LAGT.apply(lambda row: get_lxx_lemsents(row[\"doc_id\"], row[\"lemmatized_sentences\"]), axis=1)"
   ],
   "metadata": {
    "collapsed": false,
    "ExecuteTime": {
     "end_time": "2024-01-16T21:22:57.933793Z",
     "start_time": "2024-01-16T21:22:57.884392Z"
    }
   },
   "execution_count": 33
  },
  {
   "cell_type": "code",
   "outputs": [
    {
     "data": {
      "text/plain": "82"
     },
     "execution_count": 34,
     "metadata": {},
     "output_type": "execute_result"
    }
   ],
   "source": [
    "LAGT[\"lemmatized_sentences\"].notnull().sum()"
   ],
   "metadata": {
    "collapsed": false,
    "ExecuteTime": {
     "end_time": "2024-01-16T21:22:57.936397Z",
     "start_time": "2024-01-16T21:22:57.888437Z"
    }
   },
   "execution_count": 34
  },
  {
   "cell_type": "markdown",
   "source": [
    "# GLAUx"
   ],
   "metadata": {
    "collapsed": false
   }
  },
  {
   "cell_type": "code",
   "outputs": [
    {
     "name": "stdout",
     "output_type": "stream",
     "text": [
      "CPU times: user 15.1 ms, sys: 2.9 ms, total: 18 ms\n",
      "Wall time: 1.62 s\n"
     ]
    }
   ],
   "source": [
    "%%time\n",
    "### GET PATHS+NAMES OF ALL FILES OF INTEREST WITHIN A GITHUB REPO\n",
    "repo = g.get_user(\"perseids-publications\").get_repo(\"glaux-trees\" )\n",
    "paths = []\n",
    "contents = repo.get_contents(\"public/xml\")\n",
    "while contents:\n",
    "    file_content = contents.pop(0)\n",
    "    path_and_name = file_content.path\n",
    "    if \".xml\" in str(path_and_name):\n",
    "        paths.append(path_and_name)"
   ],
   "metadata": {
    "collapsed": false,
    "ExecuteTime": {
     "end_time": "2024-01-16T21:22:59.514561Z",
     "start_time": "2024-01-16T21:22:57.892631Z"
    }
   },
   "execution_count": 35
  },
  {
   "cell_type": "code",
   "outputs": [
    {
     "data": {
      "text/plain": "936"
     },
     "execution_count": 36,
     "metadata": {},
     "output_type": "execute_result"
    }
   ],
   "source": [
    "len(paths)"
   ],
   "metadata": {
    "collapsed": false,
    "ExecuteTime": {
     "end_time": "2024-01-16T21:22:59.520621Z",
     "start_time": "2024-01-16T21:22:59.515586Z"
    }
   },
   "execution_count": 36
  },
  {
   "cell_type": "code",
   "outputs": [
    {
     "data": {
      "text/plain": "'public/xml/0001-001.xml'"
     },
     "execution_count": 37,
     "metadata": {},
     "output_type": "execute_result"
    }
   ],
   "source": [
    "paths[0]"
   ],
   "metadata": {
    "collapsed": false,
    "ExecuteTime": {
     "end_time": "2024-01-16T21:22:59.535879Z",
     "start_time": "2024-01-16T21:22:59.520491Z"
    }
   },
   "execution_count": 37
  },
  {
   "cell_type": "code",
   "outputs": [
    {
     "name": "stdout",
     "output_type": "stream",
     "text": [
      "<treebank direction=\"ltr\" format=\"pedalion\" version=\"2\" xml:lang=\"grc\" xmlns:saxon=\"http://saxon.sf.net/\">\n",
      " <sentence document_id=\"0001-001\" id=\"1\" subdoc=\"1\">\n",
      "  <word form=\"ἀρχόμενος\" head=\"640963\" id=\"640955\" lemma=\"ἄρχω\" line=\"1\" postag=\"v-sppemn-\" relation=\"ADV\">\n",
      "  </word>\n",
      "  <word form=\"σέο\" head=\"640955\" id=\"640956\" lemma=\"σύ\" line=\"1\" postag=\"p-s---cg-\" relation=\"OBJ\">\n",
      "  </word>\n",
      "  <word form=\",\" head=\"640955\" id=\"640957\" lemma=\",\" line=\"1\" postag=\"u--------\" relation=\"PUNCT\">\n",
      "  </word>\n",
      "  <word form=\"Φοῖβε\" head=\"640963\" id=\"640958\" lemma=\"Φοῖβος\" line=\"1\" postag=\"n-s---mv-\" relation=\"ExD\">\n",
      "  </word>\n",
      "  <word form=\",\" head=\"640955\" id=\"640959\" lemma=\",\" line=\"1\" postag=\"u--------\" relation=\"PUNCT\">\n",
      "  </word>\n",
      "  <word form=\"παλαιγενέων\" head=\"640962\" id=\"640960\" lemma=\"παλαιγενής\" line=\"1\" postag=\"a-p---mg-\" relation=\"ATR\">\n",
      "  </word>\n",
      "  <word form=\"κλέα\" head=\"640963\" id=\"640961\" lemma=\"κλέος\" line=\"1\" postag=\"n-p---na-\" relation=\"SBJ\">\n",
      "  </word>\n",
      "  <word form=\"φωτῶν\" head=\"640961\" id=\n"
     ]
    }
   ],
   "source": [
    "#test\n",
    "response = requests.get('https://raw.githubusercontent.com/perseids-publications/glaux-trees/master/' + paths[0])\n",
    "soup = BeautifulSoup(response.text, \"html.parser\")\n",
    "print(soup.prettify()[:1000])"
   ],
   "metadata": {
    "collapsed": false,
    "ExecuteTime": {
     "end_time": "2024-01-16T21:23:02.596265Z",
     "start_time": "2024-01-16T21:22:59.526793Z"
    }
   },
   "execution_count": 38
  },
  {
   "cell_type": "code",
   "execution_count": 39,
   "outputs": [
    {
     "data": {
      "text/plain": "['tlg0001.tlg001',\n 'tlg0002.tlg004',\n 'tlg0003.tlg001',\n 'tlg0003.tlg002',\n 'tlg0005.tlg001',\n 'tlg0005.tlg002',\n 'tlg0005.tlg005',\n 'tlg0006.tlg007',\n 'tlg0006.tlg008',\n 'tlg0006.tlg009']"
     },
     "execution_count": 39,
     "metadata": {},
     "output_type": "execute_result"
    }
   ],
   "source": [
    "def from_filename_to_docid(filename):\n",
    "    filename = filename.rpartition(\"/\")[2]\n",
    "    parts = re.split(\"\\-|\\.\", filename)[:2]\n",
    "    docid = \"tlg\"+parts[0] + \".tlg\" + parts[1]\n",
    "    return docid\n",
    "glaux_docids = [from_filename_to_docid(filename) for filename in paths]\n",
    "glaux_docids[:10]"
   ],
   "metadata": {
    "collapsed": false,
    "ExecuteTime": {
     "end_time": "2024-01-16T21:23:02.602163Z",
     "start_time": "2024-01-16T21:23:02.598644Z"
    }
   }
  },
  {
   "cell_type": "code",
   "execution_count": 40,
   "outputs": [],
   "source": [
    "workid_filename_dict = dict([(from_filename_to_docid(filename), filename)  for filename in paths])"
   ],
   "metadata": {
    "collapsed": false,
    "ExecuteTime": {
     "end_time": "2024-01-16T21:23:02.615690Z",
     "start_time": "2024-01-16T21:23:02.601462Z"
    }
   }
  },
  {
   "cell_type": "code",
   "execution_count": 41,
   "outputs": [
    {
     "data": {
      "text/plain": "1818"
     },
     "execution_count": 41,
     "metadata": {},
     "output_type": "execute_result"
    }
   ],
   "source": [
    "len(LAGT)"
   ],
   "metadata": {
    "collapsed": false,
    "ExecuteTime": {
     "end_time": "2024-01-16T21:23:02.618660Z",
     "start_time": "2024-01-16T21:23:02.606693Z"
    }
   }
  },
  {
   "cell_type": "code",
   "execution_count": 42,
   "outputs": [
    {
     "data": {
      "text/plain": "862"
     },
     "execution_count": 42,
     "metadata": {},
     "output_type": "execute_result"
    }
   ],
   "source": [
    "len(set(LAGT[\"doc_id\"]) & set(glaux_docids))"
   ],
   "metadata": {
    "collapsed": false,
    "ExecuteTime": {
     "end_time": "2024-01-16T21:23:02.621206Z",
     "start_time": "2024-01-16T21:23:02.611714Z"
    }
   }
  },
  {
   "cell_type": "markdown",
   "source": [
    "### GLAUx simple test with one work"
   ],
   "metadata": {
    "collapsed": false
   }
  },
  {
   "cell_type": "code",
   "outputs": [],
   "source": [
    "base_url = \"https://raw.githubusercontent.com/perseids-publications/glaux-trees/master/\""
   ],
   "metadata": {
    "collapsed": false,
    "ExecuteTime": {
     "end_time": "2024-01-16T21:23:02.676448Z",
     "start_time": "2024-01-16T21:23:02.615056Z"
    }
   },
   "execution_count": 43
  },
  {
   "cell_type": "code",
   "execution_count": 44,
   "outputs": [
    {
     "name": "stdout",
     "output_type": "stream",
     "text": [
      "<treebank direction=\"ltr\" format=\"pedalion\" version=\"2\" xml:lang=\"grc\" xmlns:saxon=\"http://saxon.sf.net/\">\n",
      " <sentence document_id=\"0001-001\" id=\"1\" subdoc=\"1\">\n",
      "  <word form=\"ἀρχόμενος\" head=\"640963\" id=\"640955\" lemma=\"ἄρχω\" line=\"1\" postag=\"v-sppemn-\" relation=\"ADV\">\n",
      "  </word>\n",
      "  <word form=\"σέο\" head=\"640955\" id=\"640956\" lemma=\"σύ\" line=\"1\" postag=\"p-s---cg-\" relation=\"OBJ\">\n",
      "  </word>\n",
      "  <word form=\",\" head=\"640955\" id=\"640957\" lemma=\",\" line=\"1\" postag=\"u--------\" relation=\"PUNCT\">\n",
      "  </word>\n",
      "  <word form=\"Φοῖβε\" head=\"640963\" id=\"640958\" lemma=\"Φοῖβος\" line=\"1\" postag=\"n-s---mv-\" relation=\"ExD\">\n",
      "  </word>\n",
      "  <word form=\",\" head=\"640955\" id=\"640959\" lemma=\",\" line=\"1\" postag=\"u--------\" relation=\"PUNCT\">\n",
      "  </word>\n",
      "  <word form=\"παλαιγενέων\" head=\"640962\" id=\"640960\" lemma=\"παλαιγενής\" line=\"1\" postag=\"a-p---mg-\" relation=\"ATR\">\n",
      "  </word>\n",
      "  <word form=\"κλέα\" head=\"640963\" id=\"640961\" lemma=\"κλέος\" line=\"1\" postag=\"n-p---na-\" relation=\"SBJ\">\n",
      "  </word>\n",
      "  <word form=\"φωτῶν\" head=\"640961\" id=\"640962\" lemma=\"φώς\" line=\"1\" postag=\"n-p---mg-\" relation=\"ATR\">\n",
      "  </word>\n",
      "  <word form=\"μνήσομαι\" head=\"0\" id=\"640963\" lemma=\"μιμνῄσκω\" line=\"2\" postag=\"v1sfim---\" relation=\"PRED\">\n",
      "  </word>\n",
      "  <word form=\",\" head=\"640955\" id=\"640964\" lemma=\",\" line=\"2\" postag=\"u--------\" relation=\"PUNCT\">\n",
      "  </word>\n",
      "  <word form=\"οἳ\" head=\"640980\" id=\"640965\" lemma=\"ὅς\" line=\"2\" postag=\"p-p---mn-\" relation=\"SBJ\">\n",
      "  </word>\n",
      "  <word form=\"Πόντοιο\" head=\"640968\" id=\"640966\" lemma=\"Πόντος\" line=\"2\" postag=\"n-s---mg-\" relation=\"ATR\">\n",
      "  </word>\n",
      "  <word form=\"κατὰ\" head=\"640980\" id=\"640967\" lemma=\"κατά\" line=\"2\" postag=\"r--------\" relation=\"AuxP\">\n",
      "  </word>\n",
      "  <word form=\"στόμα\" head=\"640967\" id=\"640968\" lemma=\"στόμα\" line=\"2\" postag=\"n-s---na-\" relation=\"ADV\">\n",
      "  </word>\n",
      "  <word form=\"καὶ\" head=\"640970\" id=\"640969\" lemma=\"καί\" line=\"2\" postag=\"b--------\" relation=\"AuxY\">\n",
      "  </word>\n",
      "  <word form=\"διὰ\" head=\"640968\" id=\"640970\" lemma=\"διά\" line=\"2\" postag=\"r--------\" relation=\"AuxP\">\n",
      "  </word>\n",
      "  <word form=\"πέτρας\" head=\"640970\" id=\"640971\" lemma=\"πέτρα\" line=\"2\" postag=\"n-s---fg-\" relation=\"CO\">\n",
      "  </word>\n",
      "  <word form=\"Κυανέας\" head=\"640971\" id=\"640972\" lemma=\"Κυάνεαι\" line=\"3\" postag=\"n-p---fa-\" relation=\"ATR\">\n",
      "  </word>\n",
      "  <word form=\"βασιλῆος\" head=\"640971\" id=\"640973\" lemma=\"βασιλεύς\" line=\"3\" postag=\"n-s---mg-\" relation=\"ATR\">\n",
      "  </word>\n",
      "  <word form=\"ἐφημοσύνῃ\" head=\"640980\" id=\"640974\" lemma=\"ἐφημοσύνη\" line=\"3\" postag=\"n-s---fd-\" relation=\"ADV\">\n",
      "  </word>\n",
      "  <word form=\"Πελίαο\" head=\"640974\" id=\"640975\" lemma=\"Πελίας\" line=\"3\" postag=\"n-s---mg-\" relation=\"ATR\">\n",
      "  </word>\n",
      "  <word form=\"χρύσειον\" head=\"640978\" id=\"640976\" lemma=\"χρύσεος\" line=\"4\" postag=\"a-s---na-\" relation=\"ATR\">\n",
      "  </word>\n",
      "  <word form=\"μετὰ\" head=\"640980\" id=\"640977\" lemma=\"μετά\" line=\"4\" postag=\"r--------\" relation=\"AuxP\">\n",
      "  </word>\n",
      "  <word form=\"κῶας\" head=\"640977\" id=\"640978\" lemma=\"κῶας\" line=\"4\" postag=\"n-s---na-\" relation=\"ADV\">\n",
      "  </word>\n",
      "  <word form=\"ἐύζυγον\" head=\"640978\" id=\"640979\" lemma=\"εὔζυγος\" line=\"4\" postag=\"a-s---na-\" relation=\"ATR\">\n",
      "  </word>\n",
      "  <word form=\"ἤλασαν\" head=\"640961\" id=\"640980\" lemma=\"ἐλαύνω\" line=\"4\" postag=\"v3paia---\" relation=\"ATR\">\n",
      "  </word>\n",
      "  <word form=\"Ἀργώ\" head=\"640980\" id=\"640981\" lemma=\"Ἀργώ\" line=\"4\" postag=\"n-s---fn-\" relation=\"OBJ\">\n",
      "  </word>\n",
      "  <word form=\".\" head=\"640955\" id=\"640982\" lemma=\".\" line=\"4\" postag=\"u--------\" relation=\"PUNCT\">\n",
      "  </word>\n",
      " </sentence>\n",
      " <sentence document_id=\"0001-001\" id=\"2\" subdoc=\"1\">\n",
      "  <word form=\"τοίην\" head=\"640986\" id=\"640983\" lemma=\"τοῖος\" line=\"5\" postag=\"a-s---fa-\" relation=\"ATR\">\n",
      "  </word>\n",
      "  <word form=\"γὰρ\" head=\"640987\" id=\"640984\" lemma=\"γάρ\" line=\"5\" postag=\"d--------\" relation=\"AuxY\">\n",
      "  </word>\n",
      "  <word form=\"Πελίης\" head=\"640986\" id=\"640985\" lemma=\"Πελίης\" line=\"5\" postag=\"n-s---mn-\" relation=\"ATR\">\n",
      "  </word>\n",
      "  <word form=\"φάτιν\" head=\"640987\" id=\"640986\" lemma=\"φάτις\" line=\"5\" postag=\"n-s---fa-\" relation=\"OBJ\">\n",
      "  </word>\n",
      "  <word form=\"ἔκλυεν\" head=\"0\" id=\"640987\" lemma=\"κλύω\" line=\"5\" postag=\"v3saia---\" relation=\"PRED\">\n",
      "  </word>\n",
      "  <word form=\",\" head=\"640983\" id=\"640988\" lemma=\",\" line=\"5\" postag=\"u--------\" relation=\"PUNCT\">\n",
      "  </word>\n",
      "  <word form=\"ὥς\" head=\"640987\" id=\"640989\" lemma=\"ὡς\" line=\"5\" postag=\"c--------\" relation=\"AuxC\">\n",
      "  </word>\n",
      "  <word form=\"μιν\" head=\"640993\" id=\"640990\" lemma=\"μιν\" line=\"5\" postag=\"p-s---ma-\" relation=\"OBJ\">\n",
      "  </word>\n",
      "  <word form=\"ὀπίσσω\" head=\"640993\" id=\"640991\" lemma=\"ὀπίσσω\" line=\"5\" postag=\"d--------\" relation=\"ADV\">\n",
      "  </word>\n",
      "  <word form=\"μοῖρα\" head=\"640993\" id=\"640992\" lemma=\"μοῖρα\" line=\"6\" postag=\"n-s---fn-\" relation=\"SBJ\">\n",
      "  </word>\n",
      "  <word form=\"μένει\" head=\"640989\" id=\"640993\" lemma=\"μένω\" line=\"6\" postag=\"v3spia---\" relation=\"ADV\">\n",
      "  </word>\n",
      "  <word form=\"στυγερή\" head=\"640992\" id=\"640994\" lemma=\"στυγερός\" line=\"6\" postag=\"a-s---fn-\" relation=\"ATR\">\n",
      "  </word>\n",
      "  <word form=\",\" head=\"640983\" id=\"640995\" lemma=\",\" line=\"6\" postag=\"u--------\" relation=\"PUNCT\">\n",
      "  </word>\n",
      "  <word form=\"τοῦδ’\" head=\"640997\" id=\"640996\" lemma=\"ὅδε\" line=\"6\" postag=\"a-\n"
     ]
    }
   ],
   "source": [
    "response = requests.get(base_url + paths[0])\n",
    "soup = BeautifulSoup(response.text, \"html.parser\")\n",
    "print(soup.prettify()[:5000])"
   ],
   "metadata": {
    "collapsed": false,
    "ExecuteTime": {
     "end_time": "2024-01-16T21:23:04.902782Z",
     "start_time": "2024-01-16T21:23:02.618394Z"
    }
   }
  },
  {
   "cell_type": "code",
   "execution_count": 45,
   "outputs": [
    {
     "data": {
      "text/plain": "['ἀρχόμενος σέο, Φοῖβε, παλαιγενέων κλέα φωτῶν μνήσομαι, οἳ Πόντοιο κατὰ στόμα καὶ διὰ πέτρας Κυανέας βασιλῆος ἐφημοσύνῃ Πελίαο χρύσειον μετὰ κῶας ἐύζυγον ἤλασαν Ἀργώ.',\n 'τοίην γὰρ Πελίης φάτιν ἔκλυεν, ὥς μιν ὀπίσσω μοῖρα μένει στυγερή, τοῦδ’ ἀνέρος, ὅντιν’ ἴδοιτο δημόθεν οἰοπέδιλον, ὑπ’ ἐννεσίῃσι δαμῆναι.',\n 'δηρὸν δ’ οὐ μετέπειτα τεὴν κατὰ βάξιν Ἰήσων χειμερίοιο ῥέεθρα κιὼν διὰ ποσσὶν Ἀναύρου ἄλλο μὲν ἐξεσάωσεν ὑπ’ ἰλύος, ἄλλο δ’ ἔνερθεν κάλλιπεν αὖθι πέδιλον ἐνισχόμενον προχοῇσιν.',\n 'ἵκετο δ’ ἐς Πελίην αὐτοσχεδὸν ἀντιβολήσων εἰλαπίνης, ἣν πατρὶ Ποσειδάωνι καὶ ἄλλοις ῥέζε θεοῖς, Ἥρης δὲ Πελασγίδος οὐκ ἀλέγιζεν.',\n 'αἶψα δὲ τόνγ’ ἐσιδὼν ἐφράσσατο, καί οἱ ἄεθλον ἔντυε ναυτιλίης πολυκηδέος, ὄφρ’ ἐνὶ πόντῳ ἠὲ καὶ ἀλλοδαποῖσι μετ’ ἀνδράσι νόστον ὀλέσσῃ.',\n 'νῆα μὲν οὖν οἱ πρόσθεν ἐπικλείουσιν ἀοιδοὶ Ἄργον Ἀθηναίης καμέειν ὑποθημοσύνῃσιν.',\n 'νῦν δ’ ἂν ἐγὼ γενεήν τε καὶ οὔνομα μυθησαίμην ἡρώων, δολιχῆς τε πόρους ἁλός, ὅσσα τ’ ἔρεξαν πλαζόμενοι·',\n 'Μοῦσαι δ’ ὑποφήτορες εἶεν ἀοιδῆς.',\n 'πρῶτά νυν Ὀρφῆος μνησώμεθα, τόν ῥά ποτ’ αὐτὴ Καλλιόπη Θρήικι φατίζεται εὐνηθεῖσα Οἰάγρῳ σκοπιῆς Πιμπληίδος ἄγχι τεκέσθαι αὐτὰρ τόνγ’ ἐνέπουσιν ἀτειρέας οὔρεσι πέτρας θέλξαι ἀοιδάων ἐνοπῇ ποταμῶν τε ῥέεθρα.',\n 'φηγοὶ δ’ ἀγριάδες, κείνης ἔτι σήματα μολπῆς, ἀκτῆς Θρηικίης Ζώνης ἔπι τηλεθόωσαι ἑξείης στιχόωσιν ἐπήτριμοι, ἃς ὅγ’ ἐπιπρὸ θελγομένας φόρμιγγι κατήγαγε Πιερίηθεν.',\n 'Ὀρφέα μὲν δὴ τοῖον ἑῶν ἐπαρωγὸν ἀέθλων Αἰσονίδης Χείρωνος ἐφημοσύνῃσι πιθήσας δέξατο, Πιερίῃ Βιστωνίδι κοιρανέοντα.',\n 'ἤλυθε δ’ Ἀστερίων αὐτοσχεδόν, ὅν ῥα Κομήτης γείνατο δινήεντος ἐφ’ ὕδασιν Ἀπιδανοῖο, Πειρεσιὰς ὄρεος Φυλληίου ἀγχόθι ναίων, ἔνθα μὲν Ἀπιδανός τε μέγας καὶ δῖος Ἐνιπεὺς ἄμφω συμφορέονται, ἀπόπροθεν εἰς ἓν ἰόντες.',\n 'Λάρισαν δ’ ἐπὶ τοῖσι λιπὼν Πολύφημος ἵκανεν Εἰλατίδης, ὃς πρὶν μὲν ἐρισθενέων Λαπιθάων, ὁππότε Κενταύροις Λαπίθαι ἐπὶ θωρήσσοντο, ὁπλότερος πολέμιζε·',\n 'τότ’ αὖ βαρύθεσκέ οἱ ἤδη γυῖα, μένεν δ’ ἔτι θυμὸς ἀρήιος, ὡς τὸ πάρος περ.',\n 'οὐδὲ μὲν Ἴφικλος Φυλάκῃ ἔνι δηρὸν ἔλειπτο, μήτρως Αἰσονίδαο·',\n 'κασιγνήτην γὰρ ὄπυιεν Αἴσων Ἀλκιμέδην Φυλακηίδα·',\n 'τῆς μιν ἀνώγει πηοσύνη καὶ κῆδος ἐνικρινθῆναι ὁμίλῳ.',\n 'οὐδὲ Φεραῖς Ἄδμητος ἐυρρήνεσσιν ἀνάσσων μίμνεν ὑπὸ σκοπιὴν ὄρεος Χαλκωδονίοιο.',\n 'οὐδ’ Ἀλόπῃ μίμνον πολυλήιοι Ἑρμείαο υἱέες εὖ δεδαῶτε δόλους, Ἔρυτος καὶ Ἐχίων, τοῖσι δ’ ἐπὶ τρίτατος γνωτὸς κίε νισσομένοισιν Αἰθαλίδης·',\n 'καὶ τὸν μὲν ἐπ’ Ἀμφρυσσοῖο ῥοῇσιν Μυρμιδόνος κούρη Φθιὰς τέκεν Εὐπολέμεια·',\n 'τὼ δ’ αὖτ’ ἐκγεγάτην Μενετηίδος Ἀντιανείρης.',\n 'ἤλυθε δ’ ἀφνειὴν προλιπὼν Γυρτῶνα Κόρωνος Καινεΐδης, ἐσθλὸς μέν, ἑοῦ δ’ οὐ πατρὸς ἀμείνων.',\n 'Καινέα γὰρ ζῶόν περ ἔτι κλείουσιν ἀοιδοὶ Κενταύροισιν ὀλέσθαι, ὅτε σφέας οἶος ἀπ’ ἄλλων ἤλασ’ ἀριστήων·',\n 'οἱ δ’ ἔμπαλιν ὁρμηθέντες οὔτε μιν ἐγκλῖναι προτέρω σθένον, οὔτε δαΐξαι·',\n 'ἀλλ’ ἄρρηκτος ἄκαμπτος ἐδύσετο νειόθι γαίης, θεινόμενος στιβαρῇσι καταΐγδην ἐλάτῃσιν.',\n 'ἤλυθε δ’ αὖ Μόψος Τιταρήσιος, ὃν περὶ πάντων Λητοΐδης ἐδίδαξε θεοπροπίας οἰωνῶν·',\n 'ἠδὲ καὶ Εὐρυδάμας Κτιμένου πάις·',\n 'ἄγχι δὲ λίμνης Ξυνιάδος Κτιμένην Δολοπηίδα ναιετάασκεν.',\n 'καὶ μὴν Ἄκτωρ υἷα Μενοίτιον ἐξ Ὀπόεντος ὦρσεν, ἀριστήεσσι σὺν ἀνδράσιν ὄφρα νέοιτο.',\n 'εἵπετο δ’ Εὐρυτίων τε καὶ ἀλκήεις Ἐριβώτης, υἷες ὁ μὲν Τελέοντος, ὁ δ’ Ἴρου Ἀκτορίδαο·',\n 'ἤτοι ὁ μὲν Τελέοντος ἐυκλειὴς Ἐριβώτης, Ἴρου δ’ Εὐρυτίων.',\n 'σὺν καὶ τρίτος ἦεν Ὀιλεύς, ἔξοχος ἠνορέην καὶ ἐπαΐξαι μετόπισθεν εὖ δεδαὼς δῄοισιν, ὅτε κλίνωσι φάλαγγας.',\n 'αὐτὰρ ἀπ’ Εὐβοίης Κάνθος κίε, τόν ῥα Κάνηθος πέμπεν Ἀβαντιάδης λελιημένον·',\n 'οὐ μὲν ἔμελλεν νοστήσειν Κήρινθον ὑπότροπος.',\n 'αισα γὰρ ἦεν αὐτὸν ὁμῶς Μόψον τε δαήμονα μαντοσυνάων πλαγχθέντας Λιβύης ἐνὶ πείρασι δῃωθῆναι, ὡς οὐκ ἀνθρώποισι κακὸν μήκιστον ἐπαυρεῖν, ὁππότε κ- ἐκείνους Λιβύῃ ἔνι ταρχύσαντο, τόσσον ἑκὰς Κόλχων, ὅσσον τέ περ ἠελίοιο μεσσηγὺς δύσιές τε καὶ ἀντολαὶ εἰσορόωνται.',\n 'τῷ δ’ ἄρ’ ἐπὶ Κλυτίος τε καὶ Ἴφιτος ἠγερέθοντο, Οἰχαλίης ἐπίουροι, ἀπηνέος Εὐρύτου υἷες, Εὐρύτου, ᾧ πόρε τόξον Ἑκηβόλος·',\n 'οὐδ’ ἀπόνητο δωτίνης·',\n 'αὐτῷ γὰρ ἑκὼν ἐρίδηνε δοτῆρι.',\n 'τοῖσι δ’ ἐπ’ Αἰακίδαι μετεκίαθον·',\n 'οὐ μὲν ἅμ’ ἄμφω, οὐδ’ ὁμόθεν·',\n 'νόσφιν γὰρ ἀλευάμενοι κατένασθεν Αἰγίνης, ὅτε Φῶκον ἀδελφεὸν ἐξενάριξαν ἀφραδίῃ.',\n 'Τελαμὼν μὲν ἐν Ἀτθίδι νάσσατο νήσῳ·',\n 'Πηλεὺς δὲ Φθίῃ ἐνὶ δώματα ναῖε λιασθείς.',\n 'τοῖς δ’ ἐπὶ Κεκροπίηθεν ἀρήιος ἤλυθε Βούτης, παῖς ἀγαθοῦ Τελέοντος, ἐυμμελίης τε Φάληρος.',\n 'Ἄλκων μιν προέηκε πατὴρ ἑός·',\n 'οὐ μὲν ἔτ’ ἄλλους γήραος υἷας ἔχεν βιότοιό τε κηδεμονῆας.',\n 'ἀλλά ἑ τηλύγετόν περ ὁμῶς καὶ μοῦνον ἐόντα πέμπεν, ἵνα θρασέεσσι μεταπρέποι ἡρώεσσιν.',\n 'Θησέα δ’, ὃς περὶ πάντας Ἐρεχθεΐδας ἐκέκαστο, Ταιναρίην ἀίδηλος ὑπὸ χθόνα δεσμὸς ἔρυκεν, Πειρίθῳ ἑσπόμενον κοινὴν ὁδόν·',\n 'ἦ τέ κεν ἄμφω ῥηίτερον καμάτοιο τέλος πάντεσσιν ἔθεντο.',\n 'Τῖφυς δ’ Ἁγνιάδης Σιφαιέα κάλλιπε δῆμον Θεσπιέων, ἐσθλὸς μὲν ὀρινόμενον προδαῆναι κῦμ’ ἁλὸς εὐρείης, ἐσθλὸς δ’ ἀνέμοιο θυέλλας καὶ πλόον ἠελίῳ τε καὶ ἀστέρι τεκμήρασθαι.',\n 'αὐτή μιν Τριτωνὶς ἀριστήων ἐς ὅμιλον ὦρσεν Ἀθηναίη, μετὰ δ’ ἤλυθεν ἐλδομένοισιν.',\n 'αὐτὴ γὰρ καὶ νῆα θοὴν κάμε·',\n 'σὺν δέ οἱ Ἄργος τεῦξεν Ἀρεστορίδης κείνης ὑποθημοσύνῃσιν.',\n 'τῶ καὶ πασάων προφερεστάτη ἔπλετο νηῶν, ὅσσαι ὑπ’ εἰρεσίῃσιν ἐπειρήσαντο θαλάσσης.',\n 'Φλίας δ’ αὖτ’ ἐπὶ τοῖσιν Ἀραιθυρέηθεν ἵκανεν, ἔνθ’ ἀφνειὸς ἔναιε Διωνύσοιο ἕκητι, πατρὸς ἑοῦ, πηγῇσιν ἐφέστιος Ἀσωποῖο.',\n 'Ἀργόθεν αὖ Ταλαὸς καὶ Ἀρήιος, υἷε Βίαντος, ἤλυθον ἴφθιμός τε Λεώδοκος, οὓς τέκε Πηρὼ Νηληίς·',\n 'τῆς δ’ ἀμφὶ δύην ἐμόγησε βαρεῖαν Αἰολίδης σταθμοῖσιν ἐν Ἰφίκλοιο Μελάμπους.',\n 'οὐδὲ μὲν οὐδὲ βίην κρατερόφρονος Ἡρακλῆος πευθόμεθ’ Αἰσονίδαο λιλαιομένου ἀθερίξαι.',\n 'ἀλλ’ ἐπεὶ ἄιε βάξιν ἀγειρομένων ἡρώων, νεῖον ἀπ’ Ἀρκαδίης Λυρκήιον Ἄργος ἀμείψας τὴν ὁδόν, ᾗ ζωὸν φέρε κάπριον, ὅς ῥ’ ἐνὶ βήσσῃς φέρβετο Λαμπείης, Ἐρυμάνθιον ἂμ μέγα τῖφος, τὸν μὲν ἐνὶ πρώτῃσι Μυκηναίων ἀγορῇσιν δεσμοῖς ἰλλόμενον μεγάλων ἀπεθήκατο νώτων·',\n 'αὐτὸς δ’ ᾗ ἰότητι παρὲκ νόον Εὐρυσθῆος ὡρμήθη·',\n 'σὺν καί οἱ Ὕλας κίεν, ἐσθλὸς ὀπάων, πρωθήβης, ἰῶν τε φορεὺς φύλακός τε βιοῖο.',\n 'τῷ δ’ ἐπὶ δὴ θείοιο κίεν Δαναοῖο γενέθλη, Ναύπλιος.',\n 'ἦ γὰρ ἔην Κλυτονήου Ναυβολίδαο·',\n 'Ναύβολος αὖ Λέρνου·',\n 'Λέρνον γε μὲν ἴδμεν ἐόντα Προίτου Ναυπλιάδαο·',\n 'Ποσειδάωνι δὲ κούρη.',\n 'πρίν ποτ’ Ἀμυμώνη Δαναῒς τέκεν εὐνηθεῖσα Ναύπλιον, ὃς περὶ πάντας ἐκαίνυτο ναυτιλίῃσιν.',\n 'Ἴδμων δ’ ὑστάτιος μετεκίαθεν, ὅσσοι ἔναιον Ἄργος, ἐπεὶ δεδαὼς τὸν ἑὸν μόρον οἰωνοῖσιν ἤιε, μή οἱ δῆμος ἐυκλείης ἀγάσαιτο.',\n 'οὐ μὲν ὅγ’ ἦεν Ἄβαντος ἐτήτυμον, ἀλλά μιν αὐτὸς γείνατο κυδαλίμοις ἐναρίθμιον Αἰολίδῃσιν Λητοΐδης·',\n 'αὐτὸς δὲ θεοπροπίας ἐδίδαξεν οἰωνούς τ’ ἀλέγειν ἠδ’ ἔμπυρα σήματ’ ἰδέσθαι.',\n 'καὶ μὴν Αἰτωλὶς κρατερὸν Πολυδεύκεα Λήδη Κάστορά τ’ ὠκυπόδων ὦρσεν δεδαημένον ἵππων Σπάρτηθεν·',\n 'τοὺς δ’ ἥγε δόμοις ἔνι Τυνδαρέοιο τηλυγέτους ὠδῖνι μιῇ τέκεν·',\n 'οὐδ’ ἀπίθησεν νισσομένοις·',\n 'Ζηνὸς γὰρ ἐπάξια μήδετο λέκτρων.',\n 'οἵ τ’ Ἀφαρητιάδαι Λυγκεὺς καὶ ὑπέρβιος Ἴδας Ἀρήνηθεν ἔβαν, μεγάλῃ περιθαρσέες ἀλκῇ ἀμφότεροι·',\n 'Λυγκεὺς δὲ καὶ ὀξυτάτοις ἐκέκαστο ὄμμασιν, εἰ ἐτεόν γε πέλει κλέος, ἀνέρα κεῖνον ῥηιδίως καὶ νέρθε κατὰ χθονὸς αὐγάζεσθαι.',\n 'σὺν δὲ Περικλύμενος Νηλήιος ὦρτο νέεσθαι, πρεσβύτατος παίδων, ὅσσοι Πύλῳ ἐξεγένοντο Νηλῆος θείοιο·',\n 'Ποσειδάων δέ οἱ ἀλκὴν δῶκεν ἀπειρεσίην ἠδ’ ὅττι κεν ἀρήσαιτο μαρνάμενος, τὸ πέλεσθαι ἐνὶ ξυνοχῇ πολέμοιο.',\n 'καὶ μὴν Ἀμφιδάμας Κηφεύς τ’ ἴσαν Ἀρκαδίηθεν, οἳ Τεγέην καὶ κλῆρον Ἀφειδάντειον ἔναιον, υἷε δύω Ἀλεοῦ·',\n 'τρίτατός γε μὲν ἕσπετ’ ἰοῦσιν Ἀγκαῖος, τὸν μέν ῥα πατὴρ Λυκόοργος ἔπεμπεν, τῶν ἄμφω γνωτὸς προγενέστερος.',\n 'ἀλλ’ ὁ μὲν ἤδη γηράσκοντ’ Ἀλεὸν λίπετ’ ἂμ πόλιν ὄφρα κομίζοι, παῖδα δ’ ἑὸν σφετέροισι κασιγνήτοισιν ὄπασσεν.',\n 'βῆ δ’ ὅγε Μαιναλίης ἄρκτου δέρος, ἀμφίτομόν τε δεξιτερῇ πάλλων πέλεκυν μέγαν.',\n 'ἔντεα γάρ οἱ πατροπάτωρ Ἀλεὸς μυχάτῃ ἐνέκρυψε καλιῇ, αἴ κέν πως ἔτι καὶ τὸν ἐρητύσειε νέεσθαι.',\n 'βῆ δὲ καὶ Αὐγείης, ὃν δὴ φάτις Ἠελίοιο ἔμμεναι·',\n 'Ἠλείοισι δ’ ὅγ’ ἀνδράσιν ἐμβασίλευεν, ὄλβῳ κυδιόων·',\n 'μέγα δ’ ἵετο Κολχίδα γαῖαν αὐτόν τ’ Αἰήτην ἰδέειν σημάντορα Κόλχων.',\n 'Ἀστέριος δὲ καὶ Ἀμφίων Ὑπερασίου υἷες Πελλήνης ἀφίκανον Ἀχαιίδος, ἥν ποτε Πέλλης πατροπάτωρ ἐπόλισσεν ἐπ’ ὀφρύσιν Αἰγιαλοῖο.',\n 'Ταίναρον αὖτ’ ἐπὶ τοῖσι λιπὼν Εὔφημος ἵκανεν, τόν ῥα Ποσειδάωνι ποδωκηέστατον ἄλλων Εὐρώπη Τιτυοῖο μεγασθενέος τέκε κούρη.',\n 'κεῖνος ἀνὴρ καὶ πόντου ἐπὶ γλαυκοῖο θέεσκεν οἴδματος, οὐδὲ θοοὺς βάπτεν πόδας, ἀλλ’ ὅσον ἄκροις ἴχνεσι τεγγόμενος διερῇ πεφόρητο κελεύθῳ.',\n 'καὶ δ’ ἄλλω δύο παῖδε Ποσειδάωνος ἵκοντο·',\n 'ἤτοι ὁ μὲν πτολίεθρον ἀγαυοῦ Μιλήτοιο νοσφισθεὶς Ἐργῖνος, ὁ δ’ Ἰμβρασίης ἕδος Ἥρης, παρθενίην, Ἀγκαῖος ὑπέρβιος·',\n 'ἴστορε δ’ ἄμφω ἠμὲν ναυτιλίης ἠδ’ ἄρεος εὐχετόωντο.',\n 'Οἰνεΐδης δ’ ἐπὶ τοῖσιν ἀφορμηθεὶς Καλυδῶνος ἀλκήεις Μελέαγρος ἀνήλυθε, Λαοκόων τε, Λαοκόων Οἰνῆος ἀδελφεός, οὐ μὲν ἰῆς γε μητέρος·',\n 'ἀλλά ἑ θῆσσα γυνὴ τέκε·',\n 'τὸν μὲν ἄρ’ Οἰνεὺς ἤδη γηραλέον κοσμήτορα παιδὸς ἴαλλεν·',\n 'ὧδ’ ἔτι κουρίζων περιθαρσέα δῦνεν ὅμιλον ἡρώων.',\n 'τοῦ δ’ οὔτιν’ ὑπέρτερον ἄλλον ὀίω, νόσφιν γ’ Ἡρακλῆος, ἐπελθέμεν, εἴ κ’ ἔτι μοῦνον αὖθι μένων λυκάβαντα μετετράφη Αἰτωλοῖσιν.',\n 'καὶ μήν οἱ μήτρως αὐτὴν ὁδόν, εὖ μὲν ἄκοντι, εὖ δὲ καὶ ἐν σταδίῃ δεδαημένος ἀντιφέρεσθαι, Θεστιάδης Ἴφικλος ἐφωμάρτησε κιόντι.',\n 'σὺν δὲ Παλαιμόνιος Λέρνου πάις Ὠλενίοιο, Λέρνου ἐπίκλησιν, γενεήν γε μὲν Ἡφαίστοιο·',\n 'τούνεκ’ ἔην πόδα σιφλός·',\n 'ἀτὰρ δέμας οὔ κέ τις ἔτλη ἠνορέην τ’ ὀνόσασθαι, ὃ καὶ μεταρίθμιος ἦεν πᾶσιν ἀριστήεσσιν, Ἰήσονι κῦδος ἀέξων.',\n 'ἐκ δ’ ἄρα Φωκήων κίεν Ἴφιτος Ὀρνυτίδαο Ναυβόλου ἐκγεγαώς·',\n 'ξεῖνος δέ οἱ ἔσκε πάροιθεν, ἦμος ἔβη Πυθώδε θεοπροπίας ἐρεείνων ναυτιλίης·',\n 'τόθι γάρ μιν ἑοῖς ὑπέδεκτο δόμοισιν.',\n 'Ζήτης αὖ Κάλαΐς τε Βορήιοι υἷες ἵκοντο, οὕς ποτ’ Ἐρεχθηὶς Βορέῃ τέκεν Ὠρείθυια ἐσχατιῇ Θρῄκης δυσχειμέρου·',\n 'ἔνθ’ ἄρα τήνγε Θρηίκιος Βορέης ἀνερέψατο Κεκροπίηθεν Ἰλισσοῦ προπάροιθε χορῷ ἔνι δινεύουσαν.',\n 'καί μιν ἄγων ἕκαθεν, Σαρπηδονίην ὅθι πέτρην κλείουσιν, ποταμοῖο παρὰ ῥόον Ἐργίνοιο, λυγαίοις ἐδάμασσε περὶ νεφέεσσι καλύψας.',\n 'τὼ μὲν ἐπ’ ἀκροτάτοισι ποδῶν ἑκάτερθεν ἐρεμνὰς σεῖον ἀειρομένω πτέρυγας, μέγα θάμβος ἰδέσθαι, χρυσείαις φολίδεσσι διαυγέας·',\n 'ἀμφὶ δὲ νώτοις κράατος ἐξ ὑπάτοιο καὶ αὐχένος ἔνθα καὶ ἔνθα κυάνεαι δονέοντο μετὰ πνοιῇσιν ἔθειραι.',\n 'οὐδὲ μὲν οὐδ’ αὐτοῖο πάις μενέαινεν Ἄκαστος ἰφθίμου Πελίαο δόμοις ἔνι πατρὸς ἑῆος μιμνάζειν, Ἄργος τε θεᾶς ὑποεργὸς Ἀθήνης·',\n 'ἀλλ’ ἄρα καὶ τὼ μέλλον ἐνικρινθῆναι ὁμίλῳ.',\n 'τόσσοι ἄρ’ Αἰσονίδῃ συμμήστορες ἠγερέθοντο.',\n 'τοὺς μὲν ἀριστῆας Μινύας περιναιετάοντες κίκλησκον μάλα πάντας, ἐπεὶ Μινύαο θυγατρῶν οἱ πλεῖστοι καὶ ἄριστοι ἀφ’ αἵματος εὐχετόωντο ἔμμεναι·',\n 'ὧς δὲ καὶ αὐτὸν Ἰήσονα γείνατο μήτηρ Ἀλκιμέδη, Κλυμένης Μινυηίδος ἐκγεγαυῖα.',\n 'αὐτὰρ ἐπεὶ δμώεσσιν ἐπαρτέα πάντ’ ἐτέτυκτο, ὅσσα περ ἐντύνονται ἐπαρτέες ἔνδοθι νῆες, εὖτ’ ἂν ἄγῃ χρέος ἄνδρας ὑπεὶρ ἅλα ναυτίλλεσθαι, δὴ τότ’ ἴσαν μετὰ νῆα δι’ ἄστεος, ἔνθα περ ἀκταὶ κλείονται Παγασαὶ Μαγνήτιδες·',\n 'ἀμφὶ δὲ λαῶν πληθὺς σπερχομένων ἄμυδις θέεν·',\n 'οἱ δὲ φαεινοὶ ἀστέρες ὣς νεφέεσσι μετέπρεπον·',\n 'ὧδε δ’ ἕκαστος ἔννεπεν εἰσορόων σὺν τεύχεσιν ἀίσσοντας·',\n ' Ζεῦ ἄνα, τίς Πελίαο νόος;',\n 'πόθι τόσσον ὅμιλον ἡρώων γαίης Παναχαιίδος ἔκτοθι βάλλει;',\n 'αὐτῆμάρ κε δόμους ὀλοῷ πυρὶ δῃώσειαν Αἰήτεω, ὅτε μή σφιν ἑκὼν δέρος ἐγγυαλίξῃ.',\n 'ἀλλ’ οὐ φυκτὰ κέλευθα, πόνος δ’ ἄπρηκτος ἰοῦσιν\".',\n 'ὧς φάσαν ἔνθα καὶ ἔνθα κατὰ πτόλιν·',\n 'αἱ δὲ γυναῖκες πολλὰ μάλ’ ἀθανάτοισιν ἐς αἰθέρα χεῖρας ἄειρον, εὐχόμεναι νόστοιο τέλος θυμηδὲς ὀπάσσαι.',\n 'ἄλλη δ’ εἰς ἑτέρην ὀλοφύρετο δακρυχέουσα·',\n ' δειλὴ Ἀλκιμέδη, καὶ σοὶ κακὸν ὀψέ περ ἔμπης ἤλυθεν, οὐδ’ ἐτέλεσσας ἐπ’ ἀγλαΐῃ βιότοιο.',\n 'Αἴσων αὖ μέγα δή τι δυσάμμορος.',\n 'ἦ τέ οἱ ἦεν βέλτερον, εἰ τὸ πάροιθεν ἐνὶ κτερέεσσιν ἐλυσθεὶς νειόθι γαίης κεῖτο, κακῶν ἔτι νῆις ἀέθλων.',\n 'ὡς ὄφελεν καὶ Φρίξον, ὅτ’ ὤλετο παρθένος Ἕλλη, κῦμα μέλαν κριῷ ἅμ’ ἐπικλύσαι·',\n 'ἀλλὰ καὶ αὐδὴν ἀνδρομέην προέηκε κακὸν τέρας, ὥς κεν ἀνίας Ἀλκιμέδῃ μετόπισθε καὶ ἄλγεα μυρία θείη\".',\n 'αἱ μὲν ἄρ’ ὧς ἀγόρευον ἐπὶ προμολῇσι κιόντων.',\n 'ἤδη δὲ δμῶές τε πολεῖς δμωαί τ’ ἀγέροντο·',\n 'μήτηρ δ’ ἀμφ’ αὐτὸν βεβολημένη.',\n 'ὀξὺ δ’ ἑκάστην δῦνεν ἄχος·',\n 'σὺν δέ σφι πατὴρ ὀλοῷ ὑπὸ γήραι ἐντυπὰς ἐν λεχέεσσι καλυψάμενος γοάασκεν.',\n 'αὐτὰρ ὁ τῶν μὲν ἔπειτα κατεπρήυνεν ἀνίας θαρσύνων, δμώεσσι δ’ ἀρήια τεύχε’ ἀείρειν πέφραδεν·',\n 'οἱ δέ τε σῖγα κατηφέες ἠείροντο.',\n 'μήτηρ δ’ ὡς τὰ πρῶτ’ ἐπεχεύατο πήχεε παιδί, ὧς ἔχετο κλαίουσ’ ἀδινώτερον, ἠύτε κούρη οἰόθεν ἀσπασίως πολιὴν τροφὸν ἀμφιπεσοῦσα μύρεται, ᾗ οὐκ εἰσὶν ἔτ’ ἄλλοι κηδεμονῆες, ἀλλ’ ὑπὸ μητρυιῇ βίοτον βαρὺν ἡγηλάζει·',\n 'καί ἑ νέον πολέεσσιν ὀνείδεσιν ἐστυφέλιξεν, τῇ δέ τ’ ὀδυρομένῃ δέδεται κέαρ ἔνδοθεν ἄτῃ, οὐδ’ ἔχει ἐκφλύξαι τόσσον γόον, ὅσσον ὀρεχθεῖ·',\n 'ὧς ἀδινὸν κλαίεσκεν ἑὸν παῖδ’ ἀγκὰς ἔχουσα Ἀλκιμέδη, καὶ τοῖον ἔπος φάτο κηδοσύνῃσιν·',\n ' αἴθ’ ὄφελον κεῖν’ ἦμαρ, ὅτ’ ἐξειπόντος ἄκουσα δειλὴ ἐγὼ Πελίαο κακὴν βασιλῆος ἐφετμήν, αὐτίκ’ ἀπὸ ψυχὴν μεθέμεν, κηδέων τε λαθέσθαι, ὄφρ’ αὐτός με τεῇσι φίλαις ταρχύσαο χερσίν, τέκνον ἐμόν·',\n 'τὸ γὰρ οἶον ἔην ἔτι λοιπὸν ἐέλδωρ ἐκ σέθεν, ἄλλα δὲ πάντα πάλαι θρεπτήρια πέσσω.',\n 'νῦν γε μὲν ἡ τὸ πάροιθεν Ἀχαιιάδεσσιν ἀγητὴ δμωὶς ὅπως κενεοῖσι λελείψομαι ἐν μεγάροισιν, σεῖο πόθῳ μινύθουσα δυσάμμορος, ᾧ ἔπι πολλὴν ἀγλαΐην καὶ κῦδος ἔχον πάρος, ᾧ ἔπι μούνῳ μίτρην πρῶτον ἔλυσα καὶ ὕστατον.',\n 'ἔξοχα γάρ μοι Εἰλείθυια θεὰ πολέος ἐμέγηρε τόκοιο.',\n 'ᾤ μοι ἐμῆς ἄτης·',\n 'τὸ μὲν οὐδ’ ὅσον, οὐδ’ ἐν ὀνείρῳ ὠισάμην, εἰ Φρίξος ἐμοὶ κακὸν ἔσσετ’ ἀλύξας\".',\n 'ὧς ἥγε στενάχουσα κινύρετο·',\n 'ταὶ δὲ γυναῖκες ἀμφίπολοι γοάασκον ἐπισταδόν·',\n 'αὐτὰρ ὁ τήνγε μειλιχίοις ἐπέεσσι παρηγορέων προσέειπεν·',\n ' μή μοι λευγαλέας ἐνιβάλλεο, μῆτερ, ἀνίας ὧδε λίην, ἐπεὶ οὐ μὲν ἐρητύσεις κακότητος δάκρυσιν, ἀλλ’ ἔτι κεν καὶ ἐπ’ ἄλγεσιν ἄλγος ἄροιο.',\n 'πήματα γάρ τ’ ἀίδηλα θεοὶ θνητοῖσι νέμουσιν, τῶν μοῖραν κατὰ θυμὸν ἀνιάζουσά περ ἔμπης τλῆθι φέρειν·',\n 'θάρσει δὲ συνημοσύνῃσιν Ἀθήνης, ἠδὲ θεοπροπίοισιν, ἐπεὶ μάλα δεξιὰ Φοῖβος ἔχρη, ἀτὰρ μετέπειτά γ’ ἀριστήων ἐπαρωγῇ.',\n 'ἀλλὰ σὺ μὲν νῦν αὖθι μετ’ ἀμφιπόλοισιν ἕκηλος μίμνε δόμοις, μηδ’ ὄρνις ἀεικελίη πέλε νηί·',\n 'κεῖσε δ’ ὁμαρτήσουσιν ἔται δμῶές τε κιόντι\".',\n 'ἦ, καὶ ὁ μὲν προτέρωσε δόμων ἐξῶρτο νέεσθαι.',\n 'οἷος δ’ ἐκ νηοῖο θυώδεος εἶσιν Ἀπόλλων δῆλον ἀν’ ἠγαθέην, ἠὲ Κλάρον, ἢ ὅγε Πυθώ, ἢ Λυκίην εὐρεῖαν, ἐπὶ Ξάνθοιο ῥοῇσιν, τοῖος ἀνὰ πληθὺν δήμου κίεν·',\n 'ὦρτο δ’ ἀυτὴ κεκλομένων ἄμυδις.',\n 'τῷ δὲ ξύμβλητο γεραιὴ Ἰφιὰς Ἀρτέμιδος πολιηόχου ἀρήτειρα, καί μιν δεξιτερῆς χειρὸς κύσεν, οὐδέ τι φάσθαι ἔμπης ἱεμένη δύνατο, προθέοντος ὁμίλου·',\n 'ἀλλ’ ἡ μὲν λίπετ’ αὖθι παρακλιδόν, οἷα γεραιὴ ὁπλοτέρων, ὁ δὲ πολλὸν ἀποπλαγχθεὶς ἐλιάσθη.',\n 'αὐτὰρ ἐπεί ῥα πόληος ἐυδμήτους λίπ’ ἀγυιάς, ἀκτὴν δ’ ἵκανεν Παγασηίδα, τῇ μιν ἑταῖροι δειδέχατ’, Ἀργῴῃ ἄμυδις παρὰ νηὶ μένοντες.',\n 'στῆ δ’ ἄρ’ ἐπὶ προμολῇς·',\n 'οἱ δ’ ἀντίοι ἠγερέθοντο.',\n 'ἐς δ’ ἐνόησαν Ἄκαστον ὁμῶς Ἄργον τε πόληος νόσφι καταβλώσκοντας, ἐθάμβησαν δ’ ἐσιδόντες πασσυδίῃ Πελίαο παρὲκ νόον ἰθύοντας.',\n 'δέρμα δ’ ὁ μὲν ταύροιο ποδηνεκὲς ἀμφέχετ’ ὤμους Ἄργος Ἀρεστορίδης λάχνῃ μέλαν·',\n 'αὐτὰρ ὁ καλὴν δίπλακα, τήν οἱ ὄπασσε κασιγνήτη Πελόπεια.',\n 'ἀλλ’ ἔμπης τὼ μέν τε διεξερέεσθαι ἕκαστα ἔσχετο·',\n 'τοὺς δ’ ἀγορήνδε συνεδριάασθαι ἄνωγεν.',\n 'αὐτοῦ δ’ ἰλλομένοις ἐπὶ λαίφεσιν, ἠδὲ καὶ ἱστῷ κεκλιμένῳ μάλα πάντες ἐπισχερὼ ἑδριόωντο.',\n 'τοῖσιν δ’ Αἴσονος υἱὸς ἐυφρονέων μετέειπεν·',\n ' ἄλλα μὲν ὅσσα τε νηὶ ἐφοπλίσσασθαι ἔοικεν— πάντα γὰρ εὖ κατὰ κόσμον— ἐπαρτέα κεῖται ἰοῦσιν.',\n 'τῶ οὐκ ἂν δηναιὸν ἐχοίμεθα τοῖο ἕκητι ναυτιλίης, ὅτε μοῦνον ἐπιπνεύσουσιν ἀῆται.',\n 'ἀλλά, φίλοι,— ξυνὸς γὰρ ἐς Ἑλλάδα νόστος ὀπίσσω, ξυναὶ δ’ ἄμμι πέλονται ἐς Αἰήταο κέλευθοι— τούνεκα νῦν τὸν ἄριστον ἀφειδήσαντες ἕλεσθε ὄρχαμον ἡμείων, ᾧ κεν τὰ ἕκαστα μέλοιτο, νείκεα συνθεσίας τε μετὰ ξείνοισι βαλέσθαι\".',\n 'ὧς φάτο·',\n 'πάπτηναν δὲ νέοι θρασὺν Ἡρακλῆα ἥμενον ἐν μέσσοισι·',\n 'μιῇ δέ ἑ πάντες ἀυτῇ σημαίνειν ἐπέτελλον·',\n 'ὁ δ’ αὐτόθεν, ἔνθα περ ἧστο, δεξιτερὴν ἀνὰ χεῖρα τανύσσατο φώνησέν τε·',\n ' μήτις ἐμοὶ τόδε κῦδος ὀπαζέτω.',\n 'οὐ γὰρ ἔγωγε πείσομαι·',\n 'ὥστε καὶ ἄλλον ἀναστήσεσθαι ἐρύξω.',\n 'αὐτός, ὅτις ξυνάγειρε, καὶ ἀρχεύοι ὁμάδοιο\".',\n 'ἦ ῥα μέγα φρονέων, ἐπὶ δ’ ᾔνεον, ὡς ἐκέλευεν Ἡρακλέης·',\n 'ἀνὰ δ’ αὐτὸς ἀρήιος ὤρνυτ’ Ἰήσων γηθόσυνος, καὶ τοῖα λιλαιομένοις ἀγόρευεν·',\n ' εἰ μὲν δή μοι κῦδος ἐπιτρωπᾶτε μέλεσθαι, μηκέτ’ ἔπειθ’, ὡς καὶ πρίν, ἐρητύοιτο κέλευθα.',\n 'νῦν γε μὲν ἤδη Φοῖβον ἀρεσσάμενοι θυέεσσιν δαῖτ’ ἐντυνώμεσθα παρασχεδόν.',\n 'ὄφρα δ’ ἴωσιν δμῶες ἐμοὶ σταθμῶν σημάντορες, οἷσι μέμηλεν δεῦρο βόας ἀγέληθεν ἐὺ κρίναντας ἐλάσσαι, τόφρα κε νῆ’ ἐρύσαιμεν ἔσω ἁλός, ὅπλα δὲ πάντα ἐνθέμενοι πεπάλαχθε κατὰ κληῖδας ἐρετμά.',\n 'τείως δ’ αὖ καὶ βωμὸν ἐπάκτιον Ἐμβασίοιο θείομεν Ἀπόλλωνος, ὅ μοι χρείων ὑπέδεκτο σημανέειν δείξειν τε πόρους ἁλός, εἴ κε θυηλαῖς οὗ ἕθεν ἐξάρχωμαι ἀεθλεύων βασιλῆι\".',\n 'η ῥα, καὶ εἰς ἔργον πρῶτος τράπεθ’·',\n 'οἱ δ’ ἐπανέσταν πειθόμενοι·',\n 'ἀπὸ δ’ εἵματ’ ἐπήτριμα νηήσαντο λείῳ ἐπὶ πλαταμῶνι, τὸν οὐκ ἐπέβαλλε θάλασσα κύμασι, χειμερίη δὲ πάλαι ἀποέκλυσεν ἅλμη.',\n 'νῆα δ’ ἐπικρατέως Ἄργου ὑποθημοσύνῃσιν ἔζωσαν πάμπρωτον ἐυστρεφεῖ ἔνδοθεν ὅπλῳ τεινάμενοι ἑκάτερθεν, ἵν’ εὖ ἀραροίατο γόμφοις δούρατα καὶ ῥοθίοιο βίην ἔχοι ἀντιόωσαν.',\n 'σκάπτον δ’ αἶψα κατ’ εὖρος ὅσον περιβάλλετο χῶρον, ἠδὲ κατὰ πρῴραν εἴσω ἁλὸς ὁσσάτιόν περ ἑλκομένη χείρεσσιν ἐπιδραμέεσθαι ἔμελλεν.',\n 'αἰεὶ δὲ προτέρω χθαμαλώτερον ἐξελάχαινον στείρης, ἐν δ’ ὁλκῷ ξεστὰς στορέσαντο φάλαγγας·',\n 'τὴν δὲ κατάντη κλῖναν ἐπὶ πρώτῃσι φάλαγξιν, ὥς κεν ὀλισθαίνουσα δι’ αὐτάων φορέοιτο.',\n 'ὕψι δ’ ἄρ’ ἔνθα καὶ ἔνθα μεταστρέψαντες ἐρετμὰ πήχυιον προύχοντα περὶ σκαλμοῖσιν ἔδησαν.',\n 'τῶν δ’ ἐναμοιβαδὶς αὐτοὶ ἐνέσταθεν ἀμφοτέρωθεν, στέρνα θ’ ὁμοῦ καὶ χεῖρας ἐπήλασαν.',\n 'ἐν δ’ ἄρα Τῖφυς βήσαθ’, ἵν’ ὀτρύνειε νέους κατὰ καιρὸν ἐρύσσαι·',\n 'κεκλόμενος δ’ ἤυσε μάλα μέγα·',\n 'τοὶ δὲ παρᾶσσον ᾧ κράτεϊ βρίσαντες ἰῇ στυφέλιξαν ἐρωῇ νειόθεν ἐξ ἕδρης, ἐπὶ δ’ ἐρρώσαντο πόδεσσιν προπροβιαζόμενοι·',\n 'ἡ δ’ ἕσπετο Πηλιὰς Ἀργὼ ῥίμφα μάλ’·',\n 'οἱ δ’ ἑκάτερθεν ἐπίαχον ἀίσσοντες.',\n 'αἱ δ’ ἄρ’ ὑπὸ τρόπιδι στιβαρῇ στενάχοντο φάλαγγες τριβόμεναι περὶ δέ σφιν ἀιδνὴ κήκιε λιγνὺς βριθοσύνῃ, κατόλισθε δ’ ἔσω ἁλός·',\n 'οἱ δέ μιν αὖθι ἂψ ἀνασειράζοντες ἔχον προτέρωσε κιοῦσαν.',\n 'σκαλμοῖς δ’ ἀμφὶς ἐρετμὰ κατήρτυον·',\n 'ἐν δέ οἱ ἱστὸν λαίφεά τ’ εὐποίητα καὶ ἁρμαλιὴν ἐβάλοντο.',\n 'αὐτὰρ ἐπεὶ τὰ ἕκαστα περιφραδέως ἀλέγυναν, κληῖδας μὲν πρῶτα πάλῳ διεμοιρήσαντο, ἄνδρ’ ἐντυναμένω δοιὼ μίαν·',\n 'ἐκ δ’ ἄρα μέσσην ᾕρεον Ἡρακλῆι καὶ ἡρώων ἄτερ ἄλλων Ἀγκαίῳ, Τεγέης ὅς ῥα πτολίεθρον ἔναιεν.',\n 'τοῖς μέσσην οἴοισιν ἀπὸ κληῖδα λίποντο αὔτως , οὔτι πάλῳ·',\n 'ἐπὶ δ’ ἔτρεπον αἰνήσαντες Τῖφυν ἐυστείρης οἰήια νηὸς ἔρυσθαι.',\n 'ἔνθεν δ’ αὖ λάιγγας ἁλὸς σχεδὸν ὀχλίζοντες νήεον αὐτόθι βωμὸν ἐπάκτιον Ἀπόλλωνος, Ἀκτίου Ἐμβασίοιό τ’ ἐπώνυμον·',\n 'ὦκα δέ τοίγε φιτροὺς ἀζαλέης στόρεσαν καθύπερθεν ἐλαίης.',\n 'τείως δ’ αὖτ’ ἀγέληθεν ἐπιπροέηκαν ἄγοντες βουκόλοι Αἰσονίδαο δύω βόε.',\n 'τοὺς δ’ ἐρύσαντο κουρότεροι ἑτάρων βωμοῦ σχεδόν.',\n 'οἱ δ’ ἄρ’ ἔπειτα χέρνιβά τ’ οὐλοχύτας τε παρέσχεθον.',\n 'αὐτὰρ Ἰήσων εὔχετο κεκλόμενος πατρώιον Ἀπόλλωνα·',\n ' κλῦθι ἄναξ, Παγασάς τε πόλιν τ’ Αἰσωνίδα ναίων, ἡμετέροιο τοκῆος ἐπώνυμον, ὅς μοι ὑπέστης Πυθοῖ χρειομένῳ ἄνυσιν καὶ πείραθ’ ὁδοῖο σημανέειν, αὐτὸς γὰρ ἐπαίτιος ἔπλευ ἀέθλων·',\n 'αὐτὸς νῦν ἄγε νῆα σὺν ἀρτεμέεσσιν ἑταίροις κεῖσέ τε καὶ παλίνορσον ἐς Ἑλλάδα.',\n 'σοὶ δ’ ἂν ὀπίσσω τόσσων, ὅσσοι κεν νοστήσομεν, ἀγλαὰ ταύρων ἱρὰ πάλιν βωμῷ ἐπιθήσομεν·',\n 'ἄλλα δὲ Πυθοῖ, ἄλλα δ’ ἐς Ὀρτυγίην ἀπερείσια δῶρα κομίσσω.',\n 'νῦν δ’ ἴθι, καὶ τήνδ’ ἧμιν, Ἑκηβόλε, δέξο θυηλήν, ἥν τοι τῆσδ’ ἐπίβαθρα χάριν προτεθείμεθα νηὸς πρωτίστην·',\n 'λύσαιμι δ’, ἄναξ, ἐπ’ ἀπήμονι μοίρῃ πείσματα σὴν διὰ μῆτιν·',\n 'ἐπιπνεύσειε δ’ ἀήτης μείλιχος, ᾧ κ’ ἐπὶ πόντον ἐλευσόμεθ’ εὐδιόωντες\".',\n 'ἦ, καὶ ἅμ’ εὐχωλῇ προχύτας βάλε.',\n 'τὼ δ’ ἐπὶ βουσὶν ζωσάσθην, Ἀγκαῖος ὑπέρβιος, Ἡρακλέης τε.',\n 'ἤτοι ὁ μὲν ῥοπάλῳ μέσσον κάρη ἀμφὶ μέτωπα πλῆξεν, ὁ δ’ ἀθρόος αὖθι πεσὼν ἐνερείσατο γαίῃ·',\n 'Ἀγκαῖος δ’ ἑτέροιο κατὰ πλατὺν αὐχένα κόψας χαλκείῳ πελέκει κρατεροὺς διέκερσε τένοντας·',\n 'ἤριπε δ’ ἀμφοτέροισι περιρρηδὴς κεράεσσιν.',\n 'τοὺς δ’ ἕταροι σφάξαν τε θοῶς, δεῖράν τε βοείας, κόπτον, δαίτρευόν τε, καὶ ἱερὰ μῆρ’ ἐτάμοντο, κὰδ δ’ ἄμυδις τάγε πάντα καλύψαντες πύκα δημῷ καῖον ἐπὶ σχίζῃσιν·',\n 'ὁ δ’ ἀκρήτους χέε λοιβὰς Αἰσονίδης, γήθει δὲ σέλας θηεύμενος Ἴδμων πάντοσε λαμπόμενον θυέων ἄπο τοῖό τε λιγνὺν πορφυρέαις ἑλίκεσσιν ἐναίσιμον ἀίσσουσαν·',\n 'αἶψα δ’ ἀπηλεγέως νόον ἔκφατο Λητοΐδαο·',\n ' ὑμῖν μὲν δὴ μοῖρα θεῶν χρειώ τε περῆσαι ἐνθάδε κῶας ἄγοντας·',\n 'ἀπειρέσιοι δ’ ἐνὶ μέσσῳ κεῖσέ τε δεῦρό τ’ ἔασιν ἀνερχομένοισιν ἄεθλοι.',\n 'αὐτὰρ ἐμοὶ θανέειν στυγερῇ ὑπὸ δαίμονος αἴσῃ τηλόθι που πέπρωται ἐπ’ Ἀσίδος ἠπείροιο.',\n 'ὧδε κακοῖς δεδαὼς ἔτι καὶ πάρος οἰωνοῖσιν πότμον ἐμὸν πάτρης ἐξήιον, ὄφρ’ ἐπιβαίην νηός, ἐυκλείη δὲ δόμοις ἐπιβάντι λίπηται\".',\n 'ὧς ἄρ’ ἔφη·',\n 'κοῦροι δὲ θεοπροπίης ἀίοντες νόστῳ μὲν γήθησαν, ἄχος δ’ ἕλεν Ἴδμονος αἴσῃ.',\n 'ἦμος δ’ ἠέλιος σταθερὸν παραμείβεται ἦμαρ, αἱ δὲ νέον σκοπέλοισιν ὑποσκιόωνται ἄρουραι, δειελινὸν κλίνοντος ὑπὸ ζόφον ἠελίοιο, τῆμος ἄρ’ ἤδη πάντες ἐπὶ ψαμάθοισι βαθεῖαν φυλλάδα χευάμενοι πολιοῦ πρόπαρ αἰγιαλοῖο κέκλινθ’ ἑξείης·',\n 'παρὰ δέ σφισι μυρί’ ἔκειτο εἴδατα, καὶ μέθυ λαρόν, ἀφυσσαμένων προχόῃσιν οἰνοχόων·',\n 'μετέπειτα δ’ ἀμοιβαδὶς ἀλλήλοισιν μυθεῦνθ’, οἷά τε πολλὰ νέοι παρὰ δαιτὶ καὶ οἴνῳ τερπνῶς ἑψιόωνται, ὅτ’ ἄατος ὕβρις ἀπείη.',\n 'ἔνθ’ αὖτ’ Αἰσονίδης μὲν ἀμήχανος εἰν ἑοῖ αὐτῷ πορφύρεσκεν ἕκαστα κατηφιόωντι ἐοικώς.',\n 'τὸν δ’ ἄρ’ ὑποφρασθεὶς μεγάλῃ ὀπὶ νείκεσεν Ἴδας·',\n ' Αἰσονίδη, τίνα τήνδε μετὰ φρεσὶ μῆτιν ἑλίσσεις;',\n 'αὔδα ἐνὶ μέσσοισι τεὸν νόον.',\n 'ἦέ σε δαμνᾷ τάρβος ἐπιπλόμενον, τό τ’ ἀνάλκιδας ἄνδρας ἀτύζει;',\n 'ἴστω νῦν δόρυ θοῦρον, ὅτῳ περιώσιον ἄλλων κῦδος ἐνὶ πτολέμοισιν ἀείρομαι, οὐδέ μ’ ὀφέλλει Ζεὺς τόσον, ὁσσάτιόν περ ἐμὸν δόρυ, μή νύ τι πῆμα λοίγιον ἔσσεσθαι, μηδ’ ἀκράαντον ἄεθλον Ἴδεω ἑσπομένοιο, καὶ εἰ θεὸς ἀντιόῳτο.',\n 'τοῖόν μ’ Ἀρήνηθεν ἀοσσητῆρα κομίζεις\".',\n 'ἦ, καὶ ἐπισχόμενος πλεῖον δέπας ἀμφοτέρῃσιν πῖνε χαλίκρητον λαρὸν μέθυ·',\n 'δεύετο δ’ οἴνῳ χείλεα, κυάνεαί τε γενειάδες·',\n 'οἱ δ’ ὁμάδησαν πάντες ὁμῶς, Ἴδμων δὲ καὶ ἀμφαδίην ἀγόρευσεν·',\n ' δαιμόνιε, φρονέεις ὀλοφώια καὶ πάρος αὐτῷ.',\n 'ἦέ τοι εἰς ἄτην ζωρὸν μέθυ θαρσαλέον κῆρ οἰδάνει ἐν στήθεσσι, θεοὺς δ’ ἀνέηκεν ἀτίζειν;',\n 'ἄλλοι μῦθοι ἔασι παρήγοροι, οἷσί περ ἀνὴρ θαρσύνοι ἕταρον·',\n 'σὺ δ’ ἀτάσθαλα πάμπαν ἔειπας, τοῖα φάτις καὶ τοὺς πρὶν ἐπιφλύειν μακάρεσσιν υἷας Ἀλωιάδας, οἷς οὐδ’ ὅσον ἰσοφαρίζεις ἠνορέην·',\n 'ἔμπης δὲ θοοῖς ἐδάμησαν ὀιστοῖς ἄμφω Λητοΐδαο, καὶ ἴφθιμοί περ ἐόντες\".',\n 'ὧς ἔφατ’·',\n 'ἐκ δ’ ἐγέλασσεν ἄδην Ἀφαρήιος Ἴδας καί μιν ἐπιλλίζων ἠμείβετο κερτομίοισιν·',\n ' ἄγρει νυν τόδε σῇσι θεοπροπίῃσιν ἐνίσπες, εἰ καὶ ἐμοὶ τοιόνδε θεοὶ τελέουσιν ὄλεθρον, οἷον Ἀλωιάδῃσι πατὴρ τεὸς ἐγγυάλιξεν.',\n 'φράζεο δ’ ὅππως χεῖρας ἐμὰς σόος ἐξαλέοιο, χρειὼ θεσπίζων μεταμώνιον εἴ κεν ἁλῴης\".',\n 'χώετ’ ἐνιπτάζων·',\n 'προτέρω δέ κε νεῖκος ἐτύχθη, εἰ μὴ δηριόωντας ὁμοκλήσαντες ἑταῖροι αὐτός τ’ Αἰσονίδης κατερήτυεν·',\n 'ἂν δὲ καὶ Ὀρφεὺς λαιῇ ἀνασχόμενος κίθαριν πείραζεν ἀοιδῆς.',\n 'ἤειδεν δ’ ὡς γαῖα καὶ οὐρανὸς ἠδὲ θάλασσα, τὸ πρὶν ἐπ’ ἀλλήλοισι μιῇ συναρηρότα μορφῇ, νείκεος ἐξ ὀλοοῖο διέκριθεν ἀμφὶς ἕκαστα·',\n 'ἠδ’ ὡς ἔμπεδον αἰὲν ἐν αἰθέρι τέκμαρ ἔχουσιν ἄστρα σεληναίη τε καὶ ἠελίοιο κέλευθοι·',\n 'οὔρεά θ’ ὡς ἀνέτειλε, καὶ ὡς ποταμοὶ κελάδοντες αὐτῇσιν νύμφῃσι καὶ ἑρπετὰ πάντ’ ἐγένοντο.',\n 'ἤειδεν δ’ ὡς πρῶτον Ὀφίων Εὐρυνόμη τε Ὠκεανὶς νιφόεντος ἔχον κράτος Οὐλύμποιο·',\n 'ὥς τε βίῃ καὶ χερσὶν ὁ μὲν Κρόνῳ εἴκαθε τιμῆς, ἡ δὲ Ῥέῃ, ἔπεσον δ’ ἐνὶ κύμασιν Ὠκεανοῖο·',\n 'οἱ δὲ τέως μακάρεσσι θεοῖς Τιτῆσιν ἄνασσον, ὄφρα Ζεὺς ἔτι κοῦρος, ἔτι φρεσὶ νήπια εἰδώς, Δικταῖον ναίεσκεν ὑπὸ σπέος·',\n 'οἱ δέ μιν οὔπω γηγενέες Κύκλωπες ἐκαρτύναντο κεραυνῷ, βροντῇ τε στεροπῇ τε·',\n 'τὰ γὰρ Διὶ κῦδος ὀπάζει.',\n 'ἦ, καὶ ὁ μὲν φόρμιγγα σὺν ἀμβροσίῃ σχέθεν αὐδῇ.',\n 'τοὶ δ’ ἄμοτον λήξαντος ἔτι προύχοντο κάρηνα πάντες ὁμῶς ὀρθοῖσιν ἐπ’ οὔασιν ἠρεμέοντες κηληθμῷ·',\n 'τοῖόν σφιν ἐνέλλιπε θέλκτρον ἀοιδῆς.',\n 'οὐδ’ ἐπὶ δὴν μετέπειτα κερασσάμενοι Διὶ λοιβάς, ἣ θέμις, ἑστηῶτες ἐπὶ γλώσσῃσι χέοντο αἰθομέναις, ὕπνου δὲ διὰ κνέφας ἐμνώοντο.',\n 'αὐτὰρ ὅτ’ αἰγλήεσσα φαεινοῖς ὄμμασιν Ἠὼς Πηλίου αἰπεινὰς ἴδεν ἄκριας, ἐκ δ’ ἀνέμοιο εὔδιοι ἐκλύζοντο τινασσομένης ἁλὸς ἄκραι, δὴ τότ’ ἀνέγρετο Τῖφυς·',\n 'ἄφαρ δ’ ὀρόθυνεν ἑταίρους βαινέμεναί τ’ ἐπὶ νῆα καὶ ἀρτύνασθαι ἐρετμά.',\n 'σμερδαλέον δὲ λιμὴν Παγασήιος ἠδὲ καὶ αὐτὴ Πηλιὰς ἴαχεν Ἀργὼ ἐπισπέρχουσα νέεσθαι.',\n 'ἐν γάρ οἱ δόρυ θεῖον ἐλήλατο, τό ῥ’ ἀνὰ μέσσην στεῖραν Ἀθηναίη Δωδωνίδος ἥρμοσε φηγοῦ.',\n 'οἱ δ’ ἀνὰ σέλματα βάντες ἐπισχερὼ ἀλλήλοισιν, ὡς ἐδάσαντο πάροιθεν ἐρεσσέμεν ᾧ ἐνὶ χώρῳ, εὐκόσμως σφετέροισι παρ’ ἔντεσιν ἑδριόωντο.',\n 'μέσσῳ δ’ Ἀγκαῖος μέγα τε σθένος Ἡρακλῆος ἵζανον·',\n 'ἄγχι δέ οἱ ῥόπαλον θέτο, καί οἱ ἔνερθεν ποσσὶν ὑπεκλύσθη νηὸς τρόπις.',\n '·',\n 'εἵλκετο δ’ ἤδη πείσματα, καὶ μέθυ λεῖβον ὕπερθ’ ἁλός.',\n 'αὐτὰρ Ἰήσων δακρυόεις γαίης ἀπὸ πατρίδος ὄμματ’ ἔνεικεν.',\n 'οἱ δ’, ὥστ’ ἠίθεοι Φοίβῳ χορὸν ἢ ἐνὶ Πυθοῖ ἤ που ἐν Ὀρτυγίῃ, ἢ ἐφ’ ὕδασιν Ἰσμηνοῖο στησάμενοι, φόρμιγγος ὑπαὶ περὶ βωμὸν ὁμαρτῇ ἐμμελέως κραιπνοῖσι πέδον ῥήσσωσι πόδεσσιν·',\n 'ὧς οἱ ὑπ’ Ὀρφῆος κιθάρῃ πέπληγον ἐρετμοῖς πόντου λάβρον ὕδωρ, ἐπὶ δὲ ῥόθια κλύζοντο·',\n 'ἀφρῷ δ’ ἔνθα καὶ ἔνθα κελαινὴ κήκιεν ἅλμη δεινὸν μορμύρουσα ἐρισθενέων μένει ἀνδρῶν.',\n 'στράπτε δ’ ὑπ’ ἠελίῳ φλογὶ εἴκελα νηὸς ἰούσης τεύχεα·',\n 'μακραὶ δ’ αἰὲν ἐλευκαίνοντο κέλευθοι, ἀτραπὸς ὣς χλοεροῖο διειδομένη πεδίοιο.',\n 'πάντες δ’ οὐρανόθεν λεῦσσον θεοὶ ἤματι κείνῳ νῆα καὶ ἡμιθέων ἀνδρῶν μένος, οἳ τότ’ ἄριστοι πόντον ἐπιπλώεσκον·',\n 'ἐπ’ ἀκροτάτῃσι δὲ νύμφαι Πηλιάδες κορυφῇσιν ἐθάμβεον εἰσορόωσαι ἔργον Ἀθηναίης Ἰτωνίδος, ἠδὲ καὶ αὐτοὺς ἥρωας χείρεσσιν ἐπικραδάοντας ἐρετμά.',\n 'αὐτὰρ ὅγ’ ἐξ ὑπάτου ὄρεος κίεν ἄγχι θαλάσσης χείρων Φιλλυρίδης, πολιῇ δ’ ἐπὶ κύματος ἀγῇ τέγγε πόδας, καὶ πολλὰ βαρείῃ χειρὶ κελεύων, νόστον ἐπευφήμησεν ἀκηδέα νισσομένοισιν.',\n 'σὺν καί οἱ παράκοιτις ἐπωλένιον φορέουσα Πηλεΐδην Ἀχιλῆα, φίλῳ δειδίσκετο πατρί.',\n 'οἱ δ’ ὅτε δὴ λιμένος περιηγέα κάλλιπον ἀκτὴν φραδμοσύνῃ μήτι τε δαΐφρονος Ἁγνιάδαο Τίφυος, ὅς ῥ’ ἐνὶ χερσὶν ἐύξοα τεχνηέντως πηδάλι’ ἀμφιέπεσκ’, ὄφρ’ ἔμπεδον ἐξιθύνοι, δή ῥα τότε μέγαν ἱστὸν ἐνεστήσαντο μεσόδμῃ, δῆσαν δὲ προτόνοισι, τανυσσάμενοι ἑκάτερθεν, κὰδ δ’ αὐτοῦ λίνα χεῦαν, ἐπ’ ἠλακάτην ἐρύσαντες.',\n 'ἐν δὲ λιγὺς πέσεν οὖρος·',\n 'ἐπ’ ἰκριόφιν δὲ κάλωας ξεστῇσιν περόνῃσι διακριδὸν ἀμφιβαλόντες Τισαίην εὔκηλοι ὑπὲρ δολιχὴν θέον ἄκρην.',\n 'τοῖσι δὲ φορμίζων εὐθήμονι μέλπεν ἀοιδῇ Οἰάγροιο πάις νηοσσόον εὐπατέρειαν Ἄρτεμιν, ἣ κείνας σκοπιὰς ἁλὸς ἀμφιέπεσκεν ῥυομένη καὶ γαῖαν Ἰωλκίδα·',\n 'τοὶ δὲ βαθείης ἰχθύες ἀίσσοντες ὕπερθ’ ἁλός, ἄμμιγα παύροις ἄπλετοι, ὑγρὰ κέλευθα διασκαίροντες ἕποντο.',\n 'ὡς δ’ ὁπότ’ ἀγραύλοιο κατ’ ἴχνια σημαντῆρος μυρία μῆλ’ ἐφέπονται ἄδην κεκορημένα ποίης εἰς αὖλιν, ὁ δέ τ’ εἶσι πάρος σύριγγι λιγείῃ καλὰ μελιζόμενος νόμιον μέλος, ὧς ἄρα τοίγε ὡμάρτευν·',\n 'τὴν δ’ αἰὲν ἐπασσύτερος φέρεν οὖρος.',\n 'αὐτίκα δ’ ἠερίη πολυλήιος αἶα Πελασγῶν δύετο, Πηλιάδας δὲ παρεξήμειβον ἐρίπνας αἰὲν ἐπιπροθέοντες·',\n 'ἔδυνε δὲ Σηπιὰς ἄκρη, φαίνετο δ’ εἰναλίη Σκίαθος, φαίνοντο δ’ ἄπωθεν Πειρεσιαὶ Μάγνησσά θ’ ὑπεύδιος ἠπείροιο ἀκτὴ καὶ τύμβος Δολοπήιος·',\n 'ἔνθ’ ἄρα τοίγε ἑσπέριοι ἀνέμοιο παλιμπνοίῃσιν ἔκελσαν, καί μιν κυδαίνοντες ὑπὸ κνέφας ἔντομα μήλων κεῖαν, ὀρινομένης ἁλὸς οἴδματι·',\n 'διπλόα δ’ ἀκταῖς ἤματ’ ἐλινύεσκον·',\n 'ἀτὰρ τριτάτῳ προέηκαν νῆα, τανυσσάμενοι περιώσιον ὑψόθι λαῖφος.',\n 'τὴν δ’ ἀκτὴν Ἀφέτας Ἀργοῦς ἔτι κικλήσκουσιν.',\n 'ἔνθεν δὲ προτέρωσε παρεξέθεον Μελίβοιαν.',\n 'ἀκτήν τ’ αἰγιαλόν τε δυσήνεμον εἰσορόωντες.',\n 'ἠῶθεν δ’ Ὁμόλην αὐτοσχεδὸν εἰσορόωντες πόντῳ κεκλιμένην παρεμέτρεον·',\n 'οὐδ’ ἔτι δηρὸν μέλλον ὑπὲκ ποταμοῖο βαλεῖν Ἀμύροιο ῥέεθρα.',\n 'κεῖθεν δ’ Εὐρυμενάς τε πολυκλύστους τε φάραγγας Ὄσσης Οὐλύμποιό τ’ ἐσέδρακον·',\n 'αὐτὰρ ἔπειτα κλίτεα Παλλήναια, Καναστραίην ὑπὲρ ἄκρην, ἤνυσαν ἐννύχιοι πνοιῇ ἀνέμοιο θέοντες.',\n 'ἦρι δὲ νισσομένοισιν Ἄθω ἀνέτελλε κολώνη Θρηικίη, ἣ τόσσον ἀπόπροθι Λῆμνον ἐοῦσαν, ὅσσον ἐς ἔνδιόν κεν ἐύστολος ὁλκὰς ἀνύσσαι, ἀκροτάτῃ κορυφῇ σκιάει, καὶ ἐσάχρι Μυρίνης.',\n 'τοῖσιν δ’ αὐτῆμαρ μὲν ἄεν καὶ ἐπὶ κνέφας οὖρος πάγχυ μάλ’ ἀκραής, τετάνυστο δὲ λαίφεα νηός.',\n 'αὐτὰρ ἅμ’ ἠελίοιο βολαῖς ἀνέμοιο λιπόντος εἰρεσίῃ κραναὴν Σιντηίδα Λῆμνον ἵκοντο.',\n 'ἔνθ’ ἄμυδις πᾶς δῆμος ὑπερβασίῃσι γυναικῶν νηλειῶς δέδμητο παροιχομένῳ λυκάβαντι.',\n 'δὴ γὰρ κουριδίας μὲν ἀπηνήναντο γυναῖκας ἀνέρες ἐχθήραντες, ἔχον δ’ ἐπὶ ληιάδεσσιν τρηχὺν ἔρον, ἃς αὐτοὶ ἀγίνεον ἀντιπέρηθεν Θρηικίην δῃοῦντες·',\n 'ἐπεὶ χόλος αἰνὸς ὄπαζεν Κύπριδος, οὕνεκά μιν γεράων ἐπὶ δηρὸν ἄτισσαν.',\n 'ὦ μέλεαι, ζήλοιό τ’ ἐπισμυγερῶς ἀκόρητοι.',\n 'οὐκ οἶον σὺν τῇσιν ἑοὺς ἔρραισαν ἀκοίτας ἀμφ’ εὐνῇ, πᾶν δ’ ἄρσεν ὁμοῦ γένος, ὥς κεν ὀπίσσω μήτινα λευγαλέοιο φόνου τίσειαν ἀμοιβήν.',\n 'οἴη δ’ ἐκ πασέων γεραροῦ περιφείσατο πατρὸς Ὑψιπύλεια Θόαντος, ὃ δὴ κατὰ δῆμον ἄνασσεν·',\n 'λάρνακι δ’ ἐν κοίλῃ μιν ὕπερθ’ ἁλὸς ἧκε φέρεσθαι, αἴ κε φύγῃ.',\n 'καὶ τὸν μὲν ἐς Οἰνοίην ἐρύσαντο πρόσθεν, ἀτὰρ Σίκινόν γε μεθύστερον αὐδηθεῖσαν νῆσον, ἐπακτῆρες, Σικίνου ἄπο, τόν ῥα Θόαντι νηιὰς Οἰνοίη νύμφη τέκεν εὐνηθεῖσα.',\n 'τῇσι δὲ βουκόλιαί τε βοῶν χάλκειά τε δύνειν τεύχεα, πυροφόρους τε διατμήξασθαι ἀρούρας ῥηίτερον πάσῃσιν Ἀθηναίης πέλεν ἔργων, οἷς αἰεὶ τὸ πάροιθεν ὁμίλεον.',\n 'ἀλλὰ γὰρ ἔμπης ἦ θαμὰ δὴ πάπταινον ἐπὶ πλατὺν ὄμμασι πόντον δείματι λευγαλέῳ, ὁπότε Θρήικες ἴασιν.',\n 'τῶ καὶ ὅτ’ ἐγγύθι νήσου ἐρεσσομένην ἴδον Ἀργώ, αὐτίκα πασσυδίῃ πυλέων ἔκτοσθε Μυρίνης δήια τεύχεα δῦσαι ἐς αἰγιαλὸν προχέοντο, Θυιάσιν ὠμοβόροις ἴκελαι·',\n 'φὰν γάρ που ἱκάνειν Θρήικας·',\n 'ἡ δ’ ἅμα τῇσι Θοαντιὰς Ὑψιπύλεια δῦν’ ἐνὶ τεύχεσι πατρός.',\n 'ἀμηχανίῃ δ’ ἐχέοντο ἄφθογγοι·',\n 'τοῖόν σφιν ἐπὶ δέος ᾐωρεῖτο.',\n 'τείως δ’ αὖτ’ ἐκ νηὸς ἀριστῆες προέηκαν Αἰθαλίδην κήρυκα θοόν, τῷπέρ τε μέλεσθαι ἀγγελίας καὶ σκῆπτρον ἐπέτρεπον Ἑρμείαο, σφωιτέροιο τοκῆος, ὅ οἱ μνῆστιν πόρε πάντων ἄφθιτον·',\n 'οὐδ’ ἔτι νῦν περ ἀποιχομένου Ἀχέροντος δίνας ἀπροφάτους ψυχὴν ἐπιδέδρομε λήθη·',\n 'ἀλλ’ ἥγ’ ἔμπεδον αἰὲν ἀμειβομένη μεμόρηται, ἄλλοθ’ ὑποχθονίοις ἐναρίθμιος, ἄλλοτ’ ἐς αὐγὰς ἠελίου ζωοῖσι μετ’ ἀνδράσιν.',\n 'ἀλλὰ τί μύθους Αἰθαλίδεω χρειώ με διηνεκέως ἀγορεύειν;',\n 'ὅς ῥα τόθ’ Ὑψιπύλην μειλίξατο δέχθαι ἰόντας ἤματος ἀνομένοιο διὰ κνέφας·',\n 'οὐδὲ μὲν ἠοῖ πείσματα νηὸς ἔλυσαν ἐπὶ πνοιῇ βορέαο.',\n 'Λημνιάδες δὲ γυναῖκες ἀνὰ πτόλιν ἷζον ἰοῦσαι εἰς ἀγορήν·',\n 'αὐτὴ γὰρ ἐπέφραδεν Ὑψιπύλεια.',\n 'καί ῥ’ ὅτε δὴ μάλα πᾶσαι ὁμιλαδὸν ἠγερέθοντο, αὐτίκ’ ἄρ’ ἥγ’ ἐνὶ τῇσιν ἐποτρύνουσ’ ἀγόρευεν·',\n ' ὦ φιλαι, εἰ δ’ ἄγε δὴ μενοεικέα δῶρα πόρωμεν ἀνδράσιν, οἷά τ’ ἔοικεν ἄγειν ἐπὶ νηὸς ἔχοντας, ἤια, καὶ μέθυ λαρόν, ἵν’ ἔμπεδον ἔκτοθι πύργων μίμνοιεν, μηδ’ ἄμμε κατὰ χρειὼ μεθέποντες ἀτρεκέως γνώωσι, κακὴ δ’ ἐπὶ πολλὸν ἵκηται βάξις·',\n 'ἐπεὶ μέγα ἔργον ἐρέξαμεν, οὐδέ τι πάμπαν θυμηδὲς καὶ τοῖσι τόγ’ ἔσσεται, εἴ κε δαεῖεν.',\n 'ἡμετέρη μὲν νῦν τοίη παρενήνοθε μῆτις·',\n 'ὑμέων δ’ εἴ τις ἄρειον ἔπος μητίσεται ἄλλη, ἐγρέσθω·',\n 'τοῦ γάρ τε καὶ εἵνεκα δεῦρ’ ἐκάλεσσα\".',\n 'ὧς ἄρ’ ἔφη, καὶ θῶκον ἐφίζανε πατρὸς ἑοῖο λάινον·',\n 'αὐτὰρ ἔπειτα φίλη τροφὸς ὦρτο Πολυξώ, γήραϊ δὴ ῥικνοῖσιν ἐπισκάζουσα πόδεσσιν, βάκτρῳ ἐρειδομένη, περὶ δὲ μενέαιν’ ἀγορεῦσαι.',\n 'τῇ καὶ παρθενικαὶ πίσυρες σχεδὸν ἑδριόωντο ἀδμῆτες λευκῇσιν ἐπιχνοαούσῃ ἐθείραις.',\n 'στῆ δ’ ἄρ’ ἐνὶ μέσσῃ ἀγορῇ, ἀνὰ δ’ ἔσχεθε δειρὴν ἦκα μόλις κυφοῖο μεταφρένου, ὧδέ τ’ ἔειπεν·',\n ' δῶρα μέν, ὡς αὐτῇ περ ἐφανδάνει Ὑψιπυλείῃ, πέμπωμεν ξείνοισιν, ἐπεὶ καὶ ἄρειον ὀπάσσαι.',\n 'ὔμμι γε μὴν τίς μῆτις ἐπαυρέσθαι βιότοιο, αἴ κεν ἐπιβρίσῃ Θρήιξ στρατός, ἠέ τις ἄλλος δυσμενέων, ἅ τε πολλὰ μετ’ ἀνθρώποισι πέλονται;',\n 'ὡς καὶ νῦν ὅδ’ ὅμιλος ἀνωίστως ἐφικάνει.',\n 'εἰ δὲ τὸ μὲν μακάρων τις ἀποτρέποι, ἄλλα δ’ ὀπίσσω μυρία δηιοτῆτος ὑπέρτερα πήματα μίμνει, εὖτ’ ἂν δὴ γεραραὶ μὲν ἀποφθινύθωσι γυναῖκες, κουρότεραι δ’ ἄγονοι στυγερὸν ποτὶ γῆρας ἵκησθε.',\n 'πῶς τῆμος βώσεσθε δυσάμμοροι;',\n 'ἦε βαθείαις αὐτόματοι βόες ὔμμιν ἐνιζευχθέντες ἀρούραις γειοτόμον νειοῖο διειρύσσουσιν ἄροτρον, καὶ πρόκα τελλομένου ἔτεος στάχυν ἀμήσονται;',\n 'ἦ μὲν ἐγών, εἰ καί με τὰ νῦν ἔτι πεφρίκασιν κῆρες, ἐπερχόμενόν που ὀίομαι εἰς ἔτος ἤδη γαῖαν ἐφέσσεσθαι, κτερέων ἀπὸ μοῖραν ἑλοῦσαν αὔτως, ἣ θέμις ἐστί, πάρος κακότητα πελάσσαι.',\n 'ὁπλοτέρῃσι δὲ πάγχυ τάδε φράζεσθαι ἄνωγα.',\n 'νῦν γὰρ δὴ παρὰ ποσσὶν ἐπήβολός ἐστ’ ἀλεωρή, εἴ κεν ἐπιτρέψητε δόμους καὶ ληίδα πᾶσαν ὑμετέρην ξείνοισι καὶ ἀγλαὸν ἄστυ μέλεσθαι\".',\n 'ὧς ἔφατ’·',\n 'ἐν δ’ ἀγορὴ πλῆτο θρόου.',\n 'εὔαδε γάρ σφιν μῦθος.',\n 'ἀτὰρ μετὰ τήνγε παρασχεδὸν αὖτις ἀνῶρτο Ὑψιπύλη, καὶ τοῖον ὑποβλήδην ἔπος ηὔδα·',\n ' εἰ μὲν δὴ πάσῃσιν ἐφανδάνει ἥδε μενοινή, ἤδη κεν μετὰ νῆα καὶ ἄγγελον ὀτρύναιμι\".',\n 'ἦ ῥα, καὶ Ἰφινόην μετεφώνεεν ἆσσον ἐοῦσαν·',\n ' ὄρσο μοι, Ἰφινόη, τοῦδ’ ἀνέρος ἀντιόωσα, ἡμέτερόνδε μολεῖν, ὅστις στόλου ἡγεμονεύει, ὄφρα τί οἱ δήμοιο ἔπος θυμῆρες ἐνίσπω·',\n 'καὶ δ’ αὐτοὺς γαίης τε καὶ ἄστεος, αἴ κ’ ἐθέλωσιν, κέκλεο θαρσαλέως ἐπιβαινέμεν εὐμενέοντας\".',\n 'ἦ, καὶ ἔλυσ’ ἀγορήν, μετὰ δ’ εἰς ἑὸν ὦρτο νέεσθαι.',\n 'ὧς δὲ καὶ Ἰφινόη Μινύας ἵκεθ’·',\n 'οἱ δ’ ἐρέεινον, χρεῖος ὅ τι φρονέουσα μετήλυθεν.',\n 'ὦκα δὲ τούσγε πασσυδίῃ μύθοισι προσέννεπεν ἐξερέοντας·',\n ' κούρη τοί μ’ ἐφέηκε Θοαντιὰς ἐνθάδ’ ἰοῦσαν, Ὑψιπύλη, καλέειν νηὸς πρόμον, ὅστις ὄρωρεν, ὄφρα τί οἱ δήμοιο ἔπος θυμῆρες ἐνίσπῃ·',\n 'καὶ δ’ αὐτοὺς γαίης τε καὶ ἄστεος, αἴ κ’ ἐθέλητε, κέκλεται αὐτίκα νῦν ἐπιβαινέμεν εὐμενέοντας\".',\n 'ὧς ἄρ’ ἔφη·',\n 'πάντεσσι δ’ ἐναίσιμος ἥνδανε μῦθος.',\n 'Ὑψιπύλην δ’ εἴσαντο καταφθιμένοιο Θόαντος τηλυγέτην γεγαυῖαν ἀνασσέμεν·',\n 'ὦκα δὲ τόνγε πέμπον ἴμεν, καὶ δ’ αὐτοὶ ἐπεντύνοντο νέεσθαι.',\n 'αὐτὰρ ὅγ’ ἀμφ’ ὤμοισι θεᾶς Τριτωνίδος ἔργον, δίπλακα πορφυρέην περονήσατο, τήν οἱ ὄπασσεν Παλλάς, ὅτε πρῶτον δρυόχους ἐπεβάλλετο νηὸς Ἀργοῦς, καὶ κανόνεσσι δάε ζυγὰ μετρήσασθαι.',\n 'τῆς μὲν ῥηίτερόν κεν ἐς ἠέλιον ἀνιόντα ὄσσε βάλοις, ἢ κεῖνο μεταβλέψειας ἔρευθος.',\n 'δὴ γάρ τοι μέσση μὲν ἐρευθήεσσ’ ἐτέτυκτο, ἄκρα δὲ πορφυρέη πάντῃ πέλεν·',\n 'ἐν δ’ ἄρ’ ἑκάστῳ τέρματι δαίδαλα πολλὰ διακριδὸν εὖ ἐπέπαστο.',\n 'ἐν μὲν ἔσαν Κύκλωπες ἐπ’ ἀφθίτῳ ἥμενοι ἔργῳ, Ζηνὶ κεραυνὸν ἄνακτι πονεύμενοι·',\n 'ὃς τόσον ἤδη παμφαίνων ἐτέτυκτο, μιῆς δ’ ἔτι δεύετο μοῦνον ἀκτῖνος, τὴν οἵδε σιδηρείῃς ἐλάασκον σφύρῃσιν, μαλεροῖο πυρὸς ζείουσαν ἀυτμήν.',\n 'ἐν δ’ ἔσαν Ἀντιόπης Ἀσωπίδος υἱέε δοιώ, Ἀμφίων καὶ Ζῆθος·',\n 'ἀπύργωτος δ’ ἔτι Θήβη κεῖτο πέλας, τῆς οἵγε νέον βάλλοντο δομαίους ἱέμενοι.',\n 'Ζῆθος μὲν ἐπωμαδὸν ἠέρταζεν οὔρεος ἠλιβάτοιο κάρη, μογέοντι ἐοικώς·',\n 'Ἀμφίων δ’ ἐπί οἱ χρυσέῃ φόρμιγγι λιγαίνων ἤιε, δὶς τόσση δὲ μετ’ ἴχνια νίσσετο πέτρη ἑξείης δ’ ἤσκητο βαθυπλόκαμος Κυθέρεια Ἄρεος ὀχμάζουσα θοὸν σάκος·',\n 'ἐκ δέ οἱ ὤμου πῆχυν ἔπι σκαιὸν ξυνοχὴ κεχάλαστο χιτῶνος νέρθεν ὑπὲκ μαζοῖο·',\n 'τὸ δ’ ἀντίον ἀτρεκὲς αὔτως χαλκείῃ δείκηλον ἐν ἀσπίδι φαίνετ’ ἰδέσθαι.',\n 'ἐν δὲ βοῶν ἔσκεν λάσιος νομός·',\n 'ἀμφὶ δὲ βουσὶν Τηλεβόαι μάρναντο καὶ υἱέες Ἠλεκτρύωνος·',\n 'οἱ μὲν ἀμυνόμενοι, ἀτὰρ οἵγ’ ἐθέλοντες ἀμέρσαι, ληισταὶ Τάφιοι·',\n 'τῶν δ’ αἵματι δεύετο λειμὼν ἑρσήεις, πολέες δ’ ὀλίγους βιόωντο νομῆας.',\n 'ἐν δὲ δύω δίφροι πεπονήατο δηριόωντες.',\n 'καὶ τὸν μὲν προπάροιθε Πέλοψ ἴθυνε, τινάσσων ἡνία, σὺν δέ οἱ ἔσκε παραιβάτις Ἱπποδάμεια·',\n 'τὸν δὲ μεταδρομάδην ἐπὶ Μυρτίλος ἤλασεν ἵππους, σὺν τῷ δ’ Οἰνόμαος προτενὲς δόρυ χειρὶ μεμαρπὼς ἄξονος ἐν πλήμνῃσι παρακλιδὸν ἀγνυμένοιο πῖπτεν, ἐπεσσύμενος Πελοπήια νῶτα δαΐξαι.',\n 'ἐν καὶ Ἀπόλλων Φοῖβος ὀιστεύων ἐτέτυκτο, βούπαις οὔπω πολλός, ἑὴν ἐρύοντα καλύπτρης μητέρα θαρσαλέως Τιτυὸν μέγαν, ὅν ῥ’ ἔτεκέν γε δῖ’ Ἐλάρη, θρέψεν δὲ καὶ ἂψ ἐλοχεύσατο Γαῖα.',\n 'ἐν καὶ Φρίξος ἔην Μινυήιος ὡς ἐτεόν περ εἰσαΐων κριοῦ, ὁ δ’ ἄρ’ ἐξενέποντι ἐοικώς.',\n 'κείνους κ’ εἰσορόων ἀκέοις, ψεύδοιό τε θυμόν, ἐλπόμενος πυκινήν τιν’ ἀπὸ σφείων ἐσακοῦσαι βάξιν, ὃ καὶ δηρόν περ ἐπ’ ἐλπίδι θηήσαιο.',\n 'τοῖ’ ἄρα δῶρα θεᾶς Τριτωνίδος ἦεν Ἀθήνης.',\n 'δεξιτερῇ δ’ ἕλεν ἔγχος ἑκηβόλον, ὅ ῥ’ Ἀταλάντη Μαινάλῳ ἔν ποτέ οἱ ξεινήιον ἐγγυάλιξεν, πρόφρων ἀντομένη·',\n 'περὶ γὰρ μενέαινεν ἕπεσθαι τὴν ὁδόν·',\n 'ἀλλὰ γὰρ αὐτὸς ἑκὼν ἀπερήτυε κούρην, δεῖσεν δ’ ἀργαλέας ἔριδας φιλότητος ἕκητι.',\n 'βῆ δ’ ἴμεναι προτὶ ἄστυ, φαεινῷ ἀστέρι ἶσος, ὅν ῥά τε νηγατέῃσιν ἐεργόμεναι καλύβῃσιν νύμφαι θηήσαντο δόμων ὕπερ ἀντέλλοντα, καί σφισι κυανέοιο δι’ ἠέρος ὄμματα θέλγει καλὸν ἐρευθόμενος, γάνυται δέ τε ἠιθέοιο παρθένος ἱμείρουσα μετ’ ἀλλοδαποῖσιν ἐόντος ἀνδράσιν, ᾧ καί μιν μνηστὴν κομέουσι τοκῆες·',\n 'τῷ ἴκελος πρὸ πόληος ἀνὰ στίβον ἤιεν ἥρως.',\n 'καί ῥ’ ὅτε δὴ πυλέων τε καὶ ἄστεος ἐντὸς ἔβησαν, δημότεραι μὲν ὄπισθεν ἐπεκλονέοντο γυναῖκες, γηθόσυναι ξείνῳ·',\n 'ὁ δ’ ἐπὶ χθονὸς ὄμματ’ ἐρείσας νίσσετ’ ἀπηλεγέως, ὄφρ’ ἀγλαὰ δώμαθ’ ἵκανεν Ὑψιπύλης·',\n 'ἄνεσαν δὲ πύλας προφανέντι θεράπναι δικλίδας, εὐτύκτοισιν ἀρηρεμένας σανίδεσσιν.',\n 'ἔνθα μιν Ἰφινόη κλισμῷ ἔνι παμφανόωντι ἐσσυμένως καλῆς διὰ παστάδος εἷσεν ἄγουσα ἀντία δεσποίνης·',\n 'ἡ δ’ ἐγκλιδὸν ὄσσε βαλοῦσα παρθενικὰς ἐρύθηνε παρηίδας·',\n 'ἔμπα δὲ τόνγε αἰδομένη μύθοισι προσέννεπεν αἱμυλίοισιν·',\n ' ξεῖνε, τίη μίμνοντες ἐπὶ χρόνον ἔκτοθι πύργων ἧσθ’ αὔτως;',\n 'ἐπεὶ οὐ μὲν ὑπ’ ἀνδράσι ναίεται ἄστυ, ἀλλὰ Θρηικίης ἐπινάστιοι ἠπείροιο πυροφόρους ἀρόωσι γύας.',\n 'κακότητα δὲ πᾶσαν ἐξερέω νημερτές, ἵν’ εὖ γνοίητε καὶ αὐτοί.',\n 'εὖτε Θόας ἀστοῖσι πατὴρ ἐμὸς ἐμβασίλευεν, τηνίκα Θρηικίην, οἵ τ’ ἀντία ναιετάουσιν, δήμου ἀπορνύμενοι λαοὶ πέρθεσκον ἐπαύλους ἐκ νηῶν, αὐτῇσι δ’ ἀπείρονα ληίδα κούραις δεῦρ’ ἄγον·',\n 'οὐλομένης δὲ θεᾶς πορσύνετο μῆτις Κύπριδος, ἥ τέ σφιν θυμοφθόρον ἔμβαλεν ἄτην.',\n 'δὴ γὰρ κουριδίας μὲν ἀπέστυγον, ἐκ δὲ μελάθρων, ᾗ ματίῃ εἴξαντες, ἀπεσσεύοντο γυναῖκας·',\n 'αὐτὰρ ληιάδεσσι δορικτήταις παρίαυον, σχέτλιοι.',\n 'ἦ μὲν δηρὸν ἐτέτλαμεν, εἴ κέ ποτ’ αὖτις ὀψὲ μεταστρέψωσι νόον·',\n 'τὸ δὲ διπλόον αἰεὶ πῆμα κακὸν προύβαινεν.',\n 'ἀτιμάζοντο δὲ τέκνα γνήσι’ ἐνὶ μεγάροις, σκοτίη δ’ ἀνέτελλε γενέθλη.',\n 'αὔτως δ’ ἀδμῆτές τε κόραι, χῆραί τ’ ἐπὶ τῇσιν μητέρες ἂμ πτολίεθρον ἀτημελέες ἀλάληντο.',\n 'οὐδὲ πατὴρ ὀλίγον περ ἑῆς ἀλέγιζε θυγατρός, εἰ καὶ ἐν ὀφθαλμοῖσι δαϊζομένην ὁρόῳτο μητρυιῆς ὑπὸ χερσὶν ἀτασθάλου·',\n 'οὐδ’ ἀπὸ μητρὸς λώβην, ὡς τὸ πάροιθεν, ἀεικέα παῖδες ἄμυνον·',\n 'οὐδὲ κασιγνήτοισι κασιγνήτη μέλε θυμῷ.',\n 'ἀλλ’ οἶαι κοῦραι ληίτιδες ἔν τε δόμοισιν ἔν τε χοροῖς ἀγορῇ τε καὶ εἰλαπίνῃσι μέλοντο·',\n 'εἰσόκε τις θεὸς ἄμμιν ὑπέρβιον ἔμβαλε θάρσος, ἂψ ἀναερχομένους Θρῃκῶν ἄπο μηκέτι πύργοις δέχθαι, ἵν’ ἢ φρονέοιεν ἅπερ θέμις, ἠέ πῃ ἄλλῃ αὐταῖς ληιάδεσσιν ἀφορμηθέντες ἵκοιντο.',\n 'οἱ δ’ ἄρα θεσσάμενοι παίδων γένος, ὅσσον ἔλειπτο ἄρσεν ἀνὰ πτολίεθρον, ἔβαν πάλιν, ἔνθ’ ἔτι νῦν περ Θρηικίης ἄροσιν χιονώδεα ναιετάουσιν.',\n 'τῶ ὑμεῖς στρωφᾶσθ’ ἐπιδήμιοι·',\n 'εἰ δέ κεν αὖθι ναιετάειν ἐθέλοις, καί τοι ἅδοι, ἦ τ’ ἂν ἔπειτα πατρὸς ἐμεῖο Θόαντος ἔχοις γέρας·',\n 'οὐδέ τί σ’ οἴω γαῖαν ὀνόσσεσθαι·',\n 'περὶ γὰρ βαθυλήιος ἄλλων νήσων, Αἰγαίῃ ὅσαι εἰν ἁλὶ ναιετάουσιν.',\n 'ἀλλ’ ἄγε νῦν ἐπὶ νῆα κιὼν ἑτάροισιν ἐνίσπες μύθους ἡμετέρους, μηδ’ ἔκτοθι μίμνε πόληος\".',\n 'ἴσκεν, ἀμαλδύνουσα φόνου τέλος, οἷον ἐτύχθη ἀνδράσιν·',\n 'αὐτὰρ ὁ τήνγε παραβλήδην προσέειπεν\" Ὑψιπύλη, μάλα κεν θυμηδέος ἀντιάσαιμεν χρησμοσύνης, ἣν ἄμμι σέθεν χατέουσιν ὀπάζεις.',\n 'εἶμι δ’ ὑπότροπος αὖτις ἀνὰ πτόλιν, εὖτ’ ἂν ἕκαστα ἐξείπω κατὰ κόσμον.',\n 'ἀνακτορίη δὲ μελέσθω σοίγ’ αὐτῇ καὶ νῆσος·',\n 'ἔγωγε μὲν οὐκ ἀθερίζων χάζομαι, ἀλλά με λυγροὶ ἐπισπέρχουσιν ἄεθλοι\".',\n 'ἦ, καὶ δεξιτερῆς χειρὸς θίγεν·',\n 'αἶψα δ’ ὀπίσσω βῆ ῥ’ ἴμεν, ἀμφὶ δὲ τόνγε νεήνιδες ἄλλοθεν ἄλλαι μυρίαι εἱλίσσοντο κεχαρμέναι, ὄφρα πυλάων ἐξέμολεν.',\n 'μετέπειτα δ’ ἐυτροχάλοισιν ἀμάξαις ἀκτὴν εἰσαπέβαν, ξεινήια πολλὰ φέρουσαι, μῦθον ὅτ’ ἤδη πάντα διηνεκέως ἀγόρευσεν, τόν ῥα καλεσσαμένη διεπέφραδεν Ὑψιπύλεια·',\n 'καὶ δ’ αὐτοὺς ξεινοῦσθαι ἐπὶ σφέα δώματ’ ἄγεσκον ῥηιδίως.',\n 'Κύπρις γὰρ ἐπὶ γλυκὺν ἵμερον ὦρσεν Ἡφαίστοιο χάριν πολυμήτιος, ὄφρα κεν αὖτις ναίηται μετόπισθεν ἀκήρατος ἀνδράσι Λῆμνος.',\n 'ἔνθ’ ὁ μὲν Ὑψιπύλης βασιλήιον ἐς δόμον ὦρτο Αἰσονίδης·',\n 'οἱ δ’ ἄλλοι ὅπῃ καὶ ἔκυρσαν ἕκαστος, Ἡρακλῆος ἄνευθεν, ὁ γὰρ παρὰ νηὶ λέλειπτο αὐτὸς ἑκὼν παῦροί τε διακρινθέντες ἑταῖροι.',\n 'αὐτίκα δ’ ἄστυ χοροῖσι καὶ εἰλαπίνῃσι γεγήθει καπνῷ κνισήεντι περίπλεον·',\n 'ἔξοχα δ’ ἄλλων ἀθανάτων Ἥρης υἷα κλυτὸν ἠδὲ καὶ αὐτὴν Κύπριν ἀοιδῇσιν θυέεσσί τε μειλίσσοντο.',\n 'ἀμβολίη δ’ εἰς ἦμαρ ἀεὶ ἐξ ἤματος ἦεν ναυτιλίης·',\n 'δηρὸν δ’ ἂν ἐλίνυον αὖθι μένοντες, εἰ μὴ ἀολλίσσας ἑτάρους ἀπάνευθε γυναικῶν Ἡρακλέης τοίοισιν ἐνιπτάζων μετέειπεν·',\n ' δαιμόνιοι, πάτρης ἐμφύλιον αἷμ’ ἀποέργει ἡμέας;',\n 'ἦε γάμων ἐπιδευέες ἐνθάδ’ ἔβημεν κεῖθεν, ὀνοσσάμενοι πολιήτιδας;',\n 'αὖθι δ’ ἕαδεν ναίοντας λιπαρὴν ἄροσιν Λήμνοιο ταμέσθαι;',\n 'οὐ μὰν εὐκλειεῖς γε σὺν ὀθνείῃσι γυναιξὶν ἐσσόμεθ’ ὧδ’ ἐπὶ δηρὸν ἐελμένοι·',\n 'οὐδέ τι κῶας αὐτόματον δώσει τις ἑλὼν θεὸς εὐξαμένοισιν.',\n 'ἴομεν αὖτις ἕκαστοι ἐπὶ σφέα·',\n 'τὸν δ’ ἐνὶ λέκτροις Ὑψιπύλης εἰᾶτε πανήμερον, εἰσόκε Λῆμνον παισὶν ἐσανδρώσῃ, μεγάλη τέ ἑ βάξις ἵκηται\".',\n 'ὧς νείκεσσεν ὅμιλον·',\n 'ἐναντία δ’ οὔ νύ τις ἔτλη ὄμματ’ ἀνασχεθέειν, οὐδὲ προτιμυθήσασθαι·',\n 'ἀλλ’ αὔτως ἀγορῆθεν ἐπαρτίζοντο νέεσθαι σπερχόμενοι.',\n 'ταὶ δέ σφιν ἐπέδραμον, εὖτ’ ἐδάησαν.',\n 'ὡς δ’ ὅτε λείρια καλὰ περιβρομέουσι μέλισσαι πέτρης ἐκχύμεναι σιμβληίδος, ἀμφὶ δὲ λειμὼν ἑρσήεις γάνυται, ταὶ δὲ γλυκὺν ἄλλοτε ἄλλον καρπὸν ἀμέργουσιν πεποτημέναι·',\n 'ὧς ἄρα ταίγε ἐνδυκὲς ἀνέρας ἀμφὶ κινυρόμεναι προχέοντο, χερσί τε καὶ μύθοισιν ἐδεικανόωντο ἕκαστον, εὐχόμεναι μακάρεσσιν ἀπήμονα νόστον ὀπάσσαι.',\n 'ὧς δὲ καὶ Ὑψιπύλη ἠρήσατο χεῖρας ἑλοῦσα Αἰσονίδεω, τὰ δέ οἱ ῥέε δάκρυα χήτει ἰόντος·',\n ' νίσσεο, καὶ σὲ θεοὶ σὺν ἀπηρέσιν αὖτις ἑταίροις χρύσειον βασιλῆι δέρος κομίσειαν ἄγοντα αὔτως, ὡς ἐθέλεις καί τοι φίλον.',\n 'ἥδε δὲ νῆσος σκῆπτρά τε πατρὸς ἐμεῖο παρέσσεται, ἢν καὶ ὀπίσσω δή ποτε νοστήσας ἐθέλῃς ἄψορρον ἱκέσθαι.',\n 'ῥηιδίως δ’ ἂν ἑοῖ καὶ ἀπείρονα λαὸν ἀγείραις ἄλλων ἐκ πολίων·',\n 'ἀλλ’ οὐ σύγε τήνδε μενοινὴν σχήσεις, οὔτ’ αὐτὴ προτιόσσομαι ὧδε τελεῖσθαι.',\n 'μνώεο μὴν ἀπεών περ ὁμῶς καὶ νόστιμος ἤδη Ὑψιπύλης·',\n 'λίπε δ’ ἧμιν ἔπος, τό κεν ἐξανύσαιμι πρόφρων, ἢν ἄρα δή με θεοὶ δώωσι τεκέσθαι\".',\n 'τὴν δ’ αὖτ’ Αἴσονος υἱὸς ἀγαιόμενος προσέειπεν·',\n ' Ὑψιπύλη, τὰ μὲν οὕτω ἐναίσιμα πάντα γένοιτο ἐκ μακάρων·',\n 'τύνη δ’ ἐμέθεν πέρι θυμὸν ἀρείω ἴσχαν’, ἐπεὶ πάτρην μοι ἅλις Πελίαο ἕκητι ναιετάειν·',\n 'μοῦνόν με θεοὶ λύσειαν ἀέθλων.',\n 'εἰ δ’ οὔ μοι πέπρωται ἐς Ἑλλάδα γαῖαν ἱκέσθαι τηλοῦ ἀναπλώοντι, σὺ δ’ ἄρσενα παῖδα τέκηαι, πέμπε μιν ἡβήσαντα Πελασγίδος ἔνδον Ἰωλκοῦ πατρί τ’ ἐμῷ καὶ μητρὶ δύης ἄκος, ἢν ἄρα τούσγε τέτμῃ ἔτι ζώοντας, ἵν’ ἄνδιχα τοῖο ἄνακτος σφοῖσιν πορσύνωνται ἐφέστιοι ἐν μεγάροισιν\".',\n 'ἦ, καὶ ἔβαιν’ ἐπὶ νῆα παροίτατος·',\n 'ὧς δὲ καὶ ἄλλοι βαῖνον ἀριστῆες·',\n 'λάζοντο δὲ χερσὶν ἐρετμὰ ἐνσχερὼ ἑζόμενοι·',\n 'πρυμνήσια δέ σφισιν Ἄργος λῦσεν ὑπὲκ πέτρης ἁλιμυρέος.',\n 'ἔνθ’ ἄρα τοίγε κόπτον ὕδωρ δολιχῇσιν ἐπικρατέως ἐλάτῃσιν.',\n 'ἑσπέριοι δ’ Ὀρφῆος ἐφημοσύνῃσιν ἔκελσαν νῆσον ἐς Ἠλέκτρης Ἀτλαντίδος, ὄφρα δαέντες ἀρρήτους ἀγανῇσι τελεσφορίῃσι θέμιστας σωότεροι κρυόεσσαν ὑπεὶρ ἅλα ναυτίλλοιντο.',\n 'τῶν μὲν ἔτ’ οὐ προτέρω μυθήσομαι·',\n 'ἀλλὰ καὶ αὐτὴ νῆσος ὁμῶς κεχάροιτο καὶ οἳ λάχον ὄργια κεῖνα δαίμονες ἐνναέται, τὰ μὲν οὐ θέμις ἄμμιν ἀείδειν.',\n 'κεῖθεν δ’ εἰρεσίῃ Μέλανος διὰ βένθεα πόντου ἱέμενοι τῇ μὲν Θρῃκῶν χθόνα, τῇ δὲ περαίην Ἴμβρον ἔχον καθύπερθε·',\n 'νέον γε μὲν ἠελίοιο δυομένου Χέρνησον ἐπὶ προύχουσαν ἵκοντο.',\n 'ἔνθα σφιν λαιψηρὸς ἄη νότος, ἱστία δ’ οὔρῳ στησάμενοι κούρης Ἀθαμαντίδος αἰπὰ ῥέεθρα εἰσέβαλον·',\n 'πέλαγος δὲ τὸ μὲν καθύπερθε λέλειπτο ἦρι, τὸ δ’ ἐννύχιοι Ῥοιτειάδος ἔνδοθεν ἀκτῆς μέτρεον, Ἰδαίην ἐπὶ δεξιὰ γαῖαν ἔχοντες.',\n 'Δαρδανίην δὲ λιπόντες ἐπιπροσέβαλλον Ἀβύδῳ, Περκώτην δ’ ἐπὶ τῇ καὶ Ἀβαρνίδος ἠμαθόεσσαν ἠιόνα ζαθέην τε παρήμειβον Πιτύειαν.',\n 'καὶ δὴ τοίγ’ ἐπὶ νυκτὶ διάνδιχα νηὸς ἰούσης δίνῃ πορφύροντα διήνυσαν Ἑλλήσποντον.',\n 'ἔστι δέ τις αἰπεῖα Προποντίδος ἔνδοθι νῆσος τυτθὸν ἀπὸ Φρυγίης πολυληίου ἠπείροιο εἰς ἅλα κεκλιμένη, ὅσσον τ’ ἐπιμύρεται ἰσθμὸς χέρσῳ ἐπιπρηνὴς καταειμένος·',\n 'ἐν δέ οἱ ἀκταὶ ἀμφίδυμοι, κεῖνται δ’ ὑπὲρ ὕδατος Αἰσήποιο.',\n 'Ἄρκτων μιν καλέουσιν ὄρος περιναιετάοντες·',\n 'καὶ τὸ μὲν ὑβρισταί τε καὶ ἄγριοι ἐνναίουσιν Γηγενέες, μέγα θαῦμα περικτιόνεσσιν ἰδέσθαι.',\n 'ἓξ γὰρ ἑκάστῳ χεῖρες ὑπέρβιοι ἠερέθονται, αἱ μὲν ἀπὸ στιβαρῶν ὤμων δύο, ταὶ δ’ ὑπένερθεν τέσσαρες αἰνοτάτῃσιν ἐπὶ πλευρῇς ἀραρυῖαι.',\n 'ἰσθμὸν δ’ αὖ πεδίον τε Δολίονες ἀμφενέμοντο ἀνέρες·',\n 'ἐν δ’ ἥρως Αἰνήιος υἱὸς ἄνασσεν Κύζικος, ὃν κούρη δίου τέκεν Εὐσώροιο Αἰνήτη.',\n 'τοὺς δ’ οὔτι καὶ ἔκπαγλοί περ ἐόντες Γηγενέες σίνοντο, Ποσειδάωνος ἀρωγῇ·',\n 'τοῦ γὰρ ἔσαν τὰ πρῶτα Δολίονες ἐκγεγαῶτες.',\n 'ἔνθ’ Ἀργὼ προύτυψεν ἐπειγομένη ἀνέμοισιν Θρηικίοις, Καλὸς δὲ λιμὴν ὑπέδεκτο θέουσαν.',\n 'κεῖσε καὶ εὐναίης ὀλίγον λίθον ἐκλύσαντες Τίφυος ἐννεσίῃσιν ὑπὸ κρήνῃ ἐλίποντο, κρήνῃ ὑπ’ Ἀρτακίῃ·',\n 'ἕτερον δ’ ἕλον, ὅστις ἀρήρει, βριθύν·',\n 'ἀτὰρ κεῖνόν γε θεοπροπίαις Ἑκάτοιο Νηλεΐδαι μετόπισθεν Ἰάονες ἱδρύσαντο ἱερόν, ἣ θέμις ἦεν, Ἰησονίης ἐν Ἀθήνης.',\n 'τοὺς δ’ ἄμυδις φιλότητι Δολίονες ἠδὲ καὶ αὐτὸς Κύζικος ἀντήσαντες ὅτε στόλον ἠδὲ γενέθλην ἔκλυον, οἵτινες εἶεν, ἐυξείνως ἀρέσαντο, καί σφεας εἰρεσίῃ πέπιθον προτέρωσε κιόντας ἄστεος ἐν λιμένι πρυμνήσια νηὸς ἀνάψαι, ἔνθ’ οἵγ’ Ἐκβασίῳ βωμὸν θέσαν Ἀπόλλωνι εἱσάμενοι παρὰ θῖνα, θυηπολίης τ’ ἐμέλοντο.',\n 'δῶκεν δ’ αὐτὸς ἄναξ λαρὸν μέθυ δευομένοισιν μῆλά θ’ ὁμοῦ·',\n 'δὴ γάρ οἱ ἔην φάτις, εὖτ’ ἂν ἵκωνται ἀνδρῶν ἡρώων θεῖος στόλος, αὐτίκα τόνγε μείλιχον ἀντιάαν, μηδὲ πτολέμοιο μέλεσθαι.',\n 'ἶσόν που κ- ἐκείνῳ ἐπισταχύεσκον ἴουλοι, οὐδέ νύ πω παίδεσσιν ἀγαλλόμενος μεμόρητο·',\n 'ἀλλ’ ἔτι οἱ κατὰ δώματ’ ἀκήρατος ἦεν ἄκοιτις ὠδίνων, Μέροπος Περκωσίου ἐκγεγαυῖα, Κλείτη ἐυπλόκαμος, τὴν μὲν νέον ἐξέτι πατρὸς θεσπεσίοις ἕδνοισιν ἀνήγαγεν ἀντιπέρηθεν.',\n 'ἀλλὰ καὶ ὧς θάλαμόν τε λιπὼν καὶ δέμνια νύμφης τοῖς μέτα δαῖτ’ ἀλέγυνε, βάλεν δ’ ἀπὸ δείματα θυμοῦ.',\n 'ἀλλήλους δ’ ἐρέεινον ἀμοιβαδίς·',\n 'ἤτοι ὁ μέν σφεων πεύθετο ναυτιλίης ἄνυσιν, Πελίαό τ’ ἐφετμάς·',\n 'οἱ δὲ περικτιόνων πόλιας καὶ κόλπον ἅπαντα εὐρείης πεύθοντο Προποντίδος·',\n 'οὐ μὲν ἐπιπρὸ ἠείδει καταλέξαι ἐελδομένοισι δαῆναι.',\n 'ἠοῖ δ’ εἰσανέβαν μέγα Δίνδυμον, ὄφρα καὶ αὐτοὶ θηήσαιντο πόρους κείνης ἁλός·',\n 'ἐκ δ’ ἄρα τοίγε νῆα Χυτοῦ λιμένος προτέρω ἐξήλασαν ὅρμον·',\n 'ἥδε δ’ Ἰησονίη πέφαται ὁδός, ἥνπερ ἔβησαν.',\n 'γηγενέες δ’ ἑτέρωθεν ἀπ’ οὔρεος ἀίξαντες φράξαν ἀπειρεσίοιο Χυτοῦ στόμα νειόθι πέτρῃς πόντιον, οἷά τε θῆρα λοχώμενοι ἔνδον ἐόντα.',\n 'ἀλλὰ γὰρ αὖθι λέλειπτο σὺν ἀνδράσιν ὁπλοτέροισιν Ἡρακλέης, ὃς δή σφι παλίντονον αἶψα τανύσσας τόξον ἐπασσυτέρους πέλασε χθονί·',\n 'τοὶ δὲ καὶ αὐτοὶ πέτρας ἀμφιρρῶγας ἀερτάζοντες ἔβαλλον.',\n 'δὴ γάρ που κ- ἐκεῖνα θεὰ τρέφεν αἰνὰ πέλωρα Ἥρη, Ζηνὸς ἄκοιτις, ἀέθλιον Ἡρακλῆι.',\n 'σὺν δὲ καὶ ὧλλοι δῆθεν ὑπότροποι ἀντιόωντες, πρίν περ ἀνελθέμεναι σκοπιήν, ἥπτοντο φόνοιο γηγενέων ἥρωες ἀρήιοι, ἠμὲν ὀιστοῖς ἠδὲ καὶ ἐγχείῃσι δεδεγμένοι, εἰσόκε πάντας ἀντιβίην ἀσπερχὲς ὀρινομένους ἐδάιξαν.',\n 'ὡς δ’ ὅτε δούρατα μακρὰ νέον πελέκεσσι τυπέντα ὑλοτόμοι στοιχηδὸν ἐπὶ ῥηγμῖνι βάλωσιν, ὄφρα νοτισθέντα κρατεροὺς ἀνεχοίατο γόμφους·',\n 'ὧς οἱ ἐνὶ ξυνοχῇ λιμένος πολιοῖο τέταντο ἑξείης, ἄλλοι μὲν ἐς ἁλμυρὸν ἀθρόοι ὕδωρ δύπτοντες κεφαλὰς καὶ στήθεα, γυῖα δ’ ὕπερθεν χέρσῳ τεινάμενοι·',\n 'τοὶ δ’ ἔμπαλιν, αἰγιαλοῖο κράατα μὲν ψαμάθοισι, πόδας δ’ εἰς βένθος ἔρειδον, ἄμφω ἅμ’ οἰωνοῖσι καὶ ἰχθύσι κύρμα γενέσθαι.',\n 'ἥρωες δ’, ὅτε δή σφιν ἀταρβὴς ἔπλετ’ ἄεθλος, δὴ τότε πείσματα νηὸς ἐπὶ πνοιῇς ἀνέμοιο λυσάμενοι προτέρωσε διὲξ ἁλὸς οἶδμα νέοντο.',\n 'ἡ δ’ ἔθεεν λαίφεσσι πανήμερος·',\n 'οὐ μὲν ἰούσης νυκτὸς ἔτι ῥιπὴ μένεν ἔμπεδον, ἀλλὰ θύελλαι ἀντίαι ἁρπάγδην ὀπίσω φέρον, ὄφρ’ ἐπέλασσαν αὖτις ἐυξείνοισι Δολίοσιν ἐκ δ’ ἄρ’ ἔβησαν αὐτονυχί·',\n 'ἱερὴ δὲ φατίζεται ἥδ’ ἔτι πέτρη, ᾗ πέρι πείσματα νηὸς ἐπεσσύμενοι ἐβάλοντο.',\n 'οὐδέ τις αὐτὴν νῆσον ἐπιφραδέως ἐνόησεν ἔμμεναι·',\n 'οὐδ’ ὑπὸ νυκτὶ Δολίονες ἂψ ἀνιόντας ἥρωας νημερτὲς ἐπήισαν·',\n 'ἀλλά που ἀνδρῶν Μακριέων εἴσαντο Πελασγικὸν ἄρεα κέλσαι.',\n 'τῶ καὶ τεύχεα δύντες ἐπὶ σφίσι χεῖρας ἄειραν.',\n 'σὺν δ’ ἔλασαν μελίας τε καὶ ἀσπίδας ἀλλήλοισιν ὀξείῃ ἴκελοι ῥιπῇ πυρός, ἥ τ’ ἐνὶ θάμνοις αὐαλέοισι πεσοῦσα κορύσσεται·',\n 'ἐν δὲ κυδοιμὸς δεινός τε ζαμενής τε Δολιονίῳ πέσε δήμῳ.',\n 'οὐδ’ ὅγε δηιοτῆτος ὑπὲρ μόρον αὖτις ἔμελλεν οἴκαδε νυμφιδίους θαλάμους καὶ λέκτρον ἱκέσθαι.',\n 'ἀλλά μιν Αἰσονίδης τετραμμένον ἰθὺς ἑοῖο πλῆξεν ἐπαΐξας στῆθος μέσον, ἀμφὶ δὲ δουρὶ ὀστέον ἐρραίσθη·',\n 'ὁ δ’ ἐνὶ ψαμάθοισιν ἐλυσθεὶς μοῖραν ἀνέπλησεν.',\n 'τὴν γὰρ θέμις οὔποτ’ ἀλύξαι θνητοῖσιν·',\n 'πάντῃ δὲ περὶ μέγα πέπταται ἕρκος.',\n 'ὧς τὸν ὀιόμενόν που ἀδευκέος ἔκτοθεν ἄτης εἶναι ἀριστήων αὐτῇ ὑπὸ νυκτὶ πέδησεν μαρνάμενον κείνοισι·',\n 'πολεῖς δ’ ἐπαρηγόνες ἄλλοι ἔκταθεν·',\n 'Ἡρακλέης μὲν ἐνήρατο Τηλεκλῆα ἠδὲ Μεγαβρόντην·',\n 'Σφόδριν δ’ ἐνάριξεν Ἄκαστος·',\n 'Πηλεὺς δὲ Ζέλυν εἷλεν ἀρηίθοόν τε Γέφυρον.',\n 'αὐτὰρ ἐυμμελίης Τελαμὼν Βασιλῆα κατέκτα.',\n 'Ἴδας δ’ αὖ Προμέα, Κλυτίος δ’ Ὑάκινθον ἔπεφνεν, Τυνδαρίδαι δ’ ἄμφω Μεγαλοσσάκεα Φλογίον τε.',\n 'Οἰνεΐδης δ’ ἐπὶ τοῖσιν ἕλεν θρασὺν Ἰτυμονῆα ἠδὲ καὶ Ἀρτακέα, πρόμον ἀνδρῶν·',\n 'οὓς ἔτι πάντας ἐνναέται τιμαῖς ἡρωίσι κυδαίνουσιν.',\n 'οἱ δ’ ἄλλοι εἴξαντες ὑπέτρεσαν, ἠύτε κίρκους ὠκυπέτας ἀγεληδὸν ὑποτρέσσωσι πέλειαι.',\n 'ἐς δὲ πύλας ὁμάδῳ πέσον ἀθρόοι·',\n 'αἶψα δ’ ἀυτῆς πλῆτο πόλις στονόεντος ὑποτροπίῃ πολέμοιο.',\n 'ἠῶθεν δ’ ὀλοὴν καὶ ἀμήχανον εἰσενόησαν ἀμπλακίην ἄμφω·',\n 'στυγερὸν δ’ ἄχος εἷλεν ἰδόντας ἥρωας Μινύας Αἰνήιον υἷα πάροιθεν Κύζικον ἐν κονίῃσι καὶ αἵματι πεπτηῶτα.',\n 'ἤματα δὲ τρία πάντα γόων, τίλλοντό τε χαίτας αὐτοὶ ὁμῶς λαοί τε Δολίονες.',\n 'αὐτὰρ ἔπειτα τρὶς περὶ χαλκείοις σὺν τεύχεσι δινηθέντες τύμβῳ ἐνεκτερέιξαν, ἐπειρήσαντό τ’ ἀέθλων, ἣ θέμις, ἂμ πεδίον λειμώνιον, ἔνθ’ ἔτι νῦν περ ἀγκέχυται τόδε σῆμα καὶ ὀψιγόνοισιν ἰδέσθαι.',\n 'οὐδὲ μὲν οὐδ’ ἄλοχος Κλείτη φθιμένοιο λέλειπτο οὗ πόσιος μετόπισθε·',\n 'κακῷ δ’ ἐπὶ κύντερον ἄλλο ἤνυσεν, ἁψαμένη βρόχον αὐχένι.',\n 'τὴν δὲ καὶ αὐταὶ νύμφαι ἀποφθιμένην ἀλσηίδες ὠδύραντο·',\n 'καί οἱ ἀπὸ βλεφάρων ὅσα δάκρυα χεῦαν ἔραζε, πάντα τάγε κρήνην τεῦξαν θεαί, ἣν καλέουσιν Κλείτην, δυστήνοιο περικλεὲς οὔνομα νύμφης.',\n 'αἰνότατον δὴ κεῖνο Δολιονίῃσι γυναιξὶν ἀνδράσι τ’ ἐκ Διὸς ἦμαρ ἐπήλυθεν·',\n 'οὐδὲ γὰρ αὐτῶν ἔτλη τις πάσσασθαι ἐδητύος, οὐδ’ ἐπὶ δηρὸν ἐξ ἀχέων ἔργοιο μυληφάτου ἐμνώοντο·',\n 'ἀλλ’ αὔτως ἄφλεκτα διαζώεσκον ἔδοντες.',\n 'ἔνθ’ ἔτι νῦν, εὖτ’ ἄν σφιν ἐτήσια χύτλα χέωνται Κύζικον ἐνναίοντες Ἰάονες, ἔμπεδον αἰεὶ πανδήμοιο μύλης πελάνους ἐπαλετρεύουσιν.',\n 'ἐκ δὲ τόθεν τρηχεῖαι ἀνηέρθησαν ἄελλαι ἤμαθ’ ὁμοῦ νύκτας τε δυώδεκα, τοὺς δὲ καταῦθι ναυτίλλεσθαι ἔρυκον.',\n 'ἐπιπλομένῃ δ’ ἐνὶ νυκτὶ ὧλλοι μέν ῥα πάρος δεδμημένοι εὐνάζοντο ὕπνῳ ἀριστῆες πύματον λάχος·',\n 'αὐτὰρ Ἄκαστος Μόψος τ’ Ἀμπυκίδης ἀδινὰ κνώσσοντας ἔρυντο.',\n 'ἡ δ’ ἄρ’ ὑπὲρ ξανθοῖο καρήατος Αἰσονίδαο πωτᾶτ’ ἀλκυονὶς λιγυρῇ ὀπὶ θεσπίζουσα λῆξιν ὀρινομένων ἀνέμων·',\n 'συνέηκε δὲ Μόψος ἀκταίης ὄρνιθος ἐναίσιμον ὄσσαν ἀκούσας.',\n 'καὶ τὴν μὲν θεὸς αὖτις ἀπέτραπεν, ἷζε δ’ ὕπερθεν νηίου ἀφλάστοιο μετήορος ἀίξασα.',\n 'τὸν δ’ ὅγε κεκλιμένον μαλακοῖς ἐνὶ κώεσιν οἰῶν.',\n 'κινήσας ἀνέγειρε παρασχεδόν, ὧδέ τ’ ἔειπεν·',\n ' Αἰσονίδη, χρειώ σε τόδ’ ἱερὸν εἰσανιόντα Δινδύμου ὀκριόεντος ἐύθρονον ἱλάξασθαι μητέρα συμπάντων μακάρων·',\n 'λήξουσι δ’ ἄελλαι ζαχρηεῖς·',\n 'τοίην γὰρ ἐγὼ νέον ὄσσαν ἄκουσα ἀλκυόνος ἁλίης, ἥ τε κνώσσοντος ὕπερθεν σεῖο πέριξ τὰ ἕκαστα πιφαυσκομένη πεπότηται.',\n 'ἐκ γὰρ τῆς ἄνεμοί τε θάλασσά τε νειόθι τε χθὼν πᾶσα πεπείρανται νιφόεν θ’ ἕδος Οὐλύμποιο·',\n 'καί οἱ, ὅτ’ ἐξ ὀρέων μέγαν οὐρανὸν εἰσαναβαίνῃ, Ζεὺς αὐτὸς Κρονίδης ὑποχάζεται.',\n 'ὧς δὲ καὶ ὧλλοι ἀθάνατοι μάκαρες δεινὴν θεὸν ἀμφιέπουσιν\".',\n 'ὧς φάτο·',\n 'τῷ δ’ ἀσπαστὸν ἔπος γένετ’ εἰσαΐοντι.',\n 'ὤρνυτο δ’ ἐξ εὐνῆς κεχαρημένος·',\n 'ὦρσε δ’ ἑταίρους πάντας ἐπισπέρχων, καί τέ σφισιν ἐγρομένοισιν Ἀμπυκίδεω Μόψοιο θεοπροπίας ἀγόρευεν.',\n 'αἶψα δὲ κουρότεροι μὲν ἀπὸ σταθμῶν ἐλάσαντες ἔνθεν ἐς αἰπεινὴν ἄναγον βόας οὔρεος ἄκρην.',\n 'οἱ δ’ ἄρα λυσάμενοι Ἱερῆς ἐκ πείσματα πέτρης ἤρεσαν ἐς λιμένα Θρηίκιον·',\n 'ἂν δὲ καὶ αὐτοὶ βαῖνον, παυροτέρους ἑτάρων ἐν νηὶ λιπόντες.',\n 'τοῖσι δὲ Μακριάδες σκοπιαὶ καὶ πᾶσα περαίη Θρηικίης ἐνὶ χερσὶν ἑαῖς προυφαίνετ’ ἰδέσθαι·',\n 'φαίνετο δ’ ἠερόεν στόμα Βοσπόρου ἠδὲ κολῶναι Μυσίαι·',\n 'ἐκ δ’ ἑτέρης ποταμοῦ ῥόος Αἰσήποιο ἄστυ τε καὶ πεδίον Νηπήιον Ἀδρηστείης.',\n 'ἔσκε δέ τι στιβαρὸν στύπος ἀμπέλου ἔντροφον ὕλῃ, πρόχνυ γεράνδρυον·',\n 'τὸ μὲν ἔκταμον, ὄφρα πέλοιτο δαίμονος οὐρείης ἱερὸν βρέτας·',\n 'ἔξεσε δ’ Ἄργος εὐκόσμως, καὶ δή μιν ἐπ’ ὀκριόεντι κολωνῷ ἵδρυσαν φηγοῖσιν ἐπηρεφὲς ἀκροτάτῃσιν, αἵ ῥά τε πασάων πανυπέρταται ἐρρίζωνται.',\n 'βωμὸν δ’ αὖ χέραδος παρενήνεον·',\n 'ἀμφὶ δὲ φύλλοις στεψάμενοι δρυΐνοισι θυηπολίης ἐμέλοντο μητέρα Δινδυμίην πολυπότνιαν ἀγκαλέοντες, ἐνναέτιν Φρυγίης, Τιτίην θ’ ἅμα Κύλληνόν τε, οἳ μοῦνοι πολέων μοιρηγέται ἠδὲ πάρεδροι μητέρος Ἰδαίης κεκλήαται, ὅσσοι ἔασιν δάκτυλοι Ἰδαῖοι Κρηταιέες, οὕς ποτε νύμφη Ἀγχιάλη Δικταῖον ἀνὰ σπέος ἀμφοτέρῃσιν δραξαμένη γαίης Οἰαξίδος ἐβλάστησεν.',\n 'πολλὰ δὲ τήνγε λιτῇσιν ἀποστρέψαι ἐριώλας Αἰσονίδης γουνάζετ’ ἐπιλλείβων ἱεροῖσιν αἰθομένοις·',\n 'ἄμυδις δὲ νέοι Ὀρφῆος ἀνωγῇ σκαίροντες βηταρμὸν ἐνόπλιον ὠρχήσαντο, καὶ σάκεα ξιφέεσσιν ἐπέκτυπον, ὥς κεν ἰωὴ δύσφημος πλάζοιτο δι’ ἠέρος, ἣν ἔτι λαοὶ κηδείῃ βασιλῆος ἀνέστενον.',\n 'ἔνθεν ἐσαιεὶ ῥόμβῳ καὶ τυπάνῳ Ῥείην Φρύγες ἱλάσκονται.',\n 'ἡ δέ που εὐαγέεσσιν ἐπὶ φρένα θῆκε θυηλαῖς ἀνταίη δαίμων·',\n 'τὰ δ’ ἐοικότα σήματ’ ἔγεντο.',\n 'δένδρεα μὲν καρπὸν χέον ἄσπετον, ἀμφὶ δὲ ποσσὶν αὐτομάτη φύε γαῖα τερείνης ἄνθεα ποίης.',\n 'θῆρες δ’ εἰλυούς τε κατὰ ξυλόχους τε λιπόντες οὐρῇσιν σαίνοντες ἐπήλυθον.',\n 'ἡ δὲ καὶ ἄλλο θῆκε τέρας·',\n 'ἐπεὶ οὔτι παροίτερον ὕδατι νᾶεν Δίνδυμον·',\n 'ἀλλά σφιν τότ’ ἀνέβραχε διψάδος αὔτως ἐκ κορυφῆς ἄλληκτον·',\n 'Ἰησονίην δ’ ἐνέπουσιν κεῖνο ποτὸν κρήνην περιναιέται ἄνδρες ὀπίσσω.',\n 'καὶ τότε μὲν δαῖτ’ ἀμφὶ θεᾶς θέσαν οὔρεσιν Ἄρκτων, μέλποντες Ῥείην πολυπότνιαν·',\n 'αὐτὰρ ἐς ἠῶ ληξάντων ἀνέμων νῆσον λίπον εἰρεσίῃσιν.',\n 'ἔνθ’ ἔρις ἄνδρα ἕκαστον ἀριστήων ὀρόθυνεν, ὅστις ἀπολλήξειε πανύστατος.',\n 'ἀμφὶ γὰρ αἰθὴρ νήνεμος ἐστόρεσεν δίνας, κατὰ δ’ εὔνασε πόντον.',\n 'οἱ δὲ γαληναίῃ πίσυνοι ἐλάασκον ἐπιπρὸ νῆα βίῃ·',\n 'τὴν δ’ οὔ κε διὲξ ἁλὸς ἀίσσουσαν οὐδὲ Ποσειδάωνος ἀελλόποδες κίχον ἵπποι.',\n 'ἔμπης δ’ ἐγρομένοιο σάλου ζαχρηέσιν αὔραις, αἳ νέον ἐκ ποταμῶν ὑπὸ δείελον ἠερέθονται, τειρόμενοι καὶ δὴ μετελώφεον·',\n 'αὐτὰρ ὁ τούσγε πασσυδίῃ μογέοντας ἐφέλκετο κάρτεϊ χειρῶν Ἡρακλέης, ἐτίνασσε δ’ ἀρηρότα δούρατα νηός.',\n 'ἀλλ’ ὅτε δὴ Μυσῶν λελιημένοι ἠπείροιο Ῥυνδακίδας προχοὰς μέγα τ’ ἠρίον Αἰγαίωνος τυτθὸν ὑπὲκ Φρυγίης παρεμέτρεον εἰσορόωντες, δὴ τότ’ ἀνοχλίζων τετρηχότος οἴδματος ὁλκοὺς μεσσόθεν ἆξεν ἐρετμόν.',\n 'ἀτὰρ τρύφος ἄλλο μὲν αὐτὸς ἄμφω χερσὶν ἔχων πέσε δόχμιος, ἄλλο δὲ πόντος κλύζε παλιρροθίοισι φέρων.',\n 'ἀνὰ δ’ ἕζετο σιγῇ παπταίνων·',\n 'χεῖρες γὰρ ἀήθεον ἠρεμέουσαι.',\n 'ἦμος δ’ ἀγρόθεν εἶσι φυτοσκάφος ἤ τις ἀροτρεὺς ἀσπασίως εἰς αὖλιν ἑήν, δόρποιο χατίζων, αὐτοῦ δ’ ἐν προμολῇ τετρυμένα γούνατ’ ἔκαμψεν αὐσταλέος κονίῃσι, περιτριβέας δέ τε χεῖρας εἰσορόων κακὰ πολλὰ ἑῇ ἠρήσατο γαστρί·',\n 'τῆμος ἄρ’ οἵγ’ ἀφίκοντο Κιανίδος ἤθεα γαίης ἀμφ’ Ἀργανθώνειον ὄρος προχοάς τε Κίοιο.',\n 'τοὺς μὲν ἐυξείνως Μυσοὶ φιλότητι κιόντας δειδέχατ’, ἐνναέται κείνης χθονός, ἤιά τέ σφιν μῆλά τε δευομένοις μέθυ τ’ ἄσπετον ἐγγυάλιξαν.',\n 'ἔνθα δ’ ἔπειθ’ οἱ μὲν ξύλα κάγκανα, τοὶ δὲ λεχαίην φυλλάδα λειμώνων φέρον ἄσπετον ἀμήσαντες, στόρνυσθαι·',\n 'τοὶ δ’ ἀμφὶ πυρήια δινεύεσκον·',\n 'οἱ δ’ οἶνον κρητῆρσι κέρων, πονέοντο τε δαῖτα, Ἐκβασίῳ ῥέξαντες ὑπὸ κνέφας Ἀπόλλωνι.',\n 'αὐτὰρ ὁ δαίνυσθαι ἑτάροις οἷς εὖ ἐπιτείλας βῆ ῥ’ ἴμεν εἰς ὕλην υἱὸς Διός, ὥς κεν ἐρετμὸν οἷ αὐτῷ φθαίη καταχείριον ἐντύνασθαι.',\n 'εὗρεν ἔπειτ’ ἐλάτην ἀλαλήμενος, οὔτε τι πολλοῖς ἀχθομένην ὄζοις, οὐδὲ μέγα τηλεθόωσαν, ἀλλ’ οἷον ταναῆς ἔρνος πέλει αἰγείροιο·',\n 'τόσση ὁμῶς μῆκός τε καὶ ἐς πάχος ἦεν ἰδέσθαι.',\n 'ῥίμφα δ’ ὀιστοδόκην μὲν ἐπὶ χθονὶ θῆκε φαρέτρην αὐτοῖσιν τόξοισιν, ἔδυ δ’ ἀπὸ δέρμα λέοντος.',\n 'τὴν δ’ ὅγε χαλκοβαρεῖ ῥοπάλῳ δαπέδοιο τινάξας νειόθεν ἀμφοτέρῃσι περὶ στύπος ἔλλαβε χερσίν, ἠνορέῃ πίσυνος·',\n 'ἐν δὲ πλατὺν ὦμον ἔρεισεν εὖ διαβάς·',\n 'πεδόθεν δὲ βαθύρριζόν περ ἐοῦσαν προσφὺς ἐξήειρε σὺν αὐτοῖς ἔχμασι γαίης.',\n 'ὡς δ’ ὅταν ἀπροφάτως ἱστόν νεός, εὖτε μάλιστα χειμερίη ὀλοοῖο δύσις πέλει Ὠρίωνος, ὑψόθεν ἐμπλήξασα θοὴ ἀνέμοιο κατάιξ αὐτοῖσι σφήνεσσιν ὑπὲκ προτόνων ἐρύσηται·',\n 'ὧς ὅγε τὴν ἤειρεν.',\n 'ὁμοῦ δ’ ἀνὰ τόξα καὶ ἰοὺς δέρμα θ’ ἑλὼν ῥόπαλόν τε παλίσσυτος ὦρτο νέεσθαι.',\n 'τόφρα δ’ Ὕλας χαλκέῃ σὺν κάλπιδι νόσφιν ὁμίλου δίζητο κρήνης ἱερὸν ῥόον, ὥς κέ οἱ ὕδωρ φθαίη ἀφυσσάμενος ποτιδόρπιον, ἄλλα τε πάντα ὀτραλέως κατὰ κόσμον ἐπαρτίσσειεν ἰόντι.',\n 'δὴ γάρ μιν τοίοισιν ἐν ἤθεσιν αὐτὸς ἔφερβεν, νηπίαχον τὰ πρῶτα δόμων ἐκ πατρὸς ἀπούρας, δίου Θειοδάμαντος, ὃν ἐν Δρυόπεσσιν ἔπεφνεν νηλειῶς, βοὸς ἀμφὶ γεωμόρου ἀντιόωντα.',\n 'ἤτοι ὁ μὲν νειοῖο γύας τέμνεσκεν ἀρότρῳ Θειοδάμας ἀνίῃ βεβολημένος·',\n 'αὐτὰρ ὁ τόνγε βοῦν ἀρότην ἤνωγε παρασχέμεν οὐκ ἐθέλοντα.',\n 'ἵετο γὰρ πρόφασιν πολέμου Δρυόπεσσι βαλέσθαι λευγαλέην, ἐπεὶ οὔτι δίκης ἀλέγοντες ἔναιον.',\n 'ἀλλὰ τὰ μὲν τηλοῦ κεν ἀποπλάγξειεν ἀοιδῆς.',\n 'αἶψα δ’ ὅγε κρήνην μετεκίαθεν, ἣν καλέουσιν πηγὰς ἀγχίγυοι περιναιέται.',\n 'οἱ δέ που ἄρτι νυμφάων ἵσταντο χοροί·',\n 'μέλε γάρ σφισι πάσαις, ὅσσαι κεῖσ’ ἐρατὸν νύμφαι ῥίον ἀμφενέμοντο, Ἄρτεμιν ἐννυχίῃσιν ἀεὶ μέλπεσθαι ἀοιδαῖς.',\n 'αἱ μέν, ὅσαι σκοπιὰς ὀρέων λάχον ἢ καὶ ἐναύλους, αἵγε μὲν ὑλήωροι ἀπόπροθεν ἐστιχόωντο, ἡ δὲ νέον κρήνης ἀνεδύετο καλλινάοιο νύμφη ἐφυδατίη·',\n 'τὸν δὲ σχεδὸν εἰσενόησεν κάλλεϊ καὶ γλυκερῇσιν ἐρευθόμενον χαρίτεσσιν.',\n 'πρὸς γάρ οἱ διχόμηνις ἀπ’ αἰθέρος αὐγάζουσα βάλλε σεληναίη.',\n 'τὴν δὲ φρένας ἐπτοίησεν Κύπρις, ἀμηχανίῃ δὲ μόλις συναγείρατο θυμόν.',\n 'αὐτὰρ ὅγ’ ὡς τὰ πρῶτα ῥόῳ ἔνι κάλπιν ἔρεισεν λέχρις ἐπιχριμφθείς, περὶ δ’ ἄσπετον ἔβραχεν ὕδωρ χαλκὸν ἐς ἠχήεντα φορεύμενον, αὐτίκα δ’ ἥγε λαιὸν μὲν καθύπερθεν ἐπ’ αὐχένος ἄνθετο πῆχυν κύσσαι ἐπιθύουσα τέρεν στόμα·',\n 'δεξιτερῇ δὲ ἀγκῶν’ ἔσπασε χειρί, μέσῃ δ’ ἐνικάββαλε δίνῃ.',\n 'τοῦ δ’ ἥρως ἰάχοντος ἐπέκλυεν οἶος ἑταίρων Εἰλατίδης Πολύφημος, ἰὼν προτέρωσε κελεύθου, δέκτο γὰρ Ἡρακλῆα πελώριον, ὁππόθ’ ἵκοιτο.',\n 'βῆ δὲ μεταΐξας Πηγέων σχεδόν, ἠύτε τις θὴρ ἄγριος, ὅν ῥά τε γῆρυς ἀπόπροθεν ἵκετο μήλων, λιμῷ δ’ αἰθόμενος μετανίσσεται, οὐδ’ ἐπέκυρσεν ποίμνῃσιν·',\n 'πρὸ γὰρ αὐτοὶ ἐνὶ σταθμοῖσι νομῆες ἔλσαν·',\n 'ὁ δὲ στενάχων βρέμει ἄσπετον, ὄφρα κάμῃσιν·',\n 'ὧς τότ’ ἄρ’ Εἰλατίδης μεγάλ’ ἔστενεν, ἀμφὶ δὲ χῶρον φοίτα κεκληγώς·',\n 'μελέη δέ οἱ ἔπλετο φωνή.',\n 'αἶψα δ’ ἐρυσσάμενος μέγα φάσγανον ὦρτο δίεσθαι, μήπως ἢ θήρεσσιν ἕλωρ πέλοι, ἠέ μιν ἄνδρες μοῦνον ἐόντ’ ἐλόχησαν, ἄγουσι δὲ ληίδ’ ἑτοίμην.',\n 'ἔνθ’ αὐτῷ ξύμβλητο κατὰ στίβον Ἡρακλῆι γυμνὸν ἐπαΐσσων παλάμῃ ξίφος·',\n 'εὖ δέ μιν ἔγνω σπερχόμενον μετὰ νῆα διὰ κνέφας.',\n 'αὐτίκα δ’ ἄτην ἔκφατο λευγαλέην, βεβαρημένος ἄσθματι θυμόν·',\n ' δαιμόνιε, στυγερόν τοι ἄχος πάμπρωτος ἐνίψω.',\n 'οὐ γὰρ Ὕλας κρήνηνδε κιὼν σόος αὖτις ἱκάνει.',\n 'ἀλλά ἑ ληιστῆρες ἐνιχρίμψαντες ἄγουσιν, ἢ θῆρες σίνονται·',\n 'ἐγὼ δ’ ἰάχοντος ἄκουσα\".',\n 'ὧς φάτο·',\n 'τῷ δ’ ἀίοντι κατὰ κροτάφων ἅλις ἱδρὼς κήκιεν, ἐν δὲ κελαινὸν ὑπὸ σπλάγχνοις ζέεν αἷμα.',\n 'χωόμενος δ’ ἐλάτην χαμάδις βάλεν, ἐς δὲ κέλευθον τὴν θέεν, ᾗ πόδες αὐτὸν ὑπέκφερον ἀίσσοντα.',\n 'ὡς δ’ ὅτε τίς τε μύωπι τετυμμένος ἔσσυτο ταῦρος πίσεά τε προλιπὼν καὶ ἑλεσπίδας, οὐδὲ νομήων οὐδ’ ἀγέλης ὄθεται, πρήσσει δ’ ὁδόν, ἄλλοτ’ ἄπαυστος, ἄλλοτε δ’ ἱστάμενος, καὶ ἀνὰ πλατὺν αὐχέν’ ἀείρων ἵησιν μύκημα, κακῷ βεβολημένος οἴστρῳ·',\n 'ὧς ὅγε μαιμώων ὁτὲ μὲν θοὰ γούνατ’ ἔπαλλεν συνεχέως, ὁτὲ δ’ αὖτε μεταλλήγων καμάτοιο τῆλε διαπρύσιον μεγάλῃ βοάασκεν ἀυτῇ.',\n 'αὐτίκα δ’ ἀκροτάτας ὑπερέσχεθεν ἄκριας ἀστὴρ ἠῷος, πνοιαὶ δὲ κατήλυθον·',\n 'ὦκα δὲ Τῖφυς ἐσβαίνειν ὀρόθυνεν, ἐπαυρέσθαι τ’ ἀνέμοιο.',\n 'οἱ δ’ εἴσβαινον ἄφαρ λελιημένοι·',\n 'ὕψι δὲ νηὸς εὐναίας ἐρύσαντες ἀνεκρούσαντο κάλωας.',\n 'κυρτώθη δ’ ἀνέμῳ λίνα μεσσόθι, τῆλε δ’ ἀπ’ ἀκτῆς γηθόσυνοι φορέοντο παραὶ Ποσιδήιον ἄκρην.',\n 'ἦμος δ’ οὐρανόθεν χαροπὴ ὑπολάμπεται ἠὼς ἐκ περάτης ἀνιοῦσα, διαγλαύσσουσι δ’ ἀταρποί, καὶ πεδία δροσόεντα φαεινῇ λάμπεται αἴγλῃ, τῆμος τούσγ’ ἐνόησαν ἀιδρείῃσι λιπόντες.',\n 'ἐν δέ σφιν κρατερὸν νεῖκος πέσεν, ἐν δὲ κολῳὸς ἄσπετος, εἰ τὸν ἄριστον ἀποπρολιπόντες ἔβησαν σφωιτέρων ἑτάρων.',\n 'ὁ δ’ ἀμηχανίῃσιν ἀτυχθεὶς οὔτε τι τοῖον ἔπος μετεφώνεεν, οὔτε τι τοῖον Αἰσονίδης·',\n 'ἀλλ’ ἧστο βαρείῃ νειόθεν ἄτῃ θυμὸν ἔδων·',\n 'Τελαμῶνα δ’ ἕλεν χόλος, ὧδέ τ’ ἔειπεν·',\n ' ἧσ’ αὔτως εὔκηλος, ἐπεί νύ τοι ἄρμενον ἦεν Ἡρακλῆα λιπεῖν·',\n 'σέο δ’ ἔκτοθι μῆτις ὄρωρεν, ὄφρα τὸ κείνου κῦδος ἀν’ Ἑλλάδα μή σε καλύψῃ, αἴ κε θεοὶ δώωσιν ὑπότροπον οἴκαδε νόστον.',\n 'ἀλλὰ τί μύθων ἦδος;',\n 'ἐπεὶ καὶ νόσφιν ἑταίρων εἶμι τεῶν, οἳ τόνγε δόλον συνετεκτήναντο\".',\n 'ἦ, καὶ ἐς Ἁγνιάδην Τῖφυν θόρε·',\n 'τὼ δέ οἱ ὄσσε ὄστλιγγες μαλεροῖο πυρὸς ὣς ἰνδάλλοντο.',\n 'καί νύ κεν ἂψ ὀπίσω Μυσῶν ἐπὶ γαῖαν ἵκοντο λαῖτμα βιησάμενοι ἀνέμου τ’ ἄλληκτον ἰωήν, εἰ μὴ Θρηικίοιο δύω υἷες Βορέαο Αἰακίδην χαλεποῖσιν ἐρητύεσκον ἔπεσσιν, σχέτλιοι·',\n 'ἦ τέ σφιν στυγερὴ τίσις ἔπλετ’ ὀπίσσω χερσὶν ὑφ’ Ἡρακλῆος, ὅ μιν δίζεσθαι ἔρυκον.',\n 'ἄθλων γὰρ Πελίαο δεδουπότος ἂψ ἀνιόντας τήνῳ ἐν ἀμφιρύτῃ πέφνεν, καὶ ἀμήσατο γαῖαν ἀμφ’ αὐτοῖς, στήλας τε δύω καθύπερθεν ἔτευξεν, ὧν ἑτέρη, θάμβος περιώσιον ἀνδράσι λεύσσειν, κίνυται ἠχήεντος ὑπὸ πνοιῇ βορέαο.',\n 'καὶ τὰ μὲν ὧς ἤμελλε μετὰ χρόνον ἐκτελέεσθαι.',\n 'τοῖσιν δὲ Γλαῦκος βρυχίης ἁλὸς ἐξεφαάνθη, Νηρῆος θείοιο πολυφράδμων ὑποφήτης·',\n 'ὕψι δὲ λαχνῆέν τε κάρη καὶ στήθε’ ἀείρας νειόθεν ἐκ λαγόνων στιβαρῇ ἐπορέξατο χειρὶ νηίου ὁλκαίοιο, καὶ ἴαχεν ἐσσυμένοισιν·',\n ' τίπτε παρὲκ μεγάλοιο Διὸς μενεαίνετε βουλὴν Αἰήτεω πτολίεθρον ἄγειν θρασὺν Ἡρακλῆα;',\n 'Ἄργεΐ οἱ μοῖρ’ ἐστὶν ἀτασθάλῳ Εὐρυσθῆι ἐκπλῆσαι μογέοντα δυώδεκα πάντας ἀέθλους, ναίειν δ’ ἀθανάτοισι συνέστιον, εἴ κ’ ἔτι παύρους ἐξανύσῃ·',\n 'τῶ μή τι ποθὴ κείνοιο πελέσθω.',\n 'αὔτως δ’ αὖ Πολύφημον ἐπὶ προχοῇσι Κίοιο πέπρωται Μυσοῖσι περικλεὲς ἄστυ καμόντα μοῖραν ἀναπλήσειν Χαλύβων ἐν ἀπείρονι γαίῃ.',\n 'αὐτὰρ Ὕλαν φιλότητι θεὰ ποιήσατο νύμφη ὃν πόσιν, οἷό περ οὕνεκ’ ἀποπλαγχθέντες ἔλειφθεν\".',\n 'ἦ, καὶ κῦμ’ ἀλίαστον ἐφέσσατο νειόθι δύψας·',\n 'ἀμφὶ δέ οἱ δίνῃσι κυκώμενον ἄφρεεν ὕδωρ πορφύρεον, κοίλην δὲ διὲξ ἁλὸς ἔκλυσε νῆα.',\n 'γήθησαν δ’ ἥρωες·',\n 'ὁ δ’ ἐσσυμένως ἐβεβήκει Αἰακίδης Τελαμὼν ἐς Ἰήσονα, χεῖρα δὲ χειρὶ ἄκρην ἀμφιβαλὼν προσπτύξατο, φώνησέν τε·',\n ' Αἰσονίδη, μή μοί τι χολώσεαι, ἀφραδίῃσιν εἴ τί περ ἀασάμην·',\n 'πέρι γάρ μ’ ἄχος εἷλεν ἐνισπεῖν μῦθον ὑπερφίαλόν τε καὶ ἄσχετον, ἀλλ’ ἀνέμοισιν δώομεν ἀμπλακίην, ὡς καὶ πάρος εὐμενέοντες\".',\n 'τὸν δ’ αὖτ’ Αἴσονος υἱὸς ἐπιφραδέως προσέειπεν·',\n ' ὦ πέπον, ἦ μάλα δή με κακῷ ἐκυδάσσαο μύθῳ, φὰς ἐνὶ τοῖσιν ἅπασιν ἐνηέος ἀνδρὸς ἀλείτην ἔμμεναι.',\n 'ἀλλ’ οὐ θήν τοι ἀδευκέα μῆνιν ἀέξω, πρίν περ ἀνιηθείς·',\n 'ἐπεὶ οὐ περὶ πώεσι μήλων, οὐδὲ περὶ κτεάτεσσι χαλεψάμενος μενέηνας, ἀλλ’ ἑτάρου περὶ φωτός.',\n 'ἔολπα δέ τοι σὲ καὶ ἄλλῳ ἀμφ’ ἐμεῦ, εἰ τοιόνδε πέλοι ποτέ, δηρίσασθαι\".',\n 'ἦ ῥα, καὶ ἀρθμηθέντες, ὅπῃ πάρος, ἑδριόωντο.',\n 'τὼ δὲ Διὸς βουλῇσιν, ὁ μὲν Μυσοῖσι βαλέσθαι μέλλεν ἐπώνυμον ἄστυ πολισσάμενος ποταμοῖο Εἰλατίδης Πολύφημος·',\n 'ὁ δ’ Εὐρυσθῆος ἀέθλους αὖτις ἰὼν πονέεσθαι.',\n 'ἐπηπείλησε δὲ γαῖαν Μυσίδ’ ἀναστήσειν αὐτοσχεδόν, ὁππότε μή οἱ ἢ ζωοῦ εὕροιεν Ὕλα μόρον, ἠὲ θανόντος.',\n 'τοῖο δὲ ῥύσι’ ὄπασσαν ἀποκρίναντες ἀρίστους υἱέας ἐκ δήμοιο, καὶ ὅρκια ποιήσαντο, μήποτε μαστεύοντες ἀπολλήξειν καμάτοιο.',\n 'τούνεκεν εἰσέτι νῦν περ Ὕλαν ἐρέουσι Κιανοί, κοῦρον Θειοδάμαντος, ἐυκτιμένης τε μέλονται Τρηχῖνος.',\n 'δὴ γάρ ῥα κατ’ αὐτόθι νάσσατο παῖδας, οὕς οἱ ῥύσια κεῖθεν ἐπιπροέηκαν ἄγεσθαι.',\n ',ηῦν δὲ πανημερίην ἄνεμος φέρε νυκτί τε πάσῃ λάβρος ἐπιπνείων·',\n 'ἀτὰρ οὐδ’ ἐπὶ τυτθὸν ἄητο ἠοῦς τελλομένης, οἱ δὲ χθονὸς εἰσανέχουσαν ἀκτὴν ἐκ κόλποιο μάλ’ εὐρεῖαν ἐσιδέσθαι φρασσάμενοι, κώπῃσιν ἅμ’ ἠελίῳ ἐπέκελσαν',\n 'ἔνθα δ’ ἔσαν σταθμοί τε βοῶν αὖλίς τ’ Ἀμύκοιο, Βεβρύκων βασιλῆος ἀγήνορος, ὅν ποτε νύμφη τίκτε Ποσειδάωνι Γενεθλίῳ εὐνηθεῖσα Βιθυνὶς Μελίη, ὑπεροπληέστατον ἀνδρῶν·',\n 'ὅς τ’ ἐπὶ καὶ ξείνοισιν ἀεικέα θεσμὸν ἔθηκεν, μήτιν’ ἀποστείχειν, πρὶν πειρήσασθαι ἑοῖο πυγμαχίης·',\n 'πολέας δὲ περικτιόνων ἐδάιξεν.',\n 'καὶ δὲ τότε προτὶ νῆα κιών, χρειώ μιν ἐρέσθαι ναυτιλίης, οἵ τ’ εἶεν, ὑπερβασίῃσιν ἄτισσεν, τοῖον δ’ ἐν πάντεσσι παρασχεδὸν ἔκφατο μῦθον·',\n ' κέκλυθ’, ἁλίπλαγκτοι , τάπερ ἴδμεναι ὔμμιν ἔοικεν.',\n 'οὔτινα θέσμιόν ἐστιν ἀφορμηθέντα νέεσθαι ἀνδρῶν ὀθνείων, ὅς κεν Βέβρυξι πελάσσῃ, πρὶν χείρεσσιν ἐμῇσιν ἑὰς ἀνὰ χεῖρας ἀεῖραι.',\n 'τῶ καί μοι τὸν ἄριστον ἀποκριδὸν οἶον ὁμίλου πυγμαχίῃ στήσασθε καταυτόθι δηρινθῆναι.',\n 'εἰ δ’ ἂν ἀπηλεγέοντες ἐμὰς πατέοιτε θέμιστας, ἧ κέν τις στυγερῶς κρατερὴ ἐπιέψετ’ ἀνάγκη\".',\n 'ἦ ῥα μέγα φρονέων·',\n 'τοὺς δ’ ἄγριος εἰσαΐοντας εἷλε χόλος·',\n 'περὶ δ’ αὖ Πολυδεύκεα τύψεν ὁμοκλή αἶψα δ’ ἑῶν ἑτάρων πρόμος ἵστατο, φώνησέν τε·',\n ' ἴσχεο νῦν, μηδ’ ἄμμι κακήν, ὅτις εὔχεαι εἶναι, φαῖνε βίην·',\n 'θεσμοῖς γὰρ ὑπείξομεν, ὡς ἀγορεύεις.',\n 'αὐτὸς ἑκὼν ἤδη τοι ὑπίσχομαι ἀντιάασθαι\".',\n 'ὧς φάτ’ ἀπηλεγέως·',\n 'ὁ δ’ ἐσέδρακεν ὄμμαθ’ ἑλίξας, ὥστε λέων ὑπ’ ἄκοντι τετυμμένος, ὅν τ’ ἐν ὄρεσσιν ἀνέρες ἀμφιπένονται·',\n 'ὁ δ’ ἰλλόμενός περ ὁμίλῳ τῶν μὲν ἔτ’ οὐκ ἀλέγει, ἐπὶ δ’ ὄσσεται οἰόθεν οἶον ἄνδρα τόν, ὅς μιν ἔτυψε παροίτατος, οὐδ’ ἐδάμασσεν.',\n 'ἔνθ’ ἀπὸ Τυνδαρίδης μὲν ἐύστιπτον θέτο φᾶρος λεπταλέον, τό ῥά οἵ τις ἑὸν ξεινήιον εἶναι ὤπασε Λημνιάδων·',\n 'ὁ δ’ ἐρεμνὴν δίπτυχα λώπην αὐτῇσιν περόνῃσι καλαύροπά τε τρηχεῖαν κάββαλε, τὴν φορέεσκεν, ὀριτρεφέος κοτίνοιο.',\n 'αὐτίκα δ’ ἐγγύθι χῶρον ἑαδότα παπτήναντες ἷζον ἑοὺς δίχα πάντας ἐνὶ ψαμάθοισιν ἑταίρους, οὐ δέμας, οὐδὲ φυὴν ἐναλίγκιοι εἰσοράασθαι.',\n 'ἀλλ’ ὁ μὲν ἢ ὀλοοῖο Τυφωέος, ἠὲ καὶ αὐτῆς γαίης εἶναι ἔικτο πέλωρ τέκος, οἷα πάροιθεν χωομένη Διὶ τίκτεν·',\n 'ὁ δ’ οὐρανίῳ ἀτάλαντος ἀστέρι Τυνδαρίδης, οὗπερ κάλλισται ἔασιν ἑσπερίην διὰ νύκτα φαεινομένου ἀμαρυγαί.',\n 'τοῖος ἔην Διὸς υἱός, ἔτι χνοάοντας ἰούλους ἀντέλλων, ἔτι φαιδρὸς ἐν ὄμμασιν.',\n 'ἀλλά οἱ ἀλκὴ καὶ μένος ἠύτε θηρὸς ἀέξετο·',\n 'πῆλε δὲ χεῖρας πειράζων, εἴθ’ ὡς πρὶν ἐυτρόχαλοι φορέονται, μηδ’ ἄμυδις καμάτῳ τε καὶ εἰρεσίῃ βαρύθοιεν οὐ μὰν αὖτ’ Ἄμυκος πειρήσατο·',\n 'σῖγα δ’ ἄπωθεν ἑστηὼς εἰς αὐτὸν ἔχ’ ὄμματα, καί οἱ ὀρέχθει θυμὸς ἐελδομένῳ στηθέων ἐξ αἷμα κεδάσσαι.',\n 'τοῖσι δὲ μεσσηγὺς θεράπων Ἀμύκοιο Λυκωρεὺς θῆκε πάροιθε ποδῶν δοιοὺς ἑκάτερθεν ἱμάντας ὠμούς, ἀζαλέους, περὶ δ’ οἵγ’ ἔσαν ἐσκληῶτες.',\n 'αὐτὰρ ὁ τόνγ’ ἐπέεσσιν ὑπερφιάλοισι μετηύδα·',\n ' τῶνδέ τοι ὅν κ’ ἐθέλῃσθα, πάλου ἄτερ ἐγγυαλίξω αὐτὸς ἑκών, ἵνα μή μοι ἀτέμβηαι μετόπισθεν.',\n 'ἀλλὰ βάλευ περὶ χειρί·',\n 'δαεὶς δέ κεν ἄλλῳ ἐνίσποις, ὅσσον ἐγὼ ῥινούς τε βοῶν περίειμι ταμέσθαι ἀζαλέας, ἀνδρῶν τε παρηίδας αἵματι φύρσαι\".',\n 'ὧς ἔφατ’·',\n 'αὐτὰρ ὅγ’ οὔτι παραβλήδην ἐρίδηνεν.',\n 'ἦκα δὲ μειδήσας, οἵ οἱ παρὰ ποσσὶν ἔκειντο, τοὺς ἕλεν ἀπροφάτως·',\n 'τοῦ δ’ ἀντίος ἤλυθε Κάστωρ ἠδὲ Βιαντιάδης Ταλαὸς μέγας·',\n 'ὦκα δ’ ἱμάντας ἀμφέδεον, μάλα πολλὰ παρηγορέοντες ἐς ἀλκήν.',\n 'τῷ δ’ αὖτ’ Ἄρητός τε καὶ Ὄρνυτος, οὐδέ τι ᾔδειν νήπιοι ὕστατα κεῖνα κακῇ δήσαντες ἐν αἴσῃ.',\n 'οἱ δ’ ἐπεὶ οὖν ἱμᾶσι διασταδὸν ἠρτύναντο, αὐτίκ’ ἀνασχόμενοι ῥεθέων προπάροιθε βαρείας χεῖρας, ἐπ’ ἀλλήλοισι μένος φέρον ἀντιόωντες.',\n 'ἔνθα δὲ Βεβρύκων μὲν ἄναξ, ἅτε κῦμα θαλάσσης τρηχὺ θοὴν ἐπὶ νῆα κορύσσεται, ἡ δ’ ὑπὸ τυτθὸν ἰδρείῃ πυκινοῖο κυβερνητῆρος ἀλύσκει, ἱεμένου φορέεσθαι ἔσω τοίχοιο κλύδωνος, ὧς ὅγε Τυνδαρίδην φοβέων ἕπετ’, οὐδέ μιν εἴα δηθύνειν.',\n 'ὁ δ’ ἄρ’ αἰὲν ἀνούτατος ἣν διὰ μῆτιν ἀίσσοντ’ ἀλέεινεν·',\n 'ἀπηνέα δ’ αἶψα νοήσας πυγμαχίην, ᾗ κάρτος ἀάατος, ᾗ τε χερείων, στῆ ῥ’ ἄμοτον καὶ χερσὶν ἐναντία χεῖρας ἔμιξεν.',\n 'ὡς δ’ ὅτε νήια δοῦρα θοοῖς ἀντίξοα γόμφοις ἀνέρες ὑληουργοὶ ἐπιβλήδην ἐλάοντες θείνωσι σφύρῃσιν, ἐπ’ ἄλλῳ δ’ ἄλλος ἄηται δοῦπος ἄδην·',\n 'ὧς τοῖσι παρήιά τ’ ἀμφοτέρωθεν καὶ γένυες κτύπεον·',\n 'βρυχὴ δ’ ὑπετέλλετ’ ὀδόντων ἄσπετος, οὐδ’ ἔλληξαν ἐπισταδὸν οὐτάζοντες, ἔστε περ οὐλοὸν ἆσθμα καὶ ἀμφοτέρους ἐδάμασσεν.',\n 'στάντε δὲ βαιὸν ἄπωθεν ἀπωμόρξαντο μετώπων ἱδρῶ ἅλις, καματηρὸν ἀυτμένα φυσιόωντε.',\n 'ἂψ δ’ αὖτις συνόρουσαν ἐναντίοι, ἠύτε ταύρω φορβάδος ἀμφὶ βοὸς κεκοτηότε δηριάασθον.',\n 'ἔνθα δ’ ἔπειτ’ Ἄμυκος μὲν ἐπ’ ἀκροτάτοισιν ἀερθείς, βουτύπος οἷα, πόδεσσι τανύσσατο, κὰδ δὲ βαρεῖαν χεῖρ’ ἐπὶ οἷ πελέμιξεν·',\n 'ὁ δ’ ἀίξαντος ὑπέστη, κρᾶτα παρακλίνας, ὤμῳ δ’ ἀνεδέξατο πῆχυν τυτθόν·',\n 'ὁ δ’ ἄγχ’ αὐτοῖο παρὲκ γόνυ γουνὸς ἀμείβων κόψε μεταΐγδην ὑπὲρ οὔατος, ὀστέα δ’ εἴσω ῥῆξεν·',\n 'ὁ δ’ ἀμφ’ ὀδύνῃ γνὺξ ἤριπεν·',\n 'οἱ δ’ ἰάχησαν ἥρωες Μινύαι·',\n 'τοῦ δ’ ἀθρόος ἔκχυτο θυμός.',\n 'οὐδ’ ἄρα Βέβρυκες ἄνδρες ἀφείδησαν βασιλῆος·',\n 'ἀλλ’ ἄμυδις κορύνας ἀζηχέας ἠδὲ σιγύννους ἰθὺς ἀνασχόμενοι Πολυδεύκεος ἀντιάασκον.',\n 'τοῦ δὲ πάρος κολεῶν εὐήκεα φάσγαν’ ἑταῖροι ἔσταν ἐρυσσάμενοι.',\n 'πρῶτός γε μὲν ἀνέρα Κάστωρ ἤλασ’ ἐπεσσύμενον κεφαλῆς ὕπερ·',\n 'ἡ δ’ ἑκάτερθεν ἔνθα καὶ ἔνθ’ ὤμοισιν ἐπ’ ἀμφοτέροις ἐκεάσθη.',\n 'αὐτὸς δ’ Ἰτυμονῆα πελώριον ἠδὲ Μίμαντα, τὸν μὲν ὑπὸ στέρνοιο θοῷ ποδὶ λὰξ ἐπορούσας πλῆξε, καὶ ἐν κονίῃσι βάλεν·',\n 'τοῦ δ’ ἆσσον ἰόντος δεξιτερῇ σκαιῆς ὑπὲρ ὀφρύος ἤλασε χειρί, δρύψε δέ οἱ βλέφαρον, γυμνὴ δ’ ὑπελείπετ’ ὀπωπή.',\n 'Ὠρεΐτης δ’ Ἀμύκοιο βίην ὑπέροπλος ὀπάων οὖτα Βιαντιάδαο κατὰ λαπάρην Ταλαοῖο, ἀλλά μιν οὐ κατέπεφνεν, ὅσον δ’ ἐπὶ δέρματι μοῦνον νηδυίων ἄψαυστος ὑπὸ ζώνην θόρε χαλκός.',\n 'αὔτως δ’ Ἄρητος μενεδήιον Εὐρύτου υἷα Ἴφιτον ἀζαλέῃ κορύνῃ στυφέλιξεν ἐλάσσας, οὔπω κηρὶ κακῇ πεπρωμένον·',\n 'ἦ τάχ’ ἔμελλεν αὐτὸς δῃώσεσθαι ὑπὸ ξίφεϊ Κλυτίοιο.',\n 'καὶ τότ’ ἄρ’ Ἀγκαῖος Λυκοόργοιο θρασὺς υἱὸς αἶψα μάλ’ ἀντεταγὼν πέλεκυν μέγαν ἠδὲ κελαινὸν ἄρκτου προσχόμενος σκαιῇ δέρος ἔνθορε μέσσῳ ἐμμεμαὼς Βέβρυξιν·',\n 'ὁμοῦ δέ οἱ ἐσσεύοντο Αἰακίδαι, σὺν δέ σφιν ἀρήιος ὤρνυτ’ Ἰήσων.',\n 'ὡς δ’ ὅτ’ ἐνὶ σταθμοῖσιν ἀπείρονα μῆλ’ ἐφόβησαν ἤματι χειμερίῳ πολιοὶ λύκοι ὁρμηθέντες λάθρῃ ἐυρρίνων τε κυνῶν αὐτῶν τε νομήων, μαίονται δ’ ὅ τι πρῶτον ἐπαΐξαντες ἕλωσιν, πόλλ’ ἐπιπαμφαλόωντες ὁμοῦ·',\n 'τὰ δὲ πάντοθεν αὔτως στείνονται πίπτοντα περὶ σφίσιν·',\n 'ὧς ἄρα τοίγε λευγαλέως Βέβρυκας ὑπερφιάλους ἐφόβησαν.',\n 'ὡς δὲ μελισσάων σμῆνος μέγα μηλοβοτῆρες ἠὲ μελισσοκόμοι πέτρῃ ἔνι καπνιόωσιν, αἱ δ’ ἤτοι τείως μὲν ἀολλέες ᾧ ἐνὶ σίμβλῳ βομβηδὸν κλονέονται, ἐπιπρὸ δὲ λιγνυόεντι καπνῷ τυφόμεναι πέτρης ἑκὰς ἀίσσουσιν·',\n 'ὧς οἵγ’ οὐκέτι δὴν μένον ἔμπεδον, ἀλλ’ ἐκέδασθεν εἴσω Βεβρυκίης, Ἀμύκου μόρον ἀγγελέοντες·',\n 'νήπιοι, οὐδ’ ἐνόησαν ὃ δή σφισιν ἐγγύθεν ἄλλο πῆμ’ ἀίδηλον ἔην.',\n 'πέρθοντο γὰρ ἠμὲν ἀλωαὶ ἠδ’ οἶαι τῆμος δῄῳ ὑπὸ δουρὶ Λύκοιο καὶ Μαριανδυνῶν ἀνδρῶν, ἀπεόντος ἄνακτος.',\n 'αἰεὶ γὰρ μάρναντο σιδηροφόρου περὶ γαίης.',\n 'οἱ δ’ ἤδη σταθμούς τε καὶ αὔλια δηιάασκον·',\n 'ἤδη δ’ ἄσπετα μῆλα περιτροπάδην ἐτάμοντο ἥρωες, καὶ δή τις ἔπος μετὰ τοῖσιν ἔειπεν·',\n ' φράζεσθ’ ὅττι κεν ᾗσιν ἀναλκείῃσιν ἔρεξαν, εἴ πως Ἡρακλῆα θεὸς καὶ δεῦρ’ ἐκόμισσε.',\n 'ἤτοι μὲν γὰρ ἐγὼ κείνου παρεόντος ἔολπα οὐδ’ ἂν πυγμαχίῃ κρινθήμεναι·',\n 'ἀλλ’ ὅτε θεσμοὺς ἤλυθεν ἐξερέων, αὐτοῖς ἄφαρ οἷς ἀγόρευεν θεσμοῖσιν ῥοπάλῳ μιν ἀγηνορίης λελαθέσθαι.',\n 'ναὶ μὲν ἀκήδεστον γαίῃ ἔνι τόνγε λιπόντες πόντον ἐπέπλωμεν·',\n 'μάλα δ’ ἡμέων αὐτὸς ἕκαστος εἴσεται οὐλομένην ἄτην, ἀπάνευθεν ἐόντος\".',\n 'ὧς ἄρ’ ἔφη·',\n 'τὰ δὲ πάντα Διὸς βουλῇς ἐτέτυκτο.',\n 'καὶ τότε μὲν μένον αὖθι διὰ κνέφας, ἕλκεά τ’ ἀνδρῶν οὐταμένων ἀκέοντο, καὶ ἀθανάτοισι θυηλὰς ῥέξαντες μέγα δόρπον ἐφώπλισαν·',\n 'οὐδέ τιν’ ὕπνος εἷλε παρὰ κρητῆρι καὶ αἰθομένοις ἱεροῖσιν.',\n 'ξανθὰ δ’ ἐρεψάμενοι δάφνῃ καθύπερθε μέτωπα ἀγχιάλῳ, τῇ, ἀκτῇ ἔπι, πρυμνήσι’ ἀνῆπτο, Ὀρφείῃ φόρμιγγι συνοίμιον ὕμνον ἄειδον ἐμμελέως·',\n 'περὶ δέ σφιν ἰαίνετο νήνεμος ἀκτὴ μελπομένοις·',\n 'κλεῖον δὲ Θεραπναῖον Διὸς υἷα.',\n 'ἦμος δ’ ἠέλιος δροσερὰς ἐπέλαμψε κολώνας ἐκ περάτων ἀνιών, ἤγειρε δὲ μηλοβοτῆρας, δὴ τότε λυσάμενοι νεάτης ἐκ πείσματα δάφνης, ληίδα τ’ εἰσβήσαντες ὅσην χρεὼ ἦεν ἄγεσθαι, πνοιῇ δινήεντ’ ἀνὰ Βόσπορον ἰθύνοντο.',\n 'ἔνθα μὲν ἠλιβάτῳ ἐναλίγκιον οὔρεϊ κῦμα ἀμφέρεται προπάροιθεν ἐπαΐσσοντι ἐοικός, αἰὲν ὑπὲρ νεφέων ἠερμένον·',\n 'οὐδέ κε φαίης φεύξεσθαι κακὸν οἶτον, ἐπεὶ μάλα μεσσόθι νηὸς λάβρον ἐπικρέμαται, καθάπερ νέφος.',\n 'ἀλλὰ τόγ’ ἔμπης στόρνυται, εἴ κ’ ἐσθλοῖο κυβερνητῆρος ἐπαύρῃ.',\n 'τῶ καὶ Τίφυος οἵδε δαημοσύνῃσι νέοντο, ἀσκηθεῖς μέν, ἀτὰρ πεφοβημένοι.',\n 'ἤματι δ’ ἄλλῳ ἀντιπέρην γαίῃ Βιθυνίδι πείσματ’ ἀνῆψαν.',\n 'ἔνθα δ’ ἐπάκτιον οἶκον Ἀγηνορίδης ἔχε Φινεύς, ὃς περὶ δὴ πάντων ὀλοώτατα πήματ’ ἀνέτλη εἵνεκα μαντοσύνης, τήν οἱ πάρος ἐγγυάλιξεν Λητοΐδης·',\n 'οὐδ’ ὅσσον ὀπίζετο καὶ Διὸς αὐτοῦ χρείων ἀτρεκέως ἱερὸν νόον ἀνθρώποισιν.',\n 'τῶ καί οἱ γῆρας μὲν ἐπὶ δηναιὸν ἴαλλεν, ἐκ δ’ ἕλετ’ ὀφθαλμῶν γλυκερὸν φάος·',\n 'οὐδὲ γάνυσθαι εἴα ἀπειρεσίοισιν ὀνείασιν, ὅσσα οἱ αἰεὶ θέσφατα πευθόμενοι περιναιέται οἴκαδ’ ἄγειρον.',\n 'ἀλλὰ διὰ νεφέων ἄφνω πέλας ἀίσσουσαι ἅρπυιαι στόματος χειρῶν τ’ ἀπὸ γαμφηλῇσιν συνεχέως ἥρπαζον.',\n 'ἐλείπετο δ’ ἄλλοτε φορβῆς οὐδ’ ὅσον, ἄλλοτε τυτθόν, ἵνα ζώων ἀκάχοιτο.',\n 'καὶ δ’ ἐπὶ μυδαλέην ὀδμὴν χέον·',\n 'οὐδέ τις ἔτλη μὴ καὶ λευκανίηνδε φορεύμενος, ἀλλ’ ἀποτηλοῦ ἑστηώς·',\n 'τοῖόν οἱ ἀπέπνεε λείψανα δαιτός.',\n 'αὐτίκα δ’ εἰσαΐων ἐνοπὴν καὶ δοῦπον ὁμίλου τούσδ’ αὐτοὺς παριόντας ἐπήισεν, ὧν οἱ ἰόντων θέσφατον ἐκ Διὸς ἦεν ἑῆς ἀπόνασθαι ἐδωδῆς.',\n 'ὀρθωθεὶς δ’ εὐνῆθεν, ἀκήριον ἠύτ’ ὄνειρον, βάκτρῳ σκηπτόμενος ῥικνοῖς ποσὶν ᾖε θύραζε, τοίχους ἀμφαφόων·',\n 'τρέμε δ’ ἅψεα νισσομένοιο ἀδρανίῃ γήραι τε·',\n 'πίνῳ δέ οἱ αὐσταλέος χρὼς ἐσκλήκει, ῥινοὶ δὲ σὺν ὀστέα μοῦνον ἔεργον.',\n 'ἐκ δ’ ἐλθὼν μεγάροιο καθέζετο γοῦνα βαρυνθεὶς οὐδοῦ ἐπ’ αὐλείοιο·',\n 'κάρος δέ μιν ἀμφεκάλυψεν πορφύρεος, γαῖαν δὲ πέριξ ἐδόκησε φέρεσθαι νειόθεν, ἀβληχρῷ δ’ ἐπὶ κώματι κέκλιτ’ ἄναυδος.',\n 'οἱ δέ μιν ὡς εἴδοντο, περισταδὸν ἠγερέθοντο καὶ τάφον.',\n 'αὐτὰρ ὁ τοῖσι μάλα μόλις ἐξ ὑπάτοιο στήθεος ἀμπνεύσας μετεφώνεε μαντοσύνῃσιν·',\n ' κλῦτε, Πανελλήνων προφερέστατοι, εἰ ἐτεὸν δὴ οἵδ’ ὑμεῖς, οὓς δή κρυερῇ βασιλῆος ἐφετμῇ Ἀργῴης ἐπὶ νηὸς ἄγει μετὰ κῶας Ἰήσων.',\n 'ὑμεῖς ἀτρεκέως.',\n 'ἔτι μοι νόος οἶδεν ἕκαστα ᾗσι θεοπροπίῃσι.',\n 'χάριν νύ τοι, ὦ ἄνα Λητοῦς υἱέ, καὶ ἀργαλέοισιν ἀνάπτομαι ἐν καμάτοισιν.',\n 'Ἱκεσίου πρὸς Ζηνός, ὅτις ῥίγιστος ἀλιτροῖς ἀνδράσι, Φοίβου τ’ ἀμφὶ καὶ αὐτῆς εἵνεκεν Ἥρης λίσσομαι, ᾗ περίαλλα θεῶν μέμβλεσθε κιόντες, χραίσμετέ μοι, ῥύσασθε δυσάμμορον ἀνέρα λύμης, μηδέ μ’ ἀκηδείῃσιν ἀφορμήθητε λιπόντες αὔτως.',\n 'οὐ γὰρ μοῦνον ἐπ’ ὀφθαλμοῖσιν Ἐρινὺς λὰξ ἐπέβη, καὶ γῆρας ἀμήρυτον ἐς τέλος ἕλκω·',\n 'πρὸς δ’ ἔτι πικρότατον κρέμαται κακὸν ἄλλο κακοῖσιν.',\n 'ἅρπυιαι στόματός μοι ἀφαρπάζουσιν ἐδωδὴν ἔκποθεν ἀφράστοιο καταΐσσουσαι ὄλεθροι.',\n 'ἴσχω δ’ οὔτινα μῆτιν ἐπίρροθον.',\n 'ἀλλά κε ῥεῖα αὐτὸς ἑὸν λελάθοιμι νόον δόρποιο μεμηλώς, ἢ κείνας·',\n 'ὧδ’ αἶψα διηέριαι ποτέονται.',\n 'τυτθὸν δ’ ἢν ἄρα δήποτ’ ἐδητύος ἄμμι λίπωσιν, πνεῖ τόδε μυδαλέον τε καὶ οὐ τλητὸν μένος ὀδμῆς·',\n 'οὔ κέ τις οὐδὲ μίνυνθα βροτῶν ἄνσχοιτο πελάσσας, οὐδ’ εἴ οἱ ἀδάμαντος ἐληλάμενον κέαρ εἴη.',\n 'ἀλλά με πικρὴ δῆτα καὶ ἄατος ἴσχει ἀνάγκη μίμνειν καὶ μίμνοντα κακῇ ἐνὶ γαστέρι θέσθαι.',\n 'τὰς μὲν θέσφατόν ἐστιν ἐρητῦσαι Βορέαο υἱέας.',\n 'οὐδ’ ὀθνεῖοι ἀλαλκήσουσιν ἐόντες, εἰ δὴ ἐγὼν ὁ πρίν ποτ’ ἐπικλυτὸς ἀνδράσι Φινεὺς ὄλβῳ μαντοσύνῃ τε, πατὴρ δέ με γείνατ’ Ἀγήνωρ·',\n 'τῶν δὲ κασιγνήτην, ὅτ’ ἐνὶ Θρῄκεσσιν ἄνασσον, Κλειοπάτρην ἕδνοισιν ἐμὸν δόμον ἦγον ἄκοιτιν\".',\n 'ἴσκεν Ἀγηνορίδης·',\n 'ἀδινὸν δ’ ἕλε κῆδος ἕκαστον ἡρώων, πέρι δ’ αὖτε δύω υἷας Βορέαο.',\n 'δάκρυ δ’ ὀμορξαμένω σχεδὸν ἤλυθον, ὧδέ τ’ ἔειπεν Ζήτης, ἀσχαλόωντος ἑλὼν χερὶ χεῖρα γέροντος·',\n ' ἆ δείλ’, οὔτινά φημι σέθεν σμυγερώτερον ἄλλον ἔμμεναι ἀνθρώπων.',\n 'τί νύ τοι τόσα κήδε’ ἀνῆπται;',\n 'ἦ ῥα θεοὺς ὀλοῇσι παρήλιτες ἀφραδίῃσιν μαντοσύνας δεδαώς;',\n 'τῶ τοι μέγα μηνιόωσιν;',\n 'ἄμμι γε μὴν νόος ἔνδον ἀτύζεται ἱεμένοισιν χραισμεῖν, εἰ δὴ πρόχνυ γέρας τόδε πάρθετο δαίμων νῶιν.',\n 'ἀρίζηλοι γὰρ ἐπιχθονίοισιν ἐνιπαὶ ἀθανάτων.',\n 'οὐδ’ ἂν πρὶν ἐρητύσαιμεν ἰούσας Ἁρπυίας, μάλα περ λελιημένοι, ἔστ’ ἂν ὀμόσσῃς, μὴ μὲν τοῖό γ’ ἕκητι θεοῖς ἀπὸ θυμοῦ ἔσεσθαι\".',\n 'ὧς φάτο·',\n 'τοῦ δ’ ἰθὺς κενεὰς ὁ γεραιὸς ἀνέσχεν γλήνας ἀμπετάσας, καὶ ἀμείψατο τοῖσδ’ ἐπέεσσιν·',\n ' σίγα·',\n 'μή μοι ταῦτα νόῳ ἔνι βάλλεο, τέκνον.',\n 'ἴστω Λητοῦς υἱός, ὅ με πρόφρων ἐδίδαξεν μαντοσύνας·',\n 'ἴστω δὲ δυσώνυμος, ἥ μ’ ἔλαχεν, κὴρ καὶ τόδ’ ἐπ’ ὀφθαλμῶν ἀλαὸν νέφος, οἵ θ’ ὑπένερθεν δαίμονες, οἳ μηδ’ ὧδε θανόντι περ εὐμενέοιεν, ὡς οὔ τις θεόθεν χόλος ἔσσεται εἵνεκ’ ἀρωγῆς\".',\n 'τὼ μὲν ἔπειθ’ ὅρκοισιν ἀλαλκέμεναι μενέαινον.',\n 'αἶψα δὲ κουρότεροι πεπονήατο δαῖτα γέροντι, λοίσθιον Ἁρπυίῃσιν ἑλώριον·',\n 'ἐγγύθι δ’ ἄμφω στῆσαν, ἵνα ξιφέεσσιν ἐπεσσυμένας ἐλάσειαν.',\n 'καὶ δὴ τὰ πρώτισθ’ ὁ γέρων ἔψαυεν ἐδωδῆς·',\n 'αἱ δ’ ἄφαρ ἠύτ’ ἄελλαι ἀδευκέες, ἢ στεροπαὶ ὥς, ἀπρόφατοι νεφέων ἐξάλμεναι ἐσσεύοντο κλαγγῇ μαιμώωσαι ἐδητύος·',\n 'οἱ δ’ ἐσιδόντες ἥρωες μεσσηγὺς ἀνίαχον·',\n 'αἱ δ’ ἅμ’ ἀυτῇ πάντα καταβρόξασαι ὑπὲρ πόντοιο φέροντο τῆλε παρέξ·',\n 'ὀδμὴ δὲ δυσάνσχετος αὖθι λέλειπτο.',\n 'τάων δ’ αὖ κατόπισθε δύω υἷες Βορέαο φάσγαν’ ἐπισχόμενοι ὀπίσω θέον.',\n 'ἐν γὰρ ἕηκεν Ζεὺς μένος ἀκάματόν σφιν·',\n 'ἀτὰρ Διὸς οὔ κεν ἑπέσθην νόσφιν, ἐπεὶ ζεφύροιο παραΐσσεσκον ἀέλλας αἰέν.',\n 'ὅτ’ ἐς Φινῆα καὶ ἐκ Φινῆος ἴοιεν.',\n 'ὡς δ’ ὅτ’ ἐνὶ κνημοῖσι κύνες δεδαημένοι ἄγρη;',\n 'ἢ αἶγας κεραοὺς ἠὲ πρόκας ἰχνεύοντες θείωσιν, τυτθὸν δὲ τιταινόμενοι μετόπισθεν ἄκρῃς ἐν γενύεσσι μάτην ἀράβησαν ὀδόντας·',\n 'ὧς Ζήτης Κάλαΐς τε μάλα σχεδὸν ἀίσσοντες τάων ἀκροτάτῃσιν ἐπέχραον ἤλιθα χερσίν.',\n 'καί νύ κε δή σφ’ ἀέκητι θεῶν διεδηλήσαντο πολλὸν ἑκὰς νήσοισιν ἔπι Πλωτῇσι κιχόντες, εἰ μὴ ἄρ’ ὠκέα Ἶρις ἴδεν, κατὰ δ’ αἰθέρος ἆλτο οὐρανόθεν, καὶ τοῖα παραιφαμένη κατέρυκεν·',\n ' οὐ θέμις, ὦ υἱεῖς Βορέω, ξιφέεσσιν ἐλάσσαι Ἁρπυίας, μεγάλοιο Διὸς κύνας·',\n 'ὅρκια δ’ αὐτὴ δώσω ἐγών, ὡς οὔ οἱ ἔτι χρίμψουσιν ἰοῦσαι\".',\n 'ὧς φαμένη λοιβὴν Στυγὸς ὤμοσεν, ἥ τε θεοῖσιν ῥιγίστη πάντεσσιν ὀπιδνοτάτη τε τέτυκται, μὴ μὲν Ἀγηνορίδαο δόμοις ἔτι τάσδε πελάσσαι εἰσαῦτις Φινῆος, ἐπεὶ καὶ μόρσιμον ἦεν.',\n 'οἱ δ’ ὅρκῳ εἴξαντες ὑπέστρεφον ἂψ ἐπὶ νῆα σώεσθαι.',\n 'Στροφάδας δὲ μετακλείουσ’ ἄνθρωποι νήσους τοῖό γ’ ἕκητι, πάρος Πλωτὰς καλέοντες.',\n 'Ἅρπυιαί τ’ Ἶρίς τε διέτμαγεν.',\n 'αἱ μὲν ἔδυσαν κευθμῶνα Κρήτης Μινωίδος·',\n 'ἡ δ’ ἀνόρουσεν Οὔλυμπόνδε, θοῇσι μεταχρονίη πτερύγεσσιν.',\n 'τόφρα δ’ ἀριστῆες πινόεν περὶ δέρμα γέροντος πάντῃ φοιβήσαντες ἐπικριδὸν ἱρεύσαντο μῆλα, τά τ’ ἐξ Ἀμύκοιο λεηλασίης ἐκόμισσαν.',\n 'αὐτὰρ ἐπεὶ μέγα δόρπον ἐνὶ μεγάροισιν ἔθεντο, δαίνυνθ’ ἑζόμενοι·',\n 'σὺν δέ σφισι δαίνυτο Φινεὺς ἁρπαλέως, οἷόν τ’ ἐν ὀνείρασι θυμὸν ἰαίνων.',\n 'ἔνθα δ’, ἐπεὶ δόρποιο κορέσσαντ’ ἠδὲ ποτῆτος, παννύχιοι Βορέω μένον υἱέας ἐγρήσσοντες.',\n 'αὐτὸς δ’ ἐν μέσσοισι παρ’ ἐσχάρῃ ἧστο γεραιὸς πείρατα ναυτιλίης ἐνέπων ἄνυσίν τε κελεύθου·',\n ' κλῦτέ νυν.',\n 'οὐ μὲν πάντα πέλει θέμις ὔμμι δαῆναι ἀτρεκές·',\n 'ὅσσα δ’ ὄρωρε θεοῖς φίλον, οὐκ ἐπικεύσω.',\n 'ἀασάμην καὶ πρόσθε Διὸς νόον ἀφραδίῃσιν χρείων ἑξείης τε καὶ ἐς τέλος.',\n 'ὧδε γὰρ αὐτὸς βούλεται ἀνθρώποις ἐπιδευέα θέσφατα φαίνειν μαντοσύνης, ἵνα καί τι θεῶν χατέωσι νόοιο.',\n 'πέτρας μὲν πάμπρωτον, ἀφορμηθέντες ἐμεῖο, Κυανέας ὄψεσθε δύω ἁλὸς ἐν ξυνοχῇσιν, τάων οὔτινά φημι διαμπερὲς ἐξαλέασθαι.',\n 'οὐ γάρ τε ῥίζῃσιν ἐρήρεινται νεάτῃσιν, ἀλλὰ θαμὰ ξυνίασιν ἐναντίαι ἀλλήλῃσιν εἰς ἕν, ὕπερθε δὲ πολλὸν ἁλὸς κορθύεται ὕδωρ βρασσόμενον·',\n 'στρηνὲς δὲ περὶ στυφελῇ βρέμει ἀκτῇ.',\n 'τῶ νῦν ἡμετέρῃσι παραιφασίῃσι πίθεσθε, εἰ ἐτεὸν πυκινῷ τε νόῳ μακάρων τ’ ἀλέγοντες πείρετε·',\n 'μηδ’ αὔτως αὐτάγρετον οἶτον ὄλησθε ἀφραδέως, ἢ θύνετ’ ἐπισπόμενοι νεότητι.',\n 'οἰωνῷ δή πρόσθε πελειάδι πειρήσασθαι νηὸς ἄπο προμεθέντες ἐφιέμεν.',\n 'ἢν δὲ δι’ αὐτῶν πετράων πόντονδε σόη πτερύγεσσι δίηται, μηκέτι δὴν μηδ’ αὐτοὶ ἐρητύεσθε κελεύθου, ἀλλ’ εὖ καρτύναντες ἑαῖς ἐνὶ χερσὶν ἐρετμὰ τέμνεθ’ ἁλὸς στεινωπόν·',\n 'ἐπεὶ φάος οὔ νύ τι τόσσον ἔσσετ’ ἐν εὐχωλῇσιν, ὅσον τ’ ἐνὶ κάρτεϊ χειρῶν.',\n 'τῶ καὶ τ- ἄλλα μεθέντες ὀνήιστον πονέεσθαι θαρσαλέως·',\n 'πρὶν δ’ οὔτι θεοὺς λίσσεσθαι ἐρύκω.',\n 'εἰ δέ κεν ἀντικρὺ πταμένη μεσσηγὺς ὄληται, ἄψορροι στέλλεσθαι ἐπεὶ πολὺ βέλτερον εἶξαι ἀθανάτοις.',\n 'οὐ γάρ κε κακὸν μόρον ἐξαλέαισθε πετράων, οὐδ’ εἴ κε σιδηρείη πέλοι Ἀργώ.',\n 'ὦ μέλεοι, μὴ τλῆτε παρὲξ ἐμὰ θέσφατα βῆναι, εἰ καί με τρὶς τόσσον ὀίεσθ’ Οὐρανίδῃσιν, ὅσσον ἀνάρσιός εἰμι, καὶ εἰ πλεῖον στυγέεσθαι·',\n 'μὴ τλῆτ’ οἰωνοῖο πάρεξ ἔτι νηὶ περῆσαι.',\n 'καὶ τὰ μὲν ὥς κε πέλῃ, τὼς ἔσσεται.',\n 'ἢν δὲ φύγητε σύνδρομα πετράων ἀσκηθέες ἔνδοθι Πόντου, αὐτίκα Βιθυνῶν ἐπὶ δεξιὰ γαῖαν ἔχοντες πλώετε ῥηγμῖνας πεφυλαγμένοι, εἰσόκεν αὖτε Ῥήβαν ὠκυρόην ποταμὸν ἄκρην τε Μέλαιναν γνάμψαντες νήσου Θυνηίδος ὅρμον ἵκησθε.',\n 'κεῖθεν δ’ οὐ μάλα πουλὺ διὲξ ἁλὸς ἀντιπέραιαν γῆν Μαριανδυνῶν ἐπικέλσετε νοστήσαντες.',\n 'ἔνθα μὲν εἰς Ἀίδαο καταιβάτις ἐστὶ κέλευθος, ἄκρη τε προβλὴς Ἀχερουσιὰς ὑψόθι τείνει, δινήεις τ’ Ἀχέρων αὐτὴν διὰ νειόθι τέμνων ἄκρην ἐκ μεγάλης προχοὰς ἵησι φάραγγος.',\n 'ἀγχίμολον δ’ ἐπὶ τῇ πολέας παρανεῖσθε κολωνοὺς Παφλαγόνων, τοῖσίν τ’ Ἐνετήιος ἐμβασίλευσεν πρῶτα Πέλοψ, τοῦ καί περ ἀφ’ αἵματος εὐχετόωνται.',\n 'ἔστι δέ τις ἄκρη Ἑλίκης κατεναντίον Ἄρκτου, πάντοθεν ἠλίβατος, καί μιν καλέουσι Κάραμβιν, τῆς καὶ ὑπὲρ βορέαο περισχίζονται ἄελλαι·',\n 'ὧδε μάλ’ ἂμ πέλαγος τετραμμένη αἰθέρι κύρει.',\n 'τήνδε περιγνάμψαντι πολὺς παρακέκλιται·',\n 'ἤδη αἰγιαλός·',\n 'πολέος δ’ ἐπὶ πείρασιν Αἰγιαλοῖο ἀκτῇ ἐπὶ προβλῆτι ῥοαὶ Ἅλυος ποταμοῖο δεινὸν ἐρεύγονται·',\n 'μετὰ τὸν δ’ ἀγχίρροος Ἶρις μειότερος λευκῇσιν ἑλίσσεται εἰς ἅλα δίναις.',\n 'κεῖθεν δὲ προτέρωσε μέγας καὶ ὑπείροχος ἀγκὼν ἐξανέχει γαίης·',\n 'ἐπὶ δὲ στόμα Θερμώδοντος κόλπῳ ἐν εὐδιόωντι Θεμισκύρειον ὑπ’ ἄκρην μύρεται, εὐρείης διαειμένος ἠπείροιο.',\n 'ἔνθα δὲ Δοίαντος πεδίον, σχεδόθεν δὲ πόληες τρισσαὶ Ἀμαζονίδων, μετά τε σμυγερώτατοι ἀνδρῶν τρηχεῖαν Χάλυβες καὶ ἀτειρέα γαῖαν ἔχουσιν, ἐργατίναι·',\n 'τοὶ δ’ ἀμφὶ σιδήρεα ἔργα μέλονται.',\n 'ἄγχι δὲ ναιετάουσι πολύρρηνες Τιβαρηνοὶ Ζηνὸς Ἐυξείνοιο Γενηταίην ὑπὲρ ἄκρην.',\n 'τῇ δ’ ἐπὶ Μοσσύνοικοι ὁμούριοι ὑλήεσσαν ἑξείης ἤπειρον, ὑπωρείας τε νέμονται, δουρατέοις πύργοισιν ἐν οἰκία τεκτήναντες κάλινα καὶ πύργους εὐπηγέας, οὓς καλέουσιν μόσσυνας·',\n 'καὶ δ’ αὐτοὶ ἐπώνυμοι ἔνθεν ἔασιν.',\n 'τοὺς παραμειβόμενοι λισσῇ ἐπικέλσετε νήσῳ, μήτι παντοίῃ μέγ’ ἀναιδέας ἐξελάσαντες οἰωνούς, οἳ δῆθεν ἀπειρέσιοι ἐφέπουσιν νῆσον ἐρημαίην.',\n 'τῇ μέν τ’ ἐνὶ νηὸν Ἄρηος λαΐνεον ποίησαν Ἀμαζονίδων βασίλειαι Ὀτρηρή τε καὶ Ἀντιόπη, ὁπότε στρατόωντο.',\n 'ἔνθα γὰρ ὔμμιν ὄνειαρ ἀδευκέος ἐξ ἁλὸς εἶσιν ἄρρητον·',\n 'τῶ καί τε φίλα φρονέων ἀγορεύω ἰσχέμεν.',\n 'ἀλλὰ τίη με πάλιν χρειὼ ἀλιτέσθαι μαντοσύνῃ τὰ ἕκαστα διηνεκὲς ἐξενέποντα;',\n 'νήσου δὲ προτέρωσε καὶ ἠπείροιο περαίης φέρβονται Φίλυρες·',\n 'Φιλύρων δ’ ἐφύπερθεν ἔασιν Μάκρωνες·',\n 'μετὰ δ’ αὖ περιώσια φῦλα Βεχείρων.',\n 'ἑξείης δὲ Σάπειρες ἐπὶ σφίσι ναιετάουσιν·',\n 'Βύζηρες δ’ ἐπὶ τοῖσιν ὁμώλακες, ὧν ὕπερ ἤδη αὐτοὶ Κόλχοι ἔχονται ἀρήιοι.',\n 'ἀλλ’ ἐνὶ νηὶ πείρεθ’, ἕως μυχάτῃ κεν ἐνιχρίμψητε θαλάσσῃ.',\n 'ἔνθα δ’ ἐπ’ ἠπείροιο Κυταιίδος, ἠδ’ Ἀμαραντῶν τηλόθεν ἐξ ὀρέων πεδίοιό τε Κιρκαίοιο Φᾶσις δινήεις εὐρὺν ῥόον εἰς ἅλα βάλλει.',\n 'κείνου νῆ’ ἐλάοντες ἐπὶ προχοὰς ποταμοῖο πύργους εἰσόψεσθε Κυταιέος Αἰήταο, ἄλσος τε σκιόειν Ἄρεος, τόθι κῶας ἐπ’ ἄκρης πεπτάμενον φηγοῖο δράκων, τέρας αἰνὸν ἰδέσθαι, ἀμφὶς ὀπιπεύει δεδοκημένος·',\n 'οὐδέ οἱ ἦμαρ , οὐ κνέφας ἥδυμος ὕπνος ἀναιδέα δάμναται ὄσσε\".',\n 'ὧς ἄρ’ ἔφη·',\n 'τοὺς δ’ εἶθαρ ἕλεν δέος εἰσαΐοντας.',\n 'δὴν δ’ ἔσαν ἀμφασίῃ βεβολημένοι·',\n 'ὀψὲ δ’ ἔειπεν ἥρως Αἴσονος υἱὸς ἀμηχανέων κακότητι·',\n ' ὦ γέρον, ἤδη μέν τε διίκεο πείρατ’ ἀέθλων ναυτιλίης καὶ τέκμαρ, ὅτῳ στυγερὰς διὰ πέτρας πειθόμενοι Πόντονδε περήσομεν·',\n 'εἰ δέ κεν αὖτις τάσδ’ ἡμῖν προφυγοῦσιν ἐς Ἑλλάδα νόστος ὀπίσσω ἔσσεται, ἀσπαστῶς κε παρὰ σέο καὶ τὸ δαείην.',\n 'πῶς ἔρδω , πῶς αὖτε τόσην ἁλὸς εἶμι κέλευθον, νῆις ἐὼν ἑτάροις ἅμα νήισιν;',\n 'αἶα δὲ Κολχὶς Πόντου καὶ γαίης ἐπικέκλιται ἐσχατιῇσιν\".',\n 'ὧς φάτο·',\n 'τὸν δ’ ὁ γεραιὸς ἀμειβόμενος προσέειπεν·',\n ' ὦ τέκος, εὖτ’ ἂν πρῶτα φύγῃς ὀλοὰς διὰ πέτρας, θάρσει·',\n 'ἐπεὶ δαίμων ἕτερον πλόον ἡγεμονεύσει ἐξ Αἴης·',\n 'μετὰ δ’ Αἶαν ἅλις πομπῆες ἔσονται.',\n 'ἀλλά, φίλοι, φράζεσθε θεᾶς δολόεσσαν ἀρωγὴν Κύπριδος.',\n 'ἐκ γὰρ τῆς κλυτὰ πείρατα κεῖται ἀέθλων.',\n 'καὶ δέ με μηκέτι τῶνδε περαιτέρω ἐξερέεσθε\".',\n 'ὧς φάτ’ Ἀγηνορίδης·',\n 'ἐπὶ δὲ σχεδὸν υἱέε δοιὼ Θρηικίου Βορέαο κατ’ αἰθέρος ἀίξαντε οὐδῷ ἔπι κραιπνοὺς ἔβαλον πόδας·',\n 'οἱ δ’ ἀνόρουσαν ἐξ ἑδέων ἥρωες, ὅπως παρεόντας ἴδοντο.',\n 'Ζήτης δ’ ἱεμένοισιν, ἔτ’ ἄσπετον ἐκ καμάτοιο ἆσθμ’ ἀναφυσιόων, μετεφώνεεν, ὅσσον ἄπωθεν ἤλασαν, ἠδ’ ὡς Ἶρις ἐρύκακε τάσδε δαΐξαι, ὅρκιά τ’ εὐμενέουσα θεὰ πόρεν, αἱ δ’ ὑπέδυσαν δείματι Δικταίης περιώσιον ἄντρον ἐρίπνης.',\n 'γηθόσυνοι δή- ἔπειτα δόμοις ἔνι πάντες ἑταῖροι αὐτός τ’ ἀγγελίῃ Φινεὺς πέλεν.',\n 'ὦκα δὲ τόνγε Αἰσονίδης περιπολλὸν ἐυφρονέων προσέειπεν·',\n ' ἦ ἄρα δή τις ἔην, Φινεῦ, θεός, ὃς σέθεν ἄτης κήδετο λευγαλέης, καὶ δ’ ἡμέας αὖθι πέλασσεν τηλόθεν, ὄφρα τοι υἷες ἀμύνειαν Βορέαο·',\n 'εἰ δὲ καὶ ὀφθαλμοῖσι φόως πόροι ἦ τ’ ἂν ὀίω γηθήσειν, ὅσον εἴπερ ὑπότροπος οἴκαδ’ ἱκοίμην\".',\n 'ὧς ἔφατ’·',\n 'αὐτὰρ ὁ τόνγε κατηφήσας προσέειπεν·',\n ' Αἰσονίδη, τὸ μὲν οὐ παλινάγρετον, οὐδέ τι μῆχος ἔστ’ ὀπίσω·',\n 'κενεαὶ γὰρ ὑποσμύχονται ὀπωπαί.',\n 'ἀντὶ δὲ τοῦ θάνατόν μοι ἄφαρ θεὸς ἐγγυαλίξαι, καί τε θανὼν πάσῃσι μετέσσομαι ἀγλαΐῃσιν\".',\n 'ὧς τώγ’ ἀλλήλοισι παραβλήδην ἀγόρευον.',\n 'αὐτίκα δ’ οὐ μετὰ δηρὸν ἀμειβομένων ἐφαάνθη ἠριγενής·',\n 'τὸν δ’ ἀμφὶ περικτίται ἠγερέθοντο ἀνέρες, οἳ καὶ πρόσθεν ἐπ’ ἤματι κεῖσε θάμιζον, αἰὲν ὁμῶς φορέοντες ἑῆς ἀπὸ μοῖραν ἐδωδῆς.',\n 'τοῖς ὁ γέρων πάντεσσιν, ὅτις καὶ ἀφαυρὸς ἵκοιτο, ἔχραεν ἐνδυκέως, πολέων δ’ ἀπὸ πήματ’ ἔλυσεν μαντοσύνῃ·',\n 'τῶ καί μιν ἐποιχόμενοι κομέεσκον.',\n 'σὺν τοῖσιν δ’ ἵκανε Παραίβιος, ὅς ῥά οἱ ἦεν φίλτατος·',\n 'ἀσπάσιος δὲ δόμοις ἔνι τούσγ’ ἐνόησεν.',\n 'πρὶν γὰρ δή νύ ποτ’ αὐτὸς ἀριστήων στόλον ἀνδρῶν Ἑλλάδος ἐξανιόντα μετὰ πτόλιν Αἰήταο πείσματ’ ἀνάψασθαι μυθήσατο Θυνίδι γαίῃ, οἵ τέ οἱ Ἁρπυίας Διόθεν σχήσουσιν ἰούσας.',\n 'τοὺς μὲν ἔπειτ’ ἐπέεσσιν ἀρεσσάμενος πυκινοῖσιν πέμφ’ ὁ γέρων·',\n 'οἶον δὲ Παραίβιον αὐτόθι μίμνειν κέκλετ’ ἀριστήεσσι σὺν ἀνδράσιν·',\n 'αἶψα δὲ τόνγε σφωιτέρων ὀίων ὅτις ἔξοχος, εἰς ἓ κομίσσαι ἧκεν ἐποτρύνας.',\n 'τοῦ δ’ ἐκ μεγάροιο κιόντος μειλιχίως ἐρέτῃσιν ὁμηγερέεσσι μετηύδα·',\n ' ὦ φίλοι, οὐκ ἄρα πάντες ὑπέρβιοι ἄνδρες ἔασιν, οὐδ’ εὐεργεσίης ἀμνήμονες.',\n 'ὡς καὶ ὅδ’ ἀνὴρ τοῖος ἐὼν δεῦρ’ ἦλθεν, ἑὸν μόρον ὄφρα δαείη.',\n 'εὖτε γὰρ οὖν ὡς πλεῖστα κάμοι καὶ πλεῖστα μογήσαι, δὴ τότε μιν περιπολλὸν ἐπασσυτέρη βιότοιο χρησμοσύνη τρύχεσκεν·',\n 'ἐπ’ ἤματι δ’ ἦμαρ ὀρώρει κύντερον, οὐδέ τις ἦεν ἀνάπνευσις μογέοντι.',\n 'ἀλλ’ ὅγε πατρὸς ἑοῖο κακὴν τίνεσκεν ἀμοιβὴν ἀμπλακίης.',\n 'ὁ γὰρ οἶος ἐν οὔρεσι δένδρεα τέμνων δή ποθ’ ἁμαδρυάδος νύμφης ἀθέριξε λιτάων, ἥ μιν ὀδυρομένη ἀδινῷ μειλίσσετο μύθῳ, μὴ ταμέειν πρέμνον δρυὸς ἥλικος, ᾗ ἔπι πουλὺν αἰῶνα τρίβεσκε διηνεκές·',\n 'αὐτὰρ ὁ τήνγε ἀφραδέως ἔτμηξεν ἀγηνορίῃ νεότητος.',\n 'τῷ δ’ ἄρα νηκερδῆ νύμφη πόρεν οἶτον ὀπίσσω αὐτῷ καὶ τεκέεσσιν.',\n 'ἔγωγε μέν, εὖτ’ ἀφίκανεν, ἀμπλακίην ἔγνων·',\n 'βωμὸν δ’ ἐκέλευσα καμόντα Θυνιάδος νύμφης, λωφήια ῥέξαι ἐπ’ αὐτῷ ἱερά, πατρῴην αἰτεύμενον αἶσαν ἀλύξαι.',\n 'ἔνθ’ ἐπεὶ ἔκφυγε κῆρα θεήλατον, οὔποτ’ ἐμεῖο ἐκλάθετ’, οὐδ’ ἀθέρισσε·',\n 'μόλις δ’ ἀέκοντα θύραζε πέμπω, ἐπεὶ μέμονέν γε παρέμμεναι ἀσχαλόωντι\".',\n 'ὧς φάτ’ Ἀγηνορίδης·',\n 'ὁ δ’ ἐπισχεδὸν αὐτίκα δοιὼ ἤλυθ’ ἄγων ποίμνηθεν ὄις.',\n 'ἀνὰ δ’ ἵστατ’ Ἰήσων, ἂν δὲ Βορήιοι υἷες ἐφημοσύνῃσι γέροντος.',\n 'ὦκα δὲ κεκλόμενοι μαντήιον Ἀπόλλωνα ῥέζον ἐπ’ ἐσχαρόφιν νέον ἤματος ἀνομένοιο.',\n 'κουρότεροι δ’ ἑτάρων μενοεικέα δαῖτ’ ἀλέγυνον.',\n 'ἔνθ’ εὖ δαισάμενοι, τοὶ μὲν παρὰ πείσμασι νηός, τοὶ δ’ αὐτοῦ κατὰ δώματ’ ἀολλέες εὐνάζοντο.',\n 'ἦρι δ’ ἐτήσιαι αὖραι ἐπέχραον, αἵ τ’ ἀνὰ πᾶσαν γαῖαν ὁμῶς τοιῇδε Διὸς πνείουσιν ἀρωγῇ.',\n 'Κυρήνη πέφαταί τις ἕλος πάρα Πηνειοῖο μῆλα νέμειν προτέροισι παρ’ ἀνδράσιν·',\n 'εὔαδε γάρ οἱ παρθενίη καὶ λέκτρον ἀκήρατον.',\n 'αὐτὰρ Ἀπόλλων τήνγ’ ἀνερεψάμενος ποταμῷ ἔπι ποιμαίνουσαν τηλόθεν Αἱμονίης, χθονίῃς παρακάτθετο νύμφαις, αἳ Λιβύην ἐνέμοντο παραὶ Μυρτώσιον αἶπος.',\n 'ἔνθα δ’ Ἀρισταῖον Φοίβῳ τέκεν, ὃν καλέουσιν Ἀγρέα καὶ Νόμιον πολυλήιοι Αἱμονιῆες.',\n 'τὴν μὲν γὰρ φιλότητι θεὸς ποιήσατο νύμφην αὐτοῦ μακραίωνα καὶ ἀγρότιν·',\n 'υἷα δ’ ἔνεικεν νηπίαχον Χείρωνος ὑπ’ ἄντροισιν κομέεσθαι.',\n 'τῷ καὶ ἀεξηθέντι θεαὶ γάμον ἐμνήστευσαν Μοῦσαι, ἀκεστορίην τε θεοπροπίας τ’ ἐδίδαξαν·',\n 'καί μιν ἑῶν μήλων θέσαν ἤρανον, ὅσσ’ ἐνέμοντο ἂμ πεδίον Φθίης Ἀθαμάντιον ἀμφί τ’ ἐρυμνὴν Ὄθρυν καὶ ποταμοῦ ἱερὸν ῥόον Ἀπιδανοῖο.',\n 'ἦμος δ’ οὐρανόθεν Μινωίδας ἔφλεγε νήσους Σείριος, οὐδ’ ἐπὶ δηρὸν ἔην ἄκος ἐνναέτῃσιν, τῆμος τόνγ’ ἐκάλεσσαν ἐφημοσύναις Ἑκάτοιο λοιμοῦ ἀλεξητῆρα.',\n 'λίπεν δ’ ὅγε πατρὸς ἐφετμῇ Φθίην, ἐν δὲ Κέῳ κατενάσσατο, λαὸν ἀγείρας Παρράσιον, τοίπερ τε Λυκάονός εἰσι γενέθλης, καὶ βωμὸν ποίησε μέγαν Διὸς Ἰκμαίοιο, ἱερά τ’ εὖ ἔρρεξεν ἐν οὔρεσιν ἀστέρι κείνῳ Σειρίῳ αὐτῷ τε Κρονίδῃ Διί.',\n 'τοῖο δ’ ἕκητι γαῖαν ἐπιψύχουσιν ἐτήσιαι ἐκ Διὸς αὖραι ἤματα τεσσαράκοντα·',\n 'Κέῳ δ’ ἔτι νῦν ἱερῆες ἀντολέων προπάροιθε Κυνὸς ῥέζουσι θυηλάς.',\n ...]"
     },
     "execution_count": 45,
     "metadata": {},
     "output_type": "execute_result"
    }
   ],
   "source": [
    "#to obtain ordinary sentence data... (not used here)\n",
    "sentences = []\n",
    "for sent in soup.find_all(\"sentence\"):\n",
    "    sentence = \"\"\n",
    "    for w in sent.find_all(\"word\"):\n",
    "        wform = w[\"form\"]\n",
    "        if w[\"relation\"]==\"PUNCT\":\n",
    "            sentence += wform\n",
    "        else:\n",
    "            sentence += \" \" + wform\n",
    "    sentences.append(sentence[1:])\n",
    "sentences"
   ],
   "metadata": {
    "collapsed": false,
    "ExecuteTime": {
     "end_time": "2024-01-16T21:23:04.983980Z",
     "start_time": "2024-01-16T21:23:04.919704Z"
    }
   }
  },
  {
   "cell_type": "code",
   "outputs": [
    {
     "data": {
      "text/plain": "'public/xml/0001-001.xml'"
     },
     "execution_count": 46,
     "metadata": {},
     "output_type": "execute_result"
    }
   ],
   "source": [
    "paths[0]"
   ],
   "metadata": {
    "collapsed": false,
    "ExecuteTime": {
     "end_time": "2024-01-16T21:23:04.988563Z",
     "start_time": "2024-01-16T21:23:04.980865Z"
    }
   },
   "execution_count": 46
  },
  {
   "cell_type": "code",
   "outputs": [
    {
     "data": {
      "text/plain": "{'tlg0001.tlg001': 'public/xml/0001-001.xml',\n 'tlg0002.tlg004': 'public/xml/0002-004.xml',\n 'tlg0003.tlg001': 'public/xml/0003-001.xml',\n 'tlg0003.tlg002': 'public/xml/0003-002.xml',\n 'tlg0005.tlg001': 'public/xml/0005-001.xml',\n 'tlg0005.tlg002': 'public/xml/0005-002.xml',\n 'tlg0005.tlg005': 'public/xml/0005-005.xml',\n 'tlg0006.tlg007': 'public/xml/0006-007.xml',\n 'tlg0006.tlg008': 'public/xml/0006-008.xml',\n 'tlg0006.tlg009': 'public/xml/0006-009.xml',\n 'tlg0006.tlg010': 'public/xml/0006-010.xml',\n 'tlg0006.tlg011': 'public/xml/0006-011.xml',\n 'tlg0006.tlg012': 'public/xml/0006-012.xml',\n 'tlg0006.tlg013': 'public/xml/0006-013.xml',\n 'tlg0006.tlg014': 'public/xml/0006-014.xml',\n 'tlg0006.tlg015': 'public/xml/0006-015.xml',\n 'tlg0006.tlg016': 'public/xml/0006-016.xml',\n 'tlg0006.tlg017': 'public/xml/0006-017.xml',\n 'tlg0006.tlg018': 'public/xml/0006-018.xml',\n 'tlg0006.tlg019': 'public/xml/0006-019.xml',\n 'tlg0006.tlg031': 'public/xml/0006-031.xml',\n 'tlg0007.tlg001': 'public/xml/0007-001.xml',\n 'tlg0007.tlg002': 'public/xml/0007-002.xml',\n 'tlg0007.tlg003': 'public/xml/0007-003.xml',\n 'tlg0007.tlg004': 'public/xml/0007-004.xml',\n 'tlg0007.tlg005': 'public/xml/0007-005.xml',\n 'tlg0007.tlg006': 'public/xml/0007-006.xml',\n 'tlg0007.tlg007': 'public/xml/0007-007.xml',\n 'tlg0007.tlg008': 'public/xml/0007-008.xml',\n 'tlg0007.tlg009': 'public/xml/0007-009.xml',\n 'tlg0007.tlg010': 'public/xml/0007-010.xml',\n 'tlg0007.tlg011': 'public/xml/0007-011.xml',\n 'tlg0007.tlg012': 'public/xml/0007-012.xml',\n 'tlg0007.tlg013': 'public/xml/0007-013.xml',\n 'tlg0007.tlg014': 'public/xml/0007-014.xml',\n 'tlg0007.tlg015': 'public/xml/0007-015.xml',\n 'tlg0007.tlg016': 'public/xml/0007-016.xml',\n 'tlg0007.tlg017': 'public/xml/0007-017.xml',\n 'tlg0007.tlg018': 'public/xml/0007-018.xml',\n 'tlg0007.tlg019': 'public/xml/0007-019.xml',\n 'tlg0007.tlg020': 'public/xml/0007-020.xml',\n 'tlg0007.tlg021': 'public/xml/0007-021.xml',\n 'tlg0007.tlg022': 'public/xml/0007-022.xml',\n 'tlg0007.tlg023': 'public/xml/0007-023.xml',\n 'tlg0007.tlg024': 'public/xml/0007-024.xml',\n 'tlg0007.tlg025': 'public/xml/0007-025.xml',\n 'tlg0007.tlg026': 'public/xml/0007-026.xml',\n 'tlg0007.tlg027': 'public/xml/0007-027.xml',\n 'tlg0007.tlg028': 'public/xml/0007-028.xml',\n 'tlg0007.tlg029': 'public/xml/0007-029.xml',\n 'tlg0007.tlg030': 'public/xml/0007-030.xml',\n 'tlg0007.tlg031': 'public/xml/0007-031.xml',\n 'tlg0007.tlg032': 'public/xml/0007-032.xml',\n 'tlg0007.tlg033': 'public/xml/0007-033.xml',\n 'tlg0007.tlg034': 'public/xml/0007-034.xml',\n 'tlg0007.tlg035': 'public/xml/0007-035.xml',\n 'tlg0007.tlg036': 'public/xml/0007-036.xml',\n 'tlg0007.tlg037': 'public/xml/0007-037.xml',\n 'tlg0007.tlg038': 'public/xml/0007-038.xml',\n 'tlg0007.tlg039': 'public/xml/0007-039.xml',\n 'tlg0007.tlg040': 'public/xml/0007-040.xml',\n 'tlg0007.tlg041': 'public/xml/0007-041.xml',\n 'tlg0007.tlg042': 'public/xml/0007-042.xml',\n 'tlg0007.tlg043': 'public/xml/0007-043.xml',\n 'tlg0007.tlg044': 'public/xml/0007-044.xml',\n 'tlg0007.tlg045': 'public/xml/0007-045.xml',\n 'tlg0007.tlg046': 'public/xml/0007-046.xml',\n 'tlg0007.tlg047': 'public/xml/0007-047.xml',\n 'tlg0007.tlg048': 'public/xml/0007-048.xml',\n 'tlg0007.tlg049': 'public/xml/0007-049.xml',\n 'tlg0007.tlg050': 'public/xml/0007-050.xml',\n 'tlg0007.tlg051a': 'public/xml/0007-051a.xml',\n 'tlg0007.tlg051b': 'public/xml/0007-051b.xml',\n 'tlg0007.tlg052a': 'public/xml/0007-052a.xml',\n 'tlg0007.tlg052b': 'public/xml/0007-052b.xml',\n 'tlg0007.tlg053': 'public/xml/0007-053.xml',\n 'tlg0007.tlg054': 'public/xml/0007-054.xml',\n 'tlg0007.tlg055': 'public/xml/0007-055.xml',\n 'tlg0007.tlg056': 'public/xml/0007-056.xml',\n 'tlg0007.tlg057': 'public/xml/0007-057.xml',\n 'tlg0007.tlg058': 'public/xml/0007-058.xml',\n 'tlg0007.tlg059': 'public/xml/0007-059.xml',\n 'tlg0007.tlg060': 'public/xml/0007-060.xml',\n 'tlg0007.tlg061': 'public/xml/0007-061.xml',\n 'tlg0007.tlg062': 'public/xml/0007-062.xml',\n 'tlg0007.tlg063': 'public/xml/0007-063.xml',\n 'tlg0007.tlg064': 'public/xml/0007-064.xml',\n 'tlg0007.tlg065': 'public/xml/0007-065.xml',\n 'tlg0007.tlg066': 'public/xml/0007-066.xml',\n 'tlg0007.tlg072': 'public/xml/0007-072.xml',\n 'tlg0007.tlg073': 'public/xml/0007-073.xml',\n 'tlg0007.tlg074': 'public/xml/0007-074.xml',\n 'tlg0007.tlg075': 'public/xml/0007-075.xml',\n 'tlg0007.tlg081': 'public/xml/0007-081.xml',\n 'tlg0007.tlg082': 'public/xml/0007-082.xml',\n 'tlg0007.tlg082a': 'public/xml/0007-082a.xml',\n 'tlg0007.tlg082b': 'public/xml/0007-082b.xml',\n 'tlg0007.tlg083': 'public/xml/0007-083.xml',\n 'tlg0007.tlg085': 'public/xml/0007-085.xml',\n 'tlg0007.tlg088': 'public/xml/0007-088.xml',\n 'tlg0008.tlg001': 'public/xml/0008-001.xml',\n 'tlg0009.tlg002': 'public/xml/0009-002.xml',\n 'tlg0010.tlg001': 'public/xml/0010-001.xml',\n 'tlg0010.tlg002': 'public/xml/0010-002.xml',\n 'tlg0010.tlg003': 'public/xml/0010-003.xml',\n 'tlg0010.tlg004': 'public/xml/0010-004.xml',\n 'tlg0010.tlg005': 'public/xml/0010-005.xml',\n 'tlg0010.tlg006': 'public/xml/0010-006.xml',\n 'tlg0010.tlg007': 'public/xml/0010-007.xml',\n 'tlg0010.tlg008': 'public/xml/0010-008.xml',\n 'tlg0010.tlg009': 'public/xml/0010-009.xml',\n 'tlg0010.tlg010': 'public/xml/0010-010.xml',\n 'tlg0010.tlg011': 'public/xml/0010-011.xml',\n 'tlg0010.tlg012': 'public/xml/0010-012.xml',\n 'tlg0010.tlg013': 'public/xml/0010-013.xml',\n 'tlg0010.tlg014': 'public/xml/0010-014.xml',\n 'tlg0010.tlg015': 'public/xml/0010-015.xml',\n 'tlg0010.tlg016': 'public/xml/0010-016.xml',\n 'tlg0010.tlg017': 'public/xml/0010-017.xml',\n 'tlg0010.tlg018': 'public/xml/0010-018.xml',\n 'tlg0010.tlg019': 'public/xml/0010-019.xml',\n 'tlg0010.tlg020': 'public/xml/0010-020.xml',\n 'tlg0010.tlg021': 'public/xml/0010-021.xml',\n 'tlg0010.tlg022': 'public/xml/0010-022.xml',\n 'tlg0010.tlg023': 'public/xml/0010-023.xml',\n 'tlg0010.tlg024': 'public/xml/0010-024.xml',\n 'tlg0010.tlg025': 'public/xml/0010-025.xml',\n 'tlg0010.tlg026': 'public/xml/0010-026.xml',\n 'tlg0010.tlg027': 'public/xml/0010-027.xml',\n 'tlg0010.tlg028': 'public/xml/0010-028.xml',\n 'tlg0010.tlg029': 'public/xml/0010-029.xml',\n 'tlg0010.tlg030': 'public/xml/0010-030.xml',\n 'tlg0011.tlg001': 'public/xml/0011-001.xml',\n 'tlg0011.tlg002': 'public/xml/0011-002.xml',\n 'tlg0011.tlg003': 'public/xml/0011-003.xml',\n 'tlg0011.tlg004': 'public/xml/0011-004.xml',\n 'tlg0011.tlg005': 'public/xml/0011-005.xml',\n 'tlg0011.tlg006': 'public/xml/0011-006.xml',\n 'tlg0011.tlg007': 'public/xml/0011-007.xml',\n 'tlg0011.tlg008': 'public/xml/0011-008.xml',\n 'tlg0012.tlg001': 'public/xml/0012-001.xml',\n 'tlg0012.tlg002': 'public/xml/0012-002.xml',\n 'tlg0012.tlg003': 'public/xml/0012-003.xml',\n 'tlg0013.tlg001': 'public/xml/0013-001.xml',\n 'tlg0013.tlg002': 'public/xml/0013-002.xml',\n 'tlg0013.tlg003': 'public/xml/0013-003.xml',\n 'tlg0013.tlg004': 'public/xml/0013-004.xml',\n 'tlg0013.tlg005': 'public/xml/0013-005.xml',\n 'tlg0013.tlg006': 'public/xml/0013-006.xml',\n 'tlg0013.tlg007': 'public/xml/0013-007.xml',\n 'tlg0013.tlg009': 'public/xml/0013-009.xml',\n 'tlg0013.tlg010': 'public/xml/0013-010.xml',\n 'tlg0013.tlg011': 'public/xml/0013-011.xml',\n 'tlg0013.tlg012': 'public/xml/0013-012.xml',\n 'tlg0013.tlg013': 'public/xml/0013-013.xml',\n 'tlg0013.tlg014': 'public/xml/0013-014.xml',\n 'tlg0013.tlg015': 'public/xml/0013-015.xml',\n 'tlg0013.tlg016': 'public/xml/0013-016.xml',\n 'tlg0013.tlg017': 'public/xml/0013-017.xml',\n 'tlg0013.tlg018': 'public/xml/0013-018.xml',\n 'tlg0013.tlg019': 'public/xml/0013-019.xml',\n 'tlg0013.tlg020': 'public/xml/0013-020.xml',\n 'tlg0013.tlg021': 'public/xml/0013-021.xml',\n 'tlg0013.tlg022': 'public/xml/0013-022.xml',\n 'tlg0013.tlg023': 'public/xml/0013-023.xml',\n 'tlg0013.tlg024': 'public/xml/0013-024.xml',\n 'tlg0013.tlg025': 'public/xml/0013-025.xml',\n 'tlg0013.tlg026': 'public/xml/0013-026.xml',\n 'tlg0013.tlg027': 'public/xml/0013-027.xml',\n 'tlg0013.tlg028': 'public/xml/0013-028.xml',\n 'tlg0013.tlg029': 'public/xml/0013-029.xml',\n 'tlg0013.tlg030': 'public/xml/0013-030.xml',\n 'tlg0013.tlg031': 'public/xml/0013-031.xml',\n 'tlg0013.tlg032': 'public/xml/0013-032.xml',\n 'tlg0013.tlg033': 'public/xml/0013-033.xml',\n 'tlg0014.tlg001': 'public/xml/0014-001.xml',\n 'tlg0014.tlg002': 'public/xml/0014-002.xml',\n 'tlg0014.tlg003': 'public/xml/0014-003.xml',\n 'tlg0014.tlg004': 'public/xml/0014-004.xml',\n 'tlg0014.tlg005': 'public/xml/0014-005.xml',\n 'tlg0014.tlg006': 'public/xml/0014-006.xml',\n 'tlg0014.tlg007': 'public/xml/0014-007.xml',\n 'tlg0014.tlg008': 'public/xml/0014-008.xml',\n 'tlg0014.tlg009': 'public/xml/0014-009.xml',\n 'tlg0014.tlg010': 'public/xml/0014-010.xml',\n 'tlg0014.tlg011': 'public/xml/0014-011.xml',\n 'tlg0014.tlg012': 'public/xml/0014-012.xml',\n 'tlg0014.tlg013': 'public/xml/0014-013.xml',\n 'tlg0014.tlg014': 'public/xml/0014-014.xml',\n 'tlg0014.tlg015': 'public/xml/0014-015.xml',\n 'tlg0014.tlg016': 'public/xml/0014-016.xml',\n 'tlg0014.tlg017': 'public/xml/0014-017.xml',\n 'tlg0014.tlg018': 'public/xml/0014-018.xml',\n 'tlg0014.tlg019': 'public/xml/0014-019.xml',\n 'tlg0014.tlg020': 'public/xml/0014-020.xml',\n 'tlg0014.tlg021': 'public/xml/0014-021.xml',\n 'tlg0014.tlg022': 'public/xml/0014-022.xml',\n 'tlg0014.tlg023': 'public/xml/0014-023.xml',\n 'tlg0014.tlg024': 'public/xml/0014-024.xml',\n 'tlg0014.tlg025': 'public/xml/0014-025.xml',\n 'tlg0014.tlg026': 'public/xml/0014-026.xml',\n 'tlg0014.tlg027': 'public/xml/0014-027.xml',\n 'tlg0014.tlg028': 'public/xml/0014-028.xml',\n 'tlg0014.tlg029': 'public/xml/0014-029.xml',\n 'tlg0014.tlg030': 'public/xml/0014-030.xml',\n 'tlg0014.tlg031': 'public/xml/0014-031.xml',\n 'tlg0014.tlg032': 'public/xml/0014-032.xml',\n 'tlg0014.tlg033': 'public/xml/0014-033.xml',\n 'tlg0014.tlg034': 'public/xml/0014-034.xml',\n 'tlg0014.tlg035': 'public/xml/0014-035.xml',\n 'tlg0014.tlg036': 'public/xml/0014-036.xml',\n 'tlg0014.tlg037': 'public/xml/0014-037.xml',\n 'tlg0014.tlg038': 'public/xml/0014-038.xml',\n 'tlg0014.tlg039': 'public/xml/0014-039.xml',\n 'tlg0014.tlg040': 'public/xml/0014-040.xml',\n 'tlg0014.tlg041': 'public/xml/0014-041.xml',\n 'tlg0014.tlg042': 'public/xml/0014-042.xml',\n 'tlg0014.tlg043': 'public/xml/0014-043.xml',\n 'tlg0014.tlg044': 'public/xml/0014-044.xml',\n 'tlg0014.tlg045': 'public/xml/0014-045.xml',\n 'tlg0014.tlg046': 'public/xml/0014-046.xml',\n 'tlg0014.tlg047': 'public/xml/0014-047.xml',\n 'tlg0014.tlg048': 'public/xml/0014-048.xml',\n 'tlg0014.tlg049': 'public/xml/0014-049.xml',\n 'tlg0014.tlg050': 'public/xml/0014-050.xml',\n 'tlg0014.tlg051': 'public/xml/0014-051.xml',\n 'tlg0014.tlg052': 'public/xml/0014-052.xml',\n 'tlg0014.tlg053': 'public/xml/0014-053.xml',\n 'tlg0014.tlg054': 'public/xml/0014-054.xml',\n 'tlg0014.tlg055': 'public/xml/0014-055.xml',\n 'tlg0014.tlg056': 'public/xml/0014-056.xml',\n 'tlg0014.tlg057': 'public/xml/0014-057.xml',\n 'tlg0014.tlg058': 'public/xml/0014-058.xml',\n 'tlg0014.tlg059': 'public/xml/0014-059.xml',\n 'tlg0014.tlg060': 'public/xml/0014-060.xml',\n 'tlg0014.tlg061': 'public/xml/0014-061.xml',\n 'tlg0015.tlg001': 'public/xml/0015-001.xml',\n 'tlg0016.tlg001': 'public/xml/0016-001.xml',\n 'tlg0017.tlg001': 'public/xml/0017-001.xml',\n 'tlg0017.tlg002': 'public/xml/0017-002.xml',\n 'tlg0017.tlg003': 'public/xml/0017-003.xml',\n 'tlg0017.tlg004': 'public/xml/0017-004.xml',\n 'tlg0017.tlg005': 'public/xml/0017-005.xml',\n 'tlg0017.tlg006': 'public/xml/0017-006.xml',\n 'tlg0017.tlg007': 'public/xml/0017-007.xml',\n 'tlg0017.tlg008': 'public/xml/0017-008.xml',\n 'tlg0017.tlg009': 'public/xml/0017-009.xml',\n 'tlg0017.tlg010': 'public/xml/0017-010.xml',\n 'tlg0017.tlg011': 'public/xml/0017-011.xml',\n 'tlg0017.tlg012': 'public/xml/0017-012.xml',\n 'tlg0019.tlg001': 'public/xml/0019-001.xml',\n 'tlg0019.tlg002': 'public/xml/0019-002.xml',\n 'tlg0019.tlg003': 'public/xml/0019-003.xml',\n 'tlg0019.tlg004': 'public/xml/0019-004.xml',\n 'tlg0019.tlg005': 'public/xml/0019-005.xml',\n 'tlg0019.tlg006': 'public/xml/0019-006.xml',\n 'tlg0019.tlg007': 'public/xml/0019-007.xml',\n 'tlg0019.tlg008': 'public/xml/0019-008.xml',\n 'tlg0019.tlg009': 'public/xml/0019-009.xml',\n 'tlg0019.tlg010': 'public/xml/0019-010.xml',\n 'tlg0019.tlg011': 'public/xml/0019-011.xml',\n 'tlg0020.tlg001': 'public/xml/0020-001.xml',\n 'tlg0020.tlg002': 'public/xml/0020-002.xml',\n 'tlg0020.tlg003': 'public/xml/0020-003.xml',\n 'tlg0022.tlg006': 'public/xml/0022-006.xml',\n 'tlg0023.tlg001': 'public/xml/0023-001.xml',\n 'tlg0024.tlg001': 'public/xml/0024-001.xml',\n 'tlg0026.tlg001': 'public/xml/0026-001.xml',\n 'tlg0026.tlg002': 'public/xml/0026-002.xml',\n 'tlg0026.tlg003': 'public/xml/0026-003.xml',\n 'tlg0027.tlg001': 'public/xml/0027-001.xml',\n 'tlg0027.tlg002': 'public/xml/0027-002.xml',\n 'tlg0027.tlg003': 'public/xml/0027-003.xml',\n 'tlg0027.tlg004': 'public/xml/0027-004.xml',\n 'tlg0028.tlg001': 'public/xml/0028-001.xml',\n 'tlg0028.tlg002': 'public/xml/0028-002.xml',\n 'tlg0028.tlg003': 'public/xml/0028-003.xml',\n 'tlg0028.tlg004': 'public/xml/0028-004.xml',\n 'tlg0028.tlg005': 'public/xml/0028-005.xml',\n 'tlg0028.tlg006': 'public/xml/0028-006.xml',\n 'tlg0029.tlg004': 'public/xml/0029-004.xml',\n 'tlg0029.tlg005': 'public/xml/0029-005.xml',\n 'tlg0029.tlg006': 'public/xml/0029-006.xml',\n 'tlg0030.tlg001': 'public/xml/0030-001.xml',\n 'tlg0030.tlg002': 'public/xml/0030-002.xml',\n 'tlg0030.tlg003': 'public/xml/0030-003.xml',\n 'tlg0030.tlg004': 'public/xml/0030-004.xml',\n 'tlg0030.tlg005': 'public/xml/0030-005.xml',\n 'tlg0030.tlg006': 'public/xml/0030-006.xml',\n 'tlg0032.tlg001': 'public/xml/0032-001.xml',\n 'tlg0032.tlg002': 'public/xml/0032-002.xml',\n 'tlg0032.tlg003': 'public/xml/0032-003.xml',\n 'tlg0032.tlg004': 'public/xml/0032-004.xml',\n 'tlg0032.tlg005': 'public/xml/0032-005.xml',\n 'tlg0032.tlg006': 'public/xml/0032-006.xml',\n 'tlg0032.tlg007': 'public/xml/0032-007.xml',\n 'tlg0032.tlg008': 'public/xml/0032-008.xml',\n 'tlg0032.tlg009': 'public/xml/0032-009.xml',\n 'tlg0032.tlg010': 'public/xml/0032-010.xml',\n 'tlg0032.tlg011': 'public/xml/0032-011.xml',\n 'tlg0032.tlg012': 'public/xml/0032-012.xml',\n 'tlg0032.tlg013': 'public/xml/0032-013.xml',\n 'tlg0032.tlg014': 'public/xml/0032-014.xml',\n 'tlg0033.tlg001': 'public/xml/0033-001.xml',\n 'tlg0033.tlg002': 'public/xml/0033-002.xml',\n 'tlg0033.tlg003': 'public/xml/0033-003.xml',\n 'tlg0033.tlg004': 'public/xml/0033-004.xml',\n 'tlg0034.tlg001': 'public/xml/0034-001.xml',\n 'tlg0035.tlg001': 'public/xml/0035-001.xml',\n 'tlg0035.tlg002': 'public/xml/0035-002.xml',\n 'tlg0035.tlg003': 'public/xml/0035-003.xml',\n 'tlg0035.tlg004': 'public/xml/0035-004.xml',\n 'tlg0035.tlg005': 'public/xml/0035-005.xml',\n 'tlg0035.tlg006': 'public/xml/0035-006.xml',\n 'tlg0036.tlg001': 'public/xml/0036-001.xml',\n 'tlg0036.tlg002': 'public/xml/0036-002.xml',\n 'tlg0036.tlg003': 'public/xml/0036-003.xml',\n 'tlg0057.tlg001': 'public/xml/0057-001.xml',\n 'tlg0057.tlg002': 'public/xml/0057-002.xml',\n 'tlg0057.tlg003': 'public/xml/0057-003.xml',\n 'tlg0057.tlg004': 'public/xml/0057-004.xml',\n 'tlg0057.tlg006': 'public/xml/0057-006.xml',\n 'tlg0057.tlg007': 'public/xml/0057-007.xml',\n 'tlg0057.tlg008': 'public/xml/0057-008.xml',\n 'tlg0057.tlg009': 'public/xml/0057-009.xml',\n 'tlg0057.tlg010': 'public/xml/0057-010.xml',\n 'tlg0057.tlg011': 'public/xml/0057-011.xml',\n 'tlg0057.tlg012': 'public/xml/0057-012.xml',\n 'tlg0057.tlg013': 'public/xml/0057-013.xml',\n 'tlg0057.tlg014': 'public/xml/0057-014.xml',\n 'tlg0057.tlg015': 'public/xml/0057-015.xml',\n 'tlg0057.tlg016': 'public/xml/0057-016.xml',\n 'tlg0057.tlg017': 'public/xml/0057-017.xml',\n 'tlg0057.tlg018': 'public/xml/0057-018.xml',\n 'tlg0057.tlg019': 'public/xml/0057-019.xml',\n 'tlg0057.tlg020': 'public/xml/0057-020.xml',\n 'tlg0057.tlg021': 'public/xml/0057-021.xml',\n 'tlg0057.tlg022': 'public/xml/0057-022.xml',\n 'tlg0057.tlg023': 'public/xml/0057-023.xml',\n 'tlg0057.tlg024': 'public/xml/0057-024.xml',\n 'tlg0057.tlg025': 'public/xml/0057-025.xml',\n 'tlg0057.tlg027': 'public/xml/0057-027.xml',\n 'tlg0057.tlg028': 'public/xml/0057-028.xml',\n 'tlg0057.tlg029': 'public/xml/0057-029.xml',\n 'tlg0057.tlg030': 'public/xml/0057-030.xml',\n 'tlg0057.tlg031': 'public/xml/0057-031.xml',\n 'tlg0057.tlg032': 'public/xml/0057-032.xml',\n 'tlg0057.tlg034': 'public/xml/0057-034.xml',\n 'tlg0057.tlg035': 'public/xml/0057-035.xml',\n 'tlg0057.tlg036': 'public/xml/0057-036.xml',\n 'tlg0057.tlg038': 'public/xml/0057-038.xml',\n 'tlg0057.tlg039': 'public/xml/0057-039.xml',\n 'tlg0057.tlg040': 'public/xml/0057-040.xml',\n 'tlg0057.tlg041': 'public/xml/0057-041.xml',\n 'tlg0057.tlg042': 'public/xml/0057-042.xml',\n 'tlg0057.tlg043': 'public/xml/0057-043.xml',\n 'tlg0057.tlg044': 'public/xml/0057-044.xml',\n 'tlg0057.tlg045': 'public/xml/0057-045.xml',\n 'tlg0057.tlg046': 'public/xml/0057-046.xml',\n 'tlg0057.tlg047': 'public/xml/0057-047.xml',\n 'tlg0057.tlg048': 'public/xml/0057-048.xml',\n 'tlg0057.tlg049': 'public/xml/0057-049.xml',\n 'tlg0057.tlg050': 'public/xml/0057-050.xml',\n 'tlg0057.tlg051': 'public/xml/0057-051.xml',\n 'tlg0057.tlg052': 'public/xml/0057-052.xml',\n 'tlg0057.tlg053': 'public/xml/0057-053.xml',\n 'tlg0057.tlg054': 'public/xml/0057-054.xml',\n 'tlg0057.tlg055': 'public/xml/0057-055.xml',\n 'tlg0057.tlg056': 'public/xml/0057-056.xml',\n 'tlg0057.tlg057': 'public/xml/0057-057.xml',\n 'tlg0057.tlg058': 'public/xml/0057-058.xml',\n 'tlg0057.tlg059': 'public/xml/0057-059.xml',\n 'tlg0057.tlg060': 'public/xml/0057-060.xml',\n 'tlg0057.tlg061': 'public/xml/0057-061.xml',\n 'tlg0057.tlg062': 'public/xml/0057-062.xml',\n 'tlg0057.tlg063': 'public/xml/0057-063.xml',\n 'tlg0057.tlg064': 'public/xml/0057-064.xml',\n 'tlg0057.tlg065': 'public/xml/0057-065.xml',\n 'tlg0057.tlg066': 'public/xml/0057-066.xml',\n 'tlg0057.tlg067': 'public/xml/0057-067.xml',\n 'tlg0057.tlg068': 'public/xml/0057-068.xml',\n 'tlg0057.tlg069': 'public/xml/0057-069.xml',\n 'tlg0057.tlg070': 'public/xml/0057-070.xml',\n 'tlg0057.tlg071': 'public/xml/0057-071.xml',\n 'tlg0057.tlg072': 'public/xml/0057-072.xml',\n 'tlg0057.tlg073': 'public/xml/0057-073.xml',\n 'tlg0057.tlg074': 'public/xml/0057-074.xml',\n 'tlg0057.tlg075': 'public/xml/0057-075.xml',\n 'tlg0057.tlg076': 'public/xml/0057-076.xml',\n 'tlg0057.tlg077': 'public/xml/0057-077.xml',\n 'tlg0057.tlg078': 'public/xml/0057-078.xml',\n 'tlg0057.tlg079': 'public/xml/0057-079.xml',\n 'tlg0057.tlg081': 'public/xml/0057-081.xml',\n 'tlg0057.tlg082': 'public/xml/0057-082.xml',\n 'tlg0057.tlg083': 'public/xml/0057-083.xml',\n 'tlg0057.tlg084': 'public/xml/0057-084.xml',\n 'tlg0057.tlg085': 'public/xml/0057-085.xml',\n 'tlg0057.tlg086': 'public/xml/0057-086.xml',\n 'tlg0057.tlg087': 'public/xml/0057-087.xml',\n 'tlg0057.tlg089': 'public/xml/0057-089.xml',\n 'tlg0057.tlg092': 'public/xml/0057-092.xml',\n 'tlg0057.tlg093': 'public/xml/0057-093.xml',\n 'tlg0057.tlg094': 'public/xml/0057-094.xml',\n 'tlg0057.tlg095': 'public/xml/0057-095.xml',\n 'tlg0057.tlg096': 'public/xml/0057-096.xml',\n 'tlg0057.tlg099': 'public/xml/0057-099.xml',\n 'tlg0057.tlg100': 'public/xml/0057-100.xml',\n 'tlg0057.tlg101': 'public/xml/0057-101.xml',\n 'tlg0057.tlg102': 'public/xml/0057-102.xml',\n 'tlg0057.tlg103': 'public/xml/0057-103.xml',\n 'tlg0057.tlg107': 'public/xml/0057-107.xml',\n 'tlg0057.tlg111': 'public/xml/0057-111.xml',\n 'tlg0057.tlg114': 'public/xml/0057-114.xml',\n 'tlg0058.tlg001': 'public/xml/0058-001.xml',\n 'tlg0059.tlg001': 'public/xml/0059-001.xml',\n 'tlg0059.tlg002': 'public/xml/0059-002.xml',\n 'tlg0059.tlg003': 'public/xml/0059-003.xml',\n 'tlg0059.tlg004': 'public/xml/0059-004.xml',\n 'tlg0059.tlg005': 'public/xml/0059-005.xml',\n 'tlg0059.tlg006': 'public/xml/0059-006.xml',\n 'tlg0059.tlg007': 'public/xml/0059-007.xml',\n 'tlg0059.tlg008': 'public/xml/0059-008.xml',\n 'tlg0059.tlg009': 'public/xml/0059-009.xml',\n 'tlg0059.tlg010': 'public/xml/0059-010.xml',\n 'tlg0059.tlg011': 'public/xml/0059-011.xml',\n 'tlg0059.tlg012': 'public/xml/0059-012.xml',\n 'tlg0059.tlg013': 'public/xml/0059-013.xml',\n 'tlg0059.tlg014': 'public/xml/0059-014.xml',\n 'tlg0059.tlg015': 'public/xml/0059-015.xml',\n 'tlg0059.tlg016': 'public/xml/0059-016.xml',\n 'tlg0059.tlg017': 'public/xml/0059-017.xml',\n 'tlg0059.tlg018': 'public/xml/0059-018.xml',\n 'tlg0059.tlg019': 'public/xml/0059-019.xml',\n 'tlg0059.tlg020': 'public/xml/0059-020.xml',\n 'tlg0059.tlg021': 'public/xml/0059-021.xml',\n 'tlg0059.tlg022': 'public/xml/0059-022.xml',\n 'tlg0059.tlg023': 'public/xml/0059-023.xml',\n 'tlg0059.tlg024': 'public/xml/0059-024.xml',\n 'tlg0059.tlg025': 'public/xml/0059-025.xml',\n 'tlg0059.tlg026': 'public/xml/0059-026.xml',\n 'tlg0059.tlg027': 'public/xml/0059-027.xml',\n 'tlg0059.tlg028': 'public/xml/0059-028.xml',\n 'tlg0059.tlg029': 'public/xml/0059-029.xml',\n 'tlg0059.tlg030': 'public/xml/0059-030.xml',\n 'tlg0059.tlg031': 'public/xml/0059-031.xml',\n 'tlg0059.tlg032': 'public/xml/0059-032.xml',\n 'tlg0059.tlg033': 'public/xml/0059-033.xml',\n 'tlg0059.tlg034': 'public/xml/0059-034.xml',\n 'tlg0059.tlg035': 'public/xml/0059-035.xml',\n 'tlg0059.tlg036': 'public/xml/0059-036.xml',\n 'tlg0059.tlg037': 'public/xml/0059-037.xml',\n 'tlg0059.tlg039': 'public/xml/0059-039.xml',\n 'tlg0060.tlg001': 'public/xml/0060-001.xml',\n 'tlg0061.tlg010': 'public/xml/0061-010.xml',\n 'tlg0062.tlg001': 'public/xml/0062-001.xml',\n 'tlg0062.tlg002': 'public/xml/0062-002.xml',\n 'tlg0062.tlg003': 'public/xml/0062-003.xml',\n 'tlg0062.tlg004': 'public/xml/0062-004.xml',\n 'tlg0062.tlg005': 'public/xml/0062-005.xml',\n 'tlg0062.tlg006': 'public/xml/0062-006.xml',\n 'tlg0062.tlg007': 'public/xml/0062-007.xml',\n 'tlg0062.tlg008': 'public/xml/0062-008.xml',\n 'tlg0062.tlg009': 'public/xml/0062-009.xml',\n 'tlg0062.tlg010': 'public/xml/0062-010.xml',\n 'tlg0062.tlg011': 'public/xml/0062-011.xml',\n 'tlg0062.tlg012': 'public/xml/0062-012.xml',\n 'tlg0062.tlg013': 'public/xml/0062-013.xml',\n 'tlg0062.tlg014': 'public/xml/0062-014.xml',\n 'tlg0062.tlg015': 'public/xml/0062-015.xml',\n 'tlg0062.tlg016': 'public/xml/0062-016.xml',\n 'tlg0062.tlg017': 'public/xml/0062-017.xml',\n 'tlg0062.tlg018': 'public/xml/0062-018.xml',\n 'tlg0062.tlg019': 'public/xml/0062-019.xml',\n 'tlg0062.tlg020': 'public/xml/0062-020.xml',\n 'tlg0062.tlg021': 'public/xml/0062-021.xml',\n 'tlg0062.tlg022': 'public/xml/0062-022.xml',\n 'tlg0062.tlg023': 'public/xml/0062-023.xml',\n 'tlg0062.tlg024': 'public/xml/0062-024.xml',\n 'tlg0062.tlg025': 'public/xml/0062-025.xml',\n 'tlg0062.tlg026': 'public/xml/0062-026.xml',\n 'tlg0062.tlg027': 'public/xml/0062-027.xml',\n 'tlg0062.tlg028': 'public/xml/0062-028.xml',\n 'tlg0062.tlg029': 'public/xml/0062-029.xml',\n 'tlg0062.tlg030': 'public/xml/0062-030.xml',\n 'tlg0062.tlg031': 'public/xml/0062-031.xml',\n 'tlg0062.tlg032': 'public/xml/0062-032.xml',\n 'tlg0062.tlg033': 'public/xml/0062-033.xml',\n 'tlg0062.tlg034': 'public/xml/0062-034.xml',\n 'tlg0062.tlg035': 'public/xml/0062-035.xml',\n 'tlg0062.tlg036': 'public/xml/0062-036.xml',\n 'tlg0062.tlg037': 'public/xml/0062-037.xml',\n 'tlg0062.tlg038': 'public/xml/0062-038.xml',\n 'tlg0062.tlg039': 'public/xml/0062-039.xml',\n 'tlg0062.tlg040': 'public/xml/0062-040.xml',\n 'tlg0062.tlg041': 'public/xml/0062-041.xml',\n 'tlg0062.tlg042': 'public/xml/0062-042.xml',\n 'tlg0062.tlg043': 'public/xml/0062-043.xml',\n 'tlg0062.tlg044': 'public/xml/0062-044.xml',\n 'tlg0062.tlg045': 'public/xml/0062-045.xml',\n 'tlg0062.tlg046': 'public/xml/0062-046.xml',\n 'tlg0062.tlg047': 'public/xml/0062-047.xml',\n 'tlg0062.tlg048': 'public/xml/0062-048.xml',\n 'tlg0062.tlg049': 'public/xml/0062-049.xml',\n 'tlg0062.tlg050': 'public/xml/0062-050.xml',\n 'tlg0062.tlg051': 'public/xml/0062-051.xml',\n 'tlg0062.tlg052': 'public/xml/0062-052.xml',\n 'tlg0062.tlg053': 'public/xml/0062-053.xml',\n 'tlg0062.tlg054': 'public/xml/0062-054.xml',\n 'tlg0062.tlg055': 'public/xml/0062-055.xml',\n 'tlg0062.tlg056': 'public/xml/0062-056.xml',\n 'tlg0062.tlg057': 'public/xml/0062-057.xml',\n 'tlg0062.tlg058': 'public/xml/0062-058.xml',\n 'tlg0062.tlg059': 'public/xml/0062-059.xml',\n 'tlg0062.tlg060': 'public/xml/0062-060.xml',\n 'tlg0062.tlg061': 'public/xml/0062-061.xml',\n 'tlg0062.tlg062': 'public/xml/0062-062.xml',\n 'tlg0062.tlg063': 'public/xml/0062-063.xml',\n 'tlg0062.tlg064': 'public/xml/0062-064.xml',\n 'tlg0062.tlg065': 'public/xml/0062-065.xml',\n 'tlg0062.tlg066': 'public/xml/0062-066.xml',\n 'tlg0062.tlg067': 'public/xml/0062-067.xml',\n 'tlg0062.tlg068': 'public/xml/0062-068.xml',\n 'tlg0062.tlg069': 'public/xml/0062-069.xml',\n 'tlg0062.tlg070': 'public/xml/0062-070.xml',\n 'tlg0062.tlg071': 'public/xml/0062-071.xml',\n 'tlg0064.tlg001': 'public/xml/0064-001.xml',\n 'tlg0067.tlg001': 'public/xml/0067-001.xml',\n 'tlg0074.tlg001': 'public/xml/0074-001.xml',\n 'tlg0074.tlg002': 'public/xml/0074-002.xml',\n 'tlg0074.tlg003': 'public/xml/0074-003.xml',\n 'tlg0074.tlg004': 'public/xml/0074-004.xml',\n 'tlg0074.tlg005': 'public/xml/0074-005.xml',\n 'tlg0074.tlg006': 'public/xml/0074-006.xml',\n 'tlg0081.tlg001': 'public/xml/0081-001.xml',\n 'tlg0081.tlg002': 'public/xml/0081-002.xml',\n 'tlg0081.tlg003': 'public/xml/0081-003.xml',\n 'tlg0081.tlg004': 'public/xml/0081-004.xml',\n 'tlg0081.tlg005': 'public/xml/0081-005.xml',\n 'tlg0081.tlg006': 'public/xml/0081-006.xml',\n 'tlg0081.tlg008': 'public/xml/0081-008.xml',\n 'tlg0081.tlg009': 'public/xml/0081-009.xml',\n 'tlg0081.tlg010': 'public/xml/0081-010.xml',\n 'tlg0081.tlg011': 'public/xml/0081-011.xml',\n 'tlg0081.tlg012': 'public/xml/0081-012.xml',\n 'tlg0081.tlg015': 'public/xml/0081-015.xml',\n 'tlg0085.tlg001': 'public/xml/0085-001.xml',\n 'tlg0085.tlg002': 'public/xml/0085-002.xml',\n 'tlg0085.tlg003': 'public/xml/0085-003.xml',\n 'tlg0085.tlg004': 'public/xml/0085-004.xml',\n 'tlg0085.tlg005': 'public/xml/0085-005.xml',\n 'tlg0085.tlg006': 'public/xml/0085-006.xml',\n 'tlg0085.tlg007': 'public/xml/0085-007.xml',\n 'tlg0085.tlg010': 'public/xml/0085-010.xml',\n 'tlg0086.tlg001': 'public/xml/0086-001.xml',\n 'tlg0086.tlg002': 'public/xml/0086-002.xml',\n 'tlg0086.tlg003': 'public/xml/0086-003.xml',\n 'tlg0086.tlg006': 'public/xml/0086-006.xml',\n 'tlg0086.tlg008': 'public/xml/0086-008.xml',\n 'tlg0086.tlg009': 'public/xml/0086-009.xml',\n 'tlg0086.tlg010': 'public/xml/0086-010.xml',\n 'tlg0086.tlg013': 'public/xml/0086-013.xml',\n 'tlg0086.tlg014': 'public/xml/0086-014.xml',\n 'tlg0086.tlg015': 'public/xml/0086-015.xml',\n 'tlg0086.tlg016': 'public/xml/0086-016.xml',\n 'tlg0086.tlg017': 'public/xml/0086-017.xml',\n 'tlg0086.tlg018': 'public/xml/0086-018.xml',\n 'tlg0086.tlg020': 'public/xml/0086-020.xml',\n 'tlg0086.tlg021': 'public/xml/0086-021.xml',\n 'tlg0086.tlg024': 'public/xml/0086-024.xml',\n 'tlg0086.tlg025': 'public/xml/0086-025.xml',\n 'tlg0086.tlg026': 'public/xml/0086-026.xml',\n 'tlg0086.tlg029': 'public/xml/0086-029.xml',\n 'tlg0086.tlg034': 'public/xml/0086-034.xml',\n 'tlg0086.tlg035': 'public/xml/0086-035.xml',\n 'tlg0086.tlg037': 'public/xml/0086-037.xml',\n 'tlg0086.tlg038': 'public/xml/0086-038.xml',\n 'tlg0086.tlg040': 'public/xml/0086-040.xml',\n 'tlg0086.tlg041': 'public/xml/0086-041.xml',\n 'tlg0086.tlg042': 'public/xml/0086-042.xml',\n 'tlg0086.tlg043': 'public/xml/0086-043.xml',\n 'tlg0086.tlg044': 'public/xml/0086-044.xml',\n 'tlg0086.tlg045': 'public/xml/0086-045.xml',\n 'tlg0086.tlg054': 'public/xml/0086-054.xml',\n 'tlg0087.tlg004': 'public/xml/0087-004.xml',\n 'tlg0093.tlg009': 'public/xml/0093-009.xml',\n 'tlg0093.tlg010a': 'public/xml/0093-010a.xml',\n 'tlg0093.tlg010b': 'public/xml/0093-010b.xml',\n 'tlg0094.tlg002': 'public/xml/0094-002.xml',\n 'tlg0099.tlg001': 'public/xml/0099-001.xml',\n 'tlg0131.tlg001': 'public/xml/0131-001.xml',\n 'tlg0137.tlg001': 'public/xml/0137-001.xml',\n 'tlg0141.tlg002': 'public/xml/0141-002.xml',\n 'tlg0146.tlg001': 'public/xml/0146-001.xml',\n 'tlg0165.tlg001': 'public/xml/0165-001.xml',\n 'tlg0174.tlg001': 'public/xml/0174-001.xml',\n 'tlg0186.tlg005': 'public/xml/0186-005.xml',\n 'tlg0198.tlg001': 'public/xml/0198-001.xml',\n 'tlg0199.tlg001': 'public/xml/0199-001.xml',\n 'tlg0199.tlg002': 'public/xml/0199-002.xml',\n 'tlg0199.tlg009': 'public/xml/0199-009.xml',\n 'tlg0208.tlg001': 'public/xml/0208-001.xml',\n 'tlg0211.tlg002': 'public/xml/0211-002.xml',\n 'tlg0215.tlg002': 'public/xml/0215-002.xml',\n 'tlg0216.tlg002': 'public/xml/0216-002.xml',\n 'tlg0218.tlg002': 'public/xml/0218-002.xml',\n 'tlg0219.tlg002': 'public/xml/0219-002.xml',\n 'tlg0220.tlg002': 'public/xml/0220-002.xml',\n 'tlg0221.tlg004': 'public/xml/0221-004.xml',\n 'tlg0232.tlg003': 'public/xml/0232-003.xml',\n 'tlg0237.tlg004': 'public/xml/0237-004.xml',\n 'tlg0239.tlg003': 'public/xml/0239-003.xml',\n 'tlg0245.tlg002': 'public/xml/0245-002.xml',\n 'tlg0255.tlg002': 'public/xml/0255-002.xml',\n 'tlg0261.tlg003': 'public/xml/0261-003.xml',\n 'tlg0265.tlg003': 'public/xml/0265-003.xml',\n 'tlg0267.tlg003': 'public/xml/0267-003.xml',\n 'tlg0268.tlg002': 'public/xml/0268-002.xml',\n 'tlg0284.tlg001': 'public/xml/0284-001.xml',\n 'tlg0284.tlg002': 'public/xml/0284-002.xml',\n 'tlg0284.tlg003': 'public/xml/0284-003.xml',\n 'tlg0284.tlg004': 'public/xml/0284-004.xml',\n 'tlg0284.tlg005': 'public/xml/0284-005.xml',\n 'tlg0284.tlg006': 'public/xml/0284-006.xml',\n 'tlg0284.tlg007': 'public/xml/0284-007.xml',\n 'tlg0284.tlg008': 'public/xml/0284-008.xml',\n 'tlg0284.tlg009': 'public/xml/0284-009.xml',\n 'tlg0284.tlg010': 'public/xml/0284-010.xml',\n 'tlg0284.tlg011': 'public/xml/0284-011.xml',\n 'tlg0284.tlg012': 'public/xml/0284-012.xml',\n 'tlg0284.tlg013': 'public/xml/0284-013.xml',\n 'tlg0284.tlg014': 'public/xml/0284-014.xml',\n 'tlg0284.tlg015': 'public/xml/0284-015.xml',\n 'tlg0284.tlg016': 'public/xml/0284-016.xml',\n 'tlg0284.tlg017': 'public/xml/0284-017.xml',\n 'tlg0284.tlg018': 'public/xml/0284-018.xml',\n 'tlg0284.tlg019': 'public/xml/0284-019.xml',\n 'tlg0284.tlg020': 'public/xml/0284-020.xml',\n 'tlg0284.tlg021': 'public/xml/0284-021.xml',\n 'tlg0284.tlg022': 'public/xml/0284-022.xml',\n 'tlg0284.tlg023': 'public/xml/0284-023.xml',\n 'tlg0284.tlg024': 'public/xml/0284-024.xml',\n 'tlg0284.tlg025': 'public/xml/0284-025.xml',\n 'tlg0284.tlg026': 'public/xml/0284-026.xml',\n 'tlg0284.tlg027': 'public/xml/0284-027.xml',\n 'tlg0284.tlg028': 'public/xml/0284-028.xml',\n 'tlg0284.tlg029': 'public/xml/0284-029.xml',\n 'tlg0284.tlg030': 'public/xml/0284-030.xml',\n 'tlg0284.tlg031': 'public/xml/0284-031.xml',\n 'tlg0284.tlg032': 'public/xml/0284-032.xml',\n 'tlg0284.tlg033': 'public/xml/0284-033.xml',\n 'tlg0284.tlg034': 'public/xml/0284-034.xml',\n 'tlg0284.tlg035': 'public/xml/0284-035.xml',\n 'tlg0284.tlg036': 'public/xml/0284-036.xml',\n 'tlg0284.tlg037': 'public/xml/0284-037.xml',\n 'tlg0284.tlg038': 'public/xml/0284-038.xml',\n 'tlg0284.tlg039': 'public/xml/0284-039.xml',\n 'tlg0284.tlg040': 'public/xml/0284-040.xml',\n 'tlg0284.tlg041': 'public/xml/0284-041.xml',\n 'tlg0284.tlg042': 'public/xml/0284-042.xml',\n 'tlg0284.tlg043': 'public/xml/0284-043.xml',\n 'tlg0284.tlg044': 'public/xml/0284-044.xml',\n 'tlg0284.tlg045': 'public/xml/0284-045.xml',\n 'tlg0284.tlg046': 'public/xml/0284-046.xml',\n 'tlg0284.tlg047': 'public/xml/0284-047.xml',\n 'tlg0284.tlg048': 'public/xml/0284-048.xml',\n 'tlg0284.tlg049': 'public/xml/0284-049.xml',\n 'tlg0284.tlg050': 'public/xml/0284-050.xml',\n 'tlg0284.tlg051': 'public/xml/0284-051.xml',\n 'tlg0284.tlg052': 'public/xml/0284-052.xml',\n 'tlg0284.tlg053': 'public/xml/0284-053.xml',\n 'tlg0284.tlg054': 'public/xml/0284-054.xml',\n 'tlg0284.tlg055': 'public/xml/0284-055.xml',\n 'tlg0284.tlg056': 'public/xml/0284-056.xml',\n 'tlg0288.tlg003': 'public/xml/0288-003.xml',\n 'tlg0341.tlg002': 'public/xml/0341-002.xml',\n 'tlg0357.tlg001': 'public/xml/0357-001.xml',\n 'tlg0358.tlg001': 'public/xml/0358-001.xml',\n 'tlg0358.tlg002': 'public/xml/0358-002.xml',\n 'tlg0358.tlg004': 'public/xml/0358-004.xml',\n 'tlg0358.tlg005': 'public/xml/0358-005.xml',\n 'tlg0361.tlg001': 'public/xml/0361-001.xml',\n 'tlg0385.tlg001': 'public/xml/0385-001.xml',\n 'tlg0487.tlg008': 'public/xml/0487-008.xml',\n 'tlg0525.tlg001': 'public/xml/0525-001.xml',\n 'tlg0526.tlg001': 'public/xml/0526-001.xml',\n 'tlg0526.tlg002': 'public/xml/0526-002.xml',\n 'tlg0526.tlg003': 'public/xml/0526-003.xml',\n 'tlg0526.tlg004': 'public/xml/0526-004.xml',\n 'tlg0532.tlg001': 'public/xml/0532-001.xml',\n 'tlg0533.tlg003': 'public/xml/0533-003.xml',\n 'tlg0533.tlg004': 'public/xml/0533-004.xml',\n 'tlg0533.tlg015': 'public/xml/0533-015.xml',\n 'tlg0533.tlg016': 'public/xml/0533-016.xml',\n 'tlg0533.tlg017': 'public/xml/0533-017.xml',\n 'tlg0533.tlg018': 'public/xml/0533-018.xml',\n 'tlg0533.tlg019': 'public/xml/0533-019.xml',\n 'tlg0533.tlg020': 'public/xml/0533-020.xml',\n 'tlg0535.tlg001': 'public/xml/0535-001.xml',\n 'tlg0540.tlg001': 'public/xml/0540-001.xml',\n 'tlg0540.tlg002': 'public/xml/0540-002.xml',\n 'tlg0540.tlg003': 'public/xml/0540-003.xml',\n 'tlg0540.tlg004': 'public/xml/0540-004.xml',\n 'tlg0540.tlg005': 'public/xml/0540-005.xml',\n 'tlg0540.tlg006': 'public/xml/0540-006.xml',\n 'tlg0540.tlg007': 'public/xml/0540-007.xml',\n 'tlg0540.tlg008': 'public/xml/0540-008.xml',\n 'tlg0540.tlg009': 'public/xml/0540-009.xml',\n 'tlg0540.tlg010': 'public/xml/0540-010.xml',\n 'tlg0540.tlg011': 'public/xml/0540-011.xml',\n 'tlg0540.tlg012': 'public/xml/0540-012.xml',\n 'tlg0540.tlg013': 'public/xml/0540-013.xml',\n 'tlg0540.tlg014': 'public/xml/0540-014.xml',\n 'tlg0540.tlg015': 'public/xml/0540-015.xml',\n 'tlg0540.tlg016': 'public/xml/0540-016.xml',\n 'tlg0540.tlg017': 'public/xml/0540-017.xml',\n 'tlg0540.tlg018': 'public/xml/0540-018.xml',\n 'tlg0540.tlg019': 'public/xml/0540-019.xml',\n 'tlg0540.tlg020': 'public/xml/0540-020.xml',\n 'tlg0540.tlg021': 'public/xml/0540-021.xml',\n 'tlg0540.tlg022': 'public/xml/0540-022.xml',\n 'tlg0540.tlg023': 'public/xml/0540-023.xml',\n 'tlg0540.tlg024': 'public/xml/0540-024.xml',\n 'tlg0540.tlg025': 'public/xml/0540-025.xml',\n 'tlg0540.tlg026': 'public/xml/0540-026.xml',\n 'tlg0540.tlg027': 'public/xml/0540-027.xml',\n 'tlg0540.tlg028': 'public/xml/0540-028.xml',\n 'tlg0540.tlg029': 'public/xml/0540-029.xml',\n 'tlg0540.tlg030': 'public/xml/0540-030.xml',\n 'tlg0540.tlg031': 'public/xml/0540-031.xml',\n 'tlg0540.tlg032': 'public/xml/0540-032.xml',\n 'tlg0540.tlg033': 'public/xml/0540-033.xml',\n 'tlg0540.tlg034': 'public/xml/0540-034.xml',\n 'tlg0541.tlg042a': 'public/xml/0541-042a.xml',\n 'tlg0541.tlg042b': 'public/xml/0541-042b.xml',\n 'tlg0541.tlg042c': 'public/xml/0541-042c.xml',\n 'tlg0541.tlg044': 'public/xml/0541-044.xml',\n 'tlg0543.tlg001': 'public/xml/0543-001.xml',\n 'tlg0545.tlg001': 'public/xml/0545-001.xml',\n 'tlg0545.tlg002': 'public/xml/0545-002.xml',\n 'tlg0545.tlg003': 'public/xml/0545-003.xml',\n 'tlg0548.tlg001': 'public/xml/0548-001.xml',\n 'tlg0548.tlg002': 'public/xml/0548-002.xml',\n 'tlg0551.tlg002': 'public/xml/0551-002.xml',\n 'tlg0551.tlg003': 'public/xml/0551-003.xml',\n 'tlg0551.tlg004': 'public/xml/0551-004.xml',\n 'tlg0551.tlg005': 'public/xml/0551-005.xml',\n 'tlg0551.tlg006': 'public/xml/0551-006.xml',\n 'tlg0551.tlg007': 'public/xml/0551-007.xml',\n 'tlg0551.tlg008': 'public/xml/0551-008.xml',\n 'tlg0551.tlg009': 'public/xml/0551-009.xml',\n 'tlg0551.tlg010': 'public/xml/0551-010.xml',\n 'tlg0551.tlg011': 'public/xml/0551-011.xml',\n 'tlg0551.tlg012': 'public/xml/0551-012.xml',\n 'tlg0551.tlg013': 'public/xml/0551-013.xml',\n 'tlg0551.tlg014': 'public/xml/0551-014.xml',\n 'tlg0551.tlg017': 'public/xml/0551-017.xml',\n 'tlg0552.tlg001': 'public/xml/0552-001.xml',\n 'tlg0552.tlg002': 'public/xml/0552-002.xml',\n 'tlg0552.tlg003': 'public/xml/0552-003.xml',\n 'tlg0552.tlg004': 'public/xml/0552-004.xml',\n 'tlg0552.tlg005': 'public/xml/0552-005.xml',\n 'tlg0552.tlg006': 'public/xml/0552-006.xml',\n 'tlg0552.tlg007': 'public/xml/0552-007.xml',\n 'tlg0552.tlg009': 'public/xml/0552-009.xml',\n 'tlg0552.tlg010': 'public/xml/0552-010.xml',\n 'tlg0552.tlg011': 'public/xml/0552-011.xml',\n 'tlg0552.tlg012': 'public/xml/0552-012.xml',\n 'tlg0552.tlg013': 'public/xml/0552-013.xml',\n 'tlg0554.tlg001': 'public/xml/0554-001.xml',\n 'tlg0555.tlg001': 'public/xml/0555-001.xml',\n 'tlg0555.tlg002': 'public/xml/0555-002.xml',\n 'tlg0555.tlg003': 'public/xml/0555-003.xml',\n 'tlg0555.tlg005': 'public/xml/0555-005.xml',\n 'tlg0555.tlg006': 'public/xml/0555-006.xml',\n 'tlg0555.tlg007': 'public/xml/0555-007.xml',\n 'tlg0555.tlg008': 'public/xml/0555-008.xml',\n 'tlg0556.tlg001': 'public/xml/0556-001.xml',\n 'tlg0557.tlg001': 'public/xml/0557-001.xml',\n 'tlg0557.tlg002': 'public/xml/0557-002.xml',\n 'tlg0557.tlg003': 'public/xml/0557-003.xml',\n 'tlg0559.tlg001': 'public/xml/0559-001.xml',\n 'tlg0559.tlg002': 'public/xml/0559-002.xml',\n 'tlg0559.tlg004': 'public/xml/0559-004.xml',\n 'tlg0559.tlg005': 'public/xml/0559-005.xml',\n 'tlg0559.tlg006': 'public/xml/0559-006.xml',\n 'tlg0559.tlg007': 'public/xml/0559-007.xml',\n 'tlg0559.tlg010': 'public/xml/0559-010.xml',\n 'tlg0559.tlg011': 'public/xml/0559-011.xml',\n 'tlg0559.tlg012': 'public/xml/0559-012.xml',\n 'tlg0559.tlg014': 'public/xml/0559-014.xml',\n 'tlg0560.tlg001': 'public/xml/0560-001.xml',\n 'tlg0561.tlg001': 'public/xml/0561-001.xml',\n 'tlg0562.tlg001': 'public/xml/0562-001.xml',\n 'tlg0568.tlg002': 'public/xml/0568-002.xml',\n 'tlg0570.tlg002': 'public/xml/0570-002.xml',\n 'tlg0591.tlg001': 'public/xml/0591-001.xml',\n 'tlg0591.tlg002': 'public/xml/0591-002.xml',\n 'tlg0592.tlg001': 'public/xml/0592-001.xml',\n 'tlg0592.tlg002': 'public/xml/0592-002.xml',\n 'tlg0592.tlg003': 'public/xml/0592-003.xml',\n 'tlg0592.tlg004': 'public/xml/0592-004.xml',\n 'tlg0592.tlg005': 'public/xml/0592-005.xml',\n 'tlg0593.tlg001': 'public/xml/0593-001.xml',\n 'tlg0593.tlg002': 'public/xml/0593-002.xml',\n 'tlg0606.tlg001': 'public/xml/0606-001.xml',\n 'tlg0613.tlg001': 'public/xml/0613-001.xml',\n 'tlg0614.tlg001': 'public/xml/0614-001.xml',\n 'tlg0627.tlg001': 'public/xml/0627-001.xml',\n 'tlg0627.tlg002': 'public/xml/0627-002.xml',\n 'tlg0627.tlg003': 'public/xml/0627-003.xml',\n 'tlg0627.tlg004': 'public/xml/0627-004.xml',\n 'tlg0627.tlg005': 'public/xml/0627-005.xml',\n 'tlg0627.tlg006': 'public/xml/0627-006.xml',\n 'tlg0627.tlg007': 'public/xml/0627-007.xml',\n 'tlg0627.tlg008': 'public/xml/0627-008.xml',\n 'tlg0627.tlg009': 'public/xml/0627-009.xml',\n 'tlg0627.tlg010': 'public/xml/0627-010.xml',\n 'tlg0627.tlg011': 'public/xml/0627-011.xml',\n 'tlg0627.tlg012': 'public/xml/0627-012.xml',\n 'tlg0627.tlg013': 'public/xml/0627-013.xml',\n 'tlg0627.tlg014': 'public/xml/0627-014.xml',\n 'tlg0627.tlg015': 'public/xml/0627-015.xml',\n 'tlg0627.tlg016': 'public/xml/0627-016.xml',\n 'tlg0627.tlg017': 'public/xml/0627-017.xml',\n 'tlg0627.tlg018': 'public/xml/0627-018.xml',\n 'tlg0627.tlg019': 'public/xml/0627-019.xml',\n 'tlg0627.tlg020': 'public/xml/0627-020.xml',\n 'tlg0627.tlg021': 'public/xml/0627-021.xml',\n 'tlg0627.tlg022': 'public/xml/0627-022.xml',\n 'tlg0627.tlg023': 'public/xml/0627-023.xml',\n 'tlg0627.tlg024a': 'public/xml/0627-024a.xml',\n 'tlg0627.tlg024b': 'public/xml/0627-024b.xml',\n 'tlg0627.tlg025': 'public/xml/0627-025.xml',\n 'tlg0627.tlg026': 'public/xml/0627-026.xml',\n 'tlg0627.tlg027': 'public/xml/0627-027.xml',\n 'tlg0627.tlg028': 'public/xml/0627-028.xml',\n 'tlg0627.tlg029': 'public/xml/0627-029.xml',\n 'tlg0627.tlg030': 'public/xml/0627-030.xml',\n 'tlg0627.tlg031': 'public/xml/0627-031.xml',\n 'tlg0627.tlg032': 'public/xml/0627-032.xml',\n 'tlg0627.tlg033': 'public/xml/0627-033.xml',\n 'tlg0627.tlg035': 'public/xml/0627-035.xml',\n 'tlg0627.tlg036': 'public/xml/0627-036.xml',\n 'tlg0627.tlg037': 'public/xml/0627-037.xml',\n 'tlg0627.tlg038': 'public/xml/0627-038.xml',\n 'tlg0627.tlg039': 'public/xml/0627-039.xml',\n 'tlg0627.tlg040': 'public/xml/0627-040.xml',\n 'tlg0627.tlg041': 'public/xml/0627-041.xml',\n 'tlg0627.tlg042': 'public/xml/0627-042.xml',\n 'tlg0627.tlg043': 'public/xml/0627-043.xml',\n 'tlg0627.tlg045': 'public/xml/0627-045.xml',\n 'tlg0627.tlg046': 'public/xml/0627-046.xml',\n 'tlg0627.tlg047': 'public/xml/0627-047.xml',\n 'tlg0627.tlg048': 'public/xml/0627-048.xml',\n 'tlg0627.tlg049': 'public/xml/0627-049.xml',\n 'tlg0627.tlg050': 'public/xml/0627-050.xml',\n 'tlg0627.tlg051': 'public/xml/0627-051.xml',\n 'tlg0627.tlg052': 'public/xml/0627-052.xml',\n 'tlg0627.tlg053': 'public/xml/0627-053.xml',\n 'tlg0627.tlg055': 'public/xml/0627-055.xml',\n 'tlg0631.tlg002': 'public/xml/0631-002.xml',\n 'tlg0632.tlg005': 'public/xml/0632-005.xml',\n 'tlg0638.tlg001': 'public/xml/0638-001.xml',\n 'tlg0638.tlg003': 'public/xml/0638-003.xml',\n 'tlg0638.tlg004': 'public/xml/0638-004.xml',\n 'tlg0638.tlg005': 'public/xml/0638-005.xml',\n 'tlg0638.tlg006': 'public/xml/0638-006.xml',\n 'tlg0638.tlg007': 'public/xml/0638-007.xml',\n 'tlg0638.tlg009': 'public/xml/0638-009.xml',\n 'tlg0641.tlg001': 'public/xml/0641-001.xml',\n 'tlg0648.tlg001': 'public/xml/0648-001.xml',\n 'tlg0653.tlg001': 'public/xml/0653-001.xml',\n 'tlg0653.tlg002': 'public/xml/0653-002.xml',\n 'tlg0655.tlg001': 'public/xml/0655-001.xml',\n 'tlg0671.tlg001': 'public/xml/0671-001.xml',\n 'tlg0679.tlg001': 'public/xml/0679-001.xml',\n 'tlg0708.tlg001': 'public/xml/0708-001.xml',\n 'tlg0719.tlg001': 'public/xml/0719-001.xml',\n 'tlg0719.tlg002': 'public/xml/0719-002.xml',\n 'tlg0719.tlg003': 'public/xml/0719-003.xml',\n 'tlg0719.tlg004': 'public/xml/0719-004.xml',\n 'tlg0732.tlg001': 'public/xml/0732-001.xml',\n 'tlg0732.tlg011': 'public/xml/0732-011.xml',\n 'tlg0732.tlg012': 'public/xml/0732-012.xml',\n 'tlg0751.tlg034': 'public/xml/0751-034.xml',\n 'tlg1126.tlg003': 'public/xml/1126-003.xml',\n 'tlg1181.tlg001': 'public/xml/1181-001.xml',\n 'tlg1205.tlg001': 'public/xml/1205-001.xml',\n 'tlg1205.tlg002': 'public/xml/1205-002.xml',\n 'tlg1210.tlg001': 'public/xml/1210-001.xml',\n 'tlg1210.tlg002': 'public/xml/1210-002.xml',\n 'tlg1216.tlg001': 'public/xml/1216-001.xml',\n 'tlg1252.tlg002': 'public/xml/1252-002.xml',\n 'tlg1271.tlg001': 'public/xml/1271-001.xml',\n 'tlg1271.tlg002': 'public/xml/1271-002.xml',\n 'tlg1274.tlg002': 'public/xml/1274-002.xml',\n 'tlg1296.tlg001': 'public/xml/1296-001.xml',\n 'tlg1311.tlg001': 'public/xml/1311-001.xml',\n 'tlg1337.tlg003': 'public/xml/1337-003.xml',\n 'tlg1342.tlg002': 'public/xml/1342-002.xml',\n 'tlg1355.tlg002': 'public/xml/1355-002.xml',\n 'tlg1389.tlg001': 'public/xml/1389-001.xml',\n 'tlg1391.tlg001': 'public/xml/1391-001.xml',\n 'tlg1405.tlg001': 'public/xml/1405-001.xml',\n 'tlg1431.tlg003': 'public/xml/1431-003.xml',\n 'tlg1487.tlg001': 'public/xml/1487-001.xml',\n 'tlg1487.tlg002': 'public/xml/1487-002.xml',\n 'tlg1533.tlg001': 'public/xml/1533-001.xml',\n 'tlg1556.tlg002': 'public/xml/1556-002.xml',\n 'tlg1577.tlg001': 'public/xml/1577-001.xml',\n 'tlg1600.tlg001': 'public/xml/1600-001.xml',\n 'tlg1604.tlg002': 'public/xml/1604-002.xml',\n 'tlg1622.tlg001': 'public/xml/1622-001.xml',\n 'tlg1632.tlg001': 'public/xml/1632-001.xml',\n 'tlg1665.tlg001': 'public/xml/1665-001.xml',\n 'tlg1692.tlg004': 'public/xml/1692-004.xml',\n 'tlg1715.tlg001': 'public/xml/1715-001.xml',\n 'tlg1765.tlg003': 'public/xml/1765-003.xml',\n 'tlg1765.tlg004': 'public/xml/1765-004.xml',\n 'tlg1765.tlg005': 'public/xml/1765-005.xml',\n 'tlg1766.tlg001': 'public/xml/1766-001.xml',\n 'tlg1799.tlg001': 'public/xml/1799-001.xml',\n 'tlg1799.tlg008': 'public/xml/1799-008.xml',\n 'tlg1799.tlg010': 'public/xml/1799-010.xml',\n 'tlg1799.tlg011': 'public/xml/1799-011.xml',\n 'tlg1799.tlg012': 'public/xml/1799-012.xml',\n 'tlg1799.tlg013': 'public/xml/1799-013.xml',\n 'tlg1799.tlg014': 'public/xml/1799-014.xml',\n 'tlg1799.tlg015': 'public/xml/1799-015.xml',\n 'tlg1799.tlg017': 'public/xml/1799-017.xml',\n 'tlg2042.tlg001': 'public/xml/2042-001.xml',\n 'tlg2042.tlg007': 'public/xml/2042-007.xml',\n 'tlg2042.tlg008': 'public/xml/2042-008.xml',\n 'tlg2042.tlg012': 'public/xml/2042-012.xml',\n 'tlg2138.tlg001': 'public/xml/2138-001.xml',\n 'tlg2139.tlg001': 'public/xml/2139-001.xml'}"
     },
     "execution_count": 47,
     "metadata": {},
     "output_type": "execute_result"
    }
   ],
   "source": [
    "workid_filename_dict"
   ],
   "metadata": {
    "collapsed": false,
    "ExecuteTime": {
     "end_time": "2024-01-16T21:23:05.005973Z",
     "start_time": "2024-01-16T21:23:04.990516Z"
    }
   },
   "execution_count": 47
  },
  {
   "cell_type": "code",
   "execution_count": 48,
   "outputs": [],
   "source": [
    "def lemmata_from_glaux(workid, lemmatized_sentences):\n",
    "    if workid in workid_filename_dict.keys():\n",
    "        lemmata_source_dict = \"glaux\"\n",
    "        fn = workid_filename_dict[workid]\n",
    "        response = requests.get(base_url + fn)\n",
    "        soup = BeautifulSoup(response.text, \"html.parser\")\n",
    "        lemmatized_sentences = []\n",
    "        for sent in soup.find_all(\"sentence\"):\n",
    "            sentence_lemmata = []\n",
    "            for w in sent.find_all(\"word\"):\n",
    "                try:\n",
    "                    if w[\"postag\"][0] in [\"n\", \"v\", \"a\"]:\n",
    "                        sentence_lemmata.append(w[\"lemma\"])\n",
    "                except:\n",
    "                    try:\n",
    "                        sentence_lemmata.append(w[\"lemma\"])\n",
    "                    except:\n",
    "                        pass\n",
    "\n",
    "            lemmatized_sentences.append(sentence_lemmata)\n",
    "    return lemmatized_sentences\n",
    "LAGT[\"lemmatized_sentences\"] = LAGT.apply(lambda row: lemmata_from_glaux(row[\"doc_id\"], row[\"lemmatized_sentences\"]), axis=1)"
   ],
   "metadata": {
    "collapsed": false,
    "ExecuteTime": {
     "end_time": "2024-01-16T21:36:44.962030Z",
     "start_time": "2024-01-16T21:23:04.995976Z"
    }
   }
  },
  {
   "cell_type": "code",
   "outputs": [
    {
     "data": {
      "text/plain": "944"
     },
     "execution_count": 49,
     "metadata": {},
     "output_type": "execute_result"
    }
   ],
   "source": [
    "LAGT[\"lemmatized_sentences\"].notnull().sum()"
   ],
   "metadata": {
    "collapsed": false,
    "ExecuteTime": {
     "end_time": "2024-01-16T21:36:44.967640Z",
     "start_time": "2024-01-16T21:36:44.962979Z"
    }
   },
   "execution_count": 49
  },
  {
   "cell_type": "code",
   "outputs": [],
   "source": [
    "for doc_id in LAGT[LAGT[\"lemmatized_sentences\"].notnull()][\"doc_id\"]:\n",
    "    if doc_id not in lemmata_source_dict.keys():\n",
    "        lemmata_source_dict[doc_id] = \"glaux\""
   ],
   "metadata": {
    "collapsed": false,
    "ExecuteTime": {
     "end_time": "2024-01-16T21:36:44.972180Z",
     "start_time": "2024-01-16T21:36:44.967654Z"
    }
   },
   "execution_count": 50
  },
  {
   "cell_type": "markdown",
   "source": [
    "# Pedalion trees data"
   ],
   "metadata": {
    "collapsed": false
   }
  },
  {
   "cell_type": "code",
   "outputs": [
    {
     "name": "stdout",
     "output_type": "stream",
     "text": [
      "CPU times: user 14.8 ms, sys: 3.03 ms, total: 17.8 ms\n",
      "Wall time: 1.32 s\n"
     ]
    }
   ],
   "source": [
    "%%time\n",
    "### GET PATHS+NAMES OF ALL FILES OF INTEREST WITHIN A GITHUB REPO\n",
    "repo = g.get_user(\"perseids-publications\").get_repo(\"pedalion-trees\" )\n",
    "paths = []\n",
    "contents = repo.get_contents(\"public/xml\")\n",
    "while contents:\n",
    "    file_content = contents.pop(0)\n",
    "    path_and_name = file_content.path\n",
    "    if \".xml\" in str(path_and_name):\n",
    "        paths.append(path_and_name)"
   ],
   "metadata": {
    "collapsed": false,
    "ExecuteTime": {
     "end_time": "2024-01-16T21:36:46.298584Z",
     "start_time": "2024-01-16T21:36:44.971424Z"
    }
   },
   "execution_count": 51
  },
  {
   "cell_type": "code",
   "outputs": [
    {
     "data": {
      "text/plain": "'public/xml/achar.xml'"
     },
     "execution_count": 52,
     "metadata": {},
     "output_type": "execute_result"
    }
   ],
   "source": [
    "paths[0]"
   ],
   "metadata": {
    "collapsed": false,
    "ExecuteTime": {
     "end_time": "2024-01-16T21:36:46.306795Z",
     "start_time": "2024-01-16T21:36:46.301940Z"
    }
   },
   "execution_count": 52
  },
  {
   "cell_type": "code",
   "outputs": [],
   "source": [
    "base_url = \"https://raw.githubusercontent.com/perseids-publications/pedalion-trees/master/\""
   ],
   "metadata": {
    "collapsed": false,
    "ExecuteTime": {
     "end_time": "2024-01-16T21:36:46.314374Z",
     "start_time": "2024-01-16T21:36:46.309411Z"
    }
   },
   "execution_count": 53
  },
  {
   "cell_type": "code",
   "outputs": [],
   "source": [
    "def lemmatized_sentences_by_path(path, base_url=base_url):\n",
    "    response = requests.get(base_url + path)\n",
    "    soup = BeautifulSoup(response.text, \"html.parser\")\n",
    "    lemmata_sentences = []\n",
    "    doc_ids = []\n",
    "    for sent in soup.find_all(\"sentence\"):\n",
    "        doc_ids.append(sent['document_id'])\n",
    "        sentence_lemmata = []\n",
    "        for w in sent.find_all(\"word\"):\n",
    "            try:\n",
    "                if w[\"postag\"][0] in [\"n\", \"v\", \"a\"]:\n",
    "                    sentence_lemmata.append(w[\"lemma\"])\n",
    "            except:\n",
    "                try:\n",
    "                    sentence_lemmata.append(w[\"lemma\"])\n",
    "                except:\n",
    "                    pass\n",
    "        lemmata_sentences.append(sentence_lemmata)\n",
    "    return doc_ids, lemmata_sentences"
   ],
   "metadata": {
    "collapsed": false,
    "ExecuteTime": {
     "end_time": "2024-01-16T21:36:46.366783Z",
     "start_time": "2024-01-16T21:36:46.319182Z"
    }
   },
   "execution_count": 54
  },
  {
   "cell_type": "code",
   "outputs": [],
   "source": [
    "docs_ids, docs_lemmatized_sentences = [], []\n",
    "for path in paths:\n",
    "    doc_ids, lemmatized_sentences = lemmatized_sentences_by_path(path, base_url)\n",
    "    docs_ids.append(doc_ids)\n",
    "    docs_lemmatized_sentences.append(lemmatized_sentences)"
   ],
   "metadata": {
    "collapsed": false,
    "ExecuteTime": {
     "end_time": "2024-01-16T21:37:12.835724Z",
     "start_time": "2024-01-16T21:36:46.329018Z"
    }
   },
   "execution_count": 55
  },
  {
   "cell_type": "code",
   "outputs": [
    {
     "data": {
      "text/plain": "[['ὀφείλω',\n  'Ἀργώ',\n  'διαπέταμαι',\n  'σκάφος',\n  'Κόλχος',\n  'αἶα',\n  'κυάνεος',\n  'Συμπληγάς',\n  'νάπη',\n  'Πήλιον',\n  'πίπτω',\n  'τέμνω',\n  'πεύκη',\n  'ἐρετμόω',\n  'χήρ',\n  'ἀνήρ',\n  'ἀριστεύς',\n  'παγχρύσεος',\n  'δέρος',\n  'Πελίας',\n  'μετέρχομαι'],\n ['δέσποινα',\n  'ἐμός',\n  'Μήδεια',\n  'πύργος',\n  'γῆ',\n  'πλέω',\n  'Ἰώλκιος',\n  'ἔρως',\n  'θυμός',\n  'ἐκπλήσσω',\n  'Ἰάσων'],\n ['κτείνω',\n  'πείθω',\n  'Πελιάς',\n  'κόρη',\n  'πατήρ',\n  'κατοικέω',\n  'γῆ',\n  'Κορίνθιος',\n  'φίλος',\n  'ἀμπλακεῖν',\n  'πάτρα'],\n ['ἔχω',\n  'μεμπτός',\n  'βίος',\n  'ἀνήρ',\n  'τέκνον',\n  'ἁνδάνω',\n  'φυγάς',\n  'πολίτης',\n  'ἀφικνέομαι',\n  'χθών',\n  'πᾶς',\n  'συμφέρω',\n  'Ἰάσων'],\n ['μέγας', 'γίγνομαι', 'σωτηρία', 'γυνή', 'ἀνήρ', 'διχοστατέω'],\n ['ἐχθρός', 'πᾶς', 'νοσέω', 'φίλος'],\n ['προδίδωμι',\n  'τέκνον',\n  'δεσπότις',\n  'ἐμός',\n  'γάμος',\n  'Ἰάσων',\n  'βασιλικός',\n  'εὐνάζω',\n  'γαμέω',\n  'Κρέων',\n  'παῖς',\n  'αἰσυμνάω',\n  'χθών'],\n ['Μήδεια',\n  'δύστηνος',\n  'ἀτιμάζω',\n  'βοάω',\n  'ὅρκος',\n  'ἀνακαλέω',\n  'δεξιός',\n  'πίστις',\n  'μέγας',\n  'θεός',\n  'μαρτύρομαι',\n  'ἀμοιβή',\n  'Ἰάσων',\n  'κυρέω'],\n ['κεῖμαι',\n  'ἄσιτος',\n  'σῶμα',\n  'ὑφίημι',\n  'ἀλγηδών',\n  'πᾶς',\n  'συντήκω',\n  'δάκρυον',\n  'χρόνος',\n  'ἀνήρ',\n  'αἰσθάνομαι',\n  'ἀδικέω',\n  'ὄμμα',\n  'ἐπαίρω',\n  'ἀπαλλάσσω',\n  'γῆ',\n  'πρόσωπον'],\n ['πέτρος',\n  'θαλάσσιος',\n  'κλύδων',\n  'ἀκούω',\n  'νουθετέω',\n  'φίλος',\n  'στρέφω',\n  'πάλλευκος',\n  'δειρή',\n  'πατήρ',\n  'ἀποιμώζω',\n  'φίλος',\n  'γαῖα',\n  'οἶκος',\n  'προδίδωμι',\n  'ἀφικνέομαι',\n  'ἀνήρ',\n  'ἀτιμάζω',\n  'ἔχω']]"
     },
     "execution_count": 56,
     "metadata": {},
     "output_type": "execute_result"
    }
   ],
   "source": [
    "docs_lemmatized_sentences[10][:10]"
   ],
   "metadata": {
    "collapsed": false,
    "ExecuteTime": {
     "end_time": "2024-01-16T21:37:12.839674Z",
     "start_time": "2024-01-16T21:37:12.837210Z"
    }
   },
   "execution_count": 56
  },
  {
   "cell_type": "code",
   "outputs": [],
   "source": [
    "ids_sents_dict = {}\n",
    "for ids, sents in zip(docs_ids, docs_lemmatized_sentences):\n",
    "    if len(set(ids))==1:\n",
    "        ids_sents_dict[ids[0]] = sents"
   ],
   "metadata": {
    "collapsed": false,
    "ExecuteTime": {
     "end_time": "2024-01-16T21:37:12.843710Z",
     "start_time": "2024-01-16T21:37:12.842516Z"
    }
   },
   "execution_count": 57
  },
  {
   "cell_type": "code",
   "outputs": [
    {
     "data": {
      "text/plain": "33"
     },
     "execution_count": 58,
     "metadata": {},
     "output_type": "execute_result"
    }
   ],
   "source": [
    "len(ids_sents_dict)"
   ],
   "metadata": {
    "collapsed": false,
    "ExecuteTime": {
     "end_time": "2024-01-16T21:37:12.847247Z",
     "start_time": "2024-01-16T21:37:12.844983Z"
    }
   },
   "execution_count": 58
  },
  {
   "cell_type": "code",
   "outputs": [
    {
     "data": {
      "text/plain": "dict_keys(['0019-001', '0058-001', '1220-001', '0554-001', '0041-001', '0059-003', '0557-001', '0537-012', '0006-003', '0343-001', 'Genesis', 'Genesis_deel2', 'Genesis_deel3', '0559-002', '0010-020', '2003-001', '0561-001', '0062-014', '0062-020', '0062-015', '0540-024', '0541-007', 'PaeanBrev', '0585-001', '4029-001', 'Ps-Luc', '0059-00x', '0260-x', '0544-002', '0005-xx', '0093-009', '0019-008', '0032-002'])"
     },
     "execution_count": 59,
     "metadata": {},
     "output_type": "execute_result"
    }
   ],
   "source": [
    "ids_sents_dict.keys()"
   ],
   "metadata": {
    "collapsed": false,
    "ExecuteTime": {
     "end_time": "2024-01-16T21:37:12.850332Z",
     "start_time": "2024-01-16T21:37:12.847785Z"
    }
   },
   "execution_count": 59
  },
  {
   "cell_type": "code",
   "outputs": [],
   "source": [
    "def add_pedalion_lemmata(doc_id, lemmatized_sentences):\n",
    "    if lemmatized_sentences == None:\n",
    "        doc_id = doc_id.replace(\"tlg\", \"\").replace(\".\", \"-\")\n",
    "        if doc_id in ids_sents_dict.keys():\n",
    "            lemmatized_sentences = ids_sents_dict[doc_id]\n",
    "            lemmata_source_dict[doc_id] = \"pedalion\"\n",
    "    return lemmatized_sentences\n",
    "LAGT[\"lemmatized_sentences\"] = LAGT.apply(lambda row: add_pedalion_lemmata(row[\"doc_id\"], row[\"lemmatized_sentences\"]), axis=1)"
   ],
   "metadata": {
    "collapsed": false,
    "ExecuteTime": {
     "end_time": "2024-01-16T21:37:12.872217Z",
     "start_time": "2024-01-16T21:37:12.858044Z"
    }
   },
   "execution_count": 60
  },
  {
   "cell_type": "code",
   "outputs": [
    {
     "data": {
      "text/plain": "951"
     },
     "execution_count": 61,
     "metadata": {},
     "output_type": "execute_result"
    }
   ],
   "source": [
    "LAGT[\"lemmatized_sentences\"].notnull().sum()"
   ],
   "metadata": {
    "collapsed": false,
    "ExecuteTime": {
     "end_time": "2024-01-16T21:37:12.873157Z",
     "start_time": "2024-01-16T21:37:12.860875Z"
    }
   },
   "execution_count": 61
  },
  {
   "cell_type": "markdown",
   "source": [
    "# Add Gorman treebanks data"
   ],
   "metadata": {
    "collapsed": false
   }
  },
  {
   "cell_type": "code",
   "outputs": [
    {
     "name": "stdout",
     "output_type": "stream",
     "text": [
      "CPU times: user 21.2 ms, sys: 1.95 ms, total: 23.1 ms\n",
      "Wall time: 1.29 s\n"
     ]
    }
   ],
   "source": [
    "%%time\n",
    "### GET PATHS+NAMES OF ALL FILES OF INTEREST WITHIN A GITHUB REPO\n",
    "repo = g.get_user(\"perseids-publications\").get_repo(\"gorman-trees\" )\n",
    "paths = []\n",
    "contents = repo.get_contents(\"public/xml\")\n",
    "while contents:\n",
    "    file_content = contents.pop(0)\n",
    "    path_and_name = file_content.path\n",
    "    if \".xml\" in str(path_and_name):\n",
    "        paths.append(path_and_name)"
   ],
   "metadata": {
    "collapsed": false,
    "ExecuteTime": {
     "end_time": "2024-01-16T21:37:14.162909Z",
     "start_time": "2024-01-16T21:37:12.864532Z"
    }
   },
   "execution_count": 62
  },
  {
   "cell_type": "code",
   "outputs": [
    {
     "data": {
      "text/plain": "['public/xml/aeschines-1-1-50-bu1.xml',\n 'public/xml/aeschines-1-101-150-bu1.xml',\n 'public/xml/aeschines-1-151-196-bu1.xml',\n 'public/xml/aeschines-1-51-100-bu1.xml',\n 'public/xml/antiphon-1-bu2.xml',\n 'public/xml/antiphon-2-bu2.xml',\n 'public/xml/antiphon-5-bu2.xml',\n 'public/xml/antiphon-6-bu2.xml',\n 'public/xml/appian-bc-1-0-1-4-bu1.xml',\n 'public/xml/appian-bc-1-11-14-bu1.xml',\n 'public/xml/appian-bc-1-5-7-bu1.xml',\n 'public/xml/appian-bc-1-8-10-bu1.xml',\n 'public/xml/aristotle-politics-book-1-bu1.xml',\n 'public/xml/aristotle-politics-book-2-bu2.xml',\n 'public/xml/athen12-1-9-2019.xml',\n 'public/xml/athen12-10-19-2019.xml',\n 'public/xml/athen12-20-29-2019.xml',\n 'public/xml/athen12-20-29-jan-15.xml',\n 'public/xml/athen12-30-39-2019.xml',\n 'public/xml/athen12-30-39-jan-15.xml',\n 'public/xml/athen12-40-49-2019.xml',\n 'public/xml/athen12-40-49-jan-15.xml',\n 'public/xml/athen12-50-59-2019.xml',\n 'public/xml/athen12-50-59-jan-15.xml',\n 'public/xml/athen12-60-69-2019.xml',\n 'public/xml/athen12-60-69-jan-15.xml',\n 'public/xml/athen12-70-81-2019.xml',\n 'public/xml/athen12-70-81-jan-15.xml',\n 'public/xml/athen13-1-9-2019.xml',\n 'public/xml/athen13-1-9-jan-15.xml',\n 'public/xml/athen13-10-19-2019.xml',\n 'public/xml/athen13-10-19-jan-15.xml',\n 'public/xml/athen13-20-29-2019.xml',\n 'public/xml/athen13-20-29-jan-15.xml',\n 'public/xml/athen13-30-39-2019.xml',\n 'public/xml/athen13-30-39-jan-15.xml',\n 'public/xml/athen13-40-49-2019.xml',\n 'public/xml/athen13-40-49-jan-15.xml',\n 'public/xml/athen13-50-59-2019.xml',\n 'public/xml/athen13-50-59-jan-15.xml',\n 'public/xml/athen13-60-69-2019.xml',\n 'public/xml/athen13-60-69-jan-15.xml',\n 'public/xml/athen13-70-79-2019.xml',\n 'public/xml/athen13-70-79-jan-15.xml',\n 'public/xml/athen13-80-89-2019.xml',\n 'public/xml/athen13-80-89-jan-15.xml',\n 'public/xml/athen13-90-95-2019.xml',\n 'public/xml/athen13-90-95-jan-15.xml',\n 'public/xml/dem-59-neaira-2019.xml',\n 'public/xml/demosthenes-1-bu1.xml',\n 'public/xml/demosthenes-18-1-50-bu2.xml',\n 'public/xml/demosthenes-18-101-150-bu2.xml',\n 'public/xml/demosthenes-18-151-200-bu2.xml',\n 'public/xml/demosthenes-18-201-275-bu1.xml',\n 'public/xml/demosthenes-18-276-324-bu1.xml',\n 'public/xml/demosthenes-18-51-100-bu1.xml',\n 'public/xml/demosthenes-4-phil1-bu1.xml',\n 'public/xml/demosthenes-46-tree.xml',\n 'public/xml/demosthenes-47-tree.xml',\n 'public/xml/demosthenes-49-tree.xml',\n 'public/xml/demosthenes-50-tree.xml',\n 'public/xml/demosthenes-52-tree.xml',\n 'public/xml/demosthenes-53-tree.xml',\n 'public/xml/diodsic-11-1-20-bu4.xml',\n 'public/xml/diodsic-11-81-92-bu1.xml',\n 'public/xml/diodsic11-21-40-bu2.xml',\n 'public/xml/diodsic11-41-60-bu1.xml',\n 'public/xml/diodsic11-61-80-bu1.xml',\n 'public/xml/dion-hal-1-1-15-bu2.xml',\n 'public/xml/dion-hal-1-16-30-bu1.xml',\n 'public/xml/dion-hal-1-31-45-bu1.xml',\n 'public/xml/dion-hal-1-46-60-bu1.xml',\n 'public/xml/dion-hal-1-61-75-bu1.xml',\n 'public/xml/dion-hal-1-76-90-bu1.xml',\n 'public/xml/hdt-1-1-19-bu3-2019.xml',\n 'public/xml/hdt-1-100-119-bu3-2019.xml',\n 'public/xml/hdt-1-120-149-bu2-2019.xml',\n 'public/xml/hdt-1-150-169-bu3-2019.xml',\n 'public/xml/hdt-1-170-189-bu2-2019.xml',\n 'public/xml/hdt-1-190-216-bu2-2019.xml',\n 'public/xml/hdt-1-20-39-bu2-2019.xml',\n 'public/xml/hdt-1-40-59-bu2-2019.xml',\n 'public/xml/hdt-1-60-79-bu2-2019.xml',\n 'public/xml/hdt-1-80-99-bu5-2019.xml',\n 'public/xml/josephus-bj-1-1-2-bu1.xml',\n 'public/xml/josephus-bj-1-11-15-bu1.xml',\n 'public/xml/josephus-bj-1-16-20-bu1.xml',\n 'public/xml/josephus-bj-1-21-25-bu1.xml',\n 'public/xml/josephus-bj-1-3-5-bu2.xml',\n 'public/xml/josephus-bj-1-6-10-bu1.xml',\n 'public/xml/lysias-1-bu1.xml',\n 'public/xml/lysias-12-bu1.xml',\n 'public/xml/lysias-13-bu1.xml',\n 'public/xml/lysias-14-bu1.xml',\n 'public/xml/lysias-15.xml',\n 'public/xml/lysias-19-bu1.xml',\n 'public/xml/lysias-23-bu1.xml',\n 'public/xml/plato-apology.xml',\n 'public/xml/plut-alcib-1-17-bu1.xml',\n 'public/xml/plut-alcib-18-39-bu1.xml',\n 'public/xml/plut-fortuna-romanorum-bu1.xml',\n 'public/xml/plutarch-alex-fort-aut-virt-bu2.xml',\n 'public/xml/plutarch-lycurgus-1-15-bu4.xml',\n 'public/xml/plutarch-lycurgus-16-31-bu2.xml',\n 'public/xml/polybius-10-1-10-bu1.xml',\n 'public/xml/polybius-10-11-20-bu1.xml',\n 'public/xml/polybius-10-21-35-bu2.xml',\n 'public/xml/polybius-10-36-49-bu1.xml',\n 'public/xml/polybius-2-1-10-bu1.xml',\n 'public/xml/polybius-2-11-20-bu1.xml',\n 'public/xml/polybius-2-21-30-bu2.xml',\n 'public/xml/polybius-2-31-40-bu2.xml',\n 'public/xml/polybius-2-41-50-bu1.xml',\n 'public/xml/polybius-2-51-60-bu1.xml',\n 'public/xml/polybius-2-61-71-bu2.xml',\n 'public/xml/polybius-21-1-10-bu1.xml',\n 'public/xml/polybius-21-11-20-bu1.xml',\n 'public/xml/polybius-21-21-30-bu1.xml',\n 'public/xml/polybius-21-31-47-bu1.xml',\n 'public/xml/polybius-6-16-30-bu1.xml',\n 'public/xml/polybius-6-2-15-bu1.xml',\n 'public/xml/polybius-6-31-45-bu1.xml',\n 'public/xml/polybius-6-46-58-bu1.xml',\n 'public/xml/polybius-9-1-20-bu1.xml',\n 'public/xml/polybius-9-21-33-bu1.xml',\n 'public/xml/polybius-9-34-45-bu1.xml',\n 'public/xml/polybius1-1-9-2017.xml',\n 'public/xml/polybius1-10-19-2017.xml',\n 'public/xml/polybius1-20-29-2017.xml',\n 'public/xml/polybius1-30-39-2017.xml',\n 'public/xml/polybius1-40-49-2017.xml',\n 'public/xml/polybius1-50-59-2017.xml',\n 'public/xml/polybius1-60-69-2017.xml',\n 'public/xml/polybius1-70-79-2017.xml',\n 'public/xml/polybius1-80-88-2017.xml',\n 'public/xml/ps-xen-ath-pol-bu2.xml',\n 'public/xml/thuc-1-1-20-bu5.xml',\n 'public/xml/thuc-1-101-120-bu2.xml',\n 'public/xml/thuc-1-121-146-bu3.xml',\n 'public/xml/thuc-1-21-40-bu4.xml',\n 'public/xml/thuc-1-41-60-bu3.xml',\n 'public/xml/thuc-1-61-80-bu3.xml',\n 'public/xml/thuc-1-81-100-bu2.xml',\n 'public/xml/thuc-3-1-20-bu1.xml',\n 'public/xml/thuc-3-21-40-bu1.xml',\n 'public/xml/xen-cyr-1-1-2-bu1.xml',\n 'public/xml/xen-cyr-1-3-4-bu1.xml',\n 'public/xml/xen-cyr-1-5-bu1.xml',\n 'public/xml/xen-cyr-1-6-bu1.xml',\n 'public/xml/xen-cyr-7-1-3-tree.xml',\n 'public/xml/xen-cyr-7-4-5-tree.xml',\n 'public/xml/xen-cyr-8-1-8-4-bu1.xml',\n 'public/xml/xen-cyr-8-5-7-bu1.xml',\n 'public/xml/xen-cyr-8-8-bu1.xml',\n 'public/xml/xen-hell-1-1-4-bu2.xml',\n 'public/xml/xen-hell-1-5-7-bu1.xml',\n 'public/xml/xen-hell-2-bu1.xml',\n 'public/xml/xen-hell-3-bu1.xml']"
     },
     "execution_count": 63,
     "metadata": {},
     "output_type": "execute_result"
    }
   ],
   "source": [
    "paths"
   ],
   "metadata": {
    "collapsed": false,
    "ExecuteTime": {
     "end_time": "2024-01-16T21:37:14.171602Z",
     "start_time": "2024-01-16T21:37:14.165566Z"
    }
   },
   "execution_count": 63
  },
  {
   "cell_type": "code",
   "outputs": [],
   "source": [
    "base_url = \"https://raw.githubusercontent.com/perseids-publications/gorman-trees/master/\"\n",
    "\n",
    "def lemmatized_sentences_by_path(path, base_url=base_url):\n",
    "    response = requests.get(base_url + path)\n",
    "    soup = BeautifulSoup(response.text, \"html.parser\")\n",
    "    lemmata_sentences = []\n",
    "    doc_paths = []\n",
    "    doc_subdocs = []\n",
    "    doc_ids = []\n",
    "    for sent in soup.find_all(\"sentence\"):\n",
    "        doc_paths.append(path)\n",
    "        doc_ids.append(sent['document_id'])\n",
    "        doc_subdocs.append(sent['id'])\n",
    "        sentence_lemmata = []\n",
    "        for w in sent.find_all(\"word\"):\n",
    "            try:\n",
    "                if w[\"postag\"][0] in [\"n\", \"v\", \"a\"]:\n",
    "                    sentence_lemmata.append(w[\"lemma\"])\n",
    "            except:\n",
    "                try:\n",
    "                    sentence_lemmata.append(w[\"lemma\"])\n",
    "                except:\n",
    "                    pass\n",
    "        lemmata_sentences.append(sentence_lemmata)\n",
    "    return (doc_paths, doc_ids, doc_subdocs, lemmata_sentences)"
   ],
   "metadata": {
    "collapsed": false,
    "ExecuteTime": {
     "end_time": "2024-01-16T21:37:14.176599Z",
     "start_time": "2024-01-16T21:37:14.173933Z"
    }
   },
   "execution_count": 64
  },
  {
   "cell_type": "code",
   "outputs": [],
   "source": [
    "docs_paths, docs_ids, docs_subdocs, docs_lemmatized_sentences = [], [], [], []\n",
    "\n",
    "for path in paths:\n",
    "    doc_paths, doc_ids, doc_subdocs, lemmatized_sentences = lemmatized_sentences_by_path(path, base_url)\n",
    "    docs_paths.extend(doc_paths)\n",
    "    docs_ids.extend(doc_ids)\n",
    "    docs_subdocs.extend(doc_subdocs)\n",
    "    docs_lemmatized_sentences.extend(lemmatized_sentences)"
   ],
   "metadata": {
    "collapsed": false,
    "ExecuteTime": {
     "end_time": "2024-01-16T21:38:32.140551Z",
     "start_time": "2024-01-16T21:37:14.181262Z"
    }
   },
   "execution_count": 65
  },
  {
   "cell_type": "code",
   "outputs": [
    {
     "data": {
      "text/plain": "                                     0  \\\n0  public/xml/aeschines-1-1-50-bu1.xml   \n1  public/xml/aeschines-1-1-50-bu1.xml   \n2  public/xml/aeschines-1-1-50-bu1.xml   \n3  public/xml/aeschines-1-1-50-bu1.xml   \n4  public/xml/aeschines-1-1-50-bu1.xml   \n\n                                              1  2  \\\n0  urn:cts:greekLit:tlg0026.tlg001.perseus-grc1  1   \n1  urn:cts:greekLit:tlg0026.tlg001.perseus-grc1  2   \n2  urn:cts:greekLit:tlg0026.tlg001.perseus-grc1  3   \n3  urn:cts:greekLit:tlg0026.tlg001.perseus-grc1  4   \n4  urn:cts:greekLit:tlg0026.tlg001.perseus-grc1  5   \n\n                                                   3  \n0  [πολίτης, ἀνήρ, Ἀθηναῖος, γραφής, γράφω, εὔθυν...  \n1  [οἶδα, ἔνοχος, εἰμί, ὀλίγος, πρότερος, ἀκούω, ...  \n2  [ἔοικα, ἀνήρ, Ἀθηναῖος, ἔθω, λόγος, λέγω3, δημ...  \n3           [ἴδιος, ἔχθρα, πολύς, κοινός, ἐπανορθόω]  \n4  [ὅλος, ἀγών, φαίνω, πόλις, αἴτιος, εἰμί, Τίμαρ...  ",
      "text/html": "<div>\n<style scoped>\n    .dataframe tbody tr th:only-of-type {\n        vertical-align: middle;\n    }\n\n    .dataframe tbody tr th {\n        vertical-align: top;\n    }\n\n    .dataframe thead th {\n        text-align: right;\n    }\n</style>\n<table border=\"1\" class=\"dataframe\">\n  <thead>\n    <tr style=\"text-align: right;\">\n      <th></th>\n      <th>0</th>\n      <th>1</th>\n      <th>2</th>\n      <th>3</th>\n    </tr>\n  </thead>\n  <tbody>\n    <tr>\n      <th>0</th>\n      <td>public/xml/aeschines-1-1-50-bu1.xml</td>\n      <td>urn:cts:greekLit:tlg0026.tlg001.perseus-grc1</td>\n      <td>1</td>\n      <td>[πολίτης, ἀνήρ, Ἀθηναῖος, γραφής, γράφω, εὔθυν...</td>\n    </tr>\n    <tr>\n      <th>1</th>\n      <td>public/xml/aeschines-1-1-50-bu1.xml</td>\n      <td>urn:cts:greekLit:tlg0026.tlg001.perseus-grc1</td>\n      <td>2</td>\n      <td>[οἶδα, ἔνοχος, εἰμί, ὀλίγος, πρότερος, ἀκούω, ...</td>\n    </tr>\n    <tr>\n      <th>2</th>\n      <td>public/xml/aeschines-1-1-50-bu1.xml</td>\n      <td>urn:cts:greekLit:tlg0026.tlg001.perseus-grc1</td>\n      <td>3</td>\n      <td>[ἔοικα, ἀνήρ, Ἀθηναῖος, ἔθω, λόγος, λέγω3, δημ...</td>\n    </tr>\n    <tr>\n      <th>3</th>\n      <td>public/xml/aeschines-1-1-50-bu1.xml</td>\n      <td>urn:cts:greekLit:tlg0026.tlg001.perseus-grc1</td>\n      <td>4</td>\n      <td>[ἴδιος, ἔχθρα, πολύς, κοινός, ἐπανορθόω]</td>\n    </tr>\n    <tr>\n      <th>4</th>\n      <td>public/xml/aeschines-1-1-50-bu1.xml</td>\n      <td>urn:cts:greekLit:tlg0026.tlg001.perseus-grc1</td>\n      <td>5</td>\n      <td>[ὅλος, ἀγών, φαίνω, πόλις, αἴτιος, εἰμί, Τίμαρ...</td>\n    </tr>\n  </tbody>\n</table>\n</div>"
     },
     "execution_count": 66,
     "metadata": {},
     "output_type": "execute_result"
    }
   ],
   "source": [
    "gorman_df = pd.DataFrame([docs_paths, docs_ids, docs_subdocs, docs_lemmatized_sentences]).T\n",
    "gorman_df.head(5)"
   ],
   "metadata": {
    "collapsed": false,
    "ExecuteTime": {
     "end_time": "2024-01-16T21:38:32.371529Z",
     "start_time": "2024-01-16T21:38:32.139813Z"
    }
   },
   "execution_count": 66
  },
  {
   "cell_type": "code",
   "outputs": [],
   "source": [
    "gorman_df.columns = [\"path_raw\", \"doc_id_raw\", \"subdoc\", \"sentence\"]"
   ],
   "metadata": {
    "collapsed": false,
    "ExecuteTime": {
     "end_time": "2024-01-16T21:38:32.374206Z",
     "start_time": "2024-01-16T21:38:32.372061Z"
    }
   },
   "execution_count": 67
  },
  {
   "cell_type": "code",
   "outputs": [],
   "source": [
    "gorman_df[\"path\"] = gorman_df[\"path_raw\"].apply(lambda x: x.rpartition(\"/\")[2])"
   ],
   "metadata": {
    "collapsed": false,
    "ExecuteTime": {
     "end_time": "2024-01-16T21:38:32.381Z",
     "start_time": "2024-01-16T21:38:32.379520Z"
    }
   },
   "execution_count": 68
  },
  {
   "cell_type": "code",
   "outputs": [
    {
     "data": {
      "text/plain": "['urn:cts:greekLit:tlg0026.tlg001.perseus-grc1',\n 'http://perseids.org/annotsrc/urn:cts:greekLit:tlg0028.tlg001.perseus-grc1',\n 'urn:cts:greekLit:tlg0028.tlg002.perseus-grc1',\n 'urn:cts:greekLit:tlg0028.tlg005.perseus-grc1',\n 'urn:cts:greekLit:tlg0028.tlg006.perseus-grc1',\n 'urn:cts:greekLit:tlg0551.tlg017.perseus-grc2',\n 'urn:cts:greekLit:tlg0086.tlg035.perseus-grc1:1',\n 'urn:cts:greekLit:tlg0086.tlg035.perseus-grc1:2',\n 'urn:cts:greekLit:tlg0008.tlg001.perseus-grc1',\n 'Perseus:text:2008.01.0405',\n 'urn:cts:greekLit:tlg0014.tlg059.perseus-grc2',\n '0014-059',\n '0014-001',\n 'urn:cts:greekLit:tlg0014.tlg018.perseus-grc1',\n 'urn:cts:greekLit:tlg0014.tlg004.perseus-grc1',\n '0014-046',\n '0014-047',\n '0014-049',\n '0014-050',\n '0014-052',\n '0014-053',\n 'http://perseids.org/annotsrc/urn:cts:greekLit:tlg0060.tlg001.perseus-grc3',\n 'urn:cts:greekLit:tlg0060.tlg001.perseus-grc3',\n 'urn:cts:greekLit:tlg0081.tlg001.perseus-grc1',\n 'urn:cts:greekLit:tlg0016.tlg001.perseus-grc1',\n 'urn:cts:greekLit:tlg0526.tlg004.perseus-grc1',\n 'http://perseids.org/annotsrc/urn:cts:greekLit:tlg0540.tlg001.perseus-grc1',\n 'urn:cts:greekLit:tlg0540.tlg012.perseus-grc1',\n 'urn:cts:greekLit:tlg0540.tlg013.perseus-grc1',\n 'http://perseids.org/annotsrc/urn:cts:greekLit:tlg0540.tlg014.perseus-grc1',\n 'http://perseids.org/annotsrc/urn:cts:greekLit:tlg0540.tlg015.perseus-grc1',\n 'urn:cts:greekLit:tlg0540.tlg019.perseus-grc1',\n 'urn:cts:greekLit:tlg0540.tlg023.perseus-grc1',\n 'http://perseids.org/annotsrc/urn:cts:greekLit:tlg0059.tlg002.perseus-grc1',\n 'urn:cts:greekLit:tlg0007.tlg015.perseus-grc1:1.1',\n 'urn:cts:greekLit:tlg0007.tlg015.perseus-grc1:1.2',\n 'urn:cts:greekLit:tlg0007.tlg015.perseus-grc1:1.3',\n 'urn:cts:greekLit:tlg0007.tlg015.perseus-grc1:1.4',\n 'urn:cts:greekLit:tlg0007.tlg015.perseus-grc1:2.1',\n 'urn:cts:greekLit:tlg0007.tlg015.perseus-grc1:2.2',\n 'urn:cts:greekLit:tlg0007.tlg015.perseus-grc1:2.3',\n 'urn:cts:greekLit:tlg0007.tlg015.perseus-grc1:2.4',\n 'urn:cts:greekLit:tlg0007.tlg015.perseus-grc1:2.5',\n 'urn:cts:greekLit:tlg0007.tlg015.perseus-grc1:2.6',\n 'urn:cts:greekLit:tlg0007.tlg015.perseus-grc1:3.1',\n 'urn:cts:greekLit:tlg0007.tlg015.perseus-grc1:4.1',\n 'urn:cts:greekLit:tlg0007.tlg015.perseus-grc1:4.2',\n 'urn:cts:greekLit:tlg0007.tlg015.perseus-grc1:4.3',\n 'urn:cts:greekLit:tlg0007.tlg015.perseus-grc1:4.4',\n 'urn:cts:greekLit:tlg0007.tlg015.perseus-grc1:4.5',\n 'urn:cts:greekLit:tlg0007.tlg015.perseus-grc1:5.1',\n 'urn:cts:greekLit:tlg0007.tlg015.perseus-grc1:5.2',\n 'urn:cts:greekLit:tlg0007.tlg015.perseus-grc1:5.3',\n 'urn:cts:greekLit:tlg0007.tlg015.perseus-grc1:6.1',\n 'urn:cts:greekLit:tlg0007.tlg015.perseus-grc1:6.2',\n 'urn:cts:greekLit:tlg0007.tlg015.perseus-grc1:6.3',\n 'urn:cts:greekLit:tlg0007.tlg015.perseus-grc1:6.4',\n 'urn:cts:greekLit:tlg0007.tlg015.perseus-grc1:7.1',\n 'urn:cts:greekLit:tlg0007.tlg015.perseus-grc1:7.2',\n 'urn:cts:greekLit:tlg0007.tlg015.perseus-grc1:7.3',\n 'urn:cts:greekLit:tlg0007.tlg015.perseus-grc1:7.4',\n 'urn:cts:greekLit:tlg0007.tlg015.perseus-grc1:8.1',\n 'urn:cts:greekLit:tlg0007.tlg015.perseus-grc1:8.2',\n 'urn:cts:greekLit:tlg0007.tlg015.perseus-grc1:8.3',\n 'urn:cts:greekLit:tlg0007.tlg015.perseus-grc1:8.4',\n 'urn:cts:greekLit:tlg0007.tlg015.perseus-grc1:8.5',\n 'urn:cts:greekLit:tlg0007.tlg015.perseus-grc1:9.1',\n 'urn:cts:greekLit:tlg0007.tlg015.perseus-grc1:10.1',\n 'urn:cts:greekLit:tlg0007.tlg015.perseus-grc1:10.2',\n 'urn:cts:greekLit:tlg0007.tlg015.perseus-grc1:11.1',\n 'urn:cts:greekLit:tlg0007.tlg015.perseus-grc1:11.2',\n 'urn:cts:greekLit:tlg0007.tlg015.perseus-grc1:12.1',\n 'urn:cts:greekLit:tlg0007.tlg015.perseus-grc1:12.2',\n 'urn:cts:greekLit:tlg0007.tlg015.perseus-grc1:12.3',\n 'urn:cts:greekLit:tlg0007.tlg015.perseus-grc1:13.1',\n 'urn:cts:greekLit:tlg0007.tlg015.perseus-grc1:13.2',\n 'urn:cts:greekLit:tlg0007.tlg015.perseus-grc1:13.3',\n 'urn:cts:greekLit:tlg0007.tlg015.perseus-grc1:13.4',\n 'urn:cts:greekLit:tlg0007.tlg015.perseus-grc1:13.5',\n 'urn:cts:greekLit:tlg0007.tlg015.perseus-grc1:14.1',\n 'urn:cts:greekLit:tlg0007.tlg015.perseus-grc1:14.2',\n 'urn:cts:greekLit:tlg0007.tlg015.perseus-grc1:14.3',\n 'urn:cts:greekLit:tlg0007.tlg015.perseus-grc1:14.4',\n 'urn:cts:greekLit:tlg0007.tlg015.perseus-grc1:14.5',\n 'urn:cts:greekLit:tlg0007.tlg015.perseus-grc1:14.6',\n 'urn:cts:greekLit:tlg0007.tlg015.perseus-grc1:14.7',\n 'urn:cts:greekLit:tlg0007.tlg015.perseus-grc1:14.8',\n 'urn:cts:greekLit:tlg0007.tlg015.perseus-grc1:14.9',\n 'urn:cts:greekLit:tlg0007.tlg015.perseus-grc1:15.1',\n 'urn:cts:greekLit:tlg0007.tlg015.perseus-grc1:15.2',\n 'urn:cts:greekLit:tlg0007.tlg015.perseus-grc1:15.3',\n 'urn:cts:greekLit:tlg0007.tlg015.perseus-grc1:15.4',\n 'urn:cts:greekLit:tlg0007.tlg015.perseus-grc1:16.1',\n 'urn:cts:greekLit:tlg0007.tlg015.perseus-grc1:16.2',\n 'urn:cts:greekLit:tlg0007.tlg015.perseus-grc1:16.3',\n 'urn:cts:greekLit:tlg0007.tlg015.perseus-grc1:16.4',\n 'urn:cts:greekLit:tlg0007.tlg015.perseus-grc1:16.5',\n 'urn:cts:greekLit:tlg0007.tlg015.perseus-grc1:16.6',\n 'urn:cts:greekLit:tlg0007.tlg015.perseus-grc1:17.1',\n 'urn:cts:greekLit:tlg0007.tlg015.perseus-grc1:17.2',\n 'urn:cts:greekLit:tlg0007.tlg015.perseus-grc1:17.3',\n 'urn:cts:greekLit:tlg0007.tlg015.perseus-grc1:17.4',\n 'urn:cts:greekLit:tlg0007.tlg015.perseus-grc1:17.5',\n 'urn:cts:greekLit:tlg0007.tlg015.perseus-grc1:18.1',\n 'urn:cts:greekLit:tlg0007.tlg015.perseus-grc1:18.2',\n 'urn:cts:greekLit:tlg0007.tlg015.perseus-grc1:18.3',\n 'urn:cts:greekLit:tlg0007.tlg015.perseus-grc1:18.4',\n 'urn:cts:greekLit:tlg0007.tlg015.perseus-grc1:19.1',\n 'urn:cts:greekLit:tlg0007.tlg015.perseus-grc1:19.2',\n 'urn:cts:greekLit:tlg0007.tlg015.perseus-grc1:19.3',\n 'urn:cts:greekLit:tlg0007.tlg015.perseus-grc1:19.4',\n 'urn:cts:greekLit:tlg0007.tlg015.perseus-grc1:19.5',\n 'urn:cts:greekLit:tlg0007.tlg015.perseus-grc1:20.1',\n 'urn:cts:greekLit:tlg0007.tlg015.perseus-grc1:20.2',\n 'urn:cts:greekLit:tlg0007.tlg015.perseus-grc1:20.3',\n 'urn:cts:greekLit:tlg0007.tlg015.perseus-grc1:20.4',\n 'urn:cts:greekLit:tlg0007.tlg015.perseus-grc1:20.5',\n 'urn:cts:greekLit:tlg0007.tlg015.perseus-grc1:21.1',\n 'urn:cts:greekLit:tlg0007.tlg015.perseus-grc1:21.2',\n 'urn:cts:greekLit:tlg0007.tlg015.perseus-grc1:21.3',\n 'urn:cts:greekLit:tlg0007.tlg015.perseus-grc1:21.4',\n 'urn:cts:greekLit:tlg0007.tlg015.perseus-grc1:21.5',\n 'urn:cts:greekLit:tlg0007.tlg015.perseus-grc1:21.6',\n 'urn:cts:greekLit:tlg0007.tlg015.perseus-grc1:22.1',\n 'urn:cts:greekLit:tlg0007.tlg015.perseus-grc1:22.2',\n 'urn:cts:greekLit:tlg0007.tlg015.perseus-grc1:22.3',\n 'urn:cts:greekLit:tlg0007.tlg015.perseus-grc1:22.4',\n 'urn:cts:greekLit:tlg0007.tlg015.perseus-grc1:23.1',\n 'urn:cts:greekLit:tlg0007.tlg015.perseus-grc1:23.2',\n 'urn:cts:greekLit:tlg0007.tlg015.perseus-grc1:23.3',\n 'urn:cts:greekLit:tlg0007.tlg015.perseus-grc1:23.4',\n 'urn:cts:greekLit:tlg0007.tlg015.perseus-grc1:23.6',\n 'urn:cts:greekLit:tlg0007.tlg015.perseus-grc1:23.7',\n 'urn:cts:greekLit:tlg0007.tlg015.perseus-grc1:23.8',\n 'urn:cts:greekLit:tlg0007.tlg015.perseus-grc1:24.1',\n 'urn:cts:greekLit:tlg0007.tlg015.perseus-grc1:24.2',\n 'urn:cts:greekLit:tlg0007.tlg015.perseus-grc1:24.3',\n 'urn:cts:greekLit:tlg0007.tlg015.perseus-grc1:24.4',\n 'urn:cts:greekLit:tlg0007.tlg015.perseus-grc1:24.5',\n 'urn:cts:greekLit:tlg0007.tlg015.perseus-grc1:25.1',\n 'urn:cts:greekLit:tlg0007.tlg015.perseus-grc1:25.2',\n 'urn:cts:greekLit:tlg0007.tlg015.perseus-grc1:25.3',\n 'urn:cts:greekLit:tlg0007.tlg015.perseus-grc1:25.4',\n 'urn:cts:greekLit:tlg0007.tlg015.perseus-grc1:25.5',\n 'urn:cts:greekLit:tlg0007.tlg015.perseus-grc1:25.6',\n 'urn:cts:greekLit:tlg0007.tlg015.perseus-grc1:25.7',\n 'urn:cts:greekLit:tlg0007.tlg015.perseus-grc1:25.8',\n 'urn:cts:greekLit:tlg0007.tlg015.perseus-grc1:25.9',\n 'urn:cts:greekLit:tlg0007.tlg015.perseus-grc1:25.10',\n 'urn:cts:greekLit:tlg0007.tlg015.perseus-grc1:26.1',\n 'urn:cts:greekLit:tlg0007.tlg015.perseus-grc1:26.2',\n 'urn:cts:greekLit:tlg0007.tlg015.perseus-grc1:26.3',\n 'urn:cts:greekLit:tlg0007.tlg015.perseus-grc1:26.4',\n 'urn:cts:greekLit:tlg0007.tlg015.perseus-grc1:26.5',\n 'urn:cts:greekLit:tlg0007.tlg015.perseus-grc1:26.6',\n 'urn:cts:greekLit:tlg0007.tlg015.perseus-grc1:26.7',\n 'urn:cts:greekLit:tlg0007.tlg015.perseus-grc1:27.1',\n 'urn:cts:greekLit:tlg0007.tlg015.perseus-grc1:27.2',\n 'urn:cts:greekLit:tlg0007.tlg015.perseus-grc1:27.3',\n 'urn:cts:greekLit:tlg0007.tlg015.perseus-grc1:27.4',\n 'urn:cts:greekLit:tlg0007.tlg015.perseus-grc1:27.5',\n 'urn:cts:greekLit:tlg0007.tlg015.perseus-grc1:28.1',\n 'urn:cts:greekLit:tlg0007.tlg015.perseus-grc1:28.2',\n 'urn:cts:greekLit:tlg0007.tlg015.perseus-grc1:28.3',\n 'urn:cts:greekLit:tlg0007.tlg015.perseus-grc1:28.4',\n 'urn:cts:greekLit:tlg0007.tlg015.perseus-grc1:28.5',\n 'urn:cts:greekLit:tlg0007.tlg015.perseus-grc1:28.6',\n 'urn:cts:greekLit:tlg0007.tlg015.perseus-grc1:29.1',\n 'urn:cts:greekLit:tlg0007.tlg015.perseus-grc1:29.2',\n 'urn:cts:greekLit:tlg0007.tlg015.perseus-grc1:29.3',\n 'urn:cts:greekLit:tlg0007.tlg015.perseus-grc1:30.1',\n 'urn:cts:greekLit:tlg0007.tlg015.perseus-grc1:30.2',\n 'urn:cts:greekLit:tlg0007.tlg015.perseus-grc1:30.3',\n 'urn:cts:greekLit:tlg0007.tlg015.perseus-grc1:30.4',\n 'urn:cts:greekLit:tlg0007.tlg015.perseus-grc1:30.5',\n 'urn:cts:greekLit:tlg0007.tlg015.perseus-grc1:31.1',\n 'urn:cts:greekLit:tlg0007.tlg015.perseus-grc1:31.2',\n 'urn:cts:greekLit:tlg0007.tlg015.perseus-grc1:31.4',\n 'urn:cts:greekLit:tlg0007.tlg015.perseus-grc1:31.5',\n 'urn:cts:greekLit:tlg0007.tlg015.perseus-grc1:31.6',\n 'urn:cts:greekLit:tlg0007.tlg015.perseus-grc1:32.1',\n 'urn:cts:greekLit:tlg0007.tlg015.perseus-grc1:32.2',\n 'urn:cts:greekLit:tlg0007.tlg015.perseus-grc1:32.4',\n 'urn:cts:greekLit:tlg0007.tlg015.perseus-grc1:33.1',\n 'urn:cts:greekLit:tlg0007.tlg015.perseus-grc1:33.2',\n 'urn:cts:greekLit:tlg0007.tlg015.perseus-grc1:33.3',\n 'urn:cts:greekLit:tlg0007.tlg015.perseus-grc1:34.1',\n 'urn:cts:greekLit:tlg0007.tlg015.perseus-grc1:34.2',\n 'urn:cts:greekLit:tlg0007.tlg015.perseus-grc1:34.3',\n 'urn:cts:greekLit:tlg0007.tlg015.perseus-grc1:34.4',\n 'urn:cts:greekLit:tlg0007.tlg015.perseus-grc1:34.5',\n 'urn:cts:greekLit:tlg0007.tlg015.perseus-grc1:34.6',\n 'urn:cts:greekLit:tlg0007.tlg015.perseus-grc1:35.1',\n 'urn:cts:greekLit:tlg0007.tlg015.perseus-grc1:35.2',\n 'urn:cts:greekLit:tlg0007.tlg015.perseus-grc1:35.3',\n 'urn:cts:greekLit:tlg0007.tlg015.perseus-grc1:35.4',\n 'urn:cts:greekLit:tlg0007.tlg015.perseus-grc1:35.5',\n 'urn:cts:greekLit:tlg0007.tlg015.perseus-grc1:35.6',\n 'urn:cts:greekLit:tlg0007.tlg015.perseus-grc1:36.1',\n 'urn:cts:greekLit:tlg0007.tlg015.perseus-grc1:36.2',\n 'urn:cts:greekLit:tlg0007.tlg015.perseus-grc1:36.3',\n 'urn:cts:greekLit:tlg0007.tlg015.perseus-grc1:36.4',\n 'urn:cts:greekLit:tlg0007.tlg015.perseus-grc1:37.1',\n 'urn:cts:greekLit:tlg0007.tlg015.perseus-grc1:37.2',\n 'urn:cts:greekLit:tlg0007.tlg015.perseus-grc1:37.3',\n 'urn:cts:greekLit:tlg0007.tlg015.perseus-grc1:37.4',\n 'urn:cts:greekLit:tlg0007.tlg015.perseus-grc1:38.1',\n 'urn:cts:greekLit:tlg0007.tlg015.perseus-grc1:38.2',\n 'urn:cts:greekLit:tlg0007.tlg015.perseus-grc1:38.3',\n 'urn:cts:greekLit:tlg0007.tlg015.perseus-grc1:38.4',\n 'urn:cts:greekLit:tlg0007.tlg015.perseus-grc1:39.1',\n 'urn:cts:greekLit:tlg0007.tlg015.perseus-grc1:39.2',\n 'urn:cts:greekLit:tlg0007.tlg015.perseus-grc1:39.3',\n 'urn:cts:greekLit:tlg0007.tlg015.perseus-grc1:39.4',\n 'urn:cts:greekLit:tlg0007.tlg015.perseus-grc1:39.5',\n 'urn:cts:greekLit:tlg0007.tlg086.perseus-grc2',\n 'urn:cts:greekLit:tlg0007.tlg087.perseus-grc1',\n 'urn:cts:greekLit:tlg0007.tlg004.perseus-grc1',\n 'urn:cts:greekLit:tlg0543.tlg001.perseus-grc1',\n 'urn:cts:greekLit:tlg0543.tlg001.perseus-grc2',\n 'http://data.perseus.org/texts/urn:cts:greekLit:tlg0032.tlg015.perseus-grc1',\n 'http://perseids.org/annotsrc/urn:cts:greekLit:tlg0003.tlg001.perseus-grc1',\n 'urn:cts:greekLit:tlg0003.tlg001.perseus-grc1',\n 'http://perseids.org/cts5/nemo/citations/urn:cts:greekLit:tlg0003.tlg001.perseus-grc2',\n 'urn:cts:greekLit:tlg0032.tlg007.perseus-grc1',\n '0032-007',\n 'urn:cts:greekLit:tlg0032.tlg007.perseus-grc2',\n 'urn:cts:greekLit:tlg0032.tlg001.perseus-grc1',\n 'urn:cts:greekLit:tlg0032.tlg001.perseus-grc2']"
     },
     "execution_count": 69,
     "metadata": {},
     "output_type": "execute_result"
    }
   ],
   "source": [
    "gorman_df[\"doc_id_raw\"].unique().tolist()"
   ],
   "metadata": {
    "collapsed": false,
    "ExecuteTime": {
     "end_time": "2024-01-16T21:38:32.390528Z",
     "start_time": "2024-01-16T21:38:32.385005Z"
    }
   },
   "execution_count": 69
  },
  {
   "cell_type": "code",
   "outputs": [],
   "source": [
    "def find_match(x):\n",
    "    doc_id = None\n",
    "    match = re.search(\"tlg\\d{4}\\.tlg\\d{3}\", x)\n",
    "    if match:\n",
    "        doc_id = match.group()\n",
    "    else:\n",
    "        match = re.search(\"(\\d{4})\\-(\\d{3})\", x)\n",
    "        if match:\n",
    "            doc_id = \"tlg\" + match.groups()[0] + \".tlg\" + match.groups()[1]\n",
    "    return doc_id\n",
    "\n",
    "gorman_df[\"doc_id\"] = gorman_df[\"doc_id_raw\"].apply(find_match)"
   ],
   "metadata": {
    "collapsed": false,
    "ExecuteTime": {
     "end_time": "2024-01-16T21:38:32.454148Z",
     "start_time": "2024-01-16T21:38:32.391347Z"
    }
   },
   "execution_count": 70
  },
  {
   "cell_type": "code",
   "outputs": [
    {
     "data": {
      "text/plain": "array(['aeschines-1-1-50-bu1.xml', 'aeschines-1-101-150-bu1.xml',\n       'aeschines-1-151-196-bu1.xml', 'aeschines-1-51-100-bu1.xml',\n       'antiphon-1-bu2.xml', 'antiphon-2-bu2.xml', 'antiphon-5-bu2.xml',\n       'antiphon-6-bu2.xml', 'appian-bc-1-0-1-4-bu1.xml',\n       'appian-bc-1-11-14-bu1.xml', 'appian-bc-1-5-7-bu1.xml',\n       'appian-bc-1-8-10-bu1.xml', 'aristotle-politics-book-1-bu1.xml',\n       'aristotle-politics-book-2-bu2.xml', 'athen12-1-9-2019.xml',\n       'athen12-10-19-2019.xml', 'athen12-20-29-2019.xml',\n       'athen12-20-29-jan-15.xml', 'athen12-30-39-2019.xml',\n       'athen12-30-39-jan-15.xml', 'athen12-40-49-2019.xml',\n       'athen12-40-49-jan-15.xml', 'athen12-50-59-2019.xml',\n       'athen12-50-59-jan-15.xml', 'athen12-60-69-2019.xml',\n       'athen12-60-69-jan-15.xml', 'athen12-70-81-2019.xml',\n       'athen12-70-81-jan-15.xml', 'athen13-1-9-2019.xml',\n       'athen13-1-9-jan-15.xml', 'athen13-10-19-2019.xml',\n       'athen13-10-19-jan-15.xml', 'athen13-20-29-2019.xml',\n       'athen13-20-29-jan-15.xml', 'athen13-30-39-2019.xml',\n       'athen13-30-39-jan-15.xml', 'athen13-40-49-2019.xml',\n       'athen13-40-49-jan-15.xml', 'athen13-50-59-2019.xml',\n       'athen13-50-59-jan-15.xml', 'athen13-60-69-2019.xml',\n       'athen13-60-69-jan-15.xml', 'athen13-70-79-2019.xml',\n       'athen13-70-79-jan-15.xml', 'athen13-80-89-2019.xml',\n       'athen13-80-89-jan-15.xml', 'athen13-90-95-2019.xml',\n       'athen13-90-95-jan-15.xml', 'dem-59-neaira-2019.xml',\n       'demosthenes-1-bu1.xml', 'demosthenes-18-1-50-bu2.xml',\n       'demosthenes-18-101-150-bu2.xml', 'demosthenes-18-151-200-bu2.xml',\n       'demosthenes-18-201-275-bu1.xml', 'demosthenes-18-276-324-bu1.xml',\n       'demosthenes-18-51-100-bu1.xml', 'demosthenes-4-phil1-bu1.xml',\n       'demosthenes-46-tree.xml', 'demosthenes-47-tree.xml',\n       'demosthenes-49-tree.xml', 'demosthenes-50-tree.xml',\n       'demosthenes-52-tree.xml', 'demosthenes-53-tree.xml',\n       'diodsic-11-1-20-bu4.xml', 'diodsic-11-81-92-bu1.xml',\n       'diodsic11-21-40-bu2.xml', 'diodsic11-41-60-bu1.xml',\n       'diodsic11-61-80-bu1.xml', 'dion-hal-1-1-15-bu2.xml',\n       'dion-hal-1-16-30-bu1.xml', 'dion-hal-1-31-45-bu1.xml',\n       'dion-hal-1-46-60-bu1.xml', 'dion-hal-1-61-75-bu1.xml',\n       'dion-hal-1-76-90-bu1.xml', 'hdt-1-1-19-bu3-2019.xml',\n       'hdt-1-100-119-bu3-2019.xml', 'hdt-1-120-149-bu2-2019.xml',\n       'hdt-1-150-169-bu3-2019.xml', 'hdt-1-170-189-bu2-2019.xml',\n       'hdt-1-190-216-bu2-2019.xml', 'hdt-1-20-39-bu2-2019.xml',\n       'hdt-1-40-59-bu2-2019.xml', 'hdt-1-60-79-bu2-2019.xml',\n       'hdt-1-80-99-bu5-2019.xml', 'josephus-bj-1-1-2-bu1.xml',\n       'josephus-bj-1-11-15-bu1.xml', 'josephus-bj-1-16-20-bu1.xml',\n       'josephus-bj-1-21-25-bu1.xml', 'josephus-bj-1-3-5-bu2.xml',\n       'josephus-bj-1-6-10-bu1.xml', 'lysias-1-bu1.xml',\n       'lysias-12-bu1.xml', 'lysias-13-bu1.xml', 'lysias-14-bu1.xml',\n       'lysias-15.xml', 'lysias-19-bu1.xml', 'lysias-23-bu1.xml',\n       'plato-apology.xml', 'plut-alcib-1-17-bu1.xml',\n       'plut-alcib-18-39-bu1.xml', 'plut-fortuna-romanorum-bu1.xml',\n       'plutarch-alex-fort-aut-virt-bu2.xml',\n       'plutarch-lycurgus-1-15-bu4.xml',\n       'plutarch-lycurgus-16-31-bu2.xml', 'polybius-10-1-10-bu1.xml',\n       'polybius-10-11-20-bu1.xml', 'polybius-10-21-35-bu2.xml',\n       'polybius-10-36-49-bu1.xml', 'polybius-2-1-10-bu1.xml',\n       'polybius-2-11-20-bu1.xml', 'polybius-2-21-30-bu2.xml',\n       'polybius-2-31-40-bu2.xml', 'polybius-2-41-50-bu1.xml',\n       'polybius-2-51-60-bu1.xml', 'polybius-2-61-71-bu2.xml',\n       'polybius-21-1-10-bu1.xml', 'polybius-21-11-20-bu1.xml',\n       'polybius-21-21-30-bu1.xml', 'polybius-21-31-47-bu1.xml',\n       'polybius-6-16-30-bu1.xml', 'polybius-6-2-15-bu1.xml',\n       'polybius-6-31-45-bu1.xml', 'polybius-6-46-58-bu1.xml',\n       'polybius-9-1-20-bu1.xml', 'polybius-9-21-33-bu1.xml',\n       'polybius-9-34-45-bu1.xml', 'polybius1-1-9-2017.xml',\n       'polybius1-10-19-2017.xml', 'polybius1-20-29-2017.xml',\n       'polybius1-30-39-2017.xml', 'polybius1-40-49-2017.xml',\n       'polybius1-50-59-2017.xml', 'polybius1-60-69-2017.xml',\n       'polybius1-70-79-2017.xml', 'polybius1-80-88-2017.xml',\n       'ps-xen-ath-pol-bu2.xml', 'thuc-1-1-20-bu5.xml',\n       'thuc-1-101-120-bu2.xml', 'thuc-1-121-146-bu3.xml',\n       'thuc-1-21-40-bu4.xml', 'thuc-1-41-60-bu3.xml',\n       'thuc-1-61-80-bu3.xml', 'thuc-1-81-100-bu2.xml',\n       'thuc-3-1-20-bu1.xml', 'thuc-3-21-40-bu1.xml',\n       'xen-cyr-1-1-2-bu1.xml', 'xen-cyr-1-3-4-bu1.xml',\n       'xen-cyr-1-5-bu1.xml', 'xen-cyr-1-6-bu1.xml',\n       'xen-cyr-7-1-3-tree.xml', 'xen-cyr-7-4-5-tree.xml',\n       'xen-cyr-8-1-8-4-bu1.xml', 'xen-cyr-8-5-7-bu1.xml',\n       'xen-cyr-8-8-bu1.xml', 'xen-hell-1-1-4-bu2.xml',\n       'xen-hell-1-5-7-bu1.xml', 'xen-hell-2-bu1.xml',\n       'xen-hell-3-bu1.xml'], dtype=object)"
     },
     "execution_count": 71,
     "metadata": {},
     "output_type": "execute_result"
    }
   ],
   "source": [
    "gorman_df.sort_values(\"path\")[\"path\"].unique()"
   ],
   "metadata": {
    "collapsed": false,
    "ExecuteTime": {
     "end_time": "2024-01-16T21:38:32.456911Z",
     "start_time": "2024-01-16T21:38:32.416256Z"
    }
   },
   "execution_count": 71
  },
  {
   "cell_type": "code",
   "outputs": [],
   "source": [
    "docs_paths_dict = {}\n",
    "for doc_id in gorman_df[\"doc_id\"].unique():\n",
    "    docs_paths_dict[doc_id] = gorman_df[gorman_df[\"doc_id\"]==doc_id][\"path\"].unique().tolist()"
   ],
   "metadata": {
    "collapsed": false,
    "ExecuteTime": {
     "end_time": "2024-01-16T21:38:32.503264Z",
     "start_time": "2024-01-16T21:38:32.441990Z"
    }
   },
   "execution_count": 72
  },
  {
   "cell_type": "code",
   "outputs": [],
   "source": [
    "for_manual_sorting = \"\"\n",
    "for key, val in docs_paths_dict.items():\n",
    "    \n",
    "    if len(val)>1:\n",
    "        for_manual_sorting += \"\\ndocs_paths_dict[\\\"\" + key + \"\\\"] = \" + str(sorted(val))"
   ],
   "metadata": {
    "collapsed": false,
    "ExecuteTime": {
     "end_time": "2024-01-16T21:38:32.506986Z",
     "start_time": "2024-01-16T21:38:32.503973Z"
    }
   },
   "execution_count": 73
  },
  {
   "cell_type": "code",
   "outputs": [
    {
     "name": "stdout",
     "output_type": "stream",
     "text": [
      "\n",
      "docs_paths_dict[\"tlg0026.tlg001\"] = ['aeschines-1-1-50-bu1.xml', 'aeschines-1-101-150-bu1.xml', 'aeschines-1-151-196-bu1.xml', 'aeschines-1-51-100-bu1.xml']\n",
      "docs_paths_dict[\"tlg0551.tlg017\"] = ['appian-bc-1-0-1-4-bu1.xml', 'appian-bc-1-11-14-bu1.xml', 'appian-bc-1-5-7-bu1.xml', 'appian-bc-1-8-10-bu1.xml']\n",
      "docs_paths_dict[\"tlg0086.tlg035\"] = ['aristotle-politics-book-1-bu1.xml', 'aristotle-politics-book-2-bu2.xml']\n",
      "docs_paths_dict[\"tlg0008.tlg001\"] = ['athen12-1-9-2019.xml', 'athen12-10-19-2019.xml', 'athen12-20-29-2019.xml', 'athen12-20-29-jan-15.xml', 'athen12-30-39-2019.xml', 'athen12-30-39-jan-15.xml', 'athen12-40-49-2019.xml', 'athen12-40-49-jan-15.xml', 'athen12-50-59-2019.xml', 'athen12-50-59-jan-15.xml', 'athen12-60-69-2019.xml', 'athen12-60-69-jan-15.xml', 'athen12-70-81-2019.xml', 'athen12-70-81-jan-15.xml', 'athen13-1-9-2019.xml', 'athen13-1-9-jan-15.xml', 'athen13-10-19-2019.xml', 'athen13-10-19-jan-15.xml', 'athen13-20-29-2019.xml', 'athen13-20-29-jan-15.xml', 'athen13-30-39-2019.xml', 'athen13-30-39-jan-15.xml', 'athen13-40-49-2019.xml', 'athen13-40-49-jan-15.xml', 'athen13-50-59-2019.xml', 'athen13-50-59-jan-15.xml', 'athen13-60-69-2019.xml', 'athen13-60-69-jan-15.xml', 'athen13-70-79-2019.xml', 'athen13-70-79-jan-15.xml', 'athen13-80-89-2019.xml', 'athen13-80-89-jan-15.xml', 'athen13-90-95-2019.xml', 'athen13-90-95-jan-15.xml']\n",
      "docs_paths_dict[\"tlg0014.tlg018\"] = ['demosthenes-18-1-50-bu2.xml', 'demosthenes-18-101-150-bu2.xml', 'demosthenes-18-151-200-bu2.xml', 'demosthenes-18-201-275-bu1.xml', 'demosthenes-18-276-324-bu1.xml', 'demosthenes-18-51-100-bu1.xml']\n",
      "docs_paths_dict[\"tlg0060.tlg001\"] = ['diodsic-11-1-20-bu4.xml', 'diodsic-11-81-92-bu1.xml', 'diodsic11-21-40-bu2.xml', 'diodsic11-41-60-bu1.xml', 'diodsic11-61-80-bu1.xml']\n",
      "docs_paths_dict[\"tlg0081.tlg001\"] = ['dion-hal-1-1-15-bu2.xml', 'dion-hal-1-16-30-bu1.xml', 'dion-hal-1-31-45-bu1.xml', 'dion-hal-1-46-60-bu1.xml', 'dion-hal-1-61-75-bu1.xml', 'dion-hal-1-76-90-bu1.xml']\n",
      "docs_paths_dict[\"tlg0016.tlg001\"] = ['hdt-1-1-19-bu3-2019.xml', 'hdt-1-100-119-bu3-2019.xml', 'hdt-1-120-149-bu2-2019.xml', 'hdt-1-150-169-bu3-2019.xml', 'hdt-1-170-189-bu2-2019.xml', 'hdt-1-190-216-bu2-2019.xml', 'hdt-1-20-39-bu2-2019.xml', 'hdt-1-40-59-bu2-2019.xml', 'hdt-1-60-79-bu2-2019.xml', 'hdt-1-80-99-bu5-2019.xml']\n",
      "docs_paths_dict[\"tlg0526.tlg004\"] = ['josephus-bj-1-1-2-bu1.xml', 'josephus-bj-1-11-15-bu1.xml', 'josephus-bj-1-16-20-bu1.xml', 'josephus-bj-1-21-25-bu1.xml', 'josephus-bj-1-3-5-bu2.xml', 'josephus-bj-1-6-10-bu1.xml']\n",
      "docs_paths_dict[\"tlg0007.tlg015\"] = ['plut-alcib-1-17-bu1.xml', 'plut-alcib-18-39-bu1.xml']\n",
      "docs_paths_dict[\"tlg0007.tlg004\"] = ['plutarch-lycurgus-1-15-bu4.xml', 'plutarch-lycurgus-16-31-bu2.xml']\n",
      "docs_paths_dict[\"tlg0543.tlg001\"] = ['polybius-10-1-10-bu1.xml', 'polybius-10-11-20-bu1.xml', 'polybius-10-21-35-bu2.xml', 'polybius-10-36-49-bu1.xml', 'polybius-2-1-10-bu1.xml', 'polybius-2-11-20-bu1.xml', 'polybius-2-21-30-bu2.xml', 'polybius-2-31-40-bu2.xml', 'polybius-2-41-50-bu1.xml', 'polybius-2-51-60-bu1.xml', 'polybius-2-61-71-bu2.xml', 'polybius-21-1-10-bu1.xml', 'polybius-21-11-20-bu1.xml', 'polybius-21-21-30-bu1.xml', 'polybius-21-31-47-bu1.xml', 'polybius-6-16-30-bu1.xml', 'polybius-6-2-15-bu1.xml', 'polybius-6-31-45-bu1.xml', 'polybius-6-46-58-bu1.xml', 'polybius-9-1-20-bu1.xml', 'polybius-9-21-33-bu1.xml', 'polybius-9-34-45-bu1.xml', 'polybius1-1-9-2017.xml', 'polybius1-10-19-2017.xml', 'polybius1-20-29-2017.xml', 'polybius1-30-39-2017.xml', 'polybius1-40-49-2017.xml', 'polybius1-50-59-2017.xml', 'polybius1-60-69-2017.xml', 'polybius1-70-79-2017.xml', 'polybius1-80-88-2017.xml']\n",
      "docs_paths_dict[\"tlg0003.tlg001\"] = ['thuc-1-1-20-bu5.xml', 'thuc-1-101-120-bu2.xml', 'thuc-1-121-146-bu3.xml', 'thuc-1-21-40-bu4.xml', 'thuc-1-41-60-bu3.xml', 'thuc-1-61-80-bu3.xml', 'thuc-1-81-100-bu2.xml', 'thuc-3-1-20-bu1.xml', 'thuc-3-21-40-bu1.xml']\n",
      "docs_paths_dict[\"tlg0032.tlg007\"] = ['xen-cyr-1-1-2-bu1.xml', 'xen-cyr-1-3-4-bu1.xml', 'xen-cyr-1-5-bu1.xml', 'xen-cyr-1-6-bu1.xml', 'xen-cyr-7-1-3-tree.xml', 'xen-cyr-7-4-5-tree.xml', 'xen-cyr-8-1-8-4-bu1.xml', 'xen-cyr-8-5-7-bu1.xml', 'xen-cyr-8-8-bu1.xml']\n",
      "docs_paths_dict[\"tlg0032.tlg001\"] = ['xen-hell-1-1-4-bu2.xml', 'xen-hell-1-5-7-bu1.xml', 'xen-hell-2-bu1.xml', 'xen-hell-3-bu1.xml']\n"
     ]
    }
   ],
   "source": [
    "print(for_manual_sorting)"
   ],
   "metadata": {
    "collapsed": false,
    "ExecuteTime": {
     "end_time": "2024-01-16T21:38:32.511426Z",
     "start_time": "2024-01-16T21:38:32.508416Z"
    }
   },
   "execution_count": 74
  },
  {
   "cell_type": "code",
   "outputs": [],
   "source": [
    "docs_paths_dict[\"tlg0026.tlg001\"] = ['aeschines-1-1-50-bu1.xml', 'aeschines-1-51-100-bu1.xml', 'aeschines-1-101-150-bu1.xml', 'aeschines-1-151-196-bu1.xml']\n",
    "docs_paths_dict[\"tlg0551.tlg017\"] = ['appian-bc-1-0-1-4-bu1.xml', 'appian-bc-1-5-7-bu1.xml', 'appian-bc-1-8-10-bu1.xml', 'appian-bc-1-11-14-bu1.xml']\n",
    "docs_paths_dict[\"tlg0086.tlg035\"] = ['aristotle-politics-book-1-bu1.xml', 'aristotle-politics-book-2-bu2.xml']\n",
    "docs_paths_dict[\"tlg0008.tlg001\"] = ['athen12-1-9-2019.xml', 'athen12-10-19-2019.xml', 'athen12-20-29-2019.xml', 'athen12-30-39-2019.xml', 'athen12-40-49-2019.xml', 'athen12-50-59-2019.xml', 'athen12-60-69-2019.xml', 'athen12-70-81-2019.xml', 'athen13-1-9-2019.xml', 'athen13-10-19-2019.xml', 'athen13-20-29-2019.xml', 'athen13-30-39-2019.xml',  'athen13-40-49-2019.xml', 'athen13-50-59-2019.xml', 'athen13-60-69-2019.xml', 'athen13-70-79-2019.xml',  'athen13-80-89-2019.xml', 'athen13-90-95-2019.xml']\n",
    "docs_paths_dict[\"tlg0014.tlg018\"] = ['demosthenes-18-1-50-bu2.xml', 'demosthenes-18-51-100-bu1.xml', 'demosthenes-18-101-150-bu2.xml', 'demosthenes-18-151-200-bu2.xml', 'demosthenes-18-201-275-bu1.xml', 'demosthenes-18-276-324-bu1.xml']\n",
    "docs_paths_dict[\"tlg0060.tlg001\"] = ['diodsic-11-1-20-bu4.xml', 'diodsic11-21-40-bu2.xml', 'diodsic11-41-60-bu1.xml', 'diodsic11-61-80-bu1.xml', 'diodsic-11-81-92-bu1.xml']\n",
    "docs_paths_dict[\"tlg0081.tlg001\"] = ['dion-hal-1-1-15-bu2.xml', 'dion-hal-1-16-30-bu1.xml', 'dion-hal-1-31-45-bu1.xml', 'dion-hal-1-46-60-bu1.xml', 'dion-hal-1-61-75-bu1.xml', 'dion-hal-1-76-90-bu1.xml']\n",
    "docs_paths_dict[\"tlg0016.tlg001\"] = ['hdt-1-1-19-bu3-2019.xml', 'hdt-1-20-39-bu2-2019.xml', 'hdt-1-40-59-bu2-2019.xml', 'hdt-1-60-79-bu2-2019.xml', 'hdt-1-80-99-bu5-2019.xml', 'hdt-1-100-119-bu3-2019.xml', 'hdt-1-120-149-bu2-2019.xml', 'hdt-1-150-169-bu3-2019.xml', 'hdt-1-170-189-bu2-2019.xml', 'hdt-1-190-216-bu2-2019.xml']\n",
    "docs_paths_dict[\"tlg0526.tlg004\"] = ['josephus-bj-1-1-2-bu1.xml',  'josephus-bj-1-3-5-bu2.xml', 'josephus-bj-1-6-10-bu1.xml', 'josephus-bj-1-11-15-bu1.xml', 'josephus-bj-1-16-20-bu1.xml', 'josephus-bj-1-21-25-bu1.xml']\n",
    "docs_paths_dict[\"tlg0007.tlg015\"] = ['plut-alcib-1-17-bu1.xml', 'plut-alcib-18-39-bu1.xml']\n",
    "docs_paths_dict[\"tlg0007.tlg004\"] = ['plutarch-lycurgus-1-15-bu4.xml', 'plutarch-lycurgus-16-31-bu2.xml']\n",
    "#docs_paths_dict[\"tlg0543.tlg001\"] = ['polybius1-1-9-2017.xml', 'polybius1-10-19-2017.xml', 'polybius1-20-29-2017.xml', 'polybius1-30-39-2017.xml', 'polybius1-40-49-2017.xml', 'polybius1-50-59-2017.xml', 'polybius1-60-69-2017.xml', 'polybius1-70-79-2017.xml', 'polybius1-80-88-2017.xml', 'polybius-2-1-10-bu1.xml', 'polybius-2-11-20-bu1.xml', 'polybius-2-21-30-bu2.xml', 'polybius-2-31-40-bu2.xml', 'polybius-2-41-50-bu1.xml', 'polybius-2-51-60-bu1.xml', 'polybius-2-61-71-bu2.xml', 'polybius-6-2-15-bu1.xml', 'polybius-6-16-30-bu1.xml', 'polybius-6-31-45-bu1.xml', 'polybius-6-46-58-bu1.xml', 'polybius-9-1-20-bu1.xml', 'polybius-9-21-33-bu1.xml', 'polybius-9-34-45-bu1.xml','polybius-10-1-10-bu1.xml', 'polybius-10-11-20-bu1.xml', 'polybius-10-21-35-bu2.xml', 'polybius-10-36-49-bu1.xml' 'polybius-21-1-10-bu1.xml', 'polybius-21-11-20-bu1.xml', 'polybius-21-21-30-bu1.xml', 'polybius-21-31-47-bu1.xml']\n",
    "#docs_paths_dict[\"tlg0003.tlg001\"] = ['thuc-1-1-20-bu5.xml', 'thuc-1-21-40-bu4.xml', 'thuc-1-41-60-bu3.xml', 'thuc-1-61-80-bu3.xml', 'thuc-1-81-100-bu2.xml','thuc-1-101-120-bu2.xml', 'thuc-1-121-146-bu3.xml' 'thuc-3-1-20-bu1.xml', 'thuc-3-21-40-bu1.xml']\n",
    "docs_paths_dict[\"tlg0032.tlg007\"] = ['xen-cyr-1-1-2-bu1.xml', 'xen-cyr-1-3-4-bu1.xml', 'xen-cyr-1-5-bu1.xml', 'xen-cyr-1-6-bu1.xml', 'xen-cyr-7-1-3-tree.xml', 'xen-cyr-7-4-5-tree.xml', 'xen-cyr-8-1-8-4-bu1.xml', 'xen-cyr-8-5-7-bu1.xml', 'xen-cyr-8-8-bu1.xml']\n",
    "docs_paths_dict[\"tlg0032.tlg001\"] = ['xen-hell-1-1-4-bu2.xml', 'xen-hell-1-5-7-bu1.xml', 'xen-hell-2-bu1.xml', 'xen-hell-3-bu1.xml']"
   ],
   "metadata": {
    "collapsed": false,
    "ExecuteTime": {
     "end_time": "2024-01-16T21:38:32.517348Z",
     "start_time": "2024-01-16T21:38:32.514998Z"
    }
   },
   "execution_count": 75
  },
  {
   "cell_type": "code",
   "outputs": [],
   "source": [
    "def get_gorman_sentences(doc_id, lemmatized_sentences):\n",
    "    if lemmatized_sentences == None:\n",
    "        if doc_id in docs_paths_dict.keys():\n",
    "            key = doc_id\n",
    "            lemmatized_sentences = []\n",
    "            subset = gorman_df[gorman_df[\"doc_id\"]==key]\n",
    "            for path in docs_paths_dict[key]:\n",
    "                lemmatized_sentences.extend(subset[subset[\"path\"]==path].sort_values(\"subdoc\")[\"sentence\"].tolist())\n",
    "            lemmata_source_dict[doc_id] = \"gorman\"\n",
    "    return lemmatized_sentences\n",
    "\n",
    "LAGT[\"lemmatized_sentences\"] = LAGT.apply(lambda row: get_gorman_sentences(row[\"doc_id\"], row[\"lemmatized_sentences\"]), axis=1)"
   ],
   "metadata": {
    "collapsed": false,
    "ExecuteTime": {
     "end_time": "2024-01-16T21:38:32.535870Z",
     "start_time": "2024-01-16T21:38:32.527585Z"
    }
   },
   "execution_count": 76
  },
  {
   "cell_type": "code",
   "outputs": [
    {
     "data": {
      "text/plain": "953"
     },
     "execution_count": 77,
     "metadata": {},
     "output_type": "execute_result"
    }
   ],
   "source": [
    "LAGT[\"lemmatized_sentences\"].notnull().sum()"
   ],
   "metadata": {
    "collapsed": false,
    "ExecuteTime": {
     "end_time": "2024-01-16T21:38:32.540650Z",
     "start_time": "2024-01-16T21:38:32.537832Z"
    }
   },
   "execution_count": 77
  },
  {
   "cell_type": "markdown",
   "source": [
    "### AGDT"
   ],
   "metadata": {
    "collapsed": false
   }
  },
  {
   "cell_type": "code",
   "outputs": [
    {
     "name": "stdout",
     "output_type": "stream",
     "text": [
      "  % Total    % Received % Xferd  Average Speed   Time    Time     Time  Current\r\n",
      "                                 Dload  Upload   Total   Spent    Left  Speed\r\n",
      "  0     0    0     0    0     0      0      0 --:--:-- --:--:-- --:--:--     0\r\n",
      "100 40.9M    0 40.9M    0     0   506k      0 --:--:--  0:01:22 --:--:-- 3365k7 --:--:-- 28316    0 --:--:--  0:00:28 --:--:--  6637--:--:--  0:01:15 --:--:-- 2995k\r\n",
      "Archive:  ../data/large_files/AGDT/agdt.zip\r\n",
      "92de910336e5ea20e9acafbd82be9ad937d53000\r\n",
      "   creating: ../data/large_files/AGDT/PerseusDL-treebank_data-92de910/\r\n",
      "   creating: ../data/large_files/AGDT/PerseusDL-treebank_data-92de910/AGDT2/\r\n",
      "   creating: ../data/large_files/AGDT/PerseusDL-treebank_data-92de910/AGDT2/corpus/\r\n",
      "  inflating: ../data/large_files/AGDT/PerseusDL-treebank_data-92de910/AGDT2/corpus/liveannotations.md  \r\n",
      "  inflating: ../data/large_files/AGDT/PerseusDL-treebank_data-92de910/AGDT2/corpus/readme.md  \r\n",
      "   creating: ../data/large_files/AGDT/PerseusDL-treebank_data-92de910/AGDT2/corpus/stableannotations/\r\n",
      "   creating: ../data/large_files/AGDT/PerseusDL-treebank_data-92de910/AGDT2/corpus/stableannotations/Aesop/\r\n",
      "   creating: ../data/large_files/AGDT/PerseusDL-treebank_data-92de910/AGDT2/corpus/stableannotations/Aesop/Aesop_1-8/\r\n",
      "  inflating: ../data/large_files/AGDT/PerseusDL-treebank_data-92de910/AGDT2/corpus/stableannotations/Aesop/Aesop_1-8/Aesop_1-8.xml  \r\n",
      "  inflating: ../data/large_files/AGDT/PerseusDL-treebank_data-92de910/AGDT2/corpus/stableannotations/Aesop/Aesop_1-8/inter-coder_agreement_1-8.md  \r\n",
      "  inflating: ../data/large_files/AGDT/PerseusDL-treebank_data-92de910/AGDT2/corpus/stableannotations/Aesop/Aesop_1-8/text_1st_annotator_1-8.xml  \r\n",
      "  inflating: ../data/large_files/AGDT/PerseusDL-treebank_data-92de910/AGDT2/corpus/stableannotations/Aesop/Aesop_1-8/text_2nd_annotator_1-8.xml  \r\n",
      "   creating: ../data/large_files/AGDT/PerseusDL-treebank_data-92de910/AGDT2/corpus/stableannotations/Aesop/Aesop_31-50/\r\n",
      "  inflating: ../data/large_files/AGDT/PerseusDL-treebank_data-92de910/AGDT2/corpus/stableannotations/Aesop/Aesop_31-50/Aesop_31-50.xml  \r\n",
      "  inflating: ../data/large_files/AGDT/PerseusDL-treebank_data-92de910/AGDT2/corpus/stableannotations/Aesop/Aesop_31-50/Aesop_31-50_xml.xml  \r\n",
      "  inflating: ../data/large_files/AGDT/PerseusDL-treebank_data-92de910/AGDT2/corpus/stableannotations/Aesop/Aesop_31-50/inter-coder_agreement_31-50.md  \r\n",
      "  inflating: ../data/large_files/AGDT/PerseusDL-treebank_data-92de910/AGDT2/corpus/stableannotations/Aesop/Aesop_31-50/text_1st_annotator_31-50.xml  \r\n",
      "  inflating: ../data/large_files/AGDT/PerseusDL-treebank_data-92de910/AGDT2/corpus/stableannotations/Aesop/Aesop_31-50/text_2nd_annotator_31-50.xml  \r\n",
      "   creating: ../data/large_files/AGDT/PerseusDL-treebank_data-92de910/AGDT2/corpus/stableannotations/Aesop/Aesop_9-30/\r\n",
      "  inflating: ../data/large_files/AGDT/PerseusDL-treebank_data-92de910/AGDT2/corpus/stableannotations/Aesop/Aesop_9-30/Aesop_9-30.xml  \r\n",
      "  inflating: ../data/large_files/AGDT/PerseusDL-treebank_data-92de910/AGDT2/corpus/stableannotations/Aesop/Aesop_9-30/inter-coder_agreement_9-30.md  \r\n",
      "  inflating: ../data/large_files/AGDT/PerseusDL-treebank_data-92de910/AGDT2/corpus/stableannotations/Aesop/Aesop_9-30/text_1st_annotator_9-30.xml  \r\n",
      "  inflating: ../data/large_files/AGDT/PerseusDL-treebank_data-92de910/AGDT2/corpus/stableannotations/Aesop/Aesop_9-30/text_2nd_annotator_9-30.xml  \r\n",
      "   creating: ../data/large_files/AGDT/PerseusDL-treebank_data-92de910/AGDT2/corpus/stableannotations/P-Apollodorus/\r\n",
      "   creating: ../data/large_files/AGDT/PerseusDL-treebank_data-92de910/AGDT2/corpus/stableannotations/P-Apollodorus/P-Apollodorus_1.1.1-1.4.1/\r\n",
      "  inflating: ../data/large_files/AGDT/PerseusDL-treebank_data-92de910/AGDT2/corpus/stableannotations/P-Apollodorus/P-Apollodorus_1.1.1-1.4.1/P-Apollodorus_1.1.1-1.4.1.xml  \r\n",
      "  inflating: ../data/large_files/AGDT/PerseusDL-treebank_data-92de910/AGDT2/corpus/stableannotations/P-Apollodorus/P-Apollodorus_1.1.1-1.4.1/inter-coder_agreement_1.1.1-1.4.1.md  \r\n",
      "  inflating: ../data/large_files/AGDT/PerseusDL-treebank_data-92de910/AGDT2/corpus/stableannotations/P-Apollodorus/P-Apollodorus_1.1.1-1.4.1/text_1st_annotator_1.1.1-1.4.1.xml  \r\n",
      "  inflating: ../data/large_files/AGDT/PerseusDL-treebank_data-92de910/AGDT2/corpus/stableannotations/P-Apollodorus/P-Apollodorus_1.1.1-1.4.1/text_2nd_annotator_1.1.1-1.4.1.xml  \r\n",
      "  inflating: ../data/large_files/AGDT/PerseusDL-treebank_data-92de910/AGDT2/corpus/stableannotations/readme.md  \r\n",
      "   creating: ../data/large_files/AGDT/PerseusDL-treebank_data-92de910/AGDT2/guidelines/\r\n",
      "  inflating: ../data/large_files/AGDT/PerseusDL-treebank_data-92de910/AGDT2/guidelines/Greek_guidelines.html  \r\n",
      "  inflating: ../data/large_files/AGDT/PerseusDL-treebank_data-92de910/AGDT2/guidelines/Greek_guidelines.md  \r\n",
      "  inflating: ../data/large_files/AGDT/PerseusDL-treebank_data-92de910/AGDT2/guidelines/readme.md  \r\n",
      "  inflating: ../data/large_files/AGDT/PerseusDL-treebank_data-92de910/AGDT2/readme.md  \r\n",
      "  inflating: ../data/large_files/AGDT/PerseusDL-treebank_data-92de910/Gemfile  \r\n",
      "   creating: ../data/large_files/AGDT/PerseusDL-treebank_data-92de910/IGDS/\r\n",
      "  inflating: ../data/large_files/AGDT/PerseusDL-treebank_data-92de910/IGDS/IGDS_I_10_treebank.xml  \r\n",
      "  inflating: ../data/large_files/AGDT/PerseusDL-treebank_data-92de910/IGDS/IGDS_I_11_treebank.xml  \r\n",
      "  inflating: ../data/large_files/AGDT/PerseusDL-treebank_data-92de910/IGDS/IGDS_I_12_treebank.xml  \r\n",
      "  inflating: ../data/large_files/AGDT/PerseusDL-treebank_data-92de910/IGDS/IGDS_I_13_treebank.xml  \r\n",
      "  inflating: ../data/large_files/AGDT/PerseusDL-treebank_data-92de910/IGDS/IGDS_I_14a_treebank.xml  \r\n",
      "  inflating: ../data/large_files/AGDT/PerseusDL-treebank_data-92de910/IGDS/IGDS_I_14b_treebank.xml  \r\n",
      "  inflating: ../data/large_files/AGDT/PerseusDL-treebank_data-92de910/IGDS/IGDS_I_16_treebank.xml  \r\n",
      "  inflating: ../data/large_files/AGDT/PerseusDL-treebank_data-92de910/IGDS/IGDS_I_17a_treebank.xml  \r\n",
      "  inflating: ../data/large_files/AGDT/PerseusDL-treebank_data-92de910/IGDS/IGDS_I_17b_treebank.xml  \r\n",
      "  inflating: ../data/large_files/AGDT/PerseusDL-treebank_data-92de910/IGDS/IGDS_I_1_treebank.xml  \r\n",
      "  inflating: ../data/large_files/AGDT/PerseusDL-treebank_data-92de910/IGDS/IGDS_I_2_treebank.xml  \r\n",
      "  inflating: ../data/large_files/AGDT/PerseusDL-treebank_data-92de910/IGDS/IGDS_I_4a_treebank.xml  \r\n",
      "  inflating: ../data/large_files/AGDT/PerseusDL-treebank_data-92de910/IGDS/IGDS_I_4b_treebank.xml  \r\n",
      "  inflating: ../data/large_files/AGDT/PerseusDL-treebank_data-92de910/IGDS/IGDS_I_5a_treebank.xml  \r\n",
      "  inflating: ../data/large_files/AGDT/PerseusDL-treebank_data-92de910/IGDS/IGDS_I_5b_treebank.xml  \r\n",
      "  inflating: ../data/large_files/AGDT/PerseusDL-treebank_data-92de910/IGDS/IGDS_I_6_treebank.xml  \r\n",
      "  inflating: ../data/large_files/AGDT/PerseusDL-treebank_data-92de910/IGDS/IGDS_I_7_treebank.xml  \r\n",
      "  inflating: ../data/large_files/AGDT/PerseusDL-treebank_data-92de910/IGDS/IGDS_I_8_treebank.xml  \r\n",
      "  inflating: ../data/large_files/AGDT/PerseusDL-treebank_data-92de910/IGDS/IGDS_I_9_treebank.xml  \r\n",
      "  inflating: ../data/large_files/AGDT/PerseusDL-treebank_data-92de910/IGDS/README.md  \r\n",
      "  inflating: ../data/large_files/AGDT/PerseusDL-treebank_data-92de910/README.md  \r\n",
      "  inflating: ../data/large_files/AGDT/PerseusDL-treebank_data-92de910/Rakefile  \r\n",
      "  inflating: ../data/large_files/AGDT/PerseusDL-treebank_data-92de910/relatedTechnologies.md  \r\n",
      "   creating: ../data/large_files/AGDT/PerseusDL-treebank_data-92de910/transformations/\r\n",
      "  inflating: ../data/large_files/AGDT/PerseusDL-treebank_data-92de910/transformations/stripannotations.xsl  \r\n",
      "   creating: ../data/large_files/AGDT/PerseusDL-treebank_data-92de910/v1.6/\r\n",
      "  inflating: ../data/large_files/AGDT/PerseusDL-treebank_data-92de910/v1.6/README.md  \r\n",
      "   creating: ../data/large_files/AGDT/PerseusDL-treebank_data-92de910/v1.6/greek/\r\n",
      "   creating: ../data/large_files/AGDT/PerseusDL-treebank_data-92de910/v1.6/greek/data/\r\n",
      "  inflating: ../data/large_files/AGDT/PerseusDL-treebank_data-92de910/v1.6/greek/data/tlg0003.tlg001.perseus-grc1.1.tb.xml  \r\n",
      "  inflating: ../data/large_files/AGDT/PerseusDL-treebank_data-92de910/v1.6/greek/data/tlg0007.tlg004.perseus-grc1.tb.xml  \r\n",
      "  inflating: ../data/large_files/AGDT/PerseusDL-treebank_data-92de910/v1.6/greek/data/tlg0007.tlg015.perseus-grc1.tb.xml  \r\n",
      "  inflating: ../data/large_files/AGDT/PerseusDL-treebank_data-92de910/v1.6/greek/data/tlg0008.tlg001.perseus-grc1.12.tb.xml  \r\n",
      "  inflating: ../data/large_files/AGDT/PerseusDL-treebank_data-92de910/v1.6/greek/data/tlg0008.tlg001.perseus-grc1.13.tb.xml  \r\n",
      "  inflating: ../data/large_files/AGDT/PerseusDL-treebank_data-92de910/v1.6/greek/data/tlg0008.tlg001.perseus-grc1.tb.xml  \r\n",
      "  inflating: ../data/large_files/AGDT/PerseusDL-treebank_data-92de910/v1.6/greek/data/tlg0011.tlg001.perseus-grc2.tb.xml  \r\n",
      "  inflating: ../data/large_files/AGDT/PerseusDL-treebank_data-92de910/v1.6/greek/data/tlg0011.tlg002.perseus-grc2.tb.xml  \r\n",
      "  inflating: ../data/large_files/AGDT/PerseusDL-treebank_data-92de910/v1.6/greek/data/tlg0011.tlg003.perseus-grc1.tb.xml  \r\n",
      "  inflating: ../data/large_files/AGDT/PerseusDL-treebank_data-92de910/v1.6/greek/data/tlg0011.tlg004.perseus-grc1.tb.xml  \r\n",
      "  inflating: ../data/large_files/AGDT/PerseusDL-treebank_data-92de910/v1.6/greek/data/tlg0011.tlg005.perseus-grc2.tb.xml  \r\n",
      "  inflating: ../data/large_files/AGDT/PerseusDL-treebank_data-92de910/v1.6/greek/data/tlg0012.tlg001.perseus-grc1_1.tb.xml  \r\n",
      "  inflating: ../data/large_files/AGDT/PerseusDL-treebank_data-92de910/v1.6/greek/data/tlg0012.tlg001.perseus-grc1_10.tb.xml  \r\n",
      "  inflating: ../data/large_files/AGDT/PerseusDL-treebank_data-92de910/v1.6/greek/data/tlg0012.tlg001.perseus-grc1_11.tb.xml  \r\n",
      "  inflating: ../data/large_files/AGDT/PerseusDL-treebank_data-92de910/v1.6/greek/data/tlg0012.tlg001.perseus-grc1_12.tb.xml  \r\n",
      "  inflating: ../data/large_files/AGDT/PerseusDL-treebank_data-92de910/v1.6/greek/data/tlg0012.tlg001.perseus-grc1_13.tb.xml  \r\n",
      "  inflating: ../data/large_files/AGDT/PerseusDL-treebank_data-92de910/v1.6/greek/data/tlg0012.tlg001.perseus-grc1_14.tb.xml  \r\n",
      "  inflating: ../data/large_files/AGDT/PerseusDL-treebank_data-92de910/v1.6/greek/data/tlg0012.tlg001.perseus-grc1_15.tb.xml  \r\n",
      "  inflating: ../data/large_files/AGDT/PerseusDL-treebank_data-92de910/v1.6/greek/data/tlg0012.tlg001.perseus-grc1_16.tb.xml  \r\n",
      "  inflating: ../data/large_files/AGDT/PerseusDL-treebank_data-92de910/v1.6/greek/data/tlg0012.tlg001.perseus-grc1_17.tb.xml  \r\n",
      "  inflating: ../data/large_files/AGDT/PerseusDL-treebank_data-92de910/v1.6/greek/data/tlg0012.tlg001.perseus-grc1_18.tb.xml  \r\n",
      "  inflating: ../data/large_files/AGDT/PerseusDL-treebank_data-92de910/v1.6/greek/data/tlg0012.tlg001.perseus-grc1_19.tb.xml  \r\n",
      "  inflating: ../data/large_files/AGDT/PerseusDL-treebank_data-92de910/v1.6/greek/data/tlg0012.tlg001.perseus-grc1_2.tb.xml  \r\n",
      "  inflating: ../data/large_files/AGDT/PerseusDL-treebank_data-92de910/v1.6/greek/data/tlg0012.tlg001.perseus-grc1_20.tb.xml  \r\n",
      "  inflating: ../data/large_files/AGDT/PerseusDL-treebank_data-92de910/v1.6/greek/data/tlg0012.tlg001.perseus-grc1_21.tb.xml  \r\n",
      "  inflating: ../data/large_files/AGDT/PerseusDL-treebank_data-92de910/v1.6/greek/data/tlg0012.tlg001.perseus-grc1_22.tb.xml  \r\n",
      "  inflating: ../data/large_files/AGDT/PerseusDL-treebank_data-92de910/v1.6/greek/data/tlg0012.tlg001.perseus-grc1_23.tb.xml  \r\n",
      "  inflating: ../data/large_files/AGDT/PerseusDL-treebank_data-92de910/v1.6/greek/data/tlg0012.tlg001.perseus-grc1_24.tb.xml  \r\n",
      "  inflating: ../data/large_files/AGDT/PerseusDL-treebank_data-92de910/v1.6/greek/data/tlg0012.tlg001.perseus-grc1_3.tb.xml  \r\n",
      "  inflating: ../data/large_files/AGDT/PerseusDL-treebank_data-92de910/v1.6/greek/data/tlg0012.tlg001.perseus-grc1_4.tb.xml  \r\n",
      "  inflating: ../data/large_files/AGDT/PerseusDL-treebank_data-92de910/v1.6/greek/data/tlg0012.tlg001.perseus-grc1_5.tb.xml  \r\n",
      "  inflating: ../data/large_files/AGDT/PerseusDL-treebank_data-92de910/v1.6/greek/data/tlg0012.tlg001.perseus-grc1_6.tb.xml  \r\n",
      "  inflating: ../data/large_files/AGDT/PerseusDL-treebank_data-92de910/v1.6/greek/data/tlg0012.tlg001.perseus-grc1_7.tb.xml  \r\n",
      "  inflating: ../data/large_files/AGDT/PerseusDL-treebank_data-92de910/v1.6/greek/data/tlg0012.tlg001.perseus-grc1_8.tb.xml  \r\n",
      "  inflating: ../data/large_files/AGDT/PerseusDL-treebank_data-92de910/v1.6/greek/data/tlg0012.tlg001.perseus-grc1_9.tb.xml  \r\n",
      "  inflating: ../data/large_files/AGDT/PerseusDL-treebank_data-92de910/v1.6/greek/data/tlg0012.tlg002.perseus-grc1_1.tb.xml  \r\n",
      "  inflating: ../data/large_files/AGDT/PerseusDL-treebank_data-92de910/v1.6/greek/data/tlg0012.tlg002.perseus-grc1_10.tb.xml  \r\n",
      "  inflating: ../data/large_files/AGDT/PerseusDL-treebank_data-92de910/v1.6/greek/data/tlg0012.tlg002.perseus-grc1_11.tb.xml  \r\n",
      "  inflating: ../data/large_files/AGDT/PerseusDL-treebank_data-92de910/v1.6/greek/data/tlg0012.tlg002.perseus-grc1_12.tb.xml  \r\n",
      "  inflating: ../data/large_files/AGDT/PerseusDL-treebank_data-92de910/v1.6/greek/data/tlg0012.tlg002.perseus-grc1_13.tb.xml  \r\n",
      "  inflating: ../data/large_files/AGDT/PerseusDL-treebank_data-92de910/v1.6/greek/data/tlg0012.tlg002.perseus-grc1_14.tb.xml  \r\n",
      "  inflating: ../data/large_files/AGDT/PerseusDL-treebank_data-92de910/v1.6/greek/data/tlg0012.tlg002.perseus-grc1_15.tb.xml  \r\n",
      "  inflating: ../data/large_files/AGDT/PerseusDL-treebank_data-92de910/v1.6/greek/data/tlg0012.tlg002.perseus-grc1_16.tb.xml  \r\n",
      "  inflating: ../data/large_files/AGDT/PerseusDL-treebank_data-92de910/v1.6/greek/data/tlg0012.tlg002.perseus-grc1_17.tb.xml  \r\n",
      "  inflating: ../data/large_files/AGDT/PerseusDL-treebank_data-92de910/v1.6/greek/data/tlg0012.tlg002.perseus-grc1_18.tb.xml  \r\n",
      "  inflating: ../data/large_files/AGDT/PerseusDL-treebank_data-92de910/v1.6/greek/data/tlg0012.tlg002.perseus-grc1_19.tb.xml  \r\n",
      "  inflating: ../data/large_files/AGDT/PerseusDL-treebank_data-92de910/v1.6/greek/data/tlg0012.tlg002.perseus-grc1_2.tb.xml  \r\n",
      "  inflating: ../data/large_files/AGDT/PerseusDL-treebank_data-92de910/v1.6/greek/data/tlg0012.tlg002.perseus-grc1_20.tb.xml  \r\n",
      "  inflating: ../data/large_files/AGDT/PerseusDL-treebank_data-92de910/v1.6/greek/data/tlg0012.tlg002.perseus-grc1_21.tb.xml  \r\n",
      "  inflating: ../data/large_files/AGDT/PerseusDL-treebank_data-92de910/v1.6/greek/data/tlg0012.tlg002.perseus-grc1_22.tb.xml  \r\n",
      "  inflating: ../data/large_files/AGDT/PerseusDL-treebank_data-92de910/v1.6/greek/data/tlg0012.tlg002.perseus-grc1_23.tb.xml  \r\n",
      "  inflating: ../data/large_files/AGDT/PerseusDL-treebank_data-92de910/v1.6/greek/data/tlg0012.tlg002.perseus-grc1_24.tb.xml  \r\n",
      "  inflating: ../data/large_files/AGDT/PerseusDL-treebank_data-92de910/v1.6/greek/data/tlg0012.tlg002.perseus-grc1_3.tb.xml  \r\n",
      "  inflating: ../data/large_files/AGDT/PerseusDL-treebank_data-92de910/v1.6/greek/data/tlg0012.tlg002.perseus-grc1_4.tb.xml  \r\n",
      "  inflating: ../data/large_files/AGDT/PerseusDL-treebank_data-92de910/v1.6/greek/data/tlg0012.tlg002.perseus-grc1_5.tb.xml  \r\n",
      "  inflating: ../data/large_files/AGDT/PerseusDL-treebank_data-92de910/v1.6/greek/data/tlg0012.tlg002.perseus-grc1_6.tb.xml  \r\n",
      "  inflating: ../data/large_files/AGDT/PerseusDL-treebank_data-92de910/v1.6/greek/data/tlg0012.tlg002.perseus-grc1_7.tb.xml  \r\n",
      "  inflating: ../data/large_files/AGDT/PerseusDL-treebank_data-92de910/v1.6/greek/data/tlg0012.tlg002.perseus-grc1_8.tb.xml  \r\n",
      "  inflating: ../data/large_files/AGDT/PerseusDL-treebank_data-92de910/v1.6/greek/data/tlg0012.tlg002.perseus-grc1_9.tb.xml  \r\n",
      "  inflating: ../data/large_files/AGDT/PerseusDL-treebank_data-92de910/v1.6/greek/data/tlg0016.tlg001.perseus-grc1.1.tb.xml  \r\n",
      "  inflating: ../data/large_files/AGDT/PerseusDL-treebank_data-92de910/v1.6/greek/data/tlg0020.tlg001.perseus-grc1.tb.xml  \r\n",
      "  inflating: ../data/large_files/AGDT/PerseusDL-treebank_data-92de910/v1.6/greek/data/tlg0020.tlg002.perseus-grc1.tb.xml  \r\n",
      "  inflating: ../data/large_files/AGDT/PerseusDL-treebank_data-92de910/v1.6/greek/data/tlg0020.tlg003.perseus-grc1.tb.xml  \r\n",
      "  inflating: ../data/large_files/AGDT/PerseusDL-treebank_data-92de910/v1.6/greek/data/tlg0059.tlg001.perseus-grc1.tb.xml  \r\n",
      "  inflating: ../data/large_files/AGDT/PerseusDL-treebank_data-92de910/v1.6/greek/data/tlg0060.tlg001.perseus-grc3.11.tb.xml  \r\n",
      "  inflating: ../data/large_files/AGDT/PerseusDL-treebank_data-92de910/v1.6/greek/data/tlg0085.tlg001.perseus-grc2.tb.xml  \r\n",
      "  inflating: ../data/large_files/AGDT/PerseusDL-treebank_data-92de910/v1.6/greek/data/tlg0085.tlg002.perseus-grc2.tb.xml  \r\n",
      "  inflating: ../data/large_files/AGDT/PerseusDL-treebank_data-92de910/v1.6/greek/data/tlg0085.tlg003.perseus-grc2.tb.xml  \r\n",
      "  inflating: ../data/large_files/AGDT/PerseusDL-treebank_data-92de910/v1.6/greek/data/tlg0085.tlg004.perseus-grc2.tb.xml  \r\n",
      "  inflating: ../data/large_files/AGDT/PerseusDL-treebank_data-92de910/v1.6/greek/data/tlg0085.tlg005.perseus-grc1.tb.xml  \r\n",
      "  inflating: ../data/large_files/AGDT/PerseusDL-treebank_data-92de910/v1.6/greek/data/tlg0085.tlg006.perseus-grc2.tb.xml  \r\n",
      "  inflating: ../data/large_files/AGDT/PerseusDL-treebank_data-92de910/v1.6/greek/data/tlg0085.tlg007.perseus-grc1.tb.xml  \r\n",
      "  inflating: ../data/large_files/AGDT/PerseusDL-treebank_data-92de910/v1.6/greek/data/tlg0540.tlg001.perseus-grc1.tb.xml  \r\n",
      "  inflating: ../data/large_files/AGDT/PerseusDL-treebank_data-92de910/v1.6/greek/data/tlg0540.tlg014.perseus-grc1.tb.xml  \r\n",
      "  inflating: ../data/large_files/AGDT/PerseusDL-treebank_data-92de910/v1.6/greek/data/tlg0540.tlg015.perseus-grc1.tb.xml  \r\n",
      "  inflating: ../data/large_files/AGDT/PerseusDL-treebank_data-92de910/v1.6/greek/data/tlg0540.tlg023.perseus-grc1.tb.xml  \r\n",
      "  inflating: ../data/large_files/AGDT/PerseusDL-treebank_data-92de910/v1.6/greek/data/tlg0543.tlg001.perseus-grc1.tb.xml  \r\n",
      "   creating: ../data/large_files/AGDT/PerseusDL-treebank_data-92de910/v1.6/latin/\r\n",
      "   creating: ../data/large_files/AGDT/PerseusDL-treebank_data-92de910/v1.6/latin/data/\r\n",
      "  inflating: ../data/large_files/AGDT/PerseusDL-treebank_data-92de910/v1.6/latin/data/phi0448.phi001.perseus-lat1.tb.xml  \r\n",
      "  inflating: ../data/large_files/AGDT/PerseusDL-treebank_data-92de910/v1.6/latin/data/phi0474.phi013.perseus-lat1.tb.xml  \r\n",
      "  inflating: ../data/large_files/AGDT/PerseusDL-treebank_data-92de910/v1.6/latin/data/phi0620.phi001.perseus-lat1.tb.xml  \r\n",
      "  inflating: ../data/large_files/AGDT/PerseusDL-treebank_data-92de910/v1.6/latin/data/phi0631.phi001.perseus-lat1.tb.xml  \r\n",
      "  inflating: ../data/large_files/AGDT/PerseusDL-treebank_data-92de910/v1.6/latin/data/phi0690.phi003.perseus-lat1.tb.xml  \r\n",
      "  inflating: ../data/large_files/AGDT/PerseusDL-treebank_data-92de910/v1.6/latin/data/phi0959.phi006.perseus-lat1.tb.xml  \r\n",
      "  inflating: ../data/large_files/AGDT/PerseusDL-treebank_data-92de910/v1.6/latin/data/phi0972.phi001.perseus-lat1.tb.xml  \r\n",
      "  inflating: ../data/large_files/AGDT/PerseusDL-treebank_data-92de910/v1.6/latin/data/phi1221.phi007.perseus-lat1_0-5.tb.xml  \r\n",
      "  inflating: ../data/large_files/AGDT/PerseusDL-treebank_data-92de910/v1.6/latin/data/phi1221.phi007.perseus-lat1_12-17.tb.xml  \r\n",
      "  inflating: ../data/large_files/AGDT/PerseusDL-treebank_data-92de910/v1.6/latin/data/phi1221.phi007.perseus-lat1_18-23.tb.xml  \r\n",
      "  inflating: ../data/large_files/AGDT/PerseusDL-treebank_data-92de910/v1.6/latin/data/phi1221.phi007.perseus-lat1_24-29.tb.xml  \r\n",
      "  inflating: ../data/large_files/AGDT/PerseusDL-treebank_data-92de910/v1.6/latin/data/phi1221.phi007.perseus-lat1_30-35.tb.xml  \r\n",
      "  inflating: ../data/large_files/AGDT/PerseusDL-treebank_data-92de910/v1.6/latin/data/phi1221.phi007.perseus-lat1_6-11.tb.xml  \r\n",
      "  inflating: ../data/large_files/AGDT/PerseusDL-treebank_data-92de910/v1.6/latin/data/phi1221.phi007.perseus-lat1_appendix.tb.xml  \r\n",
      "  inflating: ../data/large_files/AGDT/PerseusDL-treebank_data-92de910/v1.6/latin/data/tlg0031.tlg027.perseus-lat1.tb.xml  \r\n",
      "   creating: ../data/large_files/AGDT/PerseusDL-treebank_data-92de910/v1/\r\n",
      "   creating: ../data/large_files/AGDT/PerseusDL-treebank_data-92de910/v1/greek/\r\n",
      "   creating: ../data/large_files/AGDT/PerseusDL-treebank_data-92de910/v1/greek/data/\r\n",
      "  inflating: ../data/large_files/AGDT/PerseusDL-treebank_data-92de910/v1/greek/data/agdt-1.7.xml  \r\n",
      "  inflating: ../data/large_files/AGDT/PerseusDL-treebank_data-92de910/v1/greek/data/grctb.1.6.tb.xml  \r\n",
      "  inflating: ../data/large_files/AGDT/PerseusDL-treebank_data-92de910/v1/greek/data/grctb.2.4.tb.xml  \r\n",
      "  inflating: ../data/large_files/AGDT/PerseusDL-treebank_data-92de910/v1/greek/data/grctb.3.2.tb.xml  \r\n",
      "  inflating: ../data/large_files/AGDT/PerseusDL-treebank_data-92de910/v1/greek/data/tlg0011.tlg001.perseus-grc2.xml  \r\n",
      "  inflating: ../data/large_files/AGDT/PerseusDL-treebank_data-92de910/v1/greek/data/tlg0011.tlg002.perseus-grc2.xml  \r\n",
      "  inflating: ../data/large_files/AGDT/PerseusDL-treebank_data-92de910/v1/greek/data/tlg0011.tlg003.perseus-grc1.xml  \r\n",
      "  inflating: ../data/large_files/AGDT/PerseusDL-treebank_data-92de910/v1/greek/data/tlg0011.tlg004.perseus-grc1.xml  \r\n",
      "  inflating: ../data/large_files/AGDT/PerseusDL-treebank_data-92de910/v1/greek/data/tlg0011.tlg005.perseus-grc2.xml  \r\n",
      "  inflating: ../data/large_files/AGDT/PerseusDL-treebank_data-92de910/v1/greek/data/tlg0020.tlg001.perseus-grc1.xml  \r\n",
      "  inflating: ../data/large_files/AGDT/PerseusDL-treebank_data-92de910/v1/greek/data/tlg0020.tlg002.perseus-grc1.xml  \r\n",
      "  inflating: ../data/large_files/AGDT/PerseusDL-treebank_data-92de910/v1/greek/data/tlg0020.tlg003.perseus-grc1.xml  \r\n",
      "  inflating: ../data/large_files/AGDT/PerseusDL-treebank_data-92de910/v1/greek/data/tlg0059.tlg001.perseus-grc2.xml  \r\n",
      "  inflating: ../data/large_files/AGDT/PerseusDL-treebank_data-92de910/v1/greek/data/tlg0085.tlg001.perseus-grc2.xml  \r\n",
      "  inflating: ../data/large_files/AGDT/PerseusDL-treebank_data-92de910/v1/greek/data/tlg0085.tlg002.perseus-grc2.xml  \r\n",
      "  inflating: ../data/large_files/AGDT/PerseusDL-treebank_data-92de910/v1/greek/data/tlg0085.tlg003.perseus-grc2.xml  \r\n",
      "  inflating: ../data/large_files/AGDT/PerseusDL-treebank_data-92de910/v1/greek/data/tlg0085.tlg004.perseus-grc2.xml  \r\n",
      "  inflating: ../data/large_files/AGDT/PerseusDL-treebank_data-92de910/v1/greek/data/tlg0085.tlg005.perseus-grc1.xml  \r\n",
      "  inflating: ../data/large_files/AGDT/PerseusDL-treebank_data-92de910/v1/greek/data/tlg0085.tlg006.perseus-grc2.xml  \r\n",
      "  inflating: ../data/large_files/AGDT/PerseusDL-treebank_data-92de910/v1/greek/data/tlg0085.tlg007.perseus-grc1.xml  \r\n",
      "  inflating: ../data/large_files/AGDT/PerseusDL-treebank_data-92de910/v1/greek/data/treebank-1.5.xsd  \r\n",
      "   creating: ../data/large_files/AGDT/PerseusDL-treebank_data-92de910/v1/greek/docs/\r\n",
      "  inflating: ../data/large_files/AGDT/PerseusDL-treebank_data-92de910/v1/greek/docs/README.txt  \r\n",
      "  inflating: ../data/large_files/AGDT/PerseusDL-treebank_data-92de910/v1/greek/docs/guidelines.es.pdf  \r\n",
      "  inflating: ../data/large_files/AGDT/PerseusDL-treebank_data-92de910/v1/greek/docs/guidelines.pdf  \r\n",
      "   creating: ../data/large_files/AGDT/PerseusDL-treebank_data-92de910/v1/latin/\r\n",
      "   creating: ../data/large_files/AGDT/PerseusDL-treebank_data-92de910/v1/latin/data/\r\n",
      "  inflating: ../data/large_files/AGDT/PerseusDL-treebank_data-92de910/v1/latin/data/1999.02.0010.xml  \r\n",
      "  inflating: ../data/large_files/AGDT/PerseusDL-treebank_data-92de910/v1/latin/data/1999.02.0055.xml  \r\n",
      "  inflating: ../data/large_files/AGDT/PerseusDL-treebank_data-92de910/v1/latin/data/1999.02.0060.xml  \r\n",
      "  inflating: ../data/large_files/AGDT/PerseusDL-treebank_data-92de910/v1/latin/data/1999.02.0066.xml  \r\n",
      "  inflating: ../data/large_files/AGDT/PerseusDL-treebank_data-92de910/v1/latin/data/2007.01.0001.xml  \r\n",
      "  inflating: ../data/large_files/AGDT/PerseusDL-treebank_data-92de910/v1/latin/data/2008.01.0002.xml  \r\n",
      "  inflating: ../data/large_files/AGDT/PerseusDL-treebank_data-92de910/v1/latin/data/ldt-1.5.xml  \r\n",
      "  inflating: ../data/large_files/AGDT/PerseusDL-treebank_data-92de910/v1/latin/data/phi0448.phi001.perseus-lat1.xml  \r\n",
      "  inflating: ../data/large_files/AGDT/PerseusDL-treebank_data-92de910/v1/latin/data/phi0959.phi006.perseus-lat1.xml  \r\n",
      "  inflating: ../data/large_files/AGDT/PerseusDL-treebank_data-92de910/v1/latin/data/treebank-1.5.xsd  \r\n",
      "   creating: ../data/large_files/AGDT/PerseusDL-treebank_data-92de910/v1/latin/docs/\r\n",
      "  inflating: ../data/large_files/AGDT/PerseusDL-treebank_data-92de910/v1/latin/docs/README.txt  \r\n",
      "  inflating: ../data/large_files/AGDT/PerseusDL-treebank_data-92de910/v1/latin/docs/guidelines.pdf  \r\n",
      "   creating: ../data/large_files/AGDT/PerseusDL-treebank_data-92de910/v2.0/\r\n",
      "   creating: ../data/large_files/AGDT/PerseusDL-treebank_data-92de910/v2.0/Greek/\r\n",
      "  inflating: ../data/large_files/AGDT/PerseusDL-treebank_data-92de910/v2.0/Greek/README.MD  \r\n",
      "  inflating: ../data/large_files/AGDT/PerseusDL-treebank_data-92de910/v2.0/Greek/TAGSETS.xml  \r\n",
      "   creating: ../data/large_files/AGDT/PerseusDL-treebank_data-92de910/v2.0/Greek/nonArethusaCompliant/\r\n",
      "  inflating: ../data/large_files/AGDT/PerseusDL-treebank_data-92de910/v2.0/Greek/nonArethusaCompliant/tlg0003.tlg001.perseus-grc1.1.tb.xml  \r\n",
      "  inflating: ../data/large_files/AGDT/PerseusDL-treebank_data-92de910/v2.0/Greek/nonArethusaCompliant/tlg0007.tlg004.perseus-grc1.tb.xml  \r\n",
      "  inflating: ../data/large_files/AGDT/PerseusDL-treebank_data-92de910/v2.0/Greek/nonArethusaCompliant/tlg0007.tlg015.perseus-grc1.tb.xml  \r\n",
      "  inflating: ../data/large_files/AGDT/PerseusDL-treebank_data-92de910/v2.0/Greek/nonArethusaCompliant/tlg0008.tlg001.perseus-grc1.12.tb.xml  \r\n",
      "  inflating: ../data/large_files/AGDT/PerseusDL-treebank_data-92de910/v2.0/Greek/nonArethusaCompliant/tlg0008.tlg001.perseus-grc1.13.tb.xml  \r\n",
      "  inflating: ../data/large_files/AGDT/PerseusDL-treebank_data-92de910/v2.0/Greek/nonArethusaCompliant/tlg0011.tlg001.perseus-grc2.tb.xml  \r\n",
      "  inflating: ../data/large_files/AGDT/PerseusDL-treebank_data-92de910/v2.0/Greek/nonArethusaCompliant/tlg0011.tlg002.perseus-grc2.tb.xml  \r\n",
      "  inflating: ../data/large_files/AGDT/PerseusDL-treebank_data-92de910/v2.0/Greek/nonArethusaCompliant/tlg0011.tlg003.perseus-grc1.tb.xml  \r\n",
      "  inflating: ../data/large_files/AGDT/PerseusDL-treebank_data-92de910/v2.0/Greek/nonArethusaCompliant/tlg0011.tlg004.perseus-grc1.tb.xml  \r\n",
      "  inflating: ../data/large_files/AGDT/PerseusDL-treebank_data-92de910/v2.0/Greek/nonArethusaCompliant/tlg0011.tlg005.perseus-grc2.tb.xml  \r\n",
      "  inflating: ../data/large_files/AGDT/PerseusDL-treebank_data-92de910/v2.0/Greek/nonArethusaCompliant/tlg0012.tlg001.perseus-grc1.tb.xml  \r\n",
      "  inflating: ../data/large_files/AGDT/PerseusDL-treebank_data-92de910/v2.0/Greek/nonArethusaCompliant/tlg0012.tlg002.perseus-grc1.tb.xml  \r\n",
      "  inflating: ../data/large_files/AGDT/PerseusDL-treebank_data-92de910/v2.0/Greek/nonArethusaCompliant/tlg0013.tlg002.perseus-grc1.tb.xml  \r\n",
      "  inflating: ../data/large_files/AGDT/PerseusDL-treebank_data-92de910/v2.0/Greek/nonArethusaCompliant/tlg0016.tlg001.perseus-grc1.1.tb.xml  \r\n",
      "  inflating: ../data/large_files/AGDT/PerseusDL-treebank_data-92de910/v2.0/Greek/nonArethusaCompliant/tlg0020.tlg001.perseus-grc1.tb.xml  \r\n",
      "  inflating: ../data/large_files/AGDT/PerseusDL-treebank_data-92de910/v2.0/Greek/nonArethusaCompliant/tlg0020.tlg002.perseus-grc1.tb.xml  \r\n",
      "  inflating: ../data/large_files/AGDT/PerseusDL-treebank_data-92de910/v2.0/Greek/nonArethusaCompliant/tlg0020.tlg003.perseus-grc1.tb.xml  \r\n",
      "  inflating: ../data/large_files/AGDT/PerseusDL-treebank_data-92de910/v2.0/Greek/nonArethusaCompliant/tlg0059.tlg001.perseus-grc1.tb.xml  \r\n",
      "  inflating: ../data/large_files/AGDT/PerseusDL-treebank_data-92de910/v2.0/Greek/nonArethusaCompliant/tlg0060.tlg001.perseus-grc3.11.tb.xml  \r\n",
      "  inflating: ../data/large_files/AGDT/PerseusDL-treebank_data-92de910/v2.0/Greek/nonArethusaCompliant/tlg0085.tlg001.perseus-grc2.tb.xml  \r\n",
      "  inflating: ../data/large_files/AGDT/PerseusDL-treebank_data-92de910/v2.0/Greek/nonArethusaCompliant/tlg0085.tlg002.perseus-grc2.tb.xml  \r\n",
      "  inflating: ../data/large_files/AGDT/PerseusDL-treebank_data-92de910/v2.0/Greek/nonArethusaCompliant/tlg0085.tlg003.perseus-grc2.tb.xml  \r\n",
      "  inflating: ../data/large_files/AGDT/PerseusDL-treebank_data-92de910/v2.0/Greek/nonArethusaCompliant/tlg0085.tlg004.perseus-grc2.tb.xml  \r\n",
      "  inflating: ../data/large_files/AGDT/PerseusDL-treebank_data-92de910/v2.0/Greek/nonArethusaCompliant/tlg0085.tlg005.perseus-grc1.tb.xml  \r\n",
      "  inflating: ../data/large_files/AGDT/PerseusDL-treebank_data-92de910/v2.0/Greek/nonArethusaCompliant/tlg0085.tlg006.perseus-grc2.tb.xml  \r\n",
      "  inflating: ../data/large_files/AGDT/PerseusDL-treebank_data-92de910/v2.0/Greek/nonArethusaCompliant/tlg0085.tlg007.perseus-grc1.tb.xml  \r\n",
      "  inflating: ../data/large_files/AGDT/PerseusDL-treebank_data-92de910/v2.0/Greek/nonArethusaCompliant/tlg0096.tlg002.opp-grc2.1-53.tb.xml  \r\n",
      "  inflating: ../data/large_files/AGDT/PerseusDL-treebank_data-92de910/v2.0/Greek/nonArethusaCompliant/tlg0540.tlg001.perseus-grc1.tb.xml  \r\n",
      "  inflating: ../data/large_files/AGDT/PerseusDL-treebank_data-92de910/v2.0/Greek/nonArethusaCompliant/tlg0540.tlg014.perseus-grc1.tb.xml  \r\n",
      "  inflating: ../data/large_files/AGDT/PerseusDL-treebank_data-92de910/v2.0/Greek/nonArethusaCompliant/tlg0540.tlg015.perseus-grc1.tb.xml  \r\n",
      "  inflating: ../data/large_files/AGDT/PerseusDL-treebank_data-92de910/v2.0/Greek/nonArethusaCompliant/tlg0540.tlg023.perseus-grc1.tb.xml  \r\n",
      "  inflating: ../data/large_files/AGDT/PerseusDL-treebank_data-92de910/v2.0/Greek/nonArethusaCompliant/tlg0543.tlg001.perseus-grc1.tb.xml  \r\n",
      "  inflating: ../data/large_files/AGDT/PerseusDL-treebank_data-92de910/v2.0/Greek/nonArethusaCompliant/tlg0548.tlg001.perseus-grc1.1.1.1-1.4.1.tb.xml  \r\n",
      "   creating: ../data/large_files/AGDT/PerseusDL-treebank_data-92de910/v2.0/Latin/\r\n",
      "  inflating: ../data/large_files/AGDT/PerseusDL-treebank_data-92de910/v2.0/Latin/perseus-lattb.1248.1.xml  \r\n",
      "  inflating: ../data/large_files/AGDT/PerseusDL-treebank_data-92de910/v2.0/Latin/perseus-lattb.2219.1.xml  \r\n",
      "  inflating: ../data/large_files/AGDT/PerseusDL-treebank_data-92de910/v2.0/Latin/phi0448.phi001.perseus-lat1.tb.xml  \r\n",
      "  inflating: ../data/large_files/AGDT/PerseusDL-treebank_data-92de910/v2.0/Latin/phi0474.phi013.perseus-lat1.tb.xml  \r\n",
      "  inflating: ../data/large_files/AGDT/PerseusDL-treebank_data-92de910/v2.0/Latin/phi0620.phi001.perseus-lat1.tb.xml  \r\n",
      "  inflating: ../data/large_files/AGDT/PerseusDL-treebank_data-92de910/v2.0/Latin/phi0631.phi001.perseus-lat1.tb.xml  \r\n",
      "  inflating: ../data/large_files/AGDT/PerseusDL-treebank_data-92de910/v2.0/Latin/phi0690.phi003.perseus-lat1.tb.xml  \r\n",
      "  inflating: ../data/large_files/AGDT/PerseusDL-treebank_data-92de910/v2.0/Latin/phi0959.phi006.perseus-lat1.tb.xml  \r\n",
      "  inflating: ../data/large_files/AGDT/PerseusDL-treebank_data-92de910/v2.0/Latin/phi0972.phi001.perseus-lat1.tb.xml  \r\n",
      "  inflating: ../data/large_files/AGDT/PerseusDL-treebank_data-92de910/v2.0/Latin/tlg0031.tlg027.perseus-lat1.tb.xml  \r\n",
      "   creating: ../data/large_files/AGDT/PerseusDL-treebank_data-92de910/v2.1/\r\n",
      "   creating: ../data/large_files/AGDT/PerseusDL-treebank_data-92de910/v2.1/Greek/\r\n",
      "  inflating: ../data/large_files/AGDT/PerseusDL-treebank_data-92de910/v2.1/Greek/README.MD  \r\n",
      "  inflating: ../data/large_files/AGDT/PerseusDL-treebank_data-92de910/v2.1/Greek/TAGSETS.xml  \r\n",
      "   creating: ../data/large_files/AGDT/PerseusDL-treebank_data-92de910/v2.1/Greek/texts/\r\n",
      "  inflating: ../data/large_files/AGDT/PerseusDL-treebank_data-92de910/v2.1/Greek/texts/tlg0003.tlg001.perseus-grc1.1.tb.xml  \r\n",
      "  inflating: ../data/large_files/AGDT/PerseusDL-treebank_data-92de910/v2.1/Greek/texts/tlg0007.tlg004.perseus-grc1.tb.xml  \r\n",
      "  inflating: ../data/large_files/AGDT/PerseusDL-treebank_data-92de910/v2.1/Greek/texts/tlg0007.tlg015.perseus-grc1.tb.xml  \r\n",
      "  inflating: ../data/large_files/AGDT/PerseusDL-treebank_data-92de910/v2.1/Greek/texts/tlg0008.tlg001.perseus-grc1.12.tb.xml  \r\n",
      "  inflating: ../data/large_files/AGDT/PerseusDL-treebank_data-92de910/v2.1/Greek/texts/tlg0008.tlg001.perseus-grc1.13.tb.xml  \r\n",
      "  inflating: ../data/large_files/AGDT/PerseusDL-treebank_data-92de910/v2.1/Greek/texts/tlg0011.tlg001.perseus-grc2.tb.xml  \r\n",
      "  inflating: ../data/large_files/AGDT/PerseusDL-treebank_data-92de910/v2.1/Greek/texts/tlg0011.tlg002.perseus-grc2.tb.xml  \r\n",
      "  inflating: ../data/large_files/AGDT/PerseusDL-treebank_data-92de910/v2.1/Greek/texts/tlg0011.tlg003.perseus-grc1.tb.xml  \r\n",
      "  inflating: ../data/large_files/AGDT/PerseusDL-treebank_data-92de910/v2.1/Greek/texts/tlg0011.tlg004.perseus-grc1.tb.xml  \r\n",
      "  inflating: ../data/large_files/AGDT/PerseusDL-treebank_data-92de910/v2.1/Greek/texts/tlg0011.tlg005.perseus-grc2.tb.xml  \r\n",
      "  inflating: ../data/large_files/AGDT/PerseusDL-treebank_data-92de910/v2.1/Greek/texts/tlg0012.tlg001.perseus-grc1.tb.xml  \r\n",
      "  inflating: ../data/large_files/AGDT/PerseusDL-treebank_data-92de910/v2.1/Greek/texts/tlg0012.tlg002.perseus-grc1.tb.xml  \r\n",
      "  inflating: ../data/large_files/AGDT/PerseusDL-treebank_data-92de910/v2.1/Greek/texts/tlg0013.tlg002.perseus-grc1.tb.xml  \r\n",
      "  inflating: ../data/large_files/AGDT/PerseusDL-treebank_data-92de910/v2.1/Greek/texts/tlg0016.tlg001.perseus-grc1.1.tb.xml  \r\n",
      "  inflating: ../data/large_files/AGDT/PerseusDL-treebank_data-92de910/v2.1/Greek/texts/tlg0020.tlg001.perseus-grc1.tb.xml  \r\n",
      "  inflating: ../data/large_files/AGDT/PerseusDL-treebank_data-92de910/v2.1/Greek/texts/tlg0020.tlg002.perseus-grc1.tb.xml  \r\n",
      "  inflating: ../data/large_files/AGDT/PerseusDL-treebank_data-92de910/v2.1/Greek/texts/tlg0020.tlg003.perseus-grc1.tb.xml  \r\n",
      "  inflating: ../data/large_files/AGDT/PerseusDL-treebank_data-92de910/v2.1/Greek/texts/tlg0059.tlg001.perseus-grc1.tb.xml  \r\n",
      "  inflating: ../data/large_files/AGDT/PerseusDL-treebank_data-92de910/v2.1/Greek/texts/tlg0060.tlg001.perseus-grc3.11.tb.xml  \r\n",
      "  inflating: ../data/large_files/AGDT/PerseusDL-treebank_data-92de910/v2.1/Greek/texts/tlg0085.tlg001.perseus-grc2.tb.xml  \r\n",
      "  inflating: ../data/large_files/AGDT/PerseusDL-treebank_data-92de910/v2.1/Greek/texts/tlg0085.tlg002.perseus-grc2.tb.xml  \r\n",
      "  inflating: ../data/large_files/AGDT/PerseusDL-treebank_data-92de910/v2.1/Greek/texts/tlg0085.tlg003.perseus-grc2.tb.xml  \r\n",
      "  inflating: ../data/large_files/AGDT/PerseusDL-treebank_data-92de910/v2.1/Greek/texts/tlg0085.tlg004.perseus-grc2.tb.xml  \r\n",
      "  inflating: ../data/large_files/AGDT/PerseusDL-treebank_data-92de910/v2.1/Greek/texts/tlg0085.tlg005.perseus-grc1.tb.xml  \r\n",
      "  inflating: ../data/large_files/AGDT/PerseusDL-treebank_data-92de910/v2.1/Greek/texts/tlg0085.tlg006.perseus-grc2.tb.xml  \r\n",
      "  inflating: ../data/large_files/AGDT/PerseusDL-treebank_data-92de910/v2.1/Greek/texts/tlg0085.tlg007.perseus-grc1.tb.xml  \r\n",
      "  inflating: ../data/large_files/AGDT/PerseusDL-treebank_data-92de910/v2.1/Greek/texts/tlg0096.tlg002.opp-grc2.1-53.tb.xml  \r\n",
      "  inflating: ../data/large_files/AGDT/PerseusDL-treebank_data-92de910/v2.1/Greek/texts/tlg0540.tlg001.perseus-grc1.tb.xml  \r\n",
      "  inflating: ../data/large_files/AGDT/PerseusDL-treebank_data-92de910/v2.1/Greek/texts/tlg0540.tlg014.perseus-grc1.tb.xml  \r\n",
      "  inflating: ../data/large_files/AGDT/PerseusDL-treebank_data-92de910/v2.1/Greek/texts/tlg0540.tlg015.perseus-grc1.tb.xml  \r\n",
      "  inflating: ../data/large_files/AGDT/PerseusDL-treebank_data-92de910/v2.1/Greek/texts/tlg0540.tlg023.perseus-grc1.tb.xml  \r\n",
      "  inflating: ../data/large_files/AGDT/PerseusDL-treebank_data-92de910/v2.1/Greek/texts/tlg0543.tlg001.perseus-grc1.tb.xml  \r\n",
      "  inflating: ../data/large_files/AGDT/PerseusDL-treebank_data-92de910/v2.1/Greek/texts/tlg0548.tlg001.perseus-grc1.1.1.1-1.4.1.tb.xml  \r\n",
      "   creating: ../data/large_files/AGDT/PerseusDL-treebank_data-92de910/v2.1/Latin/\r\n",
      "  inflating: ../data/large_files/AGDT/PerseusDL-treebank_data-92de910/v2.1/Latin/Harrington-tagset-Instructions.pdf  \r\n",
      "  inflating: ../data/large_files/AGDT/PerseusDL-treebank_data-92de910/v2.1/Latin/Harrington-tagset.pdf  \r\n",
      "  inflating: ../data/large_files/AGDT/PerseusDL-treebank_data-92de910/v2.1/Latin/README.md  \r\n",
      "  inflating: ../data/large_files/AGDT/PerseusDL-treebank_data-92de910/v2.1/Latin/TAGSET.txt  \r\n",
      "  inflating: ../data/large_files/AGDT/PerseusDL-treebank_data-92de910/v2.1/Latin/TAGSET.xml  \r\n",
      "   creating: ../data/large_files/AGDT/PerseusDL-treebank_data-92de910/v2.1/Latin/texts/\r\n",
      "  inflating: ../data/large_files/AGDT/PerseusDL-treebank_data-92de910/v2.1/Latin/texts/phi0448.phi001.perseus-lat1.tb.xml  \r\n",
      "  inflating: ../data/large_files/AGDT/PerseusDL-treebank_data-92de910/v2.1/Latin/texts/phi0474.phi013.perseus-lat1.tb.xml  \r\n",
      "  inflating: ../data/large_files/AGDT/PerseusDL-treebank_data-92de910/v2.1/Latin/texts/phi0620.phi001.perseus-lat1.tb.xml  \r\n",
      "  inflating: ../data/large_files/AGDT/PerseusDL-treebank_data-92de910/v2.1/Latin/texts/phi0631.phi001.perseus-lat1.tb.xml  \r\n",
      "  inflating: ../data/large_files/AGDT/PerseusDL-treebank_data-92de910/v2.1/Latin/texts/phi0690.phi003.perseus-lat1.tb.xml  \r\n",
      "  inflating: ../data/large_files/AGDT/PerseusDL-treebank_data-92de910/v2.1/Latin/texts/phi0959.phi006.perseus-lat1.tb.xml  \r\n",
      "  inflating: ../data/large_files/AGDT/PerseusDL-treebank_data-92de910/v2.1/Latin/texts/phi0972.phi001.perseus-lat1.xml  \r\n",
      "  inflating: ../data/large_files/AGDT/PerseusDL-treebank_data-92de910/v2.1/Latin/texts/phi0975.phi001.perseus-lat1.tb.xml  \r\n",
      "  inflating: ../data/large_files/AGDT/PerseusDL-treebank_data-92de910/v2.1/Latin/texts/phi1221.phi007.perseus-lat1.tb.xml  \r\n",
      "  inflating: ../data/large_files/AGDT/PerseusDL-treebank_data-92de910/v2.1/Latin/texts/phi1348.abo012.perseus-lat1.tb.xml  \r\n",
      "  inflating: ../data/large_files/AGDT/PerseusDL-treebank_data-92de910/v2.1/Latin/texts/phi1351.phi005.perseus-lat1.tb.xml  \r\n",
      "  inflating: ../data/large_files/AGDT/PerseusDL-treebank_data-92de910/v2.1/Latin/texts/tlg0031.tlg027.perseus-lat1.tb.xml  \r\n"
     ]
    }
   ],
   "source": [
    "!mkdir ../data/large_files/AGDT\n",
    "!curl -L https://github.com/PerseusDL/treebank_data/zipball/master -o ../data/large_files/AGDt/agdt.zip\n",
    "!unzip ../data/large_files/AGDT/agdt.zip -d ../data/large_files/AGDT"
   ],
   "metadata": {
    "collapsed": false,
    "ExecuteTime": {
     "end_time": "2024-01-16T13:55:03.336691Z",
     "start_time": "2024-01-16T13:53:38.471545Z"
    }
   },
   "execution_count": 302
  },
  {
   "cell_type": "code",
   "outputs": [
    {
     "data": {
      "text/plain": "['../data/large_files/AGDT/PerseusDL-treebank_data-92de910/v2.1/Greek/texts/tlg0085.tlg004.perseus-grc2.tb.xml',\n '../data/large_files/AGDT/PerseusDL-treebank_data-92de910/v2.1/Greek/texts/tlg0013.tlg002.perseus-grc1.tb.xml',\n '../data/large_files/AGDT/PerseusDL-treebank_data-92de910/v2.1/Greek/texts/tlg0059.tlg001.perseus-grc1.tb.xml']"
     },
     "execution_count": 78,
     "metadata": {},
     "output_type": "execute_result"
    }
   ],
   "source": [
    "path2_1 = \"../data/large_files/AGDT/PerseusDL-treebank_data-92de910/v2.1/Greek/texts/\"\n",
    "agdt_paths = [path2_1 + f for f in os.listdir(path2_1)]\n",
    "doc_ids = [re.search(\"(.+\\d{3})(.+)\", f).groups()[0]  for f in os.listdir(path2_1)]\n",
    "agdt_paths[:3]"
   ],
   "metadata": {
    "collapsed": false,
    "ExecuteTime": {
     "end_time": "2024-01-16T21:38:32.546990Z",
     "start_time": "2024-01-16T21:38:32.543462Z"
    }
   },
   "execution_count": 78
  },
  {
   "cell_type": "code",
   "outputs": [],
   "source": [
    "agdt_dict = dict(zip(doc_ids, agdt_paths))"
   ],
   "metadata": {
    "collapsed": false,
    "ExecuteTime": {
     "end_time": "2024-01-16T21:38:32.561160Z",
     "start_time": "2024-01-16T21:38:32.548075Z"
    }
   },
   "execution_count": 79
  },
  {
   "cell_type": "code",
   "outputs": [],
   "source": [
    "soup = BeautifulSoup(open(agdt_paths[0], 'r').read(), \"html.parser\")"
   ],
   "metadata": {
    "collapsed": false,
    "ExecuteTime": {
     "end_time": "2024-01-16T21:38:32.764977Z",
     "start_time": "2024-01-16T21:38:32.555303Z"
    }
   },
   "execution_count": 80
  },
  {
   "cell_type": "code",
   "outputs": [],
   "source": [
    "lemmata_sentences = []\n",
    "for sent in soup.find_all(\"sentence\"):\n",
    "    sentence_lemmata = []\n",
    "    for w in sent.find_all(\"word\"):\n",
    "        try:\n",
    "            if w[\"postag\"][0] in [\"n\", \"v\", \"a\"]:\n",
    "                sentence_lemmata.append(w[\"lemma\"])\n",
    "        except:\n",
    "            try:\n",
    "                sentence_lemmata.append(w[\"lemma\"])\n",
    "            except:\n",
    "                pass\n",
    "    lemmata_sentences.append(sentence_lemmata)"
   ],
   "metadata": {
    "collapsed": false,
    "ExecuteTime": {
     "end_time": "2024-01-16T21:38:32.776774Z",
     "start_time": "2024-01-16T21:38:32.775367Z"
    }
   },
   "execution_count": 81
  },
  {
   "cell_type": "code",
   "outputs": [
    {
     "data": {
      "text/plain": "[['Κάδμος',\n  'πολίτης',\n  'χρή',\n  'λέγω',\n  'καίριος',\n  'φυλάσσω',\n  'πρᾶγος',\n  'πρύμνα',\n  'πόλις',\n  'οἴαξ',\n  'νωμάω',\n  'βλέφαρον',\n  'κοιμάω',\n  'ὕπνος'],\n ['πράσσω', 'αἰτία', 'θεός'],\n ['γίγνομαι',\n  'συμφορά',\n  'τυγχάνω',\n  'Ἐτεοκλῆς',\n  'εἷς',\n  'πολύς',\n  'πόλις',\n  'ὑμνέω',\n  'ἀστός',\n  'φροίμιον',\n  'πολύρροθος',\n  'οἴμωγμα',\n  'Ζεύς',\n  'ἀλεξητήριος',\n  'ἐπώνυμος',\n  'γίγνομαι',\n  'Καδμεῖος',\n  'πόλις']]"
     },
     "execution_count": 82,
     "metadata": {},
     "output_type": "execute_result"
    }
   ],
   "source": [
    "lemmata_sentences[:3]"
   ],
   "metadata": {
    "collapsed": false,
    "ExecuteTime": {
     "end_time": "2024-01-16T21:38:32.780581Z",
     "start_time": "2024-01-16T21:38:32.778240Z"
    }
   },
   "execution_count": 82
  },
  {
   "cell_type": "code",
   "outputs": [],
   "source": [
    "agdt_uncomplete = [\"tlg0096.tlg002\",\n",
    "                   \"tlg0008.tlg001\",\n",
    "                   \"tlg0060.tlg001\",\n",
    "                   \"tlg0016.tlg001\",\n",
    "                   \"tlg0543.tlg001\",\n",
    "                   \"tlg0548.tlg001\",\n",
    "                   \"tlg0003.tlg001\"\n",
    "                   ]"
   ],
   "metadata": {
    "collapsed": false,
    "ExecuteTime": {
     "end_time": "2024-01-16T21:38:32.782733Z",
     "start_time": "2024-01-16T21:38:32.780056Z"
    }
   },
   "execution_count": 83
  },
  {
   "cell_type": "code",
   "outputs": [],
   "source": [
    "def get_agdt_sentences(doc_id, lemmatized_sentences):\n",
    "    if doc_id in agdt_dict.keys():\n",
    "        if doc_id not in agdt_uncomplete:\n",
    "            soup = BeautifulSoup(open(agdt_dict[doc_id], 'r').read(), \"html.parser\")\n",
    "            lemmatized_sentences = []\n",
    "            for sent in soup.find_all(\"sentence\"):\n",
    "                sentence_lemmata = []\n",
    "                for w in sent.find_all(\"word\"):\n",
    "                    try:\n",
    "                        if w[\"postag\"][0] in [\"n\", \"v\", \"a\"]:\n",
    "                            sentence_lemmata.append(w[\"lemma\"])\n",
    "                    except:\n",
    "                        try:\n",
    "                            sentence_lemmata.append(w[\"lemma\"])\n",
    "                        except:\n",
    "                            pass\n",
    "                lemmatized_sentences.append(sentence_lemmata)\n",
    "            lemmata_source_dict[doc_id] = \"agdt\"\n",
    "    return lemmatized_sentences\n",
    "\n",
    "LAGT[\"lemmatized_sentences\"] = LAGT.apply(lambda row: get_agdt_sentences(row[\"doc_id\"], row[\"lemmatized_sentences\"]), axis=1)"
   ],
   "metadata": {
    "collapsed": false,
    "ExecuteTime": {
     "end_time": "2024-01-16T21:38:45.842470Z",
     "start_time": "2024-01-16T21:38:32.788519Z"
    }
   },
   "execution_count": 84
  },
  {
   "cell_type": "code",
   "outputs": [
    {
     "data": {
      "text/plain": "     author_id          doc_id                         filename  \\\n326    tlg0096  tlg0096.tlg002      tlg0096.tlg002.opp-grc3.xml   \n1158   tlg0003  tlg0003.tlg001  tlg0003.tlg001.perseus-grc2.xml   \n1184   tlg0007  tlg0007.tlg004  tlg0007.tlg004.perseus-grc2.xml   \n1195   tlg0007  tlg0007.tlg015  tlg0007.tlg015.perseus-grc2.xml   \n1336   tlg0008  tlg0008.tlg001  tlg0008.tlg001.perseus-grc4.xml   \n1367   tlg0011  tlg0011.tlg001  tlg0011.tlg001.perseus-grc2.xml   \n1368   tlg0011  tlg0011.tlg002  tlg0011.tlg002.perseus-grc2.xml   \n1369   tlg0011  tlg0011.tlg003  tlg0011.tlg003.perseus-grc2.xml   \n1370   tlg0011  tlg0011.tlg004  tlg0011.tlg004.perseus-grc2.xml   \n1371   tlg0011  tlg0011.tlg005  tlg0011.tlg005.perseus-grc2.xml   \n1375   tlg0012  tlg0012.tlg001  tlg0012.tlg001.perseus-grc2.xml   \n1376   tlg0012  tlg0012.tlg002  tlg0012.tlg002.perseus-grc2.xml   \n1379   tlg0013  tlg0013.tlg002  tlg0013.tlg002.perseus-grc2.xml   \n1474   tlg0016  tlg0016.tlg001  tlg0016.tlg001.perseus-grc2.xml   \n1498   tlg0020  tlg0020.tlg001  tlg0020.tlg001.perseus-grc2.xml   \n1499   tlg0020  tlg0020.tlg002  tlg0020.tlg002.perseus-grc2.xml   \n1500   tlg0020  tlg0020.tlg003  tlg0020.tlg003.perseus-grc2.xml   \n1581   tlg0059  tlg0059.tlg001  tlg0059.tlg001.perseus-grc1.xml   \n1619   tlg0060  tlg0060.tlg001  tlg0060.tlg001.perseus-grc6.xml   \n1727   tlg0085  tlg0085.tlg001  tlg0085.tlg001.perseus-grc2.xml   \n1728   tlg0085  tlg0085.tlg002  tlg0085.tlg002.perseus-grc2.xml   \n1729   tlg0085  tlg0085.tlg003  tlg0085.tlg003.perseus-grc2.xml   \n1730   tlg0085  tlg0085.tlg004  tlg0085.tlg004.perseus-grc2.xml   \n1731   tlg0085  tlg0085.tlg005  tlg0085.tlg005.perseus-grc2.xml   \n1732   tlg0085  tlg0085.tlg006  tlg0085.tlg006.perseus-grc2.xml   \n1733   tlg0085  tlg0085.tlg007  tlg0085.tlg007.perseus-grc2.xml   \n1828   tlg0540  tlg0540.tlg001  tlg0540.tlg001.perseus-grc2.xml   \n1841   tlg0540  tlg0540.tlg014  tlg0540.tlg014.perseus-grc2.xml   \n1842   tlg0540  tlg0540.tlg015  tlg0540.tlg015.perseus-grc2.xml   \n1850   tlg0540  tlg0540.tlg023  tlg0540.tlg023.perseus-grc2.xml   \n1862   tlg0543  tlg0543.tlg001  tlg0543.tlg001.perseus-grc2.xml   \n1866   tlg0548  tlg0548.tlg001  tlg0548.tlg001.perseus-grc2.xml   \n\n                author                                              title  \\\n326              Aesop                                            Fabulae   \n1158        Thucydides                                           Ἱστορίαι   \n1184          Plutarch                                          Λυκοῦργος   \n1195          Plutarch                                         Ἀλκιβιάδης   \n1336         Athenaeus                                     Δειπνοσοφισταί   \n1367         Sophocles                                          Τραχίνιαι   \n1368         Sophocles                                           Ἀντιγόνη   \n1369         Sophocles                                               Αἴας   \n1370         Sophocles                                  Οἰδίπους Τύραννος   \n1371         Sophocles                                            Ἠλέκτρα   \n1375             Homer                                              Ἰλιάς   \n1376             Homer                                           Ὀδύσσεια   \n1379         Anonymous                                  Hymn 2 To Demeter   \n1474         Herodotus                                           Ἱστορίαι   \n1498            Hesiod            Theogony (Greek). Machine readable text   \n1499            Hesiod      Works and Days (Greek). Machine readable text   \n1500            Hesiod  Shield of Heracles (Greek). Machine readable text   \n1581             Plato                                          Euthyphro   \n1619  Diodorus Siculus                  Βιβλιοθήκη Ἱστορική (Books 18-20)   \n1727         Aeschylus                                           Ἱκέτιδες   \n1728         Aeschylus                                             Πέρσαι   \n1729         Aeschylus                                 Προμηθεὺς δεσμώτης   \n1730         Aeschylus                                     Ἑπτὰ ἐπὶ Θήβας   \n1731         Aeschylus                                          Ἀγαμέμνων   \n1732         Aeschylus                                           Χοηφóρoι   \n1733         Aeschylus                                          Εὐμενίδες   \n1828            Lysias               ὑπὲρ τοῦ Ἐρατοσθένους φόνου ἀπολογία   \n1841            Lysias                         κατὰ Ἀλκιβιάδου λιποταξίου   \n1842            Lysias                         κατὰ Ἀλκιβιάδου ἀστρατείας   \n1850            Lysias               κατὰ Παγκλέωνος ὅτι οὐκ ἦν Πλαταιεύς   \n1862          Polybius                                          Histories   \n1866       Apollodorus                                           Library    \n\n                                                 string  wordcount   source  \\\n326   Ὑπὸ τῶν κακῶν τὰ ἀγαθὰ ἐδιώχθη ὡς ἀσθενῆ ὄντα·...      29505     1Kgr   \n1158  Θουκυδίδης Ἀθηναῖος ξυνέγραψε τὸν πόλεμον τῶν\\...     150363  perseus   \n1184   περὶ Λυκούργου τοῦ νομοθέτου καθόλου μὲν οὐδὲ...       9656  perseus   \n1195   τὸ Ἀλκιβιάδου γένος ἄνωθεν Εὐρυσάκην τὸν Αἴαν...      10239  perseus   \n1336  \\n\\nἈθήναιος μὲν ὁ τῆς βίβλου πατήρ· ποιεῖται ...     327324  perseus   \n1367  λόγος μέν ἐστʼ ἀρχαῖος ἀνθρώπων φανείς, ὡς οὐκ...       7294  perseus   \n1368  ὦ κοινὸν αὐτάδελφον Ἰσμήνης κάρα, ἆρʼ οἶσθʼ ὅ ...       7360  perseus   \n1369  ἀεὶ μέν, ὦ παῖ Λαρτίου, δέδορκά σε πεῖράν τινʼ...       7915  perseus   \n1370  ὦ τέκνα, Κάδμου τοῦ πάλαι νέα τροφή, τίνας ποθ...       9292  perseus   \n1371  ὦ τοῦ στρατηγήσαντος ἐν Τροίᾳ ποτὲ Ἀγαμέμνονος...       8704  perseus   \n1375  \\nμῆνιν ἄειδε θεὰ Πηληϊάδεω Ἀχιλῆος οὐλομένην,...     111895  perseus   \n1376  ἄνδρα μοι ἔννεπε, μοῦσα, πολύτροπον, ὃς μάλα π...      87177  perseus   \n1379  \\nΔήμητρʼ ἠύκομον, σεμνὴν θεόν, ἄρχομʼ ἀείδειν...       3373  perseus   \n1474  Ἡροδότου Ἁλικαρνησσέος ἱστορίης ἀπόδεξις ἥδε, ...     184961  perseus   \n1498  \\nΜουσάων Ἑλικωνιάδων ἀρχώμεθʼ ἀείδειν, αἵθʼ Ἑ...       7039  perseus   \n1499  \\nμοῦσαι Πιερίηθεν ἀοιδῇσιν κλείουσαι δεῦτε, Δ...       5856  perseus   \n1500  \\nἢ οἵη προλιποῦσα δόμους καὶ πατρίδα γαῖαν ἤλ...       3298  perseus   \n1581  ΕΥΘ. \\nτί νεώτερον, ὦ Σώκρατες, γέγονεν, ὅτι σ...       5394  perseus   \n1619   τάδε ἔνεστιν ἐν τῇ ὀκτωκαιδεκάτῃ τῶν Διοδώρου...      79283  perseus   \n1727  Ζεὺς μὲν ἀφίκτωρ ἐπίδοι προφρόνως στόλον ἡμέτε...       4977  perseus   \n1728  Τάδε μὲν Περσῶν τῶν οἰχομένων Ἑλλάδʼ ἐς αἶαν π...       5221  perseus   \n1729  Χθονὸς μὲν ἐς τηλουρὸν ἥκομεν πέδον, Σκύθην ἐς...       5943  perseus   \n1730  Κάδμου πολῖται, χρὴ λέγειν τὰ καίρια ὅστις φυλ...       5157  perseus   \n1731  Φύλαξ θεοὺς μὲν αἰτῶ τῶνδʼ ἀπαλλαγὴν πόνων φρο...       8254  perseus   \n1732  \\nἙρμῆ χθόνιε, πατρῷʼ ἐποπτεύων κράτη,\\n \\nσωτ...       5463  perseus   \n1733  πρῶτον μὲν εὐχῇ τῇδε πρεσβεύω θεῶν τὴν πρωτόμα...       5320  perseus   \n1828  περὶ πολλοῦ ἂν ποιησαίμην, ὦ ἄνδρες, τὸ τοιούτ...       2476  perseus   \n1841  ἡγοῦμαι μέν, ὦ ἄνδρες δικασταί, οὐδεμίαν ὑμᾶς\\...       2590  perseus   \n1842  ἐγὼ μέν, ὦ ἄνδρες δικασταί, καὶ ὑμᾶς αἰτοῦμαι ...        646  perseus   \n1850   πολλὰ μὲν λέγειν, ὦ ἄνδρες δικασταί, περὶ του...        806  perseus   \n1862  εἰ μὲν τοῖς πρὸ ἡμῶν ἀναγράφουσι τὰς πράξεις π...     312800  perseus   \n1866  Οὐρανὸς πρῶτος τοῦ παντὸς ἐδυνάστευσε κόσμου. ...      27257  perseus   \n\n                                   lemmatized_sentences  \n326                                                None  \n1158  [[Θουκυδίδης, Ἀθηναῖος, συγγράφω, πόλεμος, Πελ...  \n1184  [[Λυκοῦργος, νομοθέτης, εἰμί, εἶπον, ἀναμφισβή...  \n1195  [[Ἀλκιβιάδης, γένος, Εὐρυσάκης, Αἴας, ἀρχηγός,...  \n1336  [[Ἀθηναῖος, βίβλος, πατήρ], [ποιέω, λόγος, Τιμ...  \n1367  [[λόγος, εἰμί, ἀρχαῖος, ἄνθρωπος, φαίνω, αἰών,...  \n1368  [[κοινός, αὐτάδελφος, Ἰσμήνη, κάρα, οἶδα, Ζεύς...  \n1369  [[παῖς, λάρτιος, δέρκομαι, πεῖρα, ἐχθρός, ἁρπά...  \n1370  [[τέκνον, Κάδμος, νέος, τροφή, ἕδρα, θοάζω, ἱκ...  \n1371  [[στρατηγέω, Τροία, Ἀγαμέμνων, παῖς, ἐκεῖνος, ...  \n1375  [[μῆνις, ἀείδω, θεά, Πηληιάδης, Ἀχιλλεύς, οὐλό...  \n1376  [[ἀνήρ, ἐνέπω, Μοῦσα, πολύτροπος, πλάζω, Τροία...  \n1379  [[Δήμητηρ, εὔκομος, σεμνός, θεός, ἄρχω, ἀείδω,...  \n1474  [[Ἡρόδοτος, Ἁλικαρνασσεύς, ἱστορία, ἀπόδειξις,...  \n1498  [[Μοῦσα, Ἑλικωνιάδες, ἄρχω, ἀείδω, ʽἑλικών, ἔχ...  \n1499  [[Μοῦσα, ἀοιδή, κλείω, Ζεύς, ἐνέπω, σφέτερος, ...  \n1500  [[οἷος, προλείπω, δόμος, πατρίς, γαῖα, ἔρχομαι...  \n1581  [[νεώτερος, Σωκράτης, γίγνομαι, Λύκειον, καταλ...  \n1619  [[θεός, δισσός, παλαιός, ἄνθρωπος, μεταγενής, ...  \n1727  [[Ζεύς, ἀφίκτωρ, ἐπεῖδον, στόλος, ἡμέτερος, νή...  \n1728  [[Πέρσης, οἴχομαι, Ἑλλάς, αἶα, πιστόν, καλέω, ...  \n1729  [[χθών, τηλουρός, ἥκω, πέδον, σκύθης, οἷμος, ἄ...  \n1730  [[Κάδμος, πολίτης, χρή, λέγω, καίριος, φυλάσσω...  \n1731  [[θεός, αἰτέω, ἀπαλλαγή, πόνος, φρουρά, ἔτειος...  \n1732  [[Ἑρμῆς, χθόνιος, πατρῷος, ἐποπτεύω, κράτος, σ...  \n1733  [[πρῶτος, εὐχή, πρεσβεύω, θεός, πρωτόμαντις, γ...  \n1828  [[πολύς, ποιέω, ἀνήρ, τοιοῦτος, δικαστής, οὗτο...  \n1841  [[ἡγέομαι, ἀνήρ, δικαστής, οὐδείς, ποθέω, ἀκού...  \n1842  [[ἀνήρ, δικαστής, αἰτέω, δίκαιος, ψηφίζω, στρα...  \n1850  [[πολύς, λέγω, ἀνήρ, δικαστής, οὗτος, πρᾶγμα, ...  \n1862  [[ἀναγράφω, πρᾶξις, παραλείπω, συμβαίνω, αὐτός...  \n1866  [[οὐρανός, πρῶτος, πᾶς, δυναστεύω, κόσμος], [γ...  ",
      "text/html": "<div>\n<style scoped>\n    .dataframe tbody tr th:only-of-type {\n        vertical-align: middle;\n    }\n\n    .dataframe tbody tr th {\n        vertical-align: top;\n    }\n\n    .dataframe thead th {\n        text-align: right;\n    }\n</style>\n<table border=\"1\" class=\"dataframe\">\n  <thead>\n    <tr style=\"text-align: right;\">\n      <th></th>\n      <th>author_id</th>\n      <th>doc_id</th>\n      <th>filename</th>\n      <th>author</th>\n      <th>title</th>\n      <th>string</th>\n      <th>wordcount</th>\n      <th>source</th>\n      <th>lemmatized_sentences</th>\n    </tr>\n  </thead>\n  <tbody>\n    <tr>\n      <th>326</th>\n      <td>tlg0096</td>\n      <td>tlg0096.tlg002</td>\n      <td>tlg0096.tlg002.opp-grc3.xml</td>\n      <td>Aesop</td>\n      <td>Fabulae</td>\n      <td>Ὑπὸ τῶν κακῶν τὰ ἀγαθὰ ἐδιώχθη ὡς ἀσθενῆ ὄντα·...</td>\n      <td>29505</td>\n      <td>1Kgr</td>\n      <td>None</td>\n    </tr>\n    <tr>\n      <th>1158</th>\n      <td>tlg0003</td>\n      <td>tlg0003.tlg001</td>\n      <td>tlg0003.tlg001.perseus-grc2.xml</td>\n      <td>Thucydides</td>\n      <td>Ἱστορίαι</td>\n      <td>Θουκυδίδης Ἀθηναῖος ξυνέγραψε τὸν πόλεμον τῶν\\...</td>\n      <td>150363</td>\n      <td>perseus</td>\n      <td>[[Θουκυδίδης, Ἀθηναῖος, συγγράφω, πόλεμος, Πελ...</td>\n    </tr>\n    <tr>\n      <th>1184</th>\n      <td>tlg0007</td>\n      <td>tlg0007.tlg004</td>\n      <td>tlg0007.tlg004.perseus-grc2.xml</td>\n      <td>Plutarch</td>\n      <td>Λυκοῦργος</td>\n      <td>περὶ Λυκούργου τοῦ νομοθέτου καθόλου μὲν οὐδὲ...</td>\n      <td>9656</td>\n      <td>perseus</td>\n      <td>[[Λυκοῦργος, νομοθέτης, εἰμί, εἶπον, ἀναμφισβή...</td>\n    </tr>\n    <tr>\n      <th>1195</th>\n      <td>tlg0007</td>\n      <td>tlg0007.tlg015</td>\n      <td>tlg0007.tlg015.perseus-grc2.xml</td>\n      <td>Plutarch</td>\n      <td>Ἀλκιβιάδης</td>\n      <td>τὸ Ἀλκιβιάδου γένος ἄνωθεν Εὐρυσάκην τὸν Αἴαν...</td>\n      <td>10239</td>\n      <td>perseus</td>\n      <td>[[Ἀλκιβιάδης, γένος, Εὐρυσάκης, Αἴας, ἀρχηγός,...</td>\n    </tr>\n    <tr>\n      <th>1336</th>\n      <td>tlg0008</td>\n      <td>tlg0008.tlg001</td>\n      <td>tlg0008.tlg001.perseus-grc4.xml</td>\n      <td>Athenaeus</td>\n      <td>Δειπνοσοφισταί</td>\n      <td>\\n\\nἈθήναιος μὲν ὁ τῆς βίβλου πατήρ· ποιεῖται ...</td>\n      <td>327324</td>\n      <td>perseus</td>\n      <td>[[Ἀθηναῖος, βίβλος, πατήρ], [ποιέω, λόγος, Τιμ...</td>\n    </tr>\n    <tr>\n      <th>1367</th>\n      <td>tlg0011</td>\n      <td>tlg0011.tlg001</td>\n      <td>tlg0011.tlg001.perseus-grc2.xml</td>\n      <td>Sophocles</td>\n      <td>Τραχίνιαι</td>\n      <td>λόγος μέν ἐστʼ ἀρχαῖος ἀνθρώπων φανείς, ὡς οὐκ...</td>\n      <td>7294</td>\n      <td>perseus</td>\n      <td>[[λόγος, εἰμί, ἀρχαῖος, ἄνθρωπος, φαίνω, αἰών,...</td>\n    </tr>\n    <tr>\n      <th>1368</th>\n      <td>tlg0011</td>\n      <td>tlg0011.tlg002</td>\n      <td>tlg0011.tlg002.perseus-grc2.xml</td>\n      <td>Sophocles</td>\n      <td>Ἀντιγόνη</td>\n      <td>ὦ κοινὸν αὐτάδελφον Ἰσμήνης κάρα, ἆρʼ οἶσθʼ ὅ ...</td>\n      <td>7360</td>\n      <td>perseus</td>\n      <td>[[κοινός, αὐτάδελφος, Ἰσμήνη, κάρα, οἶδα, Ζεύς...</td>\n    </tr>\n    <tr>\n      <th>1369</th>\n      <td>tlg0011</td>\n      <td>tlg0011.tlg003</td>\n      <td>tlg0011.tlg003.perseus-grc2.xml</td>\n      <td>Sophocles</td>\n      <td>Αἴας</td>\n      <td>ἀεὶ μέν, ὦ παῖ Λαρτίου, δέδορκά σε πεῖράν τινʼ...</td>\n      <td>7915</td>\n      <td>perseus</td>\n      <td>[[παῖς, λάρτιος, δέρκομαι, πεῖρα, ἐχθρός, ἁρπά...</td>\n    </tr>\n    <tr>\n      <th>1370</th>\n      <td>tlg0011</td>\n      <td>tlg0011.tlg004</td>\n      <td>tlg0011.tlg004.perseus-grc2.xml</td>\n      <td>Sophocles</td>\n      <td>Οἰδίπους Τύραννος</td>\n      <td>ὦ τέκνα, Κάδμου τοῦ πάλαι νέα τροφή, τίνας ποθ...</td>\n      <td>9292</td>\n      <td>perseus</td>\n      <td>[[τέκνον, Κάδμος, νέος, τροφή, ἕδρα, θοάζω, ἱκ...</td>\n    </tr>\n    <tr>\n      <th>1371</th>\n      <td>tlg0011</td>\n      <td>tlg0011.tlg005</td>\n      <td>tlg0011.tlg005.perseus-grc2.xml</td>\n      <td>Sophocles</td>\n      <td>Ἠλέκτρα</td>\n      <td>ὦ τοῦ στρατηγήσαντος ἐν Τροίᾳ ποτὲ Ἀγαμέμνονος...</td>\n      <td>8704</td>\n      <td>perseus</td>\n      <td>[[στρατηγέω, Τροία, Ἀγαμέμνων, παῖς, ἐκεῖνος, ...</td>\n    </tr>\n    <tr>\n      <th>1375</th>\n      <td>tlg0012</td>\n      <td>tlg0012.tlg001</td>\n      <td>tlg0012.tlg001.perseus-grc2.xml</td>\n      <td>Homer</td>\n      <td>Ἰλιάς</td>\n      <td>\\nμῆνιν ἄειδε θεὰ Πηληϊάδεω Ἀχιλῆος οὐλομένην,...</td>\n      <td>111895</td>\n      <td>perseus</td>\n      <td>[[μῆνις, ἀείδω, θεά, Πηληιάδης, Ἀχιλλεύς, οὐλό...</td>\n    </tr>\n    <tr>\n      <th>1376</th>\n      <td>tlg0012</td>\n      <td>tlg0012.tlg002</td>\n      <td>tlg0012.tlg002.perseus-grc2.xml</td>\n      <td>Homer</td>\n      <td>Ὀδύσσεια</td>\n      <td>ἄνδρα μοι ἔννεπε, μοῦσα, πολύτροπον, ὃς μάλα π...</td>\n      <td>87177</td>\n      <td>perseus</td>\n      <td>[[ἀνήρ, ἐνέπω, Μοῦσα, πολύτροπος, πλάζω, Τροία...</td>\n    </tr>\n    <tr>\n      <th>1379</th>\n      <td>tlg0013</td>\n      <td>tlg0013.tlg002</td>\n      <td>tlg0013.tlg002.perseus-grc2.xml</td>\n      <td>Anonymous</td>\n      <td>Hymn 2 To Demeter</td>\n      <td>\\nΔήμητρʼ ἠύκομον, σεμνὴν θεόν, ἄρχομʼ ἀείδειν...</td>\n      <td>3373</td>\n      <td>perseus</td>\n      <td>[[Δήμητηρ, εὔκομος, σεμνός, θεός, ἄρχω, ἀείδω,...</td>\n    </tr>\n    <tr>\n      <th>1474</th>\n      <td>tlg0016</td>\n      <td>tlg0016.tlg001</td>\n      <td>tlg0016.tlg001.perseus-grc2.xml</td>\n      <td>Herodotus</td>\n      <td>Ἱστορίαι</td>\n      <td>Ἡροδότου Ἁλικαρνησσέος ἱστορίης ἀπόδεξις ἥδε, ...</td>\n      <td>184961</td>\n      <td>perseus</td>\n      <td>[[Ἡρόδοτος, Ἁλικαρνασσεύς, ἱστορία, ἀπόδειξις,...</td>\n    </tr>\n    <tr>\n      <th>1498</th>\n      <td>tlg0020</td>\n      <td>tlg0020.tlg001</td>\n      <td>tlg0020.tlg001.perseus-grc2.xml</td>\n      <td>Hesiod</td>\n      <td>Theogony (Greek). Machine readable text</td>\n      <td>\\nΜουσάων Ἑλικωνιάδων ἀρχώμεθʼ ἀείδειν, αἵθʼ Ἑ...</td>\n      <td>7039</td>\n      <td>perseus</td>\n      <td>[[Μοῦσα, Ἑλικωνιάδες, ἄρχω, ἀείδω, ʽἑλικών, ἔχ...</td>\n    </tr>\n    <tr>\n      <th>1499</th>\n      <td>tlg0020</td>\n      <td>tlg0020.tlg002</td>\n      <td>tlg0020.tlg002.perseus-grc2.xml</td>\n      <td>Hesiod</td>\n      <td>Works and Days (Greek). Machine readable text</td>\n      <td>\\nμοῦσαι Πιερίηθεν ἀοιδῇσιν κλείουσαι δεῦτε, Δ...</td>\n      <td>5856</td>\n      <td>perseus</td>\n      <td>[[Μοῦσα, ἀοιδή, κλείω, Ζεύς, ἐνέπω, σφέτερος, ...</td>\n    </tr>\n    <tr>\n      <th>1500</th>\n      <td>tlg0020</td>\n      <td>tlg0020.tlg003</td>\n      <td>tlg0020.tlg003.perseus-grc2.xml</td>\n      <td>Hesiod</td>\n      <td>Shield of Heracles (Greek). Machine readable text</td>\n      <td>\\nἢ οἵη προλιποῦσα δόμους καὶ πατρίδα γαῖαν ἤλ...</td>\n      <td>3298</td>\n      <td>perseus</td>\n      <td>[[οἷος, προλείπω, δόμος, πατρίς, γαῖα, ἔρχομαι...</td>\n    </tr>\n    <tr>\n      <th>1581</th>\n      <td>tlg0059</td>\n      <td>tlg0059.tlg001</td>\n      <td>tlg0059.tlg001.perseus-grc1.xml</td>\n      <td>Plato</td>\n      <td>Euthyphro</td>\n      <td>ΕΥΘ. \\nτί νεώτερον, ὦ Σώκρατες, γέγονεν, ὅτι σ...</td>\n      <td>5394</td>\n      <td>perseus</td>\n      <td>[[νεώτερος, Σωκράτης, γίγνομαι, Λύκειον, καταλ...</td>\n    </tr>\n    <tr>\n      <th>1619</th>\n      <td>tlg0060</td>\n      <td>tlg0060.tlg001</td>\n      <td>tlg0060.tlg001.perseus-grc6.xml</td>\n      <td>Diodorus Siculus</td>\n      <td>Βιβλιοθήκη Ἱστορική (Books 18-20)</td>\n      <td>τάδε ἔνεστιν ἐν τῇ ὀκτωκαιδεκάτῃ τῶν Διοδώρου...</td>\n      <td>79283</td>\n      <td>perseus</td>\n      <td>[[θεός, δισσός, παλαιός, ἄνθρωπος, μεταγενής, ...</td>\n    </tr>\n    <tr>\n      <th>1727</th>\n      <td>tlg0085</td>\n      <td>tlg0085.tlg001</td>\n      <td>tlg0085.tlg001.perseus-grc2.xml</td>\n      <td>Aeschylus</td>\n      <td>Ἱκέτιδες</td>\n      <td>Ζεὺς μὲν ἀφίκτωρ ἐπίδοι προφρόνως στόλον ἡμέτε...</td>\n      <td>4977</td>\n      <td>perseus</td>\n      <td>[[Ζεύς, ἀφίκτωρ, ἐπεῖδον, στόλος, ἡμέτερος, νή...</td>\n    </tr>\n    <tr>\n      <th>1728</th>\n      <td>tlg0085</td>\n      <td>tlg0085.tlg002</td>\n      <td>tlg0085.tlg002.perseus-grc2.xml</td>\n      <td>Aeschylus</td>\n      <td>Πέρσαι</td>\n      <td>Τάδε μὲν Περσῶν τῶν οἰχομένων Ἑλλάδʼ ἐς αἶαν π...</td>\n      <td>5221</td>\n      <td>perseus</td>\n      <td>[[Πέρσης, οἴχομαι, Ἑλλάς, αἶα, πιστόν, καλέω, ...</td>\n    </tr>\n    <tr>\n      <th>1729</th>\n      <td>tlg0085</td>\n      <td>tlg0085.tlg003</td>\n      <td>tlg0085.tlg003.perseus-grc2.xml</td>\n      <td>Aeschylus</td>\n      <td>Προμηθεὺς δεσμώτης</td>\n      <td>Χθονὸς μὲν ἐς τηλουρὸν ἥκομεν πέδον, Σκύθην ἐς...</td>\n      <td>5943</td>\n      <td>perseus</td>\n      <td>[[χθών, τηλουρός, ἥκω, πέδον, σκύθης, οἷμος, ἄ...</td>\n    </tr>\n    <tr>\n      <th>1730</th>\n      <td>tlg0085</td>\n      <td>tlg0085.tlg004</td>\n      <td>tlg0085.tlg004.perseus-grc2.xml</td>\n      <td>Aeschylus</td>\n      <td>Ἑπτὰ ἐπὶ Θήβας</td>\n      <td>Κάδμου πολῖται, χρὴ λέγειν τὰ καίρια ὅστις φυλ...</td>\n      <td>5157</td>\n      <td>perseus</td>\n      <td>[[Κάδμος, πολίτης, χρή, λέγω, καίριος, φυλάσσω...</td>\n    </tr>\n    <tr>\n      <th>1731</th>\n      <td>tlg0085</td>\n      <td>tlg0085.tlg005</td>\n      <td>tlg0085.tlg005.perseus-grc2.xml</td>\n      <td>Aeschylus</td>\n      <td>Ἀγαμέμνων</td>\n      <td>Φύλαξ θεοὺς μὲν αἰτῶ τῶνδʼ ἀπαλλαγὴν πόνων φρο...</td>\n      <td>8254</td>\n      <td>perseus</td>\n      <td>[[θεός, αἰτέω, ἀπαλλαγή, πόνος, φρουρά, ἔτειος...</td>\n    </tr>\n    <tr>\n      <th>1732</th>\n      <td>tlg0085</td>\n      <td>tlg0085.tlg006</td>\n      <td>tlg0085.tlg006.perseus-grc2.xml</td>\n      <td>Aeschylus</td>\n      <td>Χοηφóρoι</td>\n      <td>\\nἙρμῆ χθόνιε, πατρῷʼ ἐποπτεύων κράτη,\\n \\nσωτ...</td>\n      <td>5463</td>\n      <td>perseus</td>\n      <td>[[Ἑρμῆς, χθόνιος, πατρῷος, ἐποπτεύω, κράτος, σ...</td>\n    </tr>\n    <tr>\n      <th>1733</th>\n      <td>tlg0085</td>\n      <td>tlg0085.tlg007</td>\n      <td>tlg0085.tlg007.perseus-grc2.xml</td>\n      <td>Aeschylus</td>\n      <td>Εὐμενίδες</td>\n      <td>πρῶτον μὲν εὐχῇ τῇδε πρεσβεύω θεῶν τὴν πρωτόμα...</td>\n      <td>5320</td>\n      <td>perseus</td>\n      <td>[[πρῶτος, εὐχή, πρεσβεύω, θεός, πρωτόμαντις, γ...</td>\n    </tr>\n    <tr>\n      <th>1828</th>\n      <td>tlg0540</td>\n      <td>tlg0540.tlg001</td>\n      <td>tlg0540.tlg001.perseus-grc2.xml</td>\n      <td>Lysias</td>\n      <td>ὑπὲρ τοῦ Ἐρατοσθένους φόνου ἀπολογία</td>\n      <td>περὶ πολλοῦ ἂν ποιησαίμην, ὦ ἄνδρες, τὸ τοιούτ...</td>\n      <td>2476</td>\n      <td>perseus</td>\n      <td>[[πολύς, ποιέω, ἀνήρ, τοιοῦτος, δικαστής, οὗτο...</td>\n    </tr>\n    <tr>\n      <th>1841</th>\n      <td>tlg0540</td>\n      <td>tlg0540.tlg014</td>\n      <td>tlg0540.tlg014.perseus-grc2.xml</td>\n      <td>Lysias</td>\n      <td>κατὰ Ἀλκιβιάδου λιποταξίου</td>\n      <td>ἡγοῦμαι μέν, ὦ ἄνδρες δικασταί, οὐδεμίαν ὑμᾶς\\...</td>\n      <td>2590</td>\n      <td>perseus</td>\n      <td>[[ἡγέομαι, ἀνήρ, δικαστής, οὐδείς, ποθέω, ἀκού...</td>\n    </tr>\n    <tr>\n      <th>1842</th>\n      <td>tlg0540</td>\n      <td>tlg0540.tlg015</td>\n      <td>tlg0540.tlg015.perseus-grc2.xml</td>\n      <td>Lysias</td>\n      <td>κατὰ Ἀλκιβιάδου ἀστρατείας</td>\n      <td>ἐγὼ μέν, ὦ ἄνδρες δικασταί, καὶ ὑμᾶς αἰτοῦμαι ...</td>\n      <td>646</td>\n      <td>perseus</td>\n      <td>[[ἀνήρ, δικαστής, αἰτέω, δίκαιος, ψηφίζω, στρα...</td>\n    </tr>\n    <tr>\n      <th>1850</th>\n      <td>tlg0540</td>\n      <td>tlg0540.tlg023</td>\n      <td>tlg0540.tlg023.perseus-grc2.xml</td>\n      <td>Lysias</td>\n      <td>κατὰ Παγκλέωνος ὅτι οὐκ ἦν Πλαταιεύς</td>\n      <td>πολλὰ μὲν λέγειν, ὦ ἄνδρες δικασταί, περὶ του...</td>\n      <td>806</td>\n      <td>perseus</td>\n      <td>[[πολύς, λέγω, ἀνήρ, δικαστής, οὗτος, πρᾶγμα, ...</td>\n    </tr>\n    <tr>\n      <th>1862</th>\n      <td>tlg0543</td>\n      <td>tlg0543.tlg001</td>\n      <td>tlg0543.tlg001.perseus-grc2.xml</td>\n      <td>Polybius</td>\n      <td>Histories</td>\n      <td>εἰ μὲν τοῖς πρὸ ἡμῶν ἀναγράφουσι τὰς πράξεις π...</td>\n      <td>312800</td>\n      <td>perseus</td>\n      <td>[[ἀναγράφω, πρᾶξις, παραλείπω, συμβαίνω, αὐτός...</td>\n    </tr>\n    <tr>\n      <th>1866</th>\n      <td>tlg0548</td>\n      <td>tlg0548.tlg001</td>\n      <td>tlg0548.tlg001.perseus-grc2.xml</td>\n      <td>Apollodorus</td>\n      <td>Library</td>\n      <td>Οὐρανὸς πρῶτος τοῦ παντὸς ἐδυνάστευσε κόσμου. ...</td>\n      <td>27257</td>\n      <td>perseus</td>\n      <td>[[οὐρανός, πρῶτος, πᾶς, δυναστεύω, κόσμος], [γ...</td>\n    </tr>\n  </tbody>\n</table>\n</div>"
     },
     "execution_count": 85,
     "metadata": {},
     "output_type": "execute_result"
    }
   ],
   "source": [
    "LAGT[LAGT[\"doc_id\"].isin(doc_ids)]"
   ],
   "metadata": {
    "collapsed": false,
    "ExecuteTime": {
     "end_time": "2024-01-16T21:38:46.164276Z",
     "start_time": "2024-01-16T21:38:45.864117Z"
    }
   },
   "execution_count": 85
  },
  {
   "cell_type": "code",
   "outputs": [],
   "source": [
    "#LAGT.at[xxx, \"lemmatized_sentences\"]"
   ],
   "metadata": {
    "collapsed": false
   }
  },
  {
   "cell_type": "code",
   "outputs": [
    {
     "data": {
      "text/plain": "{'tlg0031.tlg001': 'morphgnt',\n 'tlg0031.tlg002': 'morphgnt',\n 'tlg0031.tlg003': 'morphgnt',\n 'tlg0031.tlg004': 'morphgnt',\n 'tlg0031.tlg005': 'morphgnt',\n 'tlg0031.tlg006': 'morphgnt',\n 'tlg0031.tlg007': 'morphgnt',\n 'tlg0031.tlg008': 'morphgnt',\n 'tlg0031.tlg009': 'morphgnt',\n 'tlg0031.tlg010': 'morphgnt',\n 'tlg0031.tlg011': 'morphgnt',\n 'tlg0031.tlg012': 'morphgnt',\n 'tlg0031.tlg013': 'morphgnt',\n 'tlg0031.tlg014': 'morphgnt',\n 'tlg0031.tlg015': 'morphgnt',\n 'tlg0031.tlg016': 'morphgnt',\n 'tlg0031.tlg017': 'morphgnt',\n 'tlg0031.tlg018': 'morphgnt',\n 'tlg0031.tlg019': 'morphgnt',\n 'tlg0031.tlg020': 'morphgnt',\n 'tlg0031.tlg021': 'morphgnt',\n 'tlg0031.tlg022': 'morphgnt',\n 'tlg0031.tlg023': 'morphgnt',\n 'tlg0031.tlg024': 'morphgnt',\n 'tlg0031.tlg025': 'morphgnt',\n 'tlg0031.tlg026': 'morphgnt',\n 'tlg0031.tlg027': 'morphgnt',\n 'tlg0527.tlg001': 'lxxmorph',\n 'tlg0527.tlg002': 'lxxmorph',\n 'tlg0527.tlg003': 'lxxmorph',\n 'tlg0527.tlg004': 'lxxmorph',\n 'tlg0527.tlg005': 'lxxmorph',\n 'tlg0527.tlg006': 'lxxmorph',\n 'tlg0527.tlg008': 'lxxmorph',\n 'tlg0527.tlg010': 'lxxmorph',\n 'tlg0527.tlg011': 'lxxmorph',\n 'tlg0527.tlg012': 'lxxmorph',\n 'tlg0527.tlg013': 'lxxmorph',\n 'tlg0527.tlg014': 'lxxmorph',\n 'tlg0527.tlg015': 'lxxmorph',\n 'tlg0527.tlg016': 'lxxmorph',\n 'tlg0527.tlg017': 'lxxmorph',\n 'tlg0527.tlg018': 'lxxmorph',\n 'tlg0527.tlg019': 'lxxmorph',\n 'tlg0527.tlg020': 'lxxmorph',\n 'tlg0527.tlg021': 'lxxmorph',\n 'tlg0527.tlg023': 'lxxmorph',\n 'tlg0527.tlg024': 'lxxmorph',\n 'tlg0527.tlg025': 'lxxmorph',\n 'tlg0527.tlg026': 'lxxmorph',\n 'tlg0527.tlg027': 'lxxmorph',\n 'tlg0527.tlg028': 'lxxmorph',\n 'tlg0527.tlg029': 'lxxmorph',\n 'tlg0527.tlg031': 'lxxmorph',\n 'tlg0527.tlg032': 'lxxmorph',\n 'tlg0527.tlg033': 'lxxmorph',\n 'tlg0527.tlg034': 'lxxmorph',\n 'tlg0527.tlg035': 'lxxmorph',\n 'tlg0527.tlg036': 'lxxmorph',\n 'tlg0527.tlg037': 'lxxmorph',\n 'tlg0527.tlg038': 'lxxmorph',\n 'tlg0527.tlg039': 'lxxmorph',\n 'tlg0527.tlg040': 'lxxmorph',\n 'tlg0527.tlg041': 'lxxmorph',\n 'tlg0527.tlg042': 'lxxmorph',\n 'tlg0527.tlg043': 'lxxmorph',\n 'tlg0527.tlg044': 'lxxmorph',\n 'tlg0527.tlg045': 'lxxmorph',\n 'tlg0527.tlg046': 'lxxmorph',\n 'tlg0527.tlg047': 'lxxmorph',\n 'tlg0527.tlg048': 'lxxmorph',\n 'tlg0527.tlg049': 'lxxmorph',\n 'tlg0527.tlg050': 'lxxmorph',\n 'tlg0527.tlg051': 'lxxmorph',\n 'tlg0527.tlg052': 'lxxmorph',\n 'tlg0527.tlg053': 'lxxmorph',\n 'tlg0527.tlg054': 'lxxmorph',\n 'tlg0527.tlg055': 'lxxmorph',\n 'tlg0527.tlg056': 'lxxmorph',\n 'tlg0527.tlg057': 'lxxmorph',\n 'tlg0527.tlg058': 'lxxmorph',\n 'tlg0527.tlg059': 'lxxmorph',\n 'tlg0015.tlg001': 'glaux',\n 'tlg0057.tlg001': 'glaux',\n 'tlg0057.tlg002': 'glaux',\n 'tlg0057.tlg003': 'glaux',\n 'tlg0057.tlg004': 'glaux',\n 'tlg0057.tlg006': 'glaux',\n 'tlg0057.tlg007': 'glaux',\n 'tlg0057.tlg008': 'glaux',\n 'tlg0057.tlg009': 'glaux',\n 'tlg0057.tlg011': 'glaux',\n 'tlg0057.tlg012': 'glaux',\n 'tlg0057.tlg013': 'glaux',\n 'tlg0057.tlg014': 'glaux',\n 'tlg0057.tlg015': 'glaux',\n 'tlg0057.tlg016': 'glaux',\n 'tlg0057.tlg017': 'glaux',\n 'tlg0057.tlg018': 'glaux',\n 'tlg0057.tlg019': 'glaux',\n 'tlg0057.tlg020': 'glaux',\n 'tlg0057.tlg021': 'glaux',\n 'tlg0057.tlg022': 'glaux',\n 'tlg0057.tlg023': 'glaux',\n 'tlg0057.tlg024': 'glaux',\n 'tlg0057.tlg025': 'glaux',\n 'tlg0057.tlg027': 'glaux',\n 'tlg0057.tlg028': 'glaux',\n 'tlg0057.tlg029': 'glaux',\n 'tlg0057.tlg030': 'glaux',\n 'tlg0057.tlg031': 'glaux',\n 'tlg0057.tlg032': 'glaux',\n 'tlg0057.tlg034': 'glaux',\n 'tlg0057.tlg035': 'glaux',\n 'tlg0057.tlg036': 'glaux',\n 'tlg0057.tlg038': 'glaux',\n 'tlg0057.tlg039': 'glaux',\n 'tlg0057.tlg040': 'glaux',\n 'tlg0057.tlg041': 'glaux',\n 'tlg0057.tlg042': 'glaux',\n 'tlg0057.tlg043': 'glaux',\n 'tlg0057.tlg044': 'glaux',\n 'tlg0057.tlg045': 'glaux',\n 'tlg0057.tlg046': 'glaux',\n 'tlg0057.tlg047': 'glaux',\n 'tlg0057.tlg048': 'glaux',\n 'tlg0057.tlg049': 'glaux',\n 'tlg0057.tlg050': 'glaux',\n 'tlg0057.tlg051': 'glaux',\n 'tlg0057.tlg052': 'glaux',\n 'tlg0057.tlg053': 'glaux',\n 'tlg0057.tlg054': 'glaux',\n 'tlg0057.tlg055': 'glaux',\n 'tlg0057.tlg056': 'glaux',\n 'tlg0057.tlg057': 'glaux',\n 'tlg0057.tlg058': 'glaux',\n 'tlg0057.tlg059': 'glaux',\n 'tlg0057.tlg060': 'glaux',\n 'tlg0057.tlg061': 'glaux',\n 'tlg0057.tlg062': 'glaux',\n 'tlg0057.tlg063': 'glaux',\n 'tlg0057.tlg064': 'glaux',\n 'tlg0057.tlg065': 'glaux',\n 'tlg0057.tlg066': 'glaux',\n 'tlg0057.tlg067': 'glaux',\n 'tlg0057.tlg068': 'glaux',\n 'tlg0057.tlg069': 'glaux',\n 'tlg0057.tlg070': 'glaux',\n 'tlg0057.tlg071': 'glaux',\n 'tlg0057.tlg072': 'glaux',\n 'tlg0057.tlg073': 'glaux',\n 'tlg0057.tlg074': 'glaux',\n 'tlg0057.tlg075': 'glaux',\n 'tlg0057.tlg076': 'glaux',\n 'tlg0057.tlg077': 'glaux',\n 'tlg0057.tlg078': 'glaux',\n 'tlg0057.tlg079': 'glaux',\n 'tlg0057.tlg081': 'glaux',\n 'tlg0057.tlg082': 'glaux',\n 'tlg0057.tlg083': 'glaux',\n 'tlg0057.tlg084': 'glaux',\n 'tlg0057.tlg085': 'glaux',\n 'tlg0057.tlg086': 'glaux',\n 'tlg0057.tlg087': 'glaux',\n 'tlg0057.tlg089': 'glaux',\n 'tlg0057.tlg092': 'glaux',\n 'tlg0057.tlg093': 'glaux',\n 'tlg0057.tlg094': 'glaux',\n 'tlg0057.tlg095': 'glaux',\n 'tlg0057.tlg096': 'glaux',\n 'tlg0057.tlg099': 'glaux',\n 'tlg0057.tlg100': 'glaux',\n 'tlg0057.tlg101': 'glaux',\n 'tlg0057.tlg102': 'glaux',\n 'tlg0057.tlg103': 'glaux',\n 'tlg0057.tlg107': 'glaux',\n 'tlg0057.tlg114': 'glaux',\n 'tlg0059.tlg037': 'glaux',\n 'tlg0064.tlg001': 'glaux',\n 'tlg0067.tlg001': 'glaux',\n 'tlg0086.tlg001': 'glaux',\n 'tlg0086.tlg002': 'glaux',\n 'tlg0086.tlg006': 'glaux',\n 'tlg0086.tlg008': 'glaux',\n 'tlg0086.tlg013': 'glaux',\n 'tlg0086.tlg014': 'glaux',\n 'tlg0086.tlg015': 'glaux',\n 'tlg0086.tlg016': 'glaux',\n 'tlg0086.tlg017': 'glaux',\n 'tlg0086.tlg018': 'glaux',\n 'tlg0086.tlg020': 'glaux',\n 'tlg0086.tlg021': 'glaux',\n 'tlg0086.tlg024': 'glaux',\n 'tlg0086.tlg026': 'glaux',\n 'tlg0086.tlg034': 'glaux',\n 'tlg0086.tlg037': 'glaux',\n 'tlg0086.tlg040': 'glaux',\n 'tlg0086.tlg041': 'glaux',\n 'tlg0086.tlg042': 'glaux',\n 'tlg0086.tlg043': 'glaux',\n 'tlg0086.tlg044': 'glaux',\n 'tlg0086.tlg054': 'glaux',\n 'tlg0087.tlg004': 'glaux',\n 'tlg0357.tlg001': 'glaux',\n 'tlg0358.tlg001': 'glaux',\n 'tlg0358.tlg002': 'glaux',\n 'tlg0358.tlg004': 'glaux',\n 'tlg0358.tlg005': 'glaux',\n 'tlg0361.tlg001': 'glaux',\n 'tlg0552.tlg001': 'glaux',\n 'tlg0552.tlg002': 'glaux',\n 'tlg0552.tlg003': 'glaux',\n 'tlg0552.tlg004': 'glaux',\n 'tlg0552.tlg005': 'glaux',\n 'tlg0552.tlg006': 'glaux',\n 'tlg0552.tlg007': 'glaux',\n 'tlg0552.tlg009': 'glaux',\n 'tlg0552.tlg010': 'glaux',\n 'tlg0552.tlg011': 'glaux',\n 'tlg0552.tlg012': 'glaux',\n 'tlg0552.tlg013': 'glaux',\n 'tlg0555.tlg002': 'glaux',\n 'tlg0555.tlg005': 'glaux',\n 'tlg0555.tlg007': 'glaux',\n 'tlg0559.tlg001': 'glaux',\n 'tlg0559.tlg002': 'glaux',\n 'tlg0559.tlg004': 'glaux',\n 'tlg0559.tlg005': 'glaux',\n 'tlg0559.tlg006': 'glaux',\n 'tlg0559.tlg007': 'glaux',\n 'tlg0559.tlg010': 'glaux',\n 'tlg0559.tlg011': 'glaux',\n 'tlg0559.tlg012': 'glaux',\n 'tlg0559.tlg014': 'glaux',\n 'tlg0592.tlg001': 'glaux',\n 'tlg0592.tlg002': 'glaux',\n 'tlg0592.tlg003': 'glaux',\n 'tlg0592.tlg004': 'glaux',\n 'tlg0592.tlg005': 'glaux',\n 'tlg0606.tlg001': 'glaux',\n 'tlg0614.tlg001': 'glaux',\n 'tlg0627.tlg014': 'glaux',\n 'tlg0627.tlg015': 'glaux',\n 'tlg0627.tlg016': 'glaux',\n 'tlg0627.tlg017': 'glaux',\n 'tlg0627.tlg018': 'glaux',\n 'tlg0627.tlg019': 'glaux',\n 'tlg0627.tlg020': 'glaux',\n 'tlg0627.tlg021': 'glaux',\n 'tlg0627.tlg022': 'glaux',\n 'tlg0627.tlg023': 'glaux',\n 'tlg0627.tlg024a': 'glaux',\n 'tlg0627.tlg024b': 'glaux',\n 'tlg0627.tlg025': 'glaux',\n 'tlg0627.tlg026': 'glaux',\n 'tlg0627.tlg031': 'glaux',\n 'tlg0627.tlg032': 'glaux',\n 'tlg0627.tlg033': 'glaux',\n 'tlg0627.tlg035': 'glaux',\n 'tlg0627.tlg036': 'glaux',\n 'tlg0627.tlg037': 'glaux',\n 'tlg0627.tlg038': 'glaux',\n 'tlg0627.tlg039': 'glaux',\n 'tlg0627.tlg040': 'glaux',\n 'tlg0627.tlg041': 'glaux',\n 'tlg0627.tlg042': 'glaux',\n 'tlg0627.tlg043': 'glaux',\n 'tlg0627.tlg045': 'glaux',\n 'tlg0627.tlg047': 'glaux',\n 'tlg0627.tlg048': 'glaux',\n 'tlg0627.tlg049': 'glaux',\n 'tlg0627.tlg050': 'glaux',\n 'tlg0627.tlg052': 'glaux',\n 'tlg0627.tlg053': 'glaux',\n 'tlg0627.tlg055': 'glaux',\n 'tlg0671.tlg001': 'glaux',\n 'tlg0708.tlg001': 'glaux',\n 'tlg0732.tlg001': 'glaux',\n 'tlg0732.tlg011': 'glaux',\n 'tlg0732.tlg012': 'glaux',\n 'tlg0751.tlg034': 'glaux',\n 'tlg1126.tlg003': 'glaux',\n 'tlg1181.tlg001': 'glaux',\n 'tlg1205.tlg001': 'glaux',\n 'tlg1205.tlg002': 'glaux',\n 'tlg1210.tlg001': 'glaux',\n 'tlg1210.tlg002': 'glaux',\n 'tlg1252.tlg002': 'glaux',\n 'tlg1271.tlg001': 'glaux',\n 'tlg1271.tlg002': 'glaux',\n 'tlg1311.tlg001': 'glaux',\n 'tlg1337.tlg003': 'glaux',\n 'tlg1431.tlg003': 'glaux',\n 'tlg1487.tlg001': 'glaux',\n 'tlg1487.tlg002': 'glaux',\n 'tlg1622.tlg001': 'glaux',\n 'tlg1665.tlg001': 'glaux',\n 'tlg1765.tlg003': 'glaux',\n 'tlg1765.tlg004': 'glaux',\n 'tlg1765.tlg005': 'glaux',\n 'tlg1766.tlg001': 'glaux',\n 'tlg1799.tlg008': 'glaux',\n 'tlg1799.tlg010': 'glaux',\n 'tlg1799.tlg011': 'glaux',\n 'tlg1799.tlg012': 'glaux',\n 'tlg1799.tlg013': 'glaux',\n 'tlg1799.tlg014': 'glaux',\n 'tlg1799.tlg015': 'glaux',\n 'tlg1799.tlg017': 'glaux',\n 'tlg2042.tlg001': 'glaux',\n 'tlg2042.tlg007': 'glaux',\n 'tlg2042.tlg008': 'glaux',\n 'tlg2042.tlg012': 'glaux',\n 'tlg2138.tlg001': 'glaux',\n 'tlg2139.tlg001': 'glaux',\n 'tlg0001.tlg001': 'glaux',\n 'tlg0003.tlg001': 'glaux',\n 'tlg0005.tlg001': 'glaux',\n 'tlg0005.tlg002': 'glaux',\n 'tlg0006.tlg007': 'glaux',\n 'tlg0006.tlg008': 'glaux',\n 'tlg0006.tlg009': 'glaux',\n 'tlg0006.tlg010': 'glaux',\n 'tlg0006.tlg011': 'glaux',\n 'tlg0006.tlg012': 'glaux',\n 'tlg0006.tlg013': 'glaux',\n 'tlg0006.tlg014': 'glaux',\n 'tlg0006.tlg015': 'glaux',\n 'tlg0006.tlg016': 'glaux',\n 'tlg0006.tlg017': 'glaux',\n 'tlg0006.tlg018': 'glaux',\n 'tlg0006.tlg019': 'glaux',\n 'tlg0007.tlg001': 'glaux',\n 'tlg0007.tlg002': 'glaux',\n 'tlg0007.tlg003': 'glaux',\n 'tlg0007.tlg004': 'agdt',\n 'tlg0007.tlg005': 'glaux',\n 'tlg0007.tlg006': 'glaux',\n 'tlg0007.tlg007': 'glaux',\n 'tlg0007.tlg008': 'glaux',\n 'tlg0007.tlg009': 'glaux',\n 'tlg0007.tlg010': 'glaux',\n 'tlg0007.tlg011': 'glaux',\n 'tlg0007.tlg012': 'glaux',\n 'tlg0007.tlg013': 'glaux',\n 'tlg0007.tlg014': 'glaux',\n 'tlg0007.tlg015': 'agdt',\n 'tlg0007.tlg016': 'glaux',\n 'tlg0007.tlg017': 'glaux',\n 'tlg0007.tlg018': 'glaux',\n 'tlg0007.tlg019': 'glaux',\n 'tlg0007.tlg020': 'glaux',\n 'tlg0007.tlg021': 'glaux',\n 'tlg0007.tlg022': 'glaux',\n 'tlg0007.tlg023': 'glaux',\n 'tlg0007.tlg024': 'glaux',\n 'tlg0007.tlg025': 'glaux',\n 'tlg0007.tlg026': 'glaux',\n 'tlg0007.tlg027': 'glaux',\n 'tlg0007.tlg028': 'glaux',\n 'tlg0007.tlg029': 'glaux',\n 'tlg0007.tlg030': 'glaux',\n 'tlg0007.tlg031': 'glaux',\n 'tlg0007.tlg032': 'glaux',\n 'tlg0007.tlg033': 'glaux',\n 'tlg0007.tlg034': 'glaux',\n 'tlg0007.tlg035': 'glaux',\n 'tlg0007.tlg036': 'glaux',\n 'tlg0007.tlg037': 'glaux',\n 'tlg0007.tlg038': 'glaux',\n 'tlg0007.tlg039': 'glaux',\n 'tlg0007.tlg040': 'glaux',\n 'tlg0007.tlg041': 'glaux',\n 'tlg0007.tlg042': 'glaux',\n 'tlg0007.tlg043': 'glaux',\n 'tlg0007.tlg044': 'glaux',\n 'tlg0007.tlg045': 'glaux',\n 'tlg0007.tlg046': 'glaux',\n 'tlg0007.tlg047': 'glaux',\n 'tlg0007.tlg048': 'glaux',\n 'tlg0007.tlg049': 'glaux',\n 'tlg0007.tlg050': 'glaux',\n 'tlg0007.tlg053': 'glaux',\n 'tlg0007.tlg054': 'glaux',\n 'tlg0007.tlg055': 'glaux',\n 'tlg0007.tlg056': 'glaux',\n 'tlg0007.tlg057': 'glaux',\n 'tlg0007.tlg058': 'glaux',\n 'tlg0007.tlg059': 'glaux',\n 'tlg0007.tlg060': 'glaux',\n 'tlg0007.tlg061': 'glaux',\n 'tlg0007.tlg062': 'glaux',\n 'tlg0007.tlg063': 'glaux',\n 'tlg0007.tlg064': 'glaux',\n 'tlg0007.tlg065': 'glaux',\n 'tlg0007.tlg066': 'glaux',\n 'tlg0007.tlg072': 'glaux',\n 'tlg0007.tlg073': 'glaux',\n 'tlg0007.tlg074': 'glaux',\n 'tlg0007.tlg075': 'glaux',\n 'tlg0007.tlg081': 'glaux',\n 'tlg0007.tlg082': 'glaux',\n 'tlg0007.tlg082a': 'glaux',\n 'tlg0007.tlg082b': 'glaux',\n 'tlg0007.tlg083': 'glaux',\n 'tlg0007.tlg085': 'glaux',\n 'tlg0007.tlg088': 'glaux',\n 'tlg0008.tlg001': 'glaux',\n 'tlg0010.tlg001': 'glaux',\n 'tlg0010.tlg002': 'glaux',\n 'tlg0010.tlg003': 'glaux',\n 'tlg0010.tlg004': 'glaux',\n 'tlg0010.tlg005': 'glaux',\n 'tlg0010.tlg006': 'glaux',\n 'tlg0010.tlg007': 'glaux',\n 'tlg0010.tlg008': 'glaux',\n 'tlg0010.tlg009': 'glaux',\n 'tlg0010.tlg010': 'glaux',\n 'tlg0010.tlg011': 'glaux',\n 'tlg0010.tlg012': 'glaux',\n 'tlg0010.tlg013': 'glaux',\n 'tlg0010.tlg014': 'glaux',\n 'tlg0010.tlg015': 'glaux',\n 'tlg0010.tlg016': 'glaux',\n 'tlg0010.tlg017': 'glaux',\n 'tlg0010.tlg018': 'glaux',\n 'tlg0010.tlg019': 'glaux',\n 'tlg0010.tlg020': 'glaux',\n 'tlg0010.tlg021': 'glaux',\n 'tlg0010.tlg022': 'glaux',\n 'tlg0010.tlg023': 'glaux',\n 'tlg0010.tlg024': 'glaux',\n 'tlg0010.tlg025': 'glaux',\n 'tlg0010.tlg026': 'glaux',\n 'tlg0010.tlg027': 'glaux',\n 'tlg0010.tlg028': 'glaux',\n 'tlg0010.tlg029': 'glaux',\n 'tlg0010.tlg030': 'glaux',\n 'tlg0011.tlg001': 'agdt',\n 'tlg0011.tlg002': 'agdt',\n 'tlg0011.tlg003': 'agdt',\n 'tlg0011.tlg004': 'agdt',\n 'tlg0011.tlg005': 'agdt',\n 'tlg0011.tlg006': 'glaux',\n 'tlg0011.tlg007': 'glaux',\n 'tlg0011.tlg008': 'glaux',\n 'tlg0012.tlg001': 'agdt',\n 'tlg0012.tlg002': 'agdt',\n 'tlg0012.tlg003': 'glaux',\n 'tlg0013.tlg001': 'glaux',\n 'tlg0013.tlg002': 'agdt',\n 'tlg0013.tlg003': 'glaux',\n 'tlg0013.tlg004': 'glaux',\n 'tlg0013.tlg005': 'glaux',\n 'tlg0013.tlg006': 'glaux',\n 'tlg0013.tlg007': 'glaux',\n 'tlg0013.tlg009': 'glaux',\n 'tlg0013.tlg010': 'glaux',\n 'tlg0013.tlg011': 'glaux',\n 'tlg0013.tlg012': 'glaux',\n 'tlg0013.tlg013': 'glaux',\n 'tlg0013.tlg014': 'glaux',\n 'tlg0013.tlg015': 'glaux',\n 'tlg0013.tlg016': 'glaux',\n 'tlg0013.tlg017': 'glaux',\n 'tlg0013.tlg018': 'glaux',\n 'tlg0013.tlg019': 'glaux',\n 'tlg0013.tlg020': 'glaux',\n 'tlg0013.tlg021': 'glaux',\n 'tlg0013.tlg022': 'glaux',\n 'tlg0013.tlg023': 'glaux',\n 'tlg0013.tlg024': 'glaux',\n 'tlg0013.tlg025': 'glaux',\n 'tlg0013.tlg026': 'glaux',\n 'tlg0013.tlg027': 'glaux',\n 'tlg0013.tlg028': 'glaux',\n 'tlg0013.tlg029': 'glaux',\n 'tlg0013.tlg030': 'glaux',\n 'tlg0013.tlg031': 'glaux',\n 'tlg0013.tlg032': 'glaux',\n 'tlg0013.tlg033': 'glaux',\n 'tlg0014.tlg001': 'glaux',\n 'tlg0014.tlg002': 'glaux',\n 'tlg0014.tlg003': 'glaux',\n 'tlg0014.tlg004': 'glaux',\n 'tlg0014.tlg005': 'glaux',\n 'tlg0014.tlg006': 'glaux',\n 'tlg0014.tlg007': 'glaux',\n 'tlg0014.tlg008': 'glaux',\n 'tlg0014.tlg009': 'glaux',\n 'tlg0014.tlg010': 'glaux',\n 'tlg0014.tlg011': 'glaux',\n 'tlg0014.tlg012': 'glaux',\n 'tlg0014.tlg013': 'glaux',\n 'tlg0014.tlg014': 'glaux',\n 'tlg0014.tlg015': 'glaux',\n 'tlg0014.tlg016': 'glaux',\n 'tlg0014.tlg017': 'glaux',\n 'tlg0014.tlg018': 'glaux',\n 'tlg0014.tlg019': 'glaux',\n 'tlg0014.tlg020': 'glaux',\n 'tlg0014.tlg021': 'glaux',\n 'tlg0014.tlg022': 'glaux',\n 'tlg0014.tlg023': 'glaux',\n 'tlg0014.tlg024': 'glaux',\n 'tlg0014.tlg025': 'glaux',\n 'tlg0014.tlg026': 'glaux',\n 'tlg0014.tlg027': 'glaux',\n 'tlg0014.tlg028': 'glaux',\n 'tlg0014.tlg029': 'glaux',\n 'tlg0014.tlg030': 'glaux',\n 'tlg0014.tlg031': 'glaux',\n 'tlg0014.tlg032': 'glaux',\n 'tlg0014.tlg033': 'glaux',\n 'tlg0014.tlg034': 'glaux',\n 'tlg0014.tlg035': 'glaux',\n 'tlg0014.tlg036': 'glaux',\n 'tlg0014.tlg037': 'glaux',\n 'tlg0014.tlg038': 'glaux',\n 'tlg0014.tlg039': 'glaux',\n 'tlg0014.tlg040': 'glaux',\n 'tlg0014.tlg041': 'glaux',\n 'tlg0014.tlg042': 'glaux',\n 'tlg0014.tlg043': 'glaux',\n 'tlg0014.tlg044': 'glaux',\n 'tlg0014.tlg045': 'glaux',\n 'tlg0014.tlg046': 'glaux',\n 'tlg0014.tlg047': 'glaux',\n 'tlg0014.tlg048': 'glaux',\n 'tlg0014.tlg049': 'glaux',\n 'tlg0014.tlg050': 'glaux',\n 'tlg0014.tlg051': 'glaux',\n 'tlg0014.tlg052': 'glaux',\n 'tlg0014.tlg053': 'glaux',\n 'tlg0014.tlg054': 'glaux',\n 'tlg0014.tlg055': 'glaux',\n 'tlg0014.tlg056': 'glaux',\n 'tlg0014.tlg057': 'glaux',\n 'tlg0014.tlg058': 'glaux',\n 'tlg0014.tlg059': 'glaux',\n 'tlg0014.tlg060': 'glaux',\n 'tlg0014.tlg061': 'glaux',\n 'tlg0016.tlg001': 'glaux',\n 'tlg0017.tlg001': 'glaux',\n 'tlg0017.tlg002': 'glaux',\n 'tlg0017.tlg003': 'glaux',\n 'tlg0017.tlg004': 'glaux',\n 'tlg0017.tlg005': 'glaux',\n 'tlg0017.tlg006': 'glaux',\n 'tlg0017.tlg007': 'glaux',\n 'tlg0017.tlg008': 'glaux',\n 'tlg0017.tlg009': 'glaux',\n 'tlg0017.tlg010': 'glaux',\n 'tlg0017.tlg011': 'glaux',\n 'tlg0017.tlg012': 'glaux',\n 'tlg0019.tlg001': 'glaux',\n 'tlg0019.tlg002': 'glaux',\n 'tlg0019.tlg003': 'glaux',\n 'tlg0019.tlg004': 'glaux',\n 'tlg0019.tlg005': 'glaux',\n 'tlg0019.tlg006': 'glaux',\n 'tlg0019.tlg007': 'glaux',\n 'tlg0019.tlg008': 'glaux',\n 'tlg0019.tlg009': 'glaux',\n 'tlg0019.tlg010': 'glaux',\n 'tlg0019.tlg011': 'glaux',\n 'tlg0020.tlg001': 'agdt',\n 'tlg0020.tlg002': 'agdt',\n 'tlg0020.tlg003': 'agdt',\n 'tlg0023.tlg001': 'glaux',\n 'tlg0024.tlg001': 'glaux',\n 'tlg0026.tlg001': 'glaux',\n 'tlg0026.tlg002': 'glaux',\n 'tlg0026.tlg003': 'glaux',\n 'tlg0027.tlg001': 'glaux',\n 'tlg0027.tlg002': 'glaux',\n 'tlg0027.tlg003': 'glaux',\n 'tlg0027.tlg004': 'glaux',\n 'tlg0028.tlg001': 'glaux',\n 'tlg0028.tlg002': 'glaux',\n 'tlg0028.tlg003': 'glaux',\n 'tlg0028.tlg004': 'glaux',\n 'tlg0028.tlg005': 'glaux',\n 'tlg0028.tlg006': 'glaux',\n 'tlg0029.tlg004': 'glaux',\n 'tlg0029.tlg005': 'glaux',\n 'tlg0029.tlg006': 'glaux',\n 'tlg0030.tlg001': 'glaux',\n 'tlg0030.tlg002': 'glaux',\n 'tlg0030.tlg003': 'glaux',\n 'tlg0030.tlg004': 'glaux',\n 'tlg0030.tlg005': 'glaux',\n 'tlg0030.tlg006': 'glaux',\n 'tlg0032.tlg001': 'glaux',\n 'tlg0032.tlg002': 'glaux',\n 'tlg0032.tlg003': 'glaux',\n 'tlg0032.tlg004': 'glaux',\n 'tlg0032.tlg005': 'glaux',\n 'tlg0032.tlg006': 'glaux',\n 'tlg0032.tlg007': 'glaux',\n 'tlg0032.tlg008': 'glaux',\n 'tlg0032.tlg009': 'glaux',\n 'tlg0032.tlg010': 'glaux',\n 'tlg0032.tlg011': 'glaux',\n 'tlg0032.tlg012': 'glaux',\n 'tlg0032.tlg013': 'glaux',\n 'tlg0032.tlg014': 'glaux',\n 'tlg0033.tlg001': 'glaux',\n 'tlg0033.tlg002': 'glaux',\n 'tlg0033.tlg003': 'glaux',\n 'tlg0033.tlg004': 'glaux',\n 'tlg0034.tlg001': 'glaux',\n 'tlg0035.tlg001': 'glaux',\n 'tlg0035.tlg002': 'glaux',\n 'tlg0035.tlg003': 'glaux',\n 'tlg0035.tlg004': 'glaux',\n 'tlg0035.tlg005': 'glaux',\n 'tlg0036.tlg001': 'glaux',\n 'tlg0036.tlg002': 'glaux',\n 'tlg0036.tlg003': 'glaux',\n 'tlg0057.tlg010': 'glaux',\n 'tlg0058.tlg001': 'glaux',\n 'tlg0059.tlg001': 'agdt',\n 'tlg0059.tlg002': 'glaux',\n 'tlg0059.tlg003': 'glaux',\n 'tlg0059.tlg004': 'glaux',\n 'tlg0059.tlg005': 'glaux',\n 'tlg0059.tlg006': 'glaux',\n 'tlg0059.tlg007': 'glaux',\n 'tlg0059.tlg008': 'glaux',\n 'tlg0059.tlg009': 'glaux',\n 'tlg0059.tlg010': 'glaux',\n 'tlg0059.tlg011': 'glaux',\n 'tlg0059.tlg012': 'glaux',\n 'tlg0059.tlg013': 'glaux',\n 'tlg0059.tlg014': 'glaux',\n 'tlg0059.tlg015': 'glaux',\n 'tlg0059.tlg016': 'glaux',\n 'tlg0059.tlg017': 'glaux',\n 'tlg0059.tlg018': 'glaux',\n 'tlg0059.tlg019': 'glaux',\n 'tlg0059.tlg020': 'glaux',\n 'tlg0059.tlg021': 'glaux',\n 'tlg0059.tlg022': 'glaux',\n 'tlg0059.tlg023': 'glaux',\n 'tlg0059.tlg024': 'glaux',\n 'tlg0059.tlg025': 'glaux',\n 'tlg0059.tlg026': 'glaux',\n 'tlg0059.tlg027': 'glaux',\n 'tlg0059.tlg028': 'glaux',\n 'tlg0059.tlg029': 'glaux',\n 'tlg0059.tlg030': 'glaux',\n 'tlg0059.tlg031': 'glaux',\n 'tlg0059.tlg032': 'glaux',\n 'tlg0059.tlg033': 'glaux',\n 'tlg0059.tlg034': 'glaux',\n 'tlg0059.tlg035': 'glaux',\n 'tlg0059.tlg036': 'glaux',\n 'tlg0060.tlg001': 'glaux',\n 'tlg0062.tlg001': 'glaux',\n 'tlg0062.tlg002': 'glaux',\n 'tlg0062.tlg003': 'glaux',\n 'tlg0062.tlg004': 'glaux',\n 'tlg0062.tlg005': 'glaux',\n 'tlg0062.tlg006': 'glaux',\n 'tlg0062.tlg007': 'glaux',\n 'tlg0062.tlg008': 'glaux',\n 'tlg0062.tlg009': 'glaux',\n 'tlg0062.tlg010': 'glaux',\n 'tlg0062.tlg011': 'glaux',\n 'tlg0062.tlg012': 'glaux',\n 'tlg0062.tlg013': 'glaux',\n 'tlg0062.tlg014': 'glaux',\n 'tlg0062.tlg015': 'glaux',\n 'tlg0062.tlg016': 'glaux',\n 'tlg0062.tlg017': 'glaux',\n 'tlg0062.tlg018': 'glaux',\n 'tlg0062.tlg019': 'glaux',\n 'tlg0062.tlg020': 'glaux',\n 'tlg0062.tlg021': 'glaux',\n 'tlg0062.tlg022': 'glaux',\n 'tlg0062.tlg023': 'glaux',\n 'tlg0062.tlg024': 'glaux',\n 'tlg0062.tlg025': 'glaux',\n 'tlg0062.tlg026': 'glaux',\n 'tlg0062.tlg027': 'glaux',\n 'tlg0062.tlg028': 'glaux',\n 'tlg0062.tlg029': 'glaux',\n 'tlg0062.tlg030': 'glaux',\n 'tlg0062.tlg031': 'glaux',\n 'tlg0062.tlg032': 'glaux',\n 'tlg0062.tlg033': 'glaux',\n 'tlg0062.tlg034': 'glaux',\n 'tlg0062.tlg035': 'glaux',\n 'tlg0062.tlg036': 'glaux',\n 'tlg0062.tlg037': 'glaux',\n 'tlg0062.tlg038': 'glaux',\n 'tlg0062.tlg039': 'glaux',\n 'tlg0062.tlg040': 'glaux',\n 'tlg0062.tlg041': 'glaux',\n 'tlg0062.tlg042': 'glaux',\n 'tlg0062.tlg043': 'glaux',\n 'tlg0062.tlg044': 'glaux',\n 'tlg0062.tlg045': 'glaux',\n 'tlg0062.tlg046': 'glaux',\n 'tlg0062.tlg047': 'glaux',\n 'tlg0062.tlg048': 'glaux',\n 'tlg0062.tlg049': 'glaux',\n 'tlg0062.tlg050': 'glaux',\n 'tlg0062.tlg051': 'glaux',\n 'tlg0062.tlg052': 'glaux',\n 'tlg0062.tlg053': 'glaux',\n 'tlg0062.tlg054': 'glaux',\n 'tlg0062.tlg055': 'glaux',\n 'tlg0062.tlg056': 'glaux',\n 'tlg0062.tlg057': 'glaux',\n 'tlg0062.tlg058': 'glaux',\n 'tlg0062.tlg059': 'glaux',\n 'tlg0062.tlg060': 'glaux',\n 'tlg0062.tlg061': 'glaux',\n 'tlg0062.tlg062': 'glaux',\n 'tlg0062.tlg063': 'glaux',\n 'tlg0062.tlg064': 'glaux',\n 'tlg0062.tlg065': 'glaux',\n 'tlg0062.tlg066': 'glaux',\n 'tlg0062.tlg067': 'glaux',\n 'tlg0062.tlg068': 'glaux',\n 'tlg0062.tlg069': 'glaux',\n 'tlg0062.tlg070': 'glaux',\n 'tlg0062.tlg071': 'glaux',\n 'tlg0074.tlg001': 'glaux',\n 'tlg0074.tlg002': 'glaux',\n 'tlg0074.tlg003': 'glaux',\n 'tlg0074.tlg004': 'glaux',\n 'tlg0074.tlg005': 'glaux',\n 'tlg0074.tlg006': 'glaux',\n 'tlg0081.tlg001': 'glaux',\n 'tlg0081.tlg002': 'glaux',\n 'tlg0081.tlg003': 'glaux',\n 'tlg0081.tlg004': 'glaux',\n 'tlg0081.tlg005': 'glaux',\n 'tlg0081.tlg006': 'glaux',\n 'tlg0081.tlg008': 'glaux',\n 'tlg0081.tlg009': 'glaux',\n 'tlg0081.tlg010': 'glaux',\n 'tlg0081.tlg011': 'glaux',\n 'tlg0081.tlg012': 'glaux',\n 'tlg0081.tlg015': 'glaux',\n 'tlg0085.tlg001': 'agdt',\n 'tlg0085.tlg002': 'agdt',\n 'tlg0085.tlg003': 'agdt',\n 'tlg0085.tlg004': 'agdt',\n 'tlg0085.tlg005': 'agdt',\n 'tlg0085.tlg006': 'agdt',\n 'tlg0085.tlg007': 'agdt',\n 'tlg0086.tlg003': 'glaux',\n 'tlg0086.tlg009': 'glaux',\n 'tlg0086.tlg010': 'glaux',\n 'tlg0086.tlg025': 'glaux',\n 'tlg0086.tlg029': 'glaux',\n 'tlg0086.tlg035': 'glaux',\n 'tlg0086.tlg038': 'glaux',\n 'tlg0086.tlg045': 'glaux',\n 'tlg0093.tlg009': 'glaux',\n 'tlg0094.tlg002': 'glaux',\n 'tlg0099.tlg001': 'glaux',\n 'tlg0199.tlg001': 'glaux',\n 'tlg0199.tlg002': 'glaux',\n 'tlg0284.tlg001': 'glaux',\n 'tlg0284.tlg002': 'glaux',\n 'tlg0284.tlg003': 'glaux',\n 'tlg0284.tlg004': 'glaux',\n 'tlg0284.tlg005': 'glaux',\n 'tlg0284.tlg006': 'glaux',\n 'tlg0284.tlg007': 'glaux',\n 'tlg0284.tlg008': 'glaux',\n 'tlg0284.tlg009': 'glaux',\n 'tlg0284.tlg010': 'glaux',\n 'tlg0284.tlg011': 'glaux',\n 'tlg0284.tlg012': 'glaux',\n 'tlg0284.tlg013': 'glaux',\n 'tlg0284.tlg014': 'glaux',\n 'tlg0284.tlg015': 'glaux',\n 'tlg0284.tlg016': 'glaux',\n 'tlg0284.tlg017': 'glaux',\n 'tlg0284.tlg018': 'glaux',\n 'tlg0284.tlg019': 'glaux',\n 'tlg0284.tlg020': 'glaux',\n 'tlg0284.tlg021': 'glaux',\n 'tlg0284.tlg022': 'glaux',\n 'tlg0284.tlg023': 'glaux',\n 'tlg0284.tlg024': 'glaux',\n 'tlg0284.tlg025': 'glaux',\n 'tlg0284.tlg026': 'glaux',\n 'tlg0284.tlg027': 'glaux',\n 'tlg0284.tlg028': 'glaux',\n 'tlg0284.tlg029': 'glaux',\n 'tlg0284.tlg030': 'glaux',\n 'tlg0284.tlg031': 'glaux',\n 'tlg0284.tlg032': 'glaux',\n 'tlg0284.tlg033': 'glaux',\n 'tlg0284.tlg034': 'glaux',\n 'tlg0284.tlg035': 'glaux',\n 'tlg0284.tlg036': 'glaux',\n 'tlg0284.tlg037': 'glaux',\n 'tlg0284.tlg038': 'glaux',\n 'tlg0284.tlg039': 'glaux',\n 'tlg0284.tlg040': 'glaux',\n 'tlg0284.tlg041': 'glaux',\n 'tlg0284.tlg042': 'glaux',\n 'tlg0284.tlg043': 'glaux',\n 'tlg0284.tlg044': 'glaux',\n 'tlg0284.tlg045': 'glaux',\n 'tlg0284.tlg046': 'glaux',\n 'tlg0284.tlg047': 'glaux',\n 'tlg0284.tlg048': 'glaux',\n 'tlg0284.tlg049': 'glaux',\n 'tlg0284.tlg050': 'glaux',\n 'tlg0284.tlg051': 'glaux',\n 'tlg0284.tlg052': 'glaux',\n 'tlg0284.tlg053': 'glaux',\n 'tlg0284.tlg054': 'glaux',\n 'tlg0284.tlg055': 'glaux',\n 'tlg0284.tlg056': 'glaux',\n 'tlg0341.tlg002': 'glaux',\n 'tlg0385.tlg001': 'glaux',\n 'tlg0525.tlg001': 'glaux',\n 'tlg0526.tlg001': 'glaux',\n 'tlg0526.tlg002': 'glaux',\n 'tlg0526.tlg003': 'glaux',\n 'tlg0526.tlg004': 'glaux',\n 'tlg0532.tlg001': 'glaux',\n 'tlg0533.tlg003': 'glaux',\n 'tlg0533.tlg004': 'glaux',\n 'tlg0533.tlg015': 'glaux',\n 'tlg0533.tlg016': 'glaux',\n 'tlg0533.tlg017': 'glaux',\n 'tlg0533.tlg018': 'glaux',\n 'tlg0533.tlg019': 'glaux',\n 'tlg0533.tlg020': 'glaux',\n 'tlg0535.tlg001': 'glaux',\n 'tlg0540.tlg001': 'agdt',\n 'tlg0540.tlg002': 'glaux',\n 'tlg0540.tlg003': 'glaux',\n 'tlg0540.tlg004': 'glaux',\n 'tlg0540.tlg005': 'glaux',\n 'tlg0540.tlg006': 'glaux',\n 'tlg0540.tlg007': 'glaux',\n 'tlg0540.tlg008': 'glaux',\n 'tlg0540.tlg009': 'glaux',\n 'tlg0540.tlg010': 'glaux',\n 'tlg0540.tlg011': 'glaux',\n 'tlg0540.tlg012': 'glaux',\n 'tlg0540.tlg013': 'glaux',\n 'tlg0540.tlg014': 'agdt',\n 'tlg0540.tlg015': 'agdt',\n 'tlg0540.tlg016': 'glaux',\n 'tlg0540.tlg017': 'glaux',\n 'tlg0540.tlg018': 'glaux',\n 'tlg0540.tlg019': 'glaux',\n 'tlg0540.tlg020': 'glaux',\n 'tlg0540.tlg021': 'glaux',\n 'tlg0540.tlg022': 'glaux',\n 'tlg0540.tlg023': 'agdt',\n 'tlg0540.tlg024': 'glaux',\n 'tlg0540.tlg025': 'glaux',\n 'tlg0540.tlg026': 'glaux',\n 'tlg0540.tlg027': 'glaux',\n 'tlg0540.tlg028': 'glaux',\n 'tlg0540.tlg029': 'glaux',\n 'tlg0540.tlg030': 'glaux',\n 'tlg0540.tlg031': 'glaux',\n 'tlg0540.tlg032': 'glaux',\n 'tlg0540.tlg033': 'glaux',\n 'tlg0540.tlg034': 'glaux',\n 'tlg0543.tlg001': 'glaux',\n 'tlg0545.tlg001': 'glaux',\n 'tlg0545.tlg002': 'glaux',\n 'tlg0545.tlg003': 'glaux',\n 'tlg0548.tlg001': 'glaux',\n 'tlg0548.tlg002': 'glaux',\n 'tlg0551.tlg002': 'glaux',\n 'tlg0551.tlg003': 'glaux',\n 'tlg0551.tlg004': 'glaux',\n 'tlg0551.tlg005': 'glaux',\n 'tlg0551.tlg006': 'glaux',\n 'tlg0551.tlg007': 'glaux',\n 'tlg0551.tlg008': 'glaux',\n 'tlg0551.tlg009': 'glaux',\n 'tlg0551.tlg010': 'glaux',\n 'tlg0551.tlg011': 'glaux',\n 'tlg0551.tlg012': 'glaux',\n 'tlg0551.tlg013': 'glaux',\n 'tlg0551.tlg014': 'glaux',\n 'tlg0551.tlg017': 'glaux',\n 'tlg0554.tlg001': 'glaux',\n 'tlg0555.tlg001': 'glaux',\n 'tlg0555.tlg006': 'glaux',\n 'tlg0555.tlg008': 'glaux',\n 'tlg0556.tlg001': 'glaux',\n 'tlg0557.tlg001': 'glaux',\n 'tlg0557.tlg002': 'glaux',\n 'tlg0557.tlg003': 'glaux',\n 'tlg0560.tlg001': 'glaux',\n 'tlg0561.tlg001': 'glaux',\n 'tlg0562.tlg001': 'glaux',\n 'tlg0613.tlg001': 'glaux',\n 'tlg0627.tlg001': 'glaux',\n 'tlg0627.tlg002': 'glaux',\n 'tlg0627.tlg003': 'glaux',\n 'tlg0627.tlg004': 'glaux',\n 'tlg0627.tlg005': 'glaux',\n 'tlg0627.tlg006': 'glaux',\n 'tlg0627.tlg007': 'glaux',\n 'tlg0627.tlg008': 'glaux',\n 'tlg0627.tlg009': 'glaux',\n 'tlg0627.tlg010': 'glaux',\n 'tlg0627.tlg011': 'glaux',\n 'tlg0627.tlg012': 'glaux',\n 'tlg0627.tlg013': 'glaux',\n 'tlg0627.tlg027': 'glaux',\n 'tlg0627.tlg028': 'glaux',\n 'tlg0627.tlg029': 'glaux',\n 'tlg0627.tlg030': 'glaux',\n 'tlg0627.tlg046': 'glaux',\n 'tlg0627.tlg051': 'glaux',\n 'tlg0638.tlg001': 'glaux',\n 'tlg0638.tlg003': 'glaux',\n 'tlg0638.tlg004': 'glaux',\n 'tlg0638.tlg005': 'glaux',\n 'tlg0638.tlg006': 'glaux',\n 'tlg0638.tlg007': 'glaux',\n 'tlg0641.tlg001': 'glaux',\n 'tlg0648.tlg001': 'glaux',\n 'tlg0653.tlg001': 'glaux',\n 'tlg0655.tlg001': 'glaux',\n 'tlg0719.tlg001': 'glaux',\n 'tlg0719.tlg002': 'glaux',\n 'tlg0719.tlg003': 'glaux',\n 'tlg0719.tlg004': 'glaux',\n 'tlg1216.tlg001': 'glaux',\n 'tlg1389.tlg001': 'glaux',\n 'tlg1600.tlg001': 'glaux',\n 'tlg1799.tlg001': 'glaux',\n '0041-001': 'pedalion',\n '0537-012': 'pedalion',\n '0544-002': 'pedalion',\n '1220-001': 'pedalion',\n '0006-003': 'pedalion',\n '2003-001': 'pedalion',\n '4029-001': 'pedalion',\n 'tlg0007.tlg086': 'gorman',\n 'tlg0007.tlg087': 'gorman'}"
     },
     "execution_count": 86,
     "metadata": {},
     "output_type": "execute_result"
    }
   ],
   "source": [
    "lemmata_source_dict"
   ],
   "metadata": {
    "collapsed": false,
    "ExecuteTime": {
     "end_time": "2024-01-16T21:43:09.049909Z",
     "start_time": "2024-01-16T21:43:09.015487Z"
    }
   },
   "execution_count": 86
  },
  {
   "cell_type": "code",
   "outputs": [
    {
     "data": {
      "text/plain": "'tlg2003.tlg001'"
     },
     "execution_count": 89,
     "metadata": {},
     "output_type": "execute_result"
    }
   ],
   "source": [
    "key = \"2003-001\"\n",
    "groups = re.search(\"(\\d{4})\\-(\\d{3})\", key).groups()\n",
    "key_updated = \"tlg\" + groups[0] + \".tlg\" + groups[1]\n",
    "key_updated"
   ],
   "metadata": {
    "collapsed": false,
    "ExecuteTime": {
     "end_time": "2024-01-16T21:49:05.025838Z",
     "start_time": "2024-01-16T21:49:04.993260Z"
    }
   },
   "execution_count": 89
  },
  {
   "cell_type": "code",
   "outputs": [],
   "source": [
    "for key in list(lemmata_source_dict.keys()):\n",
    "    if \"tlg\" not in key:\n",
    "        groups = re.search(\"(\\d{4})\\-(\\d{3})\", key).groups()\n",
    "        key_updated = \"tlg\" + groups[0] + \".tlg\" + groups[1]\n",
    "        lemmata_source_dict[key_updated] = lemmata_source_dict[key]\n",
    "        del lemmata_source_dict[key]"
   ],
   "metadata": {
    "collapsed": false,
    "ExecuteTime": {
     "end_time": "2024-01-16T21:51:41.529149Z",
     "start_time": "2024-01-16T21:51:41.489027Z"
    }
   },
   "execution_count": 91
  },
  {
   "cell_type": "code",
   "outputs": [
    {
     "data": {
      "text/plain": "{'tlg0031.tlg001': 'morphgnt',\n 'tlg0031.tlg002': 'morphgnt',\n 'tlg0031.tlg003': 'morphgnt',\n 'tlg0031.tlg004': 'morphgnt',\n 'tlg0031.tlg005': 'morphgnt',\n 'tlg0031.tlg006': 'morphgnt',\n 'tlg0031.tlg007': 'morphgnt',\n 'tlg0031.tlg008': 'morphgnt',\n 'tlg0031.tlg009': 'morphgnt',\n 'tlg0031.tlg010': 'morphgnt',\n 'tlg0031.tlg011': 'morphgnt',\n 'tlg0031.tlg012': 'morphgnt',\n 'tlg0031.tlg013': 'morphgnt',\n 'tlg0031.tlg014': 'morphgnt',\n 'tlg0031.tlg015': 'morphgnt',\n 'tlg0031.tlg016': 'morphgnt',\n 'tlg0031.tlg017': 'morphgnt',\n 'tlg0031.tlg018': 'morphgnt',\n 'tlg0031.tlg019': 'morphgnt',\n 'tlg0031.tlg020': 'morphgnt',\n 'tlg0031.tlg021': 'morphgnt',\n 'tlg0031.tlg022': 'morphgnt',\n 'tlg0031.tlg023': 'morphgnt',\n 'tlg0031.tlg024': 'morphgnt',\n 'tlg0031.tlg025': 'morphgnt',\n 'tlg0031.tlg026': 'morphgnt',\n 'tlg0031.tlg027': 'morphgnt',\n 'tlg0527.tlg001': 'lxxmorph',\n 'tlg0527.tlg002': 'lxxmorph',\n 'tlg0527.tlg003': 'lxxmorph',\n 'tlg0527.tlg004': 'lxxmorph',\n 'tlg0527.tlg005': 'lxxmorph',\n 'tlg0527.tlg006': 'lxxmorph',\n 'tlg0527.tlg008': 'lxxmorph',\n 'tlg0527.tlg010': 'lxxmorph',\n 'tlg0527.tlg011': 'lxxmorph',\n 'tlg0527.tlg012': 'lxxmorph',\n 'tlg0527.tlg013': 'lxxmorph',\n 'tlg0527.tlg014': 'lxxmorph',\n 'tlg0527.tlg015': 'lxxmorph',\n 'tlg0527.tlg016': 'lxxmorph',\n 'tlg0527.tlg017': 'lxxmorph',\n 'tlg0527.tlg018': 'lxxmorph',\n 'tlg0527.tlg019': 'lxxmorph',\n 'tlg0527.tlg020': 'lxxmorph',\n 'tlg0527.tlg021': 'lxxmorph',\n 'tlg0527.tlg023': 'lxxmorph',\n 'tlg0527.tlg024': 'lxxmorph',\n 'tlg0527.tlg025': 'lxxmorph',\n 'tlg0527.tlg026': 'lxxmorph',\n 'tlg0527.tlg027': 'lxxmorph',\n 'tlg0527.tlg028': 'lxxmorph',\n 'tlg0527.tlg029': 'lxxmorph',\n 'tlg0527.tlg031': 'lxxmorph',\n 'tlg0527.tlg032': 'lxxmorph',\n 'tlg0527.tlg033': 'lxxmorph',\n 'tlg0527.tlg034': 'lxxmorph',\n 'tlg0527.tlg035': 'lxxmorph',\n 'tlg0527.tlg036': 'lxxmorph',\n 'tlg0527.tlg037': 'lxxmorph',\n 'tlg0527.tlg038': 'lxxmorph',\n 'tlg0527.tlg039': 'lxxmorph',\n 'tlg0527.tlg040': 'lxxmorph',\n 'tlg0527.tlg041': 'lxxmorph',\n 'tlg0527.tlg042': 'lxxmorph',\n 'tlg0527.tlg043': 'lxxmorph',\n 'tlg0527.tlg044': 'lxxmorph',\n 'tlg0527.tlg045': 'lxxmorph',\n 'tlg0527.tlg046': 'lxxmorph',\n 'tlg0527.tlg047': 'lxxmorph',\n 'tlg0527.tlg048': 'lxxmorph',\n 'tlg0527.tlg049': 'lxxmorph',\n 'tlg0527.tlg050': 'lxxmorph',\n 'tlg0527.tlg051': 'lxxmorph',\n 'tlg0527.tlg052': 'lxxmorph',\n 'tlg0527.tlg053': 'lxxmorph',\n 'tlg0527.tlg054': 'lxxmorph',\n 'tlg0527.tlg055': 'lxxmorph',\n 'tlg0527.tlg056': 'lxxmorph',\n 'tlg0527.tlg057': 'lxxmorph',\n 'tlg0527.tlg058': 'lxxmorph',\n 'tlg0527.tlg059': 'lxxmorph',\n 'tlg0015.tlg001': 'glaux',\n 'tlg0057.tlg001': 'glaux',\n 'tlg0057.tlg002': 'glaux',\n 'tlg0057.tlg003': 'glaux',\n 'tlg0057.tlg004': 'glaux',\n 'tlg0057.tlg006': 'glaux',\n 'tlg0057.tlg007': 'glaux',\n 'tlg0057.tlg008': 'glaux',\n 'tlg0057.tlg009': 'glaux',\n 'tlg0057.tlg011': 'glaux',\n 'tlg0057.tlg012': 'glaux',\n 'tlg0057.tlg013': 'glaux',\n 'tlg0057.tlg014': 'glaux',\n 'tlg0057.tlg015': 'glaux',\n 'tlg0057.tlg016': 'glaux',\n 'tlg0057.tlg017': 'glaux',\n 'tlg0057.tlg018': 'glaux',\n 'tlg0057.tlg019': 'glaux',\n 'tlg0057.tlg020': 'glaux',\n 'tlg0057.tlg021': 'glaux',\n 'tlg0057.tlg022': 'glaux',\n 'tlg0057.tlg023': 'glaux',\n 'tlg0057.tlg024': 'glaux',\n 'tlg0057.tlg025': 'glaux',\n 'tlg0057.tlg027': 'glaux',\n 'tlg0057.tlg028': 'glaux',\n 'tlg0057.tlg029': 'glaux',\n 'tlg0057.tlg030': 'glaux',\n 'tlg0057.tlg031': 'glaux',\n 'tlg0057.tlg032': 'glaux',\n 'tlg0057.tlg034': 'glaux',\n 'tlg0057.tlg035': 'glaux',\n 'tlg0057.tlg036': 'glaux',\n 'tlg0057.tlg038': 'glaux',\n 'tlg0057.tlg039': 'glaux',\n 'tlg0057.tlg040': 'glaux',\n 'tlg0057.tlg041': 'glaux',\n 'tlg0057.tlg042': 'glaux',\n 'tlg0057.tlg043': 'glaux',\n 'tlg0057.tlg044': 'glaux',\n 'tlg0057.tlg045': 'glaux',\n 'tlg0057.tlg046': 'glaux',\n 'tlg0057.tlg047': 'glaux',\n 'tlg0057.tlg048': 'glaux',\n 'tlg0057.tlg049': 'glaux',\n 'tlg0057.tlg050': 'glaux',\n 'tlg0057.tlg051': 'glaux',\n 'tlg0057.tlg052': 'glaux',\n 'tlg0057.tlg053': 'glaux',\n 'tlg0057.tlg054': 'glaux',\n 'tlg0057.tlg055': 'glaux',\n 'tlg0057.tlg056': 'glaux',\n 'tlg0057.tlg057': 'glaux',\n 'tlg0057.tlg058': 'glaux',\n 'tlg0057.tlg059': 'glaux',\n 'tlg0057.tlg060': 'glaux',\n 'tlg0057.tlg061': 'glaux',\n 'tlg0057.tlg062': 'glaux',\n 'tlg0057.tlg063': 'glaux',\n 'tlg0057.tlg064': 'glaux',\n 'tlg0057.tlg065': 'glaux',\n 'tlg0057.tlg066': 'glaux',\n 'tlg0057.tlg067': 'glaux',\n 'tlg0057.tlg068': 'glaux',\n 'tlg0057.tlg069': 'glaux',\n 'tlg0057.tlg070': 'glaux',\n 'tlg0057.tlg071': 'glaux',\n 'tlg0057.tlg072': 'glaux',\n 'tlg0057.tlg073': 'glaux',\n 'tlg0057.tlg074': 'glaux',\n 'tlg0057.tlg075': 'glaux',\n 'tlg0057.tlg076': 'glaux',\n 'tlg0057.tlg077': 'glaux',\n 'tlg0057.tlg078': 'glaux',\n 'tlg0057.tlg079': 'glaux',\n 'tlg0057.tlg081': 'glaux',\n 'tlg0057.tlg082': 'glaux',\n 'tlg0057.tlg083': 'glaux',\n 'tlg0057.tlg084': 'glaux',\n 'tlg0057.tlg085': 'glaux',\n 'tlg0057.tlg086': 'glaux',\n 'tlg0057.tlg087': 'glaux',\n 'tlg0057.tlg089': 'glaux',\n 'tlg0057.tlg092': 'glaux',\n 'tlg0057.tlg093': 'glaux',\n 'tlg0057.tlg094': 'glaux',\n 'tlg0057.tlg095': 'glaux',\n 'tlg0057.tlg096': 'glaux',\n 'tlg0057.tlg099': 'glaux',\n 'tlg0057.tlg100': 'glaux',\n 'tlg0057.tlg101': 'glaux',\n 'tlg0057.tlg102': 'glaux',\n 'tlg0057.tlg103': 'glaux',\n 'tlg0057.tlg107': 'glaux',\n 'tlg0057.tlg114': 'glaux',\n 'tlg0059.tlg037': 'glaux',\n 'tlg0064.tlg001': 'glaux',\n 'tlg0067.tlg001': 'glaux',\n 'tlg0086.tlg001': 'glaux',\n 'tlg0086.tlg002': 'glaux',\n 'tlg0086.tlg006': 'glaux',\n 'tlg0086.tlg008': 'glaux',\n 'tlg0086.tlg013': 'glaux',\n 'tlg0086.tlg014': 'glaux',\n 'tlg0086.tlg015': 'glaux',\n 'tlg0086.tlg016': 'glaux',\n 'tlg0086.tlg017': 'glaux',\n 'tlg0086.tlg018': 'glaux',\n 'tlg0086.tlg020': 'glaux',\n 'tlg0086.tlg021': 'glaux',\n 'tlg0086.tlg024': 'glaux',\n 'tlg0086.tlg026': 'glaux',\n 'tlg0086.tlg034': 'glaux',\n 'tlg0086.tlg037': 'glaux',\n 'tlg0086.tlg040': 'glaux',\n 'tlg0086.tlg041': 'glaux',\n 'tlg0086.tlg042': 'glaux',\n 'tlg0086.tlg043': 'glaux',\n 'tlg0086.tlg044': 'glaux',\n 'tlg0086.tlg054': 'glaux',\n 'tlg0087.tlg004': 'glaux',\n 'tlg0357.tlg001': 'glaux',\n 'tlg0358.tlg001': 'glaux',\n 'tlg0358.tlg002': 'glaux',\n 'tlg0358.tlg004': 'glaux',\n 'tlg0358.tlg005': 'glaux',\n 'tlg0361.tlg001': 'glaux',\n 'tlg0552.tlg001': 'glaux',\n 'tlg0552.tlg002': 'glaux',\n 'tlg0552.tlg003': 'glaux',\n 'tlg0552.tlg004': 'glaux',\n 'tlg0552.tlg005': 'glaux',\n 'tlg0552.tlg006': 'glaux',\n 'tlg0552.tlg007': 'glaux',\n 'tlg0552.tlg009': 'glaux',\n 'tlg0552.tlg010': 'glaux',\n 'tlg0552.tlg011': 'glaux',\n 'tlg0552.tlg012': 'glaux',\n 'tlg0552.tlg013': 'glaux',\n 'tlg0555.tlg002': 'glaux',\n 'tlg0555.tlg005': 'glaux',\n 'tlg0555.tlg007': 'glaux',\n 'tlg0559.tlg001': 'glaux',\n 'tlg0559.tlg002': 'glaux',\n 'tlg0559.tlg004': 'glaux',\n 'tlg0559.tlg005': 'glaux',\n 'tlg0559.tlg006': 'glaux',\n 'tlg0559.tlg007': 'glaux',\n 'tlg0559.tlg010': 'glaux',\n 'tlg0559.tlg011': 'glaux',\n 'tlg0559.tlg012': 'glaux',\n 'tlg0559.tlg014': 'glaux',\n 'tlg0592.tlg001': 'glaux',\n 'tlg0592.tlg002': 'glaux',\n 'tlg0592.tlg003': 'glaux',\n 'tlg0592.tlg004': 'glaux',\n 'tlg0592.tlg005': 'glaux',\n 'tlg0606.tlg001': 'glaux',\n 'tlg0614.tlg001': 'glaux',\n 'tlg0627.tlg014': 'glaux',\n 'tlg0627.tlg015': 'glaux',\n 'tlg0627.tlg016': 'glaux',\n 'tlg0627.tlg017': 'glaux',\n 'tlg0627.tlg018': 'glaux',\n 'tlg0627.tlg019': 'glaux',\n 'tlg0627.tlg020': 'glaux',\n 'tlg0627.tlg021': 'glaux',\n 'tlg0627.tlg022': 'glaux',\n 'tlg0627.tlg023': 'glaux',\n 'tlg0627.tlg024a': 'glaux',\n 'tlg0627.tlg024b': 'glaux',\n 'tlg0627.tlg025': 'glaux',\n 'tlg0627.tlg026': 'glaux',\n 'tlg0627.tlg031': 'glaux',\n 'tlg0627.tlg032': 'glaux',\n 'tlg0627.tlg033': 'glaux',\n 'tlg0627.tlg035': 'glaux',\n 'tlg0627.tlg036': 'glaux',\n 'tlg0627.tlg037': 'glaux',\n 'tlg0627.tlg038': 'glaux',\n 'tlg0627.tlg039': 'glaux',\n 'tlg0627.tlg040': 'glaux',\n 'tlg0627.tlg041': 'glaux',\n 'tlg0627.tlg042': 'glaux',\n 'tlg0627.tlg043': 'glaux',\n 'tlg0627.tlg045': 'glaux',\n 'tlg0627.tlg047': 'glaux',\n 'tlg0627.tlg048': 'glaux',\n 'tlg0627.tlg049': 'glaux',\n 'tlg0627.tlg050': 'glaux',\n 'tlg0627.tlg052': 'glaux',\n 'tlg0627.tlg053': 'glaux',\n 'tlg0627.tlg055': 'glaux',\n 'tlg0671.tlg001': 'glaux',\n 'tlg0708.tlg001': 'glaux',\n 'tlg0732.tlg001': 'glaux',\n 'tlg0732.tlg011': 'glaux',\n 'tlg0732.tlg012': 'glaux',\n 'tlg0751.tlg034': 'glaux',\n 'tlg1126.tlg003': 'glaux',\n 'tlg1181.tlg001': 'glaux',\n 'tlg1205.tlg001': 'glaux',\n 'tlg1205.tlg002': 'glaux',\n 'tlg1210.tlg001': 'glaux',\n 'tlg1210.tlg002': 'glaux',\n 'tlg1252.tlg002': 'glaux',\n 'tlg1271.tlg001': 'glaux',\n 'tlg1271.tlg002': 'glaux',\n 'tlg1311.tlg001': 'glaux',\n 'tlg1337.tlg003': 'glaux',\n 'tlg1431.tlg003': 'glaux',\n 'tlg1487.tlg001': 'glaux',\n 'tlg1487.tlg002': 'glaux',\n 'tlg1622.tlg001': 'glaux',\n 'tlg1665.tlg001': 'glaux',\n 'tlg1765.tlg003': 'glaux',\n 'tlg1765.tlg004': 'glaux',\n 'tlg1765.tlg005': 'glaux',\n 'tlg1766.tlg001': 'glaux',\n 'tlg1799.tlg008': 'glaux',\n 'tlg1799.tlg010': 'glaux',\n 'tlg1799.tlg011': 'glaux',\n 'tlg1799.tlg012': 'glaux',\n 'tlg1799.tlg013': 'glaux',\n 'tlg1799.tlg014': 'glaux',\n 'tlg1799.tlg015': 'glaux',\n 'tlg1799.tlg017': 'glaux',\n 'tlg2042.tlg001': 'glaux',\n 'tlg2042.tlg007': 'glaux',\n 'tlg2042.tlg008': 'glaux',\n 'tlg2042.tlg012': 'glaux',\n 'tlg2138.tlg001': 'glaux',\n 'tlg2139.tlg001': 'glaux',\n 'tlg0001.tlg001': 'glaux',\n 'tlg0003.tlg001': 'glaux',\n 'tlg0005.tlg001': 'glaux',\n 'tlg0005.tlg002': 'glaux',\n 'tlg0006.tlg007': 'glaux',\n 'tlg0006.tlg008': 'glaux',\n 'tlg0006.tlg009': 'glaux',\n 'tlg0006.tlg010': 'glaux',\n 'tlg0006.tlg011': 'glaux',\n 'tlg0006.tlg012': 'glaux',\n 'tlg0006.tlg013': 'glaux',\n 'tlg0006.tlg014': 'glaux',\n 'tlg0006.tlg015': 'glaux',\n 'tlg0006.tlg016': 'glaux',\n 'tlg0006.tlg017': 'glaux',\n 'tlg0006.tlg018': 'glaux',\n 'tlg0006.tlg019': 'glaux',\n 'tlg0007.tlg001': 'glaux',\n 'tlg0007.tlg002': 'glaux',\n 'tlg0007.tlg003': 'glaux',\n 'tlg0007.tlg004': 'agdt',\n 'tlg0007.tlg005': 'glaux',\n 'tlg0007.tlg006': 'glaux',\n 'tlg0007.tlg007': 'glaux',\n 'tlg0007.tlg008': 'glaux',\n 'tlg0007.tlg009': 'glaux',\n 'tlg0007.tlg010': 'glaux',\n 'tlg0007.tlg011': 'glaux',\n 'tlg0007.tlg012': 'glaux',\n 'tlg0007.tlg013': 'glaux',\n 'tlg0007.tlg014': 'glaux',\n 'tlg0007.tlg015': 'agdt',\n 'tlg0007.tlg016': 'glaux',\n 'tlg0007.tlg017': 'glaux',\n 'tlg0007.tlg018': 'glaux',\n 'tlg0007.tlg019': 'glaux',\n 'tlg0007.tlg020': 'glaux',\n 'tlg0007.tlg021': 'glaux',\n 'tlg0007.tlg022': 'glaux',\n 'tlg0007.tlg023': 'glaux',\n 'tlg0007.tlg024': 'glaux',\n 'tlg0007.tlg025': 'glaux',\n 'tlg0007.tlg026': 'glaux',\n 'tlg0007.tlg027': 'glaux',\n 'tlg0007.tlg028': 'glaux',\n 'tlg0007.tlg029': 'glaux',\n 'tlg0007.tlg030': 'glaux',\n 'tlg0007.tlg031': 'glaux',\n 'tlg0007.tlg032': 'glaux',\n 'tlg0007.tlg033': 'glaux',\n 'tlg0007.tlg034': 'glaux',\n 'tlg0007.tlg035': 'glaux',\n 'tlg0007.tlg036': 'glaux',\n 'tlg0007.tlg037': 'glaux',\n 'tlg0007.tlg038': 'glaux',\n 'tlg0007.tlg039': 'glaux',\n 'tlg0007.tlg040': 'glaux',\n 'tlg0007.tlg041': 'glaux',\n 'tlg0007.tlg042': 'glaux',\n 'tlg0007.tlg043': 'glaux',\n 'tlg0007.tlg044': 'glaux',\n 'tlg0007.tlg045': 'glaux',\n 'tlg0007.tlg046': 'glaux',\n 'tlg0007.tlg047': 'glaux',\n 'tlg0007.tlg048': 'glaux',\n 'tlg0007.tlg049': 'glaux',\n 'tlg0007.tlg050': 'glaux',\n 'tlg0007.tlg053': 'glaux',\n 'tlg0007.tlg054': 'glaux',\n 'tlg0007.tlg055': 'glaux',\n 'tlg0007.tlg056': 'glaux',\n 'tlg0007.tlg057': 'glaux',\n 'tlg0007.tlg058': 'glaux',\n 'tlg0007.tlg059': 'glaux',\n 'tlg0007.tlg060': 'glaux',\n 'tlg0007.tlg061': 'glaux',\n 'tlg0007.tlg062': 'glaux',\n 'tlg0007.tlg063': 'glaux',\n 'tlg0007.tlg064': 'glaux',\n 'tlg0007.tlg065': 'glaux',\n 'tlg0007.tlg066': 'glaux',\n 'tlg0007.tlg072': 'glaux',\n 'tlg0007.tlg073': 'glaux',\n 'tlg0007.tlg074': 'glaux',\n 'tlg0007.tlg075': 'glaux',\n 'tlg0007.tlg081': 'glaux',\n 'tlg0007.tlg082': 'glaux',\n 'tlg0007.tlg082a': 'glaux',\n 'tlg0007.tlg082b': 'glaux',\n 'tlg0007.tlg083': 'glaux',\n 'tlg0007.tlg085': 'glaux',\n 'tlg0007.tlg088': 'glaux',\n 'tlg0008.tlg001': 'glaux',\n 'tlg0010.tlg001': 'glaux',\n 'tlg0010.tlg002': 'glaux',\n 'tlg0010.tlg003': 'glaux',\n 'tlg0010.tlg004': 'glaux',\n 'tlg0010.tlg005': 'glaux',\n 'tlg0010.tlg006': 'glaux',\n 'tlg0010.tlg007': 'glaux',\n 'tlg0010.tlg008': 'glaux',\n 'tlg0010.tlg009': 'glaux',\n 'tlg0010.tlg010': 'glaux',\n 'tlg0010.tlg011': 'glaux',\n 'tlg0010.tlg012': 'glaux',\n 'tlg0010.tlg013': 'glaux',\n 'tlg0010.tlg014': 'glaux',\n 'tlg0010.tlg015': 'glaux',\n 'tlg0010.tlg016': 'glaux',\n 'tlg0010.tlg017': 'glaux',\n 'tlg0010.tlg018': 'glaux',\n 'tlg0010.tlg019': 'glaux',\n 'tlg0010.tlg020': 'glaux',\n 'tlg0010.tlg021': 'glaux',\n 'tlg0010.tlg022': 'glaux',\n 'tlg0010.tlg023': 'glaux',\n 'tlg0010.tlg024': 'glaux',\n 'tlg0010.tlg025': 'glaux',\n 'tlg0010.tlg026': 'glaux',\n 'tlg0010.tlg027': 'glaux',\n 'tlg0010.tlg028': 'glaux',\n 'tlg0010.tlg029': 'glaux',\n 'tlg0010.tlg030': 'glaux',\n 'tlg0011.tlg001': 'agdt',\n 'tlg0011.tlg002': 'agdt',\n 'tlg0011.tlg003': 'agdt',\n 'tlg0011.tlg004': 'agdt',\n 'tlg0011.tlg005': 'agdt',\n 'tlg0011.tlg006': 'glaux',\n 'tlg0011.tlg007': 'glaux',\n 'tlg0011.tlg008': 'glaux',\n 'tlg0012.tlg001': 'agdt',\n 'tlg0012.tlg002': 'agdt',\n 'tlg0012.tlg003': 'glaux',\n 'tlg0013.tlg001': 'glaux',\n 'tlg0013.tlg002': 'agdt',\n 'tlg0013.tlg003': 'glaux',\n 'tlg0013.tlg004': 'glaux',\n 'tlg0013.tlg005': 'glaux',\n 'tlg0013.tlg006': 'glaux',\n 'tlg0013.tlg007': 'glaux',\n 'tlg0013.tlg009': 'glaux',\n 'tlg0013.tlg010': 'glaux',\n 'tlg0013.tlg011': 'glaux',\n 'tlg0013.tlg012': 'glaux',\n 'tlg0013.tlg013': 'glaux',\n 'tlg0013.tlg014': 'glaux',\n 'tlg0013.tlg015': 'glaux',\n 'tlg0013.tlg016': 'glaux',\n 'tlg0013.tlg017': 'glaux',\n 'tlg0013.tlg018': 'glaux',\n 'tlg0013.tlg019': 'glaux',\n 'tlg0013.tlg020': 'glaux',\n 'tlg0013.tlg021': 'glaux',\n 'tlg0013.tlg022': 'glaux',\n 'tlg0013.tlg023': 'glaux',\n 'tlg0013.tlg024': 'glaux',\n 'tlg0013.tlg025': 'glaux',\n 'tlg0013.tlg026': 'glaux',\n 'tlg0013.tlg027': 'glaux',\n 'tlg0013.tlg028': 'glaux',\n 'tlg0013.tlg029': 'glaux',\n 'tlg0013.tlg030': 'glaux',\n 'tlg0013.tlg031': 'glaux',\n 'tlg0013.tlg032': 'glaux',\n 'tlg0013.tlg033': 'glaux',\n 'tlg0014.tlg001': 'glaux',\n 'tlg0014.tlg002': 'glaux',\n 'tlg0014.tlg003': 'glaux',\n 'tlg0014.tlg004': 'glaux',\n 'tlg0014.tlg005': 'glaux',\n 'tlg0014.tlg006': 'glaux',\n 'tlg0014.tlg007': 'glaux',\n 'tlg0014.tlg008': 'glaux',\n 'tlg0014.tlg009': 'glaux',\n 'tlg0014.tlg010': 'glaux',\n 'tlg0014.tlg011': 'glaux',\n 'tlg0014.tlg012': 'glaux',\n 'tlg0014.tlg013': 'glaux',\n 'tlg0014.tlg014': 'glaux',\n 'tlg0014.tlg015': 'glaux',\n 'tlg0014.tlg016': 'glaux',\n 'tlg0014.tlg017': 'glaux',\n 'tlg0014.tlg018': 'glaux',\n 'tlg0014.tlg019': 'glaux',\n 'tlg0014.tlg020': 'glaux',\n 'tlg0014.tlg021': 'glaux',\n 'tlg0014.tlg022': 'glaux',\n 'tlg0014.tlg023': 'glaux',\n 'tlg0014.tlg024': 'glaux',\n 'tlg0014.tlg025': 'glaux',\n 'tlg0014.tlg026': 'glaux',\n 'tlg0014.tlg027': 'glaux',\n 'tlg0014.tlg028': 'glaux',\n 'tlg0014.tlg029': 'glaux',\n 'tlg0014.tlg030': 'glaux',\n 'tlg0014.tlg031': 'glaux',\n 'tlg0014.tlg032': 'glaux',\n 'tlg0014.tlg033': 'glaux',\n 'tlg0014.tlg034': 'glaux',\n 'tlg0014.tlg035': 'glaux',\n 'tlg0014.tlg036': 'glaux',\n 'tlg0014.tlg037': 'glaux',\n 'tlg0014.tlg038': 'glaux',\n 'tlg0014.tlg039': 'glaux',\n 'tlg0014.tlg040': 'glaux',\n 'tlg0014.tlg041': 'glaux',\n 'tlg0014.tlg042': 'glaux',\n 'tlg0014.tlg043': 'glaux',\n 'tlg0014.tlg044': 'glaux',\n 'tlg0014.tlg045': 'glaux',\n 'tlg0014.tlg046': 'glaux',\n 'tlg0014.tlg047': 'glaux',\n 'tlg0014.tlg048': 'glaux',\n 'tlg0014.tlg049': 'glaux',\n 'tlg0014.tlg050': 'glaux',\n 'tlg0014.tlg051': 'glaux',\n 'tlg0014.tlg052': 'glaux',\n 'tlg0014.tlg053': 'glaux',\n 'tlg0014.tlg054': 'glaux',\n 'tlg0014.tlg055': 'glaux',\n 'tlg0014.tlg056': 'glaux',\n 'tlg0014.tlg057': 'glaux',\n 'tlg0014.tlg058': 'glaux',\n 'tlg0014.tlg059': 'glaux',\n 'tlg0014.tlg060': 'glaux',\n 'tlg0014.tlg061': 'glaux',\n 'tlg0016.tlg001': 'glaux',\n 'tlg0017.tlg001': 'glaux',\n 'tlg0017.tlg002': 'glaux',\n 'tlg0017.tlg003': 'glaux',\n 'tlg0017.tlg004': 'glaux',\n 'tlg0017.tlg005': 'glaux',\n 'tlg0017.tlg006': 'glaux',\n 'tlg0017.tlg007': 'glaux',\n 'tlg0017.tlg008': 'glaux',\n 'tlg0017.tlg009': 'glaux',\n 'tlg0017.tlg010': 'glaux',\n 'tlg0017.tlg011': 'glaux',\n 'tlg0017.tlg012': 'glaux',\n 'tlg0019.tlg001': 'glaux',\n 'tlg0019.tlg002': 'glaux',\n 'tlg0019.tlg003': 'glaux',\n 'tlg0019.tlg004': 'glaux',\n 'tlg0019.tlg005': 'glaux',\n 'tlg0019.tlg006': 'glaux',\n 'tlg0019.tlg007': 'glaux',\n 'tlg0019.tlg008': 'glaux',\n 'tlg0019.tlg009': 'glaux',\n 'tlg0019.tlg010': 'glaux',\n 'tlg0019.tlg011': 'glaux',\n 'tlg0020.tlg001': 'agdt',\n 'tlg0020.tlg002': 'agdt',\n 'tlg0020.tlg003': 'agdt',\n 'tlg0023.tlg001': 'glaux',\n 'tlg0024.tlg001': 'glaux',\n 'tlg0026.tlg001': 'glaux',\n 'tlg0026.tlg002': 'glaux',\n 'tlg0026.tlg003': 'glaux',\n 'tlg0027.tlg001': 'glaux',\n 'tlg0027.tlg002': 'glaux',\n 'tlg0027.tlg003': 'glaux',\n 'tlg0027.tlg004': 'glaux',\n 'tlg0028.tlg001': 'glaux',\n 'tlg0028.tlg002': 'glaux',\n 'tlg0028.tlg003': 'glaux',\n 'tlg0028.tlg004': 'glaux',\n 'tlg0028.tlg005': 'glaux',\n 'tlg0028.tlg006': 'glaux',\n 'tlg0029.tlg004': 'glaux',\n 'tlg0029.tlg005': 'glaux',\n 'tlg0029.tlg006': 'glaux',\n 'tlg0030.tlg001': 'glaux',\n 'tlg0030.tlg002': 'glaux',\n 'tlg0030.tlg003': 'glaux',\n 'tlg0030.tlg004': 'glaux',\n 'tlg0030.tlg005': 'glaux',\n 'tlg0030.tlg006': 'glaux',\n 'tlg0032.tlg001': 'glaux',\n 'tlg0032.tlg002': 'glaux',\n 'tlg0032.tlg003': 'glaux',\n 'tlg0032.tlg004': 'glaux',\n 'tlg0032.tlg005': 'glaux',\n 'tlg0032.tlg006': 'glaux',\n 'tlg0032.tlg007': 'glaux',\n 'tlg0032.tlg008': 'glaux',\n 'tlg0032.tlg009': 'glaux',\n 'tlg0032.tlg010': 'glaux',\n 'tlg0032.tlg011': 'glaux',\n 'tlg0032.tlg012': 'glaux',\n 'tlg0032.tlg013': 'glaux',\n 'tlg0032.tlg014': 'glaux',\n 'tlg0033.tlg001': 'glaux',\n 'tlg0033.tlg002': 'glaux',\n 'tlg0033.tlg003': 'glaux',\n 'tlg0033.tlg004': 'glaux',\n 'tlg0034.tlg001': 'glaux',\n 'tlg0035.tlg001': 'glaux',\n 'tlg0035.tlg002': 'glaux',\n 'tlg0035.tlg003': 'glaux',\n 'tlg0035.tlg004': 'glaux',\n 'tlg0035.tlg005': 'glaux',\n 'tlg0036.tlg001': 'glaux',\n 'tlg0036.tlg002': 'glaux',\n 'tlg0036.tlg003': 'glaux',\n 'tlg0057.tlg010': 'glaux',\n 'tlg0058.tlg001': 'glaux',\n 'tlg0059.tlg001': 'agdt',\n 'tlg0059.tlg002': 'glaux',\n 'tlg0059.tlg003': 'glaux',\n 'tlg0059.tlg004': 'glaux',\n 'tlg0059.tlg005': 'glaux',\n 'tlg0059.tlg006': 'glaux',\n 'tlg0059.tlg007': 'glaux',\n 'tlg0059.tlg008': 'glaux',\n 'tlg0059.tlg009': 'glaux',\n 'tlg0059.tlg010': 'glaux',\n 'tlg0059.tlg011': 'glaux',\n 'tlg0059.tlg012': 'glaux',\n 'tlg0059.tlg013': 'glaux',\n 'tlg0059.tlg014': 'glaux',\n 'tlg0059.tlg015': 'glaux',\n 'tlg0059.tlg016': 'glaux',\n 'tlg0059.tlg017': 'glaux',\n 'tlg0059.tlg018': 'glaux',\n 'tlg0059.tlg019': 'glaux',\n 'tlg0059.tlg020': 'glaux',\n 'tlg0059.tlg021': 'glaux',\n 'tlg0059.tlg022': 'glaux',\n 'tlg0059.tlg023': 'glaux',\n 'tlg0059.tlg024': 'glaux',\n 'tlg0059.tlg025': 'glaux',\n 'tlg0059.tlg026': 'glaux',\n 'tlg0059.tlg027': 'glaux',\n 'tlg0059.tlg028': 'glaux',\n 'tlg0059.tlg029': 'glaux',\n 'tlg0059.tlg030': 'glaux',\n 'tlg0059.tlg031': 'glaux',\n 'tlg0059.tlg032': 'glaux',\n 'tlg0059.tlg033': 'glaux',\n 'tlg0059.tlg034': 'glaux',\n 'tlg0059.tlg035': 'glaux',\n 'tlg0059.tlg036': 'glaux',\n 'tlg0060.tlg001': 'glaux',\n 'tlg0062.tlg001': 'glaux',\n 'tlg0062.tlg002': 'glaux',\n 'tlg0062.tlg003': 'glaux',\n 'tlg0062.tlg004': 'glaux',\n 'tlg0062.tlg005': 'glaux',\n 'tlg0062.tlg006': 'glaux',\n 'tlg0062.tlg007': 'glaux',\n 'tlg0062.tlg008': 'glaux',\n 'tlg0062.tlg009': 'glaux',\n 'tlg0062.tlg010': 'glaux',\n 'tlg0062.tlg011': 'glaux',\n 'tlg0062.tlg012': 'glaux',\n 'tlg0062.tlg013': 'glaux',\n 'tlg0062.tlg014': 'glaux',\n 'tlg0062.tlg015': 'glaux',\n 'tlg0062.tlg016': 'glaux',\n 'tlg0062.tlg017': 'glaux',\n 'tlg0062.tlg018': 'glaux',\n 'tlg0062.tlg019': 'glaux',\n 'tlg0062.tlg020': 'glaux',\n 'tlg0062.tlg021': 'glaux',\n 'tlg0062.tlg022': 'glaux',\n 'tlg0062.tlg023': 'glaux',\n 'tlg0062.tlg024': 'glaux',\n 'tlg0062.tlg025': 'glaux',\n 'tlg0062.tlg026': 'glaux',\n 'tlg0062.tlg027': 'glaux',\n 'tlg0062.tlg028': 'glaux',\n 'tlg0062.tlg029': 'glaux',\n 'tlg0062.tlg030': 'glaux',\n 'tlg0062.tlg031': 'glaux',\n 'tlg0062.tlg032': 'glaux',\n 'tlg0062.tlg033': 'glaux',\n 'tlg0062.tlg034': 'glaux',\n 'tlg0062.tlg035': 'glaux',\n 'tlg0062.tlg036': 'glaux',\n 'tlg0062.tlg037': 'glaux',\n 'tlg0062.tlg038': 'glaux',\n 'tlg0062.tlg039': 'glaux',\n 'tlg0062.tlg040': 'glaux',\n 'tlg0062.tlg041': 'glaux',\n 'tlg0062.tlg042': 'glaux',\n 'tlg0062.tlg043': 'glaux',\n 'tlg0062.tlg044': 'glaux',\n 'tlg0062.tlg045': 'glaux',\n 'tlg0062.tlg046': 'glaux',\n 'tlg0062.tlg047': 'glaux',\n 'tlg0062.tlg048': 'glaux',\n 'tlg0062.tlg049': 'glaux',\n 'tlg0062.tlg050': 'glaux',\n 'tlg0062.tlg051': 'glaux',\n 'tlg0062.tlg052': 'glaux',\n 'tlg0062.tlg053': 'glaux',\n 'tlg0062.tlg054': 'glaux',\n 'tlg0062.tlg055': 'glaux',\n 'tlg0062.tlg056': 'glaux',\n 'tlg0062.tlg057': 'glaux',\n 'tlg0062.tlg058': 'glaux',\n 'tlg0062.tlg059': 'glaux',\n 'tlg0062.tlg060': 'glaux',\n 'tlg0062.tlg061': 'glaux',\n 'tlg0062.tlg062': 'glaux',\n 'tlg0062.tlg063': 'glaux',\n 'tlg0062.tlg064': 'glaux',\n 'tlg0062.tlg065': 'glaux',\n 'tlg0062.tlg066': 'glaux',\n 'tlg0062.tlg067': 'glaux',\n 'tlg0062.tlg068': 'glaux',\n 'tlg0062.tlg069': 'glaux',\n 'tlg0062.tlg070': 'glaux',\n 'tlg0062.tlg071': 'glaux',\n 'tlg0074.tlg001': 'glaux',\n 'tlg0074.tlg002': 'glaux',\n 'tlg0074.tlg003': 'glaux',\n 'tlg0074.tlg004': 'glaux',\n 'tlg0074.tlg005': 'glaux',\n 'tlg0074.tlg006': 'glaux',\n 'tlg0081.tlg001': 'glaux',\n 'tlg0081.tlg002': 'glaux',\n 'tlg0081.tlg003': 'glaux',\n 'tlg0081.tlg004': 'glaux',\n 'tlg0081.tlg005': 'glaux',\n 'tlg0081.tlg006': 'glaux',\n 'tlg0081.tlg008': 'glaux',\n 'tlg0081.tlg009': 'glaux',\n 'tlg0081.tlg010': 'glaux',\n 'tlg0081.tlg011': 'glaux',\n 'tlg0081.tlg012': 'glaux',\n 'tlg0081.tlg015': 'glaux',\n 'tlg0085.tlg001': 'agdt',\n 'tlg0085.tlg002': 'agdt',\n 'tlg0085.tlg003': 'agdt',\n 'tlg0085.tlg004': 'agdt',\n 'tlg0085.tlg005': 'agdt',\n 'tlg0085.tlg006': 'agdt',\n 'tlg0085.tlg007': 'agdt',\n 'tlg0086.tlg003': 'glaux',\n 'tlg0086.tlg009': 'glaux',\n 'tlg0086.tlg010': 'glaux',\n 'tlg0086.tlg025': 'glaux',\n 'tlg0086.tlg029': 'glaux',\n 'tlg0086.tlg035': 'glaux',\n 'tlg0086.tlg038': 'glaux',\n 'tlg0086.tlg045': 'glaux',\n 'tlg0093.tlg009': 'glaux',\n 'tlg0094.tlg002': 'glaux',\n 'tlg0099.tlg001': 'glaux',\n 'tlg0199.tlg001': 'glaux',\n 'tlg0199.tlg002': 'glaux',\n 'tlg0284.tlg001': 'glaux',\n 'tlg0284.tlg002': 'glaux',\n 'tlg0284.tlg003': 'glaux',\n 'tlg0284.tlg004': 'glaux',\n 'tlg0284.tlg005': 'glaux',\n 'tlg0284.tlg006': 'glaux',\n 'tlg0284.tlg007': 'glaux',\n 'tlg0284.tlg008': 'glaux',\n 'tlg0284.tlg009': 'glaux',\n 'tlg0284.tlg010': 'glaux',\n 'tlg0284.tlg011': 'glaux',\n 'tlg0284.tlg012': 'glaux',\n 'tlg0284.tlg013': 'glaux',\n 'tlg0284.tlg014': 'glaux',\n 'tlg0284.tlg015': 'glaux',\n 'tlg0284.tlg016': 'glaux',\n 'tlg0284.tlg017': 'glaux',\n 'tlg0284.tlg018': 'glaux',\n 'tlg0284.tlg019': 'glaux',\n 'tlg0284.tlg020': 'glaux',\n 'tlg0284.tlg021': 'glaux',\n 'tlg0284.tlg022': 'glaux',\n 'tlg0284.tlg023': 'glaux',\n 'tlg0284.tlg024': 'glaux',\n 'tlg0284.tlg025': 'glaux',\n 'tlg0284.tlg026': 'glaux',\n 'tlg0284.tlg027': 'glaux',\n 'tlg0284.tlg028': 'glaux',\n 'tlg0284.tlg029': 'glaux',\n 'tlg0284.tlg030': 'glaux',\n 'tlg0284.tlg031': 'glaux',\n 'tlg0284.tlg032': 'glaux',\n 'tlg0284.tlg033': 'glaux',\n 'tlg0284.tlg034': 'glaux',\n 'tlg0284.tlg035': 'glaux',\n 'tlg0284.tlg036': 'glaux',\n 'tlg0284.tlg037': 'glaux',\n 'tlg0284.tlg038': 'glaux',\n 'tlg0284.tlg039': 'glaux',\n 'tlg0284.tlg040': 'glaux',\n 'tlg0284.tlg041': 'glaux',\n 'tlg0284.tlg042': 'glaux',\n 'tlg0284.tlg043': 'glaux',\n 'tlg0284.tlg044': 'glaux',\n 'tlg0284.tlg045': 'glaux',\n 'tlg0284.tlg046': 'glaux',\n 'tlg0284.tlg047': 'glaux',\n 'tlg0284.tlg048': 'glaux',\n 'tlg0284.tlg049': 'glaux',\n 'tlg0284.tlg050': 'glaux',\n 'tlg0284.tlg051': 'glaux',\n 'tlg0284.tlg052': 'glaux',\n 'tlg0284.tlg053': 'glaux',\n 'tlg0284.tlg054': 'glaux',\n 'tlg0284.tlg055': 'glaux',\n 'tlg0284.tlg056': 'glaux',\n 'tlg0341.tlg002': 'glaux',\n 'tlg0385.tlg001': 'glaux',\n 'tlg0525.tlg001': 'glaux',\n 'tlg0526.tlg001': 'glaux',\n 'tlg0526.tlg002': 'glaux',\n 'tlg0526.tlg003': 'glaux',\n 'tlg0526.tlg004': 'glaux',\n 'tlg0532.tlg001': 'glaux',\n 'tlg0533.tlg003': 'glaux',\n 'tlg0533.tlg004': 'glaux',\n 'tlg0533.tlg015': 'glaux',\n 'tlg0533.tlg016': 'glaux',\n 'tlg0533.tlg017': 'glaux',\n 'tlg0533.tlg018': 'glaux',\n 'tlg0533.tlg019': 'glaux',\n 'tlg0533.tlg020': 'glaux',\n 'tlg0535.tlg001': 'glaux',\n 'tlg0540.tlg001': 'agdt',\n 'tlg0540.tlg002': 'glaux',\n 'tlg0540.tlg003': 'glaux',\n 'tlg0540.tlg004': 'glaux',\n 'tlg0540.tlg005': 'glaux',\n 'tlg0540.tlg006': 'glaux',\n 'tlg0540.tlg007': 'glaux',\n 'tlg0540.tlg008': 'glaux',\n 'tlg0540.tlg009': 'glaux',\n 'tlg0540.tlg010': 'glaux',\n 'tlg0540.tlg011': 'glaux',\n 'tlg0540.tlg012': 'glaux',\n 'tlg0540.tlg013': 'glaux',\n 'tlg0540.tlg014': 'agdt',\n 'tlg0540.tlg015': 'agdt',\n 'tlg0540.tlg016': 'glaux',\n 'tlg0540.tlg017': 'glaux',\n 'tlg0540.tlg018': 'glaux',\n 'tlg0540.tlg019': 'glaux',\n 'tlg0540.tlg020': 'glaux',\n 'tlg0540.tlg021': 'glaux',\n 'tlg0540.tlg022': 'glaux',\n 'tlg0540.tlg023': 'agdt',\n 'tlg0540.tlg024': 'glaux',\n 'tlg0540.tlg025': 'glaux',\n 'tlg0540.tlg026': 'glaux',\n 'tlg0540.tlg027': 'glaux',\n 'tlg0540.tlg028': 'glaux',\n 'tlg0540.tlg029': 'glaux',\n 'tlg0540.tlg030': 'glaux',\n 'tlg0540.tlg031': 'glaux',\n 'tlg0540.tlg032': 'glaux',\n 'tlg0540.tlg033': 'glaux',\n 'tlg0540.tlg034': 'glaux',\n 'tlg0543.tlg001': 'glaux',\n 'tlg0545.tlg001': 'glaux',\n 'tlg0545.tlg002': 'glaux',\n 'tlg0545.tlg003': 'glaux',\n 'tlg0548.tlg001': 'glaux',\n 'tlg0548.tlg002': 'glaux',\n 'tlg0551.tlg002': 'glaux',\n 'tlg0551.tlg003': 'glaux',\n 'tlg0551.tlg004': 'glaux',\n 'tlg0551.tlg005': 'glaux',\n 'tlg0551.tlg006': 'glaux',\n 'tlg0551.tlg007': 'glaux',\n 'tlg0551.tlg008': 'glaux',\n 'tlg0551.tlg009': 'glaux',\n 'tlg0551.tlg010': 'glaux',\n 'tlg0551.tlg011': 'glaux',\n 'tlg0551.tlg012': 'glaux',\n 'tlg0551.tlg013': 'glaux',\n 'tlg0551.tlg014': 'glaux',\n 'tlg0551.tlg017': 'glaux',\n 'tlg0554.tlg001': 'glaux',\n 'tlg0555.tlg001': 'glaux',\n 'tlg0555.tlg006': 'glaux',\n 'tlg0555.tlg008': 'glaux',\n 'tlg0556.tlg001': 'glaux',\n 'tlg0557.tlg001': 'glaux',\n 'tlg0557.tlg002': 'glaux',\n 'tlg0557.tlg003': 'glaux',\n 'tlg0560.tlg001': 'glaux',\n 'tlg0561.tlg001': 'glaux',\n 'tlg0562.tlg001': 'glaux',\n 'tlg0613.tlg001': 'glaux',\n 'tlg0627.tlg001': 'glaux',\n 'tlg0627.tlg002': 'glaux',\n 'tlg0627.tlg003': 'glaux',\n 'tlg0627.tlg004': 'glaux',\n 'tlg0627.tlg005': 'glaux',\n 'tlg0627.tlg006': 'glaux',\n 'tlg0627.tlg007': 'glaux',\n 'tlg0627.tlg008': 'glaux',\n 'tlg0627.tlg009': 'glaux',\n 'tlg0627.tlg010': 'glaux',\n 'tlg0627.tlg011': 'glaux',\n 'tlg0627.tlg012': 'glaux',\n 'tlg0627.tlg013': 'glaux',\n 'tlg0627.tlg027': 'glaux',\n 'tlg0627.tlg028': 'glaux',\n 'tlg0627.tlg029': 'glaux',\n 'tlg0627.tlg030': 'glaux',\n 'tlg0627.tlg046': 'glaux',\n 'tlg0627.tlg051': 'glaux',\n 'tlg0638.tlg001': 'glaux',\n 'tlg0638.tlg003': 'glaux',\n 'tlg0638.tlg004': 'glaux',\n 'tlg0638.tlg005': 'glaux',\n 'tlg0638.tlg006': 'glaux',\n 'tlg0638.tlg007': 'glaux',\n 'tlg0641.tlg001': 'glaux',\n 'tlg0648.tlg001': 'glaux',\n 'tlg0653.tlg001': 'glaux',\n 'tlg0655.tlg001': 'glaux',\n 'tlg0719.tlg001': 'glaux',\n 'tlg0719.tlg002': 'glaux',\n 'tlg0719.tlg003': 'glaux',\n 'tlg0719.tlg004': 'glaux',\n 'tlg1216.tlg001': 'glaux',\n 'tlg1389.tlg001': 'glaux',\n 'tlg1600.tlg001': 'glaux',\n 'tlg1799.tlg001': 'glaux',\n 'tlg0007.tlg086': 'gorman',\n 'tlg0007.tlg087': 'gorman',\n 'tlg2003.tlg001': 'pedalion',\n 'tlg0544.tlg002': 'pedalion',\n 'tlg1220.tlg001': 'pedalion',\n 'tlg0006.tlg003': 'pedalion',\n 'tlg4029.tlg001': 'pedalion'}"
     },
     "execution_count": 92,
     "metadata": {},
     "output_type": "execute_result"
    }
   ],
   "source": [
    "lemmata_source_dict"
   ],
   "metadata": {
    "collapsed": false,
    "ExecuteTime": {
     "end_time": "2024-01-16T21:51:53.412466Z",
     "start_time": "2024-01-16T21:51:53.373333Z"
    }
   },
   "execution_count": 92
  },
  {
   "cell_type": "code",
   "outputs": [
    {
     "data": {
      "text/plain": "Index(['author_id', 'doc_id', 'filename', 'author', 'title', 'string',\n       'wordcount', 'source', 'lemmatized_sentences'],\n      dtype='object')"
     },
     "execution_count": 93,
     "metadata": {},
     "output_type": "execute_result"
    }
   ],
   "source": [
    "LAGT.columns"
   ],
   "metadata": {
    "collapsed": false,
    "ExecuteTime": {
     "end_time": "2024-01-16T21:52:43.762642Z",
     "start_time": "2024-01-16T21:52:43.726109Z"
    }
   },
   "execution_count": 93
  },
  {
   "cell_type": "code",
   "outputs": [],
   "source": [
    "LAGT[\"lemmata_source\"] = LAGT[\"doc_id\"].apply(lambda x: lemmata_source_dict[x] if x in lemmata_source_dict.keys() else None)"
   ],
   "metadata": {
    "collapsed": false,
    "ExecuteTime": {
     "end_time": "2024-01-16T21:55:28.331618Z",
     "start_time": "2024-01-16T21:55:28.293688Z"
    }
   },
   "execution_count": 94
  },
  {
   "cell_type": "code",
   "outputs": [
    {
     "data": {
      "text/plain": "951"
     },
     "execution_count": 95,
     "metadata": {},
     "output_type": "execute_result"
    }
   ],
   "source": [
    "LAGT[\"lemmata_source\"].notnull().sum()"
   ],
   "metadata": {
    "collapsed": false,
    "ExecuteTime": {
     "end_time": "2024-01-16T21:55:50.223278Z",
     "start_time": "2024-01-16T21:55:50.190858Z"
    }
   },
   "execution_count": 95
  },
  {
   "cell_type": "code",
   "outputs": [],
   "source": [
    "LAGT.to_json(\"../data/large_files/LAGT_treebanks_20240116.json\")"
   ],
   "metadata": {
    "collapsed": false,
    "ExecuteTime": {
     "end_time": "2024-01-16T21:56:05.587303Z",
     "start_time": "2024-01-16T21:56:04.000766Z"
    }
   },
   "execution_count": 96
  },
  {
   "cell_type": "code",
   "outputs": [
    {
     "name": "stdout",
     "output_type": "stream",
     "text": [
      "Your <class 'pandas.core.frame.DataFrame'> object has been succesfully written as \"https://sciencedata.dk/sharingout/648597%40au.dk/SDAM_root/SDAM_data/AGT/LAGT_treebanks_20240116.json\"\n"
     ]
    }
   ],
   "source": [
    "s.write_file(\"SDAM_data/AGT/LAGT_treebanks_20240116.json\", LAGT)"
   ],
   "metadata": {
    "collapsed": false,
    "ExecuteTime": {
     "end_time": "2024-01-16T21:56:28.780118Z",
     "start_time": "2024-01-16T21:56:05.589724Z"
    }
   },
   "execution_count": 97
  },
  {
   "cell_type": "code",
   "outputs": [],
   "source": [],
   "metadata": {
    "collapsed": false
   }
  }
 ],
 "metadata": {
  "kernelspec": {
   "name": "lagt_kernel",
   "language": "python",
   "display_name": "lagt_kernel"
  },
  "language_info": {
   "codemirror_mode": {
    "name": "ipython",
    "version": 2
   },
   "file_extension": ".py",
   "mimetype": "text/x-python",
   "name": "python",
   "nbconvert_exporter": "python",
   "pygments_lexer": "ipython2",
   "version": "2.7.6"
  }
 },
 "nbformat": 4,
 "nbformat_minor": 0
}
